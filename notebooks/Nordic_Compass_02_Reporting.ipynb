{
 "cells": [
  {
   "cell_type": "markdown",
   "metadata": {},
   "source": [
    "<center><span style=\"font-size:30px; font-weight: bold;\">Nordic Compass Database</span></center>\n",
    "<center><span style=\"font-size:24px;\">Analysis of Environmental Performance and CSRD Compliance</span></center>"
   ]
  },
  {
   "cell_type": "markdown",
   "metadata": {},
   "source": [
    "<center><span style=\"font-size:22px;\"><b>Section 2:</b> Reporting | Gap analysis </span></center>"
   ]
  },
  {
   "cell_type": "markdown",
   "metadata": {},
   "source": [
    "## Introduction to this section"
   ]
  },
  {
   "cell_type": "markdown",
   "metadata": {},
   "source": [
    "In the previous section, I cleaned the original dataset to ensure that all companies were entered under a single name and had a consistent ticker, segment, industry and country. I then removed any duplicates, transformed any anomalous values in Boolean columns (columns that accept only 0 or 1), and set a base year of 2019. All data prior to 2019 were deleted, new columns were added, and the data frame was divided into a reporting_df and an impact_df. \n",
    "\n",
    "In this section, I analyse the reporting_df, which shows how well each company is meeting their environmental reporting requirements under CSRD (based on the available data we have). It is important to note that CSRD came into force in 2024, but the most recent data in the dataset is from 2022.\n",
    "\n",
    "I first explore the dataset to see how reporting varies from one metric to the next. This might be a useful guide to help understand which services might be in demand in the near future. For example, we see that many companies do not disclose details about water discharges. This may be because they find it hard to measure, and therefore will require help to report that metric.\n",
    "\n",
    "I use this to run a gap analysis, which shows the percentage of metrics reported...\n",
    "\n",
    "Finally, I create a score calculator, based on the London Stock Exchange Group's methodology (LSEG, 2024), to give each company an environmental score for a given year. This score calculator is limited by the data available--the Nordic Compass dataset has around 17 relevant columns for measuring a company's environmental score, whereas LSEG used 68 metrics to constitute an environmental score. I also have a limited number of companies in some industries, so it's unreasonable to give an industry-specific score in those industries. Some industries, therefore, have been merged with others. This trade-off would not be required if the dataset was larger. My system is a simplified version, but can be useful for measuring a company's progress on environmental issues and determining companies that are performing well and not so well relative to their competitors.\n",
    "\n",
    "To create the score calculator, I first decide what metrics are material to each industry. This is done using materiality weight, which is calculated...\n",
    "\n",
    "```diff\n",
    "- Insert here...\n",
    "\n",
    "```\n",
    "\n",
    "I then convert that score into an industry-specific rating and an overall rating. The industry-specific rating compares the company's performance in that year to \n",
    "\n",
    "```diff\n",
    "- Insert here...\n",
    "\n",
    "```"
   ]
  },
  {
   "cell_type": "markdown",
   "metadata": {},
   "source": [
    "## Turing College task requirements"
   ]
  },
  {
   "cell_type": "markdown",
   "metadata": {},
   "source": [
    "Congrats! You have reached the last Part of this Sprint. In this Part, you will need to use all that you learned in this and previous Sprints. As the final assignment of this Sprint, you will analyse the Coursera Course Dataset. You will have to apply all that you have learned about Data Visualization & Data Analysis to complete this task. You'll notice that in this project you have fewer explicitly stated requirements. Our expectation is that you'll use your own judgement how to perform the analysis and how to select the most important avenues of exploration. You'll have to iteratively raise hypotheses and use your data analysis skills to get answers.\n",
    "P.S. we don't expect this project to be perfect - you will continue to improve your skills and there will be many projects for you to apply your newly gained skills in the future. For now just use what you have learned and try your best!\n",
    "\n",
    "**Objectives for this Part**\n",
    "\n",
    "- Practice working with data from Kaggle.\n",
    "- Practice performing basic EDA.\n",
    "- Practice visualizing data with Matplotlib & Seaborn or Plotly.\n",
    "- Practice reading data, performing queries and filtering data using Pandas.\n",
    "\n",
    "**Requirements**\n",
    "\n",
    "- Download the data from [Coursera Course Dataset](https://www.kaggle.com/siddharthm1698/coursera-course-dataset).\n",
    "- Load the data using Pandas.\n",
    "- Perform data cleaning.\n",
    "- Perform exploratory data analysis.\n",
    "- Provide clear explanations in your notebook. Your explanations should inform the reader what you are trying to achieve, what results did you get, and what these results mean.\n",
    "- Provide suggestions about how your analysis can be improved.\n",
    "\n",
    "**Evaluation Criteria**\n",
    "\n",
    "- Adherence to the requirements. How well did you meet the requirements?\n",
    "- Visualization quality. Did you use charts effectively to visualize patterns in the data? Are your visualizations properly labeled? Did you use colors effectively? Did you adhere to the principle of proportional ink?\n",
    "- Code quality. Was your code well-structured? Did you use the appropriate levels of abstraction? Did you remove commented out and unused code? Did you adhere to the PEP8?\n",
    "- Code performance. Did you use the suitable algorithms and data structures to solve the problems?"
   ]
  },
  {
   "cell_type": "markdown",
   "metadata": {},
   "source": [
    "## Imports"
   ]
  },
  {
   "cell_type": "code",
   "execution_count": 72,
   "metadata": {},
   "outputs": [],
   "source": [
    "import pandas as pd\n",
    "import numpy as np\n",
    "import sys\n",
    "import os\n",
    "import plotly.graph_objects as go\n",
    "from plotly.subplots import make_subplots\n",
    "from typing import Dict, List, Optional\n",
    "import seaborn as sns\n",
    "import matplotlib.pyplot as plt\n",
    "\n",
    "pd.set_option(\"display.max_columns\", None)\n",
    "pd.set_option(\"display.max_rows\", 200)\n",
    "sys.path.append(os.path.abspath(\"..\"))\n",
    "import random\n",
    "\n",
    "from functions import (\n",
    "    test_company,\n",
    "    show_missing_values,\n",
    "    chart_visualisations,\n",
    "    summarise_boolean_values,\n",
    "    visualisations_by_year,\n",
    "    map_ceo_statements,\n",
    "    calculate_industry_weights,\n",
    "    calculate_company_percentiles,\n",
    "    calculate_raw_score,\n",
    "    calculate_adjusted_score,\n",
    "    assign_rating,\n",
    "    cast_to_rating_category,\n",
    ")\n",
    "\n",
    "from IPython.display import display\n",
    "\n",
    "pd.options.display.float_format = \"{:,.2f}\".format"
   ]
  },
  {
   "cell_type": "code",
   "execution_count": 73,
   "metadata": {},
   "outputs": [],
   "source": [
    "reporting_df = pd.read_csv(\"../datasets/reporting_df_original.csv\")"
   ]
  },
  {
   "cell_type": "code",
   "execution_count": 74,
   "metadata": {},
   "outputs": [],
   "source": [
    "# reporting_df.dtypes"
   ]
  },
  {
   "cell_type": "code",
   "execution_count": 75,
   "metadata": {},
   "outputs": [
    {
     "data": {
      "text/html": [
       "<div>\n",
       "<style scoped>\n",
       "    .dataframe tbody tr th:only-of-type {\n",
       "        vertical-align: middle;\n",
       "    }\n",
       "\n",
       "    .dataframe tbody tr th {\n",
       "        vertical-align: top;\n",
       "    }\n",
       "\n",
       "    .dataframe thead th {\n",
       "        text-align: right;\n",
       "    }\n",
       "</style>\n",
       "<table border=\"1\" class=\"dataframe\">\n",
       "  <thead>\n",
       "    <tr style=\"text-align: right;\">\n",
       "      <th></th>\n",
       "      <th>company</th>\n",
       "      <th>ticker</th>\n",
       "      <th>year</th>\n",
       "      <th>revenue_MEUR</th>\n",
       "      <th>csrd_2025</th>\n",
       "      <th>csrd_2027</th>\n",
       "      <th>segment</th>\n",
       "      <th>industry</th>\n",
       "      <th>hq_country</th>\n",
       "      <th>years_esg_data</th>\n",
       "      <th>base_year</th>\n",
       "      <th>external_audit_of_ESG_report</th>\n",
       "      <th>ceo_sust_statem</th>\n",
       "      <th>environmental_policy_and_assessment</th>\n",
       "      <th>environmental_performance_targets</th>\n",
       "      <th>reduced_environmental_impact</th>\n",
       "      <th>increased_renewable_energy</th>\n",
       "      <th>disclosure_of_raw_material_use</th>\n",
       "      <th>resource_efficiency_target</th>\n",
       "      <th>disclosure_of_water_discharges</th>\n",
       "      <th>supplier_guidelines</th>\n",
       "      <th>disclosure_of_suppliers_audited</th>\n",
       "      <th>disclosure_of_supplier_evaluation_procedures</th>\n",
       "      <th>supplier_environmental_assessment</th>\n",
       "      <th>energy_consump_bool</th>\n",
       "      <th>water_withdraw_bool</th>\n",
       "      <th>ghg_emis_bool</th>\n",
       "      <th>transport_emis_bool</th>\n",
       "    </tr>\n",
       "  </thead>\n",
       "  <tbody>\n",
       "    <tr>\n",
       "      <th>0</th>\n",
       "      <td>Archer Ltd.</td>\n",
       "      <td>ARCHO</td>\n",
       "      <td>2020</td>\n",
       "      <td>735.71</td>\n",
       "      <td>1</td>\n",
       "      <td>0</td>\n",
       "      <td>Mid</td>\n",
       "      <td>Energy and Utilities</td>\n",
       "      <td>Norway</td>\n",
       "      <td>1</td>\n",
       "      <td>2020</td>\n",
       "      <td>1</td>\n",
       "      <td>1</td>\n",
       "      <td>1</td>\n",
       "      <td>1</td>\n",
       "      <td>1</td>\n",
       "      <td>0</td>\n",
       "      <td>0</td>\n",
       "      <td>1</td>\n",
       "      <td>0</td>\n",
       "      <td>1</td>\n",
       "      <td>1</td>\n",
       "      <td>0</td>\n",
       "      <td>0</td>\n",
       "      <td>1</td>\n",
       "      <td>0</td>\n",
       "      <td>0</td>\n",
       "      <td>0</td>\n",
       "    </tr>\n",
       "    <tr>\n",
       "      <th>1</th>\n",
       "      <td>AutoStore Holdings Ltd.</td>\n",
       "      <td>AUTO</td>\n",
       "      <td>2021</td>\n",
       "      <td>292.50</td>\n",
       "      <td>0</td>\n",
       "      <td>1</td>\n",
       "      <td>Large</td>\n",
       "      <td>Industrial Goods and Services</td>\n",
       "      <td>Bermuda</td>\n",
       "      <td>1</td>\n",
       "      <td>2021</td>\n",
       "      <td>0</td>\n",
       "      <td>1</td>\n",
       "      <td>1</td>\n",
       "      <td>0</td>\n",
       "      <td>1</td>\n",
       "      <td>0</td>\n",
       "      <td>1</td>\n",
       "      <td>0</td>\n",
       "      <td>0</td>\n",
       "      <td>1</td>\n",
       "      <td>0</td>\n",
       "      <td>1</td>\n",
       "      <td>0</td>\n",
       "      <td>0</td>\n",
       "      <td>0</td>\n",
       "      <td>1</td>\n",
       "      <td>1</td>\n",
       "    </tr>\n",
       "    <tr>\n",
       "      <th>2</th>\n",
       "      <td>Avance Gas Holding ltd</td>\n",
       "      <td>AGAS</td>\n",
       "      <td>2019</td>\n",
       "      <td>223.59</td>\n",
       "      <td>0</td>\n",
       "      <td>1</td>\n",
       "      <td>Mid</td>\n",
       "      <td>Energy and Utilities</td>\n",
       "      <td>Norway</td>\n",
       "      <td>2</td>\n",
       "      <td>2019</td>\n",
       "      <td>0</td>\n",
       "      <td>1</td>\n",
       "      <td>1</td>\n",
       "      <td>1</td>\n",
       "      <td>1</td>\n",
       "      <td>0</td>\n",
       "      <td>0</td>\n",
       "      <td>0</td>\n",
       "      <td>0</td>\n",
       "      <td>0</td>\n",
       "      <td>0</td>\n",
       "      <td>0</td>\n",
       "      <td>0</td>\n",
       "      <td>0</td>\n",
       "      <td>0</td>\n",
       "      <td>0</td>\n",
       "      <td>0</td>\n",
       "    </tr>\n",
       "    <tr>\n",
       "      <th>3</th>\n",
       "      <td>Avance Gas Holding ltd</td>\n",
       "      <td>AGAS</td>\n",
       "      <td>2020</td>\n",
       "      <td>183.68</td>\n",
       "      <td>0</td>\n",
       "      <td>0</td>\n",
       "      <td>Mid</td>\n",
       "      <td>Energy and Utilities</td>\n",
       "      <td>Norway</td>\n",
       "      <td>2</td>\n",
       "      <td>2019</td>\n",
       "      <td>1</td>\n",
       "      <td>1</td>\n",
       "      <td>1</td>\n",
       "      <td>1</td>\n",
       "      <td>1</td>\n",
       "      <td>0</td>\n",
       "      <td>0</td>\n",
       "      <td>1</td>\n",
       "      <td>0</td>\n",
       "      <td>1</td>\n",
       "      <td>0</td>\n",
       "      <td>0</td>\n",
       "      <td>0</td>\n",
       "      <td>1</td>\n",
       "      <td>0</td>\n",
       "      <td>0</td>\n",
       "      <td>0</td>\n",
       "    </tr>\n",
       "    <tr>\n",
       "      <th>4</th>\n",
       "      <td>Borr Drilling Ltd</td>\n",
       "      <td>BDRILL</td>\n",
       "      <td>2019</td>\n",
       "      <td>291.85</td>\n",
       "      <td>1</td>\n",
       "      <td>0</td>\n",
       "      <td>Mid</td>\n",
       "      <td>Energy and Utilities</td>\n",
       "      <td>Bermuda</td>\n",
       "      <td>4</td>\n",
       "      <td>2019</td>\n",
       "      <td>0</td>\n",
       "      <td>0</td>\n",
       "      <td>1</td>\n",
       "      <td>0</td>\n",
       "      <td>1</td>\n",
       "      <td>0</td>\n",
       "      <td>0</td>\n",
       "      <td>1</td>\n",
       "      <td>0</td>\n",
       "      <td>1</td>\n",
       "      <td>0</td>\n",
       "      <td>0</td>\n",
       "      <td>0</td>\n",
       "      <td>1</td>\n",
       "      <td>0</td>\n",
       "      <td>1</td>\n",
       "      <td>1</td>\n",
       "    </tr>\n",
       "    <tr>\n",
       "      <th>...</th>\n",
       "      <td>...</td>\n",
       "      <td>...</td>\n",
       "      <td>...</td>\n",
       "      <td>...</td>\n",
       "      <td>...</td>\n",
       "      <td>...</td>\n",
       "      <td>...</td>\n",
       "      <td>...</td>\n",
       "      <td>...</td>\n",
       "      <td>...</td>\n",
       "      <td>...</td>\n",
       "      <td>...</td>\n",
       "      <td>...</td>\n",
       "      <td>...</td>\n",
       "      <td>...</td>\n",
       "      <td>...</td>\n",
       "      <td>...</td>\n",
       "      <td>...</td>\n",
       "      <td>...</td>\n",
       "      <td>...</td>\n",
       "      <td>...</td>\n",
       "      <td>...</td>\n",
       "      <td>...</td>\n",
       "      <td>...</td>\n",
       "      <td>...</td>\n",
       "      <td>...</td>\n",
       "      <td>...</td>\n",
       "      <td>...</td>\n",
       "    </tr>\n",
       "    <tr>\n",
       "      <th>1832</th>\n",
       "      <td>Betsson AB</td>\n",
       "      <td>BETS</td>\n",
       "      <td>2022</td>\n",
       "      <td>777.20</td>\n",
       "      <td>1</td>\n",
       "      <td>0</td>\n",
       "      <td>Mid</td>\n",
       "      <td>Other</td>\n",
       "      <td>Sweden</td>\n",
       "      <td>4</td>\n",
       "      <td>2019</td>\n",
       "      <td>0</td>\n",
       "      <td>0</td>\n",
       "      <td>1</td>\n",
       "      <td>1</td>\n",
       "      <td>1</td>\n",
       "      <td>0</td>\n",
       "      <td>0</td>\n",
       "      <td>0</td>\n",
       "      <td>0</td>\n",
       "      <td>1</td>\n",
       "      <td>0</td>\n",
       "      <td>0</td>\n",
       "      <td>1</td>\n",
       "      <td>1</td>\n",
       "      <td>0</td>\n",
       "      <td>0</td>\n",
       "      <td>0</td>\n",
       "    </tr>\n",
       "    <tr>\n",
       "      <th>1833</th>\n",
       "      <td>Karnov Group AB</td>\n",
       "      <td>KAR</td>\n",
       "      <td>2020</td>\n",
       "      <td>73.45</td>\n",
       "      <td>0</td>\n",
       "      <td>1</td>\n",
       "      <td>Mid</td>\n",
       "      <td>Consumer Goods and Services</td>\n",
       "      <td>Sweden</td>\n",
       "      <td>4</td>\n",
       "      <td>2019</td>\n",
       "      <td>0</td>\n",
       "      <td>0</td>\n",
       "      <td>1</td>\n",
       "      <td>1</td>\n",
       "      <td>1</td>\n",
       "      <td>0</td>\n",
       "      <td>0</td>\n",
       "      <td>0</td>\n",
       "      <td>0</td>\n",
       "      <td>1</td>\n",
       "      <td>0</td>\n",
       "      <td>0</td>\n",
       "      <td>1</td>\n",
       "      <td>0</td>\n",
       "      <td>0</td>\n",
       "      <td>0</td>\n",
       "      <td>0</td>\n",
       "    </tr>\n",
       "    <tr>\n",
       "      <th>1834</th>\n",
       "      <td>Blackstone Inc. (formerly: G4S plc)</td>\n",
       "      <td>BX</td>\n",
       "      <td>2022</td>\n",
       "      <td>8,088.58</td>\n",
       "      <td>1</td>\n",
       "      <td>0</td>\n",
       "      <td>Large</td>\n",
       "      <td>Finance</td>\n",
       "      <td>United States</td>\n",
       "      <td>1</td>\n",
       "      <td>2022</td>\n",
       "      <td>0</td>\n",
       "      <td>0</td>\n",
       "      <td>1</td>\n",
       "      <td>1</td>\n",
       "      <td>1</td>\n",
       "      <td>0</td>\n",
       "      <td>0</td>\n",
       "      <td>0</td>\n",
       "      <td>0</td>\n",
       "      <td>1</td>\n",
       "      <td>0</td>\n",
       "      <td>0</td>\n",
       "      <td>1</td>\n",
       "      <td>0</td>\n",
       "      <td>0</td>\n",
       "      <td>0</td>\n",
       "      <td>0</td>\n",
       "    </tr>\n",
       "    <tr>\n",
       "      <th>1835</th>\n",
       "      <td>Gaming Innovation Group Inc</td>\n",
       "      <td>GIG</td>\n",
       "      <td>2020</td>\n",
       "      <td>63.03</td>\n",
       "      <td>0</td>\n",
       "      <td>1</td>\n",
       "      <td>Mid</td>\n",
       "      <td>Technology</td>\n",
       "      <td>Malta</td>\n",
       "      <td>2</td>\n",
       "      <td>2019</td>\n",
       "      <td>1</td>\n",
       "      <td>1</td>\n",
       "      <td>1</td>\n",
       "      <td>1</td>\n",
       "      <td>1</td>\n",
       "      <td>1</td>\n",
       "      <td>0</td>\n",
       "      <td>1</td>\n",
       "      <td>0</td>\n",
       "      <td>0</td>\n",
       "      <td>0</td>\n",
       "      <td>0</td>\n",
       "      <td>0</td>\n",
       "      <td>0</td>\n",
       "      <td>0</td>\n",
       "      <td>0</td>\n",
       "      <td>0</td>\n",
       "    </tr>\n",
       "    <tr>\n",
       "      <th>1836</th>\n",
       "      <td>Gaming Innovation Group Inc</td>\n",
       "      <td>GIG</td>\n",
       "      <td>2019</td>\n",
       "      <td>44.05</td>\n",
       "      <td>0</td>\n",
       "      <td>1</td>\n",
       "      <td>Mid</td>\n",
       "      <td>Technology</td>\n",
       "      <td>Malta</td>\n",
       "      <td>2</td>\n",
       "      <td>2019</td>\n",
       "      <td>0</td>\n",
       "      <td>1</td>\n",
       "      <td>1</td>\n",
       "      <td>0</td>\n",
       "      <td>1</td>\n",
       "      <td>1</td>\n",
       "      <td>0</td>\n",
       "      <td>0</td>\n",
       "      <td>0</td>\n",
       "      <td>0</td>\n",
       "      <td>0</td>\n",
       "      <td>0</td>\n",
       "      <td>0</td>\n",
       "      <td>0</td>\n",
       "      <td>0</td>\n",
       "      <td>0</td>\n",
       "      <td>0</td>\n",
       "    </tr>\n",
       "  </tbody>\n",
       "</table>\n",
       "<p>1837 rows × 28 columns</p>\n",
       "</div>"
      ],
      "text/plain": [
       "                                  company  ticker  year  revenue_MEUR  \\\n",
       "0                             Archer Ltd.   ARCHO  2020        735.71   \n",
       "1                 AutoStore Holdings Ltd.    AUTO  2021        292.50   \n",
       "2                  Avance Gas Holding ltd    AGAS  2019        223.59   \n",
       "3                  Avance Gas Holding ltd    AGAS  2020        183.68   \n",
       "4                       Borr Drilling Ltd  BDRILL  2019        291.85   \n",
       "...                                   ...     ...   ...           ...   \n",
       "1832                           Betsson AB    BETS  2022        777.20   \n",
       "1833                      Karnov Group AB     KAR  2020         73.45   \n",
       "1834  Blackstone Inc. (formerly: G4S plc)      BX  2022      8,088.58   \n",
       "1835          Gaming Innovation Group Inc     GIG  2020         63.03   \n",
       "1836          Gaming Innovation Group Inc     GIG  2019         44.05   \n",
       "\n",
       "      csrd_2025  csrd_2027 segment                       industry  \\\n",
       "0             1          0     Mid           Energy and Utilities   \n",
       "1             0          1   Large  Industrial Goods and Services   \n",
       "2             0          1     Mid           Energy and Utilities   \n",
       "3             0          0     Mid           Energy and Utilities   \n",
       "4             1          0     Mid           Energy and Utilities   \n",
       "...         ...        ...     ...                            ...   \n",
       "1832          1          0     Mid                          Other   \n",
       "1833          0          1     Mid    Consumer Goods and Services   \n",
       "1834          1          0   Large                        Finance   \n",
       "1835          0          1     Mid                     Technology   \n",
       "1836          0          1     Mid                     Technology   \n",
       "\n",
       "         hq_country  years_esg_data  base_year  external_audit_of_ESG_report  \\\n",
       "0            Norway               1       2020                             1   \n",
       "1           Bermuda               1       2021                             0   \n",
       "2            Norway               2       2019                             0   \n",
       "3            Norway               2       2019                             1   \n",
       "4           Bermuda               4       2019                             0   \n",
       "...             ...             ...        ...                           ...   \n",
       "1832         Sweden               4       2019                             0   \n",
       "1833         Sweden               4       2019                             0   \n",
       "1834  United States               1       2022                             0   \n",
       "1835          Malta               2       2019                             1   \n",
       "1836          Malta               2       2019                             0   \n",
       "\n",
       "      ceo_sust_statem  environmental_policy_and_assessment  \\\n",
       "0                   1                                    1   \n",
       "1                   1                                    1   \n",
       "2                   1                                    1   \n",
       "3                   1                                    1   \n",
       "4                   0                                    1   \n",
       "...               ...                                  ...   \n",
       "1832                0                                    1   \n",
       "1833                0                                    1   \n",
       "1834                0                                    1   \n",
       "1835                1                                    1   \n",
       "1836                1                                    1   \n",
       "\n",
       "      environmental_performance_targets  reduced_environmental_impact  \\\n",
       "0                                     1                             1   \n",
       "1                                     0                             1   \n",
       "2                                     1                             1   \n",
       "3                                     1                             1   \n",
       "4                                     0                             1   \n",
       "...                                 ...                           ...   \n",
       "1832                                  1                             1   \n",
       "1833                                  1                             1   \n",
       "1834                                  1                             1   \n",
       "1835                                  1                             1   \n",
       "1836                                  0                             1   \n",
       "\n",
       "      increased_renewable_energy  disclosure_of_raw_material_use  \\\n",
       "0                              0                               0   \n",
       "1                              0                               1   \n",
       "2                              0                               0   \n",
       "3                              0                               0   \n",
       "4                              0                               0   \n",
       "...                          ...                             ...   \n",
       "1832                           0                               0   \n",
       "1833                           0                               0   \n",
       "1834                           0                               0   \n",
       "1835                           1                               0   \n",
       "1836                           1                               0   \n",
       "\n",
       "      resource_efficiency_target  disclosure_of_water_discharges  \\\n",
       "0                              1                               0   \n",
       "1                              0                               0   \n",
       "2                              0                               0   \n",
       "3                              1                               0   \n",
       "4                              1                               0   \n",
       "...                          ...                             ...   \n",
       "1832                           0                               0   \n",
       "1833                           0                               0   \n",
       "1834                           0                               0   \n",
       "1835                           1                               0   \n",
       "1836                           0                               0   \n",
       "\n",
       "      supplier_guidelines  disclosure_of_suppliers_audited  \\\n",
       "0                       1                                1   \n",
       "1                       1                                0   \n",
       "2                       0                                0   \n",
       "3                       1                                0   \n",
       "4                       1                                0   \n",
       "...                   ...                              ...   \n",
       "1832                    1                                0   \n",
       "1833                    1                                0   \n",
       "1834                    1                                0   \n",
       "1835                    0                                0   \n",
       "1836                    0                                0   \n",
       "\n",
       "      disclosure_of_supplier_evaluation_procedures  \\\n",
       "0                                                0   \n",
       "1                                                1   \n",
       "2                                                0   \n",
       "3                                                0   \n",
       "4                                                0   \n",
       "...                                            ...   \n",
       "1832                                             0   \n",
       "1833                                             0   \n",
       "1834                                             0   \n",
       "1835                                             0   \n",
       "1836                                             0   \n",
       "\n",
       "      supplier_environmental_assessment  energy_consump_bool  \\\n",
       "0                                     0                    1   \n",
       "1                                     0                    0   \n",
       "2                                     0                    0   \n",
       "3                                     0                    1   \n",
       "4                                     0                    1   \n",
       "...                                 ...                  ...   \n",
       "1832                                  1                    1   \n",
       "1833                                  1                    0   \n",
       "1834                                  1                    0   \n",
       "1835                                  0                    0   \n",
       "1836                                  0                    0   \n",
       "\n",
       "      water_withdraw_bool  ghg_emis_bool  transport_emis_bool  \n",
       "0                       0              0                    0  \n",
       "1                       0              1                    1  \n",
       "2                       0              0                    0  \n",
       "3                       0              0                    0  \n",
       "4                       0              1                    1  \n",
       "...                   ...            ...                  ...  \n",
       "1832                    0              0                    0  \n",
       "1833                    0              0                    0  \n",
       "1834                    0              0                    0  \n",
       "1835                    0              0                    0  \n",
       "1836                    0              0                    0  \n",
       "\n",
       "[1837 rows x 28 columns]"
      ]
     },
     "execution_count": 75,
     "metadata": {},
     "output_type": "execute_result"
    }
   ],
   "source": [
    "reporting_df"
   ]
  },
  {
   "cell_type": "markdown",
   "metadata": {},
   "source": [
    "## Exploratory Data Analysis"
   ]
  },
  {
   "cell_type": "markdown",
   "metadata": {},
   "source": [
    "I define the columns to be used for visualisation. Some columns, such as 'company' or 'ticker', are excluded."
   ]
  },
  {
   "cell_type": "code",
   "execution_count": 76,
   "metadata": {},
   "outputs": [],
   "source": [
    "object_columns = [\n",
    "    \"year\",\n",
    "    \"segment\",\n",
    "    \"industry\",\n",
    "    \"hq_country\",\n",
    "    \"years_esg_data\",\n",
    "    \"base_year\",\n",
    "    \"revenue_MEUR\",\n",
    "]\n",
    "\n",
    "boolean_columns = [\n",
    "    \"csrd_2025\",\n",
    "    \"csrd_2027\",\n",
    "    \"external_audit_of_ESG_report\",\n",
    "    \"ceo_sust_statem\",\n",
    "    \"environmental_policy_and_assessment\",\n",
    "    \"environmental_performance_targets\",\n",
    "    \"reduced_environmental_impact\",\n",
    "    \"increased_renewable_energy\",\n",
    "    \"disclosure_of_raw_material_use\",\n",
    "    \"resource_efficiency_target\",\n",
    "    \"disclosure_of_water_discharges\",\n",
    "    \"supplier_guidelines\",\n",
    "    \"disclosure_of_suppliers_audited\",\n",
    "    \"disclosure_of_supplier_evaluation_procedures\",\n",
    "    \"supplier_environmental_assessment\",\n",
    "    \"energy_consump_bool\",\n",
    "    \"water_withdraw_bool\",\n",
    "    \"ghg_emis_bool\",\n",
    "    \"transport_emis_bool\",\n",
    "]\n",
    "\n",
    "\n",
    "columns_for_viz = object_columns + boolean_columns"
   ]
  },
  {
   "cell_type": "markdown",
   "metadata": {},
   "source": [
    "I first visualise all relevant columns to get an idea of the dataset's distribution. I then visualise by year, to see if there is any observable progress from one year to the next. Display mode can be toggled between 'count' and 'percentage'. Data from fewer companies are available in 2022 relative to other years, so percentage may be a more suitable option to compare company performance from year to year.\n",
    "\n",
    "Noticeably, some columns seem to be missing data. 'CEO_sust_statem', for example is almost completely missing from the 2022 data, suggesting a problem with the data collection."
   ]
  },
  {
   "cell_type": "code",
   "execution_count": 77,
   "metadata": {},
   "outputs": [],
   "source": [
    "# chart_visualisations(reporting_df, columns_for_viz)"
   ]
  },
  {
   "cell_type": "code",
   "execution_count": 78,
   "metadata": {},
   "outputs": [
    {
     "data": {
      "application/vnd.plotly.v1+json": {
       "config": {
        "plotlyServerURL": "https://plot.ly"
       },
       "data": [
        {
         "marker": {
          "color": "rgb(6,212,124)"
         },
         "name": "1",
         "showlegend": false,
         "type": "bar",
         "x": [
          "2019",
          "2020",
          "2021",
          "2022"
         ],
         "xaxis": "x",
         "y": [
          61.52263374485597,
          58.65580448065173,
          62.87015945330297,
          60.33254156769596
         ],
         "yaxis": "y"
        },
        {
         "marker": {
          "color": "rgb(254,240,205)"
         },
         "name": "0",
         "showlegend": false,
         "type": "bar",
         "x": [
          "2019",
          "2020",
          "2021",
          "2022"
         ],
         "xaxis": "x",
         "y": [
          38.477366255144034,
          41.34419551934827,
          37.12984054669704,
          39.66745843230404
         ],
         "yaxis": "y"
        },
        {
         "marker": {
          "color": "rgb(6,212,124)"
         },
         "name": "1",
         "showlegend": false,
         "type": "bar",
         "x": [
          "2019",
          "2020",
          "2021",
          "2022"
         ],
         "xaxis": "x2",
         "y": [
          33.744855967078195,
          34.623217922606926,
          32.346241457858774,
          31.353919239904986
         ],
         "yaxis": "y2"
        },
        {
         "marker": {
          "color": "rgb(254,240,205)"
         },
         "name": "0",
         "showlegend": false,
         "type": "bar",
         "x": [
          "2019",
          "2020",
          "2021",
          "2022"
         ],
         "xaxis": "x2",
         "y": [
          66.2551440329218,
          65.37678207739307,
          67.65375854214123,
          68.646080760095
         ],
         "yaxis": "y2"
        },
        {
         "marker": {
          "color": "rgb(6,212,124)"
         },
         "name": "1",
         "showlegend": false,
         "type": "bar",
         "x": [
          "2019",
          "2020",
          "2021",
          "2022"
         ],
         "xaxis": "x3",
         "y": [
          41.9753086419753,
          40.32586558044807,
          46.46924829157175,
          30.641330166270787
         ],
         "yaxis": "y3"
        },
        {
         "marker": {
          "color": "rgb(254,240,205)"
         },
         "name": "0",
         "showlegend": false,
         "type": "bar",
         "x": [
          "2019",
          "2020",
          "2021",
          "2022"
         ],
         "xaxis": "x3",
         "y": [
          58.0246913580247,
          59.67413441955194,
          53.53075170842825,
          69.35866983372921
         ],
         "yaxis": "y3"
        },
        {
         "marker": {
          "color": "rgb(6,212,124)"
         },
         "name": "1",
         "showlegend": false,
         "type": "bar",
         "x": [
          "2019",
          "2020",
          "2021",
          "2022"
         ],
         "xaxis": "x4",
         "y": [
          64.81481481481481,
          76.17107942973523,
          83.82687927107062,
          0.23752969121140144
         ],
         "yaxis": "y4"
        },
        {
         "marker": {
          "color": "rgb(254,240,205)"
         },
         "name": "0",
         "showlegend": false,
         "type": "bar",
         "x": [
          "2019",
          "2020",
          "2021",
          "2022"
         ],
         "xaxis": "x4",
         "y": [
          35.18518518518518,
          23.828920570264767,
          16.173120728929387,
          99.7624703087886
         ],
         "yaxis": "y4"
        },
        {
         "marker": {
          "color": "rgb(6,212,124)"
         },
         "name": "1",
         "showlegend": false,
         "type": "bar",
         "x": [
          "2019",
          "2020",
          "2021",
          "2022"
         ],
         "xaxis": "x5",
         "y": [
          92.5925925925926,
          93.68635437881873,
          89.749430523918,
          86.93586698337292
         ],
         "yaxis": "y5"
        },
        {
         "marker": {
          "color": "rgb(254,240,205)"
         },
         "name": "0",
         "showlegend": false,
         "type": "bar",
         "x": [
          "2019",
          "2020",
          "2021",
          "2022"
         ],
         "xaxis": "x5",
         "y": [
          7.4074074074074066,
          6.313645621181263,
          10.250569476082005,
          13.064133016627078
         ],
         "yaxis": "y5"
        },
        {
         "marker": {
          "color": "rgb(6,212,124)"
         },
         "name": "1",
         "showlegend": false,
         "type": "bar",
         "x": [
          "2019",
          "2020",
          "2021",
          "2022"
         ],
         "xaxis": "x6",
         "y": [
          75.1028806584362,
          81.26272912423626,
          77.90432801822324,
          82.6603325415677
         ],
         "yaxis": "y6"
        },
        {
         "marker": {
          "color": "rgb(254,240,205)"
         },
         "name": "0",
         "showlegend": false,
         "type": "bar",
         "x": [
          "2019",
          "2020",
          "2021",
          "2022"
         ],
         "xaxis": "x6",
         "y": [
          24.897119341563787,
          18.73727087576375,
          22.095671981776764,
          17.339667458432302
         ],
         "yaxis": "y6"
        },
        {
         "marker": {
          "color": "rgb(6,212,124)"
         },
         "name": "1",
         "showlegend": false,
         "type": "bar",
         "x": [
          "2019",
          "2020",
          "2021",
          "2022"
         ],
         "xaxis": "x7",
         "y": [
          87.86008230452676,
          89.40936863543789,
          88.15489749430525,
          89.78622327790974
         ],
         "yaxis": "y7"
        },
        {
         "marker": {
          "color": "rgb(254,240,205)"
         },
         "name": "0",
         "showlegend": false,
         "type": "bar",
         "x": [
          "2019",
          "2020",
          "2021",
          "2022"
         ],
         "xaxis": "x7",
         "y": [
          12.139917695473251,
          10.590631364562118,
          11.845102505694761,
          10.21377672209026
         ],
         "yaxis": "y7"
        },
        {
         "marker": {
          "color": "rgb(6,212,124)"
         },
         "name": "1",
         "showlegend": false,
         "type": "bar",
         "x": [
          "2019",
          "2020",
          "2021",
          "2022"
         ],
         "xaxis": "x8",
         "y": [
          26.337448559670783,
          33.401221995926676,
          38.26879271070615,
          39.66745843230404
         ],
         "yaxis": "y8"
        },
        {
         "marker": {
          "color": "rgb(254,240,205)"
         },
         "name": "0",
         "showlegend": false,
         "type": "bar",
         "x": [
          "2019",
          "2020",
          "2021",
          "2022"
         ],
         "xaxis": "x8",
         "y": [
          73.66255144032921,
          66.59877800407332,
          61.731207289293856,
          60.33254156769596
         ],
         "yaxis": "y8"
        },
        {
         "marker": {
          "color": "rgb(6,212,124)"
         },
         "name": "1",
         "showlegend": false,
         "type": "bar",
         "x": [
          "2019",
          "2020",
          "2021",
          "2022"
         ],
         "xaxis": "x9",
         "y": [
          14.814814814814813,
          16.4969450101833,
          15.945330296127564,
          15.201900237529692
         ],
         "yaxis": "y9"
        },
        {
         "marker": {
          "color": "rgb(254,240,205)"
         },
         "name": "0",
         "showlegend": false,
         "type": "bar",
         "x": [
          "2019",
          "2020",
          "2021",
          "2022"
         ],
         "xaxis": "x9",
         "y": [
          85.18518518518519,
          83.5030549898167,
          84.05466970387245,
          84.79809976247031
         ],
         "yaxis": "y9"
        },
        {
         "marker": {
          "color": "rgb(6,212,124)"
         },
         "name": "1",
         "showlegend": false,
         "type": "bar",
         "x": [
          "2019",
          "2020",
          "2021",
          "2022"
         ],
         "xaxis": "x10",
         "y": [
          48.971193415637856,
          61.5071283095723,
          46.24145785876993,
          52.96912114014252
         ],
         "yaxis": "y10"
        },
        {
         "marker": {
          "color": "rgb(254,240,205)"
         },
         "name": "0",
         "showlegend": false,
         "type": "bar",
         "x": [
          "2019",
          "2020",
          "2021",
          "2022"
         ],
         "xaxis": "x10",
         "y": [
          51.028806584362144,
          38.4928716904277,
          53.75854214123007,
          47.03087885985748
         ],
         "yaxis": "y10"
        },
        {
         "marker": {
          "color": "rgb(6,212,124)"
         },
         "name": "1",
         "showlegend": false,
         "type": "bar",
         "x": [
          "2019",
          "2020",
          "2021",
          "2022"
         ],
         "xaxis": "x11",
         "y": [
          10.2880658436214,
          9.572301425661914,
          7.517084282460136,
          9.263657957244655
         ],
         "yaxis": "y11"
        },
        {
         "marker": {
          "color": "rgb(254,240,205)"
         },
         "name": "0",
         "showlegend": false,
         "type": "bar",
         "x": [
          "2019",
          "2020",
          "2021",
          "2022"
         ],
         "xaxis": "x11",
         "y": [
          89.7119341563786,
          90.4276985743381,
          92.48291571753985,
          90.73634204275535
         ],
         "yaxis": "y11"
        },
        {
         "marker": {
          "color": "rgb(6,212,124)"
         },
         "name": "1",
         "showlegend": false,
         "type": "bar",
         "x": [
          "2019",
          "2020",
          "2021",
          "2022"
         ],
         "xaxis": "x12",
         "y": [
          75.30864197530865,
          82.68839103869654,
          83.82687927107062,
          83.6104513064133
         ],
         "yaxis": "y12"
        },
        {
         "marker": {
          "color": "rgb(254,240,205)"
         },
         "name": "0",
         "showlegend": false,
         "type": "bar",
         "x": [
          "2019",
          "2020",
          "2021",
          "2022"
         ],
         "xaxis": "x12",
         "y": [
          24.691358024691358,
          17.311608961303463,
          16.173120728929387,
          16.389548693586697
         ],
         "yaxis": "y12"
        },
        {
         "marker": {
          "color": "rgb(6,212,124)"
         },
         "name": "1",
         "showlegend": false,
         "type": "bar",
         "x": [
          "2019",
          "2020",
          "2021",
          "2022"
         ],
         "xaxis": "x13",
         "y": [
          35.80246913580247,
          34.0122199592668,
          36.21867881548975,
          33.4916864608076
         ],
         "yaxis": "y13"
        },
        {
         "marker": {
          "color": "rgb(254,240,205)"
         },
         "name": "0",
         "showlegend": false,
         "type": "bar",
         "x": [
          "2019",
          "2020",
          "2021",
          "2022"
         ],
         "xaxis": "x13",
         "y": [
          64.19753086419753,
          65.9877800407332,
          63.781321184510254,
          66.5083135391924
         ],
         "yaxis": "y13"
        },
        {
         "marker": {
          "color": "rgb(6,212,124)"
         },
         "name": "1",
         "showlegend": false,
         "type": "bar",
         "x": [
          "2019",
          "2020",
          "2021",
          "2022"
         ],
         "xaxis": "x14",
         "y": [
          33.95061728395062,
          38.90020366598778,
          42.8246013667426,
          39.66745843230404
         ],
         "yaxis": "y14"
        },
        {
         "marker": {
          "color": "rgb(254,240,205)"
         },
         "name": "0",
         "showlegend": false,
         "type": "bar",
         "x": [
          "2019",
          "2020",
          "2021",
          "2022"
         ],
         "xaxis": "x14",
         "y": [
          66.0493827160494,
          61.099796334012225,
          57.1753986332574,
          60.33254156769596
         ],
         "yaxis": "y14"
        },
        {
         "marker": {
          "color": "rgb(6,212,124)"
         },
         "name": "1",
         "showlegend": false,
         "type": "bar",
         "x": [
          "2019",
          "2020",
          "2021",
          "2022"
         ],
         "xaxis": "x15",
         "y": [
          62.139917695473244,
          67.0061099796334,
          69.24829157175398,
          71.02137767220903
         ],
         "yaxis": "y15"
        },
        {
         "marker": {
          "color": "rgb(254,240,205)"
         },
         "name": "0",
         "showlegend": false,
         "type": "bar",
         "x": [
          "2019",
          "2020",
          "2021",
          "2022"
         ],
         "xaxis": "x15",
         "y": [
          37.86008230452675,
          32.9938900203666,
          30.751708428246015,
          28.978622327790976
         ],
         "yaxis": "y15"
        },
        {
         "marker": {
          "color": "rgb(6,212,124)"
         },
         "name": "1",
         "showlegend": false,
         "type": "bar",
         "x": [
          "2019",
          "2020",
          "2021",
          "2022"
         ],
         "xaxis": "x16",
         "y": [
          52.05761316872428,
          61.710794297352344,
          61.04783599088838,
          67.6959619952494
         ],
         "yaxis": "y16"
        },
        {
         "marker": {
          "color": "rgb(254,240,205)"
         },
         "name": "0",
         "showlegend": false,
         "type": "bar",
         "x": [
          "2019",
          "2020",
          "2021",
          "2022"
         ],
         "xaxis": "x16",
         "y": [
          47.94238683127572,
          38.289205702647656,
          38.95216400911162,
          32.304038004750595
         ],
         "yaxis": "y16"
        },
        {
         "marker": {
          "color": "rgb(6,212,124)"
         },
         "name": "1",
         "showlegend": false,
         "type": "bar",
         "x": [
          "2019",
          "2020",
          "2021",
          "2022"
         ],
         "xaxis": "x17",
         "y": [
          30.45267489711934,
          32.382892057026474,
          39.63553530751708,
          39.66745843230404
         ],
         "yaxis": "y17"
        },
        {
         "marker": {
          "color": "rgb(254,240,205)"
         },
         "name": "0",
         "showlegend": false,
         "type": "bar",
         "x": [
          "2019",
          "2020",
          "2021",
          "2022"
         ],
         "xaxis": "x17",
         "y": [
          69.54732510288066,
          67.61710794297352,
          60.36446469248291,
          60.33254156769596
         ],
         "yaxis": "y17"
        },
        {
         "marker": {
          "color": "rgb(6,212,124)"
         },
         "name": "1",
         "showlegend": false,
         "type": "bar",
         "x": [
          "2019",
          "2020",
          "2021",
          "2022"
         ],
         "xaxis": "x18",
         "y": [
          53.90946502057613,
          61.30346232179226,
          74.94305239179954,
          80.76009501187649
         ],
         "yaxis": "y18"
        },
        {
         "marker": {
          "color": "rgb(254,240,205)"
         },
         "name": "0",
         "showlegend": false,
         "type": "bar",
         "x": [
          "2019",
          "2020",
          "2021",
          "2022"
         ],
         "xaxis": "x18",
         "y": [
          46.09053497942387,
          38.69653767820774,
          25.05694760820046,
          19.239904988123516
         ],
         "yaxis": "y18"
        },
        {
         "marker": {
          "color": "rgb(6,212,124)"
         },
         "name": "1",
         "showlegend": false,
         "type": "bar",
         "x": [
          "2019",
          "2020",
          "2021",
          "2022"
         ],
         "xaxis": "x19",
         "y": [
          35.390946502057616,
          45.010183299389,
          61.04783599088838,
          67.6959619952494
         ],
         "yaxis": "y19"
        },
        {
         "marker": {
          "color": "rgb(254,240,205)"
         },
         "name": "0",
         "showlegend": false,
         "type": "bar",
         "x": [
          "2019",
          "2020",
          "2021",
          "2022"
         ],
         "xaxis": "x19",
         "y": [
          64.60905349794238,
          54.989816700610994,
          38.95216400911162,
          32.304038004750595
         ],
         "yaxis": "y19"
        }
       ],
       "layout": {
        "annotations": [
         {
          "font": {
           "size": 16
          },
          "showarrow": false,
          "text": "csrd_2025",
          "x": 0.225,
          "xanchor": "center",
          "xref": "paper",
          "y": 1,
          "yanchor": "bottom",
          "yref": "paper"
         },
         {
          "font": {
           "size": 16
          },
          "showarrow": false,
          "text": "csrd_2027",
          "x": 0.775,
          "xanchor": "center",
          "xref": "paper",
          "y": 1,
          "yanchor": "bottom",
          "yref": "paper"
         },
         {
          "font": {
           "size": 16
          },
          "showarrow": false,
          "text": "external_audit_of_ESG_report",
          "x": 0.225,
          "xanchor": "center",
          "xref": "paper",
          "y": 0.8950000000000001,
          "yanchor": "bottom",
          "yref": "paper"
         },
         {
          "font": {
           "size": 16
          },
          "showarrow": false,
          "text": "ceo_sust_statem",
          "x": 0.775,
          "xanchor": "center",
          "xref": "paper",
          "y": 0.8950000000000001,
          "yanchor": "bottom",
          "yref": "paper"
         },
         {
          "font": {
           "size": 16
          },
          "showarrow": false,
          "text": "environmental_policy_and_assessment",
          "x": 0.225,
          "xanchor": "center",
          "xref": "paper",
          "y": 0.7900000000000001,
          "yanchor": "bottom",
          "yref": "paper"
         },
         {
          "font": {
           "size": 16
          },
          "showarrow": false,
          "text": "environmental_performance_targets",
          "x": 0.775,
          "xanchor": "center",
          "xref": "paper",
          "y": 0.7900000000000001,
          "yanchor": "bottom",
          "yref": "paper"
         },
         {
          "font": {
           "size": 16
          },
          "showarrow": false,
          "text": "reduced_environmental_impact",
          "x": 0.225,
          "xanchor": "center",
          "xref": "paper",
          "y": 0.6850000000000002,
          "yanchor": "bottom",
          "yref": "paper"
         },
         {
          "font": {
           "size": 16
          },
          "showarrow": false,
          "text": "increased_renewable_energy",
          "x": 0.775,
          "xanchor": "center",
          "xref": "paper",
          "y": 0.6850000000000002,
          "yanchor": "bottom",
          "yref": "paper"
         },
         {
          "font": {
           "size": 16
          },
          "showarrow": false,
          "text": "disclosure_of_raw_material_use",
          "x": 0.225,
          "xanchor": "center",
          "xref": "paper",
          "y": 0.5800000000000001,
          "yanchor": "bottom",
          "yref": "paper"
         },
         {
          "font": {
           "size": 16
          },
          "showarrow": false,
          "text": "resource_efficiency_target",
          "x": 0.775,
          "xanchor": "center",
          "xref": "paper",
          "y": 0.5800000000000001,
          "yanchor": "bottom",
          "yref": "paper"
         },
         {
          "font": {
           "size": 16
          },
          "showarrow": false,
          "text": "disclosure_of_water_discharges",
          "x": 0.225,
          "xanchor": "center",
          "xref": "paper",
          "y": 0.47500000000000003,
          "yanchor": "bottom",
          "yref": "paper"
         },
         {
          "font": {
           "size": 16
          },
          "showarrow": false,
          "text": "supplier_guidelines",
          "x": 0.775,
          "xanchor": "center",
          "xref": "paper",
          "y": 0.47500000000000003,
          "yanchor": "bottom",
          "yref": "paper"
         },
         {
          "font": {
           "size": 16
          },
          "showarrow": false,
          "text": "disclosure_of_suppliers_audited",
          "x": 0.225,
          "xanchor": "center",
          "xref": "paper",
          "y": 0.37000000000000005,
          "yanchor": "bottom",
          "yref": "paper"
         },
         {
          "font": {
           "size": 16
          },
          "showarrow": false,
          "text": "disclosure_of_supplier_evaluation_procedures",
          "x": 0.775,
          "xanchor": "center",
          "xref": "paper",
          "y": 0.37000000000000005,
          "yanchor": "bottom",
          "yref": "paper"
         },
         {
          "font": {
           "size": 16
          },
          "showarrow": false,
          "text": "supplier_environmental_assessment",
          "x": 0.225,
          "xanchor": "center",
          "xref": "paper",
          "y": 0.265,
          "yanchor": "bottom",
          "yref": "paper"
         },
         {
          "font": {
           "size": 16
          },
          "showarrow": false,
          "text": "energy_consump_bool",
          "x": 0.775,
          "xanchor": "center",
          "xref": "paper",
          "y": 0.265,
          "yanchor": "bottom",
          "yref": "paper"
         },
         {
          "font": {
           "size": 16
          },
          "showarrow": false,
          "text": "water_withdraw_bool",
          "x": 0.225,
          "xanchor": "center",
          "xref": "paper",
          "y": 0.16000000000000003,
          "yanchor": "bottom",
          "yref": "paper"
         },
         {
          "font": {
           "size": 16
          },
          "showarrow": false,
          "text": "ghg_emis_bool",
          "x": 0.775,
          "xanchor": "center",
          "xref": "paper",
          "y": 0.16000000000000003,
          "yanchor": "bottom",
          "yref": "paper"
         },
         {
          "font": {
           "size": 16
          },
          "showarrow": false,
          "text": "transport_emis_bool",
          "x": 0.225,
          "xanchor": "center",
          "xref": "paper",
          "y": 0.05500000000000001,
          "yanchor": "bottom",
          "yref": "paper"
         }
        ],
        "barmode": "stack",
        "height": 4000,
        "showlegend": false,
        "template": {
         "data": {
          "bar": [
           {
            "error_x": {
             "color": "#2a3f5f"
            },
            "error_y": {
             "color": "#2a3f5f"
            },
            "marker": {
             "line": {
              "color": "white",
              "width": 0.5
             },
             "pattern": {
              "fillmode": "overlay",
              "size": 10,
              "solidity": 0.2
             }
            },
            "type": "bar"
           }
          ],
          "barpolar": [
           {
            "marker": {
             "line": {
              "color": "white",
              "width": 0.5
             },
             "pattern": {
              "fillmode": "overlay",
              "size": 10,
              "solidity": 0.2
             }
            },
            "type": "barpolar"
           }
          ],
          "carpet": [
           {
            "aaxis": {
             "endlinecolor": "#2a3f5f",
             "gridcolor": "#C8D4E3",
             "linecolor": "#C8D4E3",
             "minorgridcolor": "#C8D4E3",
             "startlinecolor": "#2a3f5f"
            },
            "baxis": {
             "endlinecolor": "#2a3f5f",
             "gridcolor": "#C8D4E3",
             "linecolor": "#C8D4E3",
             "minorgridcolor": "#C8D4E3",
             "startlinecolor": "#2a3f5f"
            },
            "type": "carpet"
           }
          ],
          "choropleth": [
           {
            "colorbar": {
             "outlinewidth": 0,
             "ticks": ""
            },
            "type": "choropleth"
           }
          ],
          "contour": [
           {
            "colorbar": {
             "outlinewidth": 0,
             "ticks": ""
            },
            "colorscale": [
             [
              0,
              "#0d0887"
             ],
             [
              0.1111111111111111,
              "#46039f"
             ],
             [
              0.2222222222222222,
              "#7201a8"
             ],
             [
              0.3333333333333333,
              "#9c179e"
             ],
             [
              0.4444444444444444,
              "#bd3786"
             ],
             [
              0.5555555555555556,
              "#d8576b"
             ],
             [
              0.6666666666666666,
              "#ed7953"
             ],
             [
              0.7777777777777778,
              "#fb9f3a"
             ],
             [
              0.8888888888888888,
              "#fdca26"
             ],
             [
              1,
              "#f0f921"
             ]
            ],
            "type": "contour"
           }
          ],
          "contourcarpet": [
           {
            "colorbar": {
             "outlinewidth": 0,
             "ticks": ""
            },
            "type": "contourcarpet"
           }
          ],
          "heatmap": [
           {
            "colorbar": {
             "outlinewidth": 0,
             "ticks": ""
            },
            "colorscale": [
             [
              0,
              "#0d0887"
             ],
             [
              0.1111111111111111,
              "#46039f"
             ],
             [
              0.2222222222222222,
              "#7201a8"
             ],
             [
              0.3333333333333333,
              "#9c179e"
             ],
             [
              0.4444444444444444,
              "#bd3786"
             ],
             [
              0.5555555555555556,
              "#d8576b"
             ],
             [
              0.6666666666666666,
              "#ed7953"
             ],
             [
              0.7777777777777778,
              "#fb9f3a"
             ],
             [
              0.8888888888888888,
              "#fdca26"
             ],
             [
              1,
              "#f0f921"
             ]
            ],
            "type": "heatmap"
           }
          ],
          "heatmapgl": [
           {
            "colorbar": {
             "outlinewidth": 0,
             "ticks": ""
            },
            "colorscale": [
             [
              0,
              "#0d0887"
             ],
             [
              0.1111111111111111,
              "#46039f"
             ],
             [
              0.2222222222222222,
              "#7201a8"
             ],
             [
              0.3333333333333333,
              "#9c179e"
             ],
             [
              0.4444444444444444,
              "#bd3786"
             ],
             [
              0.5555555555555556,
              "#d8576b"
             ],
             [
              0.6666666666666666,
              "#ed7953"
             ],
             [
              0.7777777777777778,
              "#fb9f3a"
             ],
             [
              0.8888888888888888,
              "#fdca26"
             ],
             [
              1,
              "#f0f921"
             ]
            ],
            "type": "heatmapgl"
           }
          ],
          "histogram": [
           {
            "marker": {
             "pattern": {
              "fillmode": "overlay",
              "size": 10,
              "solidity": 0.2
             }
            },
            "type": "histogram"
           }
          ],
          "histogram2d": [
           {
            "colorbar": {
             "outlinewidth": 0,
             "ticks": ""
            },
            "colorscale": [
             [
              0,
              "#0d0887"
             ],
             [
              0.1111111111111111,
              "#46039f"
             ],
             [
              0.2222222222222222,
              "#7201a8"
             ],
             [
              0.3333333333333333,
              "#9c179e"
             ],
             [
              0.4444444444444444,
              "#bd3786"
             ],
             [
              0.5555555555555556,
              "#d8576b"
             ],
             [
              0.6666666666666666,
              "#ed7953"
             ],
             [
              0.7777777777777778,
              "#fb9f3a"
             ],
             [
              0.8888888888888888,
              "#fdca26"
             ],
             [
              1,
              "#f0f921"
             ]
            ],
            "type": "histogram2d"
           }
          ],
          "histogram2dcontour": [
           {
            "colorbar": {
             "outlinewidth": 0,
             "ticks": ""
            },
            "colorscale": [
             [
              0,
              "#0d0887"
             ],
             [
              0.1111111111111111,
              "#46039f"
             ],
             [
              0.2222222222222222,
              "#7201a8"
             ],
             [
              0.3333333333333333,
              "#9c179e"
             ],
             [
              0.4444444444444444,
              "#bd3786"
             ],
             [
              0.5555555555555556,
              "#d8576b"
             ],
             [
              0.6666666666666666,
              "#ed7953"
             ],
             [
              0.7777777777777778,
              "#fb9f3a"
             ],
             [
              0.8888888888888888,
              "#fdca26"
             ],
             [
              1,
              "#f0f921"
             ]
            ],
            "type": "histogram2dcontour"
           }
          ],
          "mesh3d": [
           {
            "colorbar": {
             "outlinewidth": 0,
             "ticks": ""
            },
            "type": "mesh3d"
           }
          ],
          "parcoords": [
           {
            "line": {
             "colorbar": {
              "outlinewidth": 0,
              "ticks": ""
             }
            },
            "type": "parcoords"
           }
          ],
          "pie": [
           {
            "automargin": true,
            "type": "pie"
           }
          ],
          "scatter": [
           {
            "fillpattern": {
             "fillmode": "overlay",
             "size": 10,
             "solidity": 0.2
            },
            "type": "scatter"
           }
          ],
          "scatter3d": [
           {
            "line": {
             "colorbar": {
              "outlinewidth": 0,
              "ticks": ""
             }
            },
            "marker": {
             "colorbar": {
              "outlinewidth": 0,
              "ticks": ""
             }
            },
            "type": "scatter3d"
           }
          ],
          "scattercarpet": [
           {
            "marker": {
             "colorbar": {
              "outlinewidth": 0,
              "ticks": ""
             }
            },
            "type": "scattercarpet"
           }
          ],
          "scattergeo": [
           {
            "marker": {
             "colorbar": {
              "outlinewidth": 0,
              "ticks": ""
             }
            },
            "type": "scattergeo"
           }
          ],
          "scattergl": [
           {
            "marker": {
             "colorbar": {
              "outlinewidth": 0,
              "ticks": ""
             }
            },
            "type": "scattergl"
           }
          ],
          "scattermapbox": [
           {
            "marker": {
             "colorbar": {
              "outlinewidth": 0,
              "ticks": ""
             }
            },
            "type": "scattermapbox"
           }
          ],
          "scatterpolar": [
           {
            "marker": {
             "colorbar": {
              "outlinewidth": 0,
              "ticks": ""
             }
            },
            "type": "scatterpolar"
           }
          ],
          "scatterpolargl": [
           {
            "marker": {
             "colorbar": {
              "outlinewidth": 0,
              "ticks": ""
             }
            },
            "type": "scatterpolargl"
           }
          ],
          "scatterternary": [
           {
            "marker": {
             "colorbar": {
              "outlinewidth": 0,
              "ticks": ""
             }
            },
            "type": "scatterternary"
           }
          ],
          "surface": [
           {
            "colorbar": {
             "outlinewidth": 0,
             "ticks": ""
            },
            "colorscale": [
             [
              0,
              "#0d0887"
             ],
             [
              0.1111111111111111,
              "#46039f"
             ],
             [
              0.2222222222222222,
              "#7201a8"
             ],
             [
              0.3333333333333333,
              "#9c179e"
             ],
             [
              0.4444444444444444,
              "#bd3786"
             ],
             [
              0.5555555555555556,
              "#d8576b"
             ],
             [
              0.6666666666666666,
              "#ed7953"
             ],
             [
              0.7777777777777778,
              "#fb9f3a"
             ],
             [
              0.8888888888888888,
              "#fdca26"
             ],
             [
              1,
              "#f0f921"
             ]
            ],
            "type": "surface"
           }
          ],
          "table": [
           {
            "cells": {
             "fill": {
              "color": "#EBF0F8"
             },
             "line": {
              "color": "white"
             }
            },
            "header": {
             "fill": {
              "color": "#C8D4E3"
             },
             "line": {
              "color": "white"
             }
            },
            "type": "table"
           }
          ]
         },
         "layout": {
          "annotationdefaults": {
           "arrowcolor": "#2a3f5f",
           "arrowhead": 0,
           "arrowwidth": 1
          },
          "autotypenumbers": "strict",
          "coloraxis": {
           "colorbar": {
            "outlinewidth": 0,
            "ticks": ""
           }
          },
          "colorscale": {
           "diverging": [
            [
             0,
             "#8e0152"
            ],
            [
             0.1,
             "#c51b7d"
            ],
            [
             0.2,
             "#de77ae"
            ],
            [
             0.3,
             "#f1b6da"
            ],
            [
             0.4,
             "#fde0ef"
            ],
            [
             0.5,
             "#f7f7f7"
            ],
            [
             0.6,
             "#e6f5d0"
            ],
            [
             0.7,
             "#b8e186"
            ],
            [
             0.8,
             "#7fbc41"
            ],
            [
             0.9,
             "#4d9221"
            ],
            [
             1,
             "#276419"
            ]
           ],
           "sequential": [
            [
             0,
             "#0d0887"
            ],
            [
             0.1111111111111111,
             "#46039f"
            ],
            [
             0.2222222222222222,
             "#7201a8"
            ],
            [
             0.3333333333333333,
             "#9c179e"
            ],
            [
             0.4444444444444444,
             "#bd3786"
            ],
            [
             0.5555555555555556,
             "#d8576b"
            ],
            [
             0.6666666666666666,
             "#ed7953"
            ],
            [
             0.7777777777777778,
             "#fb9f3a"
            ],
            [
             0.8888888888888888,
             "#fdca26"
            ],
            [
             1,
             "#f0f921"
            ]
           ],
           "sequentialminus": [
            [
             0,
             "#0d0887"
            ],
            [
             0.1111111111111111,
             "#46039f"
            ],
            [
             0.2222222222222222,
             "#7201a8"
            ],
            [
             0.3333333333333333,
             "#9c179e"
            ],
            [
             0.4444444444444444,
             "#bd3786"
            ],
            [
             0.5555555555555556,
             "#d8576b"
            ],
            [
             0.6666666666666666,
             "#ed7953"
            ],
            [
             0.7777777777777778,
             "#fb9f3a"
            ],
            [
             0.8888888888888888,
             "#fdca26"
            ],
            [
             1,
             "#f0f921"
            ]
           ]
          },
          "colorway": [
           "#636efa",
           "#EF553B",
           "#00cc96",
           "#ab63fa",
           "#FFA15A",
           "#19d3f3",
           "#FF6692",
           "#B6E880",
           "#FF97FF",
           "#FECB52"
          ],
          "font": {
           "color": "#2a3f5f"
          },
          "geo": {
           "bgcolor": "white",
           "lakecolor": "white",
           "landcolor": "white",
           "showlakes": true,
           "showland": true,
           "subunitcolor": "#C8D4E3"
          },
          "hoverlabel": {
           "align": "left"
          },
          "hovermode": "closest",
          "mapbox": {
           "style": "light"
          },
          "paper_bgcolor": "white",
          "plot_bgcolor": "white",
          "polar": {
           "angularaxis": {
            "gridcolor": "#EBF0F8",
            "linecolor": "#EBF0F8",
            "ticks": ""
           },
           "bgcolor": "white",
           "radialaxis": {
            "gridcolor": "#EBF0F8",
            "linecolor": "#EBF0F8",
            "ticks": ""
           }
          },
          "scene": {
           "xaxis": {
            "backgroundcolor": "white",
            "gridcolor": "#DFE8F3",
            "gridwidth": 2,
            "linecolor": "#EBF0F8",
            "showbackground": true,
            "ticks": "",
            "zerolinecolor": "#EBF0F8"
           },
           "yaxis": {
            "backgroundcolor": "white",
            "gridcolor": "#DFE8F3",
            "gridwidth": 2,
            "linecolor": "#EBF0F8",
            "showbackground": true,
            "ticks": "",
            "zerolinecolor": "#EBF0F8"
           },
           "zaxis": {
            "backgroundcolor": "white",
            "gridcolor": "#DFE8F3",
            "gridwidth": 2,
            "linecolor": "#EBF0F8",
            "showbackground": true,
            "ticks": "",
            "zerolinecolor": "#EBF0F8"
           }
          },
          "shapedefaults": {
           "line": {
            "color": "#2a3f5f"
           }
          },
          "ternary": {
           "aaxis": {
            "gridcolor": "#DFE8F3",
            "linecolor": "#A2B1C6",
            "ticks": ""
           },
           "baxis": {
            "gridcolor": "#DFE8F3",
            "linecolor": "#A2B1C6",
            "ticks": ""
           },
           "bgcolor": "white",
           "caxis": {
            "gridcolor": "#DFE8F3",
            "linecolor": "#A2B1C6",
            "ticks": ""
           }
          },
          "title": {
           "x": 0.05
          },
          "xaxis": {
           "automargin": true,
           "gridcolor": "#EBF0F8",
           "linecolor": "#EBF0F8",
           "ticks": "",
           "title": {
            "standoff": 15
           },
           "zerolinecolor": "#EBF0F8",
           "zerolinewidth": 2
          },
          "yaxis": {
           "automargin": true,
           "gridcolor": "#EBF0F8",
           "linecolor": "#EBF0F8",
           "ticks": "",
           "title": {
            "standoff": 15
           },
           "zerolinecolor": "#EBF0F8",
           "zerolinewidth": 2
          }
         }
        },
        "title": {
         "text": "\n            <span style='color: rgb(6,212,124);'>Reported (1)</span><span style='color: black;'> | </span><span style='color: rgb(254,240,205);'>Not reported (0)</span>\n            ",
         "x": 0.5,
         "xanchor": "center",
         "y": 0.995,
         "yanchor": "top"
        },
        "width": 1200,
        "xaxis": {
         "anchor": "y",
         "domain": [
          0,
          0.45
         ]
        },
        "xaxis10": {
         "anchor": "y10",
         "domain": [
          0.55,
          1
         ]
        },
        "xaxis11": {
         "anchor": "y11",
         "domain": [
          0,
          0.45
         ]
        },
        "xaxis12": {
         "anchor": "y12",
         "domain": [
          0.55,
          1
         ]
        },
        "xaxis13": {
         "anchor": "y13",
         "domain": [
          0,
          0.45
         ]
        },
        "xaxis14": {
         "anchor": "y14",
         "domain": [
          0.55,
          1
         ]
        },
        "xaxis15": {
         "anchor": "y15",
         "domain": [
          0,
          0.45
         ]
        },
        "xaxis16": {
         "anchor": "y16",
         "domain": [
          0.55,
          1
         ]
        },
        "xaxis17": {
         "anchor": "y17",
         "domain": [
          0,
          0.45
         ]
        },
        "xaxis18": {
         "anchor": "y18",
         "domain": [
          0.55,
          1
         ]
        },
        "xaxis19": {
         "anchor": "y19",
         "domain": [
          0,
          0.45
         ]
        },
        "xaxis2": {
         "anchor": "y2",
         "domain": [
          0.55,
          1
         ]
        },
        "xaxis20": {
         "anchor": "y20",
         "domain": [
          0.55,
          1
         ]
        },
        "xaxis3": {
         "anchor": "y3",
         "domain": [
          0,
          0.45
         ]
        },
        "xaxis4": {
         "anchor": "y4",
         "domain": [
          0.55,
          1
         ]
        },
        "xaxis5": {
         "anchor": "y5",
         "domain": [
          0,
          0.45
         ]
        },
        "xaxis6": {
         "anchor": "y6",
         "domain": [
          0.55,
          1
         ]
        },
        "xaxis7": {
         "anchor": "y7",
         "domain": [
          0,
          0.45
         ]
        },
        "xaxis8": {
         "anchor": "y8",
         "domain": [
          0.55,
          1
         ]
        },
        "xaxis9": {
         "anchor": "y9",
         "domain": [
          0,
          0.45
         ]
        },
        "yaxis": {
         "anchor": "x",
         "domain": [
          0.9450000000000001,
          1
         ],
         "tickformat": ".1f%",
         "title": {
          "text": "Percentage"
         }
        },
        "yaxis10": {
         "anchor": "x10",
         "domain": [
          0.525,
          0.5800000000000001
         ]
        },
        "yaxis11": {
         "anchor": "x11",
         "domain": [
          0.42000000000000004,
          0.47500000000000003
         ]
        },
        "yaxis12": {
         "anchor": "x12",
         "domain": [
          0.42000000000000004,
          0.47500000000000003
         ]
        },
        "yaxis13": {
         "anchor": "x13",
         "domain": [
          0.31500000000000006,
          0.37000000000000005
         ]
        },
        "yaxis14": {
         "anchor": "x14",
         "domain": [
          0.31500000000000006,
          0.37000000000000005
         ]
        },
        "yaxis15": {
         "anchor": "x15",
         "domain": [
          0.21000000000000002,
          0.265
         ]
        },
        "yaxis16": {
         "anchor": "x16",
         "domain": [
          0.21000000000000002,
          0.265
         ]
        },
        "yaxis17": {
         "anchor": "x17",
         "domain": [
          0.10500000000000001,
          0.16000000000000003
         ]
        },
        "yaxis18": {
         "anchor": "x18",
         "domain": [
          0.10500000000000001,
          0.16000000000000003
         ]
        },
        "yaxis19": {
         "anchor": "x19",
         "domain": [
          0,
          0.05500000000000001
         ]
        },
        "yaxis2": {
         "anchor": "x2",
         "domain": [
          0.9450000000000001,
          1
         ]
        },
        "yaxis20": {
         "anchor": "x20",
         "domain": [
          0,
          0.05500000000000001
         ]
        },
        "yaxis3": {
         "anchor": "x3",
         "domain": [
          0.8400000000000001,
          0.8950000000000001
         ]
        },
        "yaxis4": {
         "anchor": "x4",
         "domain": [
          0.8400000000000001,
          0.8950000000000001
         ]
        },
        "yaxis5": {
         "anchor": "x5",
         "domain": [
          0.7350000000000001,
          0.7900000000000001
         ]
        },
        "yaxis6": {
         "anchor": "x6",
         "domain": [
          0.7350000000000001,
          0.7900000000000001
         ]
        },
        "yaxis7": {
         "anchor": "x7",
         "domain": [
          0.6300000000000001,
          0.6850000000000002
         ]
        },
        "yaxis8": {
         "anchor": "x8",
         "domain": [
          0.6300000000000001,
          0.6850000000000002
         ]
        },
        "yaxis9": {
         "anchor": "x9",
         "domain": [
          0.525,
          0.5800000000000001
         ]
        }
       }
      }
     },
     "metadata": {},
     "output_type": "display_data"
    }
   ],
   "source": [
    "visualisations_by_year(reporting_df, boolean_columns, display_mode=\"percentage\")"
   ]
  },
  {
   "cell_type": "markdown",
   "metadata": {},
   "source": [
    "I group the data by industry and summarise the mean values for each year in the table below. Columns with high mean values indicate a high number of companies reporting this metric. "
   ]
  },
  {
   "cell_type": "code",
   "execution_count": 79,
   "metadata": {},
   "outputs": [],
   "source": [
    "# summarise_boolean_values(reporting_df, boolean_columns, [\"year\", \"industry\"])"
   ]
  },
  {
   "cell_type": "markdown",
   "metadata": {},
   "source": [
    "To handle missing data from 2022, I extrapolate all 'CEO_sust_statem' data from 2021."
   ]
  },
  {
   "cell_type": "code",
   "execution_count": 80,
   "metadata": {},
   "outputs": [
    {
     "data": {
      "text/html": [
       "<div>\n",
       "<style scoped>\n",
       "    .dataframe tbody tr th:only-of-type {\n",
       "        vertical-align: middle;\n",
       "    }\n",
       "\n",
       "    .dataframe tbody tr th {\n",
       "        vertical-align: top;\n",
       "    }\n",
       "\n",
       "    .dataframe thead th {\n",
       "        text-align: right;\n",
       "    }\n",
       "</style>\n",
       "<table border=\"1\" class=\"dataframe\">\n",
       "  <thead>\n",
       "    <tr style=\"text-align: right;\">\n",
       "      <th></th>\n",
       "      <th>company</th>\n",
       "      <th>ticker</th>\n",
       "      <th>year</th>\n",
       "      <th>revenue_MEUR</th>\n",
       "      <th>csrd_2025</th>\n",
       "      <th>csrd_2027</th>\n",
       "      <th>segment</th>\n",
       "      <th>industry</th>\n",
       "      <th>hq_country</th>\n",
       "      <th>years_esg_data</th>\n",
       "      <th>base_year</th>\n",
       "      <th>external_audit_of_ESG_report</th>\n",
       "      <th>ceo_sust_statem</th>\n",
       "      <th>environmental_policy_and_assessment</th>\n",
       "      <th>environmental_performance_targets</th>\n",
       "      <th>reduced_environmental_impact</th>\n",
       "      <th>increased_renewable_energy</th>\n",
       "      <th>disclosure_of_raw_material_use</th>\n",
       "      <th>resource_efficiency_target</th>\n",
       "      <th>disclosure_of_water_discharges</th>\n",
       "      <th>supplier_guidelines</th>\n",
       "      <th>disclosure_of_suppliers_audited</th>\n",
       "      <th>disclosure_of_supplier_evaluation_procedures</th>\n",
       "      <th>supplier_environmental_assessment</th>\n",
       "      <th>energy_consump_bool</th>\n",
       "      <th>water_withdraw_bool</th>\n",
       "      <th>ghg_emis_bool</th>\n",
       "      <th>transport_emis_bool</th>\n",
       "    </tr>\n",
       "  </thead>\n",
       "  <tbody>\n",
       "    <tr>\n",
       "      <th>0</th>\n",
       "      <td>Archer Ltd.</td>\n",
       "      <td>ARCHO</td>\n",
       "      <td>2020</td>\n",
       "      <td>735.71</td>\n",
       "      <td>1</td>\n",
       "      <td>0</td>\n",
       "      <td>Mid</td>\n",
       "      <td>Energy and Utilities</td>\n",
       "      <td>Norway</td>\n",
       "      <td>1</td>\n",
       "      <td>2020</td>\n",
       "      <td>1</td>\n",
       "      <td>1</td>\n",
       "      <td>1</td>\n",
       "      <td>1</td>\n",
       "      <td>1</td>\n",
       "      <td>0</td>\n",
       "      <td>0</td>\n",
       "      <td>1</td>\n",
       "      <td>0</td>\n",
       "      <td>1</td>\n",
       "      <td>1</td>\n",
       "      <td>0</td>\n",
       "      <td>0</td>\n",
       "      <td>1</td>\n",
       "      <td>0</td>\n",
       "      <td>0</td>\n",
       "      <td>0</td>\n",
       "    </tr>\n",
       "    <tr>\n",
       "      <th>1</th>\n",
       "      <td>AutoStore Holdings Ltd.</td>\n",
       "      <td>AUTO</td>\n",
       "      <td>2021</td>\n",
       "      <td>292.50</td>\n",
       "      <td>0</td>\n",
       "      <td>1</td>\n",
       "      <td>Large</td>\n",
       "      <td>Industrial Goods and Services</td>\n",
       "      <td>Other</td>\n",
       "      <td>1</td>\n",
       "      <td>2021</td>\n",
       "      <td>0</td>\n",
       "      <td>1</td>\n",
       "      <td>1</td>\n",
       "      <td>0</td>\n",
       "      <td>1</td>\n",
       "      <td>0</td>\n",
       "      <td>1</td>\n",
       "      <td>0</td>\n",
       "      <td>0</td>\n",
       "      <td>1</td>\n",
       "      <td>0</td>\n",
       "      <td>1</td>\n",
       "      <td>0</td>\n",
       "      <td>0</td>\n",
       "      <td>0</td>\n",
       "      <td>1</td>\n",
       "      <td>1</td>\n",
       "    </tr>\n",
       "    <tr>\n",
       "      <th>2</th>\n",
       "      <td>Avance Gas Holding ltd</td>\n",
       "      <td>AGAS</td>\n",
       "      <td>2019</td>\n",
       "      <td>223.59</td>\n",
       "      <td>0</td>\n",
       "      <td>1</td>\n",
       "      <td>Mid</td>\n",
       "      <td>Energy and Utilities</td>\n",
       "      <td>Norway</td>\n",
       "      <td>2</td>\n",
       "      <td>2019</td>\n",
       "      <td>0</td>\n",
       "      <td>1</td>\n",
       "      <td>1</td>\n",
       "      <td>1</td>\n",
       "      <td>1</td>\n",
       "      <td>0</td>\n",
       "      <td>0</td>\n",
       "      <td>0</td>\n",
       "      <td>0</td>\n",
       "      <td>0</td>\n",
       "      <td>0</td>\n",
       "      <td>0</td>\n",
       "      <td>0</td>\n",
       "      <td>0</td>\n",
       "      <td>0</td>\n",
       "      <td>0</td>\n",
       "      <td>0</td>\n",
       "    </tr>\n",
       "    <tr>\n",
       "      <th>3</th>\n",
       "      <td>Avance Gas Holding ltd</td>\n",
       "      <td>AGAS</td>\n",
       "      <td>2020</td>\n",
       "      <td>183.68</td>\n",
       "      <td>0</td>\n",
       "      <td>0</td>\n",
       "      <td>Mid</td>\n",
       "      <td>Energy and Utilities</td>\n",
       "      <td>Norway</td>\n",
       "      <td>2</td>\n",
       "      <td>2019</td>\n",
       "      <td>1</td>\n",
       "      <td>1</td>\n",
       "      <td>1</td>\n",
       "      <td>1</td>\n",
       "      <td>1</td>\n",
       "      <td>0</td>\n",
       "      <td>0</td>\n",
       "      <td>1</td>\n",
       "      <td>0</td>\n",
       "      <td>1</td>\n",
       "      <td>0</td>\n",
       "      <td>0</td>\n",
       "      <td>0</td>\n",
       "      <td>1</td>\n",
       "      <td>0</td>\n",
       "      <td>0</td>\n",
       "      <td>0</td>\n",
       "    </tr>\n",
       "    <tr>\n",
       "      <th>4</th>\n",
       "      <td>Borr Drilling Ltd</td>\n",
       "      <td>BDRILL</td>\n",
       "      <td>2019</td>\n",
       "      <td>291.85</td>\n",
       "      <td>1</td>\n",
       "      <td>0</td>\n",
       "      <td>Mid</td>\n",
       "      <td>Energy and Utilities</td>\n",
       "      <td>Other</td>\n",
       "      <td>4</td>\n",
       "      <td>2019</td>\n",
       "      <td>0</td>\n",
       "      <td>0</td>\n",
       "      <td>1</td>\n",
       "      <td>0</td>\n",
       "      <td>1</td>\n",
       "      <td>0</td>\n",
       "      <td>0</td>\n",
       "      <td>1</td>\n",
       "      <td>0</td>\n",
       "      <td>1</td>\n",
       "      <td>0</td>\n",
       "      <td>0</td>\n",
       "      <td>0</td>\n",
       "      <td>1</td>\n",
       "      <td>0</td>\n",
       "      <td>1</td>\n",
       "      <td>1</td>\n",
       "    </tr>\n",
       "    <tr>\n",
       "      <th>...</th>\n",
       "      <td>...</td>\n",
       "      <td>...</td>\n",
       "      <td>...</td>\n",
       "      <td>...</td>\n",
       "      <td>...</td>\n",
       "      <td>...</td>\n",
       "      <td>...</td>\n",
       "      <td>...</td>\n",
       "      <td>...</td>\n",
       "      <td>...</td>\n",
       "      <td>...</td>\n",
       "      <td>...</td>\n",
       "      <td>...</td>\n",
       "      <td>...</td>\n",
       "      <td>...</td>\n",
       "      <td>...</td>\n",
       "      <td>...</td>\n",
       "      <td>...</td>\n",
       "      <td>...</td>\n",
       "      <td>...</td>\n",
       "      <td>...</td>\n",
       "      <td>...</td>\n",
       "      <td>...</td>\n",
       "      <td>...</td>\n",
       "      <td>...</td>\n",
       "      <td>...</td>\n",
       "      <td>...</td>\n",
       "      <td>...</td>\n",
       "    </tr>\n",
       "    <tr>\n",
       "      <th>1832</th>\n",
       "      <td>Betsson AB</td>\n",
       "      <td>BETS</td>\n",
       "      <td>2022</td>\n",
       "      <td>777.20</td>\n",
       "      <td>1</td>\n",
       "      <td>0</td>\n",
       "      <td>Mid</td>\n",
       "      <td>Other</td>\n",
       "      <td>Sweden</td>\n",
       "      <td>4</td>\n",
       "      <td>2019</td>\n",
       "      <td>0</td>\n",
       "      <td>1</td>\n",
       "      <td>1</td>\n",
       "      <td>1</td>\n",
       "      <td>1</td>\n",
       "      <td>0</td>\n",
       "      <td>0</td>\n",
       "      <td>0</td>\n",
       "      <td>0</td>\n",
       "      <td>1</td>\n",
       "      <td>0</td>\n",
       "      <td>0</td>\n",
       "      <td>1</td>\n",
       "      <td>1</td>\n",
       "      <td>0</td>\n",
       "      <td>0</td>\n",
       "      <td>0</td>\n",
       "    </tr>\n",
       "    <tr>\n",
       "      <th>1833</th>\n",
       "      <td>Karnov Group AB</td>\n",
       "      <td>KAR</td>\n",
       "      <td>2020</td>\n",
       "      <td>73.45</td>\n",
       "      <td>0</td>\n",
       "      <td>1</td>\n",
       "      <td>Mid</td>\n",
       "      <td>Consumer Goods and Services</td>\n",
       "      <td>Sweden</td>\n",
       "      <td>4</td>\n",
       "      <td>2019</td>\n",
       "      <td>0</td>\n",
       "      <td>0</td>\n",
       "      <td>1</td>\n",
       "      <td>1</td>\n",
       "      <td>1</td>\n",
       "      <td>0</td>\n",
       "      <td>0</td>\n",
       "      <td>0</td>\n",
       "      <td>0</td>\n",
       "      <td>1</td>\n",
       "      <td>0</td>\n",
       "      <td>0</td>\n",
       "      <td>1</td>\n",
       "      <td>0</td>\n",
       "      <td>0</td>\n",
       "      <td>0</td>\n",
       "      <td>0</td>\n",
       "    </tr>\n",
       "    <tr>\n",
       "      <th>1834</th>\n",
       "      <td>Blackstone Inc. (formerly: G4S plc)</td>\n",
       "      <td>BX</td>\n",
       "      <td>2022</td>\n",
       "      <td>8,088.58</td>\n",
       "      <td>1</td>\n",
       "      <td>0</td>\n",
       "      <td>Large</td>\n",
       "      <td>Finance</td>\n",
       "      <td>Other</td>\n",
       "      <td>1</td>\n",
       "      <td>2022</td>\n",
       "      <td>0</td>\n",
       "      <td>0</td>\n",
       "      <td>1</td>\n",
       "      <td>1</td>\n",
       "      <td>1</td>\n",
       "      <td>0</td>\n",
       "      <td>0</td>\n",
       "      <td>0</td>\n",
       "      <td>0</td>\n",
       "      <td>1</td>\n",
       "      <td>0</td>\n",
       "      <td>0</td>\n",
       "      <td>1</td>\n",
       "      <td>0</td>\n",
       "      <td>0</td>\n",
       "      <td>0</td>\n",
       "      <td>0</td>\n",
       "    </tr>\n",
       "    <tr>\n",
       "      <th>1835</th>\n",
       "      <td>Gaming Innovation Group Inc</td>\n",
       "      <td>GIG</td>\n",
       "      <td>2020</td>\n",
       "      <td>63.03</td>\n",
       "      <td>0</td>\n",
       "      <td>1</td>\n",
       "      <td>Mid</td>\n",
       "      <td>Technology</td>\n",
       "      <td>Other</td>\n",
       "      <td>2</td>\n",
       "      <td>2019</td>\n",
       "      <td>1</td>\n",
       "      <td>1</td>\n",
       "      <td>1</td>\n",
       "      <td>1</td>\n",
       "      <td>1</td>\n",
       "      <td>1</td>\n",
       "      <td>0</td>\n",
       "      <td>1</td>\n",
       "      <td>0</td>\n",
       "      <td>0</td>\n",
       "      <td>0</td>\n",
       "      <td>0</td>\n",
       "      <td>0</td>\n",
       "      <td>0</td>\n",
       "      <td>0</td>\n",
       "      <td>0</td>\n",
       "      <td>0</td>\n",
       "    </tr>\n",
       "    <tr>\n",
       "      <th>1836</th>\n",
       "      <td>Gaming Innovation Group Inc</td>\n",
       "      <td>GIG</td>\n",
       "      <td>2019</td>\n",
       "      <td>44.05</td>\n",
       "      <td>0</td>\n",
       "      <td>1</td>\n",
       "      <td>Mid</td>\n",
       "      <td>Technology</td>\n",
       "      <td>Other</td>\n",
       "      <td>2</td>\n",
       "      <td>2019</td>\n",
       "      <td>0</td>\n",
       "      <td>1</td>\n",
       "      <td>1</td>\n",
       "      <td>0</td>\n",
       "      <td>1</td>\n",
       "      <td>1</td>\n",
       "      <td>0</td>\n",
       "      <td>0</td>\n",
       "      <td>0</td>\n",
       "      <td>0</td>\n",
       "      <td>0</td>\n",
       "      <td>0</td>\n",
       "      <td>0</td>\n",
       "      <td>0</td>\n",
       "      <td>0</td>\n",
       "      <td>0</td>\n",
       "      <td>0</td>\n",
       "    </tr>\n",
       "  </tbody>\n",
       "</table>\n",
       "<p>1837 rows × 28 columns</p>\n",
       "</div>"
      ],
      "text/plain": [
       "                                  company  ticker  year  revenue_MEUR  \\\n",
       "0                             Archer Ltd.   ARCHO  2020        735.71   \n",
       "1                 AutoStore Holdings Ltd.    AUTO  2021        292.50   \n",
       "2                  Avance Gas Holding ltd    AGAS  2019        223.59   \n",
       "3                  Avance Gas Holding ltd    AGAS  2020        183.68   \n",
       "4                       Borr Drilling Ltd  BDRILL  2019        291.85   \n",
       "...                                   ...     ...   ...           ...   \n",
       "1832                           Betsson AB    BETS  2022        777.20   \n",
       "1833                      Karnov Group AB     KAR  2020         73.45   \n",
       "1834  Blackstone Inc. (formerly: G4S plc)      BX  2022      8,088.58   \n",
       "1835          Gaming Innovation Group Inc     GIG  2020         63.03   \n",
       "1836          Gaming Innovation Group Inc     GIG  2019         44.05   \n",
       "\n",
       "      csrd_2025  csrd_2027 segment                       industry hq_country  \\\n",
       "0             1          0     Mid           Energy and Utilities     Norway   \n",
       "1             0          1   Large  Industrial Goods and Services      Other   \n",
       "2             0          1     Mid           Energy and Utilities     Norway   \n",
       "3             0          0     Mid           Energy and Utilities     Norway   \n",
       "4             1          0     Mid           Energy and Utilities      Other   \n",
       "...         ...        ...     ...                            ...        ...   \n",
       "1832          1          0     Mid                          Other     Sweden   \n",
       "1833          0          1     Mid    Consumer Goods and Services     Sweden   \n",
       "1834          1          0   Large                        Finance      Other   \n",
       "1835          0          1     Mid                     Technology      Other   \n",
       "1836          0          1     Mid                     Technology      Other   \n",
       "\n",
       "      years_esg_data  base_year  external_audit_of_ESG_report  \\\n",
       "0                  1       2020                             1   \n",
       "1                  1       2021                             0   \n",
       "2                  2       2019                             0   \n",
       "3                  2       2019                             1   \n",
       "4                  4       2019                             0   \n",
       "...              ...        ...                           ...   \n",
       "1832               4       2019                             0   \n",
       "1833               4       2019                             0   \n",
       "1834               1       2022                             0   \n",
       "1835               2       2019                             1   \n",
       "1836               2       2019                             0   \n",
       "\n",
       "      ceo_sust_statem  environmental_policy_and_assessment  \\\n",
       "0                   1                                    1   \n",
       "1                   1                                    1   \n",
       "2                   1                                    1   \n",
       "3                   1                                    1   \n",
       "4                   0                                    1   \n",
       "...               ...                                  ...   \n",
       "1832                1                                    1   \n",
       "1833                0                                    1   \n",
       "1834                0                                    1   \n",
       "1835                1                                    1   \n",
       "1836                1                                    1   \n",
       "\n",
       "      environmental_performance_targets  reduced_environmental_impact  \\\n",
       "0                                     1                             1   \n",
       "1                                     0                             1   \n",
       "2                                     1                             1   \n",
       "3                                     1                             1   \n",
       "4                                     0                             1   \n",
       "...                                 ...                           ...   \n",
       "1832                                  1                             1   \n",
       "1833                                  1                             1   \n",
       "1834                                  1                             1   \n",
       "1835                                  1                             1   \n",
       "1836                                  0                             1   \n",
       "\n",
       "      increased_renewable_energy  disclosure_of_raw_material_use  \\\n",
       "0                              0                               0   \n",
       "1                              0                               1   \n",
       "2                              0                               0   \n",
       "3                              0                               0   \n",
       "4                              0                               0   \n",
       "...                          ...                             ...   \n",
       "1832                           0                               0   \n",
       "1833                           0                               0   \n",
       "1834                           0                               0   \n",
       "1835                           1                               0   \n",
       "1836                           1                               0   \n",
       "\n",
       "      resource_efficiency_target  disclosure_of_water_discharges  \\\n",
       "0                              1                               0   \n",
       "1                              0                               0   \n",
       "2                              0                               0   \n",
       "3                              1                               0   \n",
       "4                              1                               0   \n",
       "...                          ...                             ...   \n",
       "1832                           0                               0   \n",
       "1833                           0                               0   \n",
       "1834                           0                               0   \n",
       "1835                           1                               0   \n",
       "1836                           0                               0   \n",
       "\n",
       "      supplier_guidelines  disclosure_of_suppliers_audited  \\\n",
       "0                       1                                1   \n",
       "1                       1                                0   \n",
       "2                       0                                0   \n",
       "3                       1                                0   \n",
       "4                       1                                0   \n",
       "...                   ...                              ...   \n",
       "1832                    1                                0   \n",
       "1833                    1                                0   \n",
       "1834                    1                                0   \n",
       "1835                    0                                0   \n",
       "1836                    0                                0   \n",
       "\n",
       "      disclosure_of_supplier_evaluation_procedures  \\\n",
       "0                                                0   \n",
       "1                                                1   \n",
       "2                                                0   \n",
       "3                                                0   \n",
       "4                                                0   \n",
       "...                                            ...   \n",
       "1832                                             0   \n",
       "1833                                             0   \n",
       "1834                                             0   \n",
       "1835                                             0   \n",
       "1836                                             0   \n",
       "\n",
       "      supplier_environmental_assessment  energy_consump_bool  \\\n",
       "0                                     0                    1   \n",
       "1                                     0                    0   \n",
       "2                                     0                    0   \n",
       "3                                     0                    1   \n",
       "4                                     0                    1   \n",
       "...                                 ...                  ...   \n",
       "1832                                  1                    1   \n",
       "1833                                  1                    0   \n",
       "1834                                  1                    0   \n",
       "1835                                  0                    0   \n",
       "1836                                  0                    0   \n",
       "\n",
       "      water_withdraw_bool  ghg_emis_bool  transport_emis_bool  \n",
       "0                       0              0                    0  \n",
       "1                       0              1                    1  \n",
       "2                       0              0                    0  \n",
       "3                       0              0                    0  \n",
       "4                       0              1                    1  \n",
       "...                   ...            ...                  ...  \n",
       "1832                    0              0                    0  \n",
       "1833                    0              0                    0  \n",
       "1834                    0              0                    0  \n",
       "1835                    0              0                    0  \n",
       "1836                    0              0                    0  \n",
       "\n",
       "[1837 rows x 28 columns]"
      ]
     },
     "execution_count": 80,
     "metadata": {},
     "output_type": "execute_result"
    }
   ],
   "source": [
    "map_ceo_statements(reporting_df)"
   ]
  },
  {
   "cell_type": "markdown",
   "metadata": {},
   "source": [
    "# Analysis of company performance"
   ]
  },
  {
   "cell_type": "markdown",
   "metadata": {},
   "source": [
    "```diff\n",
    "- Insert text here...\n",
    "```\n",
    "\n",
    "I first measure absolute performance by determining the number of metrics each company reports in a given year. I then compare that to the number of metrics the company reported in the previous year."
   ]
  },
  {
   "cell_type": "markdown",
   "metadata": {},
   "source": [
    "## Metrics reported"
   ]
  },
  {
   "cell_type": "markdown",
   "metadata": {},
   "source": [
    "### Metrics reported by company"
   ]
  },
  {
   "cell_type": "markdown",
   "metadata": {},
   "source": [
    "I first calculate the number of metrics each company has reported in a given year, and the coverage as a percentage of all metrics that could have been reported."
   ]
  },
  {
   "cell_type": "code",
   "execution_count": 81,
   "metadata": {},
   "outputs": [],
   "source": [
    "# all Boolean columns are included, except those related to CSRD--these show only whether a company must report CSRD data in 2025 or 2027\n",
    "metrics = list(set(boolean_columns) - {\"csrd_2025\", \"csrd_2027\"})\n",
    "\n",
    "metrics_reported_by_company_df = reporting_df.copy()\n",
    "metrics_reported_by_company_df[\"metrics_reported\"] = metrics_reported_by_company_df[\n",
    "    metrics\n",
    "].sum(axis=1)\n",
    "metrics_reported_by_company_df[\"metric_coverage\"] = metrics_reported_by_company_df[\n",
    "    \"metrics_reported\"\n",
    "] / len(metrics)"
   ]
  },
  {
   "cell_type": "code",
   "execution_count": 82,
   "metadata": {},
   "outputs": [],
   "source": [
    "# metrics_reported_by_company_df.head()"
   ]
  },
  {
   "cell_type": "markdown",
   "metadata": {},
   "source": [
    "To determine whether a company has improved its reporting in absolute terms since the previous year, I calculate the change in the number of metrics reported relative to the previous year."
   ]
  },
  {
   "cell_type": "code",
   "execution_count": 83,
   "metadata": {},
   "outputs": [],
   "source": [
    "# Ensure DataFrame is sorted by company and year\n",
    "metrics_reported_by_company_df = metrics_reported_by_company_df.sort_values(\n",
    "    by=[\"company\", \"year\"]\n",
    ")\n",
    "metrics_reported_by_company_df[\"metrics_change_from_prev_year\"] = (\n",
    "    metrics_reported_by_company_df[\"metrics_reported\"]\n",
    "    - metrics_reported_by_company_df.groupby([\"company\"])[\"metrics_reported\"].shift(1)\n",
    ")"
   ]
  },
  {
   "cell_type": "code",
   "execution_count": 84,
   "metadata": {},
   "outputs": [
    {
     "data": {
      "text/html": [
       "<div>\n",
       "<style scoped>\n",
       "    .dataframe tbody tr th:only-of-type {\n",
       "        vertical-align: middle;\n",
       "    }\n",
       "\n",
       "    .dataframe tbody tr th {\n",
       "        vertical-align: top;\n",
       "    }\n",
       "\n",
       "    .dataframe thead th {\n",
       "        text-align: right;\n",
       "    }\n",
       "</style>\n",
       "<table border=\"1\" class=\"dataframe\">\n",
       "  <thead>\n",
       "    <tr style=\"text-align: right;\">\n",
       "      <th></th>\n",
       "      <th>company</th>\n",
       "      <th>year</th>\n",
       "      <th>metrics_reported</th>\n",
       "      <th>metrics_change_from_prev_year</th>\n",
       "    </tr>\n",
       "  </thead>\n",
       "  <tbody>\n",
       "    <tr>\n",
       "      <th>104</th>\n",
       "      <td>A.P. Møller -Maersk A/S</td>\n",
       "      <td>2019</td>\n",
       "      <td>13</td>\n",
       "      <td>NaN</td>\n",
       "    </tr>\n",
       "    <tr>\n",
       "      <th>101</th>\n",
       "      <td>A.P. Møller -Maersk A/S</td>\n",
       "      <td>2020</td>\n",
       "      <td>14</td>\n",
       "      <td>1.00</td>\n",
       "    </tr>\n",
       "    <tr>\n",
       "      <th>102</th>\n",
       "      <td>A.P. Møller -Maersk A/S</td>\n",
       "      <td>2021</td>\n",
       "      <td>14</td>\n",
       "      <td>0.00</td>\n",
       "    </tr>\n",
       "    <tr>\n",
       "      <th>103</th>\n",
       "      <td>A.P. Møller -Maersk A/S</td>\n",
       "      <td>2022</td>\n",
       "      <td>14</td>\n",
       "      <td>0.00</td>\n",
       "    </tr>\n",
       "    <tr>\n",
       "      <th>1644</th>\n",
       "      <td>AAK AB</td>\n",
       "      <td>2019</td>\n",
       "      <td>12</td>\n",
       "      <td>NaN</td>\n",
       "    </tr>\n",
       "    <tr>\n",
       "      <th>...</th>\n",
       "      <td>...</td>\n",
       "      <td>...</td>\n",
       "      <td>...</td>\n",
       "      <td>...</td>\n",
       "    </tr>\n",
       "    <tr>\n",
       "      <th>611</th>\n",
       "      <td>Össur hf</td>\n",
       "      <td>2022</td>\n",
       "      <td>8</td>\n",
       "      <td>-5.00</td>\n",
       "    </tr>\n",
       "    <tr>\n",
       "      <th>187</th>\n",
       "      <td>Ørsted A/S</td>\n",
       "      <td>2019</td>\n",
       "      <td>12</td>\n",
       "      <td>NaN</td>\n",
       "    </tr>\n",
       "    <tr>\n",
       "      <th>188</th>\n",
       "      <td>Ørsted A/S</td>\n",
       "      <td>2020</td>\n",
       "      <td>15</td>\n",
       "      <td>3.00</td>\n",
       "    </tr>\n",
       "    <tr>\n",
       "      <th>189</th>\n",
       "      <td>Ørsted A/S</td>\n",
       "      <td>2021</td>\n",
       "      <td>15</td>\n",
       "      <td>0.00</td>\n",
       "    </tr>\n",
       "    <tr>\n",
       "      <th>190</th>\n",
       "      <td>Ørsted A/S</td>\n",
       "      <td>2022</td>\n",
       "      <td>14</td>\n",
       "      <td>-1.00</td>\n",
       "    </tr>\n",
       "  </tbody>\n",
       "</table>\n",
       "<p>1837 rows × 4 columns</p>\n",
       "</div>"
      ],
      "text/plain": [
       "                      company  year  metrics_reported  \\\n",
       "104   A.P. Møller -Maersk A/S  2019                13   \n",
       "101   A.P. Møller -Maersk A/S  2020                14   \n",
       "102   A.P. Møller -Maersk A/S  2021                14   \n",
       "103   A.P. Møller -Maersk A/S  2022                14   \n",
       "1644                   AAK AB  2019                12   \n",
       "...                       ...   ...               ...   \n",
       "611                  Össur hf  2022                 8   \n",
       "187                Ørsted A/S  2019                12   \n",
       "188                Ørsted A/S  2020                15   \n",
       "189                Ørsted A/S  2021                15   \n",
       "190                Ørsted A/S  2022                14   \n",
       "\n",
       "      metrics_change_from_prev_year  \n",
       "104                             NaN  \n",
       "101                            1.00  \n",
       "102                            0.00  \n",
       "103                            0.00  \n",
       "1644                            NaN  \n",
       "...                             ...  \n",
       "611                           -5.00  \n",
       "187                             NaN  \n",
       "188                            3.00  \n",
       "189                            0.00  \n",
       "190                           -1.00  \n",
       "\n",
       "[1837 rows x 4 columns]"
      ]
     },
     "execution_count": 84,
     "metadata": {},
     "output_type": "execute_result"
    }
   ],
   "source": [
    "metrics_reported_by_company_df[\n",
    "    [\"company\", \"year\", \"metrics_reported\", \"metrics_change_from_prev_year\"]\n",
    "]"
   ]
  },
  {
   "cell_type": "code",
   "execution_count": 85,
   "metadata": {},
   "outputs": [],
   "source": [
    "# Compute industry percentile (within each year & industry)\n",
    "metrics_reported_by_company_df[\"industry_percentile\"] = (\n",
    "    metrics_reported_by_company_df.groupby([\"year\", \"industry\"])[\n",
    "        \"metrics_reported\"\n",
    "    ].rank(pct=True)\n",
    ")\n",
    "\n",
    "\n",
    "# Compute overall percentile (within each year)\n",
    "metrics_reported_by_company_df[\"overall_percentile\"] = (\n",
    "    metrics_reported_by_company_df.groupby(\"year\")[\"metrics_reported\"].rank(pct=True)\n",
    ")"
   ]
  },
  {
   "cell_type": "code",
   "execution_count": 86,
   "metadata": {},
   "outputs": [],
   "source": [
    "desired_columns = [\n",
    "    \"company\",\n",
    "    \"ticker\",\n",
    "    \"year\",\n",
    "    \"hq_country\",\n",
    "    \"revenue_MEUR\",\n",
    "    \"industry\",\n",
    "    \"metrics_reported\",\n",
    "    \"metric_coverage\",\n",
    "    \"industry_percentile\",\n",
    "    \"overall_percentile\",\n",
    "    \"metrics_change_from_prev_year\",\n",
    "]\n",
    "\n",
    "remaining_columns = [\n",
    "    col for col in metrics_reported_by_company_df.columns if col not in desired_columns\n",
    "]\n",
    "\n",
    "metrics_reported_by_company_df = metrics_reported_by_company_df[\n",
    "    desired_columns + remaining_columns\n",
    "]"
   ]
  },
  {
   "cell_type": "code",
   "execution_count": 87,
   "metadata": {},
   "outputs": [
    {
     "data": {
      "text/html": [
       "<div>\n",
       "<style scoped>\n",
       "    .dataframe tbody tr th:only-of-type {\n",
       "        vertical-align: middle;\n",
       "    }\n",
       "\n",
       "    .dataframe tbody tr th {\n",
       "        vertical-align: top;\n",
       "    }\n",
       "\n",
       "    .dataframe thead th {\n",
       "        text-align: right;\n",
       "    }\n",
       "</style>\n",
       "<table border=\"1\" class=\"dataframe\">\n",
       "  <thead>\n",
       "    <tr style=\"text-align: right;\">\n",
       "      <th></th>\n",
       "      <th>company</th>\n",
       "      <th>ticker</th>\n",
       "      <th>year</th>\n",
       "      <th>hq_country</th>\n",
       "      <th>revenue_MEUR</th>\n",
       "      <th>industry</th>\n",
       "      <th>metrics_reported</th>\n",
       "      <th>metric_coverage</th>\n",
       "      <th>industry_percentile</th>\n",
       "      <th>overall_percentile</th>\n",
       "      <th>metrics_change_from_prev_year</th>\n",
       "      <th>csrd_2025</th>\n",
       "      <th>csrd_2027</th>\n",
       "      <th>segment</th>\n",
       "      <th>years_esg_data</th>\n",
       "      <th>base_year</th>\n",
       "      <th>external_audit_of_ESG_report</th>\n",
       "      <th>ceo_sust_statem</th>\n",
       "      <th>environmental_policy_and_assessment</th>\n",
       "      <th>environmental_performance_targets</th>\n",
       "      <th>reduced_environmental_impact</th>\n",
       "      <th>increased_renewable_energy</th>\n",
       "      <th>disclosure_of_raw_material_use</th>\n",
       "      <th>resource_efficiency_target</th>\n",
       "      <th>disclosure_of_water_discharges</th>\n",
       "      <th>supplier_guidelines</th>\n",
       "      <th>disclosure_of_suppliers_audited</th>\n",
       "      <th>disclosure_of_supplier_evaluation_procedures</th>\n",
       "      <th>supplier_environmental_assessment</th>\n",
       "      <th>energy_consump_bool</th>\n",
       "      <th>water_withdraw_bool</th>\n",
       "      <th>ghg_emis_bool</th>\n",
       "      <th>transport_emis_bool</th>\n",
       "    </tr>\n",
       "  </thead>\n",
       "  <tbody>\n",
       "    <tr>\n",
       "      <th>104</th>\n",
       "      <td>A.P. Møller -Maersk A/S</td>\n",
       "      <td>MAERSK</td>\n",
       "      <td>2019</td>\n",
       "      <td>Denmark</td>\n",
       "      <td>34,723.21</td>\n",
       "      <td>Industrial Goods and Services</td>\n",
       "      <td>13</td>\n",
       "      <td>0.76</td>\n",
       "      <td>0.85</td>\n",
       "      <td>0.85</td>\n",
       "      <td>NaN</td>\n",
       "      <td>1</td>\n",
       "      <td>0</td>\n",
       "      <td>Large</td>\n",
       "      <td>4</td>\n",
       "      <td>2019</td>\n",
       "      <td>1</td>\n",
       "      <td>1</td>\n",
       "      <td>1</td>\n",
       "      <td>1</td>\n",
       "      <td>1</td>\n",
       "      <td>0</td>\n",
       "      <td>0</td>\n",
       "      <td>1</td>\n",
       "      <td>0</td>\n",
       "      <td>1</td>\n",
       "      <td>1</td>\n",
       "      <td>1</td>\n",
       "      <td>1</td>\n",
       "      <td>1</td>\n",
       "      <td>1</td>\n",
       "      <td>1</td>\n",
       "      <td>0</td>\n",
       "    </tr>\n",
       "    <tr>\n",
       "      <th>101</th>\n",
       "      <td>A.P. Møller -Maersk A/S</td>\n",
       "      <td>MAERSK</td>\n",
       "      <td>2020</td>\n",
       "      <td>Denmark</td>\n",
       "      <td>35,482.14</td>\n",
       "      <td>Industrial Goods and Services</td>\n",
       "      <td>14</td>\n",
       "      <td>0.82</td>\n",
       "      <td>0.88</td>\n",
       "      <td>0.89</td>\n",
       "      <td>1.00</td>\n",
       "      <td>1</td>\n",
       "      <td>0</td>\n",
       "      <td>Large</td>\n",
       "      <td>4</td>\n",
       "      <td>2019</td>\n",
       "      <td>1</td>\n",
       "      <td>1</td>\n",
       "      <td>1</td>\n",
       "      <td>1</td>\n",
       "      <td>1</td>\n",
       "      <td>1</td>\n",
       "      <td>0</td>\n",
       "      <td>1</td>\n",
       "      <td>0</td>\n",
       "      <td>1</td>\n",
       "      <td>1</td>\n",
       "      <td>0</td>\n",
       "      <td>1</td>\n",
       "      <td>1</td>\n",
       "      <td>1</td>\n",
       "      <td>1</td>\n",
       "      <td>1</td>\n",
       "    </tr>\n",
       "    <tr>\n",
       "      <th>102</th>\n",
       "      <td>A.P. Møller -Maersk A/S</td>\n",
       "      <td>MAERSK</td>\n",
       "      <td>2021</td>\n",
       "      <td>Denmark</td>\n",
       "      <td>55,166.96</td>\n",
       "      <td>Industrial Goods and Services</td>\n",
       "      <td>14</td>\n",
       "      <td>0.82</td>\n",
       "      <td>0.91</td>\n",
       "      <td>0.87</td>\n",
       "      <td>0.00</td>\n",
       "      <td>1</td>\n",
       "      <td>0</td>\n",
       "      <td>Large</td>\n",
       "      <td>4</td>\n",
       "      <td>2019</td>\n",
       "      <td>1</td>\n",
       "      <td>1</td>\n",
       "      <td>1</td>\n",
       "      <td>1</td>\n",
       "      <td>1</td>\n",
       "      <td>1</td>\n",
       "      <td>0</td>\n",
       "      <td>0</td>\n",
       "      <td>0</td>\n",
       "      <td>1</td>\n",
       "      <td>1</td>\n",
       "      <td>1</td>\n",
       "      <td>1</td>\n",
       "      <td>1</td>\n",
       "      <td>1</td>\n",
       "      <td>1</td>\n",
       "      <td>1</td>\n",
       "    </tr>\n",
       "    <tr>\n",
       "      <th>103</th>\n",
       "      <td>A.P. Møller -Maersk A/S</td>\n",
       "      <td>MAERSK</td>\n",
       "      <td>2022</td>\n",
       "      <td>Denmark</td>\n",
       "      <td>77,425.45</td>\n",
       "      <td>Industrial Goods and Services</td>\n",
       "      <td>14</td>\n",
       "      <td>0.82</td>\n",
       "      <td>0.86</td>\n",
       "      <td>0.88</td>\n",
       "      <td>0.00</td>\n",
       "      <td>1</td>\n",
       "      <td>0</td>\n",
       "      <td>Large</td>\n",
       "      <td>4</td>\n",
       "      <td>2019</td>\n",
       "      <td>0</td>\n",
       "      <td>1</td>\n",
       "      <td>1</td>\n",
       "      <td>1</td>\n",
       "      <td>1</td>\n",
       "      <td>1</td>\n",
       "      <td>0</td>\n",
       "      <td>1</td>\n",
       "      <td>0</td>\n",
       "      <td>1</td>\n",
       "      <td>1</td>\n",
       "      <td>1</td>\n",
       "      <td>1</td>\n",
       "      <td>1</td>\n",
       "      <td>1</td>\n",
       "      <td>1</td>\n",
       "      <td>1</td>\n",
       "    </tr>\n",
       "    <tr>\n",
       "      <th>1644</th>\n",
       "      <td>AAK AB</td>\n",
       "      <td>AAK</td>\n",
       "      <td>2019</td>\n",
       "      <td>Sweden</td>\n",
       "      <td>2,714.72</td>\n",
       "      <td>Consumer Goods and Services</td>\n",
       "      <td>12</td>\n",
       "      <td>0.71</td>\n",
       "      <td>0.63</td>\n",
       "      <td>0.76</td>\n",
       "      <td>NaN</td>\n",
       "      <td>1</td>\n",
       "      <td>0</td>\n",
       "      <td>Large</td>\n",
       "      <td>4</td>\n",
       "      <td>2019</td>\n",
       "      <td>1</td>\n",
       "      <td>1</td>\n",
       "      <td>1</td>\n",
       "      <td>1</td>\n",
       "      <td>1</td>\n",
       "      <td>0</td>\n",
       "      <td>0</td>\n",
       "      <td>1</td>\n",
       "      <td>0</td>\n",
       "      <td>1</td>\n",
       "      <td>1</td>\n",
       "      <td>1</td>\n",
       "      <td>1</td>\n",
       "      <td>1</td>\n",
       "      <td>1</td>\n",
       "      <td>0</td>\n",
       "      <td>0</td>\n",
       "    </tr>\n",
       "  </tbody>\n",
       "</table>\n",
       "</div>"
      ],
      "text/plain": [
       "                      company  ticker  year hq_country  revenue_MEUR  \\\n",
       "104   A.P. Møller -Maersk A/S  MAERSK  2019    Denmark     34,723.21   \n",
       "101   A.P. Møller -Maersk A/S  MAERSK  2020    Denmark     35,482.14   \n",
       "102   A.P. Møller -Maersk A/S  MAERSK  2021    Denmark     55,166.96   \n",
       "103   A.P. Møller -Maersk A/S  MAERSK  2022    Denmark     77,425.45   \n",
       "1644                   AAK AB     AAK  2019     Sweden      2,714.72   \n",
       "\n",
       "                           industry  metrics_reported  metric_coverage  \\\n",
       "104   Industrial Goods and Services                13             0.76   \n",
       "101   Industrial Goods and Services                14             0.82   \n",
       "102   Industrial Goods and Services                14             0.82   \n",
       "103   Industrial Goods and Services                14             0.82   \n",
       "1644    Consumer Goods and Services                12             0.71   \n",
       "\n",
       "      industry_percentile  overall_percentile  metrics_change_from_prev_year  \\\n",
       "104                  0.85                0.85                            NaN   \n",
       "101                  0.88                0.89                           1.00   \n",
       "102                  0.91                0.87                           0.00   \n",
       "103                  0.86                0.88                           0.00   \n",
       "1644                 0.63                0.76                            NaN   \n",
       "\n",
       "      csrd_2025  csrd_2027 segment  years_esg_data  base_year  \\\n",
       "104           1          0   Large               4       2019   \n",
       "101           1          0   Large               4       2019   \n",
       "102           1          0   Large               4       2019   \n",
       "103           1          0   Large               4       2019   \n",
       "1644          1          0   Large               4       2019   \n",
       "\n",
       "      external_audit_of_ESG_report  ceo_sust_statem  \\\n",
       "104                              1                1   \n",
       "101                              1                1   \n",
       "102                              1                1   \n",
       "103                              0                1   \n",
       "1644                             1                1   \n",
       "\n",
       "      environmental_policy_and_assessment  environmental_performance_targets  \\\n",
       "104                                     1                                  1   \n",
       "101                                     1                                  1   \n",
       "102                                     1                                  1   \n",
       "103                                     1                                  1   \n",
       "1644                                    1                                  1   \n",
       "\n",
       "      reduced_environmental_impact  increased_renewable_energy  \\\n",
       "104                              1                           0   \n",
       "101                              1                           1   \n",
       "102                              1                           1   \n",
       "103                              1                           1   \n",
       "1644                             1                           0   \n",
       "\n",
       "      disclosure_of_raw_material_use  resource_efficiency_target  \\\n",
       "104                                0                           1   \n",
       "101                                0                           1   \n",
       "102                                0                           0   \n",
       "103                                0                           1   \n",
       "1644                               0                           1   \n",
       "\n",
       "      disclosure_of_water_discharges  supplier_guidelines  \\\n",
       "104                                0                    1   \n",
       "101                                0                    1   \n",
       "102                                0                    1   \n",
       "103                                0                    1   \n",
       "1644                               0                    1   \n",
       "\n",
       "      disclosure_of_suppliers_audited  \\\n",
       "104                                 1   \n",
       "101                                 1   \n",
       "102                                 1   \n",
       "103                                 1   \n",
       "1644                                1   \n",
       "\n",
       "      disclosure_of_supplier_evaluation_procedures  \\\n",
       "104                                              1   \n",
       "101                                              0   \n",
       "102                                              1   \n",
       "103                                              1   \n",
       "1644                                             1   \n",
       "\n",
       "      supplier_environmental_assessment  energy_consump_bool  \\\n",
       "104                                   1                    1   \n",
       "101                                   1                    1   \n",
       "102                                   1                    1   \n",
       "103                                   1                    1   \n",
       "1644                                  1                    1   \n",
       "\n",
       "      water_withdraw_bool  ghg_emis_bool  transport_emis_bool  \n",
       "104                     1              1                    0  \n",
       "101                     1              1                    1  \n",
       "102                     1              1                    1  \n",
       "103                     1              1                    1  \n",
       "1644                    1              0                    0  "
      ]
     },
     "execution_count": 87,
     "metadata": {},
     "output_type": "execute_result"
    }
   ],
   "source": [
    "metrics_reported_by_company_df.head()"
   ]
  },
  {
   "cell_type": "markdown",
   "metadata": {},
   "source": [
    "### Metrics reported by industry"
   ]
  },
  {
   "cell_type": "code",
   "execution_count": 88,
   "metadata": {},
   "outputs": [],
   "source": [
    "metrics_reported_agg_df = metrics_reported_by_company_df.copy().drop(\n",
    "    columns=[\"industry_percentile\", \"overall_percentile\"]\n",
    ")"
   ]
  },
  {
   "cell_type": "code",
   "execution_count": 89,
   "metadata": {},
   "outputs": [
    {
     "data": {
      "text/html": [
       "<div>\n",
       "<style scoped>\n",
       "    .dataframe tbody tr th:only-of-type {\n",
       "        vertical-align: middle;\n",
       "    }\n",
       "\n",
       "    .dataframe tbody tr th {\n",
       "        vertical-align: top;\n",
       "    }\n",
       "\n",
       "    .dataframe thead th {\n",
       "        text-align: right;\n",
       "    }\n",
       "</style>\n",
       "<table border=\"1\" class=\"dataframe\">\n",
       "  <thead>\n",
       "    <tr style=\"text-align: right;\">\n",
       "      <th></th>\n",
       "      <th></th>\n",
       "      <th>no_of_companies</th>\n",
       "      <th>metric_coverage_mean</th>\n",
       "      <th>metric_coverage_median</th>\n",
       "    </tr>\n",
       "    <tr>\n",
       "      <th>year</th>\n",
       "      <th>industry</th>\n",
       "      <th></th>\n",
       "      <th></th>\n",
       "      <th></th>\n",
       "    </tr>\n",
       "  </thead>\n",
       "  <tbody>\n",
       "    <tr>\n",
       "      <th rowspan=\"8\" valign=\"top\">2019</th>\n",
       "      <th>Basic Materials</th>\n",
       "      <td>25</td>\n",
       "      <td>0.68</td>\n",
       "      <td>0.76</td>\n",
       "    </tr>\n",
       "    <tr>\n",
       "      <th>Consumer Goods and Services</th>\n",
       "      <td>89</td>\n",
       "      <td>0.58</td>\n",
       "      <td>0.65</td>\n",
       "    </tr>\n",
       "    <tr>\n",
       "      <th>Energy and Utilities</th>\n",
       "      <td>36</td>\n",
       "      <td>0.46</td>\n",
       "      <td>0.47</td>\n",
       "    </tr>\n",
       "    <tr>\n",
       "      <th>Finance</th>\n",
       "      <td>103</td>\n",
       "      <td>0.46</td>\n",
       "      <td>0.47</td>\n",
       "    </tr>\n",
       "    <tr>\n",
       "      <th>Health Care</th>\n",
       "      <td>54</td>\n",
       "      <td>0.41</td>\n",
       "      <td>0.41</td>\n",
       "    </tr>\n",
       "    <tr>\n",
       "      <th>Industrial Goods and Services</th>\n",
       "      <td>116</td>\n",
       "      <td>0.52</td>\n",
       "      <td>0.53</td>\n",
       "    </tr>\n",
       "    <tr>\n",
       "      <th>Other</th>\n",
       "      <td>27</td>\n",
       "      <td>0.48</td>\n",
       "      <td>0.47</td>\n",
       "    </tr>\n",
       "    <tr>\n",
       "      <th>Technology</th>\n",
       "      <td>36</td>\n",
       "      <td>0.37</td>\n",
       "      <td>0.38</td>\n",
       "    </tr>\n",
       "    <tr>\n",
       "      <th rowspan=\"8\" valign=\"top\">2020</th>\n",
       "      <th>Basic Materials</th>\n",
       "      <td>25</td>\n",
       "      <td>0.72</td>\n",
       "      <td>0.76</td>\n",
       "    </tr>\n",
       "    <tr>\n",
       "      <th>Consumer Goods and Services</th>\n",
       "      <td>87</td>\n",
       "      <td>0.64</td>\n",
       "      <td>0.65</td>\n",
       "    </tr>\n",
       "    <tr>\n",
       "      <th>Energy and Utilities</th>\n",
       "      <td>41</td>\n",
       "      <td>0.54</td>\n",
       "      <td>0.59</td>\n",
       "    </tr>\n",
       "    <tr>\n",
       "      <th>Finance</th>\n",
       "      <td>98</td>\n",
       "      <td>0.53</td>\n",
       "      <td>0.53</td>\n",
       "    </tr>\n",
       "    <tr>\n",
       "      <th>Health Care</th>\n",
       "      <td>55</td>\n",
       "      <td>0.43</td>\n",
       "      <td>0.47</td>\n",
       "    </tr>\n",
       "    <tr>\n",
       "      <th>Industrial Goods and Services</th>\n",
       "      <td>117</td>\n",
       "      <td>0.55</td>\n",
       "      <td>0.53</td>\n",
       "    </tr>\n",
       "    <tr>\n",
       "      <th>Other</th>\n",
       "      <td>27</td>\n",
       "      <td>0.53</td>\n",
       "      <td>0.59</td>\n",
       "    </tr>\n",
       "    <tr>\n",
       "      <th>Technology</th>\n",
       "      <td>41</td>\n",
       "      <td>0.42</td>\n",
       "      <td>0.35</td>\n",
       "    </tr>\n",
       "    <tr>\n",
       "      <th rowspan=\"8\" valign=\"top\">2021</th>\n",
       "      <th>Basic Materials</th>\n",
       "      <td>18</td>\n",
       "      <td>0.84</td>\n",
       "      <td>0.82</td>\n",
       "    </tr>\n",
       "    <tr>\n",
       "      <th>Consumer Goods and Services</th>\n",
       "      <td>85</td>\n",
       "      <td>0.62</td>\n",
       "      <td>0.71</td>\n",
       "    </tr>\n",
       "    <tr>\n",
       "      <th>Energy and Utilities</th>\n",
       "      <td>29</td>\n",
       "      <td>0.59</td>\n",
       "      <td>0.59</td>\n",
       "    </tr>\n",
       "    <tr>\n",
       "      <th>Finance</th>\n",
       "      <td>88</td>\n",
       "      <td>0.55</td>\n",
       "      <td>0.59</td>\n",
       "    </tr>\n",
       "    <tr>\n",
       "      <th>Health Care</th>\n",
       "      <td>47</td>\n",
       "      <td>0.45</td>\n",
       "      <td>0.47</td>\n",
       "    </tr>\n",
       "    <tr>\n",
       "      <th>Industrial Goods and Services</th>\n",
       "      <td>109</td>\n",
       "      <td>0.58</td>\n",
       "      <td>0.65</td>\n",
       "    </tr>\n",
       "    <tr>\n",
       "      <th>Other</th>\n",
       "      <td>26</td>\n",
       "      <td>0.57</td>\n",
       "      <td>0.62</td>\n",
       "    </tr>\n",
       "    <tr>\n",
       "      <th>Technology</th>\n",
       "      <td>37</td>\n",
       "      <td>0.43</td>\n",
       "      <td>0.41</td>\n",
       "    </tr>\n",
       "    <tr>\n",
       "      <th rowspan=\"8\" valign=\"top\">2022</th>\n",
       "      <th>Basic Materials</th>\n",
       "      <td>20</td>\n",
       "      <td>0.78</td>\n",
       "      <td>0.82</td>\n",
       "    </tr>\n",
       "    <tr>\n",
       "      <th>Consumer Goods and Services</th>\n",
       "      <td>68</td>\n",
       "      <td>0.65</td>\n",
       "      <td>0.71</td>\n",
       "    </tr>\n",
       "    <tr>\n",
       "      <th>Energy and Utilities</th>\n",
       "      <td>31</td>\n",
       "      <td>0.50</td>\n",
       "      <td>0.53</td>\n",
       "    </tr>\n",
       "    <tr>\n",
       "      <th>Finance</th>\n",
       "      <td>98</td>\n",
       "      <td>0.52</td>\n",
       "      <td>0.59</td>\n",
       "    </tr>\n",
       "    <tr>\n",
       "      <th>Health Care</th>\n",
       "      <td>48</td>\n",
       "      <td>0.50</td>\n",
       "      <td>0.50</td>\n",
       "    </tr>\n",
       "    <tr>\n",
       "      <th>Industrial Goods and Services</th>\n",
       "      <td>99</td>\n",
       "      <td>0.60</td>\n",
       "      <td>0.65</td>\n",
       "    </tr>\n",
       "    <tr>\n",
       "      <th>Other</th>\n",
       "      <td>22</td>\n",
       "      <td>0.53</td>\n",
       "      <td>0.59</td>\n",
       "    </tr>\n",
       "    <tr>\n",
       "      <th>Technology</th>\n",
       "      <td>35</td>\n",
       "      <td>0.50</td>\n",
       "      <td>0.53</td>\n",
       "    </tr>\n",
       "  </tbody>\n",
       "</table>\n",
       "</div>"
      ],
      "text/plain": [
       "                                    no_of_companies  metric_coverage_mean  \\\n",
       "year industry                                                               \n",
       "2019 Basic Materials                             25                  0.68   \n",
       "     Consumer Goods and Services                 89                  0.58   \n",
       "     Energy and Utilities                        36                  0.46   \n",
       "     Finance                                    103                  0.46   \n",
       "     Health Care                                 54                  0.41   \n",
       "     Industrial Goods and Services              116                  0.52   \n",
       "     Other                                       27                  0.48   \n",
       "     Technology                                  36                  0.37   \n",
       "2020 Basic Materials                             25                  0.72   \n",
       "     Consumer Goods and Services                 87                  0.64   \n",
       "     Energy and Utilities                        41                  0.54   \n",
       "     Finance                                     98                  0.53   \n",
       "     Health Care                                 55                  0.43   \n",
       "     Industrial Goods and Services              117                  0.55   \n",
       "     Other                                       27                  0.53   \n",
       "     Technology                                  41                  0.42   \n",
       "2021 Basic Materials                             18                  0.84   \n",
       "     Consumer Goods and Services                 85                  0.62   \n",
       "     Energy and Utilities                        29                  0.59   \n",
       "     Finance                                     88                  0.55   \n",
       "     Health Care                                 47                  0.45   \n",
       "     Industrial Goods and Services              109                  0.58   \n",
       "     Other                                       26                  0.57   \n",
       "     Technology                                  37                  0.43   \n",
       "2022 Basic Materials                             20                  0.78   \n",
       "     Consumer Goods and Services                 68                  0.65   \n",
       "     Energy and Utilities                        31                  0.50   \n",
       "     Finance                                     98                  0.52   \n",
       "     Health Care                                 48                  0.50   \n",
       "     Industrial Goods and Services               99                  0.60   \n",
       "     Other                                       22                  0.53   \n",
       "     Technology                                  35                  0.50   \n",
       "\n",
       "                                    metric_coverage_median  \n",
       "year industry                                               \n",
       "2019 Basic Materials                                  0.76  \n",
       "     Consumer Goods and Services                      0.65  \n",
       "     Energy and Utilities                             0.47  \n",
       "     Finance                                          0.47  \n",
       "     Health Care                                      0.41  \n",
       "     Industrial Goods and Services                    0.53  \n",
       "     Other                                            0.47  \n",
       "     Technology                                       0.38  \n",
       "2020 Basic Materials                                  0.76  \n",
       "     Consumer Goods and Services                      0.65  \n",
       "     Energy and Utilities                             0.59  \n",
       "     Finance                                          0.53  \n",
       "     Health Care                                      0.47  \n",
       "     Industrial Goods and Services                    0.53  \n",
       "     Other                                            0.59  \n",
       "     Technology                                       0.35  \n",
       "2021 Basic Materials                                  0.82  \n",
       "     Consumer Goods and Services                      0.71  \n",
       "     Energy and Utilities                             0.59  \n",
       "     Finance                                          0.59  \n",
       "     Health Care                                      0.47  \n",
       "     Industrial Goods and Services                    0.65  \n",
       "     Other                                            0.62  \n",
       "     Technology                                       0.41  \n",
       "2022 Basic Materials                                  0.82  \n",
       "     Consumer Goods and Services                      0.71  \n",
       "     Energy and Utilities                             0.53  \n",
       "     Finance                                          0.59  \n",
       "     Health Care                                      0.50  \n",
       "     Industrial Goods and Services                    0.65  \n",
       "     Other                                            0.59  \n",
       "     Technology                                       0.53  "
      ]
     },
     "execution_count": 89,
     "metadata": {},
     "output_type": "execute_result"
    }
   ],
   "source": [
    "metrics_reported_by_industry_df = metrics_reported_agg_df.groupby(\n",
    "    [\n",
    "        \"year\",\n",
    "        \"industry\",\n",
    "    ],\n",
    "    as_index=True,\n",
    ").agg(\n",
    "    no_of_companies=(\"company\", \"count\"),\n",
    "    metric_coverage_mean=(\"metric_coverage\", \"mean\"),\n",
    "    metric_coverage_median=(\"metric_coverage\", \"median\"),\n",
    ")\n",
    "\n",
    "metrics_reported_by_industry_df"
   ]
  },
  {
   "cell_type": "code",
   "execution_count": 90,
   "metadata": {},
   "outputs": [
    {
     "data": {
      "text/plain": [
       "Index(['no_of_companies', 'metric_coverage_mean', 'metric_coverage_median'], dtype='object')"
      ]
     },
     "execution_count": 90,
     "metadata": {},
     "output_type": "execute_result"
    }
   ],
   "source": [
    "metrics_reported_by_industry_df.columns"
   ]
  },
  {
   "cell_type": "code",
   "execution_count": 91,
   "metadata": {},
   "outputs": [
    {
     "data": {
      "image/png": "[encoded data removed]",
      "text/plain": [
       "<Figure size 1000x600 with 2 Axes>"
      ]
     },
     "metadata": {},
     "output_type": "display_data"
    }
   ],
   "source": [
    "# Assuming you have a DataFrame named metrics_reported_by_industry_df\n",
    "# If not, replace with your actual DataFrame name\n",
    "df = metrics_reported_by_industry_df.copy()\n",
    "\n",
    "# Reset index if necessary (assuming year and industry are index columns)\n",
    "df = df.reset_index()\n",
    "\n",
    "# Pivot the DataFrame to have industries as rows, years as columns, and values as metric_coverage_mean\n",
    "heatmap_data = df.pivot(index=\"industry\", columns=\"year\", values=\"metric_coverage_mean\")\n",
    "\n",
    "# Set the figure size\n",
    "plt.figure(figsize=(10, 6))\n",
    "\n",
    "# Create the heatmap\n",
    "ax = sns.heatmap(heatmap_data, annot=True, cmap=\"RdYlGn\", fmt=\".2f\", linewidths=0.5)\n",
    "\n",
    "ax.xaxis.set_label_position(\"top\")\n",
    "ax.xaxis.tick_top()\n",
    "\n",
    "# Labels and title\n",
    "plt.xlabel(\"Year\")\n",
    "plt.ylabel(\"Industry\")\n",
    "plt.title(\"Mean Metric Coverage by Industry and Year\")\n",
    "\n",
    "# Show the heatmap\n",
    "plt.show()"
   ]
  },
  {
   "cell_type": "markdown",
   "metadata": {},
   "source": [
    "### Metrics reported by country HQ"
   ]
  },
  {
   "cell_type": "code",
   "execution_count": 92,
   "metadata": {},
   "outputs": [],
   "source": [
    "metrics_reported_by_country_df = metrics_reported_agg_df.groupby(\n",
    "    [\"year\", \"hq_country\"], as_index=True\n",
    ").agg(\n",
    "    no_of_companies=(\"company\", \"count\"),\n",
    "    metric_coverage_mean=(\"metric_coverage\", \"mean\"),\n",
    "    metric_coverage_median=(\"metric_coverage\", \"median\"),\n",
    ")\n",
    "\n",
    "metrics_reported_by_country_df = metrics_reported_by_country_df.query(\n",
    "    \"hq_country in ['Sweden', 'Norway', 'Denmark', 'Finland']\"\n",
    ")"
   ]
  },
  {
   "cell_type": "code",
   "execution_count": 93,
   "metadata": {},
   "outputs": [
    {
     "data": {
      "image/png": "[encoded data removed]",
      "text/plain": [
       "<Figure size 1000x600 with 2 Axes>"
      ]
     },
     "metadata": {},
     "output_type": "display_data"
    }
   ],
   "source": [
    "# Assuming you have a DataFrame named metrics_reported_by_industry_df\n",
    "# If not, replace with your actual DataFrame name\n",
    "df = metrics_reported_by_country_df.copy()\n",
    "\n",
    "# Reset index if necessary (assuming year and industry are index columns)\n",
    "df = df.reset_index()\n",
    "\n",
    "# Pivot the DataFrame to have industries as rows, years as columns, and values as metric_coverage_mean\n",
    "heatmap_data = df.pivot(\n",
    "    index=\"hq_country\", columns=\"year\", values=\"metric_coverage_mean\"\n",
    ")\n",
    "\n",
    "# Set the figure size\n",
    "plt.figure(figsize=(10, 6))\n",
    "\n",
    "# Create the heatmap\n",
    "ax = sns.heatmap(heatmap_data, annot=True, cmap=\"RdYlGn\", fmt=\".2f\", linewidths=0.5)\n",
    "\n",
    "ax.xaxis.set_label_position(\"top\")\n",
    "ax.xaxis.tick_top()\n",
    "\n",
    "# Labels and title\n",
    "plt.xlabel(\"Year\")\n",
    "plt.ylabel(\"HQ country\")\n",
    "plt.title(\"Mean Metric Coverage by Country and Year\")\n",
    "\n",
    "# Show the heatmap\n",
    "plt.show()"
   ]
  },
  {
   "cell_type": "markdown",
   "metadata": {},
   "source": [
    "## Industry-specific environmental score"
   ]
  },
  {
   "cell_type": "markdown",
   "metadata": {},
   "source": [
    "Metrics reported is a useful measure, but it can be misleading. Not all companies are equally affected by every metric, so each company must to determine what environmental factors are material to its operations. (Water discharges, for example, will be far more material for a mining company than for a technology company, and should be weighted accordingly.) I first calculate how material the metric is to each industry. This is done by calculating the mean value of each column. Because we are analysing Boolean columns, the higher the mean, the more companies report on this metric, and therefore the more important (material) this must be to the industry. "
   ]
  },
  {
   "cell_type": "markdown",
   "metadata": {},
   "source": [
    "\n",
    "\n",
    "The higher the mean, the higher the weight that metric is given to that industry. "
   ]
  },
  {
   "cell_type": "markdown",
   "metadata": {},
   "source": [
    "Okay, let's calculate the industry median first.\n",
    "\n",
    "This is taken as a percentage of all industry medians to give the weight of each column to the overall score for that column.\n",
    "So if the industry median for ghg_emis_bool is 0.6 for 'Energy' and 0.1 for 'Consumer Goods', then the weight for Energy is going to be 0.6/(0.6+0.1) = 90%\n",
    "\n"
   ]
  },
  {
   "cell_type": "markdown",
   "metadata": {},
   "source": [
    "### Calculate industry mean"
   ]
  },
  {
   "cell_type": "markdown",
   "metadata": {},
   "source": [
    "I decide which columns will be included in the environmental score."
   ]
  },
  {
   "cell_type": "markdown",
   "metadata": {},
   "source": [
    "```diff\n",
    "- If external audit is 0, there should be a deduction of 10 points from the final ESG score, I think... Remove it from the scoring columns, but use it at the end."
   ]
  },
  {
   "cell_type": "code",
   "execution_count": 94,
   "metadata": {},
   "outputs": [],
   "source": [
    "scoring_cols = [\n",
    "    \"external_audit_of_ESG_report\",  # decide whether to include this, or perhaps add it to the index\n",
    "    \"ceo_sust_statem\",\n",
    "    \"environmental_policy_and_assessment\",\n",
    "    \"environmental_performance_targets\",\n",
    "    \"reduced_environmental_impact\",\n",
    "    \"increased_renewable_energy\",\n",
    "    \"disclosure_of_raw_material_use\",\n",
    "    \"resource_efficiency_target\",\n",
    "    \"disclosure_of_water_discharges\",\n",
    "    \"supplier_guidelines\",\n",
    "    \"disclosure_of_suppliers_audited\",\n",
    "    \"disclosure_of_supplier_evaluation_procedures\",\n",
    "    \"supplier_environmental_assessment\",\n",
    "    \"energy_consump_bool\",\n",
    "    \"water_withdraw_bool\",\n",
    "    \"ghg_emis_bool\",\n",
    "    \"transport_emis_bool\",\n",
    "]"
   ]
  },
  {
   "cell_type": "markdown",
   "metadata": {},
   "source": [
    "I calculate the mean using values from 2019 to 2022, rather than calculating the mean for each year. The result will be used to assign materiality weights to each metric, so this method allows each metric to have the same weight from year to year, making it easier to compare companies across years. If I calculated the mean for each year, the materiality weight for each metric would vary from one year to the next, making it harder to determine whether a company has made progress from year to year.\n",
    "\n",
    "The potential downside of the chosen method is that some metrics may become more material over time, so it may be better to calculate mean values using the most recent year as a benchmark, or the most recent n years. This is something to consider when data is added to the database in future. LSEG (2024) calculates all weights against the latest data available for all companies; this is the best method in theory, but in practice the Nordic Compass database does not have enough data for each industry to rely only on the most recent year of data to set a benchmark.\n"
   ]
  },
  {
   "cell_type": "code",
   "execution_count": 95,
   "metadata": {},
   "outputs": [
    {
     "data": {
      "text/html": [
       "<div>\n",
       "<style scoped>\n",
       "    .dataframe tbody tr th:only-of-type {\n",
       "        vertical-align: middle;\n",
       "    }\n",
       "\n",
       "    .dataframe tbody tr th {\n",
       "        vertical-align: top;\n",
       "    }\n",
       "\n",
       "    .dataframe thead th {\n",
       "        text-align: right;\n",
       "    }\n",
       "</style>\n",
       "<table border=\"1\" class=\"dataframe\">\n",
       "  <thead>\n",
       "    <tr style=\"text-align: right;\">\n",
       "      <th></th>\n",
       "      <th>external_audit_of_ESG_report</th>\n",
       "      <th>ceo_sust_statem</th>\n",
       "      <th>environmental_policy_and_assessment</th>\n",
       "      <th>environmental_performance_targets</th>\n",
       "      <th>reduced_environmental_impact</th>\n",
       "      <th>increased_renewable_energy</th>\n",
       "      <th>disclosure_of_raw_material_use</th>\n",
       "      <th>resource_efficiency_target</th>\n",
       "      <th>disclosure_of_water_discharges</th>\n",
       "      <th>supplier_guidelines</th>\n",
       "      <th>disclosure_of_suppliers_audited</th>\n",
       "      <th>disclosure_of_supplier_evaluation_procedures</th>\n",
       "      <th>supplier_environmental_assessment</th>\n",
       "      <th>energy_consump_bool</th>\n",
       "      <th>water_withdraw_bool</th>\n",
       "      <th>ghg_emis_bool</th>\n",
       "      <th>transport_emis_bool</th>\n",
       "    </tr>\n",
       "    <tr>\n",
       "      <th>industry</th>\n",
       "      <th></th>\n",
       "      <th></th>\n",
       "      <th></th>\n",
       "      <th></th>\n",
       "      <th></th>\n",
       "      <th></th>\n",
       "      <th></th>\n",
       "      <th></th>\n",
       "      <th></th>\n",
       "      <th></th>\n",
       "      <th></th>\n",
       "      <th></th>\n",
       "      <th></th>\n",
       "      <th></th>\n",
       "      <th></th>\n",
       "      <th></th>\n",
       "      <th></th>\n",
       "    </tr>\n",
       "  </thead>\n",
       "  <tbody>\n",
       "    <tr>\n",
       "      <th>Basic Materials</th>\n",
       "      <td>0.65</td>\n",
       "      <td>0.85</td>\n",
       "      <td>0.99</td>\n",
       "      <td>0.93</td>\n",
       "      <td>0.91</td>\n",
       "      <td>0.35</td>\n",
       "      <td>0.73</td>\n",
       "      <td>0.69</td>\n",
       "      <td>0.53</td>\n",
       "      <td>0.88</td>\n",
       "      <td>0.60</td>\n",
       "      <td>0.58</td>\n",
       "      <td>0.81</td>\n",
       "      <td>0.90</td>\n",
       "      <td>0.85</td>\n",
       "      <td>0.88</td>\n",
       "      <td>0.52</td>\n",
       "    </tr>\n",
       "    <tr>\n",
       "      <th>Consumer Goods and Services</th>\n",
       "      <td>0.42</td>\n",
       "      <td>0.80</td>\n",
       "      <td>0.96</td>\n",
       "      <td>0.88</td>\n",
       "      <td>0.94</td>\n",
       "      <td>0.45</td>\n",
       "      <td>0.31</td>\n",
       "      <td>0.68</td>\n",
       "      <td>0.15</td>\n",
       "      <td>0.89</td>\n",
       "      <td>0.38</td>\n",
       "      <td>0.47</td>\n",
       "      <td>0.77</td>\n",
       "      <td>0.68</td>\n",
       "      <td>0.46</td>\n",
       "      <td>0.76</td>\n",
       "      <td>0.57</td>\n",
       "    </tr>\n",
       "    <tr>\n",
       "      <th>Energy and Utilities</th>\n",
       "      <td>0.26</td>\n",
       "      <td>0.74</td>\n",
       "      <td>0.91</td>\n",
       "      <td>0.82</td>\n",
       "      <td>0.85</td>\n",
       "      <td>0.19</td>\n",
       "      <td>0.05</td>\n",
       "      <td>0.54</td>\n",
       "      <td>0.25</td>\n",
       "      <td>0.71</td>\n",
       "      <td>0.38</td>\n",
       "      <td>0.38</td>\n",
       "      <td>0.59</td>\n",
       "      <td>0.66</td>\n",
       "      <td>0.31</td>\n",
       "      <td>0.66</td>\n",
       "      <td>0.49</td>\n",
       "    </tr>\n",
       "    <tr>\n",
       "      <th>Finance</th>\n",
       "      <td>0.42</td>\n",
       "      <td>0.75</td>\n",
       "      <td>0.90</td>\n",
       "      <td>0.78</td>\n",
       "      <td>0.87</td>\n",
       "      <td>0.35</td>\n",
       "      <td>0.09</td>\n",
       "      <td>0.46</td>\n",
       "      <td>0.01</td>\n",
       "      <td>0.77</td>\n",
       "      <td>0.20</td>\n",
       "      <td>0.30</td>\n",
       "      <td>0.63</td>\n",
       "      <td>0.59</td>\n",
       "      <td>0.30</td>\n",
       "      <td>0.68</td>\n",
       "      <td>0.63</td>\n",
       "    </tr>\n",
       "    <tr>\n",
       "      <th>Health Care</th>\n",
       "      <td>0.34</td>\n",
       "      <td>0.60</td>\n",
       "      <td>0.82</td>\n",
       "      <td>0.57</td>\n",
       "      <td>0.78</td>\n",
       "      <td>0.27</td>\n",
       "      <td>0.07</td>\n",
       "      <td>0.32</td>\n",
       "      <td>0.03</td>\n",
       "      <td>0.83</td>\n",
       "      <td>0.40</td>\n",
       "      <td>0.29</td>\n",
       "      <td>0.62</td>\n",
       "      <td>0.40</td>\n",
       "      <td>0.33</td>\n",
       "      <td>0.52</td>\n",
       "      <td>0.35</td>\n",
       "    </tr>\n",
       "    <tr>\n",
       "      <th>Industrial Goods and Services</th>\n",
       "      <td>0.40</td>\n",
       "      <td>0.81</td>\n",
       "      <td>0.94</td>\n",
       "      <td>0.84</td>\n",
       "      <td>0.94</td>\n",
       "      <td>0.38</td>\n",
       "      <td>0.12</td>\n",
       "      <td>0.59</td>\n",
       "      <td>0.06</td>\n",
       "      <td>0.85</td>\n",
       "      <td>0.41</td>\n",
       "      <td>0.44</td>\n",
       "      <td>0.69</td>\n",
       "      <td>0.60</td>\n",
       "      <td>0.32</td>\n",
       "      <td>0.66</td>\n",
       "      <td>0.47</td>\n",
       "    </tr>\n",
       "    <tr>\n",
       "      <th>Other</th>\n",
       "      <td>0.49</td>\n",
       "      <td>0.75</td>\n",
       "      <td>0.94</td>\n",
       "      <td>0.82</td>\n",
       "      <td>0.94</td>\n",
       "      <td>0.25</td>\n",
       "      <td>0.09</td>\n",
       "      <td>0.43</td>\n",
       "      <td>0.01</td>\n",
       "      <td>0.76</td>\n",
       "      <td>0.25</td>\n",
       "      <td>0.39</td>\n",
       "      <td>0.69</td>\n",
       "      <td>0.68</td>\n",
       "      <td>0.20</td>\n",
       "      <td>0.73</td>\n",
       "      <td>0.58</td>\n",
       "    </tr>\n",
       "    <tr>\n",
       "      <th>Technology</th>\n",
       "      <td>0.32</td>\n",
       "      <td>0.61</td>\n",
       "      <td>0.78</td>\n",
       "      <td>0.64</td>\n",
       "      <td>0.78</td>\n",
       "      <td>0.26</td>\n",
       "      <td>0.05</td>\n",
       "      <td>0.43</td>\n",
       "      <td>0.01</td>\n",
       "      <td>0.69</td>\n",
       "      <td>0.30</td>\n",
       "      <td>0.28</td>\n",
       "      <td>0.57</td>\n",
       "      <td>0.47</td>\n",
       "      <td>0.20</td>\n",
       "      <td>0.52</td>\n",
       "      <td>0.42</td>\n",
       "    </tr>\n",
       "  </tbody>\n",
       "</table>\n",
       "</div>"
      ],
      "text/plain": [
       "                               external_audit_of_ESG_report  ceo_sust_statem  \\\n",
       "industry                                                                       \n",
       "Basic Materials                                        0.65             0.85   \n",
       "Consumer Goods and Services                            0.42             0.80   \n",
       "Energy and Utilities                                   0.26             0.74   \n",
       "Finance                                                0.42             0.75   \n",
       "Health Care                                            0.34             0.60   \n",
       "Industrial Goods and Services                          0.40             0.81   \n",
       "Other                                                  0.49             0.75   \n",
       "Technology                                             0.32             0.61   \n",
       "\n",
       "                               environmental_policy_and_assessment  \\\n",
       "industry                                                             \n",
       "Basic Materials                                               0.99   \n",
       "Consumer Goods and Services                                   0.96   \n",
       "Energy and Utilities                                          0.91   \n",
       "Finance                                                       0.90   \n",
       "Health Care                                                   0.82   \n",
       "Industrial Goods and Services                                 0.94   \n",
       "Other                                                         0.94   \n",
       "Technology                                                    0.78   \n",
       "\n",
       "                               environmental_performance_targets  \\\n",
       "industry                                                           \n",
       "Basic Materials                                             0.93   \n",
       "Consumer Goods and Services                                 0.88   \n",
       "Energy and Utilities                                        0.82   \n",
       "Finance                                                     0.78   \n",
       "Health Care                                                 0.57   \n",
       "Industrial Goods and Services                               0.84   \n",
       "Other                                                       0.82   \n",
       "Technology                                                  0.64   \n",
       "\n",
       "                               reduced_environmental_impact  \\\n",
       "industry                                                      \n",
       "Basic Materials                                        0.91   \n",
       "Consumer Goods and Services                            0.94   \n",
       "Energy and Utilities                                   0.85   \n",
       "Finance                                                0.87   \n",
       "Health Care                                            0.78   \n",
       "Industrial Goods and Services                          0.94   \n",
       "Other                                                  0.94   \n",
       "Technology                                             0.78   \n",
       "\n",
       "                               increased_renewable_energy  \\\n",
       "industry                                                    \n",
       "Basic Materials                                      0.35   \n",
       "Consumer Goods and Services                          0.45   \n",
       "Energy and Utilities                                 0.19   \n",
       "Finance                                              0.35   \n",
       "Health Care                                          0.27   \n",
       "Industrial Goods and Services                        0.38   \n",
       "Other                                                0.25   \n",
       "Technology                                           0.26   \n",
       "\n",
       "                               disclosure_of_raw_material_use  \\\n",
       "industry                                                        \n",
       "Basic Materials                                          0.73   \n",
       "Consumer Goods and Services                              0.31   \n",
       "Energy and Utilities                                     0.05   \n",
       "Finance                                                  0.09   \n",
       "Health Care                                              0.07   \n",
       "Industrial Goods and Services                            0.12   \n",
       "Other                                                    0.09   \n",
       "Technology                                               0.05   \n",
       "\n",
       "                               resource_efficiency_target  \\\n",
       "industry                                                    \n",
       "Basic Materials                                      0.69   \n",
       "Consumer Goods and Services                          0.68   \n",
       "Energy and Utilities                                 0.54   \n",
       "Finance                                              0.46   \n",
       "Health Care                                          0.32   \n",
       "Industrial Goods and Services                        0.59   \n",
       "Other                                                0.43   \n",
       "Technology                                           0.43   \n",
       "\n",
       "                               disclosure_of_water_discharges  \\\n",
       "industry                                                        \n",
       "Basic Materials                                          0.53   \n",
       "Consumer Goods and Services                              0.15   \n",
       "Energy and Utilities                                     0.25   \n",
       "Finance                                                  0.01   \n",
       "Health Care                                              0.03   \n",
       "Industrial Goods and Services                            0.06   \n",
       "Other                                                    0.01   \n",
       "Technology                                               0.01   \n",
       "\n",
       "                               supplier_guidelines  \\\n",
       "industry                                             \n",
       "Basic Materials                               0.88   \n",
       "Consumer Goods and Services                   0.89   \n",
       "Energy and Utilities                          0.71   \n",
       "Finance                                       0.77   \n",
       "Health Care                                   0.83   \n",
       "Industrial Goods and Services                 0.85   \n",
       "Other                                         0.76   \n",
       "Technology                                    0.69   \n",
       "\n",
       "                               disclosure_of_suppliers_audited  \\\n",
       "industry                                                         \n",
       "Basic Materials                                           0.60   \n",
       "Consumer Goods and Services                               0.38   \n",
       "Energy and Utilities                                      0.38   \n",
       "Finance                                                   0.20   \n",
       "Health Care                                               0.40   \n",
       "Industrial Goods and Services                             0.41   \n",
       "Other                                                     0.25   \n",
       "Technology                                                0.30   \n",
       "\n",
       "                               disclosure_of_supplier_evaluation_procedures  \\\n",
       "industry                                                                      \n",
       "Basic Materials                                                        0.58   \n",
       "Consumer Goods and Services                                            0.47   \n",
       "Energy and Utilities                                                   0.38   \n",
       "Finance                                                                0.30   \n",
       "Health Care                                                            0.29   \n",
       "Industrial Goods and Services                                          0.44   \n",
       "Other                                                                  0.39   \n",
       "Technology                                                             0.28   \n",
       "\n",
       "                               supplier_environmental_assessment  \\\n",
       "industry                                                           \n",
       "Basic Materials                                             0.81   \n",
       "Consumer Goods and Services                                 0.77   \n",
       "Energy and Utilities                                        0.59   \n",
       "Finance                                                     0.63   \n",
       "Health Care                                                 0.62   \n",
       "Industrial Goods and Services                               0.69   \n",
       "Other                                                       0.69   \n",
       "Technology                                                  0.57   \n",
       "\n",
       "                               energy_consump_bool  water_withdraw_bool  \\\n",
       "industry                                                                  \n",
       "Basic Materials                               0.90                 0.85   \n",
       "Consumer Goods and Services                   0.68                 0.46   \n",
       "Energy and Utilities                          0.66                 0.31   \n",
       "Finance                                       0.59                 0.30   \n",
       "Health Care                                   0.40                 0.33   \n",
       "Industrial Goods and Services                 0.60                 0.32   \n",
       "Other                                         0.68                 0.20   \n",
       "Technology                                    0.47                 0.20   \n",
       "\n",
       "                               ghg_emis_bool  transport_emis_bool  \n",
       "industry                                                           \n",
       "Basic Materials                         0.88                 0.52  \n",
       "Consumer Goods and Services             0.76                 0.57  \n",
       "Energy and Utilities                    0.66                 0.49  \n",
       "Finance                                 0.68                 0.63  \n",
       "Health Care                             0.52                 0.35  \n",
       "Industrial Goods and Services           0.66                 0.47  \n",
       "Other                                   0.73                 0.58  \n",
       "Technology                              0.52                 0.42  "
      ]
     },
     "execution_count": 95,
     "metadata": {},
     "output_type": "execute_result"
    }
   ],
   "source": [
    "industry_means_all_years_df = reporting_df.groupby(\"industry\")[scoring_cols].mean()\n",
    "industry_means_all_years_df"
   ]
  },
  {
   "cell_type": "markdown",
   "metadata": {},
   "source": [
    "### Calculate materiality"
   ]
  },
  {
   "cell_type": "markdown",
   "metadata": {},
   "source": [
    "Once I have calculated the mean of each column for every industry, I am able to calculate the weight that should be given to that column. This is done by adding the mean of every column for a given industry, which gives me the 'industry_materiality_score'. I then divide the mean value for each column by the industry materiality score to calculate the materiality weight for each column.\n",
    "\n",
    "Industries with the highest 'industry_materiality_score' are assumed to be the industries with the most reporting requirements--more metrics are material for this industry than any other industry.\n",
    "\n",
    "This method differs slightly from the LSEG (2024) method: I incorporate data from all companies when calculating mean values, whereas LSEG considers only large- and mid-cap companies. I have only 10 rows of the data from small-cap companies, so the impact on the mean is minimal. (I could delete those 10 rows, but I would rather not, and it seems unnecessary to make my scoring functions more complicated to avoid using those 10 rows in the calculation.)\n",
    "\n",
    "```diff\n",
    "- This is a flawed approach, because materiality is decided by CSRD regulations rather than by the number of companies in the industry that have reported on a metric, but this approach is still useful given the data available, and is based on the method used by LSEG (2024). \n",
    "\n"
   ]
  },
  {
   "cell_type": "code",
   "execution_count": 96,
   "metadata": {},
   "outputs": [
    {
     "data": {
      "text/plain": [
       "segment\n",
       "Large    1028\n",
       "Mid       799\n",
       "Small      10\n",
       "Name: company, dtype: int64"
      ]
     },
     "execution_count": 96,
     "metadata": {},
     "output_type": "execute_result"
    }
   ],
   "source": [
    "reporting_df.groupby(\"segment\")[\"company\"].count()"
   ]
  },
  {
   "cell_type": "code",
   "execution_count": 97,
   "metadata": {},
   "outputs": [],
   "source": [
    "industry_weights_df = calculate_industry_weights(reporting_df, scoring_cols)"
   ]
  },
  {
   "cell_type": "code",
   "execution_count": 98,
   "metadata": {},
   "outputs": [],
   "source": [
    "# industry_weights_df"
   ]
  },
  {
   "cell_type": "code",
   "execution_count": 99,
   "metadata": {},
   "outputs": [
    {
     "data": {
      "text/html": [
       "<div>\n",
       "<style scoped>\n",
       "    .dataframe tbody tr th:only-of-type {\n",
       "        vertical-align: middle;\n",
       "    }\n",
       "\n",
       "    .dataframe tbody tr th {\n",
       "        vertical-align: top;\n",
       "    }\n",
       "\n",
       "    .dataframe thead th {\n",
       "        text-align: right;\n",
       "    }\n",
       "</style>\n",
       "<table border=\"1\" class=\"dataframe\">\n",
       "  <thead>\n",
       "    <tr style=\"text-align: right;\">\n",
       "      <th></th>\n",
       "      <th>industry_materiality_score</th>\n",
       "      <th>external_audit_of_ESG_report_materiality_weight</th>\n",
       "      <th>ceo_sust_statem_materiality_weight</th>\n",
       "      <th>environmental_policy_and_assessment_materiality_weight</th>\n",
       "      <th>environmental_performance_targets_materiality_weight</th>\n",
       "      <th>reduced_environmental_impact_materiality_weight</th>\n",
       "      <th>increased_renewable_energy_materiality_weight</th>\n",
       "      <th>disclosure_of_raw_material_use_materiality_weight</th>\n",
       "      <th>resource_efficiency_target_materiality_weight</th>\n",
       "      <th>disclosure_of_water_discharges_materiality_weight</th>\n",
       "      <th>supplier_guidelines_materiality_weight</th>\n",
       "      <th>disclosure_of_suppliers_audited_materiality_weight</th>\n",
       "      <th>disclosure_of_supplier_evaluation_procedures_materiality_weight</th>\n",
       "      <th>supplier_environmental_assessment_materiality_weight</th>\n",
       "      <th>energy_consump_bool_materiality_weight</th>\n",
       "      <th>water_withdraw_bool_materiality_weight</th>\n",
       "      <th>ghg_emis_bool_materiality_weight</th>\n",
       "      <th>transport_emis_bool_materiality_weight</th>\n",
       "    </tr>\n",
       "    <tr>\n",
       "      <th>industry</th>\n",
       "      <th></th>\n",
       "      <th></th>\n",
       "      <th></th>\n",
       "      <th></th>\n",
       "      <th></th>\n",
       "      <th></th>\n",
       "      <th></th>\n",
       "      <th></th>\n",
       "      <th></th>\n",
       "      <th></th>\n",
       "      <th></th>\n",
       "      <th></th>\n",
       "      <th></th>\n",
       "      <th></th>\n",
       "      <th></th>\n",
       "      <th></th>\n",
       "      <th></th>\n",
       "      <th></th>\n",
       "    </tr>\n",
       "  </thead>\n",
       "  <tbody>\n",
       "    <tr>\n",
       "      <th>Basic Materials</th>\n",
       "      <td>12.65</td>\n",
       "      <td>0.05</td>\n",
       "      <td>0.07</td>\n",
       "      <td>0.08</td>\n",
       "      <td>0.07</td>\n",
       "      <td>0.07</td>\n",
       "      <td>0.03</td>\n",
       "      <td>0.06</td>\n",
       "      <td>0.05</td>\n",
       "      <td>0.04</td>\n",
       "      <td>0.07</td>\n",
       "      <td>0.05</td>\n",
       "      <td>0.05</td>\n",
       "      <td>0.06</td>\n",
       "      <td>0.07</td>\n",
       "      <td>0.07</td>\n",
       "      <td>0.07</td>\n",
       "      <td>0.04</td>\n",
       "    </tr>\n",
       "    <tr>\n",
       "      <th>Consumer Goods and Services</th>\n",
       "      <td>10.55</td>\n",
       "      <td>0.04</td>\n",
       "      <td>0.08</td>\n",
       "      <td>0.09</td>\n",
       "      <td>0.08</td>\n",
       "      <td>0.09</td>\n",
       "      <td>0.04</td>\n",
       "      <td>0.03</td>\n",
       "      <td>0.06</td>\n",
       "      <td>0.01</td>\n",
       "      <td>0.08</td>\n",
       "      <td>0.04</td>\n",
       "      <td>0.04</td>\n",
       "      <td>0.07</td>\n",
       "      <td>0.06</td>\n",
       "      <td>0.04</td>\n",
       "      <td>0.07</td>\n",
       "      <td>0.05</td>\n",
       "    </tr>\n",
       "    <tr>\n",
       "      <th>Energy and Utilities</th>\n",
       "      <td>8.80</td>\n",
       "      <td>0.03</td>\n",
       "      <td>0.08</td>\n",
       "      <td>0.10</td>\n",
       "      <td>0.09</td>\n",
       "      <td>0.10</td>\n",
       "      <td>0.02</td>\n",
       "      <td>0.01</td>\n",
       "      <td>0.06</td>\n",
       "      <td>0.03</td>\n",
       "      <td>0.08</td>\n",
       "      <td>0.04</td>\n",
       "      <td>0.04</td>\n",
       "      <td>0.07</td>\n",
       "      <td>0.08</td>\n",
       "      <td>0.03</td>\n",
       "      <td>0.08</td>\n",
       "      <td>0.06</td>\n",
       "    </tr>\n",
       "    <tr>\n",
       "      <th>Finance</th>\n",
       "      <td>8.74</td>\n",
       "      <td>0.05</td>\n",
       "      <td>0.09</td>\n",
       "      <td>0.10</td>\n",
       "      <td>0.09</td>\n",
       "      <td>0.10</td>\n",
       "      <td>0.04</td>\n",
       "      <td>0.01</td>\n",
       "      <td>0.05</td>\n",
       "      <td>0.00</td>\n",
       "      <td>0.09</td>\n",
       "      <td>0.02</td>\n",
       "      <td>0.03</td>\n",
       "      <td>0.07</td>\n",
       "      <td>0.07</td>\n",
       "      <td>0.03</td>\n",
       "      <td>0.08</td>\n",
       "      <td>0.07</td>\n",
       "    </tr>\n",
       "    <tr>\n",
       "      <th>Health Care</th>\n",
       "      <td>7.57</td>\n",
       "      <td>0.05</td>\n",
       "      <td>0.08</td>\n",
       "      <td>0.11</td>\n",
       "      <td>0.08</td>\n",
       "      <td>0.10</td>\n",
       "      <td>0.04</td>\n",
       "      <td>0.01</td>\n",
       "      <td>0.04</td>\n",
       "      <td>0.00</td>\n",
       "      <td>0.11</td>\n",
       "      <td>0.05</td>\n",
       "      <td>0.04</td>\n",
       "      <td>0.08</td>\n",
       "      <td>0.05</td>\n",
       "      <td>0.04</td>\n",
       "      <td>0.07</td>\n",
       "      <td>0.05</td>\n",
       "    </tr>\n",
       "    <tr>\n",
       "      <th>Industrial Goods and Services</th>\n",
       "      <td>9.53</td>\n",
       "      <td>0.04</td>\n",
       "      <td>0.09</td>\n",
       "      <td>0.10</td>\n",
       "      <td>0.09</td>\n",
       "      <td>0.10</td>\n",
       "      <td>0.04</td>\n",
       "      <td>0.01</td>\n",
       "      <td>0.06</td>\n",
       "      <td>0.01</td>\n",
       "      <td>0.09</td>\n",
       "      <td>0.04</td>\n",
       "      <td>0.05</td>\n",
       "      <td>0.07</td>\n",
       "      <td>0.06</td>\n",
       "      <td>0.03</td>\n",
       "      <td>0.07</td>\n",
       "      <td>0.05</td>\n",
       "    </tr>\n",
       "    <tr>\n",
       "      <th>Other</th>\n",
       "      <td>8.99</td>\n",
       "      <td>0.05</td>\n",
       "      <td>0.08</td>\n",
       "      <td>0.10</td>\n",
       "      <td>0.09</td>\n",
       "      <td>0.10</td>\n",
       "      <td>0.03</td>\n",
       "      <td>0.01</td>\n",
       "      <td>0.05</td>\n",
       "      <td>0.00</td>\n",
       "      <td>0.09</td>\n",
       "      <td>0.03</td>\n",
       "      <td>0.04</td>\n",
       "      <td>0.08</td>\n",
       "      <td>0.08</td>\n",
       "      <td>0.02</td>\n",
       "      <td>0.08</td>\n",
       "      <td>0.06</td>\n",
       "    </tr>\n",
       "    <tr>\n",
       "      <th>Technology</th>\n",
       "      <td>7.32</td>\n",
       "      <td>0.04</td>\n",
       "      <td>0.08</td>\n",
       "      <td>0.11</td>\n",
       "      <td>0.09</td>\n",
       "      <td>0.11</td>\n",
       "      <td>0.03</td>\n",
       "      <td>0.01</td>\n",
       "      <td>0.06</td>\n",
       "      <td>0.00</td>\n",
       "      <td>0.09</td>\n",
       "      <td>0.04</td>\n",
       "      <td>0.04</td>\n",
       "      <td>0.08</td>\n",
       "      <td>0.06</td>\n",
       "      <td>0.03</td>\n",
       "      <td>0.07</td>\n",
       "      <td>0.06</td>\n",
       "    </tr>\n",
       "  </tbody>\n",
       "</table>\n",
       "</div>"
      ],
      "text/plain": [
       "                               industry_materiality_score  \\\n",
       "industry                                                    \n",
       "Basic Materials                                     12.65   \n",
       "Consumer Goods and Services                         10.55   \n",
       "Energy and Utilities                                 8.80   \n",
       "Finance                                              8.74   \n",
       "Health Care                                          7.57   \n",
       "Industrial Goods and Services                        9.53   \n",
       "Other                                                8.99   \n",
       "Technology                                           7.32   \n",
       "\n",
       "                               external_audit_of_ESG_report_materiality_weight  \\\n",
       "industry                                                                         \n",
       "Basic Materials                                                           0.05   \n",
       "Consumer Goods and Services                                               0.04   \n",
       "Energy and Utilities                                                      0.03   \n",
       "Finance                                                                   0.05   \n",
       "Health Care                                                               0.05   \n",
       "Industrial Goods and Services                                             0.04   \n",
       "Other                                                                     0.05   \n",
       "Technology                                                                0.04   \n",
       "\n",
       "                               ceo_sust_statem_materiality_weight  \\\n",
       "industry                                                            \n",
       "Basic Materials                                              0.07   \n",
       "Consumer Goods and Services                                  0.08   \n",
       "Energy and Utilities                                         0.08   \n",
       "Finance                                                      0.09   \n",
       "Health Care                                                  0.08   \n",
       "Industrial Goods and Services                                0.09   \n",
       "Other                                                        0.08   \n",
       "Technology                                                   0.08   \n",
       "\n",
       "                               environmental_policy_and_assessment_materiality_weight  \\\n",
       "industry                                                                                \n",
       "Basic Materials                                                             0.08        \n",
       "Consumer Goods and Services                                                 0.09        \n",
       "Energy and Utilities                                                        0.10        \n",
       "Finance                                                                     0.10        \n",
       "Health Care                                                                 0.11        \n",
       "Industrial Goods and Services                                               0.10        \n",
       "Other                                                                       0.10        \n",
       "Technology                                                                  0.11        \n",
       "\n",
       "                               environmental_performance_targets_materiality_weight  \\\n",
       "industry                                                                              \n",
       "Basic Materials                                                             0.07      \n",
       "Consumer Goods and Services                                                 0.08      \n",
       "Energy and Utilities                                                        0.09      \n",
       "Finance                                                                     0.09      \n",
       "Health Care                                                                 0.08      \n",
       "Industrial Goods and Services                                               0.09      \n",
       "Other                                                                       0.09      \n",
       "Technology                                                                  0.09      \n",
       "\n",
       "                               reduced_environmental_impact_materiality_weight  \\\n",
       "industry                                                                         \n",
       "Basic Materials                                                           0.07   \n",
       "Consumer Goods and Services                                               0.09   \n",
       "Energy and Utilities                                                      0.10   \n",
       "Finance                                                                   0.10   \n",
       "Health Care                                                               0.10   \n",
       "Industrial Goods and Services                                             0.10   \n",
       "Other                                                                     0.10   \n",
       "Technology                                                                0.11   \n",
       "\n",
       "                               increased_renewable_energy_materiality_weight  \\\n",
       "industry                                                                       \n",
       "Basic Materials                                                         0.03   \n",
       "Consumer Goods and Services                                             0.04   \n",
       "Energy and Utilities                                                    0.02   \n",
       "Finance                                                                 0.04   \n",
       "Health Care                                                             0.04   \n",
       "Industrial Goods and Services                                           0.04   \n",
       "Other                                                                   0.03   \n",
       "Technology                                                              0.03   \n",
       "\n",
       "                               disclosure_of_raw_material_use_materiality_weight  \\\n",
       "industry                                                                           \n",
       "Basic Materials                                                             0.06   \n",
       "Consumer Goods and Services                                                 0.03   \n",
       "Energy and Utilities                                                        0.01   \n",
       "Finance                                                                     0.01   \n",
       "Health Care                                                                 0.01   \n",
       "Industrial Goods and Services                                               0.01   \n",
       "Other                                                                       0.01   \n",
       "Technology                                                                  0.01   \n",
       "\n",
       "                               resource_efficiency_target_materiality_weight  \\\n",
       "industry                                                                       \n",
       "Basic Materials                                                         0.05   \n",
       "Consumer Goods and Services                                             0.06   \n",
       "Energy and Utilities                                                    0.06   \n",
       "Finance                                                                 0.05   \n",
       "Health Care                                                             0.04   \n",
       "Industrial Goods and Services                                           0.06   \n",
       "Other                                                                   0.05   \n",
       "Technology                                                              0.06   \n",
       "\n",
       "                               disclosure_of_water_discharges_materiality_weight  \\\n",
       "industry                                                                           \n",
       "Basic Materials                                                             0.04   \n",
       "Consumer Goods and Services                                                 0.01   \n",
       "Energy and Utilities                                                        0.03   \n",
       "Finance                                                                     0.00   \n",
       "Health Care                                                                 0.00   \n",
       "Industrial Goods and Services                                               0.01   \n",
       "Other                                                                       0.00   \n",
       "Technology                                                                  0.00   \n",
       "\n",
       "                               supplier_guidelines_materiality_weight  \\\n",
       "industry                                                                \n",
       "Basic Materials                                                  0.07   \n",
       "Consumer Goods and Services                                      0.08   \n",
       "Energy and Utilities                                             0.08   \n",
       "Finance                                                          0.09   \n",
       "Health Care                                                      0.11   \n",
       "Industrial Goods and Services                                    0.09   \n",
       "Other                                                            0.09   \n",
       "Technology                                                       0.09   \n",
       "\n",
       "                               disclosure_of_suppliers_audited_materiality_weight  \\\n",
       "industry                                                                            \n",
       "Basic Materials                                                             0.05    \n",
       "Consumer Goods and Services                                                 0.04    \n",
       "Energy and Utilities                                                        0.04    \n",
       "Finance                                                                     0.02    \n",
       "Health Care                                                                 0.05    \n",
       "Industrial Goods and Services                                               0.04    \n",
       "Other                                                                       0.03    \n",
       "Technology                                                                  0.04    \n",
       "\n",
       "                               disclosure_of_supplier_evaluation_procedures_materiality_weight  \\\n",
       "industry                                                                                         \n",
       "Basic Materials                                                             0.05                 \n",
       "Consumer Goods and Services                                                 0.04                 \n",
       "Energy and Utilities                                                        0.04                 \n",
       "Finance                                                                     0.03                 \n",
       "Health Care                                                                 0.04                 \n",
       "Industrial Goods and Services                                               0.05                 \n",
       "Other                                                                       0.04                 \n",
       "Technology                                                                  0.04                 \n",
       "\n",
       "                               supplier_environmental_assessment_materiality_weight  \\\n",
       "industry                                                                              \n",
       "Basic Materials                                                             0.06      \n",
       "Consumer Goods and Services                                                 0.07      \n",
       "Energy and Utilities                                                        0.07      \n",
       "Finance                                                                     0.07      \n",
       "Health Care                                                                 0.08      \n",
       "Industrial Goods and Services                                               0.07      \n",
       "Other                                                                       0.08      \n",
       "Technology                                                                  0.08      \n",
       "\n",
       "                               energy_consump_bool_materiality_weight  \\\n",
       "industry                                                                \n",
       "Basic Materials                                                  0.07   \n",
       "Consumer Goods and Services                                      0.06   \n",
       "Energy and Utilities                                             0.08   \n",
       "Finance                                                          0.07   \n",
       "Health Care                                                      0.05   \n",
       "Industrial Goods and Services                                    0.06   \n",
       "Other                                                            0.08   \n",
       "Technology                                                       0.06   \n",
       "\n",
       "                               water_withdraw_bool_materiality_weight  \\\n",
       "industry                                                                \n",
       "Basic Materials                                                  0.07   \n",
       "Consumer Goods and Services                                      0.04   \n",
       "Energy and Utilities                                             0.03   \n",
       "Finance                                                          0.03   \n",
       "Health Care                                                      0.04   \n",
       "Industrial Goods and Services                                    0.03   \n",
       "Other                                                            0.02   \n",
       "Technology                                                       0.03   \n",
       "\n",
       "                               ghg_emis_bool_materiality_weight  \\\n",
       "industry                                                          \n",
       "Basic Materials                                            0.07   \n",
       "Consumer Goods and Services                                0.07   \n",
       "Energy and Utilities                                       0.08   \n",
       "Finance                                                    0.08   \n",
       "Health Care                                                0.07   \n",
       "Industrial Goods and Services                              0.07   \n",
       "Other                                                      0.08   \n",
       "Technology                                                 0.07   \n",
       "\n",
       "                               transport_emis_bool_materiality_weight  \n",
       "industry                                                               \n",
       "Basic Materials                                                  0.04  \n",
       "Consumer Goods and Services                                      0.05  \n",
       "Energy and Utilities                                             0.06  \n",
       "Finance                                                          0.07  \n",
       "Health Care                                                      0.05  \n",
       "Industrial Goods and Services                                    0.05  \n",
       "Other                                                            0.06  \n",
       "Technology                                                       0.06  "
      ]
     },
     "execution_count": 99,
     "metadata": {},
     "output_type": "execute_result"
    }
   ],
   "source": [
    "# Show only materiality weight columns and the materiality score\n",
    "industry_weights_df[\n",
    "    [\"industry_materiality_score\"]\n",
    "    + [f\"{col}_materiality_weight\" for col in scoring_cols]\n",
    "]"
   ]
  },
  {
   "cell_type": "markdown",
   "metadata": {},
   "source": [
    "### Calculate company percentiles"
   ]
  },
  {
   "cell_type": "markdown",
   "metadata": {},
   "source": [
    "Company percentiles are calculated by comparing the value of each metric to other companies in the industry. Given that each metric is Boolean (either 1 or 0), only those values of 1 will be calculated as a relative percentile rank--a company with a value of 0 for a given metric will receive a percentile rank of 0 for that metric.\n",
    "\n",
    "For companies with a value of 1 for a given metric, the percentile rank is calculated as follows: \n",
    "\n",
    "$$\n",
    "\n",
    "\\text{score} = \\frac{\\text{no. of companies with a worse value} + \\frac{\\text{no. of companies with the same value, inc. current company}}{2}}{\\text{total no. of companies}}\n",
    "\n",
    "$$\n"
   ]
  },
  {
   "cell_type": "code",
   "execution_count": 100,
   "metadata": {},
   "outputs": [],
   "source": [
    "company_percentiles_by_industry_df = calculate_company_percentiles(\n",
    "    reporting_df, scoring_cols, by_industry=True\n",
    ")"
   ]
  },
  {
   "cell_type": "code",
   "execution_count": 101,
   "metadata": {},
   "outputs": [
    {
     "data": {
      "text/html": [
       "<div>\n",
       "<style scoped>\n",
       "    .dataframe tbody tr th:only-of-type {\n",
       "        vertical-align: middle;\n",
       "    }\n",
       "\n",
       "    .dataframe tbody tr th {\n",
       "        vertical-align: top;\n",
       "    }\n",
       "\n",
       "    .dataframe thead th {\n",
       "        text-align: right;\n",
       "    }\n",
       "</style>\n",
       "<table border=\"1\" class=\"dataframe\">\n",
       "  <thead>\n",
       "    <tr style=\"text-align: right;\">\n",
       "      <th></th>\n",
       "      <th>company</th>\n",
       "      <th>ticker</th>\n",
       "      <th>year</th>\n",
       "      <th>hq_country</th>\n",
       "      <th>revenue_MEUR</th>\n",
       "      <th>industry</th>\n",
       "      <th>external_audit_of_ESG_report_percentile</th>\n",
       "      <th>ceo_sust_statem_percentile</th>\n",
       "      <th>environmental_policy_and_assessment_percentile</th>\n",
       "      <th>environmental_performance_targets_percentile</th>\n",
       "      <th>reduced_environmental_impact_percentile</th>\n",
       "      <th>increased_renewable_energy_percentile</th>\n",
       "      <th>disclosure_of_raw_material_use_percentile</th>\n",
       "      <th>resource_efficiency_target_percentile</th>\n",
       "      <th>disclosure_of_water_discharges_percentile</th>\n",
       "      <th>supplier_guidelines_percentile</th>\n",
       "      <th>disclosure_of_suppliers_audited_percentile</th>\n",
       "      <th>disclosure_of_supplier_evaluation_procedures_percentile</th>\n",
       "      <th>supplier_environmental_assessment_percentile</th>\n",
       "      <th>energy_consump_bool_percentile</th>\n",
       "      <th>water_withdraw_bool_percentile</th>\n",
       "      <th>ghg_emis_bool_percentile</th>\n",
       "      <th>transport_emis_bool_percentile</th>\n",
       "    </tr>\n",
       "  </thead>\n",
       "  <tbody>\n",
       "    <tr>\n",
       "      <th>453</th>\n",
       "      <td>Archer Ltd.</td>\n",
       "      <td>ARCHO</td>\n",
       "      <td>2020</td>\n",
       "      <td>Norway</td>\n",
       "      <td>735.71</td>\n",
       "      <td>Energy and Utilities</td>\n",
       "      <td>0.87</td>\n",
       "      <td>0.60</td>\n",
       "      <td>0.54</td>\n",
       "      <td>0.55</td>\n",
       "      <td>0.56</td>\n",
       "      <td>0.00</td>\n",
       "      <td>0.00</td>\n",
       "      <td>0.60</td>\n",
       "      <td>0.00</td>\n",
       "      <td>0.66</td>\n",
       "      <td>0.79</td>\n",
       "      <td>0.00</td>\n",
       "      <td>0.00</td>\n",
       "      <td>0.63</td>\n",
       "      <td>0.00</td>\n",
       "      <td>0.00</td>\n",
       "      <td>0.00</td>\n",
       "    </tr>\n",
       "  </tbody>\n",
       "</table>\n",
       "</div>"
      ],
      "text/plain": [
       "         company ticker  year hq_country  revenue_MEUR              industry  \\\n",
       "453  Archer Ltd.  ARCHO  2020     Norway        735.71  Energy and Utilities   \n",
       "\n",
       "     external_audit_of_ESG_report_percentile  ceo_sust_statem_percentile  \\\n",
       "453                                     0.87                        0.60   \n",
       "\n",
       "     environmental_policy_and_assessment_percentile  \\\n",
       "453                                            0.54   \n",
       "\n",
       "     environmental_performance_targets_percentile  \\\n",
       "453                                          0.55   \n",
       "\n",
       "     reduced_environmental_impact_percentile  \\\n",
       "453                                     0.56   \n",
       "\n",
       "     increased_renewable_energy_percentile  \\\n",
       "453                                   0.00   \n",
       "\n",
       "     disclosure_of_raw_material_use_percentile  \\\n",
       "453                                       0.00   \n",
       "\n",
       "     resource_efficiency_target_percentile  \\\n",
       "453                                   0.60   \n",
       "\n",
       "     disclosure_of_water_discharges_percentile  \\\n",
       "453                                       0.00   \n",
       "\n",
       "     supplier_guidelines_percentile  \\\n",
       "453                            0.66   \n",
       "\n",
       "     disclosure_of_suppliers_audited_percentile  \\\n",
       "453                                        0.79   \n",
       "\n",
       "     disclosure_of_supplier_evaluation_procedures_percentile  \\\n",
       "453                                               0.00         \n",
       "\n",
       "     supplier_environmental_assessment_percentile  \\\n",
       "453                                          0.00   \n",
       "\n",
       "     energy_consump_bool_percentile  water_withdraw_bool_percentile  \\\n",
       "453                            0.63                            0.00   \n",
       "\n",
       "     ghg_emis_bool_percentile  transport_emis_bool_percentile  \n",
       "453                      0.00                            0.00  "
      ]
     },
     "execution_count": 101,
     "metadata": {},
     "output_type": "execute_result"
    }
   ],
   "source": [
    "company_percentiles_by_industry_df[\n",
    "    company_percentiles_by_industry_df[\"company\"] == \"Archer Ltd.\"\n",
    "]"
   ]
  },
  {
   "cell_type": "markdown",
   "metadata": {},
   "source": [
    "### Calculate score"
   ]
  },
  {
   "cell_type": "markdown",
   "metadata": {},
   "source": [
    "The environmental score for each company is calculated by multiplying the percentile for each metric with that metric's relative weight. These values are then added to give a raw score. To calculate the adjusted score, these raw scores are then converted to percentiles, giving each company a score that reflects their ranking relative to others in the same industry. This is then converted to a rating, from A+ to D-."
   ]
  },
  {
   "cell_type": "markdown",
   "metadata": {},
   "source": [
    "I first calculate the raw score."
   ]
  },
  {
   "cell_type": "code",
   "execution_count": 102,
   "metadata": {},
   "outputs": [],
   "source": [
    "sector_specific_scoring_df = calculate_raw_score(\n",
    "    company_percentiles_by_industry_df, industry_weights_df, scoring_cols\n",
    ")"
   ]
  },
  {
   "cell_type": "code",
   "execution_count": 103,
   "metadata": {},
   "outputs": [
    {
     "data": {
      "text/html": [
       "<div>\n",
       "<style scoped>\n",
       "    .dataframe tbody tr th:only-of-type {\n",
       "        vertical-align: middle;\n",
       "    }\n",
       "\n",
       "    .dataframe tbody tr th {\n",
       "        vertical-align: top;\n",
       "    }\n",
       "\n",
       "    .dataframe thead th {\n",
       "        text-align: right;\n",
       "    }\n",
       "</style>\n",
       "<table border=\"1\" class=\"dataframe\">\n",
       "  <thead>\n",
       "    <tr style=\"text-align: right;\">\n",
       "      <th></th>\n",
       "      <th>company</th>\n",
       "      <th>ticker</th>\n",
       "      <th>year</th>\n",
       "      <th>hq_country</th>\n",
       "      <th>revenue_MEUR</th>\n",
       "      <th>industry</th>\n",
       "      <th>industry_score_raw</th>\n",
       "      <th>external_audit_of_ESG_report_score</th>\n",
       "      <th>ceo_sust_statem_score</th>\n",
       "      <th>environmental_policy_and_assessment_score</th>\n",
       "      <th>environmental_performance_targets_score</th>\n",
       "      <th>reduced_environmental_impact_score</th>\n",
       "      <th>increased_renewable_energy_score</th>\n",
       "      <th>disclosure_of_raw_material_use_score</th>\n",
       "      <th>resource_efficiency_target_score</th>\n",
       "      <th>disclosure_of_water_discharges_score</th>\n",
       "      <th>supplier_guidelines_score</th>\n",
       "      <th>disclosure_of_suppliers_audited_score</th>\n",
       "      <th>disclosure_of_supplier_evaluation_procedures_score</th>\n",
       "      <th>supplier_environmental_assessment_score</th>\n",
       "      <th>energy_consump_bool_score</th>\n",
       "      <th>water_withdraw_bool_score</th>\n",
       "      <th>ghg_emis_bool_score</th>\n",
       "      <th>transport_emis_bool_score</th>\n",
       "    </tr>\n",
       "  </thead>\n",
       "  <tbody>\n",
       "    <tr>\n",
       "      <th>453</th>\n",
       "      <td>Archer Ltd.</td>\n",
       "      <td>ARCHO</td>\n",
       "      <td>2020</td>\n",
       "      <td>Norway</td>\n",
       "      <td>735.71</td>\n",
       "      <td>Energy and Utilities</td>\n",
       "      <td>0.41</td>\n",
       "      <td>0.03</td>\n",
       "      <td>0.05</td>\n",
       "      <td>0.06</td>\n",
       "      <td>0.05</td>\n",
       "      <td>0.05</td>\n",
       "      <td>0.00</td>\n",
       "      <td>0.00</td>\n",
       "      <td>0.04</td>\n",
       "      <td>0.00</td>\n",
       "      <td>0.05</td>\n",
       "      <td>0.03</td>\n",
       "      <td>0.00</td>\n",
       "      <td>0.00</td>\n",
       "      <td>0.05</td>\n",
       "      <td>0.00</td>\n",
       "      <td>0.00</td>\n",
       "      <td>0.00</td>\n",
       "    </tr>\n",
       "    <tr>\n",
       "      <th>454</th>\n",
       "      <td>Avance Gas Holding ltd</td>\n",
       "      <td>AGAS</td>\n",
       "      <td>2020</td>\n",
       "      <td>Norway</td>\n",
       "      <td>183.68</td>\n",
       "      <td>Energy and Utilities</td>\n",
       "      <td>0.37</td>\n",
       "      <td>0.03</td>\n",
       "      <td>0.05</td>\n",
       "      <td>0.06</td>\n",
       "      <td>0.05</td>\n",
       "      <td>0.05</td>\n",
       "      <td>0.00</td>\n",
       "      <td>0.00</td>\n",
       "      <td>0.04</td>\n",
       "      <td>0.00</td>\n",
       "      <td>0.05</td>\n",
       "      <td>0.00</td>\n",
       "      <td>0.00</td>\n",
       "      <td>0.00</td>\n",
       "      <td>0.05</td>\n",
       "      <td>0.00</td>\n",
       "      <td>0.00</td>\n",
       "      <td>0.00</td>\n",
       "    </tr>\n",
       "    <tr>\n",
       "      <th>455</th>\n",
       "      <td>Borr Drilling Ltd</td>\n",
       "      <td>BDRILL</td>\n",
       "      <td>2020</td>\n",
       "      <td>Other</td>\n",
       "      <td>274.55</td>\n",
       "      <td>Energy and Utilities</td>\n",
       "      <td>0.52</td>\n",
       "      <td>0.00</td>\n",
       "      <td>0.05</td>\n",
       "      <td>0.06</td>\n",
       "      <td>0.05</td>\n",
       "      <td>0.05</td>\n",
       "      <td>0.00</td>\n",
       "      <td>0.00</td>\n",
       "      <td>0.04</td>\n",
       "      <td>0.00</td>\n",
       "      <td>0.05</td>\n",
       "      <td>0.03</td>\n",
       "      <td>0.04</td>\n",
       "      <td>0.05</td>\n",
       "      <td>0.05</td>\n",
       "      <td>0.00</td>\n",
       "      <td>0.05</td>\n",
       "      <td>0.00</td>\n",
       "    </tr>\n",
       "    <tr>\n",
       "      <th>456</th>\n",
       "      <td>BW LPG</td>\n",
       "      <td>BWLPG</td>\n",
       "      <td>2020</td>\n",
       "      <td>Other</td>\n",
       "      <td>555.01</td>\n",
       "      <td>Energy and Utilities</td>\n",
       "      <td>0.47</td>\n",
       "      <td>0.00</td>\n",
       "      <td>0.05</td>\n",
       "      <td>0.06</td>\n",
       "      <td>0.05</td>\n",
       "      <td>0.05</td>\n",
       "      <td>0.00</td>\n",
       "      <td>0.00</td>\n",
       "      <td>0.04</td>\n",
       "      <td>0.00</td>\n",
       "      <td>0.05</td>\n",
       "      <td>0.03</td>\n",
       "      <td>0.04</td>\n",
       "      <td>0.05</td>\n",
       "      <td>0.05</td>\n",
       "      <td>0.00</td>\n",
       "      <td>0.00</td>\n",
       "      <td>0.00</td>\n",
       "    </tr>\n",
       "    <tr>\n",
       "      <th>457</th>\n",
       "      <td>BW Offshore Limited</td>\n",
       "      <td>BWO</td>\n",
       "      <td>2020</td>\n",
       "      <td>Other</td>\n",
       "      <td>720.65</td>\n",
       "      <td>Energy and Utilities</td>\n",
       "      <td>0.42</td>\n",
       "      <td>0.00</td>\n",
       "      <td>0.05</td>\n",
       "      <td>0.06</td>\n",
       "      <td>0.05</td>\n",
       "      <td>0.05</td>\n",
       "      <td>0.00</td>\n",
       "      <td>0.00</td>\n",
       "      <td>0.04</td>\n",
       "      <td>0.02</td>\n",
       "      <td>0.05</td>\n",
       "      <td>0.00</td>\n",
       "      <td>0.00</td>\n",
       "      <td>0.05</td>\n",
       "      <td>0.05</td>\n",
       "      <td>0.00</td>\n",
       "      <td>0.00</td>\n",
       "      <td>0.00</td>\n",
       "    </tr>\n",
       "  </tbody>\n",
       "</table>\n",
       "</div>"
      ],
      "text/plain": [
       "                    company  ticker  year hq_country  revenue_MEUR  \\\n",
       "453             Archer Ltd.   ARCHO  2020     Norway        735.71   \n",
       "454  Avance Gas Holding ltd    AGAS  2020     Norway        183.68   \n",
       "455       Borr Drilling Ltd  BDRILL  2020      Other        274.55   \n",
       "456                  BW LPG   BWLPG  2020      Other        555.01   \n",
       "457     BW Offshore Limited     BWO  2020      Other        720.65   \n",
       "\n",
       "                 industry  industry_score_raw  \\\n",
       "453  Energy and Utilities                0.41   \n",
       "454  Energy and Utilities                0.37   \n",
       "455  Energy and Utilities                0.52   \n",
       "456  Energy and Utilities                0.47   \n",
       "457  Energy and Utilities                0.42   \n",
       "\n",
       "     external_audit_of_ESG_report_score  ceo_sust_statem_score  \\\n",
       "453                                0.03                   0.05   \n",
       "454                                0.03                   0.05   \n",
       "455                                0.00                   0.05   \n",
       "456                                0.00                   0.05   \n",
       "457                                0.00                   0.05   \n",
       "\n",
       "     environmental_policy_and_assessment_score  \\\n",
       "453                                       0.06   \n",
       "454                                       0.06   \n",
       "455                                       0.06   \n",
       "456                                       0.06   \n",
       "457                                       0.06   \n",
       "\n",
       "     environmental_performance_targets_score  \\\n",
       "453                                     0.05   \n",
       "454                                     0.05   \n",
       "455                                     0.05   \n",
       "456                                     0.05   \n",
       "457                                     0.05   \n",
       "\n",
       "     reduced_environmental_impact_score  increased_renewable_energy_score  \\\n",
       "453                                0.05                              0.00   \n",
       "454                                0.05                              0.00   \n",
       "455                                0.05                              0.00   \n",
       "456                                0.05                              0.00   \n",
       "457                                0.05                              0.00   \n",
       "\n",
       "     disclosure_of_raw_material_use_score  resource_efficiency_target_score  \\\n",
       "453                                  0.00                              0.04   \n",
       "454                                  0.00                              0.04   \n",
       "455                                  0.00                              0.04   \n",
       "456                                  0.00                              0.04   \n",
       "457                                  0.00                              0.04   \n",
       "\n",
       "     disclosure_of_water_discharges_score  supplier_guidelines_score  \\\n",
       "453                                  0.00                       0.05   \n",
       "454                                  0.00                       0.05   \n",
       "455                                  0.00                       0.05   \n",
       "456                                  0.00                       0.05   \n",
       "457                                  0.02                       0.05   \n",
       "\n",
       "     disclosure_of_suppliers_audited_score  \\\n",
       "453                                   0.03   \n",
       "454                                   0.00   \n",
       "455                                   0.03   \n",
       "456                                   0.03   \n",
       "457                                   0.00   \n",
       "\n",
       "     disclosure_of_supplier_evaluation_procedures_score  \\\n",
       "453                                               0.00    \n",
       "454                                               0.00    \n",
       "455                                               0.04    \n",
       "456                                               0.04    \n",
       "457                                               0.00    \n",
       "\n",
       "     supplier_environmental_assessment_score  energy_consump_bool_score  \\\n",
       "453                                     0.00                       0.05   \n",
       "454                                     0.00                       0.05   \n",
       "455                                     0.05                       0.05   \n",
       "456                                     0.05                       0.05   \n",
       "457                                     0.05                       0.05   \n",
       "\n",
       "     water_withdraw_bool_score  ghg_emis_bool_score  transport_emis_bool_score  \n",
       "453                       0.00                 0.00                       0.00  \n",
       "454                       0.00                 0.00                       0.00  \n",
       "455                       0.00                 0.05                       0.00  \n",
       "456                       0.00                 0.00                       0.00  \n",
       "457                       0.00                 0.00                       0.00  "
      ]
     },
     "execution_count": 103,
     "metadata": {},
     "output_type": "execute_result"
    }
   ],
   "source": [
    "sector_specific_scoring_df[\n",
    "    (sector_specific_scoring_df[\"industry\"] == \"Energy and Utilities\")\n",
    "    & (sector_specific_scoring_df[\"year\"] == 2020)\n",
    "].head()"
   ]
  },
  {
   "cell_type": "markdown",
   "metadata": {},
   "source": [
    "I then calculate an adjusted score by converting the raw score into a percentile relative to other companies in the same industry and the same year. I created an option in the function to group by_industry or to compare against all companies, regardless of industry. To calculate the sector-specific score, I group by industry. Later, when calculating the cross-sector score, I will compare to all other companies."
   ]
  },
  {
   "cell_type": "code",
   "execution_count": 104,
   "metadata": {},
   "outputs": [],
   "source": [
    "sector_specific_scoring_df = calculate_adjusted_score(\n",
    "    sector_specific_scoring_df, raw_column=\"industry_score_raw\", by_industry=True\n",
    ")"
   ]
  },
  {
   "cell_type": "code",
   "execution_count": 105,
   "metadata": {},
   "outputs": [
    {
     "data": {
      "text/html": [
       "<div>\n",
       "<style scoped>\n",
       "    .dataframe tbody tr th:only-of-type {\n",
       "        vertical-align: middle;\n",
       "    }\n",
       "\n",
       "    .dataframe tbody tr th {\n",
       "        vertical-align: top;\n",
       "    }\n",
       "\n",
       "    .dataframe thead th {\n",
       "        text-align: right;\n",
       "    }\n",
       "</style>\n",
       "<table border=\"1\" class=\"dataframe\">\n",
       "  <thead>\n",
       "    <tr style=\"text-align: right;\">\n",
       "      <th></th>\n",
       "      <th>company</th>\n",
       "      <th>ticker</th>\n",
       "      <th>year</th>\n",
       "      <th>hq_country</th>\n",
       "      <th>revenue_MEUR</th>\n",
       "      <th>industry</th>\n",
       "      <th>industry_score_raw</th>\n",
       "      <th>external_audit_of_ESG_report_score</th>\n",
       "      <th>ceo_sust_statem_score</th>\n",
       "      <th>environmental_policy_and_assessment_score</th>\n",
       "      <th>environmental_performance_targets_score</th>\n",
       "      <th>reduced_environmental_impact_score</th>\n",
       "      <th>increased_renewable_energy_score</th>\n",
       "      <th>disclosure_of_raw_material_use_score</th>\n",
       "      <th>resource_efficiency_target_score</th>\n",
       "      <th>disclosure_of_water_discharges_score</th>\n",
       "      <th>supplier_guidelines_score</th>\n",
       "      <th>disclosure_of_suppliers_audited_score</th>\n",
       "      <th>disclosure_of_supplier_evaluation_procedures_score</th>\n",
       "      <th>supplier_environmental_assessment_score</th>\n",
       "      <th>energy_consump_bool_score</th>\n",
       "      <th>water_withdraw_bool_score</th>\n",
       "      <th>ghg_emis_bool_score</th>\n",
       "      <th>transport_emis_bool_score</th>\n",
       "      <th>industry_score_adjusted</th>\n",
       "    </tr>\n",
       "  </thead>\n",
       "  <tbody>\n",
       "    <tr>\n",
       "      <th>0</th>\n",
       "      <td>Josemaria Resources Inc.</td>\n",
       "      <td>JOSE</td>\n",
       "      <td>2019</td>\n",
       "      <td>Other</td>\n",
       "      <td>NaN</td>\n",
       "      <td>Basic Materials</td>\n",
       "      <td>0.08</td>\n",
       "      <td>0.00</td>\n",
       "      <td>0.00</td>\n",
       "      <td>0.04</td>\n",
       "      <td>0.00</td>\n",
       "      <td>0.00</td>\n",
       "      <td>0.00</td>\n",
       "      <td>0.00</td>\n",
       "      <td>0.04</td>\n",
       "      <td>0.00</td>\n",
       "      <td>0.00</td>\n",
       "      <td>0.00</td>\n",
       "      <td>0.00</td>\n",
       "      <td>0.00</td>\n",
       "      <td>0.00</td>\n",
       "      <td>0.00</td>\n",
       "      <td>0.00</td>\n",
       "      <td>0.00</td>\n",
       "      <td>0.06</td>\n",
       "    </tr>\n",
       "    <tr>\n",
       "      <th>1</th>\n",
       "      <td>Lucara Diamond Corp.</td>\n",
       "      <td>LUC</td>\n",
       "      <td>2019</td>\n",
       "      <td>Other</td>\n",
       "      <td>171.92</td>\n",
       "      <td>Basic Materials</td>\n",
       "      <td>0.31</td>\n",
       "      <td>0.03</td>\n",
       "      <td>0.04</td>\n",
       "      <td>0.04</td>\n",
       "      <td>0.00</td>\n",
       "      <td>0.00</td>\n",
       "      <td>0.00</td>\n",
       "      <td>0.00</td>\n",
       "      <td>0.04</td>\n",
       "      <td>0.00</td>\n",
       "      <td>0.00</td>\n",
       "      <td>0.00</td>\n",
       "      <td>0.00</td>\n",
       "      <td>0.00</td>\n",
       "      <td>0.04</td>\n",
       "      <td>0.04</td>\n",
       "      <td>0.04</td>\n",
       "      <td>0.03</td>\n",
       "      <td>0.18</td>\n",
       "    </tr>\n",
       "    <tr>\n",
       "      <th>2</th>\n",
       "      <td>Lundin Gold Inc.</td>\n",
       "      <td>LUG</td>\n",
       "      <td>2019</td>\n",
       "      <td>Other</td>\n",
       "      <td>NaN</td>\n",
       "      <td>Basic Materials</td>\n",
       "      <td>0.19</td>\n",
       "      <td>0.00</td>\n",
       "      <td>0.04</td>\n",
       "      <td>0.04</td>\n",
       "      <td>0.00</td>\n",
       "      <td>0.00</td>\n",
       "      <td>0.00</td>\n",
       "      <td>0.00</td>\n",
       "      <td>0.00</td>\n",
       "      <td>0.00</td>\n",
       "      <td>0.00</td>\n",
       "      <td>0.00</td>\n",
       "      <td>0.00</td>\n",
       "      <td>0.00</td>\n",
       "      <td>0.00</td>\n",
       "      <td>0.04</td>\n",
       "      <td>0.04</td>\n",
       "      <td>0.03</td>\n",
       "      <td>0.10</td>\n",
       "    </tr>\n",
       "    <tr>\n",
       "      <th>3</th>\n",
       "      <td>Lundin Mining Corporation</td>\n",
       "      <td>LUMI</td>\n",
       "      <td>2019</td>\n",
       "      <td>Other</td>\n",
       "      <td>1,689.92</td>\n",
       "      <td>Basic Materials</td>\n",
       "      <td>0.46</td>\n",
       "      <td>0.03</td>\n",
       "      <td>0.04</td>\n",
       "      <td>0.04</td>\n",
       "      <td>0.04</td>\n",
       "      <td>0.04</td>\n",
       "      <td>0.02</td>\n",
       "      <td>0.00</td>\n",
       "      <td>0.04</td>\n",
       "      <td>0.03</td>\n",
       "      <td>0.05</td>\n",
       "      <td>0.00</td>\n",
       "      <td>0.00</td>\n",
       "      <td>0.00</td>\n",
       "      <td>0.04</td>\n",
       "      <td>0.04</td>\n",
       "      <td>0.04</td>\n",
       "      <td>0.00</td>\n",
       "      <td>0.42</td>\n",
       "    </tr>\n",
       "    <tr>\n",
       "      <th>4</th>\n",
       "      <td>H+H International A/S</td>\n",
       "      <td>HH</td>\n",
       "      <td>2019</td>\n",
       "      <td>Denmark</td>\n",
       "      <td>380.19</td>\n",
       "      <td>Basic Materials</td>\n",
       "      <td>0.27</td>\n",
       "      <td>0.00</td>\n",
       "      <td>0.00</td>\n",
       "      <td>0.04</td>\n",
       "      <td>0.04</td>\n",
       "      <td>0.04</td>\n",
       "      <td>0.02</td>\n",
       "      <td>0.00</td>\n",
       "      <td>0.00</td>\n",
       "      <td>0.00</td>\n",
       "      <td>0.00</td>\n",
       "      <td>0.00</td>\n",
       "      <td>0.00</td>\n",
       "      <td>0.00</td>\n",
       "      <td>0.04</td>\n",
       "      <td>0.04</td>\n",
       "      <td>0.04</td>\n",
       "      <td>0.00</td>\n",
       "      <td>0.14</td>\n",
       "    </tr>\n",
       "    <tr>\n",
       "      <th>...</th>\n",
       "      <td>...</td>\n",
       "      <td>...</td>\n",
       "      <td>...</td>\n",
       "      <td>...</td>\n",
       "      <td>...</td>\n",
       "      <td>...</td>\n",
       "      <td>...</td>\n",
       "      <td>...</td>\n",
       "      <td>...</td>\n",
       "      <td>...</td>\n",
       "      <td>...</td>\n",
       "      <td>...</td>\n",
       "      <td>...</td>\n",
       "      <td>...</td>\n",
       "      <td>...</td>\n",
       "      <td>...</td>\n",
       "      <td>...</td>\n",
       "      <td>...</td>\n",
       "      <td>...</td>\n",
       "      <td>...</td>\n",
       "      <td>...</td>\n",
       "      <td>...</td>\n",
       "      <td>...</td>\n",
       "      <td>...</td>\n",
       "      <td>...</td>\n",
       "    </tr>\n",
       "    <tr>\n",
       "      <th>1832</th>\n",
       "      <td>Cint Group AB</td>\n",
       "      <td>CINT</td>\n",
       "      <td>2022</td>\n",
       "      <td>Sweden</td>\n",
       "      <td>295.19</td>\n",
       "      <td>Technology</td>\n",
       "      <td>0.38</td>\n",
       "      <td>0.04</td>\n",
       "      <td>0.05</td>\n",
       "      <td>0.07</td>\n",
       "      <td>0.05</td>\n",
       "      <td>0.06</td>\n",
       "      <td>0.00</td>\n",
       "      <td>0.00</td>\n",
       "      <td>0.00</td>\n",
       "      <td>0.00</td>\n",
       "      <td>0.06</td>\n",
       "      <td>0.00</td>\n",
       "      <td>0.00</td>\n",
       "      <td>0.05</td>\n",
       "      <td>0.00</td>\n",
       "      <td>0.00</td>\n",
       "      <td>0.00</td>\n",
       "      <td>0.00</td>\n",
       "      <td>0.33</td>\n",
       "    </tr>\n",
       "    <tr>\n",
       "      <th>1833</th>\n",
       "      <td>Garo AB</td>\n",
       "      <td>GARO</td>\n",
       "      <td>2022</td>\n",
       "      <td>Sweden</td>\n",
       "      <td>130.81</td>\n",
       "      <td>Technology</td>\n",
       "      <td>0.60</td>\n",
       "      <td>0.04</td>\n",
       "      <td>0.05</td>\n",
       "      <td>0.07</td>\n",
       "      <td>0.05</td>\n",
       "      <td>0.06</td>\n",
       "      <td>0.03</td>\n",
       "      <td>0.00</td>\n",
       "      <td>0.05</td>\n",
       "      <td>0.00</td>\n",
       "      <td>0.06</td>\n",
       "      <td>0.00</td>\n",
       "      <td>0.03</td>\n",
       "      <td>0.05</td>\n",
       "      <td>0.04</td>\n",
       "      <td>0.02</td>\n",
       "      <td>0.04</td>\n",
       "      <td>0.00</td>\n",
       "      <td>0.87</td>\n",
       "    </tr>\n",
       "    <tr>\n",
       "      <th>1834</th>\n",
       "      <td>Proact IT Group AB</td>\n",
       "      <td>PACT</td>\n",
       "      <td>2022</td>\n",
       "      <td>Sweden</td>\n",
       "      <td>447.51</td>\n",
       "      <td>Technology</td>\n",
       "      <td>0.49</td>\n",
       "      <td>0.04</td>\n",
       "      <td>0.05</td>\n",
       "      <td>0.07</td>\n",
       "      <td>0.05</td>\n",
       "      <td>0.06</td>\n",
       "      <td>0.00</td>\n",
       "      <td>0.00</td>\n",
       "      <td>0.05</td>\n",
       "      <td>0.00</td>\n",
       "      <td>0.06</td>\n",
       "      <td>0.03</td>\n",
       "      <td>0.03</td>\n",
       "      <td>0.05</td>\n",
       "      <td>0.00</td>\n",
       "      <td>0.00</td>\n",
       "      <td>0.00</td>\n",
       "      <td>0.00</td>\n",
       "      <td>0.56</td>\n",
       "    </tr>\n",
       "    <tr>\n",
       "      <th>1835</th>\n",
       "      <td>Hexagon AB</td>\n",
       "      <td>HEXA</td>\n",
       "      <td>2022</td>\n",
       "      <td>Sweden</td>\n",
       "      <td>5,160.00</td>\n",
       "      <td>Technology</td>\n",
       "      <td>0.51</td>\n",
       "      <td>0.00</td>\n",
       "      <td>0.05</td>\n",
       "      <td>0.07</td>\n",
       "      <td>0.00</td>\n",
       "      <td>0.06</td>\n",
       "      <td>0.03</td>\n",
       "      <td>0.00</td>\n",
       "      <td>0.00</td>\n",
       "      <td>0.00</td>\n",
       "      <td>0.06</td>\n",
       "      <td>0.03</td>\n",
       "      <td>0.00</td>\n",
       "      <td>0.05</td>\n",
       "      <td>0.04</td>\n",
       "      <td>0.02</td>\n",
       "      <td>0.04</td>\n",
       "      <td>0.04</td>\n",
       "      <td>0.59</td>\n",
       "    </tr>\n",
       "    <tr>\n",
       "      <th>1836</th>\n",
       "      <td>Fortnox</td>\n",
       "      <td>FNOX</td>\n",
       "      <td>2022</td>\n",
       "      <td>Sweden</td>\n",
       "      <td>122.15</td>\n",
       "      <td>Technology</td>\n",
       "      <td>0.32</td>\n",
       "      <td>0.00</td>\n",
       "      <td>0.00</td>\n",
       "      <td>0.07</td>\n",
       "      <td>0.05</td>\n",
       "      <td>0.06</td>\n",
       "      <td>0.00</td>\n",
       "      <td>0.00</td>\n",
       "      <td>0.00</td>\n",
       "      <td>0.00</td>\n",
       "      <td>0.06</td>\n",
       "      <td>0.00</td>\n",
       "      <td>0.00</td>\n",
       "      <td>0.00</td>\n",
       "      <td>0.00</td>\n",
       "      <td>0.00</td>\n",
       "      <td>0.04</td>\n",
       "      <td>0.04</td>\n",
       "      <td>0.21</td>\n",
       "    </tr>\n",
       "  </tbody>\n",
       "</table>\n",
       "<p>1837 rows × 25 columns</p>\n",
       "</div>"
      ],
      "text/plain": [
       "                        company ticker  year hq_country  revenue_MEUR  \\\n",
       "0      Josemaria Resources Inc.   JOSE  2019      Other           NaN   \n",
       "1          Lucara Diamond Corp.    LUC  2019      Other        171.92   \n",
       "2              Lundin Gold Inc.    LUG  2019      Other           NaN   \n",
       "3     Lundin Mining Corporation   LUMI  2019      Other      1,689.92   \n",
       "4         H+H International A/S     HH  2019    Denmark        380.19   \n",
       "...                         ...    ...   ...        ...           ...   \n",
       "1832              Cint Group AB   CINT  2022     Sweden        295.19   \n",
       "1833                    Garo AB   GARO  2022     Sweden        130.81   \n",
       "1834         Proact IT Group AB   PACT  2022     Sweden        447.51   \n",
       "1835                 Hexagon AB   HEXA  2022     Sweden      5,160.00   \n",
       "1836                    Fortnox   FNOX  2022     Sweden        122.15   \n",
       "\n",
       "             industry  industry_score_raw  external_audit_of_ESG_report_score  \\\n",
       "0     Basic Materials                0.08                                0.00   \n",
       "1     Basic Materials                0.31                                0.03   \n",
       "2     Basic Materials                0.19                                0.00   \n",
       "3     Basic Materials                0.46                                0.03   \n",
       "4     Basic Materials                0.27                                0.00   \n",
       "...               ...                 ...                                 ...   \n",
       "1832       Technology                0.38                                0.04   \n",
       "1833       Technology                0.60                                0.04   \n",
       "1834       Technology                0.49                                0.04   \n",
       "1835       Technology                0.51                                0.00   \n",
       "1836       Technology                0.32                                0.00   \n",
       "\n",
       "      ceo_sust_statem_score  environmental_policy_and_assessment_score  \\\n",
       "0                      0.00                                       0.04   \n",
       "1                      0.04                                       0.04   \n",
       "2                      0.04                                       0.04   \n",
       "3                      0.04                                       0.04   \n",
       "4                      0.00                                       0.04   \n",
       "...                     ...                                        ...   \n",
       "1832                   0.05                                       0.07   \n",
       "1833                   0.05                                       0.07   \n",
       "1834                   0.05                                       0.07   \n",
       "1835                   0.05                                       0.07   \n",
       "1836                   0.00                                       0.07   \n",
       "\n",
       "      environmental_performance_targets_score  \\\n",
       "0                                        0.00   \n",
       "1                                        0.00   \n",
       "2                                        0.00   \n",
       "3                                        0.04   \n",
       "4                                        0.04   \n",
       "...                                       ...   \n",
       "1832                                     0.05   \n",
       "1833                                     0.05   \n",
       "1834                                     0.05   \n",
       "1835                                     0.00   \n",
       "1836                                     0.05   \n",
       "\n",
       "      reduced_environmental_impact_score  increased_renewable_energy_score  \\\n",
       "0                                   0.00                              0.00   \n",
       "1                                   0.00                              0.00   \n",
       "2                                   0.00                              0.00   \n",
       "3                                   0.04                              0.02   \n",
       "4                                   0.04                              0.02   \n",
       "...                                  ...                               ...   \n",
       "1832                                0.06                              0.00   \n",
       "1833                                0.06                              0.03   \n",
       "1834                                0.06                              0.00   \n",
       "1835                                0.06                              0.03   \n",
       "1836                                0.06                              0.00   \n",
       "\n",
       "      disclosure_of_raw_material_use_score  resource_efficiency_target_score  \\\n",
       "0                                     0.00                              0.04   \n",
       "1                                     0.00                              0.04   \n",
       "2                                     0.00                              0.00   \n",
       "3                                     0.00                              0.04   \n",
       "4                                     0.00                              0.00   \n",
       "...                                    ...                               ...   \n",
       "1832                                  0.00                              0.00   \n",
       "1833                                  0.00                              0.05   \n",
       "1834                                  0.00                              0.05   \n",
       "1835                                  0.00                              0.00   \n",
       "1836                                  0.00                              0.00   \n",
       "\n",
       "      disclosure_of_water_discharges_score  supplier_guidelines_score  \\\n",
       "0                                     0.00                       0.00   \n",
       "1                                     0.00                       0.00   \n",
       "2                                     0.00                       0.00   \n",
       "3                                     0.03                       0.05   \n",
       "4                                     0.00                       0.00   \n",
       "...                                    ...                        ...   \n",
       "1832                                  0.00                       0.06   \n",
       "1833                                  0.00                       0.06   \n",
       "1834                                  0.00                       0.06   \n",
       "1835                                  0.00                       0.06   \n",
       "1836                                  0.00                       0.06   \n",
       "\n",
       "      disclosure_of_suppliers_audited_score  \\\n",
       "0                                      0.00   \n",
       "1                                      0.00   \n",
       "2                                      0.00   \n",
       "3                                      0.00   \n",
       "4                                      0.00   \n",
       "...                                     ...   \n",
       "1832                                   0.00   \n",
       "1833                                   0.00   \n",
       "1834                                   0.03   \n",
       "1835                                   0.03   \n",
       "1836                                   0.00   \n",
       "\n",
       "      disclosure_of_supplier_evaluation_procedures_score  \\\n",
       "0                                                  0.00    \n",
       "1                                                  0.00    \n",
       "2                                                  0.00    \n",
       "3                                                  0.00    \n",
       "4                                                  0.00    \n",
       "...                                                 ...    \n",
       "1832                                               0.00    \n",
       "1833                                               0.03    \n",
       "1834                                               0.03    \n",
       "1835                                               0.00    \n",
       "1836                                               0.00    \n",
       "\n",
       "      supplier_environmental_assessment_score  energy_consump_bool_score  \\\n",
       "0                                        0.00                       0.00   \n",
       "1                                        0.00                       0.04   \n",
       "2                                        0.00                       0.00   \n",
       "3                                        0.00                       0.04   \n",
       "4                                        0.00                       0.04   \n",
       "...                                       ...                        ...   \n",
       "1832                                     0.05                       0.00   \n",
       "1833                                     0.05                       0.04   \n",
       "1834                                     0.05                       0.00   \n",
       "1835                                     0.05                       0.04   \n",
       "1836                                     0.00                       0.00   \n",
       "\n",
       "      water_withdraw_bool_score  ghg_emis_bool_score  \\\n",
       "0                          0.00                 0.00   \n",
       "1                          0.04                 0.04   \n",
       "2                          0.04                 0.04   \n",
       "3                          0.04                 0.04   \n",
       "4                          0.04                 0.04   \n",
       "...                         ...                  ...   \n",
       "1832                       0.00                 0.00   \n",
       "1833                       0.02                 0.04   \n",
       "1834                       0.00                 0.00   \n",
       "1835                       0.02                 0.04   \n",
       "1836                       0.00                 0.04   \n",
       "\n",
       "      transport_emis_bool_score  industry_score_adjusted  \n",
       "0                          0.00                     0.06  \n",
       "1                          0.03                     0.18  \n",
       "2                          0.03                     0.10  \n",
       "3                          0.00                     0.42  \n",
       "4                          0.00                     0.14  \n",
       "...                         ...                      ...  \n",
       "1832                       0.00                     0.33  \n",
       "1833                       0.00                     0.87  \n",
       "1834                       0.00                     0.56  \n",
       "1835                       0.04                     0.59  \n",
       "1836                       0.04                     0.21  \n",
       "\n",
       "[1837 rows x 25 columns]"
      ]
     },
     "execution_count": 105,
     "metadata": {},
     "output_type": "execute_result"
    }
   ],
   "source": [
    "sector_specific_scoring_df"
   ]
  },
  {
   "cell_type": "markdown",
   "metadata": {},
   "source": [
    "I then give each company an industry rating based on its adjusted score. This rating system is based on LSEG (2024):\n",
    "\n",
    "| Percentile Range  | Rating |\n",
    "|-------------------|--------|\n",
    "| 0.92 < p ≤ 1     | A+     |\n",
    "| 0.83 < p ≤ 0.92  | A      |\n",
    "| 0.75 < p ≤ 0.83  | A-     |\n",
    "| 0.67 < p ≤ 0.75  | B+     |\n",
    "| 0.58 < p ≤ 0.66  | B      |\n",
    "| 0.50 < p ≤ 0.58  | B-     |\n",
    "| 0.42 < p ≤ 0.50  | C+     |\n",
    "| 0.33 < p ≤ 0.42  | C      |\n",
    "| 0.25 < p ≤ 0.33  | C-     |\n",
    "| 0.17 < p ≤ 0.25  | D+     |\n",
    "| 0.08 < p ≤ 0.17  | D      |\n",
    "| 0.00 ≤ p ≤ 0.08  | D-     |\n"
   ]
  },
  {
   "cell_type": "code",
   "execution_count": 106,
   "metadata": {},
   "outputs": [],
   "source": [
    "sector_specific_scoring_df[\"industry_rating\"] = sector_specific_scoring_df[\n",
    "    \"industry_score_adjusted\"\n",
    "].apply(assign_rating)\n",
    "\n",
    "sector_specific_scoring_df[\"industry_rating\"] = cast_to_rating_category(\n",
    "    sector_specific_scoring_df[\"industry_rating\"]\n",
    ")"
   ]
  },
  {
   "cell_type": "code",
   "execution_count": 107,
   "metadata": {},
   "outputs": [],
   "source": [
    "# re-order columns\n",
    "first_cols = [\n",
    "    \"company\",\n",
    "    \"ticker\",\n",
    "    \"year\",\n",
    "    \"industry\",\n",
    "    \"hq_country\",\n",
    "    \"revenue_MEUR\",\n",
    "    \"industry_rating\",\n",
    "    \"industry_score_adjusted\",\n",
    "]\n",
    "\n",
    "remaining_cols = [\n",
    "    col for col in sector_specific_scoring_df.columns if col not in first_cols\n",
    "]\n",
    "sector_specific_scoring_df = sector_specific_scoring_df[first_cols + remaining_cols]"
   ]
  },
  {
   "cell_type": "markdown",
   "metadata": {},
   "source": [
    "Finally, I calculate the previous year's rating for each company to be used as a comparison."
   ]
  },
  {
   "cell_type": "code",
   "execution_count": 108,
   "metadata": {},
   "outputs": [],
   "source": [
    "sector_specific_scoring_df = sector_specific_scoring_df.sort_values(\n",
    "    [\"company\", \"year\"]\n",
    ").assign(\n",
    "    industry_rating_previous_year=lambda df: df.groupby(\"company\")[\n",
    "        \"industry_rating\"\n",
    "    ].shift(1)\n",
    ")"
   ]
  },
  {
   "cell_type": "code",
   "execution_count": 109,
   "metadata": {},
   "outputs": [
    {
     "data": {
      "text/html": [
       "<div>\n",
       "<style scoped>\n",
       "    .dataframe tbody tr th:only-of-type {\n",
       "        vertical-align: middle;\n",
       "    }\n",
       "\n",
       "    .dataframe tbody tr th {\n",
       "        vertical-align: top;\n",
       "    }\n",
       "\n",
       "    .dataframe thead th {\n",
       "        text-align: right;\n",
       "    }\n",
       "</style>\n",
       "<table border=\"1\" class=\"dataframe\">\n",
       "  <thead>\n",
       "    <tr style=\"text-align: right;\">\n",
       "      <th></th>\n",
       "      <th>company</th>\n",
       "      <th>ticker</th>\n",
       "      <th>year</th>\n",
       "      <th>industry</th>\n",
       "      <th>hq_country</th>\n",
       "      <th>revenue_MEUR</th>\n",
       "      <th>industry_rating</th>\n",
       "      <th>industry_score_adjusted</th>\n",
       "      <th>industry_score_raw</th>\n",
       "      <th>external_audit_of_ESG_report_score</th>\n",
       "      <th>ceo_sust_statem_score</th>\n",
       "      <th>environmental_policy_and_assessment_score</th>\n",
       "      <th>environmental_performance_targets_score</th>\n",
       "      <th>reduced_environmental_impact_score</th>\n",
       "      <th>increased_renewable_energy_score</th>\n",
       "      <th>disclosure_of_raw_material_use_score</th>\n",
       "      <th>resource_efficiency_target_score</th>\n",
       "      <th>disclosure_of_water_discharges_score</th>\n",
       "      <th>supplier_guidelines_score</th>\n",
       "      <th>disclosure_of_suppliers_audited_score</th>\n",
       "      <th>disclosure_of_supplier_evaluation_procedures_score</th>\n",
       "      <th>supplier_environmental_assessment_score</th>\n",
       "      <th>energy_consump_bool_score</th>\n",
       "      <th>water_withdraw_bool_score</th>\n",
       "      <th>ghg_emis_bool_score</th>\n",
       "      <th>transport_emis_bool_score</th>\n",
       "      <th>industry_rating_previous_year</th>\n",
       "    </tr>\n",
       "  </thead>\n",
       "  <tbody>\n",
       "    <tr>\n",
       "      <th>1152</th>\n",
       "      <td>A.P. Møller -Maersk A/S</td>\n",
       "      <td>MAERSK</td>\n",
       "      <td>2019</td>\n",
       "      <td>Industrial Goods and Services</td>\n",
       "      <td>Denmark</td>\n",
       "      <td>34,723.21</td>\n",
       "      <td>A</td>\n",
       "      <td>0.87</td>\n",
       "      <td>0.59</td>\n",
       "      <td>0.03</td>\n",
       "      <td>0.05</td>\n",
       "      <td>0.05</td>\n",
       "      <td>0.05</td>\n",
       "      <td>0.05</td>\n",
       "      <td>0.00</td>\n",
       "      <td>0.00</td>\n",
       "      <td>0.05</td>\n",
       "      <td>0.00</td>\n",
       "      <td>0.05</td>\n",
       "      <td>0.03</td>\n",
       "      <td>0.04</td>\n",
       "      <td>0.05</td>\n",
       "      <td>0.05</td>\n",
       "      <td>0.03</td>\n",
       "      <td>0.05</td>\n",
       "      <td>0.00</td>\n",
       "      <td>NaN</td>\n",
       "    </tr>\n",
       "    <tr>\n",
       "      <th>1268</th>\n",
       "      <td>A.P. Møller -Maersk A/S</td>\n",
       "      <td>MAERSK</td>\n",
       "      <td>2020</td>\n",
       "      <td>Industrial Goods and Services</td>\n",
       "      <td>Denmark</td>\n",
       "      <td>35,482.14</td>\n",
       "      <td>A</td>\n",
       "      <td>0.88</td>\n",
       "      <td>0.61</td>\n",
       "      <td>0.03</td>\n",
       "      <td>0.05</td>\n",
       "      <td>0.05</td>\n",
       "      <td>0.05</td>\n",
       "      <td>0.05</td>\n",
       "      <td>0.03</td>\n",
       "      <td>0.00</td>\n",
       "      <td>0.04</td>\n",
       "      <td>0.00</td>\n",
       "      <td>0.05</td>\n",
       "      <td>0.04</td>\n",
       "      <td>0.00</td>\n",
       "      <td>0.05</td>\n",
       "      <td>0.04</td>\n",
       "      <td>0.03</td>\n",
       "      <td>0.05</td>\n",
       "      <td>0.04</td>\n",
       "      <td>A</td>\n",
       "    </tr>\n",
       "    <tr>\n",
       "      <th>1388</th>\n",
       "      <td>A.P. Møller -Maersk A/S</td>\n",
       "      <td>MAERSK</td>\n",
       "      <td>2021</td>\n",
       "      <td>Industrial Goods and Services</td>\n",
       "      <td>Denmark</td>\n",
       "      <td>55,166.96</td>\n",
       "      <td>A</td>\n",
       "      <td>0.90</td>\n",
       "      <td>0.59</td>\n",
       "      <td>0.03</td>\n",
       "      <td>0.05</td>\n",
       "      <td>0.05</td>\n",
       "      <td>0.05</td>\n",
       "      <td>0.05</td>\n",
       "      <td>0.03</td>\n",
       "      <td>0.00</td>\n",
       "      <td>0.00</td>\n",
       "      <td>0.00</td>\n",
       "      <td>0.05</td>\n",
       "      <td>0.03</td>\n",
       "      <td>0.04</td>\n",
       "      <td>0.05</td>\n",
       "      <td>0.04</td>\n",
       "      <td>0.03</td>\n",
       "      <td>0.04</td>\n",
       "      <td>0.04</td>\n",
       "      <td>A</td>\n",
       "    </tr>\n",
       "    <tr>\n",
       "      <th>1494</th>\n",
       "      <td>A.P. Møller -Maersk A/S</td>\n",
       "      <td>MAERSK</td>\n",
       "      <td>2022</td>\n",
       "      <td>Industrial Goods and Services</td>\n",
       "      <td>Denmark</td>\n",
       "      <td>77,425.45</td>\n",
       "      <td>A</td>\n",
       "      <td>0.86</td>\n",
       "      <td>0.59</td>\n",
       "      <td>0.00</td>\n",
       "      <td>0.05</td>\n",
       "      <td>0.06</td>\n",
       "      <td>0.05</td>\n",
       "      <td>0.05</td>\n",
       "      <td>0.03</td>\n",
       "      <td>0.00</td>\n",
       "      <td>0.04</td>\n",
       "      <td>0.00</td>\n",
       "      <td>0.05</td>\n",
       "      <td>0.03</td>\n",
       "      <td>0.04</td>\n",
       "      <td>0.04</td>\n",
       "      <td>0.04</td>\n",
       "      <td>0.03</td>\n",
       "      <td>0.04</td>\n",
       "      <td>0.03</td>\n",
       "      <td>A</td>\n",
       "    </tr>\n",
       "    <tr>\n",
       "      <th>173</th>\n",
       "      <td>AAK AB</td>\n",
       "      <td>AAK</td>\n",
       "      <td>2019</td>\n",
       "      <td>Consumer Goods and Services</td>\n",
       "      <td>Sweden</td>\n",
       "      <td>2,714.72</td>\n",
       "      <td>B</td>\n",
       "      <td>0.59</td>\n",
       "      <td>0.50</td>\n",
       "      <td>0.03</td>\n",
       "      <td>0.05</td>\n",
       "      <td>0.05</td>\n",
       "      <td>0.05</td>\n",
       "      <td>0.05</td>\n",
       "      <td>0.00</td>\n",
       "      <td>0.00</td>\n",
       "      <td>0.04</td>\n",
       "      <td>0.00</td>\n",
       "      <td>0.05</td>\n",
       "      <td>0.03</td>\n",
       "      <td>0.03</td>\n",
       "      <td>0.05</td>\n",
       "      <td>0.05</td>\n",
       "      <td>0.04</td>\n",
       "      <td>0.00</td>\n",
       "      <td>0.00</td>\n",
       "      <td>NaN</td>\n",
       "    </tr>\n",
       "  </tbody>\n",
       "</table>\n",
       "</div>"
      ],
      "text/plain": [
       "                      company  ticker  year                       industry  \\\n",
       "1152  A.P. Møller -Maersk A/S  MAERSK  2019  Industrial Goods and Services   \n",
       "1268  A.P. Møller -Maersk A/S  MAERSK  2020  Industrial Goods and Services   \n",
       "1388  A.P. Møller -Maersk A/S  MAERSK  2021  Industrial Goods and Services   \n",
       "1494  A.P. Møller -Maersk A/S  MAERSK  2022  Industrial Goods and Services   \n",
       "173                    AAK AB     AAK  2019    Consumer Goods and Services   \n",
       "\n",
       "     hq_country  revenue_MEUR industry_rating  industry_score_adjusted  \\\n",
       "1152    Denmark     34,723.21               A                     0.87   \n",
       "1268    Denmark     35,482.14               A                     0.88   \n",
       "1388    Denmark     55,166.96               A                     0.90   \n",
       "1494    Denmark     77,425.45               A                     0.86   \n",
       "173      Sweden      2,714.72               B                     0.59   \n",
       "\n",
       "      industry_score_raw  external_audit_of_ESG_report_score  \\\n",
       "1152                0.59                                0.03   \n",
       "1268                0.61                                0.03   \n",
       "1388                0.59                                0.03   \n",
       "1494                0.59                                0.00   \n",
       "173                 0.50                                0.03   \n",
       "\n",
       "      ceo_sust_statem_score  environmental_policy_and_assessment_score  \\\n",
       "1152                   0.05                                       0.05   \n",
       "1268                   0.05                                       0.05   \n",
       "1388                   0.05                                       0.05   \n",
       "1494                   0.05                                       0.06   \n",
       "173                    0.05                                       0.05   \n",
       "\n",
       "      environmental_performance_targets_score  \\\n",
       "1152                                     0.05   \n",
       "1268                                     0.05   \n",
       "1388                                     0.05   \n",
       "1494                                     0.05   \n",
       "173                                      0.05   \n",
       "\n",
       "      reduced_environmental_impact_score  increased_renewable_energy_score  \\\n",
       "1152                                0.05                              0.00   \n",
       "1268                                0.05                              0.03   \n",
       "1388                                0.05                              0.03   \n",
       "1494                                0.05                              0.03   \n",
       "173                                 0.05                              0.00   \n",
       "\n",
       "      disclosure_of_raw_material_use_score  resource_efficiency_target_score  \\\n",
       "1152                                  0.00                              0.05   \n",
       "1268                                  0.00                              0.04   \n",
       "1388                                  0.00                              0.00   \n",
       "1494                                  0.00                              0.04   \n",
       "173                                   0.00                              0.04   \n",
       "\n",
       "      disclosure_of_water_discharges_score  supplier_guidelines_score  \\\n",
       "1152                                  0.00                       0.05   \n",
       "1268                                  0.00                       0.05   \n",
       "1388                                  0.00                       0.05   \n",
       "1494                                  0.00                       0.05   \n",
       "173                                   0.00                       0.05   \n",
       "\n",
       "      disclosure_of_suppliers_audited_score  \\\n",
       "1152                                   0.03   \n",
       "1268                                   0.04   \n",
       "1388                                   0.03   \n",
       "1494                                   0.03   \n",
       "173                                    0.03   \n",
       "\n",
       "      disclosure_of_supplier_evaluation_procedures_score  \\\n",
       "1152                                               0.04    \n",
       "1268                                               0.00    \n",
       "1388                                               0.04    \n",
       "1494                                               0.04    \n",
       "173                                                0.03    \n",
       "\n",
       "      supplier_environmental_assessment_score  energy_consump_bool_score  \\\n",
       "1152                                     0.05                       0.05   \n",
       "1268                                     0.05                       0.04   \n",
       "1388                                     0.05                       0.04   \n",
       "1494                                     0.04                       0.04   \n",
       "173                                      0.05                       0.05   \n",
       "\n",
       "      water_withdraw_bool_score  ghg_emis_bool_score  \\\n",
       "1152                       0.03                 0.05   \n",
       "1268                       0.03                 0.05   \n",
       "1388                       0.03                 0.04   \n",
       "1494                       0.03                 0.04   \n",
       "173                        0.04                 0.00   \n",
       "\n",
       "      transport_emis_bool_score industry_rating_previous_year  \n",
       "1152                       0.00                           NaN  \n",
       "1268                       0.04                             A  \n",
       "1388                       0.04                             A  \n",
       "1494                       0.03                             A  \n",
       "173                        0.00                           NaN  "
      ]
     },
     "execution_count": 109,
     "metadata": {},
     "output_type": "execute_result"
    }
   ],
   "source": [
    "sector_specific_scoring_df.head()"
   ]
  },
  {
   "cell_type": "code",
   "execution_count": 110,
   "metadata": {},
   "outputs": [],
   "source": [
    "# sector_specific_scoring_df[\n",
    "#     (sector_specific_scoring_df[\"industry\"] == \"Energy and Utilities\")\n",
    "#     & (sector_specific_scoring_df[\"year\"] == 2020)\n",
    "# ]"
   ]
  },
  {
   "cell_type": "markdown",
   "metadata": {},
   "source": [
    "## Cross-industry environmental score"
   ]
  },
  {
   "cell_type": "markdown",
   "metadata": {},
   "source": [
    "```diff\n",
    "- Add notes in this section"
   ]
  },
  {
   "cell_type": "markdown",
   "metadata": {},
   "source": [
    "I then compare the industry-specific score with a cross-industry score, comparing all companies, regardless of industry."
   ]
  },
  {
   "cell_type": "markdown",
   "metadata": {},
   "source": [
    "```diff\n",
    "- For each company, sum all scores (percentile rank for each column). Add all scores for every company, and give each company a percentile rank based on the score equation above."
   ]
  },
  {
   "cell_type": "markdown",
   "metadata": {},
   "source": [
    "```diff\n",
    "- First, calculate the materiality weight for each column, regardless of industry.\n",
    "- Then, calculate company percentiles for each column.\n",
    "- Sum percentiles.\n",
    "- Then take the percentiles for that sum.`"
   ]
  },
  {
   "cell_type": "markdown",
   "metadata": {},
   "source": [
    "### Calculate overall mean and materiality"
   ]
  },
  {
   "cell_type": "code",
   "execution_count": 111,
   "metadata": {},
   "outputs": [],
   "source": [
    "metric_materiality_all_years_df = reporting_df[scoring_cols].mean().reset_index()\n",
    "metric_materiality_all_years_df.columns = [\"\", \"mean_score\"]"
   ]
  },
  {
   "cell_type": "code",
   "execution_count": 112,
   "metadata": {},
   "outputs": [],
   "source": [
    "metric_materiality_all_years_df[\"overall_materiality_score\"] = (\n",
    "    metric_materiality_all_years_df[\"mean_score\"].sum()\n",
    ")\n",
    "\n",
    "metric_materiality_all_years_df[\"metric_materiality\"] = (\n",
    "    metric_materiality_all_years_df[\"mean_score\"]\n",
    "    / metric_materiality_all_years_df[\"overall_materiality_score\"]\n",
    ")\n",
    "\n",
    "metric_materiality_all_years_df = metric_materiality_all_years_df.set_index(\"\").T"
   ]
  },
  {
   "cell_type": "code",
   "execution_count": 113,
   "metadata": {},
   "outputs": [
    {
     "data": {
      "text/html": [
       "<div>\n",
       "<style scoped>\n",
       "    .dataframe tbody tr th:only-of-type {\n",
       "        vertical-align: middle;\n",
       "    }\n",
       "\n",
       "    .dataframe tbody tr th {\n",
       "        vertical-align: top;\n",
       "    }\n",
       "\n",
       "    .dataframe thead th {\n",
       "        text-align: right;\n",
       "    }\n",
       "</style>\n",
       "<table border=\"1\" class=\"dataframe\">\n",
       "  <thead>\n",
       "    <tr style=\"text-align: right;\">\n",
       "      <th></th>\n",
       "      <th>external_audit_of_ESG_report</th>\n",
       "      <th>ceo_sust_statem</th>\n",
       "      <th>environmental_policy_and_assessment</th>\n",
       "      <th>environmental_performance_targets</th>\n",
       "      <th>reduced_environmental_impact</th>\n",
       "      <th>increased_renewable_energy</th>\n",
       "      <th>disclosure_of_raw_material_use</th>\n",
       "      <th>resource_efficiency_target</th>\n",
       "      <th>disclosure_of_water_discharges</th>\n",
       "      <th>supplier_guidelines</th>\n",
       "      <th>disclosure_of_suppliers_audited</th>\n",
       "      <th>disclosure_of_supplier_evaluation_procedures</th>\n",
       "      <th>supplier_environmental_assessment</th>\n",
       "      <th>energy_consump_bool</th>\n",
       "      <th>water_withdraw_bool</th>\n",
       "      <th>ghg_emis_bool</th>\n",
       "      <th>transport_emis_bool</th>\n",
       "    </tr>\n",
       "  </thead>\n",
       "  <tbody>\n",
       "    <tr>\n",
       "      <th>mean_score</th>\n",
       "      <td>0.40</td>\n",
       "      <td>0.75</td>\n",
       "      <td>0.91</td>\n",
       "      <td>0.79</td>\n",
       "      <td>0.89</td>\n",
       "      <td>0.34</td>\n",
       "      <td>0.16</td>\n",
       "      <td>0.53</td>\n",
       "      <td>0.09</td>\n",
       "      <td>0.81</td>\n",
       "      <td>0.35</td>\n",
       "      <td>0.39</td>\n",
       "      <td>0.67</td>\n",
       "      <td>0.60</td>\n",
       "      <td>0.35</td>\n",
       "      <td>0.67</td>\n",
       "      <td>0.51</td>\n",
       "    </tr>\n",
       "    <tr>\n",
       "      <th>overall_materiality_score</th>\n",
       "      <td>9.22</td>\n",
       "      <td>9.22</td>\n",
       "      <td>9.22</td>\n",
       "      <td>9.22</td>\n",
       "      <td>9.22</td>\n",
       "      <td>9.22</td>\n",
       "      <td>9.22</td>\n",
       "      <td>9.22</td>\n",
       "      <td>9.22</td>\n",
       "      <td>9.22</td>\n",
       "      <td>9.22</td>\n",
       "      <td>9.22</td>\n",
       "      <td>9.22</td>\n",
       "      <td>9.22</td>\n",
       "      <td>9.22</td>\n",
       "      <td>9.22</td>\n",
       "      <td>9.22</td>\n",
       "    </tr>\n",
       "    <tr>\n",
       "      <th>metric_materiality</th>\n",
       "      <td>0.04</td>\n",
       "      <td>0.08</td>\n",
       "      <td>0.10</td>\n",
       "      <td>0.09</td>\n",
       "      <td>0.10</td>\n",
       "      <td>0.04</td>\n",
       "      <td>0.02</td>\n",
       "      <td>0.06</td>\n",
       "      <td>0.01</td>\n",
       "      <td>0.09</td>\n",
       "      <td>0.04</td>\n",
       "      <td>0.04</td>\n",
       "      <td>0.07</td>\n",
       "      <td>0.07</td>\n",
       "      <td>0.04</td>\n",
       "      <td>0.07</td>\n",
       "      <td>0.06</td>\n",
       "    </tr>\n",
       "  </tbody>\n",
       "</table>\n",
       "</div>"
      ],
      "text/plain": [
       "                           external_audit_of_ESG_report  ceo_sust_statem  \\\n",
       "mean_score                                         0.40             0.75   \n",
       "overall_materiality_score                          9.22             9.22   \n",
       "metric_materiality                                 0.04             0.08   \n",
       "\n",
       "                           environmental_policy_and_assessment  \\\n",
       "mean_score                                                0.91   \n",
       "overall_materiality_score                                 9.22   \n",
       "metric_materiality                                        0.10   \n",
       "\n",
       "                           environmental_performance_targets  \\\n",
       "mean_score                                              0.79   \n",
       "overall_materiality_score                               9.22   \n",
       "metric_materiality                                      0.09   \n",
       "\n",
       "                           reduced_environmental_impact  \\\n",
       "mean_score                                         0.89   \n",
       "overall_materiality_score                          9.22   \n",
       "metric_materiality                                 0.10   \n",
       "\n",
       "                           increased_renewable_energy  \\\n",
       "mean_score                                       0.34   \n",
       "overall_materiality_score                        9.22   \n",
       "metric_materiality                               0.04   \n",
       "\n",
       "                           disclosure_of_raw_material_use  \\\n",
       "mean_score                                           0.16   \n",
       "overall_materiality_score                            9.22   \n",
       "metric_materiality                                   0.02   \n",
       "\n",
       "                           resource_efficiency_target  \\\n",
       "mean_score                                       0.53   \n",
       "overall_materiality_score                        9.22   \n",
       "metric_materiality                               0.06   \n",
       "\n",
       "                           disclosure_of_water_discharges  \\\n",
       "mean_score                                           0.09   \n",
       "overall_materiality_score                            9.22   \n",
       "metric_materiality                                   0.01   \n",
       "\n",
       "                           supplier_guidelines  \\\n",
       "mean_score                                0.81   \n",
       "overall_materiality_score                 9.22   \n",
       "metric_materiality                        0.09   \n",
       "\n",
       "                           disclosure_of_suppliers_audited  \\\n",
       "mean_score                                            0.35   \n",
       "overall_materiality_score                             9.22   \n",
       "metric_materiality                                    0.04   \n",
       "\n",
       "                           disclosure_of_supplier_evaluation_procedures  \\\n",
       "mean_score                                                         0.39   \n",
       "overall_materiality_score                                          9.22   \n",
       "metric_materiality                                                 0.04   \n",
       "\n",
       "                           supplier_environmental_assessment  \\\n",
       "mean_score                                              0.67   \n",
       "overall_materiality_score                               9.22   \n",
       "metric_materiality                                      0.07   \n",
       "\n",
       "                           energy_consump_bool  water_withdraw_bool  \\\n",
       "mean_score                                0.60                 0.35   \n",
       "overall_materiality_score                 9.22                 9.22   \n",
       "metric_materiality                        0.07                 0.04   \n",
       "\n",
       "                           ghg_emis_bool  transport_emis_bool  \n",
       "mean_score                          0.67                 0.51  \n",
       "overall_materiality_score           9.22                 9.22  \n",
       "metric_materiality                  0.07                 0.06  "
      ]
     },
     "execution_count": 113,
     "metadata": {},
     "output_type": "execute_result"
    }
   ],
   "source": [
    "metric_materiality_all_years_df"
   ]
  },
  {
   "cell_type": "markdown",
   "metadata": {},
   "source": [
    "### Calculate company percentiles"
   ]
  },
  {
   "cell_type": "code",
   "execution_count": 114,
   "metadata": {},
   "outputs": [],
   "source": [
    "company_percentiles_overall_df = calculate_company_percentiles(\n",
    "    reporting_df, scoring_cols, by_industry=False\n",
    ")"
   ]
  },
  {
   "cell_type": "code",
   "execution_count": 115,
   "metadata": {},
   "outputs": [
    {
     "data": {
      "text/html": [
       "<div>\n",
       "<style scoped>\n",
       "    .dataframe tbody tr th:only-of-type {\n",
       "        vertical-align: middle;\n",
       "    }\n",
       "\n",
       "    .dataframe tbody tr th {\n",
       "        vertical-align: top;\n",
       "    }\n",
       "\n",
       "    .dataframe thead th {\n",
       "        text-align: right;\n",
       "    }\n",
       "</style>\n",
       "<table border=\"1\" class=\"dataframe\">\n",
       "  <thead>\n",
       "    <tr style=\"text-align: right;\">\n",
       "      <th></th>\n",
       "      <th>company</th>\n",
       "      <th>ticker</th>\n",
       "      <th>year</th>\n",
       "      <th>hq_country</th>\n",
       "      <th>revenue_MEUR</th>\n",
       "      <th>industry</th>\n",
       "      <th>external_audit_of_ESG_report_percentile</th>\n",
       "      <th>ceo_sust_statem_percentile</th>\n",
       "      <th>environmental_policy_and_assessment_percentile</th>\n",
       "      <th>environmental_performance_targets_percentile</th>\n",
       "      <th>reduced_environmental_impact_percentile</th>\n",
       "      <th>increased_renewable_energy_percentile</th>\n",
       "      <th>disclosure_of_raw_material_use_percentile</th>\n",
       "      <th>resource_efficiency_target_percentile</th>\n",
       "      <th>disclosure_of_water_discharges_percentile</th>\n",
       "      <th>supplier_guidelines_percentile</th>\n",
       "      <th>disclosure_of_suppliers_audited_percentile</th>\n",
       "      <th>disclosure_of_supplier_evaluation_procedures_percentile</th>\n",
       "      <th>supplier_environmental_assessment_percentile</th>\n",
       "      <th>energy_consump_bool_percentile</th>\n",
       "      <th>water_withdraw_bool_percentile</th>\n",
       "      <th>ghg_emis_bool_percentile</th>\n",
       "      <th>transport_emis_bool_percentile</th>\n",
       "    </tr>\n",
       "  </thead>\n",
       "  <tbody>\n",
       "    <tr>\n",
       "      <th>486</th>\n",
       "      <td>Archer Ltd.</td>\n",
       "      <td>ARCHO</td>\n",
       "      <td>2020</td>\n",
       "      <td>Norway</td>\n",
       "      <td>735.71</td>\n",
       "      <td>Energy and Utilities</td>\n",
       "      <td>0.80</td>\n",
       "      <td>0.62</td>\n",
       "      <td>0.53</td>\n",
       "      <td>0.59</td>\n",
       "      <td>0.55</td>\n",
       "      <td>0.00</td>\n",
       "      <td>0.00</td>\n",
       "      <td>0.69</td>\n",
       "      <td>0.00</td>\n",
       "      <td>0.59</td>\n",
       "      <td>0.83</td>\n",
       "      <td>0.00</td>\n",
       "      <td>0.00</td>\n",
       "      <td>0.69</td>\n",
       "      <td>0.00</td>\n",
       "      <td>0.00</td>\n",
       "      <td>0.00</td>\n",
       "    </tr>\n",
       "  </tbody>\n",
       "</table>\n",
       "</div>"
      ],
      "text/plain": [
       "         company ticker  year hq_country  revenue_MEUR              industry  \\\n",
       "486  Archer Ltd.  ARCHO  2020     Norway        735.71  Energy and Utilities   \n",
       "\n",
       "     external_audit_of_ESG_report_percentile  ceo_sust_statem_percentile  \\\n",
       "486                                     0.80                        0.62   \n",
       "\n",
       "     environmental_policy_and_assessment_percentile  \\\n",
       "486                                            0.53   \n",
       "\n",
       "     environmental_performance_targets_percentile  \\\n",
       "486                                          0.59   \n",
       "\n",
       "     reduced_environmental_impact_percentile  \\\n",
       "486                                     0.55   \n",
       "\n",
       "     increased_renewable_energy_percentile  \\\n",
       "486                                   0.00   \n",
       "\n",
       "     disclosure_of_raw_material_use_percentile  \\\n",
       "486                                       0.00   \n",
       "\n",
       "     resource_efficiency_target_percentile  \\\n",
       "486                                   0.69   \n",
       "\n",
       "     disclosure_of_water_discharges_percentile  \\\n",
       "486                                       0.00   \n",
       "\n",
       "     supplier_guidelines_percentile  \\\n",
       "486                            0.59   \n",
       "\n",
       "     disclosure_of_suppliers_audited_percentile  \\\n",
       "486                                        0.83   \n",
       "\n",
       "     disclosure_of_supplier_evaluation_procedures_percentile  \\\n",
       "486                                               0.00         \n",
       "\n",
       "     supplier_environmental_assessment_percentile  \\\n",
       "486                                          0.00   \n",
       "\n",
       "     energy_consump_bool_percentile  water_withdraw_bool_percentile  \\\n",
       "486                            0.69                            0.00   \n",
       "\n",
       "     ghg_emis_bool_percentile  transport_emis_bool_percentile  \n",
       "486                      0.00                            0.00  "
      ]
     },
     "execution_count": 115,
     "metadata": {},
     "output_type": "execute_result"
    }
   ],
   "source": [
    "company_percentiles_overall_df[\n",
    "    company_percentiles_overall_df[\"company\"] == \"Archer Ltd.\"\n",
    "]"
   ]
  },
  {
   "cell_type": "markdown",
   "metadata": {},
   "source": [
    "### Calculate score"
   ]
  },
  {
   "cell_type": "code",
   "execution_count": 116,
   "metadata": {},
   "outputs": [],
   "source": [
    "cross_sector_scoring_df = calculate_raw_score(\n",
    "    company_percentiles_overall_df,\n",
    "    metric_materiality_all_years_df,\n",
    "    scoring_cols,\n",
    "    by_industry=False,\n",
    ")"
   ]
  },
  {
   "cell_type": "code",
   "execution_count": 117,
   "metadata": {},
   "outputs": [
    {
     "data": {
      "text/html": [
       "<div>\n",
       "<style scoped>\n",
       "    .dataframe tbody tr th:only-of-type {\n",
       "        vertical-align: middle;\n",
       "    }\n",
       "\n",
       "    .dataframe tbody tr th {\n",
       "        vertical-align: top;\n",
       "    }\n",
       "\n",
       "    .dataframe thead th {\n",
       "        text-align: right;\n",
       "    }\n",
       "</style>\n",
       "<table border=\"1\" class=\"dataframe\">\n",
       "  <thead>\n",
       "    <tr style=\"text-align: right;\">\n",
       "      <th></th>\n",
       "      <th>company</th>\n",
       "      <th>ticker</th>\n",
       "      <th>year</th>\n",
       "      <th>hq_country</th>\n",
       "      <th>revenue_MEUR</th>\n",
       "      <th>industry</th>\n",
       "      <th>overall_score_raw</th>\n",
       "      <th>external_audit_of_ESG_report_score</th>\n",
       "      <th>ceo_sust_statem_score</th>\n",
       "      <th>environmental_policy_and_assessment_score</th>\n",
       "      <th>environmental_performance_targets_score</th>\n",
       "      <th>reduced_environmental_impact_score</th>\n",
       "      <th>increased_renewable_energy_score</th>\n",
       "      <th>disclosure_of_raw_material_use_score</th>\n",
       "      <th>resource_efficiency_target_score</th>\n",
       "      <th>disclosure_of_water_discharges_score</th>\n",
       "      <th>supplier_guidelines_score</th>\n",
       "      <th>disclosure_of_suppliers_audited_score</th>\n",
       "      <th>disclosure_of_supplier_evaluation_procedures_score</th>\n",
       "      <th>supplier_environmental_assessment_score</th>\n",
       "      <th>energy_consump_bool_score</th>\n",
       "      <th>water_withdraw_bool_score</th>\n",
       "      <th>ghg_emis_bool_score</th>\n",
       "      <th>transport_emis_bool_score</th>\n",
       "    </tr>\n",
       "  </thead>\n",
       "  <tbody>\n",
       "    <tr>\n",
       "      <th>486</th>\n",
       "      <td>Archer Ltd.</td>\n",
       "      <td>ARCHO</td>\n",
       "      <td>2020</td>\n",
       "      <td>Norway</td>\n",
       "      <td>735.71</td>\n",
       "      <td>Energy and Utilities</td>\n",
       "      <td>0.41</td>\n",
       "      <td>0.03</td>\n",
       "      <td>0.05</td>\n",
       "      <td>0.05</td>\n",
       "      <td>0.05</td>\n",
       "      <td>0.05</td>\n",
       "      <td>0.00</td>\n",
       "      <td>0.00</td>\n",
       "      <td>0.04</td>\n",
       "      <td>0.00</td>\n",
       "      <td>0.05</td>\n",
       "      <td>0.03</td>\n",
       "      <td>0.00</td>\n",
       "      <td>0.00</td>\n",
       "      <td>0.05</td>\n",
       "      <td>0.00</td>\n",
       "      <td>0.00</td>\n",
       "      <td>0.00</td>\n",
       "    </tr>\n",
       "    <tr>\n",
       "      <th>487</th>\n",
       "      <td>Avance Gas Holding ltd</td>\n",
       "      <td>AGAS</td>\n",
       "      <td>2020</td>\n",
       "      <td>Norway</td>\n",
       "      <td>183.68</td>\n",
       "      <td>Energy and Utilities</td>\n",
       "      <td>0.38</td>\n",
       "      <td>0.03</td>\n",
       "      <td>0.05</td>\n",
       "      <td>0.05</td>\n",
       "      <td>0.05</td>\n",
       "      <td>0.05</td>\n",
       "      <td>0.00</td>\n",
       "      <td>0.00</td>\n",
       "      <td>0.04</td>\n",
       "      <td>0.00</td>\n",
       "      <td>0.05</td>\n",
       "      <td>0.00</td>\n",
       "      <td>0.00</td>\n",
       "      <td>0.00</td>\n",
       "      <td>0.05</td>\n",
       "      <td>0.00</td>\n",
       "      <td>0.00</td>\n",
       "      <td>0.00</td>\n",
       "    </tr>\n",
       "    <tr>\n",
       "      <th>488</th>\n",
       "      <td>Borr Drilling Ltd</td>\n",
       "      <td>BDRILL</td>\n",
       "      <td>2020</td>\n",
       "      <td>Other</td>\n",
       "      <td>274.55</td>\n",
       "      <td>Energy and Utilities</td>\n",
       "      <td>0.51</td>\n",
       "      <td>0.00</td>\n",
       "      <td>0.05</td>\n",
       "      <td>0.05</td>\n",
       "      <td>0.05</td>\n",
       "      <td>0.05</td>\n",
       "      <td>0.00</td>\n",
       "      <td>0.00</td>\n",
       "      <td>0.04</td>\n",
       "      <td>0.00</td>\n",
       "      <td>0.05</td>\n",
       "      <td>0.03</td>\n",
       "      <td>0.03</td>\n",
       "      <td>0.05</td>\n",
       "      <td>0.05</td>\n",
       "      <td>0.00</td>\n",
       "      <td>0.05</td>\n",
       "      <td>0.00</td>\n",
       "    </tr>\n",
       "    <tr>\n",
       "      <th>489</th>\n",
       "      <td>BW LPG</td>\n",
       "      <td>BWLPG</td>\n",
       "      <td>2020</td>\n",
       "      <td>Other</td>\n",
       "      <td>555.01</td>\n",
       "      <td>Energy and Utilities</td>\n",
       "      <td>0.46</td>\n",
       "      <td>0.00</td>\n",
       "      <td>0.05</td>\n",
       "      <td>0.05</td>\n",
       "      <td>0.05</td>\n",
       "      <td>0.05</td>\n",
       "      <td>0.00</td>\n",
       "      <td>0.00</td>\n",
       "      <td>0.04</td>\n",
       "      <td>0.00</td>\n",
       "      <td>0.05</td>\n",
       "      <td>0.03</td>\n",
       "      <td>0.03</td>\n",
       "      <td>0.05</td>\n",
       "      <td>0.05</td>\n",
       "      <td>0.00</td>\n",
       "      <td>0.00</td>\n",
       "      <td>0.00</td>\n",
       "    </tr>\n",
       "    <tr>\n",
       "      <th>490</th>\n",
       "      <td>BW Offshore Limited</td>\n",
       "      <td>BWO</td>\n",
       "      <td>2020</td>\n",
       "      <td>Other</td>\n",
       "      <td>720.65</td>\n",
       "      <td>Energy and Utilities</td>\n",
       "      <td>0.40</td>\n",
       "      <td>0.00</td>\n",
       "      <td>0.05</td>\n",
       "      <td>0.05</td>\n",
       "      <td>0.05</td>\n",
       "      <td>0.05</td>\n",
       "      <td>0.00</td>\n",
       "      <td>0.00</td>\n",
       "      <td>0.04</td>\n",
       "      <td>0.01</td>\n",
       "      <td>0.05</td>\n",
       "      <td>0.00</td>\n",
       "      <td>0.00</td>\n",
       "      <td>0.05</td>\n",
       "      <td>0.05</td>\n",
       "      <td>0.00</td>\n",
       "      <td>0.00</td>\n",
       "      <td>0.00</td>\n",
       "    </tr>\n",
       "  </tbody>\n",
       "</table>\n",
       "</div>"
      ],
      "text/plain": [
       "                    company  ticker  year hq_country  revenue_MEUR  \\\n",
       "486             Archer Ltd.   ARCHO  2020     Norway        735.71   \n",
       "487  Avance Gas Holding ltd    AGAS  2020     Norway        183.68   \n",
       "488       Borr Drilling Ltd  BDRILL  2020      Other        274.55   \n",
       "489                  BW LPG   BWLPG  2020      Other        555.01   \n",
       "490     BW Offshore Limited     BWO  2020      Other        720.65   \n",
       "\n",
       "                 industry  overall_score_raw  \\\n",
       "486  Energy and Utilities               0.41   \n",
       "487  Energy and Utilities               0.38   \n",
       "488  Energy and Utilities               0.51   \n",
       "489  Energy and Utilities               0.46   \n",
       "490  Energy and Utilities               0.40   \n",
       "\n",
       "     external_audit_of_ESG_report_score  ceo_sust_statem_score  \\\n",
       "486                                0.03                   0.05   \n",
       "487                                0.03                   0.05   \n",
       "488                                0.00                   0.05   \n",
       "489                                0.00                   0.05   \n",
       "490                                0.00                   0.05   \n",
       "\n",
       "     environmental_policy_and_assessment_score  \\\n",
       "486                                       0.05   \n",
       "487                                       0.05   \n",
       "488                                       0.05   \n",
       "489                                       0.05   \n",
       "490                                       0.05   \n",
       "\n",
       "     environmental_performance_targets_score  \\\n",
       "486                                     0.05   \n",
       "487                                     0.05   \n",
       "488                                     0.05   \n",
       "489                                     0.05   \n",
       "490                                     0.05   \n",
       "\n",
       "     reduced_environmental_impact_score  increased_renewable_energy_score  \\\n",
       "486                                0.05                              0.00   \n",
       "487                                0.05                              0.00   \n",
       "488                                0.05                              0.00   \n",
       "489                                0.05                              0.00   \n",
       "490                                0.05                              0.00   \n",
       "\n",
       "     disclosure_of_raw_material_use_score  resource_efficiency_target_score  \\\n",
       "486                                  0.00                              0.04   \n",
       "487                                  0.00                              0.04   \n",
       "488                                  0.00                              0.04   \n",
       "489                                  0.00                              0.04   \n",
       "490                                  0.00                              0.04   \n",
       "\n",
       "     disclosure_of_water_discharges_score  supplier_guidelines_score  \\\n",
       "486                                  0.00                       0.05   \n",
       "487                                  0.00                       0.05   \n",
       "488                                  0.00                       0.05   \n",
       "489                                  0.00                       0.05   \n",
       "490                                  0.01                       0.05   \n",
       "\n",
       "     disclosure_of_suppliers_audited_score  \\\n",
       "486                                   0.03   \n",
       "487                                   0.00   \n",
       "488                                   0.03   \n",
       "489                                   0.03   \n",
       "490                                   0.00   \n",
       "\n",
       "     disclosure_of_supplier_evaluation_procedures_score  \\\n",
       "486                                               0.00    \n",
       "487                                               0.00    \n",
       "488                                               0.03    \n",
       "489                                               0.03    \n",
       "490                                               0.00    \n",
       "\n",
       "     supplier_environmental_assessment_score  energy_consump_bool_score  \\\n",
       "486                                     0.00                       0.05   \n",
       "487                                     0.00                       0.05   \n",
       "488                                     0.05                       0.05   \n",
       "489                                     0.05                       0.05   \n",
       "490                                     0.05                       0.05   \n",
       "\n",
       "     water_withdraw_bool_score  ghg_emis_bool_score  transport_emis_bool_score  \n",
       "486                       0.00                 0.00                       0.00  \n",
       "487                       0.00                 0.00                       0.00  \n",
       "488                       0.00                 0.05                       0.00  \n",
       "489                       0.00                 0.00                       0.00  \n",
       "490                       0.00                 0.00                       0.00  "
      ]
     },
     "execution_count": 117,
     "metadata": {},
     "output_type": "execute_result"
    }
   ],
   "source": [
    "cross_sector_scoring_df[\n",
    "    (cross_sector_scoring_df[\"industry\"] == \"Energy and Utilities\")\n",
    "    & (cross_sector_scoring_df[\"year\"] == 2020)\n",
    "].head()"
   ]
  },
  {
   "cell_type": "markdown",
   "metadata": {},
   "source": [
    "The overall adjusted score is calculated by converting the overall raw score into a percentile, relative to other company scores for a given year. I decided this was more suitable as a relative measure, rather than comparing to other company scores across all years. However, one potential downside is that some companies have a higher overall_raw_score but lower overall_adjusted_score than others. This is because the performance of other companies in that year will have been higher, dragging down the company's percentile score."
   ]
  },
  {
   "cell_type": "code",
   "execution_count": 118,
   "metadata": {},
   "outputs": [],
   "source": [
    "cross_sector_scoring_df = calculate_adjusted_score(\n",
    "    cross_sector_scoring_df, raw_column=\"overall_score_raw\", by_industry=False\n",
    ")"
   ]
  },
  {
   "cell_type": "code",
   "execution_count": 119,
   "metadata": {},
   "outputs": [
    {
     "data": {
      "text/html": [
       "<div>\n",
       "<style scoped>\n",
       "    .dataframe tbody tr th:only-of-type {\n",
       "        vertical-align: middle;\n",
       "    }\n",
       "\n",
       "    .dataframe tbody tr th {\n",
       "        vertical-align: top;\n",
       "    }\n",
       "\n",
       "    .dataframe thead th {\n",
       "        text-align: right;\n",
       "    }\n",
       "</style>\n",
       "<table border=\"1\" class=\"dataframe\">\n",
       "  <thead>\n",
       "    <tr style=\"text-align: right;\">\n",
       "      <th></th>\n",
       "      <th>company</th>\n",
       "      <th>ticker</th>\n",
       "      <th>year</th>\n",
       "      <th>hq_country</th>\n",
       "      <th>revenue_MEUR</th>\n",
       "      <th>industry</th>\n",
       "      <th>overall_score_raw</th>\n",
       "      <th>external_audit_of_ESG_report_score</th>\n",
       "      <th>ceo_sust_statem_score</th>\n",
       "      <th>environmental_policy_and_assessment_score</th>\n",
       "      <th>environmental_performance_targets_score</th>\n",
       "      <th>reduced_environmental_impact_score</th>\n",
       "      <th>increased_renewable_energy_score</th>\n",
       "      <th>disclosure_of_raw_material_use_score</th>\n",
       "      <th>resource_efficiency_target_score</th>\n",
       "      <th>disclosure_of_water_discharges_score</th>\n",
       "      <th>supplier_guidelines_score</th>\n",
       "      <th>disclosure_of_suppliers_audited_score</th>\n",
       "      <th>disclosure_of_supplier_evaluation_procedures_score</th>\n",
       "      <th>supplier_environmental_assessment_score</th>\n",
       "      <th>energy_consump_bool_score</th>\n",
       "      <th>water_withdraw_bool_score</th>\n",
       "      <th>ghg_emis_bool_score</th>\n",
       "      <th>transport_emis_bool_score</th>\n",
       "      <th>overall_score_adjusted</th>\n",
       "    </tr>\n",
       "  </thead>\n",
       "  <tbody>\n",
       "    <tr>\n",
       "      <th>0</th>\n",
       "      <td>Avance Gas Holding ltd</td>\n",
       "      <td>AGAS</td>\n",
       "      <td>2019</td>\n",
       "      <td>Norway</td>\n",
       "      <td>223.59</td>\n",
       "      <td>Energy and Utilities</td>\n",
       "      <td>0.22</td>\n",
       "      <td>0.00</td>\n",
       "      <td>0.06</td>\n",
       "      <td>0.05</td>\n",
       "      <td>0.05</td>\n",
       "      <td>0.05</td>\n",
       "      <td>0.00</td>\n",
       "      <td>0.00</td>\n",
       "      <td>0.00</td>\n",
       "      <td>0.00</td>\n",
       "      <td>0.00</td>\n",
       "      <td>0.00</td>\n",
       "      <td>0.00</td>\n",
       "      <td>0.00</td>\n",
       "      <td>0.00</td>\n",
       "      <td>0.00</td>\n",
       "      <td>0.00</td>\n",
       "      <td>0.00</td>\n",
       "      <td>0.19</td>\n",
       "    </tr>\n",
       "    <tr>\n",
       "      <th>1</th>\n",
       "      <td>Borr Drilling Ltd</td>\n",
       "      <td>BDRILL</td>\n",
       "      <td>2019</td>\n",
       "      <td>Other</td>\n",
       "      <td>291.85</td>\n",
       "      <td>Energy and Utilities</td>\n",
       "      <td>0.35</td>\n",
       "      <td>0.00</td>\n",
       "      <td>0.00</td>\n",
       "      <td>0.05</td>\n",
       "      <td>0.00</td>\n",
       "      <td>0.05</td>\n",
       "      <td>0.00</td>\n",
       "      <td>0.00</td>\n",
       "      <td>0.04</td>\n",
       "      <td>0.00</td>\n",
       "      <td>0.05</td>\n",
       "      <td>0.00</td>\n",
       "      <td>0.00</td>\n",
       "      <td>0.00</td>\n",
       "      <td>0.05</td>\n",
       "      <td>0.00</td>\n",
       "      <td>0.05</td>\n",
       "      <td>0.05</td>\n",
       "      <td>0.39</td>\n",
       "    </tr>\n",
       "    <tr>\n",
       "      <th>2</th>\n",
       "      <td>BW LPG</td>\n",
       "      <td>BWLPG</td>\n",
       "      <td>2019</td>\n",
       "      <td>Other</td>\n",
       "      <td>728.22</td>\n",
       "      <td>Energy and Utilities</td>\n",
       "      <td>0.16</td>\n",
       "      <td>0.00</td>\n",
       "      <td>0.06</td>\n",
       "      <td>0.05</td>\n",
       "      <td>0.00</td>\n",
       "      <td>0.05</td>\n",
       "      <td>0.00</td>\n",
       "      <td>0.00</td>\n",
       "      <td>0.00</td>\n",
       "      <td>0.00</td>\n",
       "      <td>0.00</td>\n",
       "      <td>0.00</td>\n",
       "      <td>0.00</td>\n",
       "      <td>0.00</td>\n",
       "      <td>0.00</td>\n",
       "      <td>0.00</td>\n",
       "      <td>0.00</td>\n",
       "      <td>0.00</td>\n",
       "      <td>0.13</td>\n",
       "    </tr>\n",
       "    <tr>\n",
       "      <th>3</th>\n",
       "      <td>BW Offshore Limited</td>\n",
       "      <td>BWO</td>\n",
       "      <td>2019</td>\n",
       "      <td>Other</td>\n",
       "      <td>844.03</td>\n",
       "      <td>Energy and Utilities</td>\n",
       "      <td>0.27</td>\n",
       "      <td>0.00</td>\n",
       "      <td>0.06</td>\n",
       "      <td>0.05</td>\n",
       "      <td>0.00</td>\n",
       "      <td>0.05</td>\n",
       "      <td>0.00</td>\n",
       "      <td>0.00</td>\n",
       "      <td>0.00</td>\n",
       "      <td>0.01</td>\n",
       "      <td>0.05</td>\n",
       "      <td>0.00</td>\n",
       "      <td>0.00</td>\n",
       "      <td>0.00</td>\n",
       "      <td>0.05</td>\n",
       "      <td>0.00</td>\n",
       "      <td>0.00</td>\n",
       "      <td>0.00</td>\n",
       "      <td>0.27</td>\n",
       "    </tr>\n",
       "    <tr>\n",
       "      <th>4</th>\n",
       "      <td>FLEX LNG Ltd</td>\n",
       "      <td>FLNG</td>\n",
       "      <td>2019</td>\n",
       "      <td>Other</td>\n",
       "      <td>107.11</td>\n",
       "      <td>Energy and Utilities</td>\n",
       "      <td>0.36</td>\n",
       "      <td>0.00</td>\n",
       "      <td>0.06</td>\n",
       "      <td>0.05</td>\n",
       "      <td>0.05</td>\n",
       "      <td>0.05</td>\n",
       "      <td>0.00</td>\n",
       "      <td>0.00</td>\n",
       "      <td>0.04</td>\n",
       "      <td>0.00</td>\n",
       "      <td>0.00</td>\n",
       "      <td>0.00</td>\n",
       "      <td>0.00</td>\n",
       "      <td>0.05</td>\n",
       "      <td>0.05</td>\n",
       "      <td>0.00</td>\n",
       "      <td>0.00</td>\n",
       "      <td>0.00</td>\n",
       "      <td>0.39</td>\n",
       "    </tr>\n",
       "    <tr>\n",
       "      <th>...</th>\n",
       "      <td>...</td>\n",
       "      <td>...</td>\n",
       "      <td>...</td>\n",
       "      <td>...</td>\n",
       "      <td>...</td>\n",
       "      <td>...</td>\n",
       "      <td>...</td>\n",
       "      <td>...</td>\n",
       "      <td>...</td>\n",
       "      <td>...</td>\n",
       "      <td>...</td>\n",
       "      <td>...</td>\n",
       "      <td>...</td>\n",
       "      <td>...</td>\n",
       "      <td>...</td>\n",
       "      <td>...</td>\n",
       "      <td>...</td>\n",
       "      <td>...</td>\n",
       "      <td>...</td>\n",
       "      <td>...</td>\n",
       "      <td>...</td>\n",
       "      <td>...</td>\n",
       "      <td>...</td>\n",
       "      <td>...</td>\n",
       "      <td>...</td>\n",
       "    </tr>\n",
       "    <tr>\n",
       "      <th>1832</th>\n",
       "      <td>Collector Bank AB (formerly: Collector AB)</td>\n",
       "      <td>COLL</td>\n",
       "      <td>2022</td>\n",
       "      <td>Sweden</td>\n",
       "      <td>302.18</td>\n",
       "      <td>Finance</td>\n",
       "      <td>0.33</td>\n",
       "      <td>0.00</td>\n",
       "      <td>0.05</td>\n",
       "      <td>0.06</td>\n",
       "      <td>0.05</td>\n",
       "      <td>0.05</td>\n",
       "      <td>0.00</td>\n",
       "      <td>0.00</td>\n",
       "      <td>0.00</td>\n",
       "      <td>0.00</td>\n",
       "      <td>0.00</td>\n",
       "      <td>0.00</td>\n",
       "      <td>0.00</td>\n",
       "      <td>0.00</td>\n",
       "      <td>0.04</td>\n",
       "      <td>0.00</td>\n",
       "      <td>0.04</td>\n",
       "      <td>0.04</td>\n",
       "      <td>0.22</td>\n",
       "    </tr>\n",
       "    <tr>\n",
       "      <th>1833</th>\n",
       "      <td>Modern Times Group MTG AB</td>\n",
       "      <td>MTG</td>\n",
       "      <td>2022</td>\n",
       "      <td>Sweden</td>\n",
       "      <td>520.91</td>\n",
       "      <td>Other</td>\n",
       "      <td>0.43</td>\n",
       "      <td>0.00</td>\n",
       "      <td>0.05</td>\n",
       "      <td>0.06</td>\n",
       "      <td>0.05</td>\n",
       "      <td>0.05</td>\n",
       "      <td>0.00</td>\n",
       "      <td>0.00</td>\n",
       "      <td>0.04</td>\n",
       "      <td>0.00</td>\n",
       "      <td>0.05</td>\n",
       "      <td>0.00</td>\n",
       "      <td>0.00</td>\n",
       "      <td>0.05</td>\n",
       "      <td>0.00</td>\n",
       "      <td>0.00</td>\n",
       "      <td>0.04</td>\n",
       "      <td>0.04</td>\n",
       "      <td>0.40</td>\n",
       "    </tr>\n",
       "    <tr>\n",
       "      <th>1834</th>\n",
       "      <td>SECTRA AB</td>\n",
       "      <td>SECT</td>\n",
       "      <td>2022</td>\n",
       "      <td>Sweden</td>\n",
       "      <td>183.37</td>\n",
       "      <td>Health Care</td>\n",
       "      <td>0.25</td>\n",
       "      <td>0.00</td>\n",
       "      <td>0.05</td>\n",
       "      <td>0.06</td>\n",
       "      <td>0.00</td>\n",
       "      <td>0.05</td>\n",
       "      <td>0.00</td>\n",
       "      <td>0.00</td>\n",
       "      <td>0.00</td>\n",
       "      <td>0.00</td>\n",
       "      <td>0.05</td>\n",
       "      <td>0.00</td>\n",
       "      <td>0.00</td>\n",
       "      <td>0.00</td>\n",
       "      <td>0.00</td>\n",
       "      <td>0.00</td>\n",
       "      <td>0.04</td>\n",
       "      <td>0.00</td>\n",
       "      <td>0.16</td>\n",
       "    </tr>\n",
       "    <tr>\n",
       "      <th>1835</th>\n",
       "      <td>Betsson AB</td>\n",
       "      <td>BETS</td>\n",
       "      <td>2022</td>\n",
       "      <td>Sweden</td>\n",
       "      <td>777.20</td>\n",
       "      <td>Other</td>\n",
       "      <td>0.35</td>\n",
       "      <td>0.00</td>\n",
       "      <td>0.05</td>\n",
       "      <td>0.06</td>\n",
       "      <td>0.05</td>\n",
       "      <td>0.05</td>\n",
       "      <td>0.00</td>\n",
       "      <td>0.00</td>\n",
       "      <td>0.00</td>\n",
       "      <td>0.00</td>\n",
       "      <td>0.05</td>\n",
       "      <td>0.00</td>\n",
       "      <td>0.00</td>\n",
       "      <td>0.05</td>\n",
       "      <td>0.04</td>\n",
       "      <td>0.00</td>\n",
       "      <td>0.00</td>\n",
       "      <td>0.00</td>\n",
       "      <td>0.25</td>\n",
       "    </tr>\n",
       "    <tr>\n",
       "      <th>1836</th>\n",
       "      <td>Blackstone Inc. (formerly: G4S plc)</td>\n",
       "      <td>BX</td>\n",
       "      <td>2022</td>\n",
       "      <td>Other</td>\n",
       "      <td>8,088.58</td>\n",
       "      <td>Finance</td>\n",
       "      <td>0.26</td>\n",
       "      <td>0.00</td>\n",
       "      <td>0.00</td>\n",
       "      <td>0.06</td>\n",
       "      <td>0.05</td>\n",
       "      <td>0.05</td>\n",
       "      <td>0.00</td>\n",
       "      <td>0.00</td>\n",
       "      <td>0.00</td>\n",
       "      <td>0.00</td>\n",
       "      <td>0.05</td>\n",
       "      <td>0.00</td>\n",
       "      <td>0.00</td>\n",
       "      <td>0.05</td>\n",
       "      <td>0.00</td>\n",
       "      <td>0.00</td>\n",
       "      <td>0.00</td>\n",
       "      <td>0.00</td>\n",
       "      <td>0.16</td>\n",
       "    </tr>\n",
       "  </tbody>\n",
       "</table>\n",
       "<p>1837 rows × 25 columns</p>\n",
       "</div>"
      ],
      "text/plain": [
       "                                         company  ticker  year hq_country  \\\n",
       "0                         Avance Gas Holding ltd    AGAS  2019     Norway   \n",
       "1                              Borr Drilling Ltd  BDRILL  2019      Other   \n",
       "2                                         BW LPG   BWLPG  2019      Other   \n",
       "3                            BW Offshore Limited     BWO  2019      Other   \n",
       "4                                   FLEX LNG Ltd    FLNG  2019      Other   \n",
       "...                                          ...     ...   ...        ...   \n",
       "1832  Collector Bank AB (formerly: Collector AB)    COLL  2022     Sweden   \n",
       "1833                   Modern Times Group MTG AB     MTG  2022     Sweden   \n",
       "1834                                   SECTRA AB    SECT  2022     Sweden   \n",
       "1835                                  Betsson AB    BETS  2022     Sweden   \n",
       "1836         Blackstone Inc. (formerly: G4S plc)      BX  2022      Other   \n",
       "\n",
       "      revenue_MEUR              industry  overall_score_raw  \\\n",
       "0           223.59  Energy and Utilities               0.22   \n",
       "1           291.85  Energy and Utilities               0.35   \n",
       "2           728.22  Energy and Utilities               0.16   \n",
       "3           844.03  Energy and Utilities               0.27   \n",
       "4           107.11  Energy and Utilities               0.36   \n",
       "...            ...                   ...                ...   \n",
       "1832        302.18               Finance               0.33   \n",
       "1833        520.91                 Other               0.43   \n",
       "1834        183.37           Health Care               0.25   \n",
       "1835        777.20                 Other               0.35   \n",
       "1836      8,088.58               Finance               0.26   \n",
       "\n",
       "      external_audit_of_ESG_report_score  ceo_sust_statem_score  \\\n",
       "0                                   0.00                   0.06   \n",
       "1                                   0.00                   0.00   \n",
       "2                                   0.00                   0.06   \n",
       "3                                   0.00                   0.06   \n",
       "4                                   0.00                   0.06   \n",
       "...                                  ...                    ...   \n",
       "1832                                0.00                   0.05   \n",
       "1833                                0.00                   0.05   \n",
       "1834                                0.00                   0.05   \n",
       "1835                                0.00                   0.05   \n",
       "1836                                0.00                   0.00   \n",
       "\n",
       "      environmental_policy_and_assessment_score  \\\n",
       "0                                          0.05   \n",
       "1                                          0.05   \n",
       "2                                          0.05   \n",
       "3                                          0.05   \n",
       "4                                          0.05   \n",
       "...                                         ...   \n",
       "1832                                       0.06   \n",
       "1833                                       0.06   \n",
       "1834                                       0.06   \n",
       "1835                                       0.06   \n",
       "1836                                       0.06   \n",
       "\n",
       "      environmental_performance_targets_score  \\\n",
       "0                                        0.05   \n",
       "1                                        0.00   \n",
       "2                                        0.00   \n",
       "3                                        0.00   \n",
       "4                                        0.05   \n",
       "...                                       ...   \n",
       "1832                                     0.05   \n",
       "1833                                     0.05   \n",
       "1834                                     0.00   \n",
       "1835                                     0.05   \n",
       "1836                                     0.05   \n",
       "\n",
       "      reduced_environmental_impact_score  increased_renewable_energy_score  \\\n",
       "0                                   0.05                              0.00   \n",
       "1                                   0.05                              0.00   \n",
       "2                                   0.05                              0.00   \n",
       "3                                   0.05                              0.00   \n",
       "4                                   0.05                              0.00   \n",
       "...                                  ...                               ...   \n",
       "1832                                0.05                              0.00   \n",
       "1833                                0.05                              0.00   \n",
       "1834                                0.05                              0.00   \n",
       "1835                                0.05                              0.00   \n",
       "1836                                0.05                              0.00   \n",
       "\n",
       "      disclosure_of_raw_material_use_score  resource_efficiency_target_score  \\\n",
       "0                                     0.00                              0.00   \n",
       "1                                     0.00                              0.04   \n",
       "2                                     0.00                              0.00   \n",
       "3                                     0.00                              0.00   \n",
       "4                                     0.00                              0.04   \n",
       "...                                    ...                               ...   \n",
       "1832                                  0.00                              0.00   \n",
       "1833                                  0.00                              0.04   \n",
       "1834                                  0.00                              0.00   \n",
       "1835                                  0.00                              0.00   \n",
       "1836                                  0.00                              0.00   \n",
       "\n",
       "      disclosure_of_water_discharges_score  supplier_guidelines_score  \\\n",
       "0                                     0.00                       0.00   \n",
       "1                                     0.00                       0.05   \n",
       "2                                     0.00                       0.00   \n",
       "3                                     0.01                       0.05   \n",
       "4                                     0.00                       0.00   \n",
       "...                                    ...                        ...   \n",
       "1832                                  0.00                       0.00   \n",
       "1833                                  0.00                       0.05   \n",
       "1834                                  0.00                       0.05   \n",
       "1835                                  0.00                       0.05   \n",
       "1836                                  0.00                       0.05   \n",
       "\n",
       "      disclosure_of_suppliers_audited_score  \\\n",
       "0                                      0.00   \n",
       "1                                      0.00   \n",
       "2                                      0.00   \n",
       "3                                      0.00   \n",
       "4                                      0.00   \n",
       "...                                     ...   \n",
       "1832                                   0.00   \n",
       "1833                                   0.00   \n",
       "1834                                   0.00   \n",
       "1835                                   0.00   \n",
       "1836                                   0.00   \n",
       "\n",
       "      disclosure_of_supplier_evaluation_procedures_score  \\\n",
       "0                                                  0.00    \n",
       "1                                                  0.00    \n",
       "2                                                  0.00    \n",
       "3                                                  0.00    \n",
       "4                                                  0.00    \n",
       "...                                                 ...    \n",
       "1832                                               0.00    \n",
       "1833                                               0.00    \n",
       "1834                                               0.00    \n",
       "1835                                               0.00    \n",
       "1836                                               0.00    \n",
       "\n",
       "      supplier_environmental_assessment_score  energy_consump_bool_score  \\\n",
       "0                                        0.00                       0.00   \n",
       "1                                        0.00                       0.05   \n",
       "2                                        0.00                       0.00   \n",
       "3                                        0.00                       0.05   \n",
       "4                                        0.05                       0.05   \n",
       "...                                       ...                        ...   \n",
       "1832                                     0.00                       0.04   \n",
       "1833                                     0.05                       0.00   \n",
       "1834                                     0.00                       0.00   \n",
       "1835                                     0.05                       0.04   \n",
       "1836                                     0.05                       0.00   \n",
       "\n",
       "      water_withdraw_bool_score  ghg_emis_bool_score  \\\n",
       "0                          0.00                 0.00   \n",
       "1                          0.00                 0.05   \n",
       "2                          0.00                 0.00   \n",
       "3                          0.00                 0.00   \n",
       "4                          0.00                 0.00   \n",
       "...                         ...                  ...   \n",
       "1832                       0.00                 0.04   \n",
       "1833                       0.00                 0.04   \n",
       "1834                       0.00                 0.04   \n",
       "1835                       0.00                 0.00   \n",
       "1836                       0.00                 0.00   \n",
       "\n",
       "      transport_emis_bool_score  overall_score_adjusted  \n",
       "0                          0.00                    0.19  \n",
       "1                          0.05                    0.39  \n",
       "2                          0.00                    0.13  \n",
       "3                          0.00                    0.27  \n",
       "4                          0.00                    0.39  \n",
       "...                         ...                     ...  \n",
       "1832                       0.04                    0.22  \n",
       "1833                       0.04                    0.40  \n",
       "1834                       0.00                    0.16  \n",
       "1835                       0.00                    0.25  \n",
       "1836                       0.00                    0.16  \n",
       "\n",
       "[1837 rows x 25 columns]"
      ]
     },
     "execution_count": 119,
     "metadata": {},
     "output_type": "execute_result"
    }
   ],
   "source": [
    "cross_sector_scoring_df"
   ]
  },
  {
   "cell_type": "code",
   "execution_count": 120,
   "metadata": {},
   "outputs": [],
   "source": [
    "cross_sector_scoring_df[\"overall_rating\"] = cross_sector_scoring_df[\n",
    "    \"overall_score_adjusted\"\n",
    "].apply(assign_rating)\n",
    "\n",
    "cross_sector_scoring_df[\"overall_rating\"] = cast_to_rating_category(\n",
    "    cross_sector_scoring_df[\"overall_rating\"]\n",
    ")"
   ]
  },
  {
   "cell_type": "code",
   "execution_count": 121,
   "metadata": {},
   "outputs": [],
   "source": [
    "# re-order columns\n",
    "first_cols = [\n",
    "    \"company\",\n",
    "    \"ticker\",\n",
    "    \"year\",\n",
    "    \"industry\",\n",
    "    \"overall_rating\",\n",
    "    \"overall_score_adjusted\",\n",
    "]\n",
    "\n",
    "remaining_cols = [\n",
    "    col for col in cross_sector_scoring_df.columns if col not in first_cols\n",
    "]\n",
    "cross_sector_scoring_df = cross_sector_scoring_df[first_cols + remaining_cols]"
   ]
  },
  {
   "cell_type": "code",
   "execution_count": 122,
   "metadata": {},
   "outputs": [],
   "source": [
    "cross_sector_scoring_df = cross_sector_scoring_df.sort_values(\n",
    "    [\"company\", \"year\"]\n",
    ").assign(\n",
    "    overall_rating_previous_year=lambda df: df.groupby(\"company\")[\n",
    "        \"overall_rating\"\n",
    "    ].shift(1)\n",
    ")"
   ]
  },
  {
   "cell_type": "code",
   "execution_count": 123,
   "metadata": {},
   "outputs": [],
   "source": [
    "# cross_sector_scoring_df[\n",
    "#     (cross_sector_scoring_df[\"industry\"] == \"Energy and Utilities\")\n",
    "#     & (cross_sector_scoring_df[\"year\"] == 2020)\n",
    "# ]"
   ]
  },
  {
   "cell_type": "code",
   "execution_count": 124,
   "metadata": {},
   "outputs": [
    {
     "data": {
      "text/html": [
       "<div>\n",
       "<style scoped>\n",
       "    .dataframe tbody tr th:only-of-type {\n",
       "        vertical-align: middle;\n",
       "    }\n",
       "\n",
       "    .dataframe tbody tr th {\n",
       "        vertical-align: top;\n",
       "    }\n",
       "\n",
       "    .dataframe thead th {\n",
       "        text-align: right;\n",
       "    }\n",
       "</style>\n",
       "<table border=\"1\" class=\"dataframe\">\n",
       "  <thead>\n",
       "    <tr style=\"text-align: right;\">\n",
       "      <th></th>\n",
       "      <th>company</th>\n",
       "      <th>ticker</th>\n",
       "      <th>year</th>\n",
       "      <th>industry</th>\n",
       "      <th>overall_rating</th>\n",
       "      <th>overall_score_adjusted</th>\n",
       "      <th>hq_country</th>\n",
       "      <th>revenue_MEUR</th>\n",
       "      <th>overall_score_raw</th>\n",
       "      <th>external_audit_of_ESG_report_score</th>\n",
       "      <th>ceo_sust_statem_score</th>\n",
       "      <th>environmental_policy_and_assessment_score</th>\n",
       "      <th>environmental_performance_targets_score</th>\n",
       "      <th>reduced_environmental_impact_score</th>\n",
       "      <th>increased_renewable_energy_score</th>\n",
       "      <th>disclosure_of_raw_material_use_score</th>\n",
       "      <th>resource_efficiency_target_score</th>\n",
       "      <th>disclosure_of_water_discharges_score</th>\n",
       "      <th>supplier_guidelines_score</th>\n",
       "      <th>disclosure_of_suppliers_audited_score</th>\n",
       "      <th>disclosure_of_supplier_evaluation_procedures_score</th>\n",
       "      <th>supplier_environmental_assessment_score</th>\n",
       "      <th>energy_consump_bool_score</th>\n",
       "      <th>water_withdraw_bool_score</th>\n",
       "      <th>ghg_emis_bool_score</th>\n",
       "      <th>transport_emis_bool_score</th>\n",
       "      <th>overall_rating_previous_year</th>\n",
       "    </tr>\n",
       "  </thead>\n",
       "  <tbody>\n",
       "    <tr>\n",
       "      <th>28</th>\n",
       "      <td>A.P. Møller -Maersk A/S</td>\n",
       "      <td>MAERSK</td>\n",
       "      <td>2019</td>\n",
       "      <td>Industrial Goods and Services</td>\n",
       "      <td>A</td>\n",
       "      <td>0.87</td>\n",
       "      <td>Denmark</td>\n",
       "      <td>34,723.21</td>\n",
       "      <td>0.60</td>\n",
       "      <td>0.03</td>\n",
       "      <td>0.06</td>\n",
       "      <td>0.05</td>\n",
       "      <td>0.05</td>\n",
       "      <td>0.05</td>\n",
       "      <td>0.00</td>\n",
       "      <td>0.00</td>\n",
       "      <td>0.04</td>\n",
       "      <td>0.00</td>\n",
       "      <td>0.05</td>\n",
       "      <td>0.03</td>\n",
       "      <td>0.03</td>\n",
       "      <td>0.05</td>\n",
       "      <td>0.05</td>\n",
       "      <td>0.03</td>\n",
       "      <td>0.05</td>\n",
       "      <td>0.00</td>\n",
       "      <td>NaN</td>\n",
       "    </tr>\n",
       "    <tr>\n",
       "      <th>517</th>\n",
       "      <td>A.P. Møller -Maersk A/S</td>\n",
       "      <td>MAERSK</td>\n",
       "      <td>2020</td>\n",
       "      <td>Industrial Goods and Services</td>\n",
       "      <td>A</td>\n",
       "      <td>0.91</td>\n",
       "      <td>Denmark</td>\n",
       "      <td>35,482.14</td>\n",
       "      <td>0.61</td>\n",
       "      <td>0.03</td>\n",
       "      <td>0.05</td>\n",
       "      <td>0.05</td>\n",
       "      <td>0.05</td>\n",
       "      <td>0.05</td>\n",
       "      <td>0.03</td>\n",
       "      <td>0.00</td>\n",
       "      <td>0.04</td>\n",
       "      <td>0.00</td>\n",
       "      <td>0.05</td>\n",
       "      <td>0.03</td>\n",
       "      <td>0.00</td>\n",
       "      <td>0.05</td>\n",
       "      <td>0.05</td>\n",
       "      <td>0.03</td>\n",
       "      <td>0.05</td>\n",
       "      <td>0.04</td>\n",
       "      <td>A</td>\n",
       "    </tr>\n",
       "    <tr>\n",
       "      <th>998</th>\n",
       "      <td>A.P. Møller -Maersk A/S</td>\n",
       "      <td>MAERSK</td>\n",
       "      <td>2021</td>\n",
       "      <td>Industrial Goods and Services</td>\n",
       "      <td>A</td>\n",
       "      <td>0.87</td>\n",
       "      <td>Denmark</td>\n",
       "      <td>55,166.96</td>\n",
       "      <td>0.59</td>\n",
       "      <td>0.03</td>\n",
       "      <td>0.05</td>\n",
       "      <td>0.05</td>\n",
       "      <td>0.05</td>\n",
       "      <td>0.05</td>\n",
       "      <td>0.03</td>\n",
       "      <td>0.00</td>\n",
       "      <td>0.00</td>\n",
       "      <td>0.00</td>\n",
       "      <td>0.05</td>\n",
       "      <td>0.03</td>\n",
       "      <td>0.03</td>\n",
       "      <td>0.05</td>\n",
       "      <td>0.05</td>\n",
       "      <td>0.03</td>\n",
       "      <td>0.05</td>\n",
       "      <td>0.04</td>\n",
       "      <td>A</td>\n",
       "    </tr>\n",
       "    <tr>\n",
       "      <th>1437</th>\n",
       "      <td>A.P. Møller -Maersk A/S</td>\n",
       "      <td>MAERSK</td>\n",
       "      <td>2022</td>\n",
       "      <td>Industrial Goods and Services</td>\n",
       "      <td>A</td>\n",
       "      <td>0.89</td>\n",
       "      <td>Denmark</td>\n",
       "      <td>77,425.45</td>\n",
       "      <td>0.60</td>\n",
       "      <td>0.00</td>\n",
       "      <td>0.05</td>\n",
       "      <td>0.06</td>\n",
       "      <td>0.05</td>\n",
       "      <td>0.05</td>\n",
       "      <td>0.03</td>\n",
       "      <td>0.00</td>\n",
       "      <td>0.04</td>\n",
       "      <td>0.00</td>\n",
       "      <td>0.05</td>\n",
       "      <td>0.03</td>\n",
       "      <td>0.03</td>\n",
       "      <td>0.05</td>\n",
       "      <td>0.04</td>\n",
       "      <td>0.03</td>\n",
       "      <td>0.04</td>\n",
       "      <td>0.04</td>\n",
       "      <td>A</td>\n",
       "    </tr>\n",
       "    <tr>\n",
       "      <th>462</th>\n",
       "      <td>AAK AB</td>\n",
       "      <td>AAK</td>\n",
       "      <td>2019</td>\n",
       "      <td>Consumer Goods and Services</td>\n",
       "      <td>B+</td>\n",
       "      <td>0.74</td>\n",
       "      <td>Sweden</td>\n",
       "      <td>2,714.72</td>\n",
       "      <td>0.55</td>\n",
       "      <td>0.03</td>\n",
       "      <td>0.06</td>\n",
       "      <td>0.05</td>\n",
       "      <td>0.05</td>\n",
       "      <td>0.05</td>\n",
       "      <td>0.00</td>\n",
       "      <td>0.00</td>\n",
       "      <td>0.04</td>\n",
       "      <td>0.00</td>\n",
       "      <td>0.05</td>\n",
       "      <td>0.03</td>\n",
       "      <td>0.03</td>\n",
       "      <td>0.05</td>\n",
       "      <td>0.05</td>\n",
       "      <td>0.03</td>\n",
       "      <td>0.00</td>\n",
       "      <td>0.00</td>\n",
       "      <td>NaN</td>\n",
       "    </tr>\n",
       "    <tr>\n",
       "      <th>...</th>\n",
       "      <td>...</td>\n",
       "      <td>...</td>\n",
       "      <td>...</td>\n",
       "      <td>...</td>\n",
       "      <td>...</td>\n",
       "      <td>...</td>\n",
       "      <td>...</td>\n",
       "      <td>...</td>\n",
       "      <td>...</td>\n",
       "      <td>...</td>\n",
       "      <td>...</td>\n",
       "      <td>...</td>\n",
       "      <td>...</td>\n",
       "      <td>...</td>\n",
       "      <td>...</td>\n",
       "      <td>...</td>\n",
       "      <td>...</td>\n",
       "      <td>...</td>\n",
       "      <td>...</td>\n",
       "      <td>...</td>\n",
       "      <td>...</td>\n",
       "      <td>...</td>\n",
       "      <td>...</td>\n",
       "      <td>...</td>\n",
       "      <td>...</td>\n",
       "      <td>...</td>\n",
       "      <td>...</td>\n",
       "    </tr>\n",
       "    <tr>\n",
       "      <th>1559</th>\n",
       "      <td>Össur hf</td>\n",
       "      <td>OSSR</td>\n",
       "      <td>2022</td>\n",
       "      <td>Health Care</td>\n",
       "      <td>C-</td>\n",
       "      <td>0.26</td>\n",
       "      <td>Other</td>\n",
       "      <td>682.78</td>\n",
       "      <td>0.36</td>\n",
       "      <td>0.00</td>\n",
       "      <td>0.05</td>\n",
       "      <td>0.06</td>\n",
       "      <td>0.00</td>\n",
       "      <td>0.05</td>\n",
       "      <td>0.00</td>\n",
       "      <td>0.00</td>\n",
       "      <td>0.00</td>\n",
       "      <td>0.00</td>\n",
       "      <td>0.05</td>\n",
       "      <td>0.00</td>\n",
       "      <td>0.00</td>\n",
       "      <td>0.00</td>\n",
       "      <td>0.04</td>\n",
       "      <td>0.03</td>\n",
       "      <td>0.04</td>\n",
       "      <td>0.04</td>\n",
       "      <td>B+</td>\n",
       "    </tr>\n",
       "    <tr>\n",
       "      <th>51</th>\n",
       "      <td>Ørsted A/S</td>\n",
       "      <td>ORSTED</td>\n",
       "      <td>2019</td>\n",
       "      <td>Energy and Utilities</td>\n",
       "      <td>B+</td>\n",
       "      <td>0.70</td>\n",
       "      <td>Denmark</td>\n",
       "      <td>9,081.93</td>\n",
       "      <td>0.53</td>\n",
       "      <td>0.03</td>\n",
       "      <td>0.06</td>\n",
       "      <td>0.05</td>\n",
       "      <td>0.05</td>\n",
       "      <td>0.05</td>\n",
       "      <td>0.03</td>\n",
       "      <td>0.00</td>\n",
       "      <td>0.00</td>\n",
       "      <td>0.01</td>\n",
       "      <td>0.05</td>\n",
       "      <td>0.00</td>\n",
       "      <td>0.00</td>\n",
       "      <td>0.00</td>\n",
       "      <td>0.05</td>\n",
       "      <td>0.03</td>\n",
       "      <td>0.05</td>\n",
       "      <td>0.05</td>\n",
       "      <td>NaN</td>\n",
       "    </tr>\n",
       "    <tr>\n",
       "      <th>540</th>\n",
       "      <td>Ørsted A/S</td>\n",
       "      <td>ORSTED</td>\n",
       "      <td>2020</td>\n",
       "      <td>Energy and Utilities</td>\n",
       "      <td>A+</td>\n",
       "      <td>0.94</td>\n",
       "      <td>Denmark</td>\n",
       "      <td>7,041.63</td>\n",
       "      <td>0.63</td>\n",
       "      <td>0.03</td>\n",
       "      <td>0.05</td>\n",
       "      <td>0.05</td>\n",
       "      <td>0.05</td>\n",
       "      <td>0.05</td>\n",
       "      <td>0.03</td>\n",
       "      <td>0.02</td>\n",
       "      <td>0.04</td>\n",
       "      <td>0.00</td>\n",
       "      <td>0.05</td>\n",
       "      <td>0.03</td>\n",
       "      <td>0.00</td>\n",
       "      <td>0.05</td>\n",
       "      <td>0.05</td>\n",
       "      <td>0.03</td>\n",
       "      <td>0.05</td>\n",
       "      <td>0.04</td>\n",
       "      <td>B+</td>\n",
       "    </tr>\n",
       "    <tr>\n",
       "      <th>1017</th>\n",
       "      <td>Ørsted A/S</td>\n",
       "      <td>ORSTED</td>\n",
       "      <td>2021</td>\n",
       "      <td>Energy and Utilities</td>\n",
       "      <td>A+</td>\n",
       "      <td>0.93</td>\n",
       "      <td>Denmark</td>\n",
       "      <td>6,799.33</td>\n",
       "      <td>0.62</td>\n",
       "      <td>0.03</td>\n",
       "      <td>0.05</td>\n",
       "      <td>0.05</td>\n",
       "      <td>0.05</td>\n",
       "      <td>0.05</td>\n",
       "      <td>0.03</td>\n",
       "      <td>0.00</td>\n",
       "      <td>0.04</td>\n",
       "      <td>0.01</td>\n",
       "      <td>0.05</td>\n",
       "      <td>0.03</td>\n",
       "      <td>0.00</td>\n",
       "      <td>0.05</td>\n",
       "      <td>0.05</td>\n",
       "      <td>0.03</td>\n",
       "      <td>0.05</td>\n",
       "      <td>0.04</td>\n",
       "      <td>A+</td>\n",
       "    </tr>\n",
       "    <tr>\n",
       "      <th>1458</th>\n",
       "      <td>Ørsted A/S</td>\n",
       "      <td>ORSTED</td>\n",
       "      <td>2022</td>\n",
       "      <td>Energy and Utilities</td>\n",
       "      <td>A</td>\n",
       "      <td>0.90</td>\n",
       "      <td>Denmark</td>\n",
       "      <td>6,215.79</td>\n",
       "      <td>0.60</td>\n",
       "      <td>0.04</td>\n",
       "      <td>0.05</td>\n",
       "      <td>0.06</td>\n",
       "      <td>0.05</td>\n",
       "      <td>0.05</td>\n",
       "      <td>0.03</td>\n",
       "      <td>0.00</td>\n",
       "      <td>0.04</td>\n",
       "      <td>0.00</td>\n",
       "      <td>0.05</td>\n",
       "      <td>0.03</td>\n",
       "      <td>0.00</td>\n",
       "      <td>0.05</td>\n",
       "      <td>0.04</td>\n",
       "      <td>0.03</td>\n",
       "      <td>0.04</td>\n",
       "      <td>0.04</td>\n",
       "      <td>A+</td>\n",
       "    </tr>\n",
       "  </tbody>\n",
       "</table>\n",
       "<p>1837 rows × 27 columns</p>\n",
       "</div>"
      ],
      "text/plain": [
       "                      company  ticker  year                       industry  \\\n",
       "28    A.P. Møller -Maersk A/S  MAERSK  2019  Industrial Goods and Services   \n",
       "517   A.P. Møller -Maersk A/S  MAERSK  2020  Industrial Goods and Services   \n",
       "998   A.P. Møller -Maersk A/S  MAERSK  2021  Industrial Goods and Services   \n",
       "1437  A.P. Møller -Maersk A/S  MAERSK  2022  Industrial Goods and Services   \n",
       "462                    AAK AB     AAK  2019    Consumer Goods and Services   \n",
       "...                       ...     ...   ...                            ...   \n",
       "1559                 Össur hf    OSSR  2022                    Health Care   \n",
       "51                 Ørsted A/S  ORSTED  2019           Energy and Utilities   \n",
       "540                Ørsted A/S  ORSTED  2020           Energy and Utilities   \n",
       "1017               Ørsted A/S  ORSTED  2021           Energy and Utilities   \n",
       "1458               Ørsted A/S  ORSTED  2022           Energy and Utilities   \n",
       "\n",
       "     overall_rating  overall_score_adjusted hq_country  revenue_MEUR  \\\n",
       "28                A                    0.87    Denmark     34,723.21   \n",
       "517               A                    0.91    Denmark     35,482.14   \n",
       "998               A                    0.87    Denmark     55,166.96   \n",
       "1437              A                    0.89    Denmark     77,425.45   \n",
       "462              B+                    0.74     Sweden      2,714.72   \n",
       "...             ...                     ...        ...           ...   \n",
       "1559             C-                    0.26      Other        682.78   \n",
       "51               B+                    0.70    Denmark      9,081.93   \n",
       "540              A+                    0.94    Denmark      7,041.63   \n",
       "1017             A+                    0.93    Denmark      6,799.33   \n",
       "1458              A                    0.90    Denmark      6,215.79   \n",
       "\n",
       "      overall_score_raw  external_audit_of_ESG_report_score  \\\n",
       "28                 0.60                                0.03   \n",
       "517                0.61                                0.03   \n",
       "998                0.59                                0.03   \n",
       "1437               0.60                                0.00   \n",
       "462                0.55                                0.03   \n",
       "...                 ...                                 ...   \n",
       "1559               0.36                                0.00   \n",
       "51                 0.53                                0.03   \n",
       "540                0.63                                0.03   \n",
       "1017               0.62                                0.03   \n",
       "1458               0.60                                0.04   \n",
       "\n",
       "      ceo_sust_statem_score  environmental_policy_and_assessment_score  \\\n",
       "28                     0.06                                       0.05   \n",
       "517                    0.05                                       0.05   \n",
       "998                    0.05                                       0.05   \n",
       "1437                   0.05                                       0.06   \n",
       "462                    0.06                                       0.05   \n",
       "...                     ...                                        ...   \n",
       "1559                   0.05                                       0.06   \n",
       "51                     0.06                                       0.05   \n",
       "540                    0.05                                       0.05   \n",
       "1017                   0.05                                       0.05   \n",
       "1458                   0.05                                       0.06   \n",
       "\n",
       "      environmental_performance_targets_score  \\\n",
       "28                                       0.05   \n",
       "517                                      0.05   \n",
       "998                                      0.05   \n",
       "1437                                     0.05   \n",
       "462                                      0.05   \n",
       "...                                       ...   \n",
       "1559                                     0.00   \n",
       "51                                       0.05   \n",
       "540                                      0.05   \n",
       "1017                                     0.05   \n",
       "1458                                     0.05   \n",
       "\n",
       "      reduced_environmental_impact_score  increased_renewable_energy_score  \\\n",
       "28                                  0.05                              0.00   \n",
       "517                                 0.05                              0.03   \n",
       "998                                 0.05                              0.03   \n",
       "1437                                0.05                              0.03   \n",
       "462                                 0.05                              0.00   \n",
       "...                                  ...                               ...   \n",
       "1559                                0.05                              0.00   \n",
       "51                                  0.05                              0.03   \n",
       "540                                 0.05                              0.03   \n",
       "1017                                0.05                              0.03   \n",
       "1458                                0.05                              0.03   \n",
       "\n",
       "      disclosure_of_raw_material_use_score  resource_efficiency_target_score  \\\n",
       "28                                    0.00                              0.04   \n",
       "517                                   0.00                              0.04   \n",
       "998                                   0.00                              0.00   \n",
       "1437                                  0.00                              0.04   \n",
       "462                                   0.00                              0.04   \n",
       "...                                    ...                               ...   \n",
       "1559                                  0.00                              0.00   \n",
       "51                                    0.00                              0.00   \n",
       "540                                   0.02                              0.04   \n",
       "1017                                  0.00                              0.04   \n",
       "1458                                  0.00                              0.04   \n",
       "\n",
       "      disclosure_of_water_discharges_score  supplier_guidelines_score  \\\n",
       "28                                    0.00                       0.05   \n",
       "517                                   0.00                       0.05   \n",
       "998                                   0.00                       0.05   \n",
       "1437                                  0.00                       0.05   \n",
       "462                                   0.00                       0.05   \n",
       "...                                    ...                        ...   \n",
       "1559                                  0.00                       0.05   \n",
       "51                                    0.01                       0.05   \n",
       "540                                   0.00                       0.05   \n",
       "1017                                  0.01                       0.05   \n",
       "1458                                  0.00                       0.05   \n",
       "\n",
       "      disclosure_of_suppliers_audited_score  \\\n",
       "28                                     0.03   \n",
       "517                                    0.03   \n",
       "998                                    0.03   \n",
       "1437                                   0.03   \n",
       "462                                    0.03   \n",
       "...                                     ...   \n",
       "1559                                   0.00   \n",
       "51                                     0.00   \n",
       "540                                    0.03   \n",
       "1017                                   0.03   \n",
       "1458                                   0.03   \n",
       "\n",
       "      disclosure_of_supplier_evaluation_procedures_score  \\\n",
       "28                                                 0.03    \n",
       "517                                                0.00    \n",
       "998                                                0.03    \n",
       "1437                                               0.03    \n",
       "462                                                0.03    \n",
       "...                                                 ...    \n",
       "1559                                               0.00    \n",
       "51                                                 0.00    \n",
       "540                                                0.00    \n",
       "1017                                               0.00    \n",
       "1458                                               0.00    \n",
       "\n",
       "      supplier_environmental_assessment_score  energy_consump_bool_score  \\\n",
       "28                                       0.05                       0.05   \n",
       "517                                      0.05                       0.05   \n",
       "998                                      0.05                       0.05   \n",
       "1437                                     0.05                       0.04   \n",
       "462                                      0.05                       0.05   \n",
       "...                                       ...                        ...   \n",
       "1559                                     0.00                       0.04   \n",
       "51                                       0.00                       0.05   \n",
       "540                                      0.05                       0.05   \n",
       "1017                                     0.05                       0.05   \n",
       "1458                                     0.05                       0.04   \n",
       "\n",
       "      water_withdraw_bool_score  ghg_emis_bool_score  \\\n",
       "28                         0.03                 0.05   \n",
       "517                        0.03                 0.05   \n",
       "998                        0.03                 0.05   \n",
       "1437                       0.03                 0.04   \n",
       "462                        0.03                 0.00   \n",
       "...                         ...                  ...   \n",
       "1559                       0.03                 0.04   \n",
       "51                         0.03                 0.05   \n",
       "540                        0.03                 0.05   \n",
       "1017                       0.03                 0.05   \n",
       "1458                       0.03                 0.04   \n",
       "\n",
       "      transport_emis_bool_score overall_rating_previous_year  \n",
       "28                         0.00                          NaN  \n",
       "517                        0.04                            A  \n",
       "998                        0.04                            A  \n",
       "1437                       0.04                            A  \n",
       "462                        0.00                          NaN  \n",
       "...                         ...                          ...  \n",
       "1559                       0.04                           B+  \n",
       "51                         0.05                          NaN  \n",
       "540                        0.04                           B+  \n",
       "1017                       0.04                           A+  \n",
       "1458                       0.04                           A+  \n",
       "\n",
       "[1837 rows x 27 columns]"
      ]
     },
     "execution_count": 124,
     "metadata": {},
     "output_type": "execute_result"
    }
   ],
   "source": [
    "cross_sector_scoring_df"
   ]
  },
  {
   "cell_type": "markdown",
   "metadata": {},
   "source": [
    "## Summary of results"
   ]
  },
  {
   "cell_type": "markdown",
   "metadata": {},
   "source": [
    "```diff\n",
    "- Create a migration matrix to see how many change from year to year\n",
    "- Consider what to do with unaudited companies"
   ]
  },
  {
   "cell_type": "code",
   "execution_count": 125,
   "metadata": {},
   "outputs": [],
   "source": [
    "reporting_summary_df = sector_specific_scoring_df.merge(\n",
    "    cross_sector_scoring_df, on=[\"company\", \"year\"], how=\"left\", suffixes=(\"\", \"_drop\")\n",
    ").merge(\n",
    "    metrics_reported_by_company_df,\n",
    "    on=[\"company\", \"year\"],\n",
    "    how=\"left\",\n",
    "    suffixes=(\"\", \"_drop2\"),\n",
    ")\n",
    "\n",
    "reporting_summary_df = reporting_summary_df.loc[\n",
    "    :, ~reporting_summary_df.columns.str.endswith((\"_drop\", \"_drop2\"))\n",
    "]\n",
    "\n",
    "columns_to_keep = [\n",
    "    \"company\",\n",
    "    \"ticker\",\n",
    "    \"year\",\n",
    "    \"industry\",\n",
    "    \"hq_country\",\n",
    "    \"revenue_MEUR\",\n",
    "    \"segment\",\n",
    "    \"industry_rating\",\n",
    "    \"overall_rating\",\n",
    "    \"metrics_reported\",\n",
    "    \"metric_coverage\",\n",
    "    \"industry_score_adjusted\",\n",
    "    \"industry_score_raw\",\n",
    "    \"overall_score_adjusted\",\n",
    "    \"overall_score_raw\",\n",
    "    \"external_audit_of_ESG_report\",\n",
    "    \"csrd_2025\",\n",
    "    \"csrd_2027\",\n",
    "    \"industry_rating_previous_year\",\n",
    "    \"overall_rating_previous_year\",\n",
    "]\n",
    "\n",
    "reporting_summary_df = reporting_summary_df[columns_to_keep]"
   ]
  },
  {
   "cell_type": "code",
   "execution_count": 126,
   "metadata": {},
   "outputs": [
    {
     "data": {
      "text/plain": [
       "Index(['company', 'ticker', 'year', 'industry', 'hq_country', 'revenue_MEUR',\n",
       "       'segment', 'industry_rating', 'overall_rating', 'metrics_reported',\n",
       "       'metric_coverage', 'industry_score_adjusted', 'industry_score_raw',\n",
       "       'overall_score_adjusted', 'overall_score_raw',\n",
       "       'external_audit_of_ESG_report', 'csrd_2025', 'csrd_2027',\n",
       "       'industry_rating_previous_year', 'overall_rating_previous_year'],\n",
       "      dtype='object')"
      ]
     },
     "execution_count": 126,
     "metadata": {},
     "output_type": "execute_result"
    }
   ],
   "source": [
    "reporting_summary_df.columns"
   ]
  },
  {
   "cell_type": "code",
   "execution_count": 127,
   "metadata": {},
   "outputs": [
    {
     "data": {
      "text/html": [
       "<div>\n",
       "<style scoped>\n",
       "    .dataframe tbody tr th:only-of-type {\n",
       "        vertical-align: middle;\n",
       "    }\n",
       "\n",
       "    .dataframe tbody tr th {\n",
       "        vertical-align: top;\n",
       "    }\n",
       "\n",
       "    .dataframe thead th {\n",
       "        text-align: right;\n",
       "    }\n",
       "</style>\n",
       "<table border=\"1\" class=\"dataframe\">\n",
       "  <thead>\n",
       "    <tr style=\"text-align: right;\">\n",
       "      <th></th>\n",
       "      <th>company</th>\n",
       "      <th>ticker</th>\n",
       "      <th>year</th>\n",
       "      <th>industry</th>\n",
       "      <th>hq_country</th>\n",
       "      <th>revenue_MEUR</th>\n",
       "      <th>segment</th>\n",
       "      <th>industry_rating</th>\n",
       "      <th>overall_rating</th>\n",
       "      <th>metrics_reported</th>\n",
       "      <th>metric_coverage</th>\n",
       "      <th>industry_score_adjusted</th>\n",
       "      <th>industry_score_raw</th>\n",
       "      <th>overall_score_adjusted</th>\n",
       "      <th>overall_score_raw</th>\n",
       "      <th>external_audit_of_ESG_report</th>\n",
       "      <th>csrd_2025</th>\n",
       "      <th>csrd_2027</th>\n",
       "      <th>industry_rating_previous_year</th>\n",
       "      <th>overall_rating_previous_year</th>\n",
       "    </tr>\n",
       "  </thead>\n",
       "  <tbody>\n",
       "    <tr>\n",
       "      <th>0</th>\n",
       "      <td>A.P. Møller -Maersk A/S</td>\n",
       "      <td>MAERSK</td>\n",
       "      <td>2019</td>\n",
       "      <td>Industrial Goods and Services</td>\n",
       "      <td>Denmark</td>\n",
       "      <td>34,723.21</td>\n",
       "      <td>Large</td>\n",
       "      <td>A</td>\n",
       "      <td>A</td>\n",
       "      <td>13</td>\n",
       "      <td>0.76</td>\n",
       "      <td>0.87</td>\n",
       "      <td>0.59</td>\n",
       "      <td>0.87</td>\n",
       "      <td>0.60</td>\n",
       "      <td>1</td>\n",
       "      <td>1</td>\n",
       "      <td>0</td>\n",
       "      <td>NaN</td>\n",
       "      <td>NaN</td>\n",
       "    </tr>\n",
       "    <tr>\n",
       "      <th>1</th>\n",
       "      <td>A.P. Møller -Maersk A/S</td>\n",
       "      <td>MAERSK</td>\n",
       "      <td>2020</td>\n",
       "      <td>Industrial Goods and Services</td>\n",
       "      <td>Denmark</td>\n",
       "      <td>35,482.14</td>\n",
       "      <td>Large</td>\n",
       "      <td>A</td>\n",
       "      <td>A</td>\n",
       "      <td>14</td>\n",
       "      <td>0.82</td>\n",
       "      <td>0.88</td>\n",
       "      <td>0.61</td>\n",
       "      <td>0.91</td>\n",
       "      <td>0.61</td>\n",
       "      <td>1</td>\n",
       "      <td>1</td>\n",
       "      <td>0</td>\n",
       "      <td>A</td>\n",
       "      <td>A</td>\n",
       "    </tr>\n",
       "    <tr>\n",
       "      <th>2</th>\n",
       "      <td>A.P. Møller -Maersk A/S</td>\n",
       "      <td>MAERSK</td>\n",
       "      <td>2021</td>\n",
       "      <td>Industrial Goods and Services</td>\n",
       "      <td>Denmark</td>\n",
       "      <td>55,166.96</td>\n",
       "      <td>Large</td>\n",
       "      <td>A</td>\n",
       "      <td>A</td>\n",
       "      <td>14</td>\n",
       "      <td>0.82</td>\n",
       "      <td>0.90</td>\n",
       "      <td>0.59</td>\n",
       "      <td>0.87</td>\n",
       "      <td>0.59</td>\n",
       "      <td>1</td>\n",
       "      <td>1</td>\n",
       "      <td>0</td>\n",
       "      <td>A</td>\n",
       "      <td>A</td>\n",
       "    </tr>\n",
       "    <tr>\n",
       "      <th>3</th>\n",
       "      <td>A.P. Møller -Maersk A/S</td>\n",
       "      <td>MAERSK</td>\n",
       "      <td>2022</td>\n",
       "      <td>Industrial Goods and Services</td>\n",
       "      <td>Denmark</td>\n",
       "      <td>77,425.45</td>\n",
       "      <td>Large</td>\n",
       "      <td>A</td>\n",
       "      <td>A</td>\n",
       "      <td>14</td>\n",
       "      <td>0.82</td>\n",
       "      <td>0.86</td>\n",
       "      <td>0.59</td>\n",
       "      <td>0.89</td>\n",
       "      <td>0.60</td>\n",
       "      <td>0</td>\n",
       "      <td>1</td>\n",
       "      <td>0</td>\n",
       "      <td>A</td>\n",
       "      <td>A</td>\n",
       "    </tr>\n",
       "    <tr>\n",
       "      <th>4</th>\n",
       "      <td>AAK AB</td>\n",
       "      <td>AAK</td>\n",
       "      <td>2019</td>\n",
       "      <td>Consumer Goods and Services</td>\n",
       "      <td>Sweden</td>\n",
       "      <td>2,714.72</td>\n",
       "      <td>Large</td>\n",
       "      <td>B</td>\n",
       "      <td>B+</td>\n",
       "      <td>12</td>\n",
       "      <td>0.71</td>\n",
       "      <td>0.59</td>\n",
       "      <td>0.50</td>\n",
       "      <td>0.74</td>\n",
       "      <td>0.55</td>\n",
       "      <td>1</td>\n",
       "      <td>1</td>\n",
       "      <td>0</td>\n",
       "      <td>NaN</td>\n",
       "      <td>NaN</td>\n",
       "    </tr>\n",
       "  </tbody>\n",
       "</table>\n",
       "</div>"
      ],
      "text/plain": [
       "                   company  ticker  year                       industry  \\\n",
       "0  A.P. Møller -Maersk A/S  MAERSK  2019  Industrial Goods and Services   \n",
       "1  A.P. Møller -Maersk A/S  MAERSK  2020  Industrial Goods and Services   \n",
       "2  A.P. Møller -Maersk A/S  MAERSK  2021  Industrial Goods and Services   \n",
       "3  A.P. Møller -Maersk A/S  MAERSK  2022  Industrial Goods and Services   \n",
       "4                   AAK AB     AAK  2019    Consumer Goods and Services   \n",
       "\n",
       "  hq_country  revenue_MEUR segment industry_rating overall_rating  \\\n",
       "0    Denmark     34,723.21   Large               A              A   \n",
       "1    Denmark     35,482.14   Large               A              A   \n",
       "2    Denmark     55,166.96   Large               A              A   \n",
       "3    Denmark     77,425.45   Large               A              A   \n",
       "4     Sweden      2,714.72   Large               B             B+   \n",
       "\n",
       "   metrics_reported  metric_coverage  industry_score_adjusted  \\\n",
       "0                13             0.76                     0.87   \n",
       "1                14             0.82                     0.88   \n",
       "2                14             0.82                     0.90   \n",
       "3                14             0.82                     0.86   \n",
       "4                12             0.71                     0.59   \n",
       "\n",
       "   industry_score_raw  overall_score_adjusted  overall_score_raw  \\\n",
       "0                0.59                    0.87               0.60   \n",
       "1                0.61                    0.91               0.61   \n",
       "2                0.59                    0.87               0.59   \n",
       "3                0.59                    0.89               0.60   \n",
       "4                0.50                    0.74               0.55   \n",
       "\n",
       "   external_audit_of_ESG_report  csrd_2025  csrd_2027  \\\n",
       "0                             1          1          0   \n",
       "1                             1          1          0   \n",
       "2                             1          1          0   \n",
       "3                             0          1          0   \n",
       "4                             1          1          0   \n",
       "\n",
       "  industry_rating_previous_year overall_rating_previous_year  \n",
       "0                           NaN                          NaN  \n",
       "1                             A                            A  \n",
       "2                             A                            A  \n",
       "3                             A                            A  \n",
       "4                           NaN                          NaN  "
      ]
     },
     "execution_count": 127,
     "metadata": {},
     "output_type": "execute_result"
    }
   ],
   "source": [
    "reporting_summary_df.head()"
   ]
  },
  {
   "cell_type": "markdown",
   "metadata": {},
   "source": [
    "## Visualisations"
   ]
  },
  {
   "cell_type": "markdown",
   "metadata": {},
   "source": [
    "```diff\n",
    "- Migration matrix\n",
    "\n",
    "- Show overall ratings by industry for a given year. Which industries have the highest number of A+ ratings?\n",
    "\n",
    "\n",
    "\n",
    "- Main visualisations can come in the emissions section:\n",
    "-- Box plots\n",
    "- Average metrics reported by CSRD 2025, CSRD 2027 (this can be better represented on a dashboard)\n",
    "\n"
   ]
  },
  {
   "cell_type": "markdown",
   "metadata": {},
   "source": [
    "### Migration matrix"
   ]
  },
  {
   "cell_type": "code",
   "execution_count": 128,
   "metadata": {},
   "outputs": [],
   "source": [
    "def build_migration_matrix(\n",
    "    df: pd.DataFrame,\n",
    "    year=\"all\",\n",
    "    industry_rating: bool = True,\n",
    "    entity_col: str = \"company\",\n",
    "    segment=\"all\",\n",
    "    industry=\"all\",\n",
    "    hq_country=\"all\",\n",
    "    external_audit_of_esg_report=\"all\",\n",
    "    csrd_2025=\"all\",\n",
    "    csrd_2027=\"all\",\n",
    ") -> pd.DataFrame:\n",
    "    \"\"\"\n",
    "    Build a migration matrix (crosstab) comparing previous-year ratings vs. current-year ratings.\n",
    "\n",
    "    This function assumes that if the previous-year rating column is missing,\n",
    "    it should be computed by grouping by the entity_col (default 'company') and sorting by 'year'.\n",
    "\n",
    "    Parameters\n",
    "    ----------\n",
    "    df : pd.DataFrame\n",
    "        Your dataset.\n",
    "    year : int, list, or 'all' (default 'all')\n",
    "        Filter by year(s); use 'all' to include all years.\n",
    "    industry_rating : bool, default True\n",
    "        If True, use 'industry_rating' and compute (or use) 'industry_rating_previous_year';\n",
    "        if False, use 'overall_rating' and 'overall_rating_previous_year'.\n",
    "    entity_col : str, default 'company'\n",
    "        The column name used to identify each entity when computing previous ratings.\n",
    "    segment, industry, hq_country, external_audit_of_esg_report, csrd_2025, csrd_2027 :\n",
    "        Filtering parameters. Use a single value, a list of values, or 'all' (default 'all') to apply no filtering.\n",
    "\n",
    "    Returns\n",
    "    -------\n",
    "    pd.DataFrame\n",
    "        A migration matrix (crosstab) from previous rating to current rating with company counts and styled formatting.\n",
    "    \"\"\"\n",
    "\n",
    "    # Determine which rating columns to use.\n",
    "    if industry_rating:\n",
    "        curr_col = \"industry_rating\"\n",
    "        prev_col = \"industry_rating_previous_year\"\n",
    "    else:\n",
    "        curr_col = \"overall_rating\"\n",
    "        prev_col = \"overall_rating_previous_year\"\n",
    "\n",
    "    # Ensure the current rating column exists.\n",
    "    if curr_col not in df.columns:\n",
    "        raise ValueError(f\"Missing required column: {curr_col}\")\n",
    "\n",
    "    # If the previous rating column is missing, compute it by grouping on entity_col.\n",
    "    if prev_col not in df.columns:\n",
    "        if entity_col not in df.columns:\n",
    "            raise ValueError(f\"Missing required entity column: {entity_col}\")\n",
    "        df = df.sort_values(by=[entity_col, \"year\"])\n",
    "        df[prev_col] = df.groupby(entity_col)[curr_col].shift(1)\n",
    "\n",
    "    # Helper to filter columns; 'all' means no filtering.\n",
    "    def _filter_column(df_, col_name, val):\n",
    "        if val == \"all\":\n",
    "            return df_\n",
    "        if not isinstance(val, list):\n",
    "            val = [val]\n",
    "        return df_[df_[col_name].isin(val)]\n",
    "\n",
    "    # Filter by year.\n",
    "    if year != \"all\":\n",
    "        if not isinstance(year, list):\n",
    "            year = [year]\n",
    "        df = df[df[\"year\"].isin(year)]\n",
    "\n",
    "    # Filter by other optional parameters.\n",
    "    df = _filter_column(df, \"segment\", segment)\n",
    "    df = _filter_column(df, \"industry\", industry)\n",
    "    df = _filter_column(df, \"hq_country\", hq_country)\n",
    "    df = _filter_column(\n",
    "        df, \"external_audit_of_esg_report\", external_audit_of_esg_report\n",
    "    )\n",
    "    df = _filter_column(df, \"csrd_2025\", csrd_2025)\n",
    "    df = _filter_column(df, \"csrd_2027\", csrd_2027)\n",
    "\n",
    "    # Drop rows where either the previous or current rating is missing\n",
    "    df = df.dropna(subset=[prev_col, curr_col])\n",
    "\n",
    "    # Build and return the migration matrix (count-based crosstab)\n",
    "    migration_matrix = pd.crosstab(df[prev_col], df[curr_col])\n",
    "\n",
    "    # Apply text color formatting based on movement direction\n",
    "    def color_text(val, row, col):\n",
    "        if row == col:  # Stability (same rating)\n",
    "            return \"color: black; font-weight: bold\"\n",
    "        elif row > col:  # Upgrade (moving to a higher rating)\n",
    "            return \"color: green\"\n",
    "        else:  # Downgrade (moving to a lower rating)\n",
    "            return \"color: red\"\n",
    "\n",
    "    def apply_color_formatting(data):\n",
    "        styles = pd.DataFrame(\"\", index=data.index, columns=data.columns)\n",
    "        for i, row_label in enumerate(data.index):\n",
    "            for j, col_label in enumerate(data.columns):\n",
    "                styles.iloc[i, j] = color_text(data.iloc[i, j], i, j)\n",
    "        return styles\n",
    "\n",
    "    # Convert to percentages (row-wise)\n",
    "    migration_matrix_percentage = (\n",
    "        migration_matrix.div(migration_matrix.sum(axis=1), axis=0) * 100\n",
    "    )\n",
    "\n",
    "    # Format percentages to show XX.X%\n",
    "    formatted_matrix = migration_matrix_percentage.map(\n",
    "        lambda x: f\"{x:.0f}\"\n",
    "    )  # add % here or incl. in title\n",
    "    formatted_matrix = formatted_matrix.style.apply(apply_color_formatting, axis=None)\n",
    "\n",
    "    return formatted_matrix"
   ]
  },
  {
   "cell_type": "markdown",
   "metadata": {},
   "source": [
    "# HERE"
   ]
  },
  {
   "cell_type": "code",
   "execution_count": 129,
   "metadata": {},
   "outputs": [
    {
     "data": {
      "text/html": [
       "<style type=\"text/css\">\n",
       "#T_ac88e_row0_col0, #T_ac88e_row1_col1, #T_ac88e_row2_col2, #T_ac88e_row3_col3, #T_ac88e_row4_col4, #T_ac88e_row5_col5, #T_ac88e_row6_col6, #T_ac88e_row7_col7, #T_ac88e_row8_col8, #T_ac88e_row9_col9, #T_ac88e_row10_col10, #T_ac88e_row11_col11 {\n",
       "  color: black;\n",
       "  font-weight: bold;\n",
       "}\n",
       "#T_ac88e_row0_col1, #T_ac88e_row0_col2, #T_ac88e_row0_col3, #T_ac88e_row0_col4, #T_ac88e_row0_col5, #T_ac88e_row0_col6, #T_ac88e_row0_col7, #T_ac88e_row0_col8, #T_ac88e_row0_col9, #T_ac88e_row0_col10, #T_ac88e_row0_col11, #T_ac88e_row1_col2, #T_ac88e_row1_col3, #T_ac88e_row1_col4, #T_ac88e_row1_col5, #T_ac88e_row1_col6, #T_ac88e_row1_col7, #T_ac88e_row1_col8, #T_ac88e_row1_col9, #T_ac88e_row1_col10, #T_ac88e_row1_col11, #T_ac88e_row2_col3, #T_ac88e_row2_col4, #T_ac88e_row2_col5, #T_ac88e_row2_col6, #T_ac88e_row2_col7, #T_ac88e_row2_col8, #T_ac88e_row2_col9, #T_ac88e_row2_col10, #T_ac88e_row2_col11, #T_ac88e_row3_col4, #T_ac88e_row3_col5, #T_ac88e_row3_col6, #T_ac88e_row3_col7, #T_ac88e_row3_col8, #T_ac88e_row3_col9, #T_ac88e_row3_col10, #T_ac88e_row3_col11, #T_ac88e_row4_col5, #T_ac88e_row4_col6, #T_ac88e_row4_col7, #T_ac88e_row4_col8, #T_ac88e_row4_col9, #T_ac88e_row4_col10, #T_ac88e_row4_col11, #T_ac88e_row5_col6, #T_ac88e_row5_col7, #T_ac88e_row5_col8, #T_ac88e_row5_col9, #T_ac88e_row5_col10, #T_ac88e_row5_col11, #T_ac88e_row6_col7, #T_ac88e_row6_col8, #T_ac88e_row6_col9, #T_ac88e_row6_col10, #T_ac88e_row6_col11, #T_ac88e_row7_col8, #T_ac88e_row7_col9, #T_ac88e_row7_col10, #T_ac88e_row7_col11, #T_ac88e_row8_col9, #T_ac88e_row8_col10, #T_ac88e_row8_col11, #T_ac88e_row9_col10, #T_ac88e_row9_col11, #T_ac88e_row10_col11 {\n",
       "  color: red;\n",
       "}\n",
       "#T_ac88e_row1_col0, #T_ac88e_row2_col0, #T_ac88e_row2_col1, #T_ac88e_row3_col0, #T_ac88e_row3_col1, #T_ac88e_row3_col2, #T_ac88e_row4_col0, #T_ac88e_row4_col1, #T_ac88e_row4_col2, #T_ac88e_row4_col3, #T_ac88e_row5_col0, #T_ac88e_row5_col1, #T_ac88e_row5_col2, #T_ac88e_row5_col3, #T_ac88e_row5_col4, #T_ac88e_row6_col0, #T_ac88e_row6_col1, #T_ac88e_row6_col2, #T_ac88e_row6_col3, #T_ac88e_row6_col4, #T_ac88e_row6_col5, #T_ac88e_row7_col0, #T_ac88e_row7_col1, #T_ac88e_row7_col2, #T_ac88e_row7_col3, #T_ac88e_row7_col4, #T_ac88e_row7_col5, #T_ac88e_row7_col6, #T_ac88e_row8_col0, #T_ac88e_row8_col1, #T_ac88e_row8_col2, #T_ac88e_row8_col3, #T_ac88e_row8_col4, #T_ac88e_row8_col5, #T_ac88e_row8_col6, #T_ac88e_row8_col7, #T_ac88e_row9_col0, #T_ac88e_row9_col1, #T_ac88e_row9_col2, #T_ac88e_row9_col3, #T_ac88e_row9_col4, #T_ac88e_row9_col5, #T_ac88e_row9_col6, #T_ac88e_row9_col7, #T_ac88e_row9_col8, #T_ac88e_row10_col0, #T_ac88e_row10_col1, #T_ac88e_row10_col2, #T_ac88e_row10_col3, #T_ac88e_row10_col4, #T_ac88e_row10_col5, #T_ac88e_row10_col6, #T_ac88e_row10_col7, #T_ac88e_row10_col8, #T_ac88e_row10_col9, #T_ac88e_row11_col0, #T_ac88e_row11_col1, #T_ac88e_row11_col2, #T_ac88e_row11_col3, #T_ac88e_row11_col4, #T_ac88e_row11_col5, #T_ac88e_row11_col6, #T_ac88e_row11_col7, #T_ac88e_row11_col8, #T_ac88e_row11_col9, #T_ac88e_row11_col10 {\n",
       "  color: green;\n",
       "}\n",
       "</style>\n",
       "<table id=\"T_ac88e\">\n",
       "  <thead>\n",
       "    <tr>\n",
       "      <th class=\"index_name level0\" >industry_rating</th>\n",
       "      <th id=\"T_ac88e_level0_col0\" class=\"col_heading level0 col0\" >A+</th>\n",
       "      <th id=\"T_ac88e_level0_col1\" class=\"col_heading level0 col1\" >A</th>\n",
       "      <th id=\"T_ac88e_level0_col2\" class=\"col_heading level0 col2\" >A-</th>\n",
       "      <th id=\"T_ac88e_level0_col3\" class=\"col_heading level0 col3\" >B+</th>\n",
       "      <th id=\"T_ac88e_level0_col4\" class=\"col_heading level0 col4\" >B</th>\n",
       "      <th id=\"T_ac88e_level0_col5\" class=\"col_heading level0 col5\" >B-</th>\n",
       "      <th id=\"T_ac88e_level0_col6\" class=\"col_heading level0 col6\" >C+</th>\n",
       "      <th id=\"T_ac88e_level0_col7\" class=\"col_heading level0 col7\" >C</th>\n",
       "      <th id=\"T_ac88e_level0_col8\" class=\"col_heading level0 col8\" >C-</th>\n",
       "      <th id=\"T_ac88e_level0_col9\" class=\"col_heading level0 col9\" >D+</th>\n",
       "      <th id=\"T_ac88e_level0_col10\" class=\"col_heading level0 col10\" >D</th>\n",
       "      <th id=\"T_ac88e_level0_col11\" class=\"col_heading level0 col11\" >D-</th>\n",
       "    </tr>\n",
       "    <tr>\n",
       "      <th class=\"index_name level0\" >industry_rating_previous_year</th>\n",
       "      <th class=\"blank col0\" >&nbsp;</th>\n",
       "      <th class=\"blank col1\" >&nbsp;</th>\n",
       "      <th class=\"blank col2\" >&nbsp;</th>\n",
       "      <th class=\"blank col3\" >&nbsp;</th>\n",
       "      <th class=\"blank col4\" >&nbsp;</th>\n",
       "      <th class=\"blank col5\" >&nbsp;</th>\n",
       "      <th class=\"blank col6\" >&nbsp;</th>\n",
       "      <th class=\"blank col7\" >&nbsp;</th>\n",
       "      <th class=\"blank col8\" >&nbsp;</th>\n",
       "      <th class=\"blank col9\" >&nbsp;</th>\n",
       "      <th class=\"blank col10\" >&nbsp;</th>\n",
       "      <th class=\"blank col11\" >&nbsp;</th>\n",
       "    </tr>\n",
       "  </thead>\n",
       "  <tbody>\n",
       "    <tr>\n",
       "      <th id=\"T_ac88e_level0_row0\" class=\"row_heading level0 row0\" >A+</th>\n",
       "      <td id=\"T_ac88e_row0_col0\" class=\"data row0 col0\" >42</td>\n",
       "      <td id=\"T_ac88e_row0_col1\" class=\"data row0 col1\" >24</td>\n",
       "      <td id=\"T_ac88e_row0_col2\" class=\"data row0 col2\" >6</td>\n",
       "      <td id=\"T_ac88e_row0_col3\" class=\"data row0 col3\" >15</td>\n",
       "      <td id=\"T_ac88e_row0_col4\" class=\"data row0 col4\" >3</td>\n",
       "      <td id=\"T_ac88e_row0_col5\" class=\"data row0 col5\" >0</td>\n",
       "      <td id=\"T_ac88e_row0_col6\" class=\"data row0 col6\" >3</td>\n",
       "      <td id=\"T_ac88e_row0_col7\" class=\"data row0 col7\" >3</td>\n",
       "      <td id=\"T_ac88e_row0_col8\" class=\"data row0 col8\" >0</td>\n",
       "      <td id=\"T_ac88e_row0_col9\" class=\"data row0 col9\" >3</td>\n",
       "      <td id=\"T_ac88e_row0_col10\" class=\"data row0 col10\" >0</td>\n",
       "      <td id=\"T_ac88e_row0_col11\" class=\"data row0 col11\" >0</td>\n",
       "    </tr>\n",
       "    <tr>\n",
       "      <th id=\"T_ac88e_level0_row1\" class=\"row_heading level0 row1\" >A</th>\n",
       "      <td id=\"T_ac88e_row1_col0\" class=\"data row1 col0\" >22</td>\n",
       "      <td id=\"T_ac88e_row1_col1\" class=\"data row1 col1\" >30</td>\n",
       "      <td id=\"T_ac88e_row1_col2\" class=\"data row1 col2\" >11</td>\n",
       "      <td id=\"T_ac88e_row1_col3\" class=\"data row1 col3\" >8</td>\n",
       "      <td id=\"T_ac88e_row1_col4\" class=\"data row1 col4\" >14</td>\n",
       "      <td id=\"T_ac88e_row1_col5\" class=\"data row1 col5\" >8</td>\n",
       "      <td id=\"T_ac88e_row1_col6\" class=\"data row1 col6\" >5</td>\n",
       "      <td id=\"T_ac88e_row1_col7\" class=\"data row1 col7\" >3</td>\n",
       "      <td id=\"T_ac88e_row1_col8\" class=\"data row1 col8\" >0</td>\n",
       "      <td id=\"T_ac88e_row1_col9\" class=\"data row1 col9\" >0</td>\n",
       "      <td id=\"T_ac88e_row1_col10\" class=\"data row1 col10\" >0</td>\n",
       "      <td id=\"T_ac88e_row1_col11\" class=\"data row1 col11\" >0</td>\n",
       "    </tr>\n",
       "    <tr>\n",
       "      <th id=\"T_ac88e_level0_row2\" class=\"row_heading level0 row2\" >A-</th>\n",
       "      <td id=\"T_ac88e_row2_col0\" class=\"data row2 col0\" >11</td>\n",
       "      <td id=\"T_ac88e_row2_col1\" class=\"data row2 col1\" >24</td>\n",
       "      <td id=\"T_ac88e_row2_col2\" class=\"data row2 col2\" >22</td>\n",
       "      <td id=\"T_ac88e_row2_col3\" class=\"data row2 col3\" >14</td>\n",
       "      <td id=\"T_ac88e_row2_col4\" class=\"data row2 col4\" >11</td>\n",
       "      <td id=\"T_ac88e_row2_col5\" class=\"data row2 col5\" >0</td>\n",
       "      <td id=\"T_ac88e_row2_col6\" class=\"data row2 col6\" >0</td>\n",
       "      <td id=\"T_ac88e_row2_col7\" class=\"data row2 col7\" >14</td>\n",
       "      <td id=\"T_ac88e_row2_col8\" class=\"data row2 col8\" >3</td>\n",
       "      <td id=\"T_ac88e_row2_col9\" class=\"data row2 col9\" >0</td>\n",
       "      <td id=\"T_ac88e_row2_col10\" class=\"data row2 col10\" >3</td>\n",
       "      <td id=\"T_ac88e_row2_col11\" class=\"data row2 col11\" >0</td>\n",
       "    </tr>\n",
       "    <tr>\n",
       "      <th id=\"T_ac88e_level0_row3\" class=\"row_heading level0 row3\" >B+</th>\n",
       "      <td id=\"T_ac88e_row3_col0\" class=\"data row3 col0\" >13</td>\n",
       "      <td id=\"T_ac88e_row3_col1\" class=\"data row3 col1\" >17</td>\n",
       "      <td id=\"T_ac88e_row3_col2\" class=\"data row3 col2\" >20</td>\n",
       "      <td id=\"T_ac88e_row3_col3\" class=\"data row3 col3\" >3</td>\n",
       "      <td id=\"T_ac88e_row3_col4\" class=\"data row3 col4\" >20</td>\n",
       "      <td id=\"T_ac88e_row3_col5\" class=\"data row3 col5\" >10</td>\n",
       "      <td id=\"T_ac88e_row3_col6\" class=\"data row3 col6\" >10</td>\n",
       "      <td id=\"T_ac88e_row3_col7\" class=\"data row3 col7\" >0</td>\n",
       "      <td id=\"T_ac88e_row3_col8\" class=\"data row3 col8\" >3</td>\n",
       "      <td id=\"T_ac88e_row3_col9\" class=\"data row3 col9\" >0</td>\n",
       "      <td id=\"T_ac88e_row3_col10\" class=\"data row3 col10\" >3</td>\n",
       "      <td id=\"T_ac88e_row3_col11\" class=\"data row3 col11\" >0</td>\n",
       "    </tr>\n",
       "    <tr>\n",
       "      <th id=\"T_ac88e_level0_row4\" class=\"row_heading level0 row4\" >B</th>\n",
       "      <td id=\"T_ac88e_row4_col0\" class=\"data row4 col0\" >6</td>\n",
       "      <td id=\"T_ac88e_row4_col1\" class=\"data row4 col1\" >12</td>\n",
       "      <td id=\"T_ac88e_row4_col2\" class=\"data row4 col2\" >9</td>\n",
       "      <td id=\"T_ac88e_row4_col3\" class=\"data row4 col3\" >12</td>\n",
       "      <td id=\"T_ac88e_row4_col4\" class=\"data row4 col4\" >12</td>\n",
       "      <td id=\"T_ac88e_row4_col5\" class=\"data row4 col5\" >24</td>\n",
       "      <td id=\"T_ac88e_row4_col6\" class=\"data row4 col6\" >9</td>\n",
       "      <td id=\"T_ac88e_row4_col7\" class=\"data row4 col7\" >15</td>\n",
       "      <td id=\"T_ac88e_row4_col8\" class=\"data row4 col8\" >0</td>\n",
       "      <td id=\"T_ac88e_row4_col9\" class=\"data row4 col9\" >0</td>\n",
       "      <td id=\"T_ac88e_row4_col10\" class=\"data row4 col10\" >0</td>\n",
       "      <td id=\"T_ac88e_row4_col11\" class=\"data row4 col11\" >3</td>\n",
       "    </tr>\n",
       "    <tr>\n",
       "      <th id=\"T_ac88e_level0_row5\" class=\"row_heading level0 row5\" >B-</th>\n",
       "      <td id=\"T_ac88e_row5_col0\" class=\"data row5 col0\" >0</td>\n",
       "      <td id=\"T_ac88e_row5_col1\" class=\"data row5 col1\" >4</td>\n",
       "      <td id=\"T_ac88e_row5_col2\" class=\"data row5 col2\" >15</td>\n",
       "      <td id=\"T_ac88e_row5_col3\" class=\"data row5 col3\" >11</td>\n",
       "      <td id=\"T_ac88e_row5_col4\" class=\"data row5 col4\" >22</td>\n",
       "      <td id=\"T_ac88e_row5_col5\" class=\"data row5 col5\" >7</td>\n",
       "      <td id=\"T_ac88e_row5_col6\" class=\"data row5 col6\" >15</td>\n",
       "      <td id=\"T_ac88e_row5_col7\" class=\"data row5 col7\" >7</td>\n",
       "      <td id=\"T_ac88e_row5_col8\" class=\"data row5 col8\" >15</td>\n",
       "      <td id=\"T_ac88e_row5_col9\" class=\"data row5 col9\" >4</td>\n",
       "      <td id=\"T_ac88e_row5_col10\" class=\"data row5 col10\" >0</td>\n",
       "      <td id=\"T_ac88e_row5_col11\" class=\"data row5 col11\" >0</td>\n",
       "    </tr>\n",
       "    <tr>\n",
       "      <th id=\"T_ac88e_level0_row6\" class=\"row_heading level0 row6\" >C+</th>\n",
       "      <td id=\"T_ac88e_row6_col0\" class=\"data row6 col0\" >0</td>\n",
       "      <td id=\"T_ac88e_row6_col1\" class=\"data row6 col1\" >3</td>\n",
       "      <td id=\"T_ac88e_row6_col2\" class=\"data row6 col2\" >6</td>\n",
       "      <td id=\"T_ac88e_row6_col3\" class=\"data row6 col3\" >21</td>\n",
       "      <td id=\"T_ac88e_row6_col4\" class=\"data row6 col4\" >9</td>\n",
       "      <td id=\"T_ac88e_row6_col5\" class=\"data row6 col5\" >6</td>\n",
       "      <td id=\"T_ac88e_row6_col6\" class=\"data row6 col6\" >24</td>\n",
       "      <td id=\"T_ac88e_row6_col7\" class=\"data row6 col7\" >15</td>\n",
       "      <td id=\"T_ac88e_row6_col8\" class=\"data row6 col8\" >3</td>\n",
       "      <td id=\"T_ac88e_row6_col9\" class=\"data row6 col9\" >12</td>\n",
       "      <td id=\"T_ac88e_row6_col10\" class=\"data row6 col10\" >0</td>\n",
       "      <td id=\"T_ac88e_row6_col11\" class=\"data row6 col11\" >3</td>\n",
       "    </tr>\n",
       "    <tr>\n",
       "      <th id=\"T_ac88e_level0_row7\" class=\"row_heading level0 row7\" >C</th>\n",
       "      <td id=\"T_ac88e_row7_col0\" class=\"data row7 col0\" >0</td>\n",
       "      <td id=\"T_ac88e_row7_col1\" class=\"data row7 col1\" >0</td>\n",
       "      <td id=\"T_ac88e_row7_col2\" class=\"data row7 col2\" >9</td>\n",
       "      <td id=\"T_ac88e_row7_col3\" class=\"data row7 col3\" >9</td>\n",
       "      <td id=\"T_ac88e_row7_col4\" class=\"data row7 col4\" >6</td>\n",
       "      <td id=\"T_ac88e_row7_col5\" class=\"data row7 col5\" >14</td>\n",
       "      <td id=\"T_ac88e_row7_col6\" class=\"data row7 col6\" >11</td>\n",
       "      <td id=\"T_ac88e_row7_col7\" class=\"data row7 col7\" >20</td>\n",
       "      <td id=\"T_ac88e_row7_col8\" class=\"data row7 col8\" >17</td>\n",
       "      <td id=\"T_ac88e_row7_col9\" class=\"data row7 col9\" >3</td>\n",
       "      <td id=\"T_ac88e_row7_col10\" class=\"data row7 col10\" >9</td>\n",
       "      <td id=\"T_ac88e_row7_col11\" class=\"data row7 col11\" >3</td>\n",
       "    </tr>\n",
       "    <tr>\n",
       "      <th id=\"T_ac88e_level0_row8\" class=\"row_heading level0 row8\" >C-</th>\n",
       "      <td id=\"T_ac88e_row8_col0\" class=\"data row8 col0\" >0</td>\n",
       "      <td id=\"T_ac88e_row8_col1\" class=\"data row8 col1\" >3</td>\n",
       "      <td id=\"T_ac88e_row8_col2\" class=\"data row8 col2\" >0</td>\n",
       "      <td id=\"T_ac88e_row8_col3\" class=\"data row8 col3\" >3</td>\n",
       "      <td id=\"T_ac88e_row8_col4\" class=\"data row8 col4\" >3</td>\n",
       "      <td id=\"T_ac88e_row8_col5\" class=\"data row8 col5\" >6</td>\n",
       "      <td id=\"T_ac88e_row8_col6\" class=\"data row8 col6\" >10</td>\n",
       "      <td id=\"T_ac88e_row8_col7\" class=\"data row8 col7\" >13</td>\n",
       "      <td id=\"T_ac88e_row8_col8\" class=\"data row8 col8\" >16</td>\n",
       "      <td id=\"T_ac88e_row8_col9\" class=\"data row8 col9\" >19</td>\n",
       "      <td id=\"T_ac88e_row8_col10\" class=\"data row8 col10\" >16</td>\n",
       "      <td id=\"T_ac88e_row8_col11\" class=\"data row8 col11\" >10</td>\n",
       "    </tr>\n",
       "    <tr>\n",
       "      <th id=\"T_ac88e_level0_row9\" class=\"row_heading level0 row9\" >D+</th>\n",
       "      <td id=\"T_ac88e_row9_col0\" class=\"data row9 col0\" >0</td>\n",
       "      <td id=\"T_ac88e_row9_col1\" class=\"data row9 col1\" >3</td>\n",
       "      <td id=\"T_ac88e_row9_col2\" class=\"data row9 col2\" >3</td>\n",
       "      <td id=\"T_ac88e_row9_col3\" class=\"data row9 col3\" >3</td>\n",
       "      <td id=\"T_ac88e_row9_col4\" class=\"data row9 col4\" >12</td>\n",
       "      <td id=\"T_ac88e_row9_col5\" class=\"data row9 col5\" >9</td>\n",
       "      <td id=\"T_ac88e_row9_col6\" class=\"data row9 col6\" >9</td>\n",
       "      <td id=\"T_ac88e_row9_col7\" class=\"data row9 col7\" >0</td>\n",
       "      <td id=\"T_ac88e_row9_col8\" class=\"data row9 col8\" >19</td>\n",
       "      <td id=\"T_ac88e_row9_col9\" class=\"data row9 col9\" >22</td>\n",
       "      <td id=\"T_ac88e_row9_col10\" class=\"data row9 col10\" >16</td>\n",
       "      <td id=\"T_ac88e_row9_col11\" class=\"data row9 col11\" >3</td>\n",
       "    </tr>\n",
       "    <tr>\n",
       "      <th id=\"T_ac88e_level0_row10\" class=\"row_heading level0 row10\" >D</th>\n",
       "      <td id=\"T_ac88e_row10_col0\" class=\"data row10 col0\" >0</td>\n",
       "      <td id=\"T_ac88e_row10_col1\" class=\"data row10 col1\" >0</td>\n",
       "      <td id=\"T_ac88e_row10_col2\" class=\"data row10 col2\" >0</td>\n",
       "      <td id=\"T_ac88e_row10_col3\" class=\"data row10 col3\" >0</td>\n",
       "      <td id=\"T_ac88e_row10_col4\" class=\"data row10 col4\" >0</td>\n",
       "      <td id=\"T_ac88e_row10_col5\" class=\"data row10 col5\" >8</td>\n",
       "      <td id=\"T_ac88e_row10_col6\" class=\"data row10 col6\" >3</td>\n",
       "      <td id=\"T_ac88e_row10_col7\" class=\"data row10 col7\" >13</td>\n",
       "      <td id=\"T_ac88e_row10_col8\" class=\"data row10 col8\" >11</td>\n",
       "      <td id=\"T_ac88e_row10_col9\" class=\"data row10 col9\" >21</td>\n",
       "      <td id=\"T_ac88e_row10_col10\" class=\"data row10 col10\" >29</td>\n",
       "      <td id=\"T_ac88e_row10_col11\" class=\"data row10 col11\" >16</td>\n",
       "    </tr>\n",
       "    <tr>\n",
       "      <th id=\"T_ac88e_level0_row11\" class=\"row_heading level0 row11\" >D-</th>\n",
       "      <td id=\"T_ac88e_row11_col0\" class=\"data row11 col0\" >0</td>\n",
       "      <td id=\"T_ac88e_row11_col1\" class=\"data row11 col1\" >0</td>\n",
       "      <td id=\"T_ac88e_row11_col2\" class=\"data row11 col2\" >0</td>\n",
       "      <td id=\"T_ac88e_row11_col3\" class=\"data row11 col3\" >0</td>\n",
       "      <td id=\"T_ac88e_row11_col4\" class=\"data row11 col4\" >4</td>\n",
       "      <td id=\"T_ac88e_row11_col5\" class=\"data row11 col5\" >4</td>\n",
       "      <td id=\"T_ac88e_row11_col6\" class=\"data row11 col6\" >4</td>\n",
       "      <td id=\"T_ac88e_row11_col7\" class=\"data row11 col7\" >11</td>\n",
       "      <td id=\"T_ac88e_row11_col8\" class=\"data row11 col8\" >0</td>\n",
       "      <td id=\"T_ac88e_row11_col9\" class=\"data row11 col9\" >14</td>\n",
       "      <td id=\"T_ac88e_row11_col10\" class=\"data row11 col10\" >25</td>\n",
       "      <td id=\"T_ac88e_row11_col11\" class=\"data row11 col11\" >39</td>\n",
       "    </tr>\n",
       "  </tbody>\n",
       "</table>\n"
      ],
      "text/plain": [
       "<pandas.io.formats.style.Styler at 0x2505beb38f0>"
      ]
     },
     "execution_count": 129,
     "metadata": {},
     "output_type": "execute_result"
    }
   ],
   "source": [
    "build_migration_matrix(reporting_summary_df, year=2022)"
   ]
  },
  {
   "cell_type": "code",
   "execution_count": 130,
   "metadata": {},
   "outputs": [],
   "source": [
    "import plotly.express as px\n",
    "import pandas as pd\n",
    "\n",
    "\n",
    "def plot_summary_chart(\n",
    "    df: pd.DataFrame,\n",
    "    x: str,\n",
    "    y: str,\n",
    "    group_by: str,\n",
    "    chart_type: str = \"line\",\n",
    "    agg_func: str = \"mean\",\n",
    "    title: str = None,\n",
    "    height: int = 500,\n",
    "    width: int = 900,\n",
    "):\n",
    "    \"\"\"\n",
    "    Plots an aggregated chart (line, bar, etc.) of a grouped summary.\n",
    "\n",
    "    Args:\n",
    "        df (pd.DataFrame): DataFrame containing the data.\n",
    "        x (str): Column name to use for the x-axis (e.g., 'year').\n",
    "        y (str): Column name to aggregate and use for the y-axis (e.g., 'overall_score_raw').\n",
    "        group_by (str): Column name to group lines/bars by (e.g., 'industry').\n",
    "        chart_type (str): Type of chart: 'line', 'bar', 'scatter', 'area'.\n",
    "        agg_func (str): Aggregation function to apply: 'mean', 'sum', 'median', etc.\n",
    "        title (str): Optional title for the chart.\n",
    "        height (int): Height of the chart.\n",
    "        width (int): Width of the chart.\n",
    "\n",
    "    Returns:\n",
    "        plotly.graph_objects.Figure: The rendered chart.\n",
    "    \"\"\"\n",
    "    df[x] = df[x].astype(str)  # Treat x as categorical\n",
    "\n",
    "    # Group and aggregate the data\n",
    "    grouped_df = df.groupby([x, group_by], as_index=False).agg({y: agg_func})\n",
    "\n",
    "    # Chart type map\n",
    "    chart_funcs = {\n",
    "        \"line\": px.line,\n",
    "        \"bar\": px.bar,\n",
    "        \"scatter\": px.scatter,\n",
    "        \"area\": px.area,\n",
    "    }\n",
    "\n",
    "    if chart_type not in chart_funcs:\n",
    "        raise ValueError(\n",
    "            f\"Unsupported chart type: {chart_type}. Choose from: {list(chart_funcs.keys())}\"\n",
    "        )\n",
    "\n",
    "    # Create figure\n",
    "    fig = chart_funcs[chart_type](\n",
    "        grouped_df,\n",
    "        x=x,\n",
    "        y=y,\n",
    "        color=group_by,\n",
    "        title=title or f\"{agg_func.title()} of {y} by {group_by} over {x}\",\n",
    "        height=height,\n",
    "        width=width,\n",
    "    )\n",
    "\n",
    "    # Add markers for line/area charts\n",
    "    if chart_type in [\"line\", \"area\"]:\n",
    "        fig.update_traces(mode=\"lines+markers\")\n",
    "\n",
    "    # Remove gridlines & set white background\n",
    "    fig.update_layout(\n",
    "        legend_title_text=group_by,\n",
    "        plot_bgcolor=\"white\",\n",
    "        paper_bgcolor=\"white\",\n",
    "        xaxis=dict(showgrid=False),\n",
    "        yaxis=dict(showgrid=False),\n",
    "    )\n",
    "\n",
    "    return fig"
   ]
  },
  {
   "cell_type": "code",
   "execution_count": 131,
   "metadata": {},
   "outputs": [
    {
     "data": {
      "application/vnd.plotly.v1+json": {
       "config": {
        "plotlyServerURL": "https://plot.ly"
       },
       "data": [
        {
         "hovertemplate": "industry=Basic Materials<br>year=%{x}<br>overall_score_adjusted=%{y}<extra></extra>",
         "legendgroup": "Basic Materials",
         "line": {
          "color": "#636efa",
          "dash": "solid"
         },
         "marker": {
          "symbol": "circle"
         },
         "mode": "lines+markers",
         "name": "Basic Materials",
         "orientation": "v",
         "showlegend": true,
         "type": "scatter",
         "x": [
          "2019",
          "2020",
          "2021",
          "2022"
         ],
         "xaxis": "x",
         "y": [
          0.7417695473251029,
          0.7841140529531568,
          0.7744874715261959,
          0.7945368171021379
         ],
         "yaxis": "y"
        },
        {
         "hovertemplate": "industry=Consumer Goods and Services<br>year=%{x}<br>overall_score_adjusted=%{y}<extra></extra>",
         "legendgroup": "Consumer Goods and Services",
         "line": {
          "color": "#EF553B",
          "dash": "solid"
         },
         "marker": {
          "symbol": "circle"
         },
         "mode": "lines+markers",
         "name": "Consumer Goods and Services",
         "orientation": "v",
         "showlegend": true,
         "type": "scatter",
         "x": [
          "2019",
          "2020",
          "2021",
          "2022"
         ],
         "xaxis": "x",
         "y": [
          0.6656378600823045,
          0.6405295315682281,
          0.6469248291571754,
          0.6377672209026128
         ],
         "yaxis": "y"
        },
        {
         "hovertemplate": "industry=Energy and Utilities<br>year=%{x}<br>overall_score_adjusted=%{y}<extra></extra>",
         "legendgroup": "Energy and Utilities",
         "line": {
          "color": "#00cc96",
          "dash": "solid"
         },
         "marker": {
          "symbol": "circle"
         },
         "mode": "lines+markers",
         "name": "Energy and Utilities",
         "orientation": "v",
         "showlegend": true,
         "type": "scatter",
         "x": [
          "2019",
          "2020",
          "2021",
          "2022"
         ],
         "xaxis": "x",
         "y": [
          0.5205761316872428,
          0.4847250509164969,
          0.5068337129840547,
          0.38836104513064135
         ],
         "yaxis": "y"
        },
        {
         "hovertemplate": "industry=Finance<br>year=%{x}<br>overall_score_adjusted=%{y}<extra></extra>",
         "legendgroup": "Finance",
         "line": {
          "color": "#ab63fa",
          "dash": "solid"
         },
         "marker": {
          "symbol": "circle"
         },
         "mode": "lines+markers",
         "name": "Finance",
         "orientation": "v",
         "showlegend": true,
         "type": "scatter",
         "x": [
          "2019",
          "2020",
          "2021",
          "2022"
         ],
         "xaxis": "x",
         "y": [
          0.46399176954732513,
          0.47352342158859473,
          0.48576309794988615,
          0.4637767220902613
         ],
         "yaxis": "y"
        },
        {
         "hovertemplate": "industry=Health Care<br>year=%{x}<br>overall_score_adjusted=%{y}<extra></extra>",
         "legendgroup": "Health Care",
         "line": {
          "color": "#FFA15A",
          "dash": "solid"
         },
         "marker": {
          "symbol": "circle"
         },
         "mode": "lines+markers",
         "name": "Health Care",
         "orientation": "v",
         "showlegend": true,
         "type": "scatter",
         "x": [
          "2019",
          "2020",
          "2021",
          "2022"
         ],
         "xaxis": "x",
         "y": [
          0.3744855967078189,
          0.31466395112016293,
          0.2744874715261959,
          0.3271971496437055
         ],
         "yaxis": "y"
        },
        {
         "hovertemplate": "industry=Industrial Goods and Services<br>year=%{x}<br>overall_score_adjusted=%{y}<extra></extra>",
         "legendgroup": "Industrial Goods and Services",
         "line": {
          "color": "#19d3f3",
          "dash": "solid"
         },
         "marker": {
          "symbol": "circle"
         },
         "mode": "lines+markers",
         "name": "Industrial Goods and Services",
         "orientation": "v",
         "showlegend": true,
         "type": "scatter",
         "x": [
          "2019",
          "2020",
          "2021",
          "2022"
         ],
         "xaxis": "x",
         "y": [
          0.5113168724279835,
          0.43890020366598775,
          0.5113895216400911,
          0.5356294536817102
         ],
         "yaxis": "y"
        },
        {
         "hovertemplate": "industry=Other<br>year=%{x}<br>overall_score_adjusted=%{y}<extra></extra>",
         "legendgroup": "Other",
         "line": {
          "color": "#FF6692",
          "dash": "solid"
         },
         "marker": {
          "symbol": "circle"
         },
         "mode": "lines+markers",
         "name": "Other",
         "orientation": "v",
         "showlegend": true,
         "type": "scatter",
         "x": [
          "2019",
          "2020",
          "2021",
          "2022"
         ],
         "xaxis": "x",
         "y": [
          0.4886831275720165,
          0.47963340122199594,
          0.49886104783599083,
          0.4323040380047506
         ],
         "yaxis": "y"
        },
        {
         "hovertemplate": "industry=Technology<br>year=%{x}<br>overall_score_adjusted=%{y}<extra></extra>",
         "legendgroup": "Technology",
         "line": {
          "color": "#B6E880",
          "dash": "solid"
         },
         "marker": {
          "symbol": "circle"
         },
         "mode": "lines+markers",
         "name": "Technology",
         "orientation": "v",
         "showlegend": true,
         "type": "scatter",
         "x": [
          "2019",
          "2020",
          "2021",
          "2022"
         ],
         "xaxis": "x",
         "y": [
          0.30761316872427985,
          0.24338085539714868,
          0.23348519362186787,
          0.36104513064133015
         ],
         "yaxis": "y"
        }
       ],
       "layout": {
        "height": 500,
        "legend": {
         "title": {
          "text": "industry"
         },
         "tracegroupgap": 0
        },
        "paper_bgcolor": "white",
        "plot_bgcolor": "white",
        "template": {
         "data": {
          "bar": [
           {
            "error_x": {
             "color": "#2a3f5f"
            },
            "error_y": {
             "color": "#2a3f5f"
            },
            "marker": {
             "line": {
              "color": "#E5ECF6",
              "width": 0.5
             },
             "pattern": {
              "fillmode": "overlay",
              "size": 10,
              "solidity": 0.2
             }
            },
            "type": "bar"
           }
          ],
          "barpolar": [
           {
            "marker": {
             "line": {
              "color": "#E5ECF6",
              "width": 0.5
             },
             "pattern": {
              "fillmode": "overlay",
              "size": 10,
              "solidity": 0.2
             }
            },
            "type": "barpolar"
           }
          ],
          "carpet": [
           {
            "aaxis": {
             "endlinecolor": "#2a3f5f",
             "gridcolor": "white",
             "linecolor": "white",
             "minorgridcolor": "white",
             "startlinecolor": "#2a3f5f"
            },
            "baxis": {
             "endlinecolor": "#2a3f5f",
             "gridcolor": "white",
             "linecolor": "white",
             "minorgridcolor": "white",
             "startlinecolor": "#2a3f5f"
            },
            "type": "carpet"
           }
          ],
          "choropleth": [
           {
            "colorbar": {
             "outlinewidth": 0,
             "ticks": ""
            },
            "type": "choropleth"
           }
          ],
          "contour": [
           {
            "colorbar": {
             "outlinewidth": 0,
             "ticks": ""
            },
            "colorscale": [
             [
              0,
              "#0d0887"
             ],
             [
              0.1111111111111111,
              "#46039f"
             ],
             [
              0.2222222222222222,
              "#7201a8"
             ],
             [
              0.3333333333333333,
              "#9c179e"
             ],
             [
              0.4444444444444444,
              "#bd3786"
             ],
             [
              0.5555555555555556,
              "#d8576b"
             ],
             [
              0.6666666666666666,
              "#ed7953"
             ],
             [
              0.7777777777777778,
              "#fb9f3a"
             ],
             [
              0.8888888888888888,
              "#fdca26"
             ],
             [
              1,
              "#f0f921"
             ]
            ],
            "type": "contour"
           }
          ],
          "contourcarpet": [
           {
            "colorbar": {
             "outlinewidth": 0,
             "ticks": ""
            },
            "type": "contourcarpet"
           }
          ],
          "heatmap": [
           {
            "colorbar": {
             "outlinewidth": 0,
             "ticks": ""
            },
            "colorscale": [
             [
              0,
              "#0d0887"
             ],
             [
              0.1111111111111111,
              "#46039f"
             ],
             [
              0.2222222222222222,
              "#7201a8"
             ],
             [
              0.3333333333333333,
              "#9c179e"
             ],
             [
              0.4444444444444444,
              "#bd3786"
             ],
             [
              0.5555555555555556,
              "#d8576b"
             ],
             [
              0.6666666666666666,
              "#ed7953"
             ],
             [
              0.7777777777777778,
              "#fb9f3a"
             ],
             [
              0.8888888888888888,
              "#fdca26"
             ],
             [
              1,
              "#f0f921"
             ]
            ],
            "type": "heatmap"
           }
          ],
          "heatmapgl": [
           {
            "colorbar": {
             "outlinewidth": 0,
             "ticks": ""
            },
            "colorscale": [
             [
              0,
              "#0d0887"
             ],
             [
              0.1111111111111111,
              "#46039f"
             ],
             [
              0.2222222222222222,
              "#7201a8"
             ],
             [
              0.3333333333333333,
              "#9c179e"
             ],
             [
              0.4444444444444444,
              "#bd3786"
             ],
             [
              0.5555555555555556,
              "#d8576b"
             ],
             [
              0.6666666666666666,
              "#ed7953"
             ],
             [
              0.7777777777777778,
              "#fb9f3a"
             ],
             [
              0.8888888888888888,
              "#fdca26"
             ],
             [
              1,
              "#f0f921"
             ]
            ],
            "type": "heatmapgl"
           }
          ],
          "histogram": [
           {
            "marker": {
             "pattern": {
              "fillmode": "overlay",
              "size": 10,
              "solidity": 0.2
             }
            },
            "type": "histogram"
           }
          ],
          "histogram2d": [
           {
            "colorbar": {
             "outlinewidth": 0,
             "ticks": ""
            },
            "colorscale": [
             [
              0,
              "#0d0887"
             ],
             [
              0.1111111111111111,
              "#46039f"
             ],
             [
              0.2222222222222222,
              "#7201a8"
             ],
             [
              0.3333333333333333,
              "#9c179e"
             ],
             [
              0.4444444444444444,
              "#bd3786"
             ],
             [
              0.5555555555555556,
              "#d8576b"
             ],
             [
              0.6666666666666666,
              "#ed7953"
             ],
             [
              0.7777777777777778,
              "#fb9f3a"
             ],
             [
              0.8888888888888888,
              "#fdca26"
             ],
             [
              1,
              "#f0f921"
             ]
            ],
            "type": "histogram2d"
           }
          ],
          "histogram2dcontour": [
           {
            "colorbar": {
             "outlinewidth": 0,
             "ticks": ""
            },
            "colorscale": [
             [
              0,
              "#0d0887"
             ],
             [
              0.1111111111111111,
              "#46039f"
             ],
             [
              0.2222222222222222,
              "#7201a8"
             ],
             [
              0.3333333333333333,
              "#9c179e"
             ],
             [
              0.4444444444444444,
              "#bd3786"
             ],
             [
              0.5555555555555556,
              "#d8576b"
             ],
             [
              0.6666666666666666,
              "#ed7953"
             ],
             [
              0.7777777777777778,
              "#fb9f3a"
             ],
             [
              0.8888888888888888,
              "#fdca26"
             ],
             [
              1,
              "#f0f921"
             ]
            ],
            "type": "histogram2dcontour"
           }
          ],
          "mesh3d": [
           {
            "colorbar": {
             "outlinewidth": 0,
             "ticks": ""
            },
            "type": "mesh3d"
           }
          ],
          "parcoords": [
           {
            "line": {
             "colorbar": {
              "outlinewidth": 0,
              "ticks": ""
             }
            },
            "type": "parcoords"
           }
          ],
          "pie": [
           {
            "automargin": true,
            "type": "pie"
           }
          ],
          "scatter": [
           {
            "fillpattern": {
             "fillmode": "overlay",
             "size": 10,
             "solidity": 0.2
            },
            "type": "scatter"
           }
          ],
          "scatter3d": [
           {
            "line": {
             "colorbar": {
              "outlinewidth": 0,
              "ticks": ""
             }
            },
            "marker": {
             "colorbar": {
              "outlinewidth": 0,
              "ticks": ""
             }
            },
            "type": "scatter3d"
           }
          ],
          "scattercarpet": [
           {
            "marker": {
             "colorbar": {
              "outlinewidth": 0,
              "ticks": ""
             }
            },
            "type": "scattercarpet"
           }
          ],
          "scattergeo": [
           {
            "marker": {
             "colorbar": {
              "outlinewidth": 0,
              "ticks": ""
             }
            },
            "type": "scattergeo"
           }
          ],
          "scattergl": [
           {
            "marker": {
             "colorbar": {
              "outlinewidth": 0,
              "ticks": ""
             }
            },
            "type": "scattergl"
           }
          ],
          "scattermapbox": [
           {
            "marker": {
             "colorbar": {
              "outlinewidth": 0,
              "ticks": ""
             }
            },
            "type": "scattermapbox"
           }
          ],
          "scatterpolar": [
           {
            "marker": {
             "colorbar": {
              "outlinewidth": 0,
              "ticks": ""
             }
            },
            "type": "scatterpolar"
           }
          ],
          "scatterpolargl": [
           {
            "marker": {
             "colorbar": {
              "outlinewidth": 0,
              "ticks": ""
             }
            },
            "type": "scatterpolargl"
           }
          ],
          "scatterternary": [
           {
            "marker": {
             "colorbar": {
              "outlinewidth": 0,
              "ticks": ""
             }
            },
            "type": "scatterternary"
           }
          ],
          "surface": [
           {
            "colorbar": {
             "outlinewidth": 0,
             "ticks": ""
            },
            "colorscale": [
             [
              0,
              "#0d0887"
             ],
             [
              0.1111111111111111,
              "#46039f"
             ],
             [
              0.2222222222222222,
              "#7201a8"
             ],
             [
              0.3333333333333333,
              "#9c179e"
             ],
             [
              0.4444444444444444,
              "#bd3786"
             ],
             [
              0.5555555555555556,
              "#d8576b"
             ],
             [
              0.6666666666666666,
              "#ed7953"
             ],
             [
              0.7777777777777778,
              "#fb9f3a"
             ],
             [
              0.8888888888888888,
              "#fdca26"
             ],
             [
              1,
              "#f0f921"
             ]
            ],
            "type": "surface"
           }
          ],
          "table": [
           {
            "cells": {
             "fill": {
              "color": "#EBF0F8"
             },
             "line": {
              "color": "white"
             }
            },
            "header": {
             "fill": {
              "color": "#C8D4E3"
             },
             "line": {
              "color": "white"
             }
            },
            "type": "table"
           }
          ]
         },
         "layout": {
          "annotationdefaults": {
           "arrowcolor": "#2a3f5f",
           "arrowhead": 0,
           "arrowwidth": 1
          },
          "autotypenumbers": "strict",
          "coloraxis": {
           "colorbar": {
            "outlinewidth": 0,
            "ticks": ""
           }
          },
          "colorscale": {
           "diverging": [
            [
             0,
             "#8e0152"
            ],
            [
             0.1,
             "#c51b7d"
            ],
            [
             0.2,
             "#de77ae"
            ],
            [
             0.3,
             "#f1b6da"
            ],
            [
             0.4,
             "#fde0ef"
            ],
            [
             0.5,
             "#f7f7f7"
            ],
            [
             0.6,
             "#e6f5d0"
            ],
            [
             0.7,
             "#b8e186"
            ],
            [
             0.8,
             "#7fbc41"
            ],
            [
             0.9,
             "#4d9221"
            ],
            [
             1,
             "#276419"
            ]
           ],
           "sequential": [
            [
             0,
             "#0d0887"
            ],
            [
             0.1111111111111111,
             "#46039f"
            ],
            [
             0.2222222222222222,
             "#7201a8"
            ],
            [
             0.3333333333333333,
             "#9c179e"
            ],
            [
             0.4444444444444444,
             "#bd3786"
            ],
            [
             0.5555555555555556,
             "#d8576b"
            ],
            [
             0.6666666666666666,
             "#ed7953"
            ],
            [
             0.7777777777777778,
             "#fb9f3a"
            ],
            [
             0.8888888888888888,
             "#fdca26"
            ],
            [
             1,
             "#f0f921"
            ]
           ],
           "sequentialminus": [
            [
             0,
             "#0d0887"
            ],
            [
             0.1111111111111111,
             "#46039f"
            ],
            [
             0.2222222222222222,
             "#7201a8"
            ],
            [
             0.3333333333333333,
             "#9c179e"
            ],
            [
             0.4444444444444444,
             "#bd3786"
            ],
            [
             0.5555555555555556,
             "#d8576b"
            ],
            [
             0.6666666666666666,
             "#ed7953"
            ],
            [
             0.7777777777777778,
             "#fb9f3a"
            ],
            [
             0.8888888888888888,
             "#fdca26"
            ],
            [
             1,
             "#f0f921"
            ]
           ]
          },
          "colorway": [
           "#636efa",
           "#EF553B",
           "#00cc96",
           "#ab63fa",
           "#FFA15A",
           "#19d3f3",
           "#FF6692",
           "#B6E880",
           "#FF97FF",
           "#FECB52"
          ],
          "font": {
           "color": "#2a3f5f"
          },
          "geo": {
           "bgcolor": "white",
           "lakecolor": "white",
           "landcolor": "#E5ECF6",
           "showlakes": true,
           "showland": true,
           "subunitcolor": "white"
          },
          "hoverlabel": {
           "align": "left"
          },
          "hovermode": "closest",
          "mapbox": {
           "style": "light"
          },
          "paper_bgcolor": "white",
          "plot_bgcolor": "#E5ECF6",
          "polar": {
           "angularaxis": {
            "gridcolor": "white",
            "linecolor": "white",
            "ticks": ""
           },
           "bgcolor": "#E5ECF6",
           "radialaxis": {
            "gridcolor": "white",
            "linecolor": "white",
            "ticks": ""
           }
          },
          "scene": {
           "xaxis": {
            "backgroundcolor": "#E5ECF6",
            "gridcolor": "white",
            "gridwidth": 2,
            "linecolor": "white",
            "showbackground": true,
            "ticks": "",
            "zerolinecolor": "white"
           },
           "yaxis": {
            "backgroundcolor": "#E5ECF6",
            "gridcolor": "white",
            "gridwidth": 2,
            "linecolor": "white",
            "showbackground": true,
            "ticks": "",
            "zerolinecolor": "white"
           },
           "zaxis": {
            "backgroundcolor": "#E5ECF6",
            "gridcolor": "white",
            "gridwidth": 2,
            "linecolor": "white",
            "showbackground": true,
            "ticks": "",
            "zerolinecolor": "white"
           }
          },
          "shapedefaults": {
           "line": {
            "color": "#2a3f5f"
           }
          },
          "ternary": {
           "aaxis": {
            "gridcolor": "white",
            "linecolor": "white",
            "ticks": ""
           },
           "baxis": {
            "gridcolor": "white",
            "linecolor": "white",
            "ticks": ""
           },
           "bgcolor": "#E5ECF6",
           "caxis": {
            "gridcolor": "white",
            "linecolor": "white",
            "ticks": ""
           }
          },
          "title": {
           "x": 0.05
          },
          "xaxis": {
           "automargin": true,
           "gridcolor": "white",
           "linecolor": "white",
           "ticks": "",
           "title": {
            "standoff": 15
           },
           "zerolinecolor": "white",
           "zerolinewidth": 2
          },
          "yaxis": {
           "automargin": true,
           "gridcolor": "white",
           "linecolor": "white",
           "ticks": "",
           "title": {
            "standoff": 15
           },
           "zerolinecolor": "white",
           "zerolinewidth": 2
          }
         }
        },
        "title": {
         "text": "Median Overall Adjusted Score by Industry"
        },
        "width": 900,
        "xaxis": {
         "anchor": "y",
         "domain": [
          0,
          1
         ],
         "showgrid": false,
         "title": {
          "text": "year"
         }
        },
        "yaxis": {
         "anchor": "x",
         "domain": [
          0,
          1
         ],
         "showgrid": false,
         "title": {
          "text": "overall_score_adjusted"
         }
        }
       }
      }
     },
     "metadata": {},
     "output_type": "display_data"
    }
   ],
   "source": [
    "plot_summary_chart(\n",
    "    reporting_summary_df,\n",
    "    x=\"year\",\n",
    "    y=\"overall_score_adjusted\",\n",
    "    group_by=\"industry\",\n",
    "    chart_type=\"line\",\n",
    "    agg_func=\"median\",\n",
    "    title=\"Median Overall Adjusted Score by Industry\",\n",
    "    height=500,\n",
    "    width=900,\n",
    ").show()"
   ]
  },
  {
   "cell_type": "code",
   "execution_count": 132,
   "metadata": {},
   "outputs": [
    {
     "data": {
      "application/vnd.plotly.v1+json": {
       "config": {
        "plotlyServerURL": "https://plot.ly"
       },
       "data": [
        {
         "hovertemplate": "csrd_2025=0<br>year=%{x}<br>metric_coverage=%{y}<extra></extra>",
         "legendgroup": "0",
         "line": {
          "color": "#636efa",
          "dash": "solid"
         },
         "marker": {
          "symbol": "circle"
         },
         "mode": "lines+markers",
         "name": "0",
         "orientation": "v",
         "showlegend": true,
         "type": "scatter",
         "x": [
          "2019",
          "2020",
          "2021",
          "2022"
         ],
         "xaxis": "x",
         "y": [
          0.35294117647058826,
          0.4117647058823529,
          0.47058823529411764,
          0.47058823529411764
         ],
         "yaxis": "y"
        },
        {
         "hovertemplate": "csrd_2025=1<br>year=%{x}<br>metric_coverage=%{y}<extra></extra>",
         "legendgroup": "1",
         "line": {
          "color": "#EF553B",
          "dash": "solid"
         },
         "marker": {
          "symbol": "circle"
         },
         "mode": "lines+markers",
         "name": "1",
         "orientation": "v",
         "showlegend": true,
         "type": "scatter",
         "x": [
          "2019",
          "2020",
          "2021",
          "2022"
         ],
         "xaxis": "x",
         "y": [
          0.5882352941176471,
          0.6470588235294118,
          0.7058823529411765,
          0.6470588235294118
         ],
         "yaxis": "y"
        }
       ],
       "layout": {
        "height": 500,
        "legend": {
         "title": {
          "text": "csrd_2025"
         },
         "tracegroupgap": 0
        },
        "paper_bgcolor": "white",
        "plot_bgcolor": "white",
        "template": {
         "data": {
          "bar": [
           {
            "error_x": {
             "color": "#2a3f5f"
            },
            "error_y": {
             "color": "#2a3f5f"
            },
            "marker": {
             "line": {
              "color": "#E5ECF6",
              "width": 0.5
             },
             "pattern": {
              "fillmode": "overlay",
              "size": 10,
              "solidity": 0.2
             }
            },
            "type": "bar"
           }
          ],
          "barpolar": [
           {
            "marker": {
             "line": {
              "color": "#E5ECF6",
              "width": 0.5
             },
             "pattern": {
              "fillmode": "overlay",
              "size": 10,
              "solidity": 0.2
             }
            },
            "type": "barpolar"
           }
          ],
          "carpet": [
           {
            "aaxis": {
             "endlinecolor": "#2a3f5f",
             "gridcolor": "white",
             "linecolor": "white",
             "minorgridcolor": "white",
             "startlinecolor": "#2a3f5f"
            },
            "baxis": {
             "endlinecolor": "#2a3f5f",
             "gridcolor": "white",
             "linecolor": "white",
             "minorgridcolor": "white",
             "startlinecolor": "#2a3f5f"
            },
            "type": "carpet"
           }
          ],
          "choropleth": [
           {
            "colorbar": {
             "outlinewidth": 0,
             "ticks": ""
            },
            "type": "choropleth"
           }
          ],
          "contour": [
           {
            "colorbar": {
             "outlinewidth": 0,
             "ticks": ""
            },
            "colorscale": [
             [
              0,
              "#0d0887"
             ],
             [
              0.1111111111111111,
              "#46039f"
             ],
             [
              0.2222222222222222,
              "#7201a8"
             ],
             [
              0.3333333333333333,
              "#9c179e"
             ],
             [
              0.4444444444444444,
              "#bd3786"
             ],
             [
              0.5555555555555556,
              "#d8576b"
             ],
             [
              0.6666666666666666,
              "#ed7953"
             ],
             [
              0.7777777777777778,
              "#fb9f3a"
             ],
             [
              0.8888888888888888,
              "#fdca26"
             ],
             [
              1,
              "#f0f921"
             ]
            ],
            "type": "contour"
           }
          ],
          "contourcarpet": [
           {
            "colorbar": {
             "outlinewidth": 0,
             "ticks": ""
            },
            "type": "contourcarpet"
           }
          ],
          "heatmap": [
           {
            "colorbar": {
             "outlinewidth": 0,
             "ticks": ""
            },
            "colorscale": [
             [
              0,
              "#0d0887"
             ],
             [
              0.1111111111111111,
              "#46039f"
             ],
             [
              0.2222222222222222,
              "#7201a8"
             ],
             [
              0.3333333333333333,
              "#9c179e"
             ],
             [
              0.4444444444444444,
              "#bd3786"
             ],
             [
              0.5555555555555556,
              "#d8576b"
             ],
             [
              0.6666666666666666,
              "#ed7953"
             ],
             [
              0.7777777777777778,
              "#fb9f3a"
             ],
             [
              0.8888888888888888,
              "#fdca26"
             ],
             [
              1,
              "#f0f921"
             ]
            ],
            "type": "heatmap"
           }
          ],
          "heatmapgl": [
           {
            "colorbar": {
             "outlinewidth": 0,
             "ticks": ""
            },
            "colorscale": [
             [
              0,
              "#0d0887"
             ],
             [
              0.1111111111111111,
              "#46039f"
             ],
             [
              0.2222222222222222,
              "#7201a8"
             ],
             [
              0.3333333333333333,
              "#9c179e"
             ],
             [
              0.4444444444444444,
              "#bd3786"
             ],
             [
              0.5555555555555556,
              "#d8576b"
             ],
             [
              0.6666666666666666,
              "#ed7953"
             ],
             [
              0.7777777777777778,
              "#fb9f3a"
             ],
             [
              0.8888888888888888,
              "#fdca26"
             ],
             [
              1,
              "#f0f921"
             ]
            ],
            "type": "heatmapgl"
           }
          ],
          "histogram": [
           {
            "marker": {
             "pattern": {
              "fillmode": "overlay",
              "size": 10,
              "solidity": 0.2
             }
            },
            "type": "histogram"
           }
          ],
          "histogram2d": [
           {
            "colorbar": {
             "outlinewidth": 0,
             "ticks": ""
            },
            "colorscale": [
             [
              0,
              "#0d0887"
             ],
             [
              0.1111111111111111,
              "#46039f"
             ],
             [
              0.2222222222222222,
              "#7201a8"
             ],
             [
              0.3333333333333333,
              "#9c179e"
             ],
             [
              0.4444444444444444,
              "#bd3786"
             ],
             [
              0.5555555555555556,
              "#d8576b"
             ],
             [
              0.6666666666666666,
              "#ed7953"
             ],
             [
              0.7777777777777778,
              "#fb9f3a"
             ],
             [
              0.8888888888888888,
              "#fdca26"
             ],
             [
              1,
              "#f0f921"
             ]
            ],
            "type": "histogram2d"
           }
          ],
          "histogram2dcontour": [
           {
            "colorbar": {
             "outlinewidth": 0,
             "ticks": ""
            },
            "colorscale": [
             [
              0,
              "#0d0887"
             ],
             [
              0.1111111111111111,
              "#46039f"
             ],
             [
              0.2222222222222222,
              "#7201a8"
             ],
             [
              0.3333333333333333,
              "#9c179e"
             ],
             [
              0.4444444444444444,
              "#bd3786"
             ],
             [
              0.5555555555555556,
              "#d8576b"
             ],
             [
              0.6666666666666666,
              "#ed7953"
             ],
             [
              0.7777777777777778,
              "#fb9f3a"
             ],
             [
              0.8888888888888888,
              "#fdca26"
             ],
             [
              1,
              "#f0f921"
             ]
            ],
            "type": "histogram2dcontour"
           }
          ],
          "mesh3d": [
           {
            "colorbar": {
             "outlinewidth": 0,
             "ticks": ""
            },
            "type": "mesh3d"
           }
          ],
          "parcoords": [
           {
            "line": {
             "colorbar": {
              "outlinewidth": 0,
              "ticks": ""
             }
            },
            "type": "parcoords"
           }
          ],
          "pie": [
           {
            "automargin": true,
            "type": "pie"
           }
          ],
          "scatter": [
           {
            "fillpattern": {
             "fillmode": "overlay",
             "size": 10,
             "solidity": 0.2
            },
            "type": "scatter"
           }
          ],
          "scatter3d": [
           {
            "line": {
             "colorbar": {
              "outlinewidth": 0,
              "ticks": ""
             }
            },
            "marker": {
             "colorbar": {
              "outlinewidth": 0,
              "ticks": ""
             }
            },
            "type": "scatter3d"
           }
          ],
          "scattercarpet": [
           {
            "marker": {
             "colorbar": {
              "outlinewidth": 0,
              "ticks": ""
             }
            },
            "type": "scattercarpet"
           }
          ],
          "scattergeo": [
           {
            "marker": {
             "colorbar": {
              "outlinewidth": 0,
              "ticks": ""
             }
            },
            "type": "scattergeo"
           }
          ],
          "scattergl": [
           {
            "marker": {
             "colorbar": {
              "outlinewidth": 0,
              "ticks": ""
             }
            },
            "type": "scattergl"
           }
          ],
          "scattermapbox": [
           {
            "marker": {
             "colorbar": {
              "outlinewidth": 0,
              "ticks": ""
             }
            },
            "type": "scattermapbox"
           }
          ],
          "scatterpolar": [
           {
            "marker": {
             "colorbar": {
              "outlinewidth": 0,
              "ticks": ""
             }
            },
            "type": "scatterpolar"
           }
          ],
          "scatterpolargl": [
           {
            "marker": {
             "colorbar": {
              "outlinewidth": 0,
              "ticks": ""
             }
            },
            "type": "scatterpolargl"
           }
          ],
          "scatterternary": [
           {
            "marker": {
             "colorbar": {
              "outlinewidth": 0,
              "ticks": ""
             }
            },
            "type": "scatterternary"
           }
          ],
          "surface": [
           {
            "colorbar": {
             "outlinewidth": 0,
             "ticks": ""
            },
            "colorscale": [
             [
              0,
              "#0d0887"
             ],
             [
              0.1111111111111111,
              "#46039f"
             ],
             [
              0.2222222222222222,
              "#7201a8"
             ],
             [
              0.3333333333333333,
              "#9c179e"
             ],
             [
              0.4444444444444444,
              "#bd3786"
             ],
             [
              0.5555555555555556,
              "#d8576b"
             ],
             [
              0.6666666666666666,
              "#ed7953"
             ],
             [
              0.7777777777777778,
              "#fb9f3a"
             ],
             [
              0.8888888888888888,
              "#fdca26"
             ],
             [
              1,
              "#f0f921"
             ]
            ],
            "type": "surface"
           }
          ],
          "table": [
           {
            "cells": {
             "fill": {
              "color": "#EBF0F8"
             },
             "line": {
              "color": "white"
             }
            },
            "header": {
             "fill": {
              "color": "#C8D4E3"
             },
             "line": {
              "color": "white"
             }
            },
            "type": "table"
           }
          ]
         },
         "layout": {
          "annotationdefaults": {
           "arrowcolor": "#2a3f5f",
           "arrowhead": 0,
           "arrowwidth": 1
          },
          "autotypenumbers": "strict",
          "coloraxis": {
           "colorbar": {
            "outlinewidth": 0,
            "ticks": ""
           }
          },
          "colorscale": {
           "diverging": [
            [
             0,
             "#8e0152"
            ],
            [
             0.1,
             "#c51b7d"
            ],
            [
             0.2,
             "#de77ae"
            ],
            [
             0.3,
             "#f1b6da"
            ],
            [
             0.4,
             "#fde0ef"
            ],
            [
             0.5,
             "#f7f7f7"
            ],
            [
             0.6,
             "#e6f5d0"
            ],
            [
             0.7,
             "#b8e186"
            ],
            [
             0.8,
             "#7fbc41"
            ],
            [
             0.9,
             "#4d9221"
            ],
            [
             1,
             "#276419"
            ]
           ],
           "sequential": [
            [
             0,
             "#0d0887"
            ],
            [
             0.1111111111111111,
             "#46039f"
            ],
            [
             0.2222222222222222,
             "#7201a8"
            ],
            [
             0.3333333333333333,
             "#9c179e"
            ],
            [
             0.4444444444444444,
             "#bd3786"
            ],
            [
             0.5555555555555556,
             "#d8576b"
            ],
            [
             0.6666666666666666,
             "#ed7953"
            ],
            [
             0.7777777777777778,
             "#fb9f3a"
            ],
            [
             0.8888888888888888,
             "#fdca26"
            ],
            [
             1,
             "#f0f921"
            ]
           ],
           "sequentialminus": [
            [
             0,
             "#0d0887"
            ],
            [
             0.1111111111111111,
             "#46039f"
            ],
            [
             0.2222222222222222,
             "#7201a8"
            ],
            [
             0.3333333333333333,
             "#9c179e"
            ],
            [
             0.4444444444444444,
             "#bd3786"
            ],
            [
             0.5555555555555556,
             "#d8576b"
            ],
            [
             0.6666666666666666,
             "#ed7953"
            ],
            [
             0.7777777777777778,
             "#fb9f3a"
            ],
            [
             0.8888888888888888,
             "#fdca26"
            ],
            [
             1,
             "#f0f921"
            ]
           ]
          },
          "colorway": [
           "#636efa",
           "#EF553B",
           "#00cc96",
           "#ab63fa",
           "#FFA15A",
           "#19d3f3",
           "#FF6692",
           "#B6E880",
           "#FF97FF",
           "#FECB52"
          ],
          "font": {
           "color": "#2a3f5f"
          },
          "geo": {
           "bgcolor": "white",
           "lakecolor": "white",
           "landcolor": "#E5ECF6",
           "showlakes": true,
           "showland": true,
           "subunitcolor": "white"
          },
          "hoverlabel": {
           "align": "left"
          },
          "hovermode": "closest",
          "mapbox": {
           "style": "light"
          },
          "paper_bgcolor": "white",
          "plot_bgcolor": "#E5ECF6",
          "polar": {
           "angularaxis": {
            "gridcolor": "white",
            "linecolor": "white",
            "ticks": ""
           },
           "bgcolor": "#E5ECF6",
           "radialaxis": {
            "gridcolor": "white",
            "linecolor": "white",
            "ticks": ""
           }
          },
          "scene": {
           "xaxis": {
            "backgroundcolor": "#E5ECF6",
            "gridcolor": "white",
            "gridwidth": 2,
            "linecolor": "white",
            "showbackground": true,
            "ticks": "",
            "zerolinecolor": "white"
           },
           "yaxis": {
            "backgroundcolor": "#E5ECF6",
            "gridcolor": "white",
            "gridwidth": 2,
            "linecolor": "white",
            "showbackground": true,
            "ticks": "",
            "zerolinecolor": "white"
           },
           "zaxis": {
            "backgroundcolor": "#E5ECF6",
            "gridcolor": "white",
            "gridwidth": 2,
            "linecolor": "white",
            "showbackground": true,
            "ticks": "",
            "zerolinecolor": "white"
           }
          },
          "shapedefaults": {
           "line": {
            "color": "#2a3f5f"
           }
          },
          "ternary": {
           "aaxis": {
            "gridcolor": "white",
            "linecolor": "white",
            "ticks": ""
           },
           "baxis": {
            "gridcolor": "white",
            "linecolor": "white",
            "ticks": ""
           },
           "bgcolor": "#E5ECF6",
           "caxis": {
            "gridcolor": "white",
            "linecolor": "white",
            "ticks": ""
           }
          },
          "title": {
           "x": 0.05
          },
          "xaxis": {
           "automargin": true,
           "gridcolor": "white",
           "linecolor": "white",
           "ticks": "",
           "title": {
            "standoff": 15
           },
           "zerolinecolor": "white",
           "zerolinewidth": 2
          },
          "yaxis": {
           "automargin": true,
           "gridcolor": "white",
           "linecolor": "white",
           "ticks": "",
           "title": {
            "standoff": 15
           },
           "zerolinecolor": "white",
           "zerolinewidth": 2
          }
         }
        },
        "title": {
         "text": "Median Metric Coverage"
        },
        "width": 900,
        "xaxis": {
         "anchor": "y",
         "domain": [
          0,
          1
         ],
         "showgrid": false,
         "title": {
          "text": "year"
         }
        },
        "yaxis": {
         "anchor": "x",
         "domain": [
          0,
          1
         ],
         "showgrid": false,
         "title": {
          "text": "metric_coverage"
         }
        }
       }
      }
     },
     "metadata": {},
     "output_type": "display_data"
    }
   ],
   "source": [
    "plot_summary_chart(\n",
    "    reporting_summary_df,\n",
    "    x=\"year\",\n",
    "    y=\"metric_coverage\",\n",
    "    group_by=\"csrd_2025\",\n",
    "    chart_type=\"line\",\n",
    "    agg_func=\"median\",\n",
    "    title=\"Median Metric Coverage\",\n",
    "    height=500,\n",
    "    width=900,\n",
    ").show()"
   ]
  },
  {
   "cell_type": "code",
   "execution_count": 133,
   "metadata": {},
   "outputs": [],
   "source": [
    "def filter_top_companies(\n",
    "    df: pd.DataFrame,\n",
    "    group_by: str,\n",
    "    metric_col: str,\n",
    "    top_n: int = 5,\n",
    "    agg_func: str = \"sum\",\n",
    "    filter_year_col: Optional[str] = None,\n",
    "    filter_year_value: Optional[int] = None,\n",
    "    sort_output_by: Optional[List[str]] = None,\n",
    ") -> pd.DataFrame:\n",
    "    \"\"\"\n",
    "    Filters the top N companies per group (e.g., industry), based on an aggregated metric,\n",
    "    and returns all rows for those companies from the original dataframe.\n",
    "\n",
    "    Args:\n",
    "        df (pd.DataFrame): The input dataframe.\n",
    "        group_by (str): Column name to group by (e.g., 'industry').\n",
    "        metric_col (str): Column to aggregate (e.g., 'revenue_MEUR').\n",
    "        top_n (int): Number of top companies to return per group.\n",
    "        agg_func (str): Aggregation function: 'sum', 'mean', 'median', etc.\n",
    "        filter_year_col (Optional[str]): Column to filter on for year (e.g., 'year').\n",
    "        filter_year_value (Optional[int]): Value to filter the year column on (e.g., 2022).\n",
    "        sort_output_by (Optional[List[str]]): List of column names to sort the final result by.\n",
    "\n",
    "    Returns:\n",
    "        pd.DataFrame: Filtered dataframe with all rows of top N companies per group.\n",
    "    \"\"\"\n",
    "    df_filtered = df.copy()\n",
    "\n",
    "    # Optional filter to a specific year\n",
    "    if filter_year_col and filter_year_value is not None:\n",
    "        df_filtered = df_filtered[df_filtered[filter_year_col] == filter_year_value]\n",
    "\n",
    "    # Aggregate the metric\n",
    "    agg_df = df_filtered.groupby([group_by, \"company\"], as_index=False).agg(\n",
    "        {metric_col: agg_func}\n",
    "    )\n",
    "\n",
    "    # Get top N companies per group\n",
    "    top_companies_df = (\n",
    "        agg_df.sort_values([group_by, metric_col], ascending=[True, False])\n",
    "        .groupby(group_by)\n",
    "        .head(top_n)\n",
    "    )\n",
    "\n",
    "    top_companies = top_companies_df[\"company\"].unique()\n",
    "\n",
    "    # Return all rows for selected companies\n",
    "    full_rows_df = df[df[\"company\"].isin(top_companies)].copy()\n",
    "\n",
    "    if sort_output_by:\n",
    "        full_rows_df = full_rows_df.sort_values(by=sort_output_by)\n",
    "\n",
    "    return full_rows_df"
   ]
  },
  {
   "cell_type": "code",
   "execution_count": 134,
   "metadata": {},
   "outputs": [],
   "source": [
    "top_companies_df = filter_top_companies(\n",
    "    reporting_summary_df,\n",
    "    \"industry\",\n",
    "    \"revenue_MEUR\",\n",
    "    top_n=5,\n",
    "    agg_func=\"sum\",\n",
    "    sort_output_by=[\"industry\", \"company\", \"revenue_MEUR\"],\n",
    ")"
   ]
  },
  {
   "cell_type": "code",
   "execution_count": 135,
   "metadata": {},
   "outputs": [],
   "source": [
    "import pandas as pd\n",
    "import plotly.express as px\n",
    "import plotly.graph_objects as go\n",
    "from typing import Optional, List\n",
    "\n",
    "\n",
    "def animate_top_companies_bubble_chart(\n",
    "    df: pd.DataFrame,\n",
    "    x: str,\n",
    "    y: str,\n",
    "    size: str = \"revenue_MEUR\",\n",
    "    color: str = \"industry\",\n",
    "    label_companies: Optional[List[str]] = None,\n",
    "    frame: str = \"year\",\n",
    "    title: Optional[str] = None,\n",
    "    height: int = 700,\n",
    ") -> go.Figure:\n",
    "    \"\"\"\n",
    "    Create an animated bubble chart of top companies over time.\n",
    "\n",
    "    Args:\n",
    "        df (pd.DataFrame): Input DataFrame with company data.\n",
    "        x (str): Column name for the x-axis.\n",
    "        y (str): Column name for the y-axis.\n",
    "        size (str): Column to represent bubble size (default 'revenue_MEUR').\n",
    "        color (str): Column to represent color (default 'industry').\n",
    "        label_companies (Optional[List[str]]): List of companies to label. Others are dimmed.\n",
    "        frame (str): Column to animate over (default 'year').\n",
    "        title (Optional[str]): Title for the plot.\n",
    "        height (int): Height of the plot in pixels.\n",
    "\n",
    "    Returns:\n",
    "        go.Figure: A Plotly Figure object.\n",
    "    \"\"\"\n",
    "    df_copy = df.copy()\n",
    "    df_copy[frame] = df_copy[frame].astype(str)\n",
    "    df_copy[size] = df_copy[size].fillna(0)\n",
    "\n",
    "    if label_companies is not None:\n",
    "        missing = set(label_companies) - set(df_copy[\"company\"].unique())\n",
    "        if missing:\n",
    "            raise ValueError(\n",
    "                f\"The following companies were not found in the dataframe: {missing}\"\n",
    "            )\n",
    "        df_copy[\"company_label\"] = df_copy[\"company\"].apply(\n",
    "            lambda c: c if c in label_companies else \"\"\n",
    "        )\n",
    "    else:\n",
    "        df_copy[\"company_label\"] = \"\"\n",
    "\n",
    "    fig = px.scatter(\n",
    "        df_copy,\n",
    "        x=x,\n",
    "        y=y,\n",
    "        size=size,\n",
    "        color=color,\n",
    "        animation_frame=frame,\n",
    "        animation_group=\"company\",\n",
    "        hover_name=\"company\",\n",
    "        custom_data=[\"company\"],\n",
    "        text=\"company_label\",\n",
    "        size_max=60,\n",
    "        title=title or f\"{y} vs {x} Over Time<br><sub>Bubble size = {size}</sub>\",\n",
    "        template=\"plotly_white\",\n",
    "        height=height,\n",
    "    )\n",
    "\n",
    "    fig.update_traces(textposition=\"middle center\")\n",
    "\n",
    "    # Opacity adjustment\n",
    "    if label_companies is not None:\n",
    "\n",
    "        def convert_color_to_rgba(color_str, alpha):\n",
    "            if color_str.startswith(\"rgb(\"):\n",
    "                inner = color_str[4:-1]\n",
    "                r, g, b = map(str.strip, inner.split(\",\"))\n",
    "                return f\"rgba({r}, {g}, {b}, {alpha})\"\n",
    "            elif color_str.startswith(\"#\"):\n",
    "                hex_value = color_str.lstrip(\"#\")\n",
    "                r = int(hex_value[0:2], 16)\n",
    "                g = int(hex_value[2:4], 16)\n",
    "                b = int(hex_value[4:6], 16)\n",
    "                return f\"rgba({r}, {g}, {b}, {alpha})\"\n",
    "            else:\n",
    "                return color_str\n",
    "\n",
    "        for trace in fig.data:\n",
    "            if trace.type == \"scatter\":\n",
    "                base_colors = (\n",
    "                    trace.marker.color\n",
    "                    if isinstance(trace.marker.color, list)\n",
    "                    else [trace.marker.color] * len(trace.x)\n",
    "                )\n",
    "                trace.marker.color = [\n",
    "                    convert_color_to_rgba(\n",
    "                        base_colors[i], 1.0 if cd[0] in label_companies else 0.2\n",
    "                    )\n",
    "                    for i, cd in enumerate(trace.customdata)\n",
    "                ]\n",
    "\n",
    "        for frame_data in fig.frames:\n",
    "            for trace in frame_data.data:\n",
    "                if trace.type == \"scatter\" and trace.customdata is not None:\n",
    "                    base_colors = (\n",
    "                        trace.marker.color\n",
    "                        if isinstance(trace.marker.color, list)\n",
    "                        else [trace.marker.color] * len(trace.x)\n",
    "                    )\n",
    "                    trace.marker.color = [\n",
    "                        convert_color_to_rgba(\n",
    "                            base_colors[i], 1.0 if cd[0] in label_companies else 0.2\n",
    "                        )\n",
    "                        for i, cd in enumerate(trace.customdata)\n",
    "                    ]\n",
    "\n",
    "    # Slower animation\n",
    "    fig.update_layout(transition={\"duration\": 2000})\n",
    "\n",
    "    return fig"
   ]
  },
  {
   "cell_type": "code",
   "execution_count": 136,
   "metadata": {},
   "outputs": [
    {
     "data": {
      "application/vnd.plotly.v1+json": {
       "config": {
        "plotlyServerURL": "https://plot.ly"
       },
       "data": [
        {
         "customdata": [
          [
           "Norsk Hydro ASA"
          ],
          [
           "SSAB AB"
          ],
          [
           "Stora Enso Oyj"
          ],
          [
           "UPM-Kymmene Oyj"
          ],
          [
           "Yara International ASA"
          ]
         ],
         "hovertemplate": "<b>%{hovertext}</b><br><br>industry=%{y}<br>year=2020<br>overall_score_raw=%{x}<br>revenue_MEUR=%{marker.size}<br>company_label=%{text}<extra></extra>",
         "hovertext": [
          "Norsk Hydro ASA",
          "SSAB AB",
          "Stora Enso Oyj",
          "UPM-Kymmene Oyj",
          "Yara International ASA"
         ],
         "ids": [
          "Norsk Hydro ASA",
          "SSAB AB",
          "Stora Enso Oyj",
          "UPM-Kymmene Oyj",
          "Yara International ASA"
         ],
         "legendgroup": "Basic Materials",
         "marker": {
          "color": "#636efa",
          "size": [
           14030.96365,
           6227.00438,
           8553,
           8580,
           10349.10714
          ],
          "sizemode": "area",
          "sizeref": 39.78026802777777,
          "symbol": "circle"
         },
         "mode": "markers+text",
         "name": "Basic Materials",
         "orientation": "h",
         "showlegend": true,
         "text": [
          "",
          "",
          "",
          "",
          ""
         ],
         "textposition": "middle center",
         "type": "scatter",
         "x": [
          0.5840128514910344,
          0.5995657948440783,
          0.556382494613034,
          0.6737131577899563,
          0.611444065351629
         ],
         "xaxis": "x",
         "y": [
          "Basic Materials",
          "Basic Materials",
          "Basic Materials",
          "Basic Materials",
          "Basic Materials"
         ],
         "yaxis": "y"
        },
        {
         "customdata": [
          [
           "Electrolux AB"
          ],
          [
           "Essity AB"
          ],
          [
           "Hennes & Mauritz AB, H & M"
          ],
          [
           "ICA Gruppen AB"
          ]
         ],
         "hovertemplate": "<b>%{hovertext}</b><br><br>industry=%{y}<br>year=2020<br>overall_score_raw=%{x}<br>revenue_MEUR=%{marker.size}<br>company_label=%{text}<extra></extra>",
         "hovertext": [
          "Electrolux AB",
          "Essity AB",
          "Hennes & Mauritz AB, H & M",
          "ICA Gruppen AB"
         ],
         "ids": [
          "Electrolux AB",
          "Essity AB",
          "Hennes & Mauritz AB, H & M",
          "ICA Gruppen AB"
         ],
         "legendgroup": "Consumer Goods and Services",
         "marker": {
          "color": "#EF553B",
          "size": [
           11041.70634,
           11593.22034,
           17809.08398,
           12024.66197
          ],
          "sizemode": "area",
          "sizeref": 39.78026802777777,
          "symbol": "circle"
         },
         "mode": "markers+text",
         "name": "Consumer Goods and Services",
         "orientation": "h",
         "showlegend": true,
         "text": [
          "",
          "",
          "",
          ""
         ],
         "textposition": "middle center",
         "type": "scatter",
         "x": [
          0.5600663697785705,
          0.5810347281123419,
          0.5447095621488006,
          0.581921759589449
         ],
         "xaxis": "x",
         "y": [
          "Consumer Goods and Services",
          "Consumer Goods and Services",
          "Consumer Goods and Services",
          "Consumer Goods and Services"
         ],
         "yaxis": "y"
        },
        {
         "customdata": [
          [
           "Equinor ASA (formerly Statoil ASA)"
          ],
          [
           "Fortum Oyj"
          ],
          [
           "Neste Oyj"
          ],
          [
           "Vestas Wind Systems A/S"
          ],
          [
           "Ørsted A/S"
          ]
         ],
         "hovertemplate": "<b>%{hovertext}</b><br><br>industry=%{y}<br>year=2020<br>overall_score_raw=%{x}<br>revenue_MEUR=%{marker.size}<br>company_label=%{text}<extra></extra>",
         "hovertext": [
          "Equinor ASA (formerly Statoil ASA)",
          "Fortum Oyj",
          "Neste Oyj",
          "Vestas Wind Systems A/S",
          "Ørsted A/S"
         ],
         "ids": [
          "Equinor ASA (formerly Statoil ASA)",
          "Fortum Oyj",
          "Neste Oyj",
          "Vestas Wind Systems A/S",
          "Ørsted A/S"
         ],
         "legendgroup": "Energy and Utilities",
         "marker": {
          "color": "#00cc96",
          "size": [
           40850.89286,
           49015,
           11751,
           14819,
           7041.633199
          ],
          "sizemode": "area",
          "sizeref": 39.78026802777777,
          "symbol": "circle"
         },
         "mode": "markers+text",
         "name": "Energy and Utilities",
         "orientation": "h",
         "showlegend": true,
         "text": [
          "",
          "",
          "",
          "",
          ""
         ],
         "textposition": "middle center",
         "type": "scatter",
         "x": [
          0.5620650174585453,
          0.6737131577899563,
          0.6737131577899563,
          0.6642092061453213,
          0.6303831016052815
         ],
         "xaxis": "x",
         "y": [
          "Energy and Utilities",
          "Energy and Utilities",
          "Energy and Utilities",
          "Energy and Utilities",
          "Energy and Utilities"
         ],
         "yaxis": "y"
        },
        {
         "customdata": [
          [
           "DNB Bank ASA"
          ],
          [
           "Danske Bank A/S"
          ],
          [
           "Nordea Bank Oyj"
          ],
          [
           "Sampo"
          ],
          [
           "Skandinaviska Enskilda Banken AB"
          ]
         ],
         "hovertemplate": "<b>%{hovertext}</b><br><br>industry=%{y}<br>year=2020<br>overall_score_raw=%{x}<br>revenue_MEUR=%{marker.size}<br>company_label=%{text}<extra></extra>",
         "hovertext": [
          "DNB Bank ASA",
          "Danske Bank A/S",
          "Nordea Bank Oyj",
          "Sampo",
          "Skandinaviska Enskilda Banken AB"
         ],
         "ids": [
          "DNB Bank ASA",
          "Danske Bank A/S",
          "Nordea Bank Oyj",
          "Sampo",
          "Skandinaviska Enskilda Banken AB"
         ],
         "legendgroup": "Finance",
         "marker": {
          "color": "#ab63fa",
          "size": [
           5617.342896,
           5695.41,
           15073,
           9913,
           4734.050657
          ],
          "sizemode": "area",
          "sizeref": 39.78026802777777,
          "symbol": "circle"
         },
         "mode": "markers+text",
         "name": "Finance",
         "orientation": "h",
         "showlegend": true,
         "text": [
          "",
          "",
          "",
          "",
          ""
         ],
         "textposition": "middle center",
         "type": "scatter",
         "x": [
          0.5782996542453791,
          0.6165802229992803,
          0.5782996542453791,
          0.5643035269184702,
          0.59327946748279
         ],
         "xaxis": "x",
         "y": [
          "Finance",
          "Finance",
          "Finance",
          "Finance",
          "Finance"
         ],
         "yaxis": "y"
        },
        {
         "customdata": [
          [
           "AstraZeneca PLC"
          ],
          [
           "Coloplast A/S"
          ],
          [
           "Getinge AB"
          ],
          [
           "H. Lundbeck A/S"
          ],
          [
           "Novo Nordisk A/S"
          ]
         ],
         "hovertemplate": "<b>%{hovertext}</b><br><br>industry=%{y}<br>year=2020<br>overall_score_raw=%{x}<br>revenue_MEUR=%{marker.size}<br>company_label=%{text}<extra></extra>",
         "hovertext": [
          "AstraZeneca PLC",
          "Coloplast A/S",
          "Getinge AB",
          "H. Lundbeck A/S",
          "Novo Nordisk A/S"
         ],
         "ids": [
          "AstraZeneca PLC",
          "Coloplast A/S",
          "Getinge AB",
          "H. Lundbeck A/S",
          "Novo Nordisk A/S"
         ],
         "legendgroup": "Health Care",
         "marker": {
          "color": "#FFA15A",
          "size": [
           23765.17857,
           2482.463186,
           2839.363931,
           2365.729585,
           16994.10977
          ],
          "sizemode": "area",
          "sizeref": 39.78026802777777,
          "symbol": "circle"
         },
         "mode": "markers+text",
         "name": "Health Care",
         "orientation": "h",
         "showlegend": true,
         "text": [
          "",
          "",
          "",
          "",
          ""
         ],
         "textposition": "middle center",
         "type": "scatter",
         "x": [
          0.5801716948424064,
          0.6178082816309302,
          0.5092419561798751,
          0.4686701901728605,
          0.4469017713082728
         ],
         "xaxis": "x",
         "y": [
          "Health Care",
          "Health Care",
          "Health Care",
          "Health Care",
          "Health Care"
         ],
         "yaxis": "y"
        },
        {
         "customdata": [
          [
           "A.P. Møller -Maersk A/S"
          ],
          [
           "ABB Ltd"
          ],
          [
           "DSV A/S (formerly: DSV Panalpina A/S)"
          ],
          [
           "Skanska AB"
          ],
          [
           "Volvo AB"
          ]
         ],
         "hovertemplate": "<b>%{hovertext}</b><br><br>industry=%{y}<br>year=2020<br>overall_score_raw=%{x}<br>revenue_MEUR=%{marker.size}<br>company_label=%{text}<extra></extra>",
         "hovertext": [
          "A.P. Møller -Maersk A/S",
          "ABB Ltd",
          "DSV A/S (formerly: DSV Panalpina A/S)",
          "Skanska AB",
          "Volvo AB"
         ],
         "ids": [
          "A.P. Møller -Maersk A/S",
          "ABB Ltd",
          "DSV A/S (formerly: DSV Panalpina A/S)",
          "Skanska AB",
          "Volvo AB"
         ],
         "legendgroup": "Industrial Goods and Services",
         "marker": {
          "color": "#19d3f3",
          "size": [
           35482.14286,
           23333.92857,
           15519.67871,
           13376.78537,
           32226.81394
          ],
          "sizemode": "area",
          "sizeref": 39.78026802777777,
          "symbol": "circle"
         },
         "mode": "markers+text",
         "name": "Industrial Goods and Services",
         "orientation": "h",
         "showlegend": true,
         "text": [
          "",
          "",
          "",
          "",
          ""
         ],
         "textposition": "middle center",
         "type": "scatter",
         "x": [
          0.6148301582522376,
          0.6178082816309302,
          0.5196526671511217,
          0.585732241837933,
          0.554894966643695
         ],
         "xaxis": "x",
         "y": [
          "Industrial Goods and Services",
          "Industrial Goods and Services",
          "Industrial Goods and Services",
          "Industrial Goods and Services",
          "Industrial Goods and Services"
         ],
         "yaxis": "y"
        },
        {
         "customdata": [
          [
           "Millicom International Cellular SA"
          ],
          [
           "Royal Caribbean Group (formerly: Royal Caribbean Cruises Ltd)"
          ],
          [
           "Tele2 AB"
          ],
          [
           "Telenor ASA"
          ],
          [
           "Telia Company AB"
          ]
         ],
         "hovertemplate": "<b>%{hovertext}</b><br><br>industry=%{y}<br>year=2020<br>overall_score_raw=%{x}<br>revenue_MEUR=%{marker.size}<br>company_label=%{text}<extra></extra>",
         "hovertext": [
          "Millicom International Cellular SA",
          "Royal Caribbean Group (formerly: Royal Caribbean Cruises Ltd)",
          "Tele2 AB",
          "Telenor ASA",
          "Telia Company AB"
         ],
         "ids": [
          "Millicom International Cellular SA",
          "Royal Caribbean Group (formerly: Royal Caribbean Cruises Ltd)",
          "Tele2 AB",
          "Telenor ASA",
          "Telia Company AB"
         ],
         "legendgroup": "Other",
         "marker": {
          "color": "#FF6692",
          "size": [
           3724.107143,
           553.3883929,
           2528.470767,
           9799,
           8492.763283
          ],
          "sizemode": "area",
          "sizeref": 39.78026802777777,
          "symbol": "circle"
         },
         "mode": "markers+text",
         "name": "Other",
         "orientation": "h",
         "showlegend": true,
         "text": [
          "",
          "",
          "",
          "",
          ""
         ],
         "textposition": "middle center",
         "type": "scatter",
         "x": [
          0.5519061372978933,
          0.15668333228879985,
          0.5337722138291984,
          0.5432454910736895,
          0.5080336253977297
         ],
         "xaxis": "x",
         "y": [
          "Other",
          "Other",
          "Other",
          "Other",
          "Other"
         ],
         "yaxis": "y"
        },
        {
         "customdata": [
          [
           "Atea ASA"
          ],
          [
           "Ericsson, Telefonab. L M"
          ],
          [
           "Hexagon AB"
          ],
          [
           "Nokia Oyj"
          ],
          [
           "TietoEVRY Oyj"
          ]
         ],
         "hovertemplate": "<b>%{hovertext}</b><br><br>industry=%{y}<br>year=2020<br>overall_score_raw=%{x}<br>revenue_MEUR=%{marker.size}<br>company_label=%{text}<extra></extra>",
         "hovertext": [
          "Atea ASA",
          "Ericsson, Telefonab. L M",
          "Hexagon AB",
          "Nokia Oyj",
          "TietoEVRY Oyj"
         ],
         "ids": [
          "Atea ASA",
          "Ericsson, Telefonab. L M",
          "Hexagon AB",
          "Nokia Oyj",
          "TietoEVRY Oyj"
         ],
         "legendgroup": "Technology",
         "marker": {
          "color": "#B6E880",
          "size": [
           4012.982791,
           22238.71643,
           3764.4,
           21852,
           2786.4
          ],
          "sizemode": "area",
          "sizeref": 39.78026802777777,
          "symbol": "circle"
         },
         "mode": "markers+text",
         "name": "Technology",
         "orientation": "h",
         "showlegend": true,
         "text": [
          "",
          "",
          "",
          "",
          ""
         ],
         "textposition": "middle center",
         "type": "scatter",
         "x": [
          0.5213362105519697,
          0.6486562627922774,
          0.6321331663523242,
          0.6642092061453213,
          0.601285185190977
         ],
         "xaxis": "x",
         "y": [
          "Technology",
          "Technology",
          "Technology",
          "Technology",
          "Technology"
         ],
         "yaxis": "y"
        }
       ],
       "frames": [
        {
         "data": [
          {
           "customdata": [
            [
             "Norsk Hydro ASA"
            ],
            [
             "SSAB AB"
            ],
            [
             "Stora Enso Oyj"
            ],
            [
             "UPM-Kymmene Oyj"
            ],
            [
             "Yara International ASA"
            ]
           ],
           "hovertemplate": "<b>%{hovertext}</b><br><br>industry=%{y}<br>year=2020<br>overall_score_raw=%{x}<br>revenue_MEUR=%{marker.size}<br>company_label=%{text}<extra></extra>",
           "hovertext": [
            "Norsk Hydro ASA",
            "SSAB AB",
            "Stora Enso Oyj",
            "UPM-Kymmene Oyj",
            "Yara International ASA"
           ],
           "ids": [
            "Norsk Hydro ASA",
            "SSAB AB",
            "Stora Enso Oyj",
            "UPM-Kymmene Oyj",
            "Yara International ASA"
           ],
           "legendgroup": "Basic Materials",
           "marker": {
            "color": "#636efa",
            "size": [
             14030.96365,
             6227.00438,
             8553,
             8580,
             10349.10714
            ],
            "sizemode": "area",
            "sizeref": 39.78026802777777,
            "symbol": "circle"
           },
           "mode": "markers+text",
           "name": "Basic Materials",
           "orientation": "h",
           "showlegend": true,
           "text": [
            "",
            "",
            "",
            "",
            ""
           ],
           "type": "scatter",
           "x": [
            0.5840128514910344,
            0.5995657948440783,
            0.556382494613034,
            0.6737131577899563,
            0.611444065351629
           ],
           "xaxis": "x",
           "y": [
            "Basic Materials",
            "Basic Materials",
            "Basic Materials",
            "Basic Materials",
            "Basic Materials"
           ],
           "yaxis": "y"
          },
          {
           "customdata": [
            [
             "Electrolux AB"
            ],
            [
             "Essity AB"
            ],
            [
             "Hennes & Mauritz AB, H & M"
            ],
            [
             "ICA Gruppen AB"
            ]
           ],
           "hovertemplate": "<b>%{hovertext}</b><br><br>industry=%{y}<br>year=2020<br>overall_score_raw=%{x}<br>revenue_MEUR=%{marker.size}<br>company_label=%{text}<extra></extra>",
           "hovertext": [
            "Electrolux AB",
            "Essity AB",
            "Hennes & Mauritz AB, H & M",
            "ICA Gruppen AB"
           ],
           "ids": [
            "Electrolux AB",
            "Essity AB",
            "Hennes & Mauritz AB, H & M",
            "ICA Gruppen AB"
           ],
           "legendgroup": "Consumer Goods and Services",
           "marker": {
            "color": "#EF553B",
            "size": [
             11041.70634,
             11593.22034,
             17809.08398,
             12024.66197
            ],
            "sizemode": "area",
            "sizeref": 39.78026802777777,
            "symbol": "circle"
           },
           "mode": "markers+text",
           "name": "Consumer Goods and Services",
           "orientation": "h",
           "showlegend": true,
           "text": [
            "",
            "",
            "",
            ""
           ],
           "type": "scatter",
           "x": [
            0.5600663697785705,
            0.5810347281123419,
            0.5447095621488006,
            0.581921759589449
           ],
           "xaxis": "x",
           "y": [
            "Consumer Goods and Services",
            "Consumer Goods and Services",
            "Consumer Goods and Services",
            "Consumer Goods and Services"
           ],
           "yaxis": "y"
          },
          {
           "customdata": [
            [
             "Equinor ASA (formerly Statoil ASA)"
            ],
            [
             "Fortum Oyj"
            ],
            [
             "Neste Oyj"
            ],
            [
             "Vestas Wind Systems A/S"
            ],
            [
             "Ørsted A/S"
            ]
           ],
           "hovertemplate": "<b>%{hovertext}</b><br><br>industry=%{y}<br>year=2020<br>overall_score_raw=%{x}<br>revenue_MEUR=%{marker.size}<br>company_label=%{text}<extra></extra>",
           "hovertext": [
            "Equinor ASA (formerly Statoil ASA)",
            "Fortum Oyj",
            "Neste Oyj",
            "Vestas Wind Systems A/S",
            "Ørsted A/S"
           ],
           "ids": [
            "Equinor ASA (formerly Statoil ASA)",
            "Fortum Oyj",
            "Neste Oyj",
            "Vestas Wind Systems A/S",
            "Ørsted A/S"
           ],
           "legendgroup": "Energy and Utilities",
           "marker": {
            "color": "#00cc96",
            "size": [
             40850.89286,
             49015,
             11751,
             14819,
             7041.633199
            ],
            "sizemode": "area",
            "sizeref": 39.78026802777777,
            "symbol": "circle"
           },
           "mode": "markers+text",
           "name": "Energy and Utilities",
           "orientation": "h",
           "showlegend": true,
           "text": [
            "",
            "",
            "",
            "",
            ""
           ],
           "type": "scatter",
           "x": [
            0.5620650174585453,
            0.6737131577899563,
            0.6737131577899563,
            0.6642092061453213,
            0.6303831016052815
           ],
           "xaxis": "x",
           "y": [
            "Energy and Utilities",
            "Energy and Utilities",
            "Energy and Utilities",
            "Energy and Utilities",
            "Energy and Utilities"
           ],
           "yaxis": "y"
          },
          {
           "customdata": [
            [
             "DNB Bank ASA"
            ],
            [
             "Danske Bank A/S"
            ],
            [
             "Nordea Bank Oyj"
            ],
            [
             "Sampo"
            ],
            [
             "Skandinaviska Enskilda Banken AB"
            ]
           ],
           "hovertemplate": "<b>%{hovertext}</b><br><br>industry=%{y}<br>year=2020<br>overall_score_raw=%{x}<br>revenue_MEUR=%{marker.size}<br>company_label=%{text}<extra></extra>",
           "hovertext": [
            "DNB Bank ASA",
            "Danske Bank A/S",
            "Nordea Bank Oyj",
            "Sampo",
            "Skandinaviska Enskilda Banken AB"
           ],
           "ids": [
            "DNB Bank ASA",
            "Danske Bank A/S",
            "Nordea Bank Oyj",
            "Sampo",
            "Skandinaviska Enskilda Banken AB"
           ],
           "legendgroup": "Finance",
           "marker": {
            "color": "#ab63fa",
            "size": [
             5617.342896,
             5695.41,
             15073,
             9913,
             4734.050657
            ],
            "sizemode": "area",
            "sizeref": 39.78026802777777,
            "symbol": "circle"
           },
           "mode": "markers+text",
           "name": "Finance",
           "orientation": "h",
           "showlegend": true,
           "text": [
            "",
            "",
            "",
            "",
            ""
           ],
           "type": "scatter",
           "x": [
            0.5782996542453791,
            0.6165802229992803,
            0.5782996542453791,
            0.5643035269184702,
            0.59327946748279
           ],
           "xaxis": "x",
           "y": [
            "Finance",
            "Finance",
            "Finance",
            "Finance",
            "Finance"
           ],
           "yaxis": "y"
          },
          {
           "customdata": [
            [
             "AstraZeneca PLC"
            ],
            [
             "Coloplast A/S"
            ],
            [
             "Getinge AB"
            ],
            [
             "H. Lundbeck A/S"
            ],
            [
             "Novo Nordisk A/S"
            ]
           ],
           "hovertemplate": "<b>%{hovertext}</b><br><br>industry=%{y}<br>year=2020<br>overall_score_raw=%{x}<br>revenue_MEUR=%{marker.size}<br>company_label=%{text}<extra></extra>",
           "hovertext": [
            "AstraZeneca PLC",
            "Coloplast A/S",
            "Getinge AB",
            "H. Lundbeck A/S",
            "Novo Nordisk A/S"
           ],
           "ids": [
            "AstraZeneca PLC",
            "Coloplast A/S",
            "Getinge AB",
            "H. Lundbeck A/S",
            "Novo Nordisk A/S"
           ],
           "legendgroup": "Health Care",
           "marker": {
            "color": "#FFA15A",
            "size": [
             23765.17857,
             2482.463186,
             2839.363931,
             2365.729585,
             16994.10977
            ],
            "sizemode": "area",
            "sizeref": 39.78026802777777,
            "symbol": "circle"
           },
           "mode": "markers+text",
           "name": "Health Care",
           "orientation": "h",
           "showlegend": true,
           "text": [
            "",
            "",
            "",
            "",
            ""
           ],
           "type": "scatter",
           "x": [
            0.5801716948424064,
            0.6178082816309302,
            0.5092419561798751,
            0.4686701901728605,
            0.4469017713082728
           ],
           "xaxis": "x",
           "y": [
            "Health Care",
            "Health Care",
            "Health Care",
            "Health Care",
            "Health Care"
           ],
           "yaxis": "y"
          },
          {
           "customdata": [
            [
             "A.P. Møller -Maersk A/S"
            ],
            [
             "ABB Ltd"
            ],
            [
             "DSV A/S (formerly: DSV Panalpina A/S)"
            ],
            [
             "Skanska AB"
            ],
            [
             "Volvo AB"
            ]
           ],
           "hovertemplate": "<b>%{hovertext}</b><br><br>industry=%{y}<br>year=2020<br>overall_score_raw=%{x}<br>revenue_MEUR=%{marker.size}<br>company_label=%{text}<extra></extra>",
           "hovertext": [
            "A.P. Møller -Maersk A/S",
            "ABB Ltd",
            "DSV A/S (formerly: DSV Panalpina A/S)",
            "Skanska AB",
            "Volvo AB"
           ],
           "ids": [
            "A.P. Møller -Maersk A/S",
            "ABB Ltd",
            "DSV A/S (formerly: DSV Panalpina A/S)",
            "Skanska AB",
            "Volvo AB"
           ],
           "legendgroup": "Industrial Goods and Services",
           "marker": {
            "color": "#19d3f3",
            "size": [
             35482.14286,
             23333.92857,
             15519.67871,
             13376.78537,
             32226.81394
            ],
            "sizemode": "area",
            "sizeref": 39.78026802777777,
            "symbol": "circle"
           },
           "mode": "markers+text",
           "name": "Industrial Goods and Services",
           "orientation": "h",
           "showlegend": true,
           "text": [
            "",
            "",
            "",
            "",
            ""
           ],
           "type": "scatter",
           "x": [
            0.6148301582522376,
            0.6178082816309302,
            0.5196526671511217,
            0.585732241837933,
            0.554894966643695
           ],
           "xaxis": "x",
           "y": [
            "Industrial Goods and Services",
            "Industrial Goods and Services",
            "Industrial Goods and Services",
            "Industrial Goods and Services",
            "Industrial Goods and Services"
           ],
           "yaxis": "y"
          },
          {
           "customdata": [
            [
             "Millicom International Cellular SA"
            ],
            [
             "Royal Caribbean Group (formerly: Royal Caribbean Cruises Ltd)"
            ],
            [
             "Tele2 AB"
            ],
            [
             "Telenor ASA"
            ],
            [
             "Telia Company AB"
            ]
           ],
           "hovertemplate": "<b>%{hovertext}</b><br><br>industry=%{y}<br>year=2020<br>overall_score_raw=%{x}<br>revenue_MEUR=%{marker.size}<br>company_label=%{text}<extra></extra>",
           "hovertext": [
            "Millicom International Cellular SA",
            "Royal Caribbean Group (formerly: Royal Caribbean Cruises Ltd)",
            "Tele2 AB",
            "Telenor ASA",
            "Telia Company AB"
           ],
           "ids": [
            "Millicom International Cellular SA",
            "Royal Caribbean Group (formerly: Royal Caribbean Cruises Ltd)",
            "Tele2 AB",
            "Telenor ASA",
            "Telia Company AB"
           ],
           "legendgroup": "Other",
           "marker": {
            "color": "#FF6692",
            "size": [
             3724.107143,
             553.3883929,
             2528.470767,
             9799,
             8492.763283
            ],
            "sizemode": "area",
            "sizeref": 39.78026802777777,
            "symbol": "circle"
           },
           "mode": "markers+text",
           "name": "Other",
           "orientation": "h",
           "showlegend": true,
           "text": [
            "",
            "",
            "",
            "",
            ""
           ],
           "type": "scatter",
           "x": [
            0.5519061372978933,
            0.15668333228879985,
            0.5337722138291984,
            0.5432454910736895,
            0.5080336253977297
           ],
           "xaxis": "x",
           "y": [
            "Other",
            "Other",
            "Other",
            "Other",
            "Other"
           ],
           "yaxis": "y"
          },
          {
           "customdata": [
            [
             "Atea ASA"
            ],
            [
             "Ericsson, Telefonab. L M"
            ],
            [
             "Hexagon AB"
            ],
            [
             "Nokia Oyj"
            ],
            [
             "TietoEVRY Oyj"
            ]
           ],
           "hovertemplate": "<b>%{hovertext}</b><br><br>industry=%{y}<br>year=2020<br>overall_score_raw=%{x}<br>revenue_MEUR=%{marker.size}<br>company_label=%{text}<extra></extra>",
           "hovertext": [
            "Atea ASA",
            "Ericsson, Telefonab. L M",
            "Hexagon AB",
            "Nokia Oyj",
            "TietoEVRY Oyj"
           ],
           "ids": [
            "Atea ASA",
            "Ericsson, Telefonab. L M",
            "Hexagon AB",
            "Nokia Oyj",
            "TietoEVRY Oyj"
           ],
           "legendgroup": "Technology",
           "marker": {
            "color": "#B6E880",
            "size": [
             4012.982791,
             22238.71643,
             3764.4,
             21852,
             2786.4
            ],
            "sizemode": "area",
            "sizeref": 39.78026802777777,
            "symbol": "circle"
           },
           "mode": "markers+text",
           "name": "Technology",
           "orientation": "h",
           "showlegend": true,
           "text": [
            "",
            "",
            "",
            "",
            ""
           ],
           "type": "scatter",
           "x": [
            0.5213362105519697,
            0.6486562627922774,
            0.6321331663523242,
            0.6642092061453213,
            0.601285185190977
           ],
           "xaxis": "x",
           "y": [
            "Technology",
            "Technology",
            "Technology",
            "Technology",
            "Technology"
           ],
           "yaxis": "y"
          }
         ],
         "name": "2020"
        },
        {
         "data": [
          {
           "customdata": [
            [
             "Norsk Hydro ASA"
            ],
            [
             "SSAB AB"
            ],
            [
             "Stora Enso Oyj"
            ],
            [
             "UPM-Kymmene Oyj"
            ],
            [
             "Yara International ASA"
            ]
           ],
           "hovertemplate": "<b>%{hovertext}</b><br><br>industry=%{y}<br>year=2019<br>overall_score_raw=%{x}<br>revenue_MEUR=%{marker.size}<br>company_label=%{text}<extra></extra>",
           "hovertext": [
            "Norsk Hydro ASA",
            "SSAB AB",
            "Stora Enso Oyj",
            "UPM-Kymmene Oyj",
            "Yara International ASA"
           ],
           "ids": [
            "Norsk Hydro ASA",
            "SSAB AB",
            "Stora Enso Oyj",
            "UPM-Kymmene Oyj",
            "Yara International ASA"
           ],
           "legendgroup": "Basic Materials",
           "marker": {
            "color": "#636efa",
            "size": [
             15214.24653,
             7282.898496,
             10055,
             10238,
             11480.35714
            ],
            "sizemode": "area",
            "sizeref": 39.78026802777777,
            "symbol": "circle"
           },
           "mode": "markers+text",
           "name": "Basic Materials",
           "orientation": "h",
           "showlegend": true,
           "text": [
            "",
            "",
            "",
            "",
            ""
           ],
           "type": "scatter",
           "x": [
            0.6233925011053094,
            0.6004954629453413,
            0.5891624878804871,
            0.5683395301141185,
            0.6693792014210184
           ],
           "xaxis": "x",
           "y": [
            "Basic Materials",
            "Basic Materials",
            "Basic Materials",
            "Basic Materials",
            "Basic Materials"
           ],
           "yaxis": "y"
          },
          {
           "customdata": [
            [
             "Electrolux AB"
            ],
            [
             "Essity AB"
            ],
            [
             "Hennes & Mauritz AB, H & M"
            ],
            [
             "ICA Gruppen AB"
            ]
           ],
           "hovertemplate": "<b>%{hovertext}</b><br><br>industry=%{y}<br>year=2019<br>overall_score_raw=%{x}<br>revenue_MEUR=%{marker.size}<br>company_label=%{text}<extra></extra>",
           "hovertext": [
            "Electrolux AB",
            "Essity AB",
            "Hennes & Mauritz AB, H & M",
            "ICA Gruppen AB"
           ],
           "ids": [
            "Electrolux AB",
            "Essity AB",
            "Hennes & Mauritz AB, H & M",
            "ICA Gruppen AB"
           ],
           "legendgroup": "Consumer Goods and Services",
           "marker": {
            "color": "#EF553B",
            "size": [
             11329.36584,
             12280.9941,
             22162.92135,
             11359.2649
            ],
            "sizemode": "area",
            "sizeref": 39.78026802777777,
            "symbol": "circle"
           },
           "mode": "markers+text",
           "name": "Consumer Goods and Services",
           "orientation": "h",
           "showlegend": true,
           "text": [
            "",
            "",
            "",
            ""
           ],
           "type": "scatter",
           "x": [
            0.5867008504379797,
            0.5476871995339108,
            0.5341005844831832,
            0.5779783862508517
           ],
           "xaxis": "x",
           "y": [
            "Consumer Goods and Services",
            "Consumer Goods and Services",
            "Consumer Goods and Services",
            "Consumer Goods and Services"
           ],
           "yaxis": "y"
          },
          {
           "customdata": [
            [
             "Equinor ASA (formerly Statoil ASA)"
            ],
            [
             "Fortum Oyj"
            ],
            [
             "Neste Oyj"
            ],
            [
             "Vestas Wind Systems A/S"
            ],
            [
             "Ørsted A/S"
            ]
           ],
           "hovertemplate": "<b>%{hovertext}</b><br><br>industry=%{y}<br>year=2019<br>overall_score_raw=%{x}<br>revenue_MEUR=%{marker.size}<br>company_label=%{text}<extra></extra>",
           "hovertext": [
            "Equinor ASA (formerly Statoil ASA)",
            "Fortum Oyj",
            "Neste Oyj",
            "Vestas Wind Systems A/S",
            "Ørsted A/S"
           ],
           "ids": [
            "Equinor ASA (formerly Statoil ASA)",
            "Fortum Oyj",
            "Neste Oyj",
            "Vestas Wind Systems A/S",
            "Ørsted A/S"
           ],
           "legendgroup": "Energy and Utilities",
           "marker": {
            "color": "#00cc96",
            "size": [
             56170.53571,
             5447,
             15840,
             12147,
             9081.927711
            ],
            "sizemode": "area",
            "sizeref": 39.78026802777777,
            "symbol": "circle"
           },
           "mode": "markers+text",
           "name": "Energy and Utilities",
           "orientation": "h",
           "showlegend": true,
           "text": [
            "",
            "",
            "",
            "",
            ""
           ],
           "type": "scatter",
           "x": [
            0.6034446760793568,
            0.6763713917029008,
            0.6599109724704461,
            0.47445021951843763,
            0.5265681963077931
           ],
           "xaxis": "x",
           "y": [
            "Energy and Utilities",
            "Energy and Utilities",
            "Energy and Utilities",
            "Energy and Utilities",
            "Energy and Utilities"
           ],
           "yaxis": "y"
          },
          {
           "customdata": [
            [
             "DNB Bank ASA"
            ],
            [
             "Danske Bank A/S"
            ],
            [
             "Nordea Bank Oyj"
            ],
            [
             "Sampo"
            ],
            [
             "Skandinaviska Enskilda Banken AB"
            ]
           ],
           "hovertemplate": "<b>%{hovertext}</b><br><br>industry=%{y}<br>year=2019<br>overall_score_raw=%{x}<br>revenue_MEUR=%{marker.size}<br>company_label=%{text}<extra></extra>",
           "hovertext": [
            "DNB Bank ASA",
            "Danske Bank A/S",
            "Nordea Bank Oyj",
            "Sampo",
            "Skandinaviska Enskilda Banken AB"
           ],
           "ids": [
            "DNB Bank ASA",
            "Danske Bank A/S",
            "Nordea Bank Oyj",
            "Sampo",
            "Skandinaviska Enskilda Banken AB"
           ],
           "legendgroup": "Finance",
           "marker": {
            "color": "#ab63fa",
            "size": [
             5572.746297,
             6023.21,
             12986,
             8744,
             4773.75738
            ],
            "sizemode": "area",
            "sizeref": 39.78026802777777,
            "symbol": "circle"
           },
           "mode": "markers+text",
           "name": "Finance",
           "orientation": "h",
           "showlegend": true,
           "text": [
            "",
            "",
            "",
            "",
            ""
           ],
           "type": "scatter",
           "x": [
            0.6763713917029008,
            0.6117700431647893,
            0.6022043476876493,
            0.5918188760821277,
            0.5939633827252857
           ],
           "xaxis": "x",
           "y": [
            "Finance",
            "Finance",
            "Finance",
            "Finance",
            "Finance"
           ],
           "yaxis": "y"
          },
          {
           "customdata": [
            [
             "AstraZeneca PLC"
            ],
            [
             "Coloplast A/S"
            ],
            [
             "Getinge AB"
            ],
            [
             "H. Lundbeck A/S"
            ],
            [
             "Novo Nordisk A/S"
            ]
           ],
           "hovertemplate": "<b>%{hovertext}</b><br><br>industry=%{y}<br>year=2019<br>overall_score_raw=%{x}<br>revenue_MEUR=%{marker.size}<br>company_label=%{text}<extra></extra>",
           "hovertext": [
            "AstraZeneca PLC",
            "Coloplast A/S",
            "Getinge AB",
            "H. Lundbeck A/S",
            "Novo Nordisk A/S"
           ],
           "ids": [
            "AstraZeneca PLC",
            "Coloplast A/S",
            "Getinge AB",
            "H. Lundbeck A/S",
            "Novo Nordisk A/S"
           ],
           "legendgroup": "Health Care",
           "marker": {
            "color": "#FFA15A",
            "size": [
             21785.71429,
             2403.886097,
             2528.946867,
             2280.589023,
             16334.80589
            ],
            "sizemode": "area",
            "sizeref": 39.78026802777777,
            "symbol": "circle"
           },
           "mode": "markers+text",
           "name": "Health Care",
           "orientation": "h",
           "showlegend": true,
           "text": [
            "",
            "",
            "",
            "",
            ""
           ],
           "type": "scatter",
           "x": [
            0.5099490597639948,
            0.6027134948360972,
            0.47750364405710616,
            0.6350787619466376,
            0.48970549310163036
           ],
           "xaxis": "x",
           "y": [
            "Health Care",
            "Health Care",
            "Health Care",
            "Health Care",
            "Health Care"
           ],
           "yaxis": "y"
          },
          {
           "customdata": [
            [
             "A.P. Møller -Maersk A/S"
            ],
            [
             "ABB Ltd"
            ],
            [
             "DSV A/S (formerly: DSV Panalpina A/S)"
            ],
            [
             "Skanska AB"
            ],
            [
             "Volvo AB"
            ]
           ],
           "hovertemplate": "<b>%{hovertext}</b><br><br>industry=%{y}<br>year=2019<br>overall_score_raw=%{x}<br>revenue_MEUR=%{marker.size}<br>company_label=%{text}<extra></extra>",
           "hovertext": [
            "A.P. Møller -Maersk A/S",
            "ABB Ltd",
            "DSV A/S (formerly: DSV Panalpina A/S)",
            "Skanska AB",
            "Volvo AB"
           ],
           "ids": [
            "A.P. Møller -Maersk A/S",
            "ABB Ltd",
            "DSV A/S (formerly: DSV Panalpina A/S)",
            "Skanska AB",
            "Volvo AB"
           ],
           "legendgroup": "Industrial Goods and Services",
           "marker": {
            "color": "#19d3f3",
            "size": [
             34723.21429,
             20137.5,
             12677.51004,
             16326.86,
             41133.1175
            ],
            "sizemode": "area",
            "sizeref": 39.78026802777777,
            "symbol": "circle"
           },
           "mode": "markers+text",
           "name": "Industrial Goods and Services",
           "orientation": "h",
           "showlegend": true,
           "text": [
            "",
            "",
            "",
            "",
            ""
           ],
           "type": "scatter",
           "x": [
            0.5982287585559691,
            0.6858396206534731,
            0.5276713788450971,
            0.5779783862508517,
            0.6303846913871919
           ],
           "xaxis": "x",
           "y": [
            "Industrial Goods and Services",
            "Industrial Goods and Services",
            "Industrial Goods and Services",
            "Industrial Goods and Services",
            "Industrial Goods and Services"
           ],
           "yaxis": "y"
          },
          {
           "customdata": [
            [
             "Millicom International Cellular SA"
            ],
            [
             "Royal Caribbean Group (formerly: Royal Caribbean Cruises Ltd)"
            ],
            [
             "Tele2 AB"
            ],
            [
             "Telenor ASA"
            ],
            [
             "Telia Company AB"
            ]
           ],
           "hovertemplate": "<b>%{hovertext}</b><br><br>industry=%{y}<br>year=2019<br>overall_score_raw=%{x}<br>revenue_MEUR=%{marker.size}<br>company_label=%{text}<extra></extra>",
           "hovertext": [
            "Millicom International Cellular SA",
            "Royal Caribbean Group (formerly: Royal Caribbean Cruises Ltd)",
            "Tele2 AB",
            "Telenor ASA",
            "Telia Company AB"
           ],
           "ids": [
            "Millicom International Cellular SA",
            "Royal Caribbean Group (formerly: Royal Caribbean Cruises Ltd)",
            "Tele2 AB",
            "Telenor ASA",
            "Telia Company AB"
           ],
           "legendgroup": "Other",
           "marker": {
            "color": "#FF6692",
            "size": [
             3871.428571,
             9777.375893,
             2633.688821,
             9799,
             8185.583698
            ],
            "sizemode": "area",
            "sizeref": 39.78026802777777,
            "symbol": "circle"
           },
           "mode": "markers+text",
           "name": "Other",
           "orientation": "h",
           "showlegend": true,
           "text": [
            "",
            "",
            "",
            "",
            ""
           ],
           "type": "scatter",
           "x": [
            0.5309179742615453,
            0.37399850713365046,
            0.5309179742615453,
            0.5888730050048212,
            0.6439259759960121
           ],
           "xaxis": "x",
           "y": [
            "Other",
            "Other",
            "Other",
            "Other",
            "Other"
           ],
           "yaxis": "y"
          },
          {
           "customdata": [
            [
             "Atea ASA"
            ],
            [
             "Ericsson, Telefonab. L M"
            ],
            [
             "Hexagon AB"
            ],
            [
             "Nokia Oyj"
            ],
            [
             "TietoEVRY Oyj"
            ]
           ],
           "hovertemplate": "<b>%{hovertext}</b><br><br>industry=%{y}<br>year=2019<br>overall_score_raw=%{x}<br>revenue_MEUR=%{marker.size}<br>company_label=%{text}<extra></extra>",
           "hovertext": [
            "Atea ASA",
            "Ericsson, Telefonab. L M",
            "Hexagon AB",
            "Nokia Oyj",
            "TietoEVRY Oyj"
           ],
           "ids": [
            "Atea ASA",
            "Ericsson, Telefonab. L M",
            "Hexagon AB",
            "Nokia Oyj",
            "TietoEVRY Oyj"
           ],
           "legendgroup": "Technology",
           "marker": {
            "color": "#B6E880",
            "size": [
             3723.663626,
             21635.498,
             3907.7,
             23315,
             1734
            ],
            "sizemode": "area",
            "sizeref": 39.78026802777777,
            "symbol": "circle"
           },
           "mode": "markers+text",
           "name": "Technology",
           "orientation": "h",
           "showlegend": true,
           "text": [
            "",
            "",
            "",
            "",
            ""
           ],
           "type": "scatter",
           "x": [
            0.48593279719451965,
            0.609350090284143,
            0.38679402697902626,
            0.6763713917029008,
            0.47876688072843715
           ],
           "xaxis": "x",
           "y": [
            "Technology",
            "Technology",
            "Technology",
            "Technology",
            "Technology"
           ],
           "yaxis": "y"
          }
         ],
         "name": "2019"
        },
        {
         "data": [
          {
           "customdata": [
            [
             "Norsk Hydro ASA"
            ],
            [
             "SSAB AB"
            ],
            [
             "Stora Enso Oyj"
            ],
            [
             "UPM-Kymmene Oyj"
            ],
            [
             "Yara International ASA"
            ]
           ],
           "hovertemplate": "<b>%{hovertext}</b><br><br>industry=%{y}<br>year=2021<br>overall_score_raw=%{x}<br>revenue_MEUR=%{marker.size}<br>company_label=%{text}<extra></extra>",
           "hovertext": [
            "Norsk Hydro ASA",
            "SSAB AB",
            "Stora Enso Oyj",
            "UPM-Kymmene Oyj",
            "Yara International ASA"
           ],
           "ids": [
            "Norsk Hydro ASA",
            "SSAB AB",
            "Stora Enso Oyj",
            "UPM-Kymmene Oyj",
            "Yara International ASA"
           ],
           "legendgroup": "Basic Materials",
           "marker": {
            "color": "#636efa",
            "size": [
             15564.31459,
             9130.737002,
             10164,
             9814,
             14836.60714
            ],
            "sizemode": "area",
            "sizeref": 39.78026802777777,
            "symbol": "circle"
           },
           "mode": "markers+text",
           "name": "Basic Materials",
           "orientation": "h",
           "showlegend": true,
           "text": [
            "",
            "",
            "",
            "",
            ""
           ],
           "type": "scatter",
           "x": [
            0.6540721559259216,
            0.5510494894929965,
            0.6337319946199967,
            0.5565434486941436,
            0.6241254702693192
           ],
           "xaxis": "x",
           "y": [
            "Basic Materials",
            "Basic Materials",
            "Basic Materials",
            "Basic Materials",
            "Basic Materials"
           ],
           "yaxis": "y"
          },
          {
           "customdata": [
            [
             "Electrolux AB"
            ],
            [
             "Essity AB"
            ],
            [
             "Hennes & Mauritz AB, H & M"
            ],
            [
             "ICA Gruppen AB"
            ],
            [
             "Volvo Car AB"
            ]
           ],
           "hovertemplate": "<b>%{hovertext}</b><br><br>industry=%{y}<br>year=2021<br>overall_score_raw=%{x}<br>revenue_MEUR=%{marker.size}<br>company_label=%{text}<extra></extra>",
           "hovertext": [
            "Electrolux AB",
            "Essity AB",
            "Hennes & Mauritz AB, H & M",
            "ICA Gruppen AB",
            "Volvo Car AB"
           ],
           "ids": [
            "Electrolux AB",
            "Essity AB",
            "Hennes & Mauritz AB, H & M",
            "ICA Gruppen AB",
            "Volvo Car AB"
           ],
           "legendgroup": "Consumer Goods and Services",
           "marker": {
            "color": "#EF553B",
            "size": [
             11962.57856,
             11604.17063,
             18945.6294,
             12184.06018,
             26856.31308
            ],
            "sizemode": "area",
            "sizeref": 39.78026802777777,
            "symbol": "circle"
           },
           "mode": "markers+text",
           "name": "Consumer Goods and Services",
           "orientation": "h",
           "showlegend": true,
           "text": [
            "",
            "",
            "",
            "",
            ""
           ],
           "type": "scatter",
           "x": [
            0.6152532004145461,
            0.5996535045297752,
            0.5476139318786731,
            0.6077843219746664,
            0.6540721559259216
           ],
           "xaxis": "x",
           "y": [
            "Consumer Goods and Services",
            "Consumer Goods and Services",
            "Consumer Goods and Services",
            "Consumer Goods and Services",
            "Consumer Goods and Services"
           ],
           "yaxis": "y"
          },
          {
           "customdata": [
            [
             "Equinor ASA (formerly Statoil ASA)"
            ],
            [
             "Fortum Oyj"
            ],
            [
             "Neste Oyj"
            ],
            [
             "Vestas Wind Systems A/S"
            ],
            [
             "Ørsted A/S"
            ]
           ],
           "hovertemplate": "<b>%{hovertext}</b><br><br>industry=%{y}<br>year=2021<br>overall_score_raw=%{x}<br>revenue_MEUR=%{marker.size}<br>company_label=%{text}<extra></extra>",
           "hovertext": [
            "Equinor ASA (formerly Statoil ASA)",
            "Fortum Oyj",
            "Neste Oyj",
            "Vestas Wind Systems A/S",
            "Ørsted A/S"
           ],
           "ids": [
            "Equinor ASA (formerly Statoil ASA)",
            "Fortum Oyj",
            "Neste Oyj",
            "Vestas Wind Systems A/S",
            "Ørsted A/S"
           ],
           "legendgroup": "Energy and Utilities",
           "marker": {
            "color": "#00cc96",
            "size": [
             79235.71429,
             112400,
             15148,
             15587,
             6799.330656
            ],
            "sizemode": "area",
            "sizeref": 39.78026802777777,
            "symbol": "circle"
           },
           "mode": "markers+text",
           "name": "Energy and Utilities",
           "orientation": "h",
           "showlegend": true,
           "text": [
            "",
            "",
            "",
            "",
            ""
           ],
           "type": "scatter",
           "x": [
            0.554126765893835,
            0.6480789843918282,
            0.6636786802765992,
            0.6147539880815999,
            0.6150768851572154
           ],
           "xaxis": "x",
           "y": [
            "Energy and Utilities",
            "Energy and Utilities",
            "Energy and Utilities",
            "Energy and Utilities",
            "Energy and Utilities"
           ],
           "yaxis": "y"
          },
          {
           "customdata": [
            [
             "DNB Bank ASA"
            ],
            [
             "Danske Bank A/S"
            ],
            [
             "Nordea Bank Oyj"
            ],
            [
             "Sampo"
            ],
            [
             "Skandinaviska Enskilda Banken AB"
            ]
           ],
           "hovertemplate": "<b>%{hovertext}</b><br><br>industry=%{y}<br>year=2021<br>overall_score_raw=%{x}<br>revenue_MEUR=%{marker.size}<br>company_label=%{text}<extra></extra>",
           "hovertext": [
            "DNB Bank ASA",
            "Danske Bank A/S",
            "Nordea Bank Oyj",
            "Sampo",
            "Skandinaviska Enskilda Banken AB"
           ],
           "ids": [
            "DNB Bank ASA",
            "Danske Bank A/S",
            "Nordea Bank Oyj",
            "Sampo",
            "Skandinaviska Enskilda Banken AB"
           ],
           "legendgroup": "Finance",
           "marker": {
            "color": "#ab63fa",
            "size": [
             5680.225116,
             7757.69,
             9680,
             13451,
             5200.342792
            ],
            "sizemode": "area",
            "sizeref": 39.78026802777777,
            "symbol": "circle"
           },
           "mode": "markers+text",
           "name": "Finance",
           "orientation": "h",
           "showlegend": true,
           "text": [
            "",
            "",
            "",
            "",
            ""
           ],
           "type": "scatter",
           "x": [
            0.5646622247689235,
            0.6230687223191438,
            0.5437787891332756,
            0.5411419308895317,
            0.5336587911621457
           ],
           "xaxis": "x",
           "y": [
            "Finance",
            "Finance",
            "Finance",
            "Finance",
            "Finance"
           ],
           "yaxis": "y"
          },
          {
           "customdata": [
            [
             "AstraZeneca PLC"
            ],
            [
             "Coloplast A/S"
            ],
            [
             "Getinge AB"
            ],
            [
             "H. Lundbeck A/S"
            ],
            [
             "Novo Nordisk A/S"
            ]
           ],
           "hovertemplate": "<b>%{hovertext}</b><br><br>industry=%{y}<br>year=2021<br>overall_score_raw=%{x}<br>revenue_MEUR=%{marker.size}<br>company_label=%{text}<extra></extra>",
           "hovertext": [
            "AstraZeneca PLC",
            "Coloplast A/S",
            "Getinge AB",
            "H. Lundbeck A/S",
            "Novo Nordisk A/S"
           ],
           "ids": [
            "AstraZeneca PLC",
            "Coloplast A/S",
            "Getinge AB",
            "H. Lundbeck A/S",
            "Novo Nordisk A/S"
           ],
           "legendgroup": "Health Care",
           "marker": {
            "color": "#FFA15A",
            "size": [
             33408.03571,
             2600.535475,
             2575.604647,
             2181.927711,
             18848.72825
            ],
            "sizemode": "area",
            "sizeref": 39.78026802777777,
            "symbol": "circle"
           },
           "mode": "markers+text",
           "name": "Health Care",
           "orientation": "h",
           "showlegend": true,
           "text": [
            "",
            "",
            "",
            "",
            ""
           ],
           "type": "scatter",
           "x": [
            0.5721453644963095,
            0.6085257743845481,
            0.5744669271997599,
            0.6540721559259216,
            0.561606811190913
           ],
           "xaxis": "x",
           "y": [
            "Health Care",
            "Health Care",
            "Health Care",
            "Health Care",
            "Health Care"
           ],
           "yaxis": "y"
          },
          {
           "customdata": [
            [
             "A.P. Møller -Maersk A/S"
            ],
            [
             "ABB Ltd"
            ],
            [
             "DSV A/S (formerly: DSV Panalpina A/S)"
            ],
            [
             "Skanska AB"
            ],
            [
             "Volvo AB"
            ]
           ],
           "hovertemplate": "<b>%{hovertext}</b><br><br>industry=%{y}<br>year=2021<br>overall_score_raw=%{x}<br>revenue_MEUR=%{marker.size}<br>company_label=%{text}<extra></extra>",
           "hovertext": [
            "A.P. Møller -Maersk A/S",
            "ABB Ltd",
            "DSV A/S (formerly: DSV Panalpina A/S)",
            "Skanska AB",
            "Volvo AB"
           ],
           "ids": [
            "A.P. Møller -Maersk A/S",
            "ABB Ltd",
            "DSV A/S (formerly: DSV Panalpina A/S)",
            "Skanska AB",
            "Volvo AB"
           ],
           "legendgroup": "Industrial Goods and Services",
           "marker": {
            "color": "#19d3f3",
            "size": [
             55166.96429,
             25843.75,
             24405.08701,
             13698.81927,
             35442.39193
            ],
            "sizemode": "area",
            "sizeref": 39.78026802777777,
            "symbol": "circle"
           },
           "mode": "markers+text",
           "name": "Industrial Goods and Services",
           "orientation": "h",
           "showlegend": true,
           "text": [
            "",
            "",
            "",
            "",
            ""
           ],
           "type": "scatter",
           "x": [
            0.5946089104255259,
            0.6085257743845481,
            0.5752007780743199,
            0.5291323123238109,
            0.5946089104255259
           ],
           "xaxis": "x",
           "y": [
            "Industrial Goods and Services",
            "Industrial Goods and Services",
            "Industrial Goods and Services",
            "Industrial Goods and Services",
            "Industrial Goods and Services"
           ],
           "yaxis": "y"
          },
          {
           "customdata": [
            [
             "Millicom International Cellular SA"
            ],
            [
             "Royal Caribbean Group (formerly: Royal Caribbean Cruises Ltd)"
            ],
            [
             "Tele2 AB"
            ],
            [
             "Telenor ASA"
            ]
           ],
           "hovertemplate": "<b>%{hovertext}</b><br><br>industry=%{y}<br>year=2021<br>overall_score_raw=%{x}<br>revenue_MEUR=%{marker.size}<br>company_label=%{text}<extra></extra>",
           "hovertext": [
            "Millicom International Cellular SA",
            "Royal Caribbean Group (formerly: Royal Caribbean Cruises Ltd)",
            "Tele2 AB",
            "Telenor ASA"
           ],
           "ids": [
            "Millicom International Cellular SA",
            "Royal Caribbean Group (formerly: Royal Caribbean Cruises Ltd)",
            "Tele2 AB",
            "Telenor ASA"
           ],
           "legendgroup": "Other",
           "marker": {
            "color": "#FF6692",
            "size": [
             4122.321429,
             1367.975893,
             2550.847458,
             9799
            ],
            "sizemode": "area",
            "sizeref": 39.78026802777777,
            "symbol": "circle"
           },
           "mode": "markers+text",
           "name": "Other",
           "orientation": "h",
           "showlegend": true,
           "text": [
            "",
            "",
            "",
            ""
           ],
           "type": "scatter",
           "x": [
            0.37314463676702536,
            0.4295055140729982,
            0.5646622247689235,
            0.43901503476054293
           ],
           "xaxis": "x",
           "y": [
            "Other",
            "Other",
            "Other",
            "Other"
           ],
           "yaxis": "y"
          },
          {
           "customdata": [
            [
             "Atea ASA"
            ],
            [
             "Ericsson, Telefonab. L M"
            ],
            [
             "Hexagon AB"
            ],
            [
             "Nokia Oyj"
            ],
            [
             "TietoEVRY Oyj"
            ]
           ],
           "hovertemplate": "<b>%{hovertext}</b><br><br>industry=%{y}<br>year=2021<br>overall_score_raw=%{x}<br>revenue_MEUR=%{marker.size}<br>company_label=%{text}<extra></extra>",
           "hovertext": [
            "Atea ASA",
            "Ericsson, Telefonab. L M",
            "Hexagon AB",
            "Nokia Oyj",
            "TietoEVRY Oyj"
           ],
           "ids": [
            "Atea ASA",
            "Ericsson, Telefonab. L M",
            "Hexagon AB",
            "Nokia Oyj",
            "TietoEVRY Oyj"
           ],
           "legendgroup": "Technology",
           "marker": {
            "color": "#B6E880",
            "size": [
             4197.159633,
             22120.92935,
             4341.1,
             22202,
             2823.4
            ],
            "sizemode": "area",
            "sizeref": 39.78026802777777,
            "symbol": "circle"
           },
           "mode": "markers+text",
           "name": "Technology",
           "orientation": "h",
           "showlegend": true,
           "text": [
            "",
            "",
            "",
            "",
            ""
           ],
           "type": "scatter",
           "x": [
            0.48508814215651386,
            0.6085257743845481,
            0.38380784179765415,
            0.6384724600411507,
            0.5767808883678885
           ],
           "xaxis": "x",
           "y": [
            "Technology",
            "Technology",
            "Technology",
            "Technology",
            "Technology"
           ],
           "yaxis": "y"
          }
         ],
         "name": "2021"
        },
        {
         "data": [
          {
           "customdata": [
            [
             "Norsk Hydro ASA"
            ],
            [
             "SSAB AB"
            ],
            [
             "Stora Enso Oyj"
            ],
            [
             "UPM-Kymmene Oyj"
            ],
            [
             "Yara International ASA"
            ]
           ],
           "hovertemplate": "<b>%{hovertext}</b><br><br>industry=%{y}<br>year=2022<br>overall_score_raw=%{x}<br>revenue_MEUR=%{marker.size}<br>company_label=%{text}<extra></extra>",
           "hovertext": [
            "Norsk Hydro ASA",
            "SSAB AB",
            "Stora Enso Oyj",
            "UPM-Kymmene Oyj",
            "Yara International ASA"
           ],
           "ids": [
            "Norsk Hydro ASA",
            "SSAB AB",
            "Stora Enso Oyj",
            "UPM-Kymmene Oyj",
            "Yara International ASA"
           ],
           "legendgroup": "Basic Materials",
           "marker": {
            "color": "#636efa",
            "size": [
             20581.71921,
             12111.9612,
             11680,
             11720,
             22839.40171
            ],
            "sizemode": "area",
            "sizeref": 39.78026802777777,
            "symbol": "circle"
           },
           "mode": "markers+text",
           "name": "Basic Materials",
           "orientation": "h",
           "showlegend": true,
           "text": [
            "",
            "",
            "",
            "",
            ""
           ],
           "type": "scatter",
           "x": [
            0.6312451502542598,
            0.5942834764155928,
            0.6312451502542598,
            0.5586188092482678,
            0.5997255031635319
           ],
           "xaxis": "x",
           "y": [
            "Basic Materials",
            "Basic Materials",
            "Basic Materials",
            "Basic Materials",
            "Basic Materials"
           ],
           "yaxis": "y"
          },
          {
           "customdata": [
            [
             "Electrolux AB"
            ],
            [
             "Essity AB"
            ],
            [
             "Hennes & Mauritz AB, H & M"
            ],
            [
             "ICA Gruppen AB"
            ],
            [
             "Volvo Car AB"
            ]
           ],
           "hovertemplate": "<b>%{hovertext}</b><br><br>industry=%{y}<br>year=2022<br>overall_score_raw=%{x}<br>revenue_MEUR=%{marker.size}<br>company_label=%{text}<extra></extra>",
           "hovertext": [
            "Electrolux AB",
            "Essity AB",
            "Hennes & Mauritz AB, H & M",
            "ICA Gruppen AB",
            "Volvo Car AB"
           ],
           "ids": [
            "Electrolux AB",
            "Essity AB",
            "Hennes & Mauritz AB, H & M",
            "ICA Gruppen AB",
            "Volvo Car AB"
           ],
           "legendgroup": "Consumer Goods and Services",
           "marker": {
            "color": "#EF553B",
            "size": [
             12689.12445,
             15617.3,
             21031.22655,
             12818.29236,
             31059.09691
            ],
            "sizemode": "area",
            "sizeref": 39.78026802777777,
            "symbol": "circle"
           },
           "mode": "markers+text",
           "name": "Consumer Goods and Services",
           "orientation": "h",
           "showlegend": true,
           "text": [
            "",
            "",
            "",
            "",
            ""
           ],
           "type": "scatter",
           "x": [
            0.5691014149788628,
            0.565124114910442,
            0.5206181972911991,
            0.47343584432609026,
            0.4400778007592925
           ],
           "xaxis": "x",
           "y": [
            "Consumer Goods and Services",
            "Consumer Goods and Services",
            "Consumer Goods and Services",
            "Consumer Goods and Services",
            "Consumer Goods and Services"
           ],
           "yaxis": "y"
          },
          {
           "customdata": [
            [
             "Equinor ASA (formerly Statoil ASA)"
            ],
            [
             "Fortum Oyj"
            ],
            [
             "Neste Oyj"
            ],
            [
             "Vestas Wind Systems A/S"
            ],
            [
             "Ørsted A/S"
            ]
           ],
           "hovertemplate": "<b>%{hovertext}</b><br><br>industry=%{y}<br>year=2022<br>overall_score_raw=%{x}<br>revenue_MEUR=%{marker.size}<br>company_label=%{text}<extra></extra>",
           "hovertext": [
            "Equinor ASA (formerly Statoil ASA)",
            "Fortum Oyj",
            "Neste Oyj",
            "Vestas Wind Systems A/S",
            "Ørsted A/S"
           ],
           "ids": [
            "Equinor ASA (formerly Statoil ASA)",
            "Fortum Oyj",
            "Neste Oyj",
            "Vestas Wind Systems A/S",
            "Ørsted A/S"
           ],
           "legendgroup": "Energy and Utilities",
           "marker": {
            "color": "#00cc96",
            "size": [
             143208.9649,
             8804,
             25707,
             14486,
             6215.791172
            ],
            "sizemode": "area",
            "sizeref": 39.78026802777777,
            "symbol": "circle"
           },
           "mode": "markers+text",
           "name": "Energy and Utilities",
           "orientation": "h",
           "showlegend": true,
           "text": [
            "",
            "",
            "",
            "",
            ""
           ],
           "type": "scatter",
           "x": [
            0.558755454407585,
            0.6452701484620196,
            0.6312451502542598,
            0.6085095843111156,
            0.602085788749109
           ],
           "xaxis": "x",
           "y": [
            "Energy and Utilities",
            "Energy and Utilities",
            "Energy and Utilities",
            "Energy and Utilities",
            "Energy and Utilities"
           ],
           "yaxis": "y"
          },
          {
           "customdata": [
            [
             "DNB Bank ASA"
            ],
            [
             "Danske Bank A/S"
            ],
            [
             "Nordea Bank Oyj"
            ],
            [
             "Sampo"
            ],
            [
             "Skandinaviska Enskilda Banken AB"
            ]
           ],
           "hovertemplate": "<b>%{hovertext}</b><br><br>industry=%{y}<br>year=2022<br>overall_score_raw=%{x}<br>revenue_MEUR=%{marker.size}<br>company_label=%{text}<extra></extra>",
           "hovertext": [
            "DNB Bank ASA",
            "Danske Bank A/S",
            "Nordea Bank Oyj",
            "Sampo",
            "Skandinaviska Enskilda Banken AB"
           ],
           "ids": [
            "DNB Bank ASA",
            "Danske Bank A/S",
            "Nordea Bank Oyj",
            "Sampo",
            "Skandinaviska Enskilda Banken AB"
           ],
           "legendgroup": "Finance",
           "marker": {
            "color": "#ab63fa",
            "size": [
             4780.350733,
             10655.7,
             9796,
             1863,
             6076.348302
            ],
            "sizemode": "area",
            "sizeref": 39.78026802777777,
            "symbol": "circle"
           },
           "mode": "markers+text",
           "name": "Finance",
           "orientation": "h",
           "showlegend": true,
           "text": [
            "",
            "",
            "",
            "",
            ""
           ],
           "type": "scatter",
           "x": [
            0.5005310782860319,
            0.5005310782860319,
            0.6357507928996707,
            0.5320507253767597,
            0.5957482030951111
           ],
           "xaxis": "x",
           "y": [
            "Finance",
            "Finance",
            "Finance",
            "Finance",
            "Finance"
           ],
           "yaxis": "y"
          },
          {
           "customdata": [
            [
             "AstraZeneca PLC"
            ],
            [
             "Coloplast A/S"
            ],
            [
             "Getinge AB"
            ],
            [
             "H. Lundbeck A/S"
            ],
            [
             "Novo Nordisk A/S"
            ]
           ],
           "hovertemplate": "<b>%{hovertext}</b><br><br>industry=%{y}<br>year=2022<br>overall_score_raw=%{x}<br>revenue_MEUR=%{marker.size}<br>company_label=%{text}<extra></extra>",
           "hovertext": [
            "AstraZeneca PLC",
            "Coloplast A/S",
            "Getinge AB",
            "H. Lundbeck A/S",
            "Novo Nordisk A/S"
           ],
           "ids": [
            "AstraZeneca PLC",
            "Coloplast A/S",
            "Getinge AB",
            "H. Lundbeck A/S",
            "Novo Nordisk A/S"
           ],
           "legendgroup": "Health Care",
           "marker": {
            "color": "#FFA15A",
            "size": [
             42118.70845,
             3034.989603,
             2661.630404,
             2452.563014,
             23785.53303
            ],
            "sizemode": "area",
            "sizeref": 39.78026802777777,
            "symbol": "circle"
           },
           "mode": "markers+text",
           "name": "Health Care",
           "orientation": "h",
           "showlegend": true,
           "text": [
            "",
            "",
            "",
            "",
            ""
           ],
           "type": "scatter",
           "x": [
            0.565325224598205,
            0.6357507928996707,
            0.5029224387204682,
            0.609469186867306,
            0.49369320860931837
           ],
           "xaxis": "x",
           "y": [
            "Health Care",
            "Health Care",
            "Health Care",
            "Health Care",
            "Health Care"
           ],
           "yaxis": "y"
          },
          {
           "customdata": [
            [
             "A.P. Møller -Maersk A/S"
            ],
            [
             "ABB Ltd"
            ],
            [
             "DSV A/S (formerly: DSV Panalpina A/S)"
            ],
            [
             "Skanska AB"
            ]
           ],
           "hovertemplate": "<b>%{hovertext}</b><br><br>industry=%{y}<br>year=2022<br>overall_score_raw=%{x}<br>revenue_MEUR=%{marker.size}<br>company_label=%{text}<extra></extra>",
           "hovertext": [
            "A.P. Møller -Maersk A/S",
            "ABB Ltd",
            "DSV A/S (formerly: DSV Panalpina A/S)",
            "Skanska AB"
           ],
           "ids": [
            "A.P. Møller -Maersk A/S",
            "ABB Ltd",
            "DSV A/S (formerly: DSV Panalpina A/S)",
            "Skanska AB"
           ],
           "legendgroup": "Industrial Goods and Services",
           "marker": {
            "color": "#19d3f3",
            "size": [
             77425.45109,
             27963.91263,
             31677.25873,
             15350.94301
            ],
            "sizemode": "area",
            "sizeref": 39.78026802777777,
            "symbol": "circle"
           },
           "mode": "markers+text",
           "name": "Industrial Goods and Services",
           "orientation": "h",
           "showlegend": true,
           "text": [
            "",
            "",
            "",
            ""
           ],
           "type": "scatter",
           "x": [
            0.5989902287487667,
            0.6085095843111156,
            0.5356375205160641,
            0.5735491167096968
           ],
           "xaxis": "x",
           "y": [
            "Industrial Goods and Services",
            "Industrial Goods and Services",
            "Industrial Goods and Services",
            "Industrial Goods and Services"
           ],
           "yaxis": "y"
          },
          {
           "customdata": [
            [
             "Millicom International Cellular SA"
            ],
            [
             "Royal Caribbean Group (formerly: Royal Caribbean Cruises Ltd)"
            ],
            [
             "Tele2 AB"
            ],
            [
             "Telenor ASA"
            ]
           ],
           "hovertemplate": "<b>%{hovertext}</b><br><br>industry=%{y}<br>year=2022<br>overall_score_raw=%{x}<br>revenue_MEUR=%{marker.size}<br>company_label=%{text}<extra></extra>",
           "hovertext": [
            "Millicom International Cellular SA",
            "Royal Caribbean Group (formerly: Royal Caribbean Cruises Ltd)",
            "Tele2 AB",
            "Telenor ASA"
           ],
           "ids": [
            "Millicom International Cellular SA",
            "Royal Caribbean Group (formerly: Royal Caribbean Cruises Ltd)",
            "Tele2 AB",
            "Telenor ASA"
           ],
           "legendgroup": "Other",
           "marker": {
            "color": "#FF6692",
            "size": [
             5340.684181,
             8395.187079,
             2643.650047,
             9799
            ],
            "sizemode": "area",
            "sizeref": 39.78026802777777,
            "symbol": "circle"
           },
           "mode": "markers+text",
           "name": "Other",
           "orientation": "h",
           "showlegend": true,
           "text": [
            "",
            "",
            "",
            ""
           ],
           "type": "scatter",
           "x": [
            0.4948442406520471,
            0.44599352604977216,
            0.5171163494249609,
            0.4831361775635102
           ],
           "xaxis": "x",
           "y": [
            "Other",
            "Other",
            "Other",
            "Other"
           ],
           "yaxis": "y"
          },
          {
           "customdata": [
            [
             "Atea ASA"
            ],
            [
             "Ericsson, Telefonab. L M"
            ],
            [
             "Hexagon AB"
            ],
            [
             "Nokia Oyj"
            ],
            [
             "TietoEVRY Oyj"
            ]
           ],
           "hovertemplate": "<b>%{hovertext}</b><br><br>industry=%{y}<br>year=2022<br>overall_score_raw=%{x}<br>revenue_MEUR=%{marker.size}<br>company_label=%{text}<extra></extra>",
           "hovertext": [
            "Atea ASA",
            "Ericsson, Telefonab. L M",
            "Hexagon AB",
            "Nokia Oyj",
            "TietoEVRY Oyj"
           ],
           "ids": [
            "Atea ASA",
            "Ericsson, Telefonab. L M",
            "Hexagon AB",
            "Nokia Oyj",
            "TietoEVRY Oyj"
           ],
           "legendgroup": "Technology",
           "marker": {
            "color": "#B6E880",
            "size": [
             4455.18,
             25494.90455,
             5160,
             24911,
             2928.1
            ],
            "sizemode": "area",
            "sizeref": 39.78026802777777,
            "symbol": "circle"
           },
           "mode": "markers+text",
           "name": "Technology",
           "orientation": "h",
           "showlegend": true,
           "text": [
            "",
            "",
            "",
            "",
            ""
           ],
           "type": "scatter",
           "x": [
            0.557045916842021,
            0.6357507928996707,
            0.4729964473661505,
            0.6060630888175298,
            0.3800078030839437
           ],
           "xaxis": "x",
           "y": [
            "Technology",
            "Technology",
            "Technology",
            "Technology",
            "Technology"
           ],
           "yaxis": "y"
          }
         ],
         "name": "2022"
        }
       ],
       "layout": {
        "height": 700,
        "legend": {
         "itemsizing": "constant",
         "title": {
          "text": "industry"
         },
         "tracegroupgap": 0
        },
        "sliders": [
         {
          "active": 0,
          "currentvalue": {
           "prefix": "year="
          },
          "len": 0.9,
          "pad": {
           "b": 10,
           "t": 60
          },
          "steps": [
           {
            "args": [
             [
              "2020"
             ],
             {
              "frame": {
               "duration": 0,
               "redraw": false
              },
              "fromcurrent": true,
              "mode": "immediate",
              "transition": {
               "duration": 0,
               "easing": "linear"
              }
             }
            ],
            "label": "2020",
            "method": "animate"
           },
           {
            "args": [
             [
              "2019"
             ],
             {
              "frame": {
               "duration": 0,
               "redraw": false
              },
              "fromcurrent": true,
              "mode": "immediate",
              "transition": {
               "duration": 0,
               "easing": "linear"
              }
             }
            ],
            "label": "2019",
            "method": "animate"
           },
           {
            "args": [
             [
              "2021"
             ],
             {
              "frame": {
               "duration": 0,
               "redraw": false
              },
              "fromcurrent": true,
              "mode": "immediate",
              "transition": {
               "duration": 0,
               "easing": "linear"
              }
             }
            ],
            "label": "2021",
            "method": "animate"
           },
           {
            "args": [
             [
              "2022"
             ],
             {
              "frame": {
               "duration": 0,
               "redraw": false
              },
              "fromcurrent": true,
              "mode": "immediate",
              "transition": {
               "duration": 0,
               "easing": "linear"
              }
             }
            ],
            "label": "2022",
            "method": "animate"
           }
          ],
          "x": 0.1,
          "xanchor": "left",
          "y": 0,
          "yanchor": "top"
         }
        ],
        "template": {
         "data": {
          "bar": [
           {
            "error_x": {
             "color": "#2a3f5f"
            },
            "error_y": {
             "color": "#2a3f5f"
            },
            "marker": {
             "line": {
              "color": "white",
              "width": 0.5
             },
             "pattern": {
              "fillmode": "overlay",
              "size": 10,
              "solidity": 0.2
             }
            },
            "type": "bar"
           }
          ],
          "barpolar": [
           {
            "marker": {
             "line": {
              "color": "white",
              "width": 0.5
             },
             "pattern": {
              "fillmode": "overlay",
              "size": 10,
              "solidity": 0.2
             }
            },
            "type": "barpolar"
           }
          ],
          "carpet": [
           {
            "aaxis": {
             "endlinecolor": "#2a3f5f",
             "gridcolor": "#C8D4E3",
             "linecolor": "#C8D4E3",
             "minorgridcolor": "#C8D4E3",
             "startlinecolor": "#2a3f5f"
            },
            "baxis": {
             "endlinecolor": "#2a3f5f",
             "gridcolor": "#C8D4E3",
             "linecolor": "#C8D4E3",
             "minorgridcolor": "#C8D4E3",
             "startlinecolor": "#2a3f5f"
            },
            "type": "carpet"
           }
          ],
          "choropleth": [
           {
            "colorbar": {
             "outlinewidth": 0,
             "ticks": ""
            },
            "type": "choropleth"
           }
          ],
          "contour": [
           {
            "colorbar": {
             "outlinewidth": 0,
             "ticks": ""
            },
            "colorscale": [
             [
              0,
              "#0d0887"
             ],
             [
              0.1111111111111111,
              "#46039f"
             ],
             [
              0.2222222222222222,
              "#7201a8"
             ],
             [
              0.3333333333333333,
              "#9c179e"
             ],
             [
              0.4444444444444444,
              "#bd3786"
             ],
             [
              0.5555555555555556,
              "#d8576b"
             ],
             [
              0.6666666666666666,
              "#ed7953"
             ],
             [
              0.7777777777777778,
              "#fb9f3a"
             ],
             [
              0.8888888888888888,
              "#fdca26"
             ],
             [
              1,
              "#f0f921"
             ]
            ],
            "type": "contour"
           }
          ],
          "contourcarpet": [
           {
            "colorbar": {
             "outlinewidth": 0,
             "ticks": ""
            },
            "type": "contourcarpet"
           }
          ],
          "heatmap": [
           {
            "colorbar": {
             "outlinewidth": 0,
             "ticks": ""
            },
            "colorscale": [
             [
              0,
              "#0d0887"
             ],
             [
              0.1111111111111111,
              "#46039f"
             ],
             [
              0.2222222222222222,
              "#7201a8"
             ],
             [
              0.3333333333333333,
              "#9c179e"
             ],
             [
              0.4444444444444444,
              "#bd3786"
             ],
             [
              0.5555555555555556,
              "#d8576b"
             ],
             [
              0.6666666666666666,
              "#ed7953"
             ],
             [
              0.7777777777777778,
              "#fb9f3a"
             ],
             [
              0.8888888888888888,
              "#fdca26"
             ],
             [
              1,
              "#f0f921"
             ]
            ],
            "type": "heatmap"
           }
          ],
          "heatmapgl": [
           {
            "colorbar": {
             "outlinewidth": 0,
             "ticks": ""
            },
            "colorscale": [
             [
              0,
              "#0d0887"
             ],
             [
              0.1111111111111111,
              "#46039f"
             ],
             [
              0.2222222222222222,
              "#7201a8"
             ],
             [
              0.3333333333333333,
              "#9c179e"
             ],
             [
              0.4444444444444444,
              "#bd3786"
             ],
             [
              0.5555555555555556,
              "#d8576b"
             ],
             [
              0.6666666666666666,
              "#ed7953"
             ],
             [
              0.7777777777777778,
              "#fb9f3a"
             ],
             [
              0.8888888888888888,
              "#fdca26"
             ],
             [
              1,
              "#f0f921"
             ]
            ],
            "type": "heatmapgl"
           }
          ],
          "histogram": [
           {
            "marker": {
             "pattern": {
              "fillmode": "overlay",
              "size": 10,
              "solidity": 0.2
             }
            },
            "type": "histogram"
           }
          ],
          "histogram2d": [
           {
            "colorbar": {
             "outlinewidth": 0,
             "ticks": ""
            },
            "colorscale": [
             [
              0,
              "#0d0887"
             ],
             [
              0.1111111111111111,
              "#46039f"
             ],
             [
              0.2222222222222222,
              "#7201a8"
             ],
             [
              0.3333333333333333,
              "#9c179e"
             ],
             [
              0.4444444444444444,
              "#bd3786"
             ],
             [
              0.5555555555555556,
              "#d8576b"
             ],
             [
              0.6666666666666666,
              "#ed7953"
             ],
             [
              0.7777777777777778,
              "#fb9f3a"
             ],
             [
              0.8888888888888888,
              "#fdca26"
             ],
             [
              1,
              "#f0f921"
             ]
            ],
            "type": "histogram2d"
           }
          ],
          "histogram2dcontour": [
           {
            "colorbar": {
             "outlinewidth": 0,
             "ticks": ""
            },
            "colorscale": [
             [
              0,
              "#0d0887"
             ],
             [
              0.1111111111111111,
              "#46039f"
             ],
             [
              0.2222222222222222,
              "#7201a8"
             ],
             [
              0.3333333333333333,
              "#9c179e"
             ],
             [
              0.4444444444444444,
              "#bd3786"
             ],
             [
              0.5555555555555556,
              "#d8576b"
             ],
             [
              0.6666666666666666,
              "#ed7953"
             ],
             [
              0.7777777777777778,
              "#fb9f3a"
             ],
             [
              0.8888888888888888,
              "#fdca26"
             ],
             [
              1,
              "#f0f921"
             ]
            ],
            "type": "histogram2dcontour"
           }
          ],
          "mesh3d": [
           {
            "colorbar": {
             "outlinewidth": 0,
             "ticks": ""
            },
            "type": "mesh3d"
           }
          ],
          "parcoords": [
           {
            "line": {
             "colorbar": {
              "outlinewidth": 0,
              "ticks": ""
             }
            },
            "type": "parcoords"
           }
          ],
          "pie": [
           {
            "automargin": true,
            "type": "pie"
           }
          ],
          "scatter": [
           {
            "fillpattern": {
             "fillmode": "overlay",
             "size": 10,
             "solidity": 0.2
            },
            "type": "scatter"
           }
          ],
          "scatter3d": [
           {
            "line": {
             "colorbar": {
              "outlinewidth": 0,
              "ticks": ""
             }
            },
            "marker": {
             "colorbar": {
              "outlinewidth": 0,
              "ticks": ""
             }
            },
            "type": "scatter3d"
           }
          ],
          "scattercarpet": [
           {
            "marker": {
             "colorbar": {
              "outlinewidth": 0,
              "ticks": ""
             }
            },
            "type": "scattercarpet"
           }
          ],
          "scattergeo": [
           {
            "marker": {
             "colorbar": {
              "outlinewidth": 0,
              "ticks": ""
             }
            },
            "type": "scattergeo"
           }
          ],
          "scattergl": [
           {
            "marker": {
             "colorbar": {
              "outlinewidth": 0,
              "ticks": ""
             }
            },
            "type": "scattergl"
           }
          ],
          "scattermapbox": [
           {
            "marker": {
             "colorbar": {
              "outlinewidth": 0,
              "ticks": ""
             }
            },
            "type": "scattermapbox"
           }
          ],
          "scatterpolar": [
           {
            "marker": {
             "colorbar": {
              "outlinewidth": 0,
              "ticks": ""
             }
            },
            "type": "scatterpolar"
           }
          ],
          "scatterpolargl": [
           {
            "marker": {
             "colorbar": {
              "outlinewidth": 0,
              "ticks": ""
             }
            },
            "type": "scatterpolargl"
           }
          ],
          "scatterternary": [
           {
            "marker": {
             "colorbar": {
              "outlinewidth": 0,
              "ticks": ""
             }
            },
            "type": "scatterternary"
           }
          ],
          "surface": [
           {
            "colorbar": {
             "outlinewidth": 0,
             "ticks": ""
            },
            "colorscale": [
             [
              0,
              "#0d0887"
             ],
             [
              0.1111111111111111,
              "#46039f"
             ],
             [
              0.2222222222222222,
              "#7201a8"
             ],
             [
              0.3333333333333333,
              "#9c179e"
             ],
             [
              0.4444444444444444,
              "#bd3786"
             ],
             [
              0.5555555555555556,
              "#d8576b"
             ],
             [
              0.6666666666666666,
              "#ed7953"
             ],
             [
              0.7777777777777778,
              "#fb9f3a"
             ],
             [
              0.8888888888888888,
              "#fdca26"
             ],
             [
              1,
              "#f0f921"
             ]
            ],
            "type": "surface"
           }
          ],
          "table": [
           {
            "cells": {
             "fill": {
              "color": "#EBF0F8"
             },
             "line": {
              "color": "white"
             }
            },
            "header": {
             "fill": {
              "color": "#C8D4E3"
             },
             "line": {
              "color": "white"
             }
            },
            "type": "table"
           }
          ]
         },
         "layout": {
          "annotationdefaults": {
           "arrowcolor": "#2a3f5f",
           "arrowhead": 0,
           "arrowwidth": 1
          },
          "autotypenumbers": "strict",
          "coloraxis": {
           "colorbar": {
            "outlinewidth": 0,
            "ticks": ""
           }
          },
          "colorscale": {
           "diverging": [
            [
             0,
             "#8e0152"
            ],
            [
             0.1,
             "#c51b7d"
            ],
            [
             0.2,
             "#de77ae"
            ],
            [
             0.3,
             "#f1b6da"
            ],
            [
             0.4,
             "#fde0ef"
            ],
            [
             0.5,
             "#f7f7f7"
            ],
            [
             0.6,
             "#e6f5d0"
            ],
            [
             0.7,
             "#b8e186"
            ],
            [
             0.8,
             "#7fbc41"
            ],
            [
             0.9,
             "#4d9221"
            ],
            [
             1,
             "#276419"
            ]
           ],
           "sequential": [
            [
             0,
             "#0d0887"
            ],
            [
             0.1111111111111111,
             "#46039f"
            ],
            [
             0.2222222222222222,
             "#7201a8"
            ],
            [
             0.3333333333333333,
             "#9c179e"
            ],
            [
             0.4444444444444444,
             "#bd3786"
            ],
            [
             0.5555555555555556,
             "#d8576b"
            ],
            [
             0.6666666666666666,
             "#ed7953"
            ],
            [
             0.7777777777777778,
             "#fb9f3a"
            ],
            [
             0.8888888888888888,
             "#fdca26"
            ],
            [
             1,
             "#f0f921"
            ]
           ],
           "sequentialminus": [
            [
             0,
             "#0d0887"
            ],
            [
             0.1111111111111111,
             "#46039f"
            ],
            [
             0.2222222222222222,
             "#7201a8"
            ],
            [
             0.3333333333333333,
             "#9c179e"
            ],
            [
             0.4444444444444444,
             "#bd3786"
            ],
            [
             0.5555555555555556,
             "#d8576b"
            ],
            [
             0.6666666666666666,
             "#ed7953"
            ],
            [
             0.7777777777777778,
             "#fb9f3a"
            ],
            [
             0.8888888888888888,
             "#fdca26"
            ],
            [
             1,
             "#f0f921"
            ]
           ]
          },
          "colorway": [
           "#636efa",
           "#EF553B",
           "#00cc96",
           "#ab63fa",
           "#FFA15A",
           "#19d3f3",
           "#FF6692",
           "#B6E880",
           "#FF97FF",
           "#FECB52"
          ],
          "font": {
           "color": "#2a3f5f"
          },
          "geo": {
           "bgcolor": "white",
           "lakecolor": "white",
           "landcolor": "white",
           "showlakes": true,
           "showland": true,
           "subunitcolor": "#C8D4E3"
          },
          "hoverlabel": {
           "align": "left"
          },
          "hovermode": "closest",
          "mapbox": {
           "style": "light"
          },
          "paper_bgcolor": "white",
          "plot_bgcolor": "white",
          "polar": {
           "angularaxis": {
            "gridcolor": "#EBF0F8",
            "linecolor": "#EBF0F8",
            "ticks": ""
           },
           "bgcolor": "white",
           "radialaxis": {
            "gridcolor": "#EBF0F8",
            "linecolor": "#EBF0F8",
            "ticks": ""
           }
          },
          "scene": {
           "xaxis": {
            "backgroundcolor": "white",
            "gridcolor": "#DFE8F3",
            "gridwidth": 2,
            "linecolor": "#EBF0F8",
            "showbackground": true,
            "ticks": "",
            "zerolinecolor": "#EBF0F8"
           },
           "yaxis": {
            "backgroundcolor": "white",
            "gridcolor": "#DFE8F3",
            "gridwidth": 2,
            "linecolor": "#EBF0F8",
            "showbackground": true,
            "ticks": "",
            "zerolinecolor": "#EBF0F8"
           },
           "zaxis": {
            "backgroundcolor": "white",
            "gridcolor": "#DFE8F3",
            "gridwidth": 2,
            "linecolor": "#EBF0F8",
            "showbackground": true,
            "ticks": "",
            "zerolinecolor": "#EBF0F8"
           }
          },
          "shapedefaults": {
           "line": {
            "color": "#2a3f5f"
           }
          },
          "ternary": {
           "aaxis": {
            "gridcolor": "#DFE8F3",
            "linecolor": "#A2B1C6",
            "ticks": ""
           },
           "baxis": {
            "gridcolor": "#DFE8F3",
            "linecolor": "#A2B1C6",
            "ticks": ""
           },
           "bgcolor": "white",
           "caxis": {
            "gridcolor": "#DFE8F3",
            "linecolor": "#A2B1C6",
            "ticks": ""
           }
          },
          "title": {
           "x": 0.05
          },
          "xaxis": {
           "automargin": true,
           "gridcolor": "#EBF0F8",
           "linecolor": "#EBF0F8",
           "ticks": "",
           "title": {
            "standoff": 15
           },
           "zerolinecolor": "#EBF0F8",
           "zerolinewidth": 2
          },
          "yaxis": {
           "automargin": true,
           "gridcolor": "#EBF0F8",
           "linecolor": "#EBF0F8",
           "ticks": "",
           "title": {
            "standoff": 15
           },
           "zerolinecolor": "#EBF0F8",
           "zerolinewidth": 2
          }
         }
        },
        "title": {
         "text": "Top 5 Companies by Revenue Over Time"
        },
        "transition": {
         "duration": 2000
        },
        "updatemenus": [
         {
          "buttons": [
           {
            "args": [
             null,
             {
              "frame": {
               "duration": 500,
               "redraw": false
              },
              "fromcurrent": true,
              "mode": "immediate",
              "transition": {
               "duration": 500,
               "easing": "linear"
              }
             }
            ],
            "label": "&#9654;",
            "method": "animate"
           },
           {
            "args": [
             [
              null
             ],
             {
              "frame": {
               "duration": 0,
               "redraw": false
              },
              "fromcurrent": true,
              "mode": "immediate",
              "transition": {
               "duration": 0,
               "easing": "linear"
              }
             }
            ],
            "label": "&#9724;",
            "method": "animate"
           }
          ],
          "direction": "left",
          "pad": {
           "r": 10,
           "t": 70
          },
          "showactive": false,
          "type": "buttons",
          "x": 0.1,
          "xanchor": "right",
          "y": 0,
          "yanchor": "top"
         }
        ],
        "xaxis": {
         "anchor": "y",
         "domain": [
          0,
          1
         ],
         "title": {
          "text": "overall_score_raw"
         }
        },
        "yaxis": {
         "anchor": "x",
         "categoryarray": [
          "Technology",
          "Other",
          "Industrial Goods and Services",
          "Health Care",
          "Finance",
          "Energy and Utilities",
          "Consumer Goods and Services",
          "Basic Materials"
         ],
         "categoryorder": "array",
         "domain": [
          0,
          1
         ],
         "title": {
          "text": "industry"
         }
        }
       }
      }
     },
     "metadata": {},
     "output_type": "display_data"
    }
   ],
   "source": [
    "animate_top_companies_bubble_chart(\n",
    "    top_companies_df,\n",
    "    x=\"overall_score_raw\",\n",
    "    y=\"industry\",\n",
    "    size=\"revenue_MEUR\",\n",
    "    color=\"industry\",\n",
    "    # label_companies=top_companies_df[\"company\"].unique(),\n",
    "    frame=\"year\",\n",
    "    title=\"Top 5 Companies by Revenue Over Time\",\n",
    ").show()"
   ]
  },
  {
   "cell_type": "markdown",
   "metadata": {},
   "source": [
    "```diff:\n",
    "\n",
    "- Tidy up labels and consider the most appropriate scoring method.\n",
    "- This can be used to show reporting and emissions together later on.\n",
    "- Adjust year to a categorical column with an order\n",
    "\n",
    "- Consider "
   ]
  },
  {
   "cell_type": "markdown",
   "metadata": {},
   "source": [
    "## References"
   ]
  },
  {
   "cell_type": "markdown",
   "metadata": {},
   "source": [
    "European Commission, 2025. Proposal for a Directive of the European Parliament and of the Council amending Directives (EU) 2022/2464 and (EU) 2024/1760 as regards the dates from which Member States are to apply certain corporate sustainability reporting and due diligence requirements. COM(2025) 80 final. Brussels. Available at: https://commission.europa.eu/document/download/0affa9a8-2ac5-46a9-98f8-19205bf61eb5_en?filename=COM_2025_80_EN.pdf (Accessed 27 February 2025)\n",
    "\n",
    "LSEG, 2024. Environmental, Social and Governance Scores from LSEG: October 2024. Available at: https://www.lseg.com/content/dam/data-analytics/en_us/documents/methodology/lseg-esg-scores-methodology.pdf (Accessed: 27 February 2025)"
   ]
  },
  {
   "cell_type": "markdown",
   "metadata": {},
   "source": [
    "## Appendix"
   ]
  },
  {
   "cell_type": "code",
   "execution_count": 137,
   "metadata": {},
   "outputs": [],
   "source": [
    "# top_n_companies(\n",
    "#     cross_sector_scoring_df,\n",
    "#     n_companies=10,\n",
    "#     sort_by=\"overall_rating\",\n",
    "#     industry=\"Energy and Utilities\",\n",
    "#     year=2021,\n",
    "# )"
   ]
  },
  {
   "cell_type": "markdown",
   "metadata": {},
   "source": [
    "## Plan for sector-specific environmental scoring calculation:\n",
    "\n",
    "1) Calculate the mean value for each parameter for a given industry (use overall, rather than year, so that there can be some comparison between years).\n",
    "2) Compare that to the sum of mean values for each parameter for a given industry (e.g. mean_env_policy + mean_ghg_emis_bool).\n",
    "3) Calculate the value for each parameter for a given company and the associated percentile (e.g. 1 = 0.81111)\n",
    "4) Multiply that percentile value for the company by the magnitude of the column. (This will make sure the most important columns are prioritised)\n",
    "5) Add all the new scores up for the given company. This will give the company a raw_sector_score.\n",
    "6) Now take the sector score for every company in that sector and calculate the percentile. That will give the company's adjusted_sector_score = This can be considered the company's sector-specific E(SG) score.\n",
    "--The advantage of this is that you can compare scores within a sector across years. But then we have a problem when we add another year. Should we use the base year of 2019 as the calculator? But things might have become more prioritised in recent years. So maybe best to stick with overall.\n",
    "\n",
    "## Plan for overall environmental scoring calculation:\n",
    "\n",
    "1) Calculate the mean value for each industry for a given parameter (use overall). Ignore magnitude.\n",
    "2) This will give you the transparency weighting. The more companies fill in this metric, the more transparent it is.\n",
    "3) Calculate the transparency of each metric relative to the total: this will give you the weighting of each metric.\n",
    "4) For each company/year, calculate their overall percentile for each metric.\n",
    "5) Multiply each percentile by the weighting of the metric it applies to. Sum  all of the values.\n",
    "6) This will give the company's raw_overall_score.\n",
    "7) Now calculate the percentile for each company relative to others in the same year (or maybe overall). This will give the company's adjusted_overall_score \n",
    "\n",
    "\n",
    "^^This score will give the company its reporting score. In the next section, calculate its emission score.\n",
    "For the overall score, maybe consider doing a 66:33 split for emissions:reporting.\n",
    "^^ Is it even necessary to do an overall score if I'm using this for business leads/identifying potential businesses to target?\n",
    "\n",
    "\n",
    "\n"
   ]
  },
  {
   "cell_type": "code",
   "execution_count": 138,
   "metadata": {},
   "outputs": [],
   "source": [
    "# # 2. Create 'consecutive_years_esg_data' by checking consecutive years starting from 2022\n",
    "# def calculate_consecutive_years(group):\n",
    "#     # Create a set of years for the current 'comp_name'\n",
    "#     years = set(group[\"year\"])\n",
    "#     # Start from 2022 and count consecutive years backwards\n",
    "#     count = 0\n",
    "#     for year in range(2022, 2019, -1):  # Checking years 2022, 2021, 2020, ...\n",
    "#         if year in years:\n",
    "#             count += 1\n",
    "#         else:\n",
    "#             break  # Stop if any year is missing in the consecutive sequence\n",
    "\n",
    "#     return count\n",
    "\n",
    "\n",
    "# # Apply the function to each group of 'comp_name'\n",
    "# df[\"consecutive_years_esg_data\"] = (\n",
    "#     df.groupby(\"comp_name\")\n",
    "#     .apply(calculate_consecutive_years)\n",
    "#     .reset_index(level=0, drop=True)\n",
    "# )"
   ]
  },
  {
   "cell_type": "markdown",
   "metadata": {},
   "source": [
    "Metrics change from base year"
   ]
  },
  {
   "cell_type": "code",
   "execution_count": 139,
   "metadata": {},
   "outputs": [],
   "source": [
    "# reporting_df = reporting_df.merge(\n",
    "#     reporting_df.loc[\n",
    "#         reporting_df[\"year\"] == reporting_df[\"base_year\"],\n",
    "#         [\"company\", \"metrics_reported\"],\n",
    "#     ],\n",
    "#     on=\"company\",\n",
    "#     how=\"left\",\n",
    "#     suffixes=(\"\", \"_base_year\"),\n",
    "# )\n",
    "\n",
    "# # Compute the change from base year\n",
    "# reporting_df[\"metrics_change_from_base_year\"] = (\n",
    "#     reporting_df[\"metrics_reported\"] - reporting_df[\"metrics_reported_base_year\"]\n",
    "# )\n",
    "\n",
    "# reporting_df.loc[\n",
    "#     reporting_df[\"year\"] == reporting_df[\"base_year\"], \"metrics_change_from_base_year\"\n",
    "# ] = float(\"nan\")\n",
    "\n",
    "# reporting_df.drop(\"metrics_reported_base_year\", axis=1, inplace=True)"
   ]
  },
  {
   "cell_type": "markdown",
   "metadata": {},
   "source": [
    "```diff\n",
    "- According to the CSRD, a first set of European Sustainability Reporting Standards (ESRS) were adopted in 2023, which were sector-agnostic, so they were to be applied regardless of the sector in which the company operates. Sector-specific reporting standards were expected to be introduced by June 2026, but at the time of writing, February 2025, it is likely that this requirement will be shelved (see European Commission, 2025).\n",
    "\n",
    "- I apply the ESG scoring system used by the London Stock Exchange Group (LSEG, 2024), and calculate sector-specific scores..."
   ]
  },
  {
   "cell_type": "code",
   "execution_count": 140,
   "metadata": {},
   "outputs": [],
   "source": [
    "# shows all unique values for each column\n",
    "\n",
    "# pd.set_option(\"display.max_colwidth\", 180)\n",
    "\n",
    "\n",
    "# # Create a DataFrame with unique values for each column\n",
    "\n",
    "# unique_values_df = pd.DataFrame(\n",
    "\n",
    "#     {\n",
    "\n",
    "#         \"columns\": reporting_df.columns,\n",
    "\n",
    "#         \"unique_values\": [\n",
    "\n",
    "#             reporting_df[col].unique().tolist() for col in reporting_df.columns\n",
    "\n",
    "#         ],\n",
    "\n",
    "#     }\n",
    "\n",
    "# ).set_index(\"columns\")\n",
    "\n",
    "\n",
    "# unique_values_df"
   ]
  },
  {
   "cell_type": "code",
   "execution_count": 141,
   "metadata": {},
   "outputs": [],
   "source": [
    "# folder_path = r\"C:\\Users\\james\\OneDrive - University of Aberdeen\\01 - Turing College\\D99 - Capstone Project\\Nordic Compass - ESG Performance and CSRD Compliance\\datasets\"\n",
    "\n",
    "# industry_weights_df.to_csv(f\"{folder_path}/industry_weights_df.csv\", index=True)\n",
    "# industry_means_all_years_df.to_csv(f\"{folder_path}/industry_means_df.csv\", index=True)"
   ]
  },
  {
   "cell_type": "code",
   "execution_count": 142,
   "metadata": {},
   "outputs": [],
   "source": [
    "# Test to see that the function works...\n",
    "\n",
    "# calc_test_df = reporting_df[\n",
    "#     (reporting_df[\"industry\"] == \"Energy and Utilities\")\n",
    "#     & (reporting_df[\"year\"] == 2020)\n",
    "# ]\n",
    "\n",
    "# calc_test_df\n",
    "\n",
    "# folder_path = r\"C:\\Users\\james\\OneDrive - University of Aberdeen\\01 - Turing College\\D99 - Capstone Project\\Nordic Compass - ESG Performance and CSRD Compliance\\datasets\"\n",
    "\n",
    "# calc_test_df.to_csv(f\"{folder_path}/test_of_scoring_system.csv\", index=False)"
   ]
  },
  {
   "cell_type": "markdown",
   "metadata": {},
   "source": [
    "```diff\n",
    "- Pillar score: A score for each pillar (within Environmental, Social and Governance). This can change from industry to industry--e.g. the environmental pillar might be worth more in the energy industry than another industry..\n",
    "\n",
    "TRBC group is used as the benchmark.\n",
    "\n",
    "Materiality matrix created in the form of category weights.\n",
    "\n",
    "7% transparency threshold (I guess that means mean is higher than 0.07)\n",
    "Then use industry median (and add all medians up, then take the relative weighting of each)\n",
    "\n",
    "For Boolean data points, use transparency weights (same principle, but using magnitude weight)\n",
    "\n"
   ]
  },
  {
   "cell_type": "markdown",
   "metadata": {},
   "source": [
    "```diff: \n",
    "\n",
    "## To do:\n",
    "\n",
    "- Emphasise that this can be used to target new customers--you can immediately see which companies have missing X, Y and Z as part of their gap analysis...\n",
    "- You can see which data companies find it hardest to collect, etc...\n",
    "\n",
    "- Show those companies/number of companies that have migrated from one ranking to the next from year to year. (Use the example of a credit scorecard as inspiration)\n",
    "- Consider grouping them\n",
    "- Coverage rating vs. Ranking -- give them a ranking relative to their competitors, and a coverage rating based on the number of metrics they are successfully reporting.\n",
    "\n",
    "The question of materiality, or in other words, the relative weight, is determined based on the disclosure of\n",
    "relative level in that industry group. The disclosure percentage for each industry group to which the data point\n",
    "is material is identified, and decile ranks are assigned. The decile rank determines the relative weight assigned\n",
    "to that data point in determining the industry weight – from 1 to 10\n",
    "\n",
    "#### Summary columns\n",
    "\n",
    "Declarations per year\n",
    "\n",
    "--check which industry has the highest % of missing values\n",
    "\n",
    "Percentage of companies in each industry that have their sustainability work audited\n",
    "\n",
    "Create 'gap analysis: total missing metrics (coverage of metrics)'\n",
    "\n",
    "Carbon intensive industries = Energy, Materials/Basic Materials, Industrials, Utilities\n",
    "\n",
    "Create a summary_df to make it easier to query individual companies\n",
    "\n",
    "Add some sort of unit tests to show that the results of each df are correct--for example, that the weighted magnitudes all = 1\n",
    "\n",
    "It is debatable whether the external audit should be included in the weighting. That should be as important for any, so should discount any score...\n",
    "\n",
    "Consider how to deal with this using the scoring columns.\n",
    "\n",
    "-\tUse an animation to show the average scores for each group over time—use the animation from this video: https://youtu.be/GGL6U0k8WYA?si=9Yckk-Ig9egp8HOA&t=4697"
   ]
  },
  {
   "cell_type": "markdown",
   "metadata": {},
   "source": [
    "# END"
   ]
  }
 ],
 "metadata": {
  "kernelspec": {
   "display_name": "Python 3",
   "language": "python",
   "name": "python3"
  },
  "language_info": {
   "codemirror_mode": {
    "name": "ipython",
    "version": 3
   },
   "file_extension": ".py",
   "mimetype": "text/x-python",
   "name": "python",
   "nbconvert_exporter": "python",
   "pygments_lexer": "ipython3",
   "version": "3.12.10"
  }
 },
 "nbformat": 4,
 "nbformat_minor": 2
}
