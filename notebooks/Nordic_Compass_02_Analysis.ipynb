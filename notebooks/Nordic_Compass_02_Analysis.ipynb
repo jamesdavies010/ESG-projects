{
 "cells": [
  {
   "cell_type": "markdown",
   "metadata": {},
   "source": [
    "<center><span style=\"font-size:30px; font-weight: bold;\">Nordic Compass Database</span></center>\n",
    "<center><span style=\"font-size:24px;\">Analysis of ESG Performance and CSRD Compliance</span></center>"
   ]
  },
  {
   "cell_type": "markdown",
   "metadata": {},
   "source": [
    "<center><span style=\"font-size:22px;\"><b>Section 2:</b> Gap analysis </span></center>"
   ]
  },
  {
   "cell_type": "markdown",
   "metadata": {},
   "source": [
    "## Introduction to this section"
   ]
  },
  {
   "cell_type": "markdown",
   "metadata": {},
   "source": [
    "## Imports"
   ]
  },
  {
   "cell_type": "code",
   "execution_count": 155,
   "metadata": {},
   "outputs": [],
   "source": [
    "import pandas as pd\n",
    "import numpy as np\n",
    "import sys\n",
    "import os\n",
    "\n",
    "pd.set_option(\"display.max_columns\", None)\n",
    "sys.path.append(os.path.abspath(\"..\"))\n",
    "import random\n",
    "\n",
    "from functions import (\n",
    "    test_company,\n",
    ")"
   ]
  },
  {
   "cell_type": "markdown",
   "metadata": {},
   "source": [
    "# Reporting: Gap analysis"
   ]
  },
  {
   "cell_type": "code",
   "execution_count": 156,
   "metadata": {},
   "outputs": [],
   "source": [
    "reporting_df = pd.read_csv(\"../datasets/reporting_df_original.csv\")"
   ]
  },
  {
   "cell_type": "code",
   "execution_count": 157,
   "metadata": {},
   "outputs": [],
   "source": [
    "reporting_df[\"year\"] = pd.to_datetime(reporting_df[\"year\"], format=\"%Y\").dt.year"
   ]
  },
  {
   "cell_type": "code",
   "execution_count": 158,
   "metadata": {},
   "outputs": [
    {
     "data": {
      "text/html": [
       "<div>\n",
       "<style scoped>\n",
       "    .dataframe tbody tr th:only-of-type {\n",
       "        vertical-align: middle;\n",
       "    }\n",
       "\n",
       "    .dataframe tbody tr th {\n",
       "        vertical-align: top;\n",
       "    }\n",
       "\n",
       "    .dataframe thead th {\n",
       "        text-align: right;\n",
       "    }\n",
       "</style>\n",
       "<table border=\"1\" class=\"dataframe\">\n",
       "  <thead>\n",
       "    <tr style=\"text-align: right;\">\n",
       "      <th></th>\n",
       "      <th>company</th>\n",
       "      <th>ticker</th>\n",
       "      <th>year</th>\n",
       "      <th>segment</th>\n",
       "      <th>industry</th>\n",
       "      <th>hq_country</th>\n",
       "      <th>external_audit_of_ESG_report</th>\n",
       "      <th>years_esg_data</th>\n",
       "      <th>base_year</th>\n",
       "      <th>ceo_sust_statem</th>\n",
       "      <th>environmental_policy_and_assessment</th>\n",
       "      <th>environmental_performance_targets</th>\n",
       "      <th>reduced_environmental_impact</th>\n",
       "      <th>increased_renewable_energy</th>\n",
       "      <th>disclosure_of_raw_material_use</th>\n",
       "      <th>resource_efficiency_target</th>\n",
       "      <th>disclosure_of_water_discharges</th>\n",
       "      <th>supplier_guidelines</th>\n",
       "      <th>disclosure_of_suppliers_audited</th>\n",
       "      <th>disclosure_of_supplier_evaluation_procedures</th>\n",
       "      <th>supplier_environmental_assessment</th>\n",
       "      <th>energy_consump_bool</th>\n",
       "      <th>water_withdraw_bool</th>\n",
       "      <th>ghg_emis_bool</th>\n",
       "      <th>transport_emis_bool</th>\n",
       "    </tr>\n",
       "  </thead>\n",
       "  <tbody>\n",
       "    <tr>\n",
       "      <th>0</th>\n",
       "      <td>Archer Ltd.</td>\n",
       "      <td>ARCHO</td>\n",
       "      <td>2020</td>\n",
       "      <td>Mid</td>\n",
       "      <td>Energy</td>\n",
       "      <td>Norway</td>\n",
       "      <td>1</td>\n",
       "      <td>1</td>\n",
       "      <td>2020</td>\n",
       "      <td>1</td>\n",
       "      <td>1</td>\n",
       "      <td>1</td>\n",
       "      <td>1</td>\n",
       "      <td>0</td>\n",
       "      <td>0</td>\n",
       "      <td>1</td>\n",
       "      <td>0</td>\n",
       "      <td>1</td>\n",
       "      <td>1</td>\n",
       "      <td>0</td>\n",
       "      <td>0</td>\n",
       "      <td>1</td>\n",
       "      <td>0</td>\n",
       "      <td>0</td>\n",
       "      <td>0</td>\n",
       "    </tr>\n",
       "    <tr>\n",
       "      <th>1</th>\n",
       "      <td>AutoStore Holdings Ltd.</td>\n",
       "      <td>AUTO</td>\n",
       "      <td>2021</td>\n",
       "      <td>Large</td>\n",
       "      <td>Industrial Goods and Services</td>\n",
       "      <td>Bermuda</td>\n",
       "      <td>0</td>\n",
       "      <td>1</td>\n",
       "      <td>2021</td>\n",
       "      <td>1</td>\n",
       "      <td>1</td>\n",
       "      <td>0</td>\n",
       "      <td>1</td>\n",
       "      <td>0</td>\n",
       "      <td>1</td>\n",
       "      <td>0</td>\n",
       "      <td>0</td>\n",
       "      <td>1</td>\n",
       "      <td>0</td>\n",
       "      <td>1</td>\n",
       "      <td>0</td>\n",
       "      <td>0</td>\n",
       "      <td>0</td>\n",
       "      <td>1</td>\n",
       "      <td>1</td>\n",
       "    </tr>\n",
       "    <tr>\n",
       "      <th>2</th>\n",
       "      <td>Avance Gas Holding ltd</td>\n",
       "      <td>AGAS</td>\n",
       "      <td>2019</td>\n",
       "      <td>Mid</td>\n",
       "      <td>Energy</td>\n",
       "      <td>Norway</td>\n",
       "      <td>0</td>\n",
       "      <td>2</td>\n",
       "      <td>2019</td>\n",
       "      <td>1</td>\n",
       "      <td>1</td>\n",
       "      <td>1</td>\n",
       "      <td>1</td>\n",
       "      <td>0</td>\n",
       "      <td>0</td>\n",
       "      <td>0</td>\n",
       "      <td>0</td>\n",
       "      <td>0</td>\n",
       "      <td>0</td>\n",
       "      <td>0</td>\n",
       "      <td>0</td>\n",
       "      <td>0</td>\n",
       "      <td>0</td>\n",
       "      <td>0</td>\n",
       "      <td>0</td>\n",
       "    </tr>\n",
       "    <tr>\n",
       "      <th>3</th>\n",
       "      <td>Avance Gas Holding ltd</td>\n",
       "      <td>AGAS</td>\n",
       "      <td>2020</td>\n",
       "      <td>Mid</td>\n",
       "      <td>Energy</td>\n",
       "      <td>Norway</td>\n",
       "      <td>1</td>\n",
       "      <td>2</td>\n",
       "      <td>2019</td>\n",
       "      <td>1</td>\n",
       "      <td>1</td>\n",
       "      <td>1</td>\n",
       "      <td>1</td>\n",
       "      <td>0</td>\n",
       "      <td>0</td>\n",
       "      <td>1</td>\n",
       "      <td>0</td>\n",
       "      <td>1</td>\n",
       "      <td>0</td>\n",
       "      <td>0</td>\n",
       "      <td>0</td>\n",
       "      <td>1</td>\n",
       "      <td>0</td>\n",
       "      <td>0</td>\n",
       "      <td>0</td>\n",
       "    </tr>\n",
       "    <tr>\n",
       "      <th>4</th>\n",
       "      <td>Borr Drilling Ltd</td>\n",
       "      <td>BDRILL</td>\n",
       "      <td>2019</td>\n",
       "      <td>Mid</td>\n",
       "      <td>Energy</td>\n",
       "      <td>Bermuda</td>\n",
       "      <td>0</td>\n",
       "      <td>4</td>\n",
       "      <td>2019</td>\n",
       "      <td>0</td>\n",
       "      <td>1</td>\n",
       "      <td>0</td>\n",
       "      <td>1</td>\n",
       "      <td>0</td>\n",
       "      <td>0</td>\n",
       "      <td>1</td>\n",
       "      <td>0</td>\n",
       "      <td>1</td>\n",
       "      <td>0</td>\n",
       "      <td>0</td>\n",
       "      <td>0</td>\n",
       "      <td>1</td>\n",
       "      <td>0</td>\n",
       "      <td>1</td>\n",
       "      <td>1</td>\n",
       "    </tr>\n",
       "  </tbody>\n",
       "</table>\n",
       "</div>"
      ],
      "text/plain": [
       "                   company  ticker  year segment  \\\n",
       "0              Archer Ltd.   ARCHO  2020     Mid   \n",
       "1  AutoStore Holdings Ltd.    AUTO  2021   Large   \n",
       "2   Avance Gas Holding ltd    AGAS  2019     Mid   \n",
       "3   Avance Gas Holding ltd    AGAS  2020     Mid   \n",
       "4        Borr Drilling Ltd  BDRILL  2019     Mid   \n",
       "\n",
       "                        industry hq_country  external_audit_of_ESG_report  \\\n",
       "0                         Energy     Norway                             1   \n",
       "1  Industrial Goods and Services    Bermuda                             0   \n",
       "2                         Energy     Norway                             0   \n",
       "3                         Energy     Norway                             1   \n",
       "4                         Energy    Bermuda                             0   \n",
       "\n",
       "   years_esg_data  base_year  ceo_sust_statem  \\\n",
       "0               1       2020                1   \n",
       "1               1       2021                1   \n",
       "2               2       2019                1   \n",
       "3               2       2019                1   \n",
       "4               4       2019                0   \n",
       "\n",
       "   environmental_policy_and_assessment  environmental_performance_targets  \\\n",
       "0                                    1                                  1   \n",
       "1                                    1                                  0   \n",
       "2                                    1                                  1   \n",
       "3                                    1                                  1   \n",
       "4                                    1                                  0   \n",
       "\n",
       "   reduced_environmental_impact  increased_renewable_energy  \\\n",
       "0                             1                           0   \n",
       "1                             1                           0   \n",
       "2                             1                           0   \n",
       "3                             1                           0   \n",
       "4                             1                           0   \n",
       "\n",
       "   disclosure_of_raw_material_use  resource_efficiency_target  \\\n",
       "0                               0                           1   \n",
       "1                               1                           0   \n",
       "2                               0                           0   \n",
       "3                               0                           1   \n",
       "4                               0                           1   \n",
       "\n",
       "   disclosure_of_water_discharges  supplier_guidelines  \\\n",
       "0                               0                    1   \n",
       "1                               0                    1   \n",
       "2                               0                    0   \n",
       "3                               0                    1   \n",
       "4                               0                    1   \n",
       "\n",
       "   disclosure_of_suppliers_audited  \\\n",
       "0                                1   \n",
       "1                                0   \n",
       "2                                0   \n",
       "3                                0   \n",
       "4                                0   \n",
       "\n",
       "   disclosure_of_supplier_evaluation_procedures  \\\n",
       "0                                             0   \n",
       "1                                             1   \n",
       "2                                             0   \n",
       "3                                             0   \n",
       "4                                             0   \n",
       "\n",
       "   supplier_environmental_assessment  energy_consump_bool  \\\n",
       "0                                  0                    1   \n",
       "1                                  0                    0   \n",
       "2                                  0                    0   \n",
       "3                                  0                    1   \n",
       "4                                  0                    1   \n",
       "\n",
       "   water_withdraw_bool  ghg_emis_bool  transport_emis_bool  \n",
       "0                    0              0                    0  \n",
       "1                    0              1                    1  \n",
       "2                    0              0                    0  \n",
       "3                    0              0                    0  \n",
       "4                    0              1                    1  "
      ]
     },
     "execution_count": 158,
     "metadata": {},
     "output_type": "execute_result"
    }
   ],
   "source": [
    "reporting_df.head()"
   ]
  },
  {
   "cell_type": "code",
   "execution_count": 159,
   "metadata": {},
   "outputs": [
    {
     "data": {
      "text/plain": [
       "Index(['company', 'ticker', 'year', 'segment', 'industry', 'hq_country',\n",
       "       'external_audit_of_ESG_report', 'years_esg_data', 'base_year',\n",
       "       'ceo_sust_statem', 'environmental_policy_and_assessment',\n",
       "       'environmental_performance_targets', 'reduced_environmental_impact',\n",
       "       'increased_renewable_energy', 'disclosure_of_raw_material_use',\n",
       "       'resource_efficiency_target', 'disclosure_of_water_discharges',\n",
       "       'supplier_guidelines', 'disclosure_of_suppliers_audited',\n",
       "       'disclosure_of_supplier_evaluation_procedures',\n",
       "       'supplier_environmental_assessment', 'energy_consump_bool',\n",
       "       'water_withdraw_bool', 'ghg_emis_bool', 'transport_emis_bool'],\n",
       "      dtype='object')"
      ]
     },
     "execution_count": 159,
     "metadata": {},
     "output_type": "execute_result"
    }
   ],
   "source": [
    "reporting_df.columns"
   ]
  },
  {
   "cell_type": "markdown",
   "metadata": {},
   "source": [
    "# HERE"
   ]
  },
  {
   "cell_type": "code",
   "execution_count": 160,
   "metadata": {},
   "outputs": [],
   "source": [
    "import pandas as pd\n",
    "import plotly.graph_objects as go\n",
    "from plotly.subplots import make_subplots\n",
    "\n",
    "# Define discrete columns outside the function for flexibility\n",
    "columns_to_include = [\n",
    "    \"year\",\n",
    "    \"segment\",\n",
    "    \"industry\",\n",
    "    \"hq_country\",\n",
    "    \"years_esg_data\",\n",
    "    \"base_year\",\n",
    "    \"external_audit_of_ESG_report\",\n",
    "    \"ceo_sust_statem\",\n",
    "    \"environmental_policy_and_assessment\",\n",
    "    \"environmental_performance_targets\",\n",
    "    \"reduced_environmental_impact\",\n",
    "    \"increased_renewable_energy\",\n",
    "    \"disclosure_of_raw_material_use\",\n",
    "    \"resource_efficiency_target\",\n",
    "    \"disclosure_of_water_discharges\",\n",
    "    \"supplier_guidelines\",\n",
    "    \"disclosure_of_suppliers_audited\",\n",
    "    \"disclosure_of_supplier_evaluation_procedures\",\n",
    "    \"supplier_environmental_assessment\",\n",
    "    \"energy_consump_bool\",\n",
    "    \"water_withdraw_bool\",\n",
    "    \"ghg_emis_bool\",\n",
    "    \"transport_emis_bool\",\n",
    "]\n",
    "\n",
    "\n",
    "def chart_visualisations(\n",
    "    df: pd.DataFrame,\n",
    "    columns_to_include: list,\n",
    "    legend_column: str = None,\n",
    "    n_cols: int = 3,\n",
    ") -> None:\n",
    "    \"\"\"\n",
    "    Creates a 3-column subplot visualization for discrete columns in the provided DataFrame.\n",
    "\n",
    "    Parameters:\n",
    "    ----------\n",
    "    df : pd.DataFrame\n",
    "        The input DataFrame containing the data to visualize.\n",
    "\n",
    "    columns_to_include : list\n",
    "        A list of discrete columns to visualize.\n",
    "\n",
    "    legend_column : str, optional\n",
    "        The name of the column that differentiates the data groups. If None, no grouping is applied.\n",
    "\n",
    "    n_cols : int, optional\n",
    "        The number of columns in the subplot layout.\n",
    "\n",
    "    Returns:\n",
    "    -------\n",
    "    None\n",
    "        Displays the final Plotly figure inline.\n",
    "    \"\"\"\n",
    "    # Identify relevant columns that exist in df\n",
    "    relevant_columns = [col for col in columns_to_include if col in df.columns]\n",
    "\n",
    "    # Identify integer columns (excluding year and years_esg_data))\n",
    "    int_columns = [\n",
    "        col\n",
    "        for col in relevant_columns\n",
    "        if df[col].dtype == \"int64\" and col not in [\"year\", \"years_esg_data\"]\n",
    "    ]\n",
    "\n",
    "    n_rows = -(-len(relevant_columns) // n_cols)\n",
    "    subplot_titles = [f\"{col}\" for col in relevant_columns]\n",
    "\n",
    "    fig = make_subplots(\n",
    "        rows=n_rows,\n",
    "        cols=n_cols,\n",
    "        subplot_titles=subplot_titles,\n",
    "    )\n",
    "\n",
    "    for idx, col in enumerate(relevant_columns):\n",
    "        row_num = (idx // n_cols) + 1\n",
    "        col_num = (idx % n_cols) + 1\n",
    "\n",
    "        grouped_data = df[col].value_counts().sort_index()\n",
    "\n",
    "        if col in int_columns:\n",
    "            colors = grouped_data.index.map(\n",
    "                lambda x: (\n",
    "                    \"rgb(6,212,124)\"\n",
    "                    if x == 1\n",
    "                    else \"rgb(254,240,205)\" if x == 0 else \"rgb(31, 119, 180)\"\n",
    "                )\n",
    "            )\n",
    "        else:\n",
    "            colors = \"rgb(31, 119, 180)\"  # Default color\n",
    "\n",
    "        fig.add_trace(\n",
    "            go.Bar(\n",
    "                x=grouped_data.index.astype(str),\n",
    "                y=grouped_data.values,\n",
    "                marker=dict(color=colors),\n",
    "                name=f\"{col} Count\",\n",
    "                showlegend=False,\n",
    "            ),\n",
    "            row=row_num,\n",
    "            col=col_num,\n",
    "        )\n",
    "\n",
    "        fig.update_yaxes(title_text=\"Count\", row=row_num, col=col_num, showgrid=False)\n",
    "\n",
    "    # fig.update_annotations(dict(yshift=50))\n",
    "\n",
    "    fig.update_layout(\n",
    "        showlegend=False,\n",
    "        legend_title_text=legend_column,\n",
    "        height=400 * n_rows,\n",
    "        width=1600,\n",
    "        template=\"plotly_white\",\n",
    "    )\n",
    "\n",
    "    return fig"
   ]
  },
  {
   "cell_type": "code",
   "execution_count": 163,
   "metadata": {},
   "outputs": [
    {
     "data": {
      "application/vnd.plotly.v1+json": {
       "config": {
        "plotlyServerURL": "https://plot.ly"
       },
       "data": [
        {
         "marker": {
          "color": "rgb(31, 119, 180)"
         },
         "name": "year Count",
         "showlegend": false,
         "type": "bar",
         "x": [
          "2019",
          "2020",
          "2021",
          "2022"
         ],
         "xaxis": "x",
         "y": [
          486,
          491,
          439,
          422
         ],
         "yaxis": "y"
        },
        {
         "marker": {
          "color": "rgb(31, 119, 180)"
         },
         "name": "segment Count",
         "showlegend": false,
         "type": "bar",
         "x": [
          "Large",
          "Mid",
          "Small"
         ],
         "xaxis": "x2",
         "y": [
          1028,
          800,
          10
         ],
         "yaxis": "y2"
        },
        {
         "marker": {
          "color": "rgb(31, 119, 180)"
         },
         "name": "industry Count",
         "showlegend": false,
         "type": "bar",
         "x": [
          "Basic Materials",
          "Biotechnology",
          "Consumer Goods and Services",
          "Energy",
          "Finance",
          "Health Care",
          "Industrial Goods and Services",
          "Leisure",
          "Media",
          "Real Estate",
          "Retail",
          "Technology",
          "Telecommunications",
          "Travel and Leisure",
          "Unknown",
          "Utilities"
         ],
         "xaxis": "x3",
         "y": [
          88,
          6,
          319,
          120,
          387,
          204,
          441,
          4,
          12,
          28,
          10,
          143,
          39,
          19,
          1,
          17
         ],
         "yaxis": "y3"
        },
        {
         "marker": {
          "color": "rgb(31, 119, 180)"
         },
         "name": "hq_country Count",
         "showlegend": false,
         "type": "bar",
         "x": [
          "Bermuda",
          "Canada",
          "Cayman Islands",
          "Chile",
          "Cyprus",
          "Denmark",
          "Estonia",
          "Faroe Islands",
          "Finland",
          "France",
          "Germany",
          "Iceland",
          "Luxembourg",
          "Malta",
          "Netherlands",
          "Norway",
          "Sweden",
          "Switzerland",
          "United Arab Emirates",
          "United Kingdom",
          "United States",
          "Virgin Islands, British"
         ],
         "xaxis": "x4",
         "y": [
          33,
          19,
          3,
          4,
          4,
          230,
          4,
          8,
          268,
          1,
          1,
          29,
          8,
          10,
          1,
          344,
          820,
          13,
          1,
          19,
          14,
          4
         ],
         "yaxis": "y4"
        },
        {
         "marker": {
          "color": "rgb(31, 119, 180)"
         },
         "name": "years_esg_data Count",
         "showlegend": false,
         "type": "bar",
         "x": [
          "1",
          "2",
          "3",
          "4",
          "5"
         ],
         "xaxis": "x5",
         "y": [
          94,
          158,
          213,
          1368,
          5
         ],
         "yaxis": "y5"
        },
        {
         "marker": {
          "color": [
           "rgb(31, 119, 180)",
           "rgb(31, 119, 180)",
           "rgb(31, 119, 180)",
           "rgb(31, 119, 180)"
          ]
         },
         "name": "base_year Count",
         "showlegend": false,
         "type": "bar",
         "x": [
          "2019",
          "2020",
          "2021",
          "2022"
         ],
         "xaxis": "x6",
         "y": [
          1704,
          49,
          60,
          25
         ],
         "yaxis": "y6"
        },
        {
         "marker": {
          "color": [
           "rgb(254,240,205)",
           "rgb(6,212,124)"
          ]
         },
         "name": "external_audit_of_ESG_report Count",
         "showlegend": false,
         "type": "bar",
         "x": [
          "0",
          "1"
         ],
         "xaxis": "x7",
         "y": [
          1103,
          735
         ],
         "yaxis": "y7"
        },
        {
         "marker": {
          "color": [
           "rgb(254,240,205)",
           "rgb(6,212,124)"
          ]
         },
         "name": "ceo_sust_statem Count",
         "showlegend": false,
         "type": "bar",
         "x": [
          "0",
          "1"
         ],
         "xaxis": "x8",
         "y": [
          780,
          1058
         ],
         "yaxis": "y8"
        },
        {
         "marker": {
          "color": [
           "rgb(254,240,205)",
           "rgb(6,212,124)"
          ]
         },
         "name": "environmental_policy_and_assessment Count",
         "showlegend": false,
         "type": "bar",
         "x": [
          "0",
          "1"
         ],
         "xaxis": "x9",
         "y": [
          168,
          1670
         ],
         "yaxis": "y9"
        },
        {
         "marker": {
          "color": [
           "rgb(254,240,205)",
           "rgb(6,212,124)"
          ]
         },
         "name": "environmental_performance_targets Count",
         "showlegend": false,
         "type": "bar",
         "x": [
          "0",
          "1"
         ],
         "xaxis": "x10",
         "y": [
          384,
          1454
         ],
         "yaxis": "y10"
        },
        {
         "marker": {
          "color": [
           "rgb(254,240,205)",
           "rgb(6,212,124)"
          ]
         },
         "name": "reduced_environmental_impact Count",
         "showlegend": false,
         "type": "bar",
         "x": [
          "0",
          "1"
         ],
         "xaxis": "x11",
         "y": [
          207,
          1631
         ],
         "yaxis": "y11"
        },
        {
         "marker": {
          "color": [
           "rgb(254,240,205)",
           "rgb(6,212,124)"
          ]
         },
         "name": "increased_renewable_energy Count",
         "showlegend": false,
         "type": "bar",
         "x": [
          "0",
          "1"
         ],
         "xaxis": "x12",
         "y": [
          1211,
          627
         ],
         "yaxis": "y12"
        },
        {
         "marker": {
          "color": [
           "rgb(254,240,205)",
           "rgb(6,212,124)"
          ]
         },
         "name": "disclosure_of_raw_material_use Count",
         "showlegend": false,
         "type": "bar",
         "x": [
          "0",
          "1"
         ],
         "xaxis": "x13",
         "y": [
          1551,
          287
         ],
         "yaxis": "y13"
        },
        {
         "marker": {
          "color": [
           "rgb(254,240,205)",
           "rgb(6,212,124)"
          ]
         },
         "name": "resource_efficiency_target Count",
         "showlegend": false,
         "type": "bar",
         "x": [
          "0",
          "1"
         ],
         "xaxis": "x14",
         "y": [
          872,
          966
         ],
         "yaxis": "y14"
        },
        {
         "marker": {
          "color": [
           "rgb(254,240,205)",
           "rgb(6,212,124)"
          ]
         },
         "name": "disclosure_of_water_discharges Count",
         "showlegend": false,
         "type": "bar",
         "x": [
          "0",
          "1"
         ],
         "xaxis": "x15",
         "y": [
          1669,
          169
         ],
         "yaxis": "y15"
        },
        {
         "marker": {
          "color": [
           "rgb(254,240,205)",
           "rgb(6,212,124)"
          ]
         },
         "name": "supplier_guidelines Count",
         "showlegend": false,
         "type": "bar",
         "x": [
          "0",
          "1"
         ],
         "xaxis": "x16",
         "y": [
          346,
          1492
         ],
         "yaxis": "y16"
        },
        {
         "marker": {
          "color": [
           "rgb(254,240,205)",
           "rgb(6,212,124)"
          ]
         },
         "name": "disclosure_of_suppliers_audited Count",
         "showlegend": false,
         "type": "bar",
         "x": [
          "0",
          "1"
         ],
         "xaxis": "x17",
         "y": [
          1197,
          641
         ],
         "yaxis": "y17"
        },
        {
         "marker": {
          "color": [
           "rgb(254,240,205)",
           "rgb(6,212,124)"
          ]
         },
         "name": "disclosure_of_supplier_evaluation_procedures Count",
         "showlegend": false,
         "type": "bar",
         "x": [
          "0",
          "1"
         ],
         "xaxis": "x18",
         "y": [
          1127,
          711
         ],
         "yaxis": "y18"
        },
        {
         "marker": {
          "color": [
           "rgb(254,240,205)",
           "rgb(6,212,124)"
          ]
         },
         "name": "supplier_environmental_assessment Count",
         "showlegend": false,
         "type": "bar",
         "x": [
          "0",
          "1"
         ],
         "xaxis": "x19",
         "y": [
          604,
          1234
         ],
         "yaxis": "y19"
        },
        {
         "marker": {
          "color": [
           "rgb(254,240,205)",
           "rgb(6,212,124)"
          ]
         },
         "name": "energy_consump_bool Count",
         "showlegend": false,
         "type": "bar",
         "x": [
          "0",
          "1"
         ],
         "xaxis": "x20",
         "y": [
          729,
          1109
         ],
         "yaxis": "y20"
        },
        {
         "marker": {
          "color": [
           "rgb(254,240,205)",
           "rgb(6,212,124)"
          ]
         },
         "name": "water_withdraw_bool Count",
         "showlegend": false,
         "type": "bar",
         "x": [
          "0",
          "1"
         ],
         "xaxis": "x21",
         "y": [
          1190,
          648
         ],
         "yaxis": "y21"
        },
        {
         "marker": {
          "color": [
           "rgb(254,240,205)",
           "rgb(6,212,124)"
          ]
         },
         "name": "ghg_emis_bool Count",
         "showlegend": false,
         "type": "bar",
         "x": [
          "0",
          "1"
         ],
         "xaxis": "x22",
         "y": [
          606,
          1232
         ],
         "yaxis": "y22"
        },
        {
         "marker": {
          "color": [
           "rgb(254,240,205)",
           "rgb(6,212,124)"
          ]
         },
         "name": "transport_emis_bool Count",
         "showlegend": false,
         "type": "bar",
         "x": [
          "0",
          "1"
         ],
         "xaxis": "x23",
         "y": [
          892,
          946
         ],
         "yaxis": "y23"
        }
       ],
       "layout": {
        "annotations": [
         {
          "font": {
           "size": 16
          },
          "showarrow": false,
          "text": "year",
          "x": 0.14444444444444446,
          "xanchor": "center",
          "xref": "paper",
          "y": 1,
          "yanchor": "bottom",
          "yref": "paper"
         },
         {
          "font": {
           "size": 16
          },
          "showarrow": false,
          "text": "segment",
          "x": 0.5,
          "xanchor": "center",
          "xref": "paper",
          "y": 1,
          "yanchor": "bottom",
          "yref": "paper"
         },
         {
          "font": {
           "size": 16
          },
          "showarrow": false,
          "text": "industry",
          "x": 0.8555555555555556,
          "xanchor": "center",
          "xref": "paper",
          "y": 1,
          "yanchor": "bottom",
          "yref": "paper"
         },
         {
          "font": {
           "size": 16
          },
          "showarrow": false,
          "text": "hq_country",
          "x": 0.14444444444444446,
          "xanchor": "center",
          "xref": "paper",
          "y": 0.8671875,
          "yanchor": "bottom",
          "yref": "paper"
         },
         {
          "font": {
           "size": 16
          },
          "showarrow": false,
          "text": "years_esg_data",
          "x": 0.5,
          "xanchor": "center",
          "xref": "paper",
          "y": 0.8671875,
          "yanchor": "bottom",
          "yref": "paper"
         },
         {
          "font": {
           "size": 16
          },
          "showarrow": false,
          "text": "base_year",
          "x": 0.8555555555555556,
          "xanchor": "center",
          "xref": "paper",
          "y": 0.8671875,
          "yanchor": "bottom",
          "yref": "paper"
         },
         {
          "font": {
           "size": 16
          },
          "showarrow": false,
          "text": "external_audit_of_ESG_report",
          "x": 0.14444444444444446,
          "xanchor": "center",
          "xref": "paper",
          "y": 0.734375,
          "yanchor": "bottom",
          "yref": "paper"
         },
         {
          "font": {
           "size": 16
          },
          "showarrow": false,
          "text": "ceo_sust_statem",
          "x": 0.5,
          "xanchor": "center",
          "xref": "paper",
          "y": 0.734375,
          "yanchor": "bottom",
          "yref": "paper"
         },
         {
          "font": {
           "size": 16
          },
          "showarrow": false,
          "text": "environmental_policy_and_assessment",
          "x": 0.8555555555555556,
          "xanchor": "center",
          "xref": "paper",
          "y": 0.734375,
          "yanchor": "bottom",
          "yref": "paper"
         },
         {
          "font": {
           "size": 16
          },
          "showarrow": false,
          "text": "environmental_performance_targets",
          "x": 0.14444444444444446,
          "xanchor": "center",
          "xref": "paper",
          "y": 0.6015625,
          "yanchor": "bottom",
          "yref": "paper"
         },
         {
          "font": {
           "size": 16
          },
          "showarrow": false,
          "text": "reduced_environmental_impact",
          "x": 0.5,
          "xanchor": "center",
          "xref": "paper",
          "y": 0.6015625,
          "yanchor": "bottom",
          "yref": "paper"
         },
         {
          "font": {
           "size": 16
          },
          "showarrow": false,
          "text": "increased_renewable_energy",
          "x": 0.8555555555555556,
          "xanchor": "center",
          "xref": "paper",
          "y": 0.6015625,
          "yanchor": "bottom",
          "yref": "paper"
         },
         {
          "font": {
           "size": 16
          },
          "showarrow": false,
          "text": "disclosure_of_raw_material_use",
          "x": 0.14444444444444446,
          "xanchor": "center",
          "xref": "paper",
          "y": 0.46875,
          "yanchor": "bottom",
          "yref": "paper"
         },
         {
          "font": {
           "size": 16
          },
          "showarrow": false,
          "text": "resource_efficiency_target",
          "x": 0.5,
          "xanchor": "center",
          "xref": "paper",
          "y": 0.46875,
          "yanchor": "bottom",
          "yref": "paper"
         },
         {
          "font": {
           "size": 16
          },
          "showarrow": false,
          "text": "disclosure_of_water_discharges",
          "x": 0.8555555555555556,
          "xanchor": "center",
          "xref": "paper",
          "y": 0.46875,
          "yanchor": "bottom",
          "yref": "paper"
         },
         {
          "font": {
           "size": 16
          },
          "showarrow": false,
          "text": "supplier_guidelines",
          "x": 0.14444444444444446,
          "xanchor": "center",
          "xref": "paper",
          "y": 0.3359375,
          "yanchor": "bottom",
          "yref": "paper"
         },
         {
          "font": {
           "size": 16
          },
          "showarrow": false,
          "text": "disclosure_of_suppliers_audited",
          "x": 0.5,
          "xanchor": "center",
          "xref": "paper",
          "y": 0.3359375,
          "yanchor": "bottom",
          "yref": "paper"
         },
         {
          "font": {
           "size": 16
          },
          "showarrow": false,
          "text": "disclosure_of_supplier_evaluation_procedures",
          "x": 0.8555555555555556,
          "xanchor": "center",
          "xref": "paper",
          "y": 0.3359375,
          "yanchor": "bottom",
          "yref": "paper"
         },
         {
          "font": {
           "size": 16
          },
          "showarrow": false,
          "text": "supplier_environmental_assessment",
          "x": 0.14444444444444446,
          "xanchor": "center",
          "xref": "paper",
          "y": 0.203125,
          "yanchor": "bottom",
          "yref": "paper"
         },
         {
          "font": {
           "size": 16
          },
          "showarrow": false,
          "text": "energy_consump_bool",
          "x": 0.5,
          "xanchor": "center",
          "xref": "paper",
          "y": 0.203125,
          "yanchor": "bottom",
          "yref": "paper"
         },
         {
          "font": {
           "size": 16
          },
          "showarrow": false,
          "text": "water_withdraw_bool",
          "x": 0.8555555555555556,
          "xanchor": "center",
          "xref": "paper",
          "y": 0.203125,
          "yanchor": "bottom",
          "yref": "paper"
         },
         {
          "font": {
           "size": 16
          },
          "showarrow": false,
          "text": "ghg_emis_bool",
          "x": 0.14444444444444446,
          "xanchor": "center",
          "xref": "paper",
          "y": 0.0703125,
          "yanchor": "bottom",
          "yref": "paper"
         },
         {
          "font": {
           "size": 16
          },
          "showarrow": false,
          "text": "transport_emis_bool",
          "x": 0.5,
          "xanchor": "center",
          "xref": "paper",
          "y": 0.0703125,
          "yanchor": "bottom",
          "yref": "paper"
         }
        ],
        "height": 3200,
        "showlegend": false,
        "template": {
         "data": {
          "bar": [
           {
            "error_x": {
             "color": "#2a3f5f"
            },
            "error_y": {
             "color": "#2a3f5f"
            },
            "marker": {
             "line": {
              "color": "white",
              "width": 0.5
             },
             "pattern": {
              "fillmode": "overlay",
              "size": 10,
              "solidity": 0.2
             }
            },
            "type": "bar"
           }
          ],
          "barpolar": [
           {
            "marker": {
             "line": {
              "color": "white",
              "width": 0.5
             },
             "pattern": {
              "fillmode": "overlay",
              "size": 10,
              "solidity": 0.2
             }
            },
            "type": "barpolar"
           }
          ],
          "carpet": [
           {
            "aaxis": {
             "endlinecolor": "#2a3f5f",
             "gridcolor": "#C8D4E3",
             "linecolor": "#C8D4E3",
             "minorgridcolor": "#C8D4E3",
             "startlinecolor": "#2a3f5f"
            },
            "baxis": {
             "endlinecolor": "#2a3f5f",
             "gridcolor": "#C8D4E3",
             "linecolor": "#C8D4E3",
             "minorgridcolor": "#C8D4E3",
             "startlinecolor": "#2a3f5f"
            },
            "type": "carpet"
           }
          ],
          "choropleth": [
           {
            "colorbar": {
             "outlinewidth": 0,
             "ticks": ""
            },
            "type": "choropleth"
           }
          ],
          "contour": [
           {
            "colorbar": {
             "outlinewidth": 0,
             "ticks": ""
            },
            "colorscale": [
             [
              0,
              "#0d0887"
             ],
             [
              0.1111111111111111,
              "#46039f"
             ],
             [
              0.2222222222222222,
              "#7201a8"
             ],
             [
              0.3333333333333333,
              "#9c179e"
             ],
             [
              0.4444444444444444,
              "#bd3786"
             ],
             [
              0.5555555555555556,
              "#d8576b"
             ],
             [
              0.6666666666666666,
              "#ed7953"
             ],
             [
              0.7777777777777778,
              "#fb9f3a"
             ],
             [
              0.8888888888888888,
              "#fdca26"
             ],
             [
              1,
              "#f0f921"
             ]
            ],
            "type": "contour"
           }
          ],
          "contourcarpet": [
           {
            "colorbar": {
             "outlinewidth": 0,
             "ticks": ""
            },
            "type": "contourcarpet"
           }
          ],
          "heatmap": [
           {
            "colorbar": {
             "outlinewidth": 0,
             "ticks": ""
            },
            "colorscale": [
             [
              0,
              "#0d0887"
             ],
             [
              0.1111111111111111,
              "#46039f"
             ],
             [
              0.2222222222222222,
              "#7201a8"
             ],
             [
              0.3333333333333333,
              "#9c179e"
             ],
             [
              0.4444444444444444,
              "#bd3786"
             ],
             [
              0.5555555555555556,
              "#d8576b"
             ],
             [
              0.6666666666666666,
              "#ed7953"
             ],
             [
              0.7777777777777778,
              "#fb9f3a"
             ],
             [
              0.8888888888888888,
              "#fdca26"
             ],
             [
              1,
              "#f0f921"
             ]
            ],
            "type": "heatmap"
           }
          ],
          "heatmapgl": [
           {
            "colorbar": {
             "outlinewidth": 0,
             "ticks": ""
            },
            "colorscale": [
             [
              0,
              "#0d0887"
             ],
             [
              0.1111111111111111,
              "#46039f"
             ],
             [
              0.2222222222222222,
              "#7201a8"
             ],
             [
              0.3333333333333333,
              "#9c179e"
             ],
             [
              0.4444444444444444,
              "#bd3786"
             ],
             [
              0.5555555555555556,
              "#d8576b"
             ],
             [
              0.6666666666666666,
              "#ed7953"
             ],
             [
              0.7777777777777778,
              "#fb9f3a"
             ],
             [
              0.8888888888888888,
              "#fdca26"
             ],
             [
              1,
              "#f0f921"
             ]
            ],
            "type": "heatmapgl"
           }
          ],
          "histogram": [
           {
            "marker": {
             "pattern": {
              "fillmode": "overlay",
              "size": 10,
              "solidity": 0.2
             }
            },
            "type": "histogram"
           }
          ],
          "histogram2d": [
           {
            "colorbar": {
             "outlinewidth": 0,
             "ticks": ""
            },
            "colorscale": [
             [
              0,
              "#0d0887"
             ],
             [
              0.1111111111111111,
              "#46039f"
             ],
             [
              0.2222222222222222,
              "#7201a8"
             ],
             [
              0.3333333333333333,
              "#9c179e"
             ],
             [
              0.4444444444444444,
              "#bd3786"
             ],
             [
              0.5555555555555556,
              "#d8576b"
             ],
             [
              0.6666666666666666,
              "#ed7953"
             ],
             [
              0.7777777777777778,
              "#fb9f3a"
             ],
             [
              0.8888888888888888,
              "#fdca26"
             ],
             [
              1,
              "#f0f921"
             ]
            ],
            "type": "histogram2d"
           }
          ],
          "histogram2dcontour": [
           {
            "colorbar": {
             "outlinewidth": 0,
             "ticks": ""
            },
            "colorscale": [
             [
              0,
              "#0d0887"
             ],
             [
              0.1111111111111111,
              "#46039f"
             ],
             [
              0.2222222222222222,
              "#7201a8"
             ],
             [
              0.3333333333333333,
              "#9c179e"
             ],
             [
              0.4444444444444444,
              "#bd3786"
             ],
             [
              0.5555555555555556,
              "#d8576b"
             ],
             [
              0.6666666666666666,
              "#ed7953"
             ],
             [
              0.7777777777777778,
              "#fb9f3a"
             ],
             [
              0.8888888888888888,
              "#fdca26"
             ],
             [
              1,
              "#f0f921"
             ]
            ],
            "type": "histogram2dcontour"
           }
          ],
          "mesh3d": [
           {
            "colorbar": {
             "outlinewidth": 0,
             "ticks": ""
            },
            "type": "mesh3d"
           }
          ],
          "parcoords": [
           {
            "line": {
             "colorbar": {
              "outlinewidth": 0,
              "ticks": ""
             }
            },
            "type": "parcoords"
           }
          ],
          "pie": [
           {
            "automargin": true,
            "type": "pie"
           }
          ],
          "scatter": [
           {
            "fillpattern": {
             "fillmode": "overlay",
             "size": 10,
             "solidity": 0.2
            },
            "type": "scatter"
           }
          ],
          "scatter3d": [
           {
            "line": {
             "colorbar": {
              "outlinewidth": 0,
              "ticks": ""
             }
            },
            "marker": {
             "colorbar": {
              "outlinewidth": 0,
              "ticks": ""
             }
            },
            "type": "scatter3d"
           }
          ],
          "scattercarpet": [
           {
            "marker": {
             "colorbar": {
              "outlinewidth": 0,
              "ticks": ""
             }
            },
            "type": "scattercarpet"
           }
          ],
          "scattergeo": [
           {
            "marker": {
             "colorbar": {
              "outlinewidth": 0,
              "ticks": ""
             }
            },
            "type": "scattergeo"
           }
          ],
          "scattergl": [
           {
            "marker": {
             "colorbar": {
              "outlinewidth": 0,
              "ticks": ""
             }
            },
            "type": "scattergl"
           }
          ],
          "scattermapbox": [
           {
            "marker": {
             "colorbar": {
              "outlinewidth": 0,
              "ticks": ""
             }
            },
            "type": "scattermapbox"
           }
          ],
          "scatterpolar": [
           {
            "marker": {
             "colorbar": {
              "outlinewidth": 0,
              "ticks": ""
             }
            },
            "type": "scatterpolar"
           }
          ],
          "scatterpolargl": [
           {
            "marker": {
             "colorbar": {
              "outlinewidth": 0,
              "ticks": ""
             }
            },
            "type": "scatterpolargl"
           }
          ],
          "scatterternary": [
           {
            "marker": {
             "colorbar": {
              "outlinewidth": 0,
              "ticks": ""
             }
            },
            "type": "scatterternary"
           }
          ],
          "surface": [
           {
            "colorbar": {
             "outlinewidth": 0,
             "ticks": ""
            },
            "colorscale": [
             [
              0,
              "#0d0887"
             ],
             [
              0.1111111111111111,
              "#46039f"
             ],
             [
              0.2222222222222222,
              "#7201a8"
             ],
             [
              0.3333333333333333,
              "#9c179e"
             ],
             [
              0.4444444444444444,
              "#bd3786"
             ],
             [
              0.5555555555555556,
              "#d8576b"
             ],
             [
              0.6666666666666666,
              "#ed7953"
             ],
             [
              0.7777777777777778,
              "#fb9f3a"
             ],
             [
              0.8888888888888888,
              "#fdca26"
             ],
             [
              1,
              "#f0f921"
             ]
            ],
            "type": "surface"
           }
          ],
          "table": [
           {
            "cells": {
             "fill": {
              "color": "#EBF0F8"
             },
             "line": {
              "color": "white"
             }
            },
            "header": {
             "fill": {
              "color": "#C8D4E3"
             },
             "line": {
              "color": "white"
             }
            },
            "type": "table"
           }
          ]
         },
         "layout": {
          "annotationdefaults": {
           "arrowcolor": "#2a3f5f",
           "arrowhead": 0,
           "arrowwidth": 1
          },
          "autotypenumbers": "strict",
          "coloraxis": {
           "colorbar": {
            "outlinewidth": 0,
            "ticks": ""
           }
          },
          "colorscale": {
           "diverging": [
            [
             0,
             "#8e0152"
            ],
            [
             0.1,
             "#c51b7d"
            ],
            [
             0.2,
             "#de77ae"
            ],
            [
             0.3,
             "#f1b6da"
            ],
            [
             0.4,
             "#fde0ef"
            ],
            [
             0.5,
             "#f7f7f7"
            ],
            [
             0.6,
             "#e6f5d0"
            ],
            [
             0.7,
             "#b8e186"
            ],
            [
             0.8,
             "#7fbc41"
            ],
            [
             0.9,
             "#4d9221"
            ],
            [
             1,
             "#276419"
            ]
           ],
           "sequential": [
            [
             0,
             "#0d0887"
            ],
            [
             0.1111111111111111,
             "#46039f"
            ],
            [
             0.2222222222222222,
             "#7201a8"
            ],
            [
             0.3333333333333333,
             "#9c179e"
            ],
            [
             0.4444444444444444,
             "#bd3786"
            ],
            [
             0.5555555555555556,
             "#d8576b"
            ],
            [
             0.6666666666666666,
             "#ed7953"
            ],
            [
             0.7777777777777778,
             "#fb9f3a"
            ],
            [
             0.8888888888888888,
             "#fdca26"
            ],
            [
             1,
             "#f0f921"
            ]
           ],
           "sequentialminus": [
            [
             0,
             "#0d0887"
            ],
            [
             0.1111111111111111,
             "#46039f"
            ],
            [
             0.2222222222222222,
             "#7201a8"
            ],
            [
             0.3333333333333333,
             "#9c179e"
            ],
            [
             0.4444444444444444,
             "#bd3786"
            ],
            [
             0.5555555555555556,
             "#d8576b"
            ],
            [
             0.6666666666666666,
             "#ed7953"
            ],
            [
             0.7777777777777778,
             "#fb9f3a"
            ],
            [
             0.8888888888888888,
             "#fdca26"
            ],
            [
             1,
             "#f0f921"
            ]
           ]
          },
          "colorway": [
           "#636efa",
           "#EF553B",
           "#00cc96",
           "#ab63fa",
           "#FFA15A",
           "#19d3f3",
           "#FF6692",
           "#B6E880",
           "#FF97FF",
           "#FECB52"
          ],
          "font": {
           "color": "#2a3f5f"
          },
          "geo": {
           "bgcolor": "white",
           "lakecolor": "white",
           "landcolor": "white",
           "showlakes": true,
           "showland": true,
           "subunitcolor": "#C8D4E3"
          },
          "hoverlabel": {
           "align": "left"
          },
          "hovermode": "closest",
          "mapbox": {
           "style": "light"
          },
          "paper_bgcolor": "white",
          "plot_bgcolor": "white",
          "polar": {
           "angularaxis": {
            "gridcolor": "#EBF0F8",
            "linecolor": "#EBF0F8",
            "ticks": ""
           },
           "bgcolor": "white",
           "radialaxis": {
            "gridcolor": "#EBF0F8",
            "linecolor": "#EBF0F8",
            "ticks": ""
           }
          },
          "scene": {
           "xaxis": {
            "backgroundcolor": "white",
            "gridcolor": "#DFE8F3",
            "gridwidth": 2,
            "linecolor": "#EBF0F8",
            "showbackground": true,
            "ticks": "",
            "zerolinecolor": "#EBF0F8"
           },
           "yaxis": {
            "backgroundcolor": "white",
            "gridcolor": "#DFE8F3",
            "gridwidth": 2,
            "linecolor": "#EBF0F8",
            "showbackground": true,
            "ticks": "",
            "zerolinecolor": "#EBF0F8"
           },
           "zaxis": {
            "backgroundcolor": "white",
            "gridcolor": "#DFE8F3",
            "gridwidth": 2,
            "linecolor": "#EBF0F8",
            "showbackground": true,
            "ticks": "",
            "zerolinecolor": "#EBF0F8"
           }
          },
          "shapedefaults": {
           "line": {
            "color": "#2a3f5f"
           }
          },
          "ternary": {
           "aaxis": {
            "gridcolor": "#DFE8F3",
            "linecolor": "#A2B1C6",
            "ticks": ""
           },
           "baxis": {
            "gridcolor": "#DFE8F3",
            "linecolor": "#A2B1C6",
            "ticks": ""
           },
           "bgcolor": "white",
           "caxis": {
            "gridcolor": "#DFE8F3",
            "linecolor": "#A2B1C6",
            "ticks": ""
           }
          },
          "title": {
           "x": 0.05
          },
          "xaxis": {
           "automargin": true,
           "gridcolor": "#EBF0F8",
           "linecolor": "#EBF0F8",
           "ticks": "",
           "title": {
            "standoff": 15
           },
           "zerolinecolor": "#EBF0F8",
           "zerolinewidth": 2
          },
          "yaxis": {
           "automargin": true,
           "gridcolor": "#EBF0F8",
           "linecolor": "#EBF0F8",
           "ticks": "",
           "title": {
            "standoff": 15
           },
           "zerolinecolor": "#EBF0F8",
           "zerolinewidth": 2
          }
         }
        },
        "width": 1600,
        "xaxis": {
         "anchor": "y",
         "domain": [
          0,
          0.2888888888888889
         ]
        },
        "xaxis10": {
         "anchor": "y10",
         "domain": [
          0,
          0.2888888888888889
         ]
        },
        "xaxis11": {
         "anchor": "y11",
         "domain": [
          0.35555555555555557,
          0.6444444444444445
         ]
        },
        "xaxis12": {
         "anchor": "y12",
         "domain": [
          0.7111111111111111,
          1
         ]
        },
        "xaxis13": {
         "anchor": "y13",
         "domain": [
          0,
          0.2888888888888889
         ]
        },
        "xaxis14": {
         "anchor": "y14",
         "domain": [
          0.35555555555555557,
          0.6444444444444445
         ]
        },
        "xaxis15": {
         "anchor": "y15",
         "domain": [
          0.7111111111111111,
          1
         ]
        },
        "xaxis16": {
         "anchor": "y16",
         "domain": [
          0,
          0.2888888888888889
         ]
        },
        "xaxis17": {
         "anchor": "y17",
         "domain": [
          0.35555555555555557,
          0.6444444444444445
         ]
        },
        "xaxis18": {
         "anchor": "y18",
         "domain": [
          0.7111111111111111,
          1
         ]
        },
        "xaxis19": {
         "anchor": "y19",
         "domain": [
          0,
          0.2888888888888889
         ]
        },
        "xaxis2": {
         "anchor": "y2",
         "domain": [
          0.35555555555555557,
          0.6444444444444445
         ]
        },
        "xaxis20": {
         "anchor": "y20",
         "domain": [
          0.35555555555555557,
          0.6444444444444445
         ]
        },
        "xaxis21": {
         "anchor": "y21",
         "domain": [
          0.7111111111111111,
          1
         ]
        },
        "xaxis22": {
         "anchor": "y22",
         "domain": [
          0,
          0.2888888888888889
         ]
        },
        "xaxis23": {
         "anchor": "y23",
         "domain": [
          0.35555555555555557,
          0.6444444444444445
         ]
        },
        "xaxis24": {
         "anchor": "y24",
         "domain": [
          0.7111111111111111,
          1
         ]
        },
        "xaxis3": {
         "anchor": "y3",
         "domain": [
          0.7111111111111111,
          1
         ]
        },
        "xaxis4": {
         "anchor": "y4",
         "domain": [
          0,
          0.2888888888888889
         ]
        },
        "xaxis5": {
         "anchor": "y5",
         "domain": [
          0.35555555555555557,
          0.6444444444444445
         ]
        },
        "xaxis6": {
         "anchor": "y6",
         "domain": [
          0.7111111111111111,
          1
         ]
        },
        "xaxis7": {
         "anchor": "y7",
         "domain": [
          0,
          0.2888888888888889
         ]
        },
        "xaxis8": {
         "anchor": "y8",
         "domain": [
          0.35555555555555557,
          0.6444444444444445
         ]
        },
        "xaxis9": {
         "anchor": "y9",
         "domain": [
          0.7111111111111111,
          1
         ]
        },
        "yaxis": {
         "anchor": "x",
         "domain": [
          0.9296875,
          1
         ],
         "showgrid": false,
         "title": {
          "text": "Count"
         }
        },
        "yaxis10": {
         "anchor": "x10",
         "domain": [
          0.53125,
          0.6015625
         ],
         "showgrid": false,
         "title": {
          "text": "Count"
         }
        },
        "yaxis11": {
         "anchor": "x11",
         "domain": [
          0.53125,
          0.6015625
         ],
         "showgrid": false,
         "title": {
          "text": "Count"
         }
        },
        "yaxis12": {
         "anchor": "x12",
         "domain": [
          0.53125,
          0.6015625
         ],
         "showgrid": false,
         "title": {
          "text": "Count"
         }
        },
        "yaxis13": {
         "anchor": "x13",
         "domain": [
          0.3984375,
          0.46875
         ],
         "showgrid": false,
         "title": {
          "text": "Count"
         }
        },
        "yaxis14": {
         "anchor": "x14",
         "domain": [
          0.3984375,
          0.46875
         ],
         "showgrid": false,
         "title": {
          "text": "Count"
         }
        },
        "yaxis15": {
         "anchor": "x15",
         "domain": [
          0.3984375,
          0.46875
         ],
         "showgrid": false,
         "title": {
          "text": "Count"
         }
        },
        "yaxis16": {
         "anchor": "x16",
         "domain": [
          0.265625,
          0.3359375
         ],
         "showgrid": false,
         "title": {
          "text": "Count"
         }
        },
        "yaxis17": {
         "anchor": "x17",
         "domain": [
          0.265625,
          0.3359375
         ],
         "showgrid": false,
         "title": {
          "text": "Count"
         }
        },
        "yaxis18": {
         "anchor": "x18",
         "domain": [
          0.265625,
          0.3359375
         ],
         "showgrid": false,
         "title": {
          "text": "Count"
         }
        },
        "yaxis19": {
         "anchor": "x19",
         "domain": [
          0.1328125,
          0.203125
         ],
         "showgrid": false,
         "title": {
          "text": "Count"
         }
        },
        "yaxis2": {
         "anchor": "x2",
         "domain": [
          0.9296875,
          1
         ],
         "showgrid": false,
         "title": {
          "text": "Count"
         }
        },
        "yaxis20": {
         "anchor": "x20",
         "domain": [
          0.1328125,
          0.203125
         ],
         "showgrid": false,
         "title": {
          "text": "Count"
         }
        },
        "yaxis21": {
         "anchor": "x21",
         "domain": [
          0.1328125,
          0.203125
         ],
         "showgrid": false,
         "title": {
          "text": "Count"
         }
        },
        "yaxis22": {
         "anchor": "x22",
         "domain": [
          0,
          0.0703125
         ],
         "showgrid": false,
         "title": {
          "text": "Count"
         }
        },
        "yaxis23": {
         "anchor": "x23",
         "domain": [
          0,
          0.0703125
         ],
         "showgrid": false,
         "title": {
          "text": "Count"
         }
        },
        "yaxis24": {
         "anchor": "x24",
         "domain": [
          0,
          0.0703125
         ]
        },
        "yaxis3": {
         "anchor": "x3",
         "domain": [
          0.9296875,
          1
         ],
         "showgrid": false,
         "title": {
          "text": "Count"
         }
        },
        "yaxis4": {
         "anchor": "x4",
         "domain": [
          0.796875,
          0.8671875
         ],
         "showgrid": false,
         "title": {
          "text": "Count"
         }
        },
        "yaxis5": {
         "anchor": "x5",
         "domain": [
          0.796875,
          0.8671875
         ],
         "showgrid": false,
         "title": {
          "text": "Count"
         }
        },
        "yaxis6": {
         "anchor": "x6",
         "domain": [
          0.796875,
          0.8671875
         ],
         "showgrid": false,
         "title": {
          "text": "Count"
         }
        },
        "yaxis7": {
         "anchor": "x7",
         "domain": [
          0.6640625,
          0.734375
         ],
         "showgrid": false,
         "title": {
          "text": "Count"
         }
        },
        "yaxis8": {
         "anchor": "x8",
         "domain": [
          0.6640625,
          0.734375
         ],
         "showgrid": false,
         "title": {
          "text": "Count"
         }
        },
        "yaxis9": {
         "anchor": "x9",
         "domain": [
          0.6640625,
          0.734375
         ],
         "showgrid": false,
         "title": {
          "text": "Count"
         }
        }
       }
      }
     },
     "metadata": {},
     "output_type": "display_data"
    }
   ],
   "source": [
    "chart_visualisations(reporting_df, columns_to_include)"
   ]
  },
  {
   "cell_type": "markdown",
   "metadata": {},
   "source": [
    "# Create a new visualisation called parameters_by_year. All are stacked charts with the same colour scheme as above, but year runs along the x-axis of each. For those non-int_columns, have the stacked bar chart as different shades of blue, but for hq_country do a 'Sweden', 'Denmark', 'Norway', 'Finland' and 'Other' group... For industry, just skip it..."
   ]
  },
  {
   "cell_type": "markdown",
   "metadata": {},
   "source": [
    "# To do:\n",
    "\n",
    "Create 'gap analysis: total missing metrics (coverage of metrics)'\n",
    "\n",
    "#### New columns (emissions)\n",
    "\n",
    "\n",
    "Create a column: 'GHG per EUR revenue_ranking_all_companies' - This is binned from 1 to 10 (using quartiles and calculated using only values \n",
    "from the same year)\n",
    "\n",
    "Create a column: 'GHG per EUR revenue_ranking_sector' - This is also binned from 1 to 10 (and calculated using only values from the same year)\n",
    "\n",
    "Calculate the average GHG per EUR revenue as well as IQR--apply the outlier transformation and put all outliers in the '0' bin\n",
    "\n",
    "Create a column: 'GHG per EUR revenue_ranking_all_PY' -- This is to compare to the values from the previous year\n",
    "\n",
    "Create a column: 'GHG per EUR revenue_ranking_sector_PY' -- This is to compare to the values from the previous year\n",
    "\n",
    "Create a column: '% change in GHG per EUR revenue vs PY'\n",
    "\n",
    "Create a column: '% change in GHG emissions vs PY'\n",
    "\n",
    "Create a column: 'transport emissions as a % of total emissions'\n",
    "\n",
    "Create a column: '% change in transport emissions vs PY'\n",
    "\n",
    "Create a column: 'Transport emissions as % of total emissions' (compare to sector)\n",
    "\n",
    "\n",
    "Use the bins only for GHG emissions/EUR--compare values in each bin for all columns...\n",
    "\n",
    "See how bin values vary from year to year\n",
    "\n",
    "Calculate the number of companies that have migrated from bin to bin\n",
    "\n",
    "\n",
    "\n",
    "\n",
    "\n",
    "#### Bonus columns\n",
    "\n",
    "'GHG intensity reduction % vs sector-specific targets'--normalise so make it a % above or below target\n",
    "\n",
    "'GHG intensity reduction % vs others in the sector_CY'--also normalise (and consider whether positive is good or bad)\n",
    "\n",
    "\n",
    "\n",
    "#### Summary columns\n",
    "\n",
    "Summarise results by:\n",
    "\n",
    "- Segment/Industry\n",
    "\n",
    "- HQ country\n",
    "\n",
    "Declarations per year\n",
    "\n",
    "--check which industry has the highest % of missing values\n",
    "\n",
    "Percentage of companies in each industry that have their sustainability work audited"
   ]
  },
  {
   "cell_type": "markdown",
   "metadata": {},
   "source": [
    "## Appendix"
   ]
  },
  {
   "cell_type": "code",
   "execution_count": null,
   "metadata": {},
   "outputs": [],
   "source": [
    "# # 2. Create 'consecutive_years_esg_data' by checking consecutive years starting from 2022\n",
    "# def calculate_consecutive_years(group):\n",
    "#     # Create a set of years for the current 'comp_name'\n",
    "#     years = set(group[\"year\"])\n",
    "#     # Start from 2022 and count consecutive years backwards\n",
    "#     count = 0\n",
    "#     for year in range(2022, 2019, -1):  # Checking years 2022, 2021, 2020, ...\n",
    "#         if year in years:\n",
    "#             count += 1\n",
    "#         else:\n",
    "#             break  # Stop if any year is missing in the consecutive sequence\n",
    "\n",
    "#     return count\n",
    "\n",
    "\n",
    "# # Apply the function to each group of 'comp_name'\n",
    "# df[\"consecutive_years_esg_data\"] = (\n",
    "#     df.groupby(\"comp_name\")\n",
    "#     .apply(calculate_consecutive_years)\n",
    "#     .reset_index(level=0, drop=True)\n",
    "# )"
   ]
  }
 ],
 "metadata": {
  "kernelspec": {
   "display_name": "Python 3",
   "language": "python",
   "name": "python3"
  },
  "language_info": {
   "codemirror_mode": {
    "name": "ipython",
    "version": 3
   },
   "file_extension": ".py",
   "mimetype": "text/x-python",
   "name": "python",
   "nbconvert_exporter": "python",
   "pygments_lexer": "ipython3",
   "version": "3.12.9"
  }
 },
 "nbformat": 4,
 "nbformat_minor": 2
}
