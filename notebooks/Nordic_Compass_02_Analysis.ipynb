{
 "cells": [
  {
   "cell_type": "markdown",
   "metadata": {},
   "source": [
    "- Emphasise that this can be used to target new customers--you can immediately see which companies have missing X, Y and Z as part of their gap analysis...\n",
    "- You can see which data companies find it hardest to collect, etc..."
   ]
  },
  {
   "cell_type": "markdown",
   "metadata": {},
   "source": [
    "<center><span style=\"font-size:30px; font-weight: bold;\">Nordic Compass Database</span></center>\n",
    "<center><span style=\"font-size:24px;\">Analysis of ESG Performance and CSRD Compliance</span></center>"
   ]
  },
  {
   "cell_type": "markdown",
   "metadata": {},
   "source": [
    "<center><span style=\"font-size:22px;\"><b>Section 2:</b> Gap analysis </span></center>"
   ]
  },
  {
   "cell_type": "markdown",
   "metadata": {},
   "source": [
    "## Introduction to this section"
   ]
  },
  {
   "cell_type": "markdown",
   "metadata": {},
   "source": [
    "## Imports"
   ]
  },
  {
   "cell_type": "code",
   "execution_count": 348,
   "metadata": {},
   "outputs": [],
   "source": [
    "import pandas as pd\n",
    "import numpy as np\n",
    "import sys\n",
    "import os\n",
    "\n",
    "pd.set_option(\"display.max_columns\", None)\n",
    "sys.path.append(os.path.abspath(\"..\"))\n",
    "import random\n",
    "\n",
    "from functions import test_company, show_missing_values\n",
    "\n",
    "pd.options.display.float_format = \"{:,.2f}\".format\n",
    "from IPython.display import display"
   ]
  },
  {
   "cell_type": "markdown",
   "metadata": {},
   "source": [
    "# Reporting: Gap analysis"
   ]
  },
  {
   "cell_type": "code",
   "execution_count": 349,
   "metadata": {},
   "outputs": [],
   "source": [
    "reporting_df = pd.read_csv(\"../datasets/reporting_df_original.csv\")"
   ]
  },
  {
   "cell_type": "code",
   "execution_count": 350,
   "metadata": {},
   "outputs": [],
   "source": [
    "reporting_df[\"year\"] = pd.to_datetime(reporting_df[\"year\"], format=\"%Y\").dt.year"
   ]
  },
  {
   "cell_type": "code",
   "execution_count": 351,
   "metadata": {},
   "outputs": [
    {
     "data": {
      "text/html": [
       "<div>\n",
       "<style scoped>\n",
       "    .dataframe tbody tr th:only-of-type {\n",
       "        vertical-align: middle;\n",
       "    }\n",
       "\n",
       "    .dataframe tbody tr th {\n",
       "        vertical-align: top;\n",
       "    }\n",
       "\n",
       "    .dataframe thead th {\n",
       "        text-align: right;\n",
       "    }\n",
       "</style>\n",
       "<table border=\"1\" class=\"dataframe\">\n",
       "  <thead>\n",
       "    <tr style=\"text-align: right;\">\n",
       "      <th></th>\n",
       "      <th>company</th>\n",
       "      <th>ticker</th>\n",
       "      <th>year</th>\n",
       "      <th>segment</th>\n",
       "      <th>industry</th>\n",
       "      <th>hq_country</th>\n",
       "      <th>external_audit_of_ESG_report</th>\n",
       "      <th>years_esg_data</th>\n",
       "      <th>base_year</th>\n",
       "      <th>ceo_sust_statem</th>\n",
       "      <th>environmental_policy_and_assessment</th>\n",
       "      <th>environmental_performance_targets</th>\n",
       "      <th>reduced_environmental_impact</th>\n",
       "      <th>increased_renewable_energy</th>\n",
       "      <th>disclosure_of_raw_material_use</th>\n",
       "      <th>resource_efficiency_target</th>\n",
       "      <th>disclosure_of_water_discharges</th>\n",
       "      <th>supplier_guidelines</th>\n",
       "      <th>disclosure_of_suppliers_audited</th>\n",
       "      <th>disclosure_of_supplier_evaluation_procedures</th>\n",
       "      <th>supplier_environmental_assessment</th>\n",
       "      <th>energy_consump_bool</th>\n",
       "      <th>water_withdraw_bool</th>\n",
       "      <th>ghg_emis_bool</th>\n",
       "      <th>transport_emis_bool</th>\n",
       "    </tr>\n",
       "  </thead>\n",
       "  <tbody>\n",
       "    <tr>\n",
       "      <th>0</th>\n",
       "      <td>Archer Ltd.</td>\n",
       "      <td>ARCHO</td>\n",
       "      <td>2020</td>\n",
       "      <td>Mid</td>\n",
       "      <td>Energy</td>\n",
       "      <td>Norway</td>\n",
       "      <td>1</td>\n",
       "      <td>1</td>\n",
       "      <td>2020</td>\n",
       "      <td>1</td>\n",
       "      <td>1</td>\n",
       "      <td>1</td>\n",
       "      <td>1</td>\n",
       "      <td>0</td>\n",
       "      <td>0</td>\n",
       "      <td>1</td>\n",
       "      <td>0</td>\n",
       "      <td>1</td>\n",
       "      <td>1</td>\n",
       "      <td>0</td>\n",
       "      <td>0</td>\n",
       "      <td>1</td>\n",
       "      <td>0</td>\n",
       "      <td>0</td>\n",
       "      <td>0</td>\n",
       "    </tr>\n",
       "    <tr>\n",
       "      <th>1</th>\n",
       "      <td>AutoStore Holdings Ltd.</td>\n",
       "      <td>AUTO</td>\n",
       "      <td>2021</td>\n",
       "      <td>Large</td>\n",
       "      <td>Industrial Goods and Services</td>\n",
       "      <td>Bermuda</td>\n",
       "      <td>0</td>\n",
       "      <td>1</td>\n",
       "      <td>2021</td>\n",
       "      <td>1</td>\n",
       "      <td>1</td>\n",
       "      <td>0</td>\n",
       "      <td>1</td>\n",
       "      <td>0</td>\n",
       "      <td>1</td>\n",
       "      <td>0</td>\n",
       "      <td>0</td>\n",
       "      <td>1</td>\n",
       "      <td>0</td>\n",
       "      <td>1</td>\n",
       "      <td>0</td>\n",
       "      <td>0</td>\n",
       "      <td>0</td>\n",
       "      <td>1</td>\n",
       "      <td>1</td>\n",
       "    </tr>\n",
       "    <tr>\n",
       "      <th>2</th>\n",
       "      <td>Avance Gas Holding ltd</td>\n",
       "      <td>AGAS</td>\n",
       "      <td>2019</td>\n",
       "      <td>Mid</td>\n",
       "      <td>Energy</td>\n",
       "      <td>Norway</td>\n",
       "      <td>0</td>\n",
       "      <td>2</td>\n",
       "      <td>2019</td>\n",
       "      <td>1</td>\n",
       "      <td>1</td>\n",
       "      <td>1</td>\n",
       "      <td>1</td>\n",
       "      <td>0</td>\n",
       "      <td>0</td>\n",
       "      <td>0</td>\n",
       "      <td>0</td>\n",
       "      <td>0</td>\n",
       "      <td>0</td>\n",
       "      <td>0</td>\n",
       "      <td>0</td>\n",
       "      <td>0</td>\n",
       "      <td>0</td>\n",
       "      <td>0</td>\n",
       "      <td>0</td>\n",
       "    </tr>\n",
       "    <tr>\n",
       "      <th>3</th>\n",
       "      <td>Avance Gas Holding ltd</td>\n",
       "      <td>AGAS</td>\n",
       "      <td>2020</td>\n",
       "      <td>Mid</td>\n",
       "      <td>Energy</td>\n",
       "      <td>Norway</td>\n",
       "      <td>1</td>\n",
       "      <td>2</td>\n",
       "      <td>2019</td>\n",
       "      <td>1</td>\n",
       "      <td>1</td>\n",
       "      <td>1</td>\n",
       "      <td>1</td>\n",
       "      <td>0</td>\n",
       "      <td>0</td>\n",
       "      <td>1</td>\n",
       "      <td>0</td>\n",
       "      <td>1</td>\n",
       "      <td>0</td>\n",
       "      <td>0</td>\n",
       "      <td>0</td>\n",
       "      <td>1</td>\n",
       "      <td>0</td>\n",
       "      <td>0</td>\n",
       "      <td>0</td>\n",
       "    </tr>\n",
       "    <tr>\n",
       "      <th>4</th>\n",
       "      <td>Borr Drilling Ltd</td>\n",
       "      <td>BDRILL</td>\n",
       "      <td>2019</td>\n",
       "      <td>Mid</td>\n",
       "      <td>Energy</td>\n",
       "      <td>Bermuda</td>\n",
       "      <td>0</td>\n",
       "      <td>4</td>\n",
       "      <td>2019</td>\n",
       "      <td>0</td>\n",
       "      <td>1</td>\n",
       "      <td>0</td>\n",
       "      <td>1</td>\n",
       "      <td>0</td>\n",
       "      <td>0</td>\n",
       "      <td>1</td>\n",
       "      <td>0</td>\n",
       "      <td>1</td>\n",
       "      <td>0</td>\n",
       "      <td>0</td>\n",
       "      <td>0</td>\n",
       "      <td>1</td>\n",
       "      <td>0</td>\n",
       "      <td>1</td>\n",
       "      <td>1</td>\n",
       "    </tr>\n",
       "  </tbody>\n",
       "</table>\n",
       "</div>"
      ],
      "text/plain": [
       "                   company  ticker  year segment  \\\n",
       "0              Archer Ltd.   ARCHO  2020     Mid   \n",
       "1  AutoStore Holdings Ltd.    AUTO  2021   Large   \n",
       "2   Avance Gas Holding ltd    AGAS  2019     Mid   \n",
       "3   Avance Gas Holding ltd    AGAS  2020     Mid   \n",
       "4        Borr Drilling Ltd  BDRILL  2019     Mid   \n",
       "\n",
       "                        industry hq_country  external_audit_of_ESG_report  \\\n",
       "0                         Energy     Norway                             1   \n",
       "1  Industrial Goods and Services    Bermuda                             0   \n",
       "2                         Energy     Norway                             0   \n",
       "3                         Energy     Norway                             1   \n",
       "4                         Energy    Bermuda                             0   \n",
       "\n",
       "   years_esg_data  base_year  ceo_sust_statem  \\\n",
       "0               1       2020                1   \n",
       "1               1       2021                1   \n",
       "2               2       2019                1   \n",
       "3               2       2019                1   \n",
       "4               4       2019                0   \n",
       "\n",
       "   environmental_policy_and_assessment  environmental_performance_targets  \\\n",
       "0                                    1                                  1   \n",
       "1                                    1                                  0   \n",
       "2                                    1                                  1   \n",
       "3                                    1                                  1   \n",
       "4                                    1                                  0   \n",
       "\n",
       "   reduced_environmental_impact  increased_renewable_energy  \\\n",
       "0                             1                           0   \n",
       "1                             1                           0   \n",
       "2                             1                           0   \n",
       "3                             1                           0   \n",
       "4                             1                           0   \n",
       "\n",
       "   disclosure_of_raw_material_use  resource_efficiency_target  \\\n",
       "0                               0                           1   \n",
       "1                               1                           0   \n",
       "2                               0                           0   \n",
       "3                               0                           1   \n",
       "4                               0                           1   \n",
       "\n",
       "   disclosure_of_water_discharges  supplier_guidelines  \\\n",
       "0                               0                    1   \n",
       "1                               0                    1   \n",
       "2                               0                    0   \n",
       "3                               0                    1   \n",
       "4                               0                    1   \n",
       "\n",
       "   disclosure_of_suppliers_audited  \\\n",
       "0                                1   \n",
       "1                                0   \n",
       "2                                0   \n",
       "3                                0   \n",
       "4                                0   \n",
       "\n",
       "   disclosure_of_supplier_evaluation_procedures  \\\n",
       "0                                             0   \n",
       "1                                             1   \n",
       "2                                             0   \n",
       "3                                             0   \n",
       "4                                             0   \n",
       "\n",
       "   supplier_environmental_assessment  energy_consump_bool  \\\n",
       "0                                  0                    1   \n",
       "1                                  0                    0   \n",
       "2                                  0                    0   \n",
       "3                                  0                    1   \n",
       "4                                  0                    1   \n",
       "\n",
       "   water_withdraw_bool  ghg_emis_bool  transport_emis_bool  \n",
       "0                    0              0                    0  \n",
       "1                    0              1                    1  \n",
       "2                    0              0                    0  \n",
       "3                    0              0                    0  \n",
       "4                    0              1                    1  "
      ]
     },
     "execution_count": 351,
     "metadata": {},
     "output_type": "execute_result"
    }
   ],
   "source": [
    "reporting_df.head()"
   ]
  },
  {
   "cell_type": "code",
   "execution_count": 352,
   "metadata": {},
   "outputs": [
    {
     "data": {
      "text/plain": [
       "Index(['company', 'ticker', 'year', 'segment', 'industry', 'hq_country',\n",
       "       'external_audit_of_ESG_report', 'years_esg_data', 'base_year',\n",
       "       'ceo_sust_statem', 'environmental_policy_and_assessment',\n",
       "       'environmental_performance_targets', 'reduced_environmental_impact',\n",
       "       'increased_renewable_energy', 'disclosure_of_raw_material_use',\n",
       "       'resource_efficiency_target', 'disclosure_of_water_discharges',\n",
       "       'supplier_guidelines', 'disclosure_of_suppliers_audited',\n",
       "       'disclosure_of_supplier_evaluation_procedures',\n",
       "       'supplier_environmental_assessment', 'energy_consump_bool',\n",
       "       'water_withdraw_bool', 'ghg_emis_bool', 'transport_emis_bool'],\n",
       "      dtype='object')"
      ]
     },
     "execution_count": 352,
     "metadata": {},
     "output_type": "execute_result"
    }
   ],
   "source": [
    "reporting_df.columns"
   ]
  },
  {
   "cell_type": "markdown",
   "metadata": {},
   "source": [
    "# HERE"
   ]
  },
  {
   "cell_type": "code",
   "execution_count": 353,
   "metadata": {},
   "outputs": [],
   "source": [
    "import pandas as pd\n",
    "import plotly.graph_objects as go\n",
    "from plotly.subplots import make_subplots\n",
    "\n",
    "# Define discrete columns outside the function for flexibility\n",
    "columns_to_include = [\n",
    "    \"year\",\n",
    "    \"segment\",\n",
    "    \"industry\",\n",
    "    \"hq_country\",\n",
    "    \"years_esg_data\",\n",
    "    \"base_year\",\n",
    "    \"external_audit_of_ESG_report\",\n",
    "    \"ceo_sust_statem\",\n",
    "    \"environmental_policy_and_assessment\",\n",
    "    \"environmental_performance_targets\",\n",
    "    \"reduced_environmental_impact\",\n",
    "    \"increased_renewable_energy\",\n",
    "    \"disclosure_of_raw_material_use\",\n",
    "    \"resource_efficiency_target\",\n",
    "    \"disclosure_of_water_discharges\",\n",
    "    \"supplier_guidelines\",\n",
    "    \"disclosure_of_suppliers_audited\",\n",
    "    \"disclosure_of_supplier_evaluation_procedures\",\n",
    "    \"supplier_environmental_assessment\",\n",
    "    \"energy_consump_bool\",\n",
    "    \"water_withdraw_bool\",\n",
    "    \"ghg_emis_bool\",\n",
    "    \"transport_emis_bool\",\n",
    "]\n",
    "\n",
    "\n",
    "def chart_visualisations(\n",
    "    df: pd.DataFrame,\n",
    "    columns_to_include: list,\n",
    "    legend_column: str = None,\n",
    "    n_cols: int = 3,\n",
    ") -> None:\n",
    "    \"\"\"\n",
    "    Creates a 3-column subplot visualization for discrete columns in the provided DataFrame.\n",
    "\n",
    "    Parameters:\n",
    "    ----------\n",
    "    df : pd.DataFrame\n",
    "        The input DataFrame containing the data to visualize.\n",
    "\n",
    "    columns_to_include : list\n",
    "        A list of discrete columns to visualize.\n",
    "\n",
    "    legend_column : str, optional\n",
    "        The name of the column that differentiates the data groups. If None, no grouping is applied.\n",
    "\n",
    "    n_cols : int, optional\n",
    "        The number of columns in the subplot layout.\n",
    "\n",
    "    Returns:\n",
    "    -------\n",
    "    None\n",
    "        Displays the final Plotly figure inline.\n",
    "    \"\"\"\n",
    "    # Identify relevant columns that exist in df\n",
    "    relevant_columns = [col for col in columns_to_include if col in df.columns]\n",
    "\n",
    "    # Identify integer columns (excluding year and years_esg_data))\n",
    "    int_columns = [\n",
    "        col\n",
    "        for col in relevant_columns\n",
    "        if df[col].dtype == \"int64\" and col not in [\"year\", \"years_esg_data\"]\n",
    "    ]\n",
    "\n",
    "    n_rows = -(-len(relevant_columns) // n_cols)\n",
    "    subplot_titles = [f\"{col}\" for col in relevant_columns]\n",
    "\n",
    "    fig = make_subplots(\n",
    "        rows=n_rows,\n",
    "        cols=n_cols,\n",
    "        subplot_titles=subplot_titles,\n",
    "    )\n",
    "\n",
    "    for idx, col in enumerate(relevant_columns):\n",
    "        row_num = (idx // n_cols) + 1\n",
    "        col_num = (idx % n_cols) + 1\n",
    "\n",
    "        grouped_data = df[col].value_counts().sort_index()\n",
    "\n",
    "        if col in int_columns:\n",
    "            colors = grouped_data.index.map(\n",
    "                lambda x: (\n",
    "                    \"rgb(6,212,124)\"\n",
    "                    if x == 1\n",
    "                    else \"rgb(254,240,205)\" if x == 0 else \"rgb(31, 119, 180)\"\n",
    "                )\n",
    "            )\n",
    "        else:\n",
    "            colors = \"rgb(31, 119, 180)\"  # Default color\n",
    "\n",
    "        fig.add_trace(\n",
    "            go.Bar(\n",
    "                x=grouped_data.index.astype(str),\n",
    "                y=grouped_data.values,\n",
    "                marker=dict(color=colors),\n",
    "                name=f\"{col} Count\",\n",
    "                showlegend=False,\n",
    "            ),\n",
    "            row=row_num,\n",
    "            col=col_num,\n",
    "        )\n",
    "\n",
    "        fig.update_yaxes(title_text=\"Count\", row=row_num, col=col_num, showgrid=False)\n",
    "\n",
    "    # fig.update_annotations(dict(yshift=50))\n",
    "\n",
    "    fig.update_layout(\n",
    "        showlegend=False,\n",
    "        legend_title_text=legend_column,\n",
    "        height=400 * n_rows,\n",
    "        width=1600,\n",
    "        template=\"plotly_white\",\n",
    "    )\n",
    "\n",
    "    return fig"
   ]
  },
  {
   "cell_type": "markdown",
   "metadata": {},
   "source": [
    "# Figure out how to make this much faster"
   ]
  },
  {
   "cell_type": "code",
   "execution_count": 354,
   "metadata": {},
   "outputs": [
    {
     "data": {
      "application/vnd.plotly.v1+json": {
       "config": {
        "plotlyServerURL": "https://plot.ly"
       },
       "data": [
        {
         "marker": {
          "color": "rgb(31, 119, 180)"
         },
         "name": "year Count",
         "showlegend": false,
         "type": "bar",
         "x": [
          "2019",
          "2020",
          "2021",
          "2022"
         ],
         "xaxis": "x",
         "y": [
          486,
          491,
          439,
          421
         ],
         "yaxis": "y"
        },
        {
         "marker": {
          "color": "rgb(31, 119, 180)"
         },
         "name": "segment Count",
         "showlegend": false,
         "type": "bar",
         "x": [
          "Large",
          "Mid",
          "Small"
         ],
         "xaxis": "x2",
         "y": [
          1028,
          799,
          10
         ],
         "yaxis": "y2"
        },
        {
         "marker": {
          "color": "rgb(31, 119, 180)"
         },
         "name": "industry Count",
         "showlegend": false,
         "type": "bar",
         "x": [
          "Basic Materials",
          "Biotechnology",
          "Consumer Goods and Services",
          "Energy",
          "Finance",
          "Health Care",
          "Industrial Goods and Services",
          "Leisure",
          "Media",
          "Real Estate",
          "Retail",
          "Technology",
          "Telecommunications",
          "Travel and Leisure",
          "Unknown",
          "Utilities"
         ],
         "xaxis": "x3",
         "y": [
          88,
          6,
          319,
          120,
          387,
          204,
          441,
          4,
          12,
          28,
          10,
          142,
          39,
          19,
          1,
          17
         ],
         "yaxis": "y3"
        },
        {
         "marker": {
          "color": "rgb(31, 119, 180)"
         },
         "name": "hq_country Count",
         "showlegend": false,
         "type": "bar",
         "x": [
          "Bermuda",
          "Canada",
          "Cayman Islands",
          "Chile",
          "Cyprus",
          "Denmark",
          "Estonia",
          "Faroe Islands",
          "Finland",
          "France",
          "Germany",
          "Iceland",
          "Luxembourg",
          "Malta",
          "Netherlands",
          "Norway",
          "Sweden",
          "Switzerland",
          "United Arab Emirates",
          "United Kingdom",
          "United States",
          "Virgin Islands, British"
         ],
         "xaxis": "x4",
         "y": [
          33,
          19,
          3,
          4,
          4,
          230,
          4,
          8,
          267,
          1,
          1,
          29,
          8,
          10,
          1,
          344,
          820,
          13,
          1,
          19,
          14,
          4
         ],
         "yaxis": "y4"
        },
        {
         "marker": {
          "color": "rgb(31, 119, 180)"
         },
         "name": "years_esg_data Count",
         "showlegend": false,
         "type": "bar",
         "x": [
          "1",
          "2",
          "3",
          "4"
         ],
         "xaxis": "x5",
         "y": [
          94,
          158,
          213,
          1372
         ],
         "yaxis": "y5"
        },
        {
         "marker": {
          "color": [
           "rgb(31, 119, 180)",
           "rgb(31, 119, 180)",
           "rgb(31, 119, 180)",
           "rgb(31, 119, 180)"
          ]
         },
         "name": "base_year Count",
         "showlegend": false,
         "type": "bar",
         "x": [
          "2019",
          "2020",
          "2021",
          "2022"
         ],
         "xaxis": "x6",
         "y": [
          1703,
          49,
          60,
          25
         ],
         "yaxis": "y6"
        },
        {
         "marker": {
          "color": [
           "rgb(254,240,205)",
           "rgb(6,212,124)"
          ]
         },
         "name": "external_audit_of_ESG_report Count",
         "showlegend": false,
         "type": "bar",
         "x": [
          "0",
          "1"
         ],
         "xaxis": "x7",
         "y": [
          1102,
          735
         ],
         "yaxis": "y7"
        },
        {
         "marker": {
          "color": [
           "rgb(254,240,205)",
           "rgb(6,212,124)"
          ]
         },
         "name": "ceo_sust_statem Count",
         "showlegend": false,
         "type": "bar",
         "x": [
          "0",
          "1"
         ],
         "xaxis": "x8",
         "y": [
          779,
          1058
         ],
         "yaxis": "y8"
        },
        {
         "marker": {
          "color": [
           "rgb(254,240,205)",
           "rgb(6,212,124)"
          ]
         },
         "name": "environmental_policy_and_assessment Count",
         "showlegend": false,
         "type": "bar",
         "x": [
          "0",
          "1"
         ],
         "xaxis": "x9",
         "y": [
          167,
          1670
         ],
         "yaxis": "y9"
        },
        {
         "marker": {
          "color": [
           "rgb(254,240,205)",
           "rgb(6,212,124)"
          ]
         },
         "name": "environmental_performance_targets Count",
         "showlegend": false,
         "type": "bar",
         "x": [
          "0",
          "1"
         ],
         "xaxis": "x10",
         "y": [
          383,
          1454
         ],
         "yaxis": "y10"
        },
        {
         "marker": {
          "color": [
           "rgb(254,240,205)",
           "rgb(6,212,124)"
          ]
         },
         "name": "reduced_environmental_impact Count",
         "showlegend": false,
         "type": "bar",
         "x": [
          "0",
          "1"
         ],
         "xaxis": "x11",
         "y": [
          206,
          1631
         ],
         "yaxis": "y11"
        },
        {
         "marker": {
          "color": [
           "rgb(254,240,205)",
           "rgb(6,212,124)"
          ]
         },
         "name": "increased_renewable_energy Count",
         "showlegend": false,
         "type": "bar",
         "x": [
          "0",
          "1"
         ],
         "xaxis": "x12",
         "y": [
          1210,
          627
         ],
         "yaxis": "y12"
        },
        {
         "marker": {
          "color": [
           "rgb(254,240,205)",
           "rgb(6,212,124)"
          ]
         },
         "name": "disclosure_of_raw_material_use Count",
         "showlegend": false,
         "type": "bar",
         "x": [
          "0",
          "1"
         ],
         "xaxis": "x13",
         "y": [
          1550,
          287
         ],
         "yaxis": "y13"
        },
        {
         "marker": {
          "color": [
           "rgb(254,240,205)",
           "rgb(6,212,124)"
          ]
         },
         "name": "resource_efficiency_target Count",
         "showlegend": false,
         "type": "bar",
         "x": [
          "0",
          "1"
         ],
         "xaxis": "x14",
         "y": [
          871,
          966
         ],
         "yaxis": "y14"
        },
        {
         "marker": {
          "color": [
           "rgb(254,240,205)",
           "rgb(6,212,124)"
          ]
         },
         "name": "disclosure_of_water_discharges Count",
         "showlegend": false,
         "type": "bar",
         "x": [
          "0",
          "1"
         ],
         "xaxis": "x15",
         "y": [
          1668,
          169
         ],
         "yaxis": "y15"
        },
        {
         "marker": {
          "color": [
           "rgb(254,240,205)",
           "rgb(6,212,124)"
          ]
         },
         "name": "supplier_guidelines Count",
         "showlegend": false,
         "type": "bar",
         "x": [
          "0",
          "1"
         ],
         "xaxis": "x16",
         "y": [
          345,
          1492
         ],
         "yaxis": "y16"
        },
        {
         "marker": {
          "color": [
           "rgb(254,240,205)",
           "rgb(6,212,124)"
          ]
         },
         "name": "disclosure_of_suppliers_audited Count",
         "showlegend": false,
         "type": "bar",
         "x": [
          "0",
          "1"
         ],
         "xaxis": "x17",
         "y": [
          1196,
          641
         ],
         "yaxis": "y17"
        },
        {
         "marker": {
          "color": [
           "rgb(254,240,205)",
           "rgb(6,212,124)"
          ]
         },
         "name": "disclosure_of_supplier_evaluation_procedures Count",
         "showlegend": false,
         "type": "bar",
         "x": [
          "0",
          "1"
         ],
         "xaxis": "x18",
         "y": [
          1126,
          711
         ],
         "yaxis": "y18"
        },
        {
         "marker": {
          "color": [
           "rgb(254,240,205)",
           "rgb(6,212,124)"
          ]
         },
         "name": "supplier_environmental_assessment Count",
         "showlegend": false,
         "type": "bar",
         "x": [
          "0",
          "1"
         ],
         "xaxis": "x19",
         "y": [
          603,
          1234
         ],
         "yaxis": "y19"
        },
        {
         "marker": {
          "color": [
           "rgb(254,240,205)",
           "rgb(6,212,124)"
          ]
         },
         "name": "energy_consump_bool Count",
         "showlegend": false,
         "type": "bar",
         "x": [
          "0",
          "1"
         ],
         "xaxis": "x20",
         "y": [
          728,
          1109
         ],
         "yaxis": "y20"
        },
        {
         "marker": {
          "color": [
           "rgb(254,240,205)",
           "rgb(6,212,124)"
          ]
         },
         "name": "water_withdraw_bool Count",
         "showlegend": false,
         "type": "bar",
         "x": [
          "0",
          "1"
         ],
         "xaxis": "x21",
         "y": [
          1189,
          648
         ],
         "yaxis": "y21"
        },
        {
         "marker": {
          "color": [
           "rgb(254,240,205)",
           "rgb(6,212,124)"
          ]
         },
         "name": "ghg_emis_bool Count",
         "showlegend": false,
         "type": "bar",
         "x": [
          "0",
          "1"
         ],
         "xaxis": "x22",
         "y": [
          605,
          1232
         ],
         "yaxis": "y22"
        },
        {
         "marker": {
          "color": [
           "rgb(254,240,205)",
           "rgb(6,212,124)"
          ]
         },
         "name": "transport_emis_bool Count",
         "showlegend": false,
         "type": "bar",
         "x": [
          "0",
          "1"
         ],
         "xaxis": "x23",
         "y": [
          891,
          946
         ],
         "yaxis": "y23"
        }
       ],
       "layout": {
        "annotations": [
         {
          "font": {
           "size": 16
          },
          "showarrow": false,
          "text": "year",
          "x": 0.14444444444444446,
          "xanchor": "center",
          "xref": "paper",
          "y": 1,
          "yanchor": "bottom",
          "yref": "paper"
         },
         {
          "font": {
           "size": 16
          },
          "showarrow": false,
          "text": "segment",
          "x": 0.5,
          "xanchor": "center",
          "xref": "paper",
          "y": 1,
          "yanchor": "bottom",
          "yref": "paper"
         },
         {
          "font": {
           "size": 16
          },
          "showarrow": false,
          "text": "industry",
          "x": 0.8555555555555556,
          "xanchor": "center",
          "xref": "paper",
          "y": 1,
          "yanchor": "bottom",
          "yref": "paper"
         },
         {
          "font": {
           "size": 16
          },
          "showarrow": false,
          "text": "hq_country",
          "x": 0.14444444444444446,
          "xanchor": "center",
          "xref": "paper",
          "y": 0.8671875,
          "yanchor": "bottom",
          "yref": "paper"
         },
         {
          "font": {
           "size": 16
          },
          "showarrow": false,
          "text": "years_esg_data",
          "x": 0.5,
          "xanchor": "center",
          "xref": "paper",
          "y": 0.8671875,
          "yanchor": "bottom",
          "yref": "paper"
         },
         {
          "font": {
           "size": 16
          },
          "showarrow": false,
          "text": "base_year",
          "x": 0.8555555555555556,
          "xanchor": "center",
          "xref": "paper",
          "y": 0.8671875,
          "yanchor": "bottom",
          "yref": "paper"
         },
         {
          "font": {
           "size": 16
          },
          "showarrow": false,
          "text": "external_audit_of_ESG_report",
          "x": 0.14444444444444446,
          "xanchor": "center",
          "xref": "paper",
          "y": 0.734375,
          "yanchor": "bottom",
          "yref": "paper"
         },
         {
          "font": {
           "size": 16
          },
          "showarrow": false,
          "text": "ceo_sust_statem",
          "x": 0.5,
          "xanchor": "center",
          "xref": "paper",
          "y": 0.734375,
          "yanchor": "bottom",
          "yref": "paper"
         },
         {
          "font": {
           "size": 16
          },
          "showarrow": false,
          "text": "environmental_policy_and_assessment",
          "x": 0.8555555555555556,
          "xanchor": "center",
          "xref": "paper",
          "y": 0.734375,
          "yanchor": "bottom",
          "yref": "paper"
         },
         {
          "font": {
           "size": 16
          },
          "showarrow": false,
          "text": "environmental_performance_targets",
          "x": 0.14444444444444446,
          "xanchor": "center",
          "xref": "paper",
          "y": 0.6015625,
          "yanchor": "bottom",
          "yref": "paper"
         },
         {
          "font": {
           "size": 16
          },
          "showarrow": false,
          "text": "reduced_environmental_impact",
          "x": 0.5,
          "xanchor": "center",
          "xref": "paper",
          "y": 0.6015625,
          "yanchor": "bottom",
          "yref": "paper"
         },
         {
          "font": {
           "size": 16
          },
          "showarrow": false,
          "text": "increased_renewable_energy",
          "x": 0.8555555555555556,
          "xanchor": "center",
          "xref": "paper",
          "y": 0.6015625,
          "yanchor": "bottom",
          "yref": "paper"
         },
         {
          "font": {
           "size": 16
          },
          "showarrow": false,
          "text": "disclosure_of_raw_material_use",
          "x": 0.14444444444444446,
          "xanchor": "center",
          "xref": "paper",
          "y": 0.46875,
          "yanchor": "bottom",
          "yref": "paper"
         },
         {
          "font": {
           "size": 16
          },
          "showarrow": false,
          "text": "resource_efficiency_target",
          "x": 0.5,
          "xanchor": "center",
          "xref": "paper",
          "y": 0.46875,
          "yanchor": "bottom",
          "yref": "paper"
         },
         {
          "font": {
           "size": 16
          },
          "showarrow": false,
          "text": "disclosure_of_water_discharges",
          "x": 0.8555555555555556,
          "xanchor": "center",
          "xref": "paper",
          "y": 0.46875,
          "yanchor": "bottom",
          "yref": "paper"
         },
         {
          "font": {
           "size": 16
          },
          "showarrow": false,
          "text": "supplier_guidelines",
          "x": 0.14444444444444446,
          "xanchor": "center",
          "xref": "paper",
          "y": 0.3359375,
          "yanchor": "bottom",
          "yref": "paper"
         },
         {
          "font": {
           "size": 16
          },
          "showarrow": false,
          "text": "disclosure_of_suppliers_audited",
          "x": 0.5,
          "xanchor": "center",
          "xref": "paper",
          "y": 0.3359375,
          "yanchor": "bottom",
          "yref": "paper"
         },
         {
          "font": {
           "size": 16
          },
          "showarrow": false,
          "text": "disclosure_of_supplier_evaluation_procedures",
          "x": 0.8555555555555556,
          "xanchor": "center",
          "xref": "paper",
          "y": 0.3359375,
          "yanchor": "bottom",
          "yref": "paper"
         },
         {
          "font": {
           "size": 16
          },
          "showarrow": false,
          "text": "supplier_environmental_assessment",
          "x": 0.14444444444444446,
          "xanchor": "center",
          "xref": "paper",
          "y": 0.203125,
          "yanchor": "bottom",
          "yref": "paper"
         },
         {
          "font": {
           "size": 16
          },
          "showarrow": false,
          "text": "energy_consump_bool",
          "x": 0.5,
          "xanchor": "center",
          "xref": "paper",
          "y": 0.203125,
          "yanchor": "bottom",
          "yref": "paper"
         },
         {
          "font": {
           "size": 16
          },
          "showarrow": false,
          "text": "water_withdraw_bool",
          "x": 0.8555555555555556,
          "xanchor": "center",
          "xref": "paper",
          "y": 0.203125,
          "yanchor": "bottom",
          "yref": "paper"
         },
         {
          "font": {
           "size": 16
          },
          "showarrow": false,
          "text": "ghg_emis_bool",
          "x": 0.14444444444444446,
          "xanchor": "center",
          "xref": "paper",
          "y": 0.0703125,
          "yanchor": "bottom",
          "yref": "paper"
         },
         {
          "font": {
           "size": 16
          },
          "showarrow": false,
          "text": "transport_emis_bool",
          "x": 0.5,
          "xanchor": "center",
          "xref": "paper",
          "y": 0.0703125,
          "yanchor": "bottom",
          "yref": "paper"
         }
        ],
        "height": 3200,
        "showlegend": false,
        "template": {
         "data": {
          "bar": [
           {
            "error_x": {
             "color": "#2a3f5f"
            },
            "error_y": {
             "color": "#2a3f5f"
            },
            "marker": {
             "line": {
              "color": "white",
              "width": 0.5
             },
             "pattern": {
              "fillmode": "overlay",
              "size": 10,
              "solidity": 0.2
             }
            },
            "type": "bar"
           }
          ],
          "barpolar": [
           {
            "marker": {
             "line": {
              "color": "white",
              "width": 0.5
             },
             "pattern": {
              "fillmode": "overlay",
              "size": 10,
              "solidity": 0.2
             }
            },
            "type": "barpolar"
           }
          ],
          "carpet": [
           {
            "aaxis": {
             "endlinecolor": "#2a3f5f",
             "gridcolor": "#C8D4E3",
             "linecolor": "#C8D4E3",
             "minorgridcolor": "#C8D4E3",
             "startlinecolor": "#2a3f5f"
            },
            "baxis": {
             "endlinecolor": "#2a3f5f",
             "gridcolor": "#C8D4E3",
             "linecolor": "#C8D4E3",
             "minorgridcolor": "#C8D4E3",
             "startlinecolor": "#2a3f5f"
            },
            "type": "carpet"
           }
          ],
          "choropleth": [
           {
            "colorbar": {
             "outlinewidth": 0,
             "ticks": ""
            },
            "type": "choropleth"
           }
          ],
          "contour": [
           {
            "colorbar": {
             "outlinewidth": 0,
             "ticks": ""
            },
            "colorscale": [
             [
              0,
              "#0d0887"
             ],
             [
              0.1111111111111111,
              "#46039f"
             ],
             [
              0.2222222222222222,
              "#7201a8"
             ],
             [
              0.3333333333333333,
              "#9c179e"
             ],
             [
              0.4444444444444444,
              "#bd3786"
             ],
             [
              0.5555555555555556,
              "#d8576b"
             ],
             [
              0.6666666666666666,
              "#ed7953"
             ],
             [
              0.7777777777777778,
              "#fb9f3a"
             ],
             [
              0.8888888888888888,
              "#fdca26"
             ],
             [
              1,
              "#f0f921"
             ]
            ],
            "type": "contour"
           }
          ],
          "contourcarpet": [
           {
            "colorbar": {
             "outlinewidth": 0,
             "ticks": ""
            },
            "type": "contourcarpet"
           }
          ],
          "heatmap": [
           {
            "colorbar": {
             "outlinewidth": 0,
             "ticks": ""
            },
            "colorscale": [
             [
              0,
              "#0d0887"
             ],
             [
              0.1111111111111111,
              "#46039f"
             ],
             [
              0.2222222222222222,
              "#7201a8"
             ],
             [
              0.3333333333333333,
              "#9c179e"
             ],
             [
              0.4444444444444444,
              "#bd3786"
             ],
             [
              0.5555555555555556,
              "#d8576b"
             ],
             [
              0.6666666666666666,
              "#ed7953"
             ],
             [
              0.7777777777777778,
              "#fb9f3a"
             ],
             [
              0.8888888888888888,
              "#fdca26"
             ],
             [
              1,
              "#f0f921"
             ]
            ],
            "type": "heatmap"
           }
          ],
          "heatmapgl": [
           {
            "colorbar": {
             "outlinewidth": 0,
             "ticks": ""
            },
            "colorscale": [
             [
              0,
              "#0d0887"
             ],
             [
              0.1111111111111111,
              "#46039f"
             ],
             [
              0.2222222222222222,
              "#7201a8"
             ],
             [
              0.3333333333333333,
              "#9c179e"
             ],
             [
              0.4444444444444444,
              "#bd3786"
             ],
             [
              0.5555555555555556,
              "#d8576b"
             ],
             [
              0.6666666666666666,
              "#ed7953"
             ],
             [
              0.7777777777777778,
              "#fb9f3a"
             ],
             [
              0.8888888888888888,
              "#fdca26"
             ],
             [
              1,
              "#f0f921"
             ]
            ],
            "type": "heatmapgl"
           }
          ],
          "histogram": [
           {
            "marker": {
             "pattern": {
              "fillmode": "overlay",
              "size": 10,
              "solidity": 0.2
             }
            },
            "type": "histogram"
           }
          ],
          "histogram2d": [
           {
            "colorbar": {
             "outlinewidth": 0,
             "ticks": ""
            },
            "colorscale": [
             [
              0,
              "#0d0887"
             ],
             [
              0.1111111111111111,
              "#46039f"
             ],
             [
              0.2222222222222222,
              "#7201a8"
             ],
             [
              0.3333333333333333,
              "#9c179e"
             ],
             [
              0.4444444444444444,
              "#bd3786"
             ],
             [
              0.5555555555555556,
              "#d8576b"
             ],
             [
              0.6666666666666666,
              "#ed7953"
             ],
             [
              0.7777777777777778,
              "#fb9f3a"
             ],
             [
              0.8888888888888888,
              "#fdca26"
             ],
             [
              1,
              "#f0f921"
             ]
            ],
            "type": "histogram2d"
           }
          ],
          "histogram2dcontour": [
           {
            "colorbar": {
             "outlinewidth": 0,
             "ticks": ""
            },
            "colorscale": [
             [
              0,
              "#0d0887"
             ],
             [
              0.1111111111111111,
              "#46039f"
             ],
             [
              0.2222222222222222,
              "#7201a8"
             ],
             [
              0.3333333333333333,
              "#9c179e"
             ],
             [
              0.4444444444444444,
              "#bd3786"
             ],
             [
              0.5555555555555556,
              "#d8576b"
             ],
             [
              0.6666666666666666,
              "#ed7953"
             ],
             [
              0.7777777777777778,
              "#fb9f3a"
             ],
             [
              0.8888888888888888,
              "#fdca26"
             ],
             [
              1,
              "#f0f921"
             ]
            ],
            "type": "histogram2dcontour"
           }
          ],
          "mesh3d": [
           {
            "colorbar": {
             "outlinewidth": 0,
             "ticks": ""
            },
            "type": "mesh3d"
           }
          ],
          "parcoords": [
           {
            "line": {
             "colorbar": {
              "outlinewidth": 0,
              "ticks": ""
             }
            },
            "type": "parcoords"
           }
          ],
          "pie": [
           {
            "automargin": true,
            "type": "pie"
           }
          ],
          "scatter": [
           {
            "fillpattern": {
             "fillmode": "overlay",
             "size": 10,
             "solidity": 0.2
            },
            "type": "scatter"
           }
          ],
          "scatter3d": [
           {
            "line": {
             "colorbar": {
              "outlinewidth": 0,
              "ticks": ""
             }
            },
            "marker": {
             "colorbar": {
              "outlinewidth": 0,
              "ticks": ""
             }
            },
            "type": "scatter3d"
           }
          ],
          "scattercarpet": [
           {
            "marker": {
             "colorbar": {
              "outlinewidth": 0,
              "ticks": ""
             }
            },
            "type": "scattercarpet"
           }
          ],
          "scattergeo": [
           {
            "marker": {
             "colorbar": {
              "outlinewidth": 0,
              "ticks": ""
             }
            },
            "type": "scattergeo"
           }
          ],
          "scattergl": [
           {
            "marker": {
             "colorbar": {
              "outlinewidth": 0,
              "ticks": ""
             }
            },
            "type": "scattergl"
           }
          ],
          "scattermapbox": [
           {
            "marker": {
             "colorbar": {
              "outlinewidth": 0,
              "ticks": ""
             }
            },
            "type": "scattermapbox"
           }
          ],
          "scatterpolar": [
           {
            "marker": {
             "colorbar": {
              "outlinewidth": 0,
              "ticks": ""
             }
            },
            "type": "scatterpolar"
           }
          ],
          "scatterpolargl": [
           {
            "marker": {
             "colorbar": {
              "outlinewidth": 0,
              "ticks": ""
             }
            },
            "type": "scatterpolargl"
           }
          ],
          "scatterternary": [
           {
            "marker": {
             "colorbar": {
              "outlinewidth": 0,
              "ticks": ""
             }
            },
            "type": "scatterternary"
           }
          ],
          "surface": [
           {
            "colorbar": {
             "outlinewidth": 0,
             "ticks": ""
            },
            "colorscale": [
             [
              0,
              "#0d0887"
             ],
             [
              0.1111111111111111,
              "#46039f"
             ],
             [
              0.2222222222222222,
              "#7201a8"
             ],
             [
              0.3333333333333333,
              "#9c179e"
             ],
             [
              0.4444444444444444,
              "#bd3786"
             ],
             [
              0.5555555555555556,
              "#d8576b"
             ],
             [
              0.6666666666666666,
              "#ed7953"
             ],
             [
              0.7777777777777778,
              "#fb9f3a"
             ],
             [
              0.8888888888888888,
              "#fdca26"
             ],
             [
              1,
              "#f0f921"
             ]
            ],
            "type": "surface"
           }
          ],
          "table": [
           {
            "cells": {
             "fill": {
              "color": "#EBF0F8"
             },
             "line": {
              "color": "white"
             }
            },
            "header": {
             "fill": {
              "color": "#C8D4E3"
             },
             "line": {
              "color": "white"
             }
            },
            "type": "table"
           }
          ]
         },
         "layout": {
          "annotationdefaults": {
           "arrowcolor": "#2a3f5f",
           "arrowhead": 0,
           "arrowwidth": 1
          },
          "autotypenumbers": "strict",
          "coloraxis": {
           "colorbar": {
            "outlinewidth": 0,
            "ticks": ""
           }
          },
          "colorscale": {
           "diverging": [
            [
             0,
             "#8e0152"
            ],
            [
             0.1,
             "#c51b7d"
            ],
            [
             0.2,
             "#de77ae"
            ],
            [
             0.3,
             "#f1b6da"
            ],
            [
             0.4,
             "#fde0ef"
            ],
            [
             0.5,
             "#f7f7f7"
            ],
            [
             0.6,
             "#e6f5d0"
            ],
            [
             0.7,
             "#b8e186"
            ],
            [
             0.8,
             "#7fbc41"
            ],
            [
             0.9,
             "#4d9221"
            ],
            [
             1,
             "#276419"
            ]
           ],
           "sequential": [
            [
             0,
             "#0d0887"
            ],
            [
             0.1111111111111111,
             "#46039f"
            ],
            [
             0.2222222222222222,
             "#7201a8"
            ],
            [
             0.3333333333333333,
             "#9c179e"
            ],
            [
             0.4444444444444444,
             "#bd3786"
            ],
            [
             0.5555555555555556,
             "#d8576b"
            ],
            [
             0.6666666666666666,
             "#ed7953"
            ],
            [
             0.7777777777777778,
             "#fb9f3a"
            ],
            [
             0.8888888888888888,
             "#fdca26"
            ],
            [
             1,
             "#f0f921"
            ]
           ],
           "sequentialminus": [
            [
             0,
             "#0d0887"
            ],
            [
             0.1111111111111111,
             "#46039f"
            ],
            [
             0.2222222222222222,
             "#7201a8"
            ],
            [
             0.3333333333333333,
             "#9c179e"
            ],
            [
             0.4444444444444444,
             "#bd3786"
            ],
            [
             0.5555555555555556,
             "#d8576b"
            ],
            [
             0.6666666666666666,
             "#ed7953"
            ],
            [
             0.7777777777777778,
             "#fb9f3a"
            ],
            [
             0.8888888888888888,
             "#fdca26"
            ],
            [
             1,
             "#f0f921"
            ]
           ]
          },
          "colorway": [
           "#636efa",
           "#EF553B",
           "#00cc96",
           "#ab63fa",
           "#FFA15A",
           "#19d3f3",
           "#FF6692",
           "#B6E880",
           "#FF97FF",
           "#FECB52"
          ],
          "font": {
           "color": "#2a3f5f"
          },
          "geo": {
           "bgcolor": "white",
           "lakecolor": "white",
           "landcolor": "white",
           "showlakes": true,
           "showland": true,
           "subunitcolor": "#C8D4E3"
          },
          "hoverlabel": {
           "align": "left"
          },
          "hovermode": "closest",
          "mapbox": {
           "style": "light"
          },
          "paper_bgcolor": "white",
          "plot_bgcolor": "white",
          "polar": {
           "angularaxis": {
            "gridcolor": "#EBF0F8",
            "linecolor": "#EBF0F8",
            "ticks": ""
           },
           "bgcolor": "white",
           "radialaxis": {
            "gridcolor": "#EBF0F8",
            "linecolor": "#EBF0F8",
            "ticks": ""
           }
          },
          "scene": {
           "xaxis": {
            "backgroundcolor": "white",
            "gridcolor": "#DFE8F3",
            "gridwidth": 2,
            "linecolor": "#EBF0F8",
            "showbackground": true,
            "ticks": "",
            "zerolinecolor": "#EBF0F8"
           },
           "yaxis": {
            "backgroundcolor": "white",
            "gridcolor": "#DFE8F3",
            "gridwidth": 2,
            "linecolor": "#EBF0F8",
            "showbackground": true,
            "ticks": "",
            "zerolinecolor": "#EBF0F8"
           },
           "zaxis": {
            "backgroundcolor": "white",
            "gridcolor": "#DFE8F3",
            "gridwidth": 2,
            "linecolor": "#EBF0F8",
            "showbackground": true,
            "ticks": "",
            "zerolinecolor": "#EBF0F8"
           }
          },
          "shapedefaults": {
           "line": {
            "color": "#2a3f5f"
           }
          },
          "ternary": {
           "aaxis": {
            "gridcolor": "#DFE8F3",
            "linecolor": "#A2B1C6",
            "ticks": ""
           },
           "baxis": {
            "gridcolor": "#DFE8F3",
            "linecolor": "#A2B1C6",
            "ticks": ""
           },
           "bgcolor": "white",
           "caxis": {
            "gridcolor": "#DFE8F3",
            "linecolor": "#A2B1C6",
            "ticks": ""
           }
          },
          "title": {
           "x": 0.05
          },
          "xaxis": {
           "automargin": true,
           "gridcolor": "#EBF0F8",
           "linecolor": "#EBF0F8",
           "ticks": "",
           "title": {
            "standoff": 15
           },
           "zerolinecolor": "#EBF0F8",
           "zerolinewidth": 2
          },
          "yaxis": {
           "automargin": true,
           "gridcolor": "#EBF0F8",
           "linecolor": "#EBF0F8",
           "ticks": "",
           "title": {
            "standoff": 15
           },
           "zerolinecolor": "#EBF0F8",
           "zerolinewidth": 2
          }
         }
        },
        "width": 1600,
        "xaxis": {
         "anchor": "y",
         "domain": [
          0,
          0.2888888888888889
         ]
        },
        "xaxis10": {
         "anchor": "y10",
         "domain": [
          0,
          0.2888888888888889
         ]
        },
        "xaxis11": {
         "anchor": "y11",
         "domain": [
          0.35555555555555557,
          0.6444444444444445
         ]
        },
        "xaxis12": {
         "anchor": "y12",
         "domain": [
          0.7111111111111111,
          1
         ]
        },
        "xaxis13": {
         "anchor": "y13",
         "domain": [
          0,
          0.2888888888888889
         ]
        },
        "xaxis14": {
         "anchor": "y14",
         "domain": [
          0.35555555555555557,
          0.6444444444444445
         ]
        },
        "xaxis15": {
         "anchor": "y15",
         "domain": [
          0.7111111111111111,
          1
         ]
        },
        "xaxis16": {
         "anchor": "y16",
         "domain": [
          0,
          0.2888888888888889
         ]
        },
        "xaxis17": {
         "anchor": "y17",
         "domain": [
          0.35555555555555557,
          0.6444444444444445
         ]
        },
        "xaxis18": {
         "anchor": "y18",
         "domain": [
          0.7111111111111111,
          1
         ]
        },
        "xaxis19": {
         "anchor": "y19",
         "domain": [
          0,
          0.2888888888888889
         ]
        },
        "xaxis2": {
         "anchor": "y2",
         "domain": [
          0.35555555555555557,
          0.6444444444444445
         ]
        },
        "xaxis20": {
         "anchor": "y20",
         "domain": [
          0.35555555555555557,
          0.6444444444444445
         ]
        },
        "xaxis21": {
         "anchor": "y21",
         "domain": [
          0.7111111111111111,
          1
         ]
        },
        "xaxis22": {
         "anchor": "y22",
         "domain": [
          0,
          0.2888888888888889
         ]
        },
        "xaxis23": {
         "anchor": "y23",
         "domain": [
          0.35555555555555557,
          0.6444444444444445
         ]
        },
        "xaxis24": {
         "anchor": "y24",
         "domain": [
          0.7111111111111111,
          1
         ]
        },
        "xaxis3": {
         "anchor": "y3",
         "domain": [
          0.7111111111111111,
          1
         ]
        },
        "xaxis4": {
         "anchor": "y4",
         "domain": [
          0,
          0.2888888888888889
         ]
        },
        "xaxis5": {
         "anchor": "y5",
         "domain": [
          0.35555555555555557,
          0.6444444444444445
         ]
        },
        "xaxis6": {
         "anchor": "y6",
         "domain": [
          0.7111111111111111,
          1
         ]
        },
        "xaxis7": {
         "anchor": "y7",
         "domain": [
          0,
          0.2888888888888889
         ]
        },
        "xaxis8": {
         "anchor": "y8",
         "domain": [
          0.35555555555555557,
          0.6444444444444445
         ]
        },
        "xaxis9": {
         "anchor": "y9",
         "domain": [
          0.7111111111111111,
          1
         ]
        },
        "yaxis": {
         "anchor": "x",
         "domain": [
          0.9296875,
          1
         ],
         "showgrid": false,
         "title": {
          "text": "Count"
         }
        },
        "yaxis10": {
         "anchor": "x10",
         "domain": [
          0.53125,
          0.6015625
         ],
         "showgrid": false,
         "title": {
          "text": "Count"
         }
        },
        "yaxis11": {
         "anchor": "x11",
         "domain": [
          0.53125,
          0.6015625
         ],
         "showgrid": false,
         "title": {
          "text": "Count"
         }
        },
        "yaxis12": {
         "anchor": "x12",
         "domain": [
          0.53125,
          0.6015625
         ],
         "showgrid": false,
         "title": {
          "text": "Count"
         }
        },
        "yaxis13": {
         "anchor": "x13",
         "domain": [
          0.3984375,
          0.46875
         ],
         "showgrid": false,
         "title": {
          "text": "Count"
         }
        },
        "yaxis14": {
         "anchor": "x14",
         "domain": [
          0.3984375,
          0.46875
         ],
         "showgrid": false,
         "title": {
          "text": "Count"
         }
        },
        "yaxis15": {
         "anchor": "x15",
         "domain": [
          0.3984375,
          0.46875
         ],
         "showgrid": false,
         "title": {
          "text": "Count"
         }
        },
        "yaxis16": {
         "anchor": "x16",
         "domain": [
          0.265625,
          0.3359375
         ],
         "showgrid": false,
         "title": {
          "text": "Count"
         }
        },
        "yaxis17": {
         "anchor": "x17",
         "domain": [
          0.265625,
          0.3359375
         ],
         "showgrid": false,
         "title": {
          "text": "Count"
         }
        },
        "yaxis18": {
         "anchor": "x18",
         "domain": [
          0.265625,
          0.3359375
         ],
         "showgrid": false,
         "title": {
          "text": "Count"
         }
        },
        "yaxis19": {
         "anchor": "x19",
         "domain": [
          0.1328125,
          0.203125
         ],
         "showgrid": false,
         "title": {
          "text": "Count"
         }
        },
        "yaxis2": {
         "anchor": "x2",
         "domain": [
          0.9296875,
          1
         ],
         "showgrid": false,
         "title": {
          "text": "Count"
         }
        },
        "yaxis20": {
         "anchor": "x20",
         "domain": [
          0.1328125,
          0.203125
         ],
         "showgrid": false,
         "title": {
          "text": "Count"
         }
        },
        "yaxis21": {
         "anchor": "x21",
         "domain": [
          0.1328125,
          0.203125
         ],
         "showgrid": false,
         "title": {
          "text": "Count"
         }
        },
        "yaxis22": {
         "anchor": "x22",
         "domain": [
          0,
          0.0703125
         ],
         "showgrid": false,
         "title": {
          "text": "Count"
         }
        },
        "yaxis23": {
         "anchor": "x23",
         "domain": [
          0,
          0.0703125
         ],
         "showgrid": false,
         "title": {
          "text": "Count"
         }
        },
        "yaxis24": {
         "anchor": "x24",
         "domain": [
          0,
          0.0703125
         ]
        },
        "yaxis3": {
         "anchor": "x3",
         "domain": [
          0.9296875,
          1
         ],
         "showgrid": false,
         "title": {
          "text": "Count"
         }
        },
        "yaxis4": {
         "anchor": "x4",
         "domain": [
          0.796875,
          0.8671875
         ],
         "showgrid": false,
         "title": {
          "text": "Count"
         }
        },
        "yaxis5": {
         "anchor": "x5",
         "domain": [
          0.796875,
          0.8671875
         ],
         "showgrid": false,
         "title": {
          "text": "Count"
         }
        },
        "yaxis6": {
         "anchor": "x6",
         "domain": [
          0.796875,
          0.8671875
         ],
         "showgrid": false,
         "title": {
          "text": "Count"
         }
        },
        "yaxis7": {
         "anchor": "x7",
         "domain": [
          0.6640625,
          0.734375
         ],
         "showgrid": false,
         "title": {
          "text": "Count"
         }
        },
        "yaxis8": {
         "anchor": "x8",
         "domain": [
          0.6640625,
          0.734375
         ],
         "showgrid": false,
         "title": {
          "text": "Count"
         }
        },
        "yaxis9": {
         "anchor": "x9",
         "domain": [
          0.6640625,
          0.734375
         ],
         "showgrid": false,
         "title": {
          "text": "Count"
         }
        }
       }
      }
     },
     "metadata": {},
     "output_type": "display_data"
    }
   ],
   "source": [
    "chart_visualisations(reporting_df, columns_to_include)"
   ]
  },
  {
   "cell_type": "markdown",
   "metadata": {},
   "source": [
    "# Create a new visualisation called parameters_by_year. All are stacked charts with the same colour scheme as above, but year runs along the x-axis of each. For those non-int_columns, have the stacked bar chart as different shades of blue, but for hq_country do a 'Sweden', 'Denmark', 'Norway', 'Finland' and 'Other' group... For industry, just skip it..."
   ]
  },
  {
   "cell_type": "code",
   "execution_count": 355,
   "metadata": {},
   "outputs": [],
   "source": [
    "import pandas as pd\n",
    "import plotly.graph_objects as go\n",
    "from plotly.subplots import make_subplots\n",
    "\n",
    "\n",
    "def parameters_by_year(df: pd.DataFrame, columns_to_include: list) -> go.Figure:\n",
    "    \"\"\"\n",
    "    Creates stacked bar charts for selected parameters by year.\n",
    "\n",
    "    Parameters:\n",
    "    -----------\n",
    "    df : pd.DataFrame\n",
    "        The input DataFrame containing the data to visualize.\n",
    "\n",
    "    columns_to_include : list\n",
    "        A list of discrete columns to visualize.\n",
    "\n",
    "    Returns:\n",
    "    --------\n",
    "    go.Figure\n",
    "        A Plotly figure displaying stacked bar charts for each parameter over time.\n",
    "    \"\"\"\n",
    "\n",
    "    # Exclude columns that should not be visualized\n",
    "    exclude_columns = {\n",
    "        \"year\",\n",
    "        \"industry\",\n",
    "        \"years_esg_data\",\n",
    "        \"base_year\",\n",
    "        \"segment\",\n",
    "        \"hq_country\",\n",
    "    }\n",
    "    relevant_columns = [\n",
    "        col\n",
    "        for col in columns_to_include\n",
    "        if col in df.columns and col not in exclude_columns\n",
    "    ]\n",
    "\n",
    "    # Modify hq_country to group non-Nordic countries into \"Other\"\n",
    "    if \"hq_country\" in df.columns:\n",
    "        df[\"hq_country\"] = df[\"hq_country\"].apply(\n",
    "            lambda x: x if x in {\"Sweden\", \"Norway\", \"Denmark\", \"Finland\"} else \"Other\"\n",
    "        )\n",
    "\n",
    "    # Identify integer columns that are binary (0/1)\n",
    "    binary_columns = [\n",
    "        col\n",
    "        for col in relevant_columns\n",
    "        if df[col].nunique() == 2 and sorted(df[col].unique()) == [0, 1]\n",
    "    ]\n",
    "\n",
    "    # Create subplot layout\n",
    "    n_cols = 3\n",
    "    n_rows = -(-len(relevant_columns) // n_cols)\n",
    "    fig = make_subplots(rows=n_rows, cols=n_cols, subplot_titles=relevant_columns)\n",
    "\n",
    "    for idx, col in enumerate(relevant_columns):\n",
    "        row_num = (idx // n_cols) + 1\n",
    "        col_num = (idx % n_cols) + 1\n",
    "\n",
    "        # Aggregate counts per year per category\n",
    "        grouped_data = df.groupby([\"year\", col]).size().unstack(fill_value=0)\n",
    "\n",
    "        grouped_data = grouped_data.div(grouped_data.sum(axis=1), axis=0) * 100\n",
    "\n",
    "        # Assign colors (binary columns get green/beige, others get default)\n",
    "        if col in binary_columns:\n",
    "            colors = [\"rgb(6,212,124)\", \"rgb(254,240,205)\"]  # Green for 1, Beige for 0\n",
    "        else:\n",
    "            colors = None  # Default Plotly colors\n",
    "\n",
    "        # Add traces for each unique category\n",
    "        for i, category in enumerate(grouped_data.columns):\n",
    "            fig.add_trace(\n",
    "                go.Bar(\n",
    "                    x=grouped_data.index.astype(str),\n",
    "                    y=grouped_data[category],\n",
    "                    name=f\"{category}\",\n",
    "                    marker=dict(color=colors[i] if colors else None),\n",
    "                    showlegend=False,\n",
    "                ),\n",
    "                row=row_num,\n",
    "                col=col_num,\n",
    "            )\n",
    "\n",
    "    fig.update_layout(\n",
    "        barmode=\"stack\",\n",
    "        height=400 * n_rows,\n",
    "        width=1600,\n",
    "        template=\"plotly_white\",\n",
    "        showlegend=False,\n",
    "        yaxis=dict(title=\"Percentage\", tickformat=\".1f%\"),\n",
    "    )\n",
    "\n",
    "    return fig"
   ]
  },
  {
   "cell_type": "code",
   "execution_count": 356,
   "metadata": {},
   "outputs": [
    {
     "data": {
      "application/vnd.plotly.v1+json": {
       "config": {
        "plotlyServerURL": "https://plot.ly"
       },
       "data": [
        {
         "marker": {
          "color": "rgb(6,212,124)"
         },
         "name": "0",
         "showlegend": false,
         "type": "bar",
         "x": [
          "2019",
          "2020",
          "2021",
          "2022"
         ],
         "xaxis": "x",
         "y": [
          58.0246913580247,
          59.67413441955194,
          53.53075170842825,
          69.35866983372921
         ],
         "yaxis": "y"
        },
        {
         "marker": {
          "color": "rgb(254,240,205)"
         },
         "name": "1",
         "showlegend": false,
         "type": "bar",
         "x": [
          "2019",
          "2020",
          "2021",
          "2022"
         ],
         "xaxis": "x",
         "y": [
          41.9753086419753,
          40.32586558044807,
          46.46924829157175,
          30.641330166270787
         ],
         "yaxis": "y"
        },
        {
         "marker": {
          "color": "rgb(6,212,124)"
         },
         "name": "0",
         "showlegend": false,
         "type": "bar",
         "x": [
          "2019",
          "2020",
          "2021",
          "2022"
         ],
         "xaxis": "x2",
         "y": [
          35.18518518518518,
          23.828920570264767,
          16.173120728929387,
          99.7624703087886
         ],
         "yaxis": "y2"
        },
        {
         "marker": {
          "color": "rgb(254,240,205)"
         },
         "name": "1",
         "showlegend": false,
         "type": "bar",
         "x": [
          "2019",
          "2020",
          "2021",
          "2022"
         ],
         "xaxis": "x2",
         "y": [
          64.81481481481481,
          76.17107942973523,
          83.82687927107062,
          0.23752969121140144
         ],
         "yaxis": "y2"
        },
        {
         "marker": {
          "color": "rgb(6,212,124)"
         },
         "name": "0",
         "showlegend": false,
         "type": "bar",
         "x": [
          "2019",
          "2020",
          "2021",
          "2022"
         ],
         "xaxis": "x3",
         "y": [
          7.4074074074074066,
          6.313645621181263,
          10.250569476082005,
          13.064133016627078
         ],
         "yaxis": "y3"
        },
        {
         "marker": {
          "color": "rgb(254,240,205)"
         },
         "name": "1",
         "showlegend": false,
         "type": "bar",
         "x": [
          "2019",
          "2020",
          "2021",
          "2022"
         ],
         "xaxis": "x3",
         "y": [
          92.5925925925926,
          93.68635437881873,
          89.749430523918,
          86.93586698337292
         ],
         "yaxis": "y3"
        },
        {
         "marker": {
          "color": "rgb(6,212,124)"
         },
         "name": "0",
         "showlegend": false,
         "type": "bar",
         "x": [
          "2019",
          "2020",
          "2021",
          "2022"
         ],
         "xaxis": "x4",
         "y": [
          24.897119341563787,
          18.73727087576375,
          22.095671981776764,
          17.339667458432302
         ],
         "yaxis": "y4"
        },
        {
         "marker": {
          "color": "rgb(254,240,205)"
         },
         "name": "1",
         "showlegend": false,
         "type": "bar",
         "x": [
          "2019",
          "2020",
          "2021",
          "2022"
         ],
         "xaxis": "x4",
         "y": [
          75.1028806584362,
          81.26272912423626,
          77.90432801822324,
          82.6603325415677
         ],
         "yaxis": "y4"
        },
        {
         "marker": {
          "color": "rgb(6,212,124)"
         },
         "name": "0",
         "showlegend": false,
         "type": "bar",
         "x": [
          "2019",
          "2020",
          "2021",
          "2022"
         ],
         "xaxis": "x5",
         "y": [
          12.139917695473251,
          10.590631364562118,
          11.845102505694761,
          10.21377672209026
         ],
         "yaxis": "y5"
        },
        {
         "marker": {
          "color": "rgb(254,240,205)"
         },
         "name": "1",
         "showlegend": false,
         "type": "bar",
         "x": [
          "2019",
          "2020",
          "2021",
          "2022"
         ],
         "xaxis": "x5",
         "y": [
          87.86008230452676,
          89.40936863543789,
          88.15489749430525,
          89.78622327790974
         ],
         "yaxis": "y5"
        },
        {
         "marker": {
          "color": "rgb(6,212,124)"
         },
         "name": "0",
         "showlegend": false,
         "type": "bar",
         "x": [
          "2019",
          "2020",
          "2021",
          "2022"
         ],
         "xaxis": "x6",
         "y": [
          73.66255144032921,
          66.59877800407332,
          61.731207289293856,
          60.33254156769596
         ],
         "yaxis": "y6"
        },
        {
         "marker": {
          "color": "rgb(254,240,205)"
         },
         "name": "1",
         "showlegend": false,
         "type": "bar",
         "x": [
          "2019",
          "2020",
          "2021",
          "2022"
         ],
         "xaxis": "x6",
         "y": [
          26.337448559670783,
          33.401221995926676,
          38.26879271070615,
          39.66745843230404
         ],
         "yaxis": "y6"
        },
        {
         "marker": {
          "color": "rgb(6,212,124)"
         },
         "name": "0",
         "showlegend": false,
         "type": "bar",
         "x": [
          "2019",
          "2020",
          "2021",
          "2022"
         ],
         "xaxis": "x7",
         "y": [
          85.18518518518519,
          83.5030549898167,
          84.05466970387245,
          84.79809976247031
         ],
         "yaxis": "y7"
        },
        {
         "marker": {
          "color": "rgb(254,240,205)"
         },
         "name": "1",
         "showlegend": false,
         "type": "bar",
         "x": [
          "2019",
          "2020",
          "2021",
          "2022"
         ],
         "xaxis": "x7",
         "y": [
          14.814814814814813,
          16.4969450101833,
          15.945330296127564,
          15.201900237529692
         ],
         "yaxis": "y7"
        },
        {
         "marker": {
          "color": "rgb(6,212,124)"
         },
         "name": "0",
         "showlegend": false,
         "type": "bar",
         "x": [
          "2019",
          "2020",
          "2021",
          "2022"
         ],
         "xaxis": "x8",
         "y": [
          51.028806584362144,
          38.4928716904277,
          53.75854214123007,
          47.03087885985748
         ],
         "yaxis": "y8"
        },
        {
         "marker": {
          "color": "rgb(254,240,205)"
         },
         "name": "1",
         "showlegend": false,
         "type": "bar",
         "x": [
          "2019",
          "2020",
          "2021",
          "2022"
         ],
         "xaxis": "x8",
         "y": [
          48.971193415637856,
          61.5071283095723,
          46.24145785876993,
          52.96912114014252
         ],
         "yaxis": "y8"
        },
        {
         "marker": {
          "color": "rgb(6,212,124)"
         },
         "name": "0",
         "showlegend": false,
         "type": "bar",
         "x": [
          "2019",
          "2020",
          "2021",
          "2022"
         ],
         "xaxis": "x9",
         "y": [
          89.7119341563786,
          90.4276985743381,
          92.48291571753985,
          90.73634204275535
         ],
         "yaxis": "y9"
        },
        {
         "marker": {
          "color": "rgb(254,240,205)"
         },
         "name": "1",
         "showlegend": false,
         "type": "bar",
         "x": [
          "2019",
          "2020",
          "2021",
          "2022"
         ],
         "xaxis": "x9",
         "y": [
          10.2880658436214,
          9.572301425661914,
          7.517084282460136,
          9.263657957244655
         ],
         "yaxis": "y9"
        },
        {
         "marker": {
          "color": "rgb(6,212,124)"
         },
         "name": "0",
         "showlegend": false,
         "type": "bar",
         "x": [
          "2019",
          "2020",
          "2021",
          "2022"
         ],
         "xaxis": "x10",
         "y": [
          24.691358024691358,
          17.311608961303463,
          16.173120728929387,
          16.389548693586697
         ],
         "yaxis": "y10"
        },
        {
         "marker": {
          "color": "rgb(254,240,205)"
         },
         "name": "1",
         "showlegend": false,
         "type": "bar",
         "x": [
          "2019",
          "2020",
          "2021",
          "2022"
         ],
         "xaxis": "x10",
         "y": [
          75.30864197530865,
          82.68839103869654,
          83.82687927107062,
          83.6104513064133
         ],
         "yaxis": "y10"
        },
        {
         "marker": {
          "color": "rgb(6,212,124)"
         },
         "name": "0",
         "showlegend": false,
         "type": "bar",
         "x": [
          "2019",
          "2020",
          "2021",
          "2022"
         ],
         "xaxis": "x11",
         "y": [
          64.19753086419753,
          65.9877800407332,
          63.781321184510254,
          66.5083135391924
         ],
         "yaxis": "y11"
        },
        {
         "marker": {
          "color": "rgb(254,240,205)"
         },
         "name": "1",
         "showlegend": false,
         "type": "bar",
         "x": [
          "2019",
          "2020",
          "2021",
          "2022"
         ],
         "xaxis": "x11",
         "y": [
          35.80246913580247,
          34.0122199592668,
          36.21867881548975,
          33.4916864608076
         ],
         "yaxis": "y11"
        },
        {
         "marker": {
          "color": "rgb(6,212,124)"
         },
         "name": "0",
         "showlegend": false,
         "type": "bar",
         "x": [
          "2019",
          "2020",
          "2021",
          "2022"
         ],
         "xaxis": "x12",
         "y": [
          66.0493827160494,
          61.099796334012225,
          57.1753986332574,
          60.33254156769596
         ],
         "yaxis": "y12"
        },
        {
         "marker": {
          "color": "rgb(254,240,205)"
         },
         "name": "1",
         "showlegend": false,
         "type": "bar",
         "x": [
          "2019",
          "2020",
          "2021",
          "2022"
         ],
         "xaxis": "x12",
         "y": [
          33.95061728395062,
          38.90020366598778,
          42.8246013667426,
          39.66745843230404
         ],
         "yaxis": "y12"
        },
        {
         "marker": {
          "color": "rgb(6,212,124)"
         },
         "name": "0",
         "showlegend": false,
         "type": "bar",
         "x": [
          "2019",
          "2020",
          "2021",
          "2022"
         ],
         "xaxis": "x13",
         "y": [
          37.86008230452675,
          32.9938900203666,
          30.751708428246015,
          28.978622327790976
         ],
         "yaxis": "y13"
        },
        {
         "marker": {
          "color": "rgb(254,240,205)"
         },
         "name": "1",
         "showlegend": false,
         "type": "bar",
         "x": [
          "2019",
          "2020",
          "2021",
          "2022"
         ],
         "xaxis": "x13",
         "y": [
          62.139917695473244,
          67.0061099796334,
          69.24829157175398,
          71.02137767220903
         ],
         "yaxis": "y13"
        },
        {
         "marker": {
          "color": "rgb(6,212,124)"
         },
         "name": "0",
         "showlegend": false,
         "type": "bar",
         "x": [
          "2019",
          "2020",
          "2021",
          "2022"
         ],
         "xaxis": "x14",
         "y": [
          47.94238683127572,
          38.289205702647656,
          38.95216400911162,
          32.304038004750595
         ],
         "yaxis": "y14"
        },
        {
         "marker": {
          "color": "rgb(254,240,205)"
         },
         "name": "1",
         "showlegend": false,
         "type": "bar",
         "x": [
          "2019",
          "2020",
          "2021",
          "2022"
         ],
         "xaxis": "x14",
         "y": [
          52.05761316872428,
          61.710794297352344,
          61.04783599088838,
          67.6959619952494
         ],
         "yaxis": "y14"
        },
        {
         "marker": {
          "color": "rgb(6,212,124)"
         },
         "name": "0",
         "showlegend": false,
         "type": "bar",
         "x": [
          "2019",
          "2020",
          "2021",
          "2022"
         ],
         "xaxis": "x15",
         "y": [
          69.54732510288066,
          67.61710794297352,
          60.36446469248291,
          60.33254156769596
         ],
         "yaxis": "y15"
        },
        {
         "marker": {
          "color": "rgb(254,240,205)"
         },
         "name": "1",
         "showlegend": false,
         "type": "bar",
         "x": [
          "2019",
          "2020",
          "2021",
          "2022"
         ],
         "xaxis": "x15",
         "y": [
          30.45267489711934,
          32.382892057026474,
          39.63553530751708,
          39.66745843230404
         ],
         "yaxis": "y15"
        },
        {
         "marker": {
          "color": "rgb(6,212,124)"
         },
         "name": "0",
         "showlegend": false,
         "type": "bar",
         "x": [
          "2019",
          "2020",
          "2021",
          "2022"
         ],
         "xaxis": "x16",
         "y": [
          46.09053497942387,
          38.69653767820774,
          25.05694760820046,
          19.239904988123516
         ],
         "yaxis": "y16"
        },
        {
         "marker": {
          "color": "rgb(254,240,205)"
         },
         "name": "1",
         "showlegend": false,
         "type": "bar",
         "x": [
          "2019",
          "2020",
          "2021",
          "2022"
         ],
         "xaxis": "x16",
         "y": [
          53.90946502057613,
          61.30346232179226,
          74.94305239179954,
          80.76009501187649
         ],
         "yaxis": "y16"
        },
        {
         "marker": {
          "color": "rgb(6,212,124)"
         },
         "name": "0",
         "showlegend": false,
         "type": "bar",
         "x": [
          "2019",
          "2020",
          "2021",
          "2022"
         ],
         "xaxis": "x17",
         "y": [
          64.60905349794238,
          54.989816700610994,
          38.95216400911162,
          32.304038004750595
         ],
         "yaxis": "y17"
        },
        {
         "marker": {
          "color": "rgb(254,240,205)"
         },
         "name": "1",
         "showlegend": false,
         "type": "bar",
         "x": [
          "2019",
          "2020",
          "2021",
          "2022"
         ],
         "xaxis": "x17",
         "y": [
          35.390946502057616,
          45.010183299389,
          61.04783599088838,
          67.6959619952494
         ],
         "yaxis": "y17"
        }
       ],
       "layout": {
        "annotations": [
         {
          "font": {
           "size": 16
          },
          "showarrow": false,
          "text": "external_audit_of_ESG_report",
          "x": 0.14444444444444446,
          "xanchor": "center",
          "xref": "paper",
          "y": 0.9999999999999999,
          "yanchor": "bottom",
          "yref": "paper"
         },
         {
          "font": {
           "size": 16
          },
          "showarrow": false,
          "text": "ceo_sust_statem",
          "x": 0.5,
          "xanchor": "center",
          "xref": "paper",
          "y": 0.9999999999999999,
          "yanchor": "bottom",
          "yref": "paper"
         },
         {
          "font": {
           "size": 16
          },
          "showarrow": false,
          "text": "environmental_policy_and_assessment",
          "x": 0.8555555555555556,
          "xanchor": "center",
          "xref": "paper",
          "y": 0.9999999999999999,
          "yanchor": "bottom",
          "yref": "paper"
         },
         {
          "font": {
           "size": 16
          },
          "showarrow": false,
          "text": "environmental_performance_targets",
          "x": 0.14444444444444446,
          "xanchor": "center",
          "xref": "paper",
          "y": 0.8194444444444444,
          "yanchor": "bottom",
          "yref": "paper"
         },
         {
          "font": {
           "size": 16
          },
          "showarrow": false,
          "text": "reduced_environmental_impact",
          "x": 0.5,
          "xanchor": "center",
          "xref": "paper",
          "y": 0.8194444444444444,
          "yanchor": "bottom",
          "yref": "paper"
         },
         {
          "font": {
           "size": 16
          },
          "showarrow": false,
          "text": "increased_renewable_energy",
          "x": 0.8555555555555556,
          "xanchor": "center",
          "xref": "paper",
          "y": 0.8194444444444444,
          "yanchor": "bottom",
          "yref": "paper"
         },
         {
          "font": {
           "size": 16
          },
          "showarrow": false,
          "text": "disclosure_of_raw_material_use",
          "x": 0.14444444444444446,
          "xanchor": "center",
          "xref": "paper",
          "y": 0.638888888888889,
          "yanchor": "bottom",
          "yref": "paper"
         },
         {
          "font": {
           "size": 16
          },
          "showarrow": false,
          "text": "resource_efficiency_target",
          "x": 0.5,
          "xanchor": "center",
          "xref": "paper",
          "y": 0.638888888888889,
          "yanchor": "bottom",
          "yref": "paper"
         },
         {
          "font": {
           "size": 16
          },
          "showarrow": false,
          "text": "disclosure_of_water_discharges",
          "x": 0.8555555555555556,
          "xanchor": "center",
          "xref": "paper",
          "y": 0.638888888888889,
          "yanchor": "bottom",
          "yref": "paper"
         },
         {
          "font": {
           "size": 16
          },
          "showarrow": false,
          "text": "supplier_guidelines",
          "x": 0.14444444444444446,
          "xanchor": "center",
          "xref": "paper",
          "y": 0.4583333333333333,
          "yanchor": "bottom",
          "yref": "paper"
         },
         {
          "font": {
           "size": 16
          },
          "showarrow": false,
          "text": "disclosure_of_suppliers_audited",
          "x": 0.5,
          "xanchor": "center",
          "xref": "paper",
          "y": 0.4583333333333333,
          "yanchor": "bottom",
          "yref": "paper"
         },
         {
          "font": {
           "size": 16
          },
          "showarrow": false,
          "text": "disclosure_of_supplier_evaluation_procedures",
          "x": 0.8555555555555556,
          "xanchor": "center",
          "xref": "paper",
          "y": 0.4583333333333333,
          "yanchor": "bottom",
          "yref": "paper"
         },
         {
          "font": {
           "size": 16
          },
          "showarrow": false,
          "text": "supplier_environmental_assessment",
          "x": 0.14444444444444446,
          "xanchor": "center",
          "xref": "paper",
          "y": 0.2777777777777778,
          "yanchor": "bottom",
          "yref": "paper"
         },
         {
          "font": {
           "size": 16
          },
          "showarrow": false,
          "text": "energy_consump_bool",
          "x": 0.5,
          "xanchor": "center",
          "xref": "paper",
          "y": 0.2777777777777778,
          "yanchor": "bottom",
          "yref": "paper"
         },
         {
          "font": {
           "size": 16
          },
          "showarrow": false,
          "text": "water_withdraw_bool",
          "x": 0.8555555555555556,
          "xanchor": "center",
          "xref": "paper",
          "y": 0.2777777777777778,
          "yanchor": "bottom",
          "yref": "paper"
         },
         {
          "font": {
           "size": 16
          },
          "showarrow": false,
          "text": "ghg_emis_bool",
          "x": 0.14444444444444446,
          "xanchor": "center",
          "xref": "paper",
          "y": 0.09722222222222222,
          "yanchor": "bottom",
          "yref": "paper"
         },
         {
          "font": {
           "size": 16
          },
          "showarrow": false,
          "text": "transport_emis_bool",
          "x": 0.5,
          "xanchor": "center",
          "xref": "paper",
          "y": 0.09722222222222222,
          "yanchor": "bottom",
          "yref": "paper"
         }
        ],
        "barmode": "stack",
        "height": 2400,
        "showlegend": false,
        "template": {
         "data": {
          "bar": [
           {
            "error_x": {
             "color": "#2a3f5f"
            },
            "error_y": {
             "color": "#2a3f5f"
            },
            "marker": {
             "line": {
              "color": "white",
              "width": 0.5
             },
             "pattern": {
              "fillmode": "overlay",
              "size": 10,
              "solidity": 0.2
             }
            },
            "type": "bar"
           }
          ],
          "barpolar": [
           {
            "marker": {
             "line": {
              "color": "white",
              "width": 0.5
             },
             "pattern": {
              "fillmode": "overlay",
              "size": 10,
              "solidity": 0.2
             }
            },
            "type": "barpolar"
           }
          ],
          "carpet": [
           {
            "aaxis": {
             "endlinecolor": "#2a3f5f",
             "gridcolor": "#C8D4E3",
             "linecolor": "#C8D4E3",
             "minorgridcolor": "#C8D4E3",
             "startlinecolor": "#2a3f5f"
            },
            "baxis": {
             "endlinecolor": "#2a3f5f",
             "gridcolor": "#C8D4E3",
             "linecolor": "#C8D4E3",
             "minorgridcolor": "#C8D4E3",
             "startlinecolor": "#2a3f5f"
            },
            "type": "carpet"
           }
          ],
          "choropleth": [
           {
            "colorbar": {
             "outlinewidth": 0,
             "ticks": ""
            },
            "type": "choropleth"
           }
          ],
          "contour": [
           {
            "colorbar": {
             "outlinewidth": 0,
             "ticks": ""
            },
            "colorscale": [
             [
              0,
              "#0d0887"
             ],
             [
              0.1111111111111111,
              "#46039f"
             ],
             [
              0.2222222222222222,
              "#7201a8"
             ],
             [
              0.3333333333333333,
              "#9c179e"
             ],
             [
              0.4444444444444444,
              "#bd3786"
             ],
             [
              0.5555555555555556,
              "#d8576b"
             ],
             [
              0.6666666666666666,
              "#ed7953"
             ],
             [
              0.7777777777777778,
              "#fb9f3a"
             ],
             [
              0.8888888888888888,
              "#fdca26"
             ],
             [
              1,
              "#f0f921"
             ]
            ],
            "type": "contour"
           }
          ],
          "contourcarpet": [
           {
            "colorbar": {
             "outlinewidth": 0,
             "ticks": ""
            },
            "type": "contourcarpet"
           }
          ],
          "heatmap": [
           {
            "colorbar": {
             "outlinewidth": 0,
             "ticks": ""
            },
            "colorscale": [
             [
              0,
              "#0d0887"
             ],
             [
              0.1111111111111111,
              "#46039f"
             ],
             [
              0.2222222222222222,
              "#7201a8"
             ],
             [
              0.3333333333333333,
              "#9c179e"
             ],
             [
              0.4444444444444444,
              "#bd3786"
             ],
             [
              0.5555555555555556,
              "#d8576b"
             ],
             [
              0.6666666666666666,
              "#ed7953"
             ],
             [
              0.7777777777777778,
              "#fb9f3a"
             ],
             [
              0.8888888888888888,
              "#fdca26"
             ],
             [
              1,
              "#f0f921"
             ]
            ],
            "type": "heatmap"
           }
          ],
          "heatmapgl": [
           {
            "colorbar": {
             "outlinewidth": 0,
             "ticks": ""
            },
            "colorscale": [
             [
              0,
              "#0d0887"
             ],
             [
              0.1111111111111111,
              "#46039f"
             ],
             [
              0.2222222222222222,
              "#7201a8"
             ],
             [
              0.3333333333333333,
              "#9c179e"
             ],
             [
              0.4444444444444444,
              "#bd3786"
             ],
             [
              0.5555555555555556,
              "#d8576b"
             ],
             [
              0.6666666666666666,
              "#ed7953"
             ],
             [
              0.7777777777777778,
              "#fb9f3a"
             ],
             [
              0.8888888888888888,
              "#fdca26"
             ],
             [
              1,
              "#f0f921"
             ]
            ],
            "type": "heatmapgl"
           }
          ],
          "histogram": [
           {
            "marker": {
             "pattern": {
              "fillmode": "overlay",
              "size": 10,
              "solidity": 0.2
             }
            },
            "type": "histogram"
           }
          ],
          "histogram2d": [
           {
            "colorbar": {
             "outlinewidth": 0,
             "ticks": ""
            },
            "colorscale": [
             [
              0,
              "#0d0887"
             ],
             [
              0.1111111111111111,
              "#46039f"
             ],
             [
              0.2222222222222222,
              "#7201a8"
             ],
             [
              0.3333333333333333,
              "#9c179e"
             ],
             [
              0.4444444444444444,
              "#bd3786"
             ],
             [
              0.5555555555555556,
              "#d8576b"
             ],
             [
              0.6666666666666666,
              "#ed7953"
             ],
             [
              0.7777777777777778,
              "#fb9f3a"
             ],
             [
              0.8888888888888888,
              "#fdca26"
             ],
             [
              1,
              "#f0f921"
             ]
            ],
            "type": "histogram2d"
           }
          ],
          "histogram2dcontour": [
           {
            "colorbar": {
             "outlinewidth": 0,
             "ticks": ""
            },
            "colorscale": [
             [
              0,
              "#0d0887"
             ],
             [
              0.1111111111111111,
              "#46039f"
             ],
             [
              0.2222222222222222,
              "#7201a8"
             ],
             [
              0.3333333333333333,
              "#9c179e"
             ],
             [
              0.4444444444444444,
              "#bd3786"
             ],
             [
              0.5555555555555556,
              "#d8576b"
             ],
             [
              0.6666666666666666,
              "#ed7953"
             ],
             [
              0.7777777777777778,
              "#fb9f3a"
             ],
             [
              0.8888888888888888,
              "#fdca26"
             ],
             [
              1,
              "#f0f921"
             ]
            ],
            "type": "histogram2dcontour"
           }
          ],
          "mesh3d": [
           {
            "colorbar": {
             "outlinewidth": 0,
             "ticks": ""
            },
            "type": "mesh3d"
           }
          ],
          "parcoords": [
           {
            "line": {
             "colorbar": {
              "outlinewidth": 0,
              "ticks": ""
             }
            },
            "type": "parcoords"
           }
          ],
          "pie": [
           {
            "automargin": true,
            "type": "pie"
           }
          ],
          "scatter": [
           {
            "fillpattern": {
             "fillmode": "overlay",
             "size": 10,
             "solidity": 0.2
            },
            "type": "scatter"
           }
          ],
          "scatter3d": [
           {
            "line": {
             "colorbar": {
              "outlinewidth": 0,
              "ticks": ""
             }
            },
            "marker": {
             "colorbar": {
              "outlinewidth": 0,
              "ticks": ""
             }
            },
            "type": "scatter3d"
           }
          ],
          "scattercarpet": [
           {
            "marker": {
             "colorbar": {
              "outlinewidth": 0,
              "ticks": ""
             }
            },
            "type": "scattercarpet"
           }
          ],
          "scattergeo": [
           {
            "marker": {
             "colorbar": {
              "outlinewidth": 0,
              "ticks": ""
             }
            },
            "type": "scattergeo"
           }
          ],
          "scattergl": [
           {
            "marker": {
             "colorbar": {
              "outlinewidth": 0,
              "ticks": ""
             }
            },
            "type": "scattergl"
           }
          ],
          "scattermapbox": [
           {
            "marker": {
             "colorbar": {
              "outlinewidth": 0,
              "ticks": ""
             }
            },
            "type": "scattermapbox"
           }
          ],
          "scatterpolar": [
           {
            "marker": {
             "colorbar": {
              "outlinewidth": 0,
              "ticks": ""
             }
            },
            "type": "scatterpolar"
           }
          ],
          "scatterpolargl": [
           {
            "marker": {
             "colorbar": {
              "outlinewidth": 0,
              "ticks": ""
             }
            },
            "type": "scatterpolargl"
           }
          ],
          "scatterternary": [
           {
            "marker": {
             "colorbar": {
              "outlinewidth": 0,
              "ticks": ""
             }
            },
            "type": "scatterternary"
           }
          ],
          "surface": [
           {
            "colorbar": {
             "outlinewidth": 0,
             "ticks": ""
            },
            "colorscale": [
             [
              0,
              "#0d0887"
             ],
             [
              0.1111111111111111,
              "#46039f"
             ],
             [
              0.2222222222222222,
              "#7201a8"
             ],
             [
              0.3333333333333333,
              "#9c179e"
             ],
             [
              0.4444444444444444,
              "#bd3786"
             ],
             [
              0.5555555555555556,
              "#d8576b"
             ],
             [
              0.6666666666666666,
              "#ed7953"
             ],
             [
              0.7777777777777778,
              "#fb9f3a"
             ],
             [
              0.8888888888888888,
              "#fdca26"
             ],
             [
              1,
              "#f0f921"
             ]
            ],
            "type": "surface"
           }
          ],
          "table": [
           {
            "cells": {
             "fill": {
              "color": "#EBF0F8"
             },
             "line": {
              "color": "white"
             }
            },
            "header": {
             "fill": {
              "color": "#C8D4E3"
             },
             "line": {
              "color": "white"
             }
            },
            "type": "table"
           }
          ]
         },
         "layout": {
          "annotationdefaults": {
           "arrowcolor": "#2a3f5f",
           "arrowhead": 0,
           "arrowwidth": 1
          },
          "autotypenumbers": "strict",
          "coloraxis": {
           "colorbar": {
            "outlinewidth": 0,
            "ticks": ""
           }
          },
          "colorscale": {
           "diverging": [
            [
             0,
             "#8e0152"
            ],
            [
             0.1,
             "#c51b7d"
            ],
            [
             0.2,
             "#de77ae"
            ],
            [
             0.3,
             "#f1b6da"
            ],
            [
             0.4,
             "#fde0ef"
            ],
            [
             0.5,
             "#f7f7f7"
            ],
            [
             0.6,
             "#e6f5d0"
            ],
            [
             0.7,
             "#b8e186"
            ],
            [
             0.8,
             "#7fbc41"
            ],
            [
             0.9,
             "#4d9221"
            ],
            [
             1,
             "#276419"
            ]
           ],
           "sequential": [
            [
             0,
             "#0d0887"
            ],
            [
             0.1111111111111111,
             "#46039f"
            ],
            [
             0.2222222222222222,
             "#7201a8"
            ],
            [
             0.3333333333333333,
             "#9c179e"
            ],
            [
             0.4444444444444444,
             "#bd3786"
            ],
            [
             0.5555555555555556,
             "#d8576b"
            ],
            [
             0.6666666666666666,
             "#ed7953"
            ],
            [
             0.7777777777777778,
             "#fb9f3a"
            ],
            [
             0.8888888888888888,
             "#fdca26"
            ],
            [
             1,
             "#f0f921"
            ]
           ],
           "sequentialminus": [
            [
             0,
             "#0d0887"
            ],
            [
             0.1111111111111111,
             "#46039f"
            ],
            [
             0.2222222222222222,
             "#7201a8"
            ],
            [
             0.3333333333333333,
             "#9c179e"
            ],
            [
             0.4444444444444444,
             "#bd3786"
            ],
            [
             0.5555555555555556,
             "#d8576b"
            ],
            [
             0.6666666666666666,
             "#ed7953"
            ],
            [
             0.7777777777777778,
             "#fb9f3a"
            ],
            [
             0.8888888888888888,
             "#fdca26"
            ],
            [
             1,
             "#f0f921"
            ]
           ]
          },
          "colorway": [
           "#636efa",
           "#EF553B",
           "#00cc96",
           "#ab63fa",
           "#FFA15A",
           "#19d3f3",
           "#FF6692",
           "#B6E880",
           "#FF97FF",
           "#FECB52"
          ],
          "font": {
           "color": "#2a3f5f"
          },
          "geo": {
           "bgcolor": "white",
           "lakecolor": "white",
           "landcolor": "white",
           "showlakes": true,
           "showland": true,
           "subunitcolor": "#C8D4E3"
          },
          "hoverlabel": {
           "align": "left"
          },
          "hovermode": "closest",
          "mapbox": {
           "style": "light"
          },
          "paper_bgcolor": "white",
          "plot_bgcolor": "white",
          "polar": {
           "angularaxis": {
            "gridcolor": "#EBF0F8",
            "linecolor": "#EBF0F8",
            "ticks": ""
           },
           "bgcolor": "white",
           "radialaxis": {
            "gridcolor": "#EBF0F8",
            "linecolor": "#EBF0F8",
            "ticks": ""
           }
          },
          "scene": {
           "xaxis": {
            "backgroundcolor": "white",
            "gridcolor": "#DFE8F3",
            "gridwidth": 2,
            "linecolor": "#EBF0F8",
            "showbackground": true,
            "ticks": "",
            "zerolinecolor": "#EBF0F8"
           },
           "yaxis": {
            "backgroundcolor": "white",
            "gridcolor": "#DFE8F3",
            "gridwidth": 2,
            "linecolor": "#EBF0F8",
            "showbackground": true,
            "ticks": "",
            "zerolinecolor": "#EBF0F8"
           },
           "zaxis": {
            "backgroundcolor": "white",
            "gridcolor": "#DFE8F3",
            "gridwidth": 2,
            "linecolor": "#EBF0F8",
            "showbackground": true,
            "ticks": "",
            "zerolinecolor": "#EBF0F8"
           }
          },
          "shapedefaults": {
           "line": {
            "color": "#2a3f5f"
           }
          },
          "ternary": {
           "aaxis": {
            "gridcolor": "#DFE8F3",
            "linecolor": "#A2B1C6",
            "ticks": ""
           },
           "baxis": {
            "gridcolor": "#DFE8F3",
            "linecolor": "#A2B1C6",
            "ticks": ""
           },
           "bgcolor": "white",
           "caxis": {
            "gridcolor": "#DFE8F3",
            "linecolor": "#A2B1C6",
            "ticks": ""
           }
          },
          "title": {
           "x": 0.05
          },
          "xaxis": {
           "automargin": true,
           "gridcolor": "#EBF0F8",
           "linecolor": "#EBF0F8",
           "ticks": "",
           "title": {
            "standoff": 15
           },
           "zerolinecolor": "#EBF0F8",
           "zerolinewidth": 2
          },
          "yaxis": {
           "automargin": true,
           "gridcolor": "#EBF0F8",
           "linecolor": "#EBF0F8",
           "ticks": "",
           "title": {
            "standoff": 15
           },
           "zerolinecolor": "#EBF0F8",
           "zerolinewidth": 2
          }
         }
        },
        "width": 1600,
        "xaxis": {
         "anchor": "y",
         "domain": [
          0,
          0.2888888888888889
         ]
        },
        "xaxis10": {
         "anchor": "y10",
         "domain": [
          0,
          0.2888888888888889
         ]
        },
        "xaxis11": {
         "anchor": "y11",
         "domain": [
          0.35555555555555557,
          0.6444444444444445
         ]
        },
        "xaxis12": {
         "anchor": "y12",
         "domain": [
          0.7111111111111111,
          1
         ]
        },
        "xaxis13": {
         "anchor": "y13",
         "domain": [
          0,
          0.2888888888888889
         ]
        },
        "xaxis14": {
         "anchor": "y14",
         "domain": [
          0.35555555555555557,
          0.6444444444444445
         ]
        },
        "xaxis15": {
         "anchor": "y15",
         "domain": [
          0.7111111111111111,
          1
         ]
        },
        "xaxis16": {
         "anchor": "y16",
         "domain": [
          0,
          0.2888888888888889
         ]
        },
        "xaxis17": {
         "anchor": "y17",
         "domain": [
          0.35555555555555557,
          0.6444444444444445
         ]
        },
        "xaxis18": {
         "anchor": "y18",
         "domain": [
          0.7111111111111111,
          1
         ]
        },
        "xaxis2": {
         "anchor": "y2",
         "domain": [
          0.35555555555555557,
          0.6444444444444445
         ]
        },
        "xaxis3": {
         "anchor": "y3",
         "domain": [
          0.7111111111111111,
          1
         ]
        },
        "xaxis4": {
         "anchor": "y4",
         "domain": [
          0,
          0.2888888888888889
         ]
        },
        "xaxis5": {
         "anchor": "y5",
         "domain": [
          0.35555555555555557,
          0.6444444444444445
         ]
        },
        "xaxis6": {
         "anchor": "y6",
         "domain": [
          0.7111111111111111,
          1
         ]
        },
        "xaxis7": {
         "anchor": "y7",
         "domain": [
          0,
          0.2888888888888889
         ]
        },
        "xaxis8": {
         "anchor": "y8",
         "domain": [
          0.35555555555555557,
          0.6444444444444445
         ]
        },
        "xaxis9": {
         "anchor": "y9",
         "domain": [
          0.7111111111111111,
          1
         ]
        },
        "yaxis": {
         "anchor": "x",
         "domain": [
          0.9027777777777777,
          0.9999999999999999
         ],
         "tickformat": ".1f%",
         "title": {
          "text": "Percentage"
         }
        },
        "yaxis10": {
         "anchor": "x10",
         "domain": [
          0.3611111111111111,
          0.4583333333333333
         ]
        },
        "yaxis11": {
         "anchor": "x11",
         "domain": [
          0.3611111111111111,
          0.4583333333333333
         ]
        },
        "yaxis12": {
         "anchor": "x12",
         "domain": [
          0.3611111111111111,
          0.4583333333333333
         ]
        },
        "yaxis13": {
         "anchor": "x13",
         "domain": [
          0.18055555555555555,
          0.2777777777777778
         ]
        },
        "yaxis14": {
         "anchor": "x14",
         "domain": [
          0.18055555555555555,
          0.2777777777777778
         ]
        },
        "yaxis15": {
         "anchor": "x15",
         "domain": [
          0.18055555555555555,
          0.2777777777777778
         ]
        },
        "yaxis16": {
         "anchor": "x16",
         "domain": [
          0,
          0.09722222222222222
         ]
        },
        "yaxis17": {
         "anchor": "x17",
         "domain": [
          0,
          0.09722222222222222
         ]
        },
        "yaxis18": {
         "anchor": "x18",
         "domain": [
          0,
          0.09722222222222222
         ]
        },
        "yaxis2": {
         "anchor": "x2",
         "domain": [
          0.9027777777777777,
          0.9999999999999999
         ]
        },
        "yaxis3": {
         "anchor": "x3",
         "domain": [
          0.9027777777777777,
          0.9999999999999999
         ]
        },
        "yaxis4": {
         "anchor": "x4",
         "domain": [
          0.7222222222222222,
          0.8194444444444444
         ]
        },
        "yaxis5": {
         "anchor": "x5",
         "domain": [
          0.7222222222222222,
          0.8194444444444444
         ]
        },
        "yaxis6": {
         "anchor": "x6",
         "domain": [
          0.7222222222222222,
          0.8194444444444444
         ]
        },
        "yaxis7": {
         "anchor": "x7",
         "domain": [
          0.5416666666666667,
          0.638888888888889
         ]
        },
        "yaxis8": {
         "anchor": "x8",
         "domain": [
          0.5416666666666667,
          0.638888888888889
         ]
        },
        "yaxis9": {
         "anchor": "x9",
         "domain": [
          0.5416666666666667,
          0.638888888888889
         ]
        }
       }
      }
     },
     "metadata": {},
     "output_type": "display_data"
    }
   ],
   "source": [
    "parameters_by_year(reporting_df, columns_to_include)"
   ]
  },
  {
   "cell_type": "code",
   "execution_count": 357,
   "metadata": {},
   "outputs": [],
   "source": [
    "metrics = [\n",
    "    \"external_audit_of_ESG_report\",\n",
    "    \"ceo_sust_statem\",\n",
    "    \"environmental_policy_and_assessment\",\n",
    "    \"environmental_performance_targets\",\n",
    "    \"reduced_environmental_impact\",\n",
    "    \"increased_renewable_energy\",\n",
    "    \"disclosure_of_raw_material_use\",\n",
    "    \"resource_efficiency_target\",\n",
    "    \"disclosure_of_water_discharges\",\n",
    "    \"supplier_guidelines\",\n",
    "    \"disclosure_of_suppliers_audited\",\n",
    "    \"disclosure_of_supplier_evaluation_procedures\",\n",
    "    \"supplier_environmental_assessment\",\n",
    "    \"energy_consump_bool\",\n",
    "    \"water_withdraw_bool\",\n",
    "    \"ghg_emis_bool\",\n",
    "    \"transport_emis_bool\",\n",
    "]\n",
    "\n",
    "# Calculate count_of_metrics (sum of columns with value 1)\n",
    "reporting_df[\"metrics_reported\"] = reporting_df[metrics].sum(axis=1)\n",
    "\n",
    "# # Identify missing metrics (those that are 0)\n",
    "# reporting_df[\"missing_metrics\"] = reporting_df[metrics].apply(\n",
    "#     lambda row: [col for col in metrics if row[col] == 0], axis=1\n",
    "# )"
   ]
  },
  {
   "cell_type": "code",
   "execution_count": 358,
   "metadata": {},
   "outputs": [
    {
     "data": {
      "text/html": [
       "<div>\n",
       "<style scoped>\n",
       "    .dataframe tbody tr th:only-of-type {\n",
       "        vertical-align: middle;\n",
       "    }\n",
       "\n",
       "    .dataframe tbody tr th {\n",
       "        vertical-align: top;\n",
       "    }\n",
       "\n",
       "    .dataframe thead th {\n",
       "        text-align: right;\n",
       "    }\n",
       "</style>\n",
       "<table border=\"1\" class=\"dataframe\">\n",
       "  <thead>\n",
       "    <tr style=\"text-align: right;\">\n",
       "      <th></th>\n",
       "      <th>company</th>\n",
       "      <th>ticker</th>\n",
       "      <th>year</th>\n",
       "      <th>segment</th>\n",
       "      <th>industry</th>\n",
       "      <th>hq_country</th>\n",
       "      <th>external_audit_of_ESG_report</th>\n",
       "      <th>years_esg_data</th>\n",
       "      <th>base_year</th>\n",
       "      <th>ceo_sust_statem</th>\n",
       "      <th>environmental_policy_and_assessment</th>\n",
       "      <th>environmental_performance_targets</th>\n",
       "      <th>reduced_environmental_impact</th>\n",
       "      <th>increased_renewable_energy</th>\n",
       "      <th>disclosure_of_raw_material_use</th>\n",
       "      <th>resource_efficiency_target</th>\n",
       "      <th>disclosure_of_water_discharges</th>\n",
       "      <th>supplier_guidelines</th>\n",
       "      <th>disclosure_of_suppliers_audited</th>\n",
       "      <th>disclosure_of_supplier_evaluation_procedures</th>\n",
       "      <th>supplier_environmental_assessment</th>\n",
       "      <th>energy_consump_bool</th>\n",
       "      <th>water_withdraw_bool</th>\n",
       "      <th>ghg_emis_bool</th>\n",
       "      <th>transport_emis_bool</th>\n",
       "      <th>metrics_reported</th>\n",
       "    </tr>\n",
       "  </thead>\n",
       "  <tbody>\n",
       "    <tr>\n",
       "      <th>0</th>\n",
       "      <td>Archer Ltd.</td>\n",
       "      <td>ARCHO</td>\n",
       "      <td>2020</td>\n",
       "      <td>Mid</td>\n",
       "      <td>Energy</td>\n",
       "      <td>Norway</td>\n",
       "      <td>1</td>\n",
       "      <td>1</td>\n",
       "      <td>2020</td>\n",
       "      <td>1</td>\n",
       "      <td>1</td>\n",
       "      <td>1</td>\n",
       "      <td>1</td>\n",
       "      <td>0</td>\n",
       "      <td>0</td>\n",
       "      <td>1</td>\n",
       "      <td>0</td>\n",
       "      <td>1</td>\n",
       "      <td>1</td>\n",
       "      <td>0</td>\n",
       "      <td>0</td>\n",
       "      <td>1</td>\n",
       "      <td>0</td>\n",
       "      <td>0</td>\n",
       "      <td>0</td>\n",
       "      <td>9</td>\n",
       "    </tr>\n",
       "    <tr>\n",
       "      <th>1</th>\n",
       "      <td>AutoStore Holdings Ltd.</td>\n",
       "      <td>AUTO</td>\n",
       "      <td>2021</td>\n",
       "      <td>Large</td>\n",
       "      <td>Industrial Goods and Services</td>\n",
       "      <td>Other</td>\n",
       "      <td>0</td>\n",
       "      <td>1</td>\n",
       "      <td>2021</td>\n",
       "      <td>1</td>\n",
       "      <td>1</td>\n",
       "      <td>0</td>\n",
       "      <td>1</td>\n",
       "      <td>0</td>\n",
       "      <td>1</td>\n",
       "      <td>0</td>\n",
       "      <td>0</td>\n",
       "      <td>1</td>\n",
       "      <td>0</td>\n",
       "      <td>1</td>\n",
       "      <td>0</td>\n",
       "      <td>0</td>\n",
       "      <td>0</td>\n",
       "      <td>1</td>\n",
       "      <td>1</td>\n",
       "      <td>8</td>\n",
       "    </tr>\n",
       "    <tr>\n",
       "      <th>2</th>\n",
       "      <td>Avance Gas Holding ltd</td>\n",
       "      <td>AGAS</td>\n",
       "      <td>2019</td>\n",
       "      <td>Mid</td>\n",
       "      <td>Energy</td>\n",
       "      <td>Norway</td>\n",
       "      <td>0</td>\n",
       "      <td>2</td>\n",
       "      <td>2019</td>\n",
       "      <td>1</td>\n",
       "      <td>1</td>\n",
       "      <td>1</td>\n",
       "      <td>1</td>\n",
       "      <td>0</td>\n",
       "      <td>0</td>\n",
       "      <td>0</td>\n",
       "      <td>0</td>\n",
       "      <td>0</td>\n",
       "      <td>0</td>\n",
       "      <td>0</td>\n",
       "      <td>0</td>\n",
       "      <td>0</td>\n",
       "      <td>0</td>\n",
       "      <td>0</td>\n",
       "      <td>0</td>\n",
       "      <td>4</td>\n",
       "    </tr>\n",
       "    <tr>\n",
       "      <th>3</th>\n",
       "      <td>Avance Gas Holding ltd</td>\n",
       "      <td>AGAS</td>\n",
       "      <td>2020</td>\n",
       "      <td>Mid</td>\n",
       "      <td>Energy</td>\n",
       "      <td>Norway</td>\n",
       "      <td>1</td>\n",
       "      <td>2</td>\n",
       "      <td>2019</td>\n",
       "      <td>1</td>\n",
       "      <td>1</td>\n",
       "      <td>1</td>\n",
       "      <td>1</td>\n",
       "      <td>0</td>\n",
       "      <td>0</td>\n",
       "      <td>1</td>\n",
       "      <td>0</td>\n",
       "      <td>1</td>\n",
       "      <td>0</td>\n",
       "      <td>0</td>\n",
       "      <td>0</td>\n",
       "      <td>1</td>\n",
       "      <td>0</td>\n",
       "      <td>0</td>\n",
       "      <td>0</td>\n",
       "      <td>8</td>\n",
       "    </tr>\n",
       "    <tr>\n",
       "      <th>4</th>\n",
       "      <td>Borr Drilling Ltd</td>\n",
       "      <td>BDRILL</td>\n",
       "      <td>2019</td>\n",
       "      <td>Mid</td>\n",
       "      <td>Energy</td>\n",
       "      <td>Other</td>\n",
       "      <td>0</td>\n",
       "      <td>4</td>\n",
       "      <td>2019</td>\n",
       "      <td>0</td>\n",
       "      <td>1</td>\n",
       "      <td>0</td>\n",
       "      <td>1</td>\n",
       "      <td>0</td>\n",
       "      <td>0</td>\n",
       "      <td>1</td>\n",
       "      <td>0</td>\n",
       "      <td>1</td>\n",
       "      <td>0</td>\n",
       "      <td>0</td>\n",
       "      <td>0</td>\n",
       "      <td>1</td>\n",
       "      <td>0</td>\n",
       "      <td>1</td>\n",
       "      <td>1</td>\n",
       "      <td>7</td>\n",
       "    </tr>\n",
       "  </tbody>\n",
       "</table>\n",
       "</div>"
      ],
      "text/plain": [
       "                   company  ticker  year segment  \\\n",
       "0              Archer Ltd.   ARCHO  2020     Mid   \n",
       "1  AutoStore Holdings Ltd.    AUTO  2021   Large   \n",
       "2   Avance Gas Holding ltd    AGAS  2019     Mid   \n",
       "3   Avance Gas Holding ltd    AGAS  2020     Mid   \n",
       "4        Borr Drilling Ltd  BDRILL  2019     Mid   \n",
       "\n",
       "                        industry hq_country  external_audit_of_ESG_report  \\\n",
       "0                         Energy     Norway                             1   \n",
       "1  Industrial Goods and Services      Other                             0   \n",
       "2                         Energy     Norway                             0   \n",
       "3                         Energy     Norway                             1   \n",
       "4                         Energy      Other                             0   \n",
       "\n",
       "   years_esg_data  base_year  ceo_sust_statem  \\\n",
       "0               1       2020                1   \n",
       "1               1       2021                1   \n",
       "2               2       2019                1   \n",
       "3               2       2019                1   \n",
       "4               4       2019                0   \n",
       "\n",
       "   environmental_policy_and_assessment  environmental_performance_targets  \\\n",
       "0                                    1                                  1   \n",
       "1                                    1                                  0   \n",
       "2                                    1                                  1   \n",
       "3                                    1                                  1   \n",
       "4                                    1                                  0   \n",
       "\n",
       "   reduced_environmental_impact  increased_renewable_energy  \\\n",
       "0                             1                           0   \n",
       "1                             1                           0   \n",
       "2                             1                           0   \n",
       "3                             1                           0   \n",
       "4                             1                           0   \n",
       "\n",
       "   disclosure_of_raw_material_use  resource_efficiency_target  \\\n",
       "0                               0                           1   \n",
       "1                               1                           0   \n",
       "2                               0                           0   \n",
       "3                               0                           1   \n",
       "4                               0                           1   \n",
       "\n",
       "   disclosure_of_water_discharges  supplier_guidelines  \\\n",
       "0                               0                    1   \n",
       "1                               0                    1   \n",
       "2                               0                    0   \n",
       "3                               0                    1   \n",
       "4                               0                    1   \n",
       "\n",
       "   disclosure_of_suppliers_audited  \\\n",
       "0                                1   \n",
       "1                                0   \n",
       "2                                0   \n",
       "3                                0   \n",
       "4                                0   \n",
       "\n",
       "   disclosure_of_supplier_evaluation_procedures  \\\n",
       "0                                             0   \n",
       "1                                             1   \n",
       "2                                             0   \n",
       "3                                             0   \n",
       "4                                             0   \n",
       "\n",
       "   supplier_environmental_assessment  energy_consump_bool  \\\n",
       "0                                  0                    1   \n",
       "1                                  0                    0   \n",
       "2                                  0                    0   \n",
       "3                                  0                    1   \n",
       "4                                  0                    1   \n",
       "\n",
       "   water_withdraw_bool  ghg_emis_bool  transport_emis_bool  metrics_reported  \n",
       "0                    0              0                    0                 9  \n",
       "1                    0              1                    1                 8  \n",
       "2                    0              0                    0                 4  \n",
       "3                    0              0                    0                 8  \n",
       "4                    0              1                    1                 7  "
      ]
     },
     "execution_count": 358,
     "metadata": {},
     "output_type": "execute_result"
    }
   ],
   "source": [
    "reporting_df.head()"
   ]
  },
  {
   "cell_type": "code",
   "execution_count": 359,
   "metadata": {},
   "outputs": [],
   "source": [
    "summary_by_industry_df = (\n",
    "    reporting_df.groupby([\"industry\", \"year\"])[metrics + [\"metrics_reported\"]]\n",
    "    .mean()\n",
    "    .reset_index()\n",
    "    .set_index([\"industry\", \"year\"])\n",
    ")\n",
    "\n",
    "median_count_metrics = (\n",
    "    reporting_df.groupby([\"industry\", \"year\"])[\"metrics_reported\"]\n",
    "    .median()\n",
    "    .reset_index()\n",
    ")\n",
    "\n",
    "median_count_metrics.rename(\n",
    "    columns={\"metrics_reported\": \"metrics_reported_median\"}, inplace=True\n",
    ")\n",
    "\n",
    "# Merge the median with the original summary DataFrame\n",
    "summary_by_industry_df = summary_by_industry_df.merge(\n",
    "    median_count_metrics, on=[\"industry\", \"year\"], how=\"left\"\n",
    ")"
   ]
  },
  {
   "cell_type": "markdown",
   "metadata": {},
   "source": [
    "Calculate the median metrics count. Note to self: still need to calculate percentiles"
   ]
  },
  {
   "cell_type": "code",
   "execution_count": 360,
   "metadata": {},
   "outputs": [
    {
     "data": {
      "text/html": [
       "<div>\n",
       "<style scoped>\n",
       "    .dataframe tbody tr th:only-of-type {\n",
       "        vertical-align: middle;\n",
       "    }\n",
       "\n",
       "    .dataframe tbody tr th {\n",
       "        vertical-align: top;\n",
       "    }\n",
       "\n",
       "    .dataframe thead th {\n",
       "        text-align: right;\n",
       "    }\n",
       "</style>\n",
       "<table border=\"1\" class=\"dataframe\">\n",
       "  <thead>\n",
       "    <tr style=\"text-align: right;\">\n",
       "      <th></th>\n",
       "      <th></th>\n",
       "      <th>metrics_reported</th>\n",
       "      <th>metrics_reported_median</th>\n",
       "    </tr>\n",
       "    <tr>\n",
       "      <th>industry</th>\n",
       "      <th>year</th>\n",
       "      <th></th>\n",
       "      <th></th>\n",
       "    </tr>\n",
       "  </thead>\n",
       "  <tbody>\n",
       "    <tr>\n",
       "      <th rowspan=\"4\" valign=\"top\">Basic Materials</th>\n",
       "      <th>2019</th>\n",
       "      <td>11.48</td>\n",
       "      <td>13.00</td>\n",
       "    </tr>\n",
       "    <tr>\n",
       "      <th>2020</th>\n",
       "      <td>12.16</td>\n",
       "      <td>13.00</td>\n",
       "    </tr>\n",
       "    <tr>\n",
       "      <th>2021</th>\n",
       "      <td>14.28</td>\n",
       "      <td>14.00</td>\n",
       "    </tr>\n",
       "    <tr>\n",
       "      <th>2022</th>\n",
       "      <td>12.45</td>\n",
       "      <td>13.00</td>\n",
       "    </tr>\n",
       "    <tr>\n",
       "      <th>Biotechnology</th>\n",
       "      <th>2019</th>\n",
       "      <td>1.50</td>\n",
       "      <td>1.50</td>\n",
       "    </tr>\n",
       "    <tr>\n",
       "      <th>...</th>\n",
       "      <th>...</th>\n",
       "      <td>...</td>\n",
       "      <td>...</td>\n",
       "    </tr>\n",
       "    <tr>\n",
       "      <th>Unknown</th>\n",
       "      <th>2022</th>\n",
       "      <td>8.00</td>\n",
       "      <td>8.00</td>\n",
       "    </tr>\n",
       "    <tr>\n",
       "      <th rowspan=\"4\" valign=\"top\">Utilities</th>\n",
       "      <th>2019</th>\n",
       "      <td>10.75</td>\n",
       "      <td>11.00</td>\n",
       "    </tr>\n",
       "    <tr>\n",
       "      <th>2020</th>\n",
       "      <td>13.00</td>\n",
       "      <td>12.50</td>\n",
       "    </tr>\n",
       "    <tr>\n",
       "      <th>2021</th>\n",
       "      <td>11.80</td>\n",
       "      <td>10.00</td>\n",
       "    </tr>\n",
       "    <tr>\n",
       "      <th>2022</th>\n",
       "      <td>11.25</td>\n",
       "      <td>11.00</td>\n",
       "    </tr>\n",
       "  </tbody>\n",
       "</table>\n",
       "<p>61 rows × 2 columns</p>\n",
       "</div>"
      ],
      "text/plain": [
       "                      metrics_reported  metrics_reported_median\n",
       "industry        year                                           \n",
       "Basic Materials 2019             11.48                    13.00\n",
       "                2020             12.16                    13.00\n",
       "                2021             14.28                    14.00\n",
       "                2022             12.45                    13.00\n",
       "Biotechnology   2019              1.50                     1.50\n",
       "...                                ...                      ...\n",
       "Unknown         2022              8.00                     8.00\n",
       "Utilities       2019             10.75                    11.00\n",
       "                2020             13.00                    12.50\n",
       "                2021             11.80                    10.00\n",
       "                2022             11.25                    11.00\n",
       "\n",
       "[61 rows x 2 columns]"
      ]
     },
     "execution_count": 360,
     "metadata": {},
     "output_type": "execute_result"
    }
   ],
   "source": [
    "# use this as a benchmark to judge the performance of each company\n",
    "median_metrics_by_industry = summary_by_industry_df[\n",
    "    [\"industry\", \"year\", \"metrics_reported\", \"metrics_reported_median\"]\n",
    "].set_index([\"industry\", \"year\"])\n",
    "\n",
    "median_metrics_by_industry"
   ]
  },
  {
   "cell_type": "code",
   "execution_count": 361,
   "metadata": {},
   "outputs": [],
   "source": [
    "summary_overall_df = (\n",
    "    reporting_df.groupby([\"year\"])[metrics + [\"metrics_reported\"]]\n",
    "    .mean()\n",
    "    .reset_index()\n",
    "    .set_index([\"year\"])\n",
    ")\n",
    "\n",
    "median_count_metrics = (\n",
    "    reporting_df.groupby([\"year\"])[\"metrics_reported\"].median().reset_index()\n",
    ")\n",
    "\n",
    "median_count_metrics.rename(\n",
    "    columns={\"metrics_reported\": \"metrics_reported_median\"}, inplace=True\n",
    ")\n",
    "\n",
    "# Merge the median with the original summary DataFrame\n",
    "summary_overall_df = summary_overall_df.merge(\n",
    "    median_count_metrics, on=[\"year\"], how=\"left\"\n",
    ")"
   ]
  },
  {
   "cell_type": "code",
   "execution_count": 362,
   "metadata": {},
   "outputs": [
    {
     "data": {
      "text/html": [
       "<div>\n",
       "<style scoped>\n",
       "    .dataframe tbody tr th:only-of-type {\n",
       "        vertical-align: middle;\n",
       "    }\n",
       "\n",
       "    .dataframe tbody tr th {\n",
       "        vertical-align: top;\n",
       "    }\n",
       "\n",
       "    .dataframe thead th {\n",
       "        text-align: right;\n",
       "    }\n",
       "</style>\n",
       "<table border=\"1\" class=\"dataframe\">\n",
       "  <thead>\n",
       "    <tr style=\"text-align: right;\">\n",
       "      <th></th>\n",
       "      <th>metrics_reported</th>\n",
       "      <th>metrics_reported_median</th>\n",
       "    </tr>\n",
       "    <tr>\n",
       "      <th>year</th>\n",
       "      <th></th>\n",
       "      <th></th>\n",
       "    </tr>\n",
       "  </thead>\n",
       "  <tbody>\n",
       "    <tr>\n",
       "      <th>2019</th>\n",
       "      <td>8.42</td>\n",
       "      <td>8.00</td>\n",
       "    </tr>\n",
       "    <tr>\n",
       "      <th>2020</th>\n",
       "      <td>9.25</td>\n",
       "      <td>10.00</td>\n",
       "    </tr>\n",
       "    <tr>\n",
       "      <th>2021</th>\n",
       "      <td>9.63</td>\n",
       "      <td>10.00</td>\n",
       "    </tr>\n",
       "    <tr>\n",
       "      <th>2022</th>\n",
       "      <td>8.91</td>\n",
       "      <td>10.00</td>\n",
       "    </tr>\n",
       "  </tbody>\n",
       "</table>\n",
       "</div>"
      ],
      "text/plain": [
       "      metrics_reported  metrics_reported_median\n",
       "year                                           \n",
       "2019              8.42                     8.00\n",
       "2020              9.25                    10.00\n",
       "2021              9.63                    10.00\n",
       "2022              8.91                    10.00"
      ]
     },
     "execution_count": 362,
     "metadata": {},
     "output_type": "execute_result"
    }
   ],
   "source": [
    "median_metrics_overall = summary_overall_df[\n",
    "    [\"year\", \"metrics_reported\", \"metrics_reported_median\"]\n",
    "].set_index([\"year\"])\n",
    "\n",
    "median_metrics_overall"
   ]
  },
  {
   "cell_type": "code",
   "execution_count": 363,
   "metadata": {},
   "outputs": [],
   "source": [
    "# Ensure DataFrame is sorted by company and year\n",
    "# reporting_df = reporting_df.sort_values(by=[\"company\", \"year\"])\n",
    "\n",
    "# Calculate the change directly without keeping the previous year column\n",
    "reporting_df[\"metrics_change_from_prev_year\"] = reporting_df[\n",
    "    \"metrics_reported\"\n",
    "] - reporting_df.groupby([\"company\", \"year\"])[\"metrics_reported\"].shift(1)"
   ]
  },
  {
   "cell_type": "code",
   "execution_count": 364,
   "metadata": {},
   "outputs": [],
   "source": [
    "reporting_df = reporting_df.merge(\n",
    "    reporting_df.loc[\n",
    "        reporting_df[\"year\"] == reporting_df[\"base_year\"],\n",
    "        [\"company\", \"metrics_reported\"],\n",
    "    ],\n",
    "    on=\"company\",\n",
    "    how=\"left\",\n",
    "    suffixes=(\"\", \"_base_year\"),\n",
    ")\n",
    "\n",
    "# Compute the change from base year\n",
    "reporting_df[\"metrics_change_from_base_year\"] = (\n",
    "    reporting_df[\"metrics_reported\"] - reporting_df[\"metrics_reported_base_year\"]\n",
    ")\n",
    "\n",
    "reporting_df.loc[\n",
    "    reporting_df[\"year\"] == reporting_df[\"base_year\"], \"metrics_change_from_base_year\"\n",
    "] = float(\"nan\")\n",
    "\n",
    "reporting_df.drop(\"metrics_reported_base_year\", axis=1, inplace=True)"
   ]
  },
  {
   "cell_type": "code",
   "execution_count": 365,
   "metadata": {},
   "outputs": [
    {
     "data": {
      "text/html": [
       "<div>\n",
       "<style scoped>\n",
       "    .dataframe tbody tr th:only-of-type {\n",
       "        vertical-align: middle;\n",
       "    }\n",
       "\n",
       "    .dataframe tbody tr th {\n",
       "        vertical-align: top;\n",
       "    }\n",
       "\n",
       "    .dataframe thead th {\n",
       "        text-align: right;\n",
       "    }\n",
       "</style>\n",
       "<table border=\"1\" class=\"dataframe\">\n",
       "  <thead>\n",
       "    <tr style=\"text-align: right;\">\n",
       "      <th></th>\n",
       "      <th>company</th>\n",
       "      <th>ticker</th>\n",
       "      <th>year</th>\n",
       "      <th>segment</th>\n",
       "      <th>industry</th>\n",
       "      <th>hq_country</th>\n",
       "      <th>external_audit_of_ESG_report</th>\n",
       "      <th>years_esg_data</th>\n",
       "      <th>base_year</th>\n",
       "      <th>ceo_sust_statem</th>\n",
       "      <th>environmental_policy_and_assessment</th>\n",
       "      <th>environmental_performance_targets</th>\n",
       "      <th>reduced_environmental_impact</th>\n",
       "      <th>increased_renewable_energy</th>\n",
       "      <th>disclosure_of_raw_material_use</th>\n",
       "      <th>resource_efficiency_target</th>\n",
       "      <th>disclosure_of_water_discharges</th>\n",
       "      <th>supplier_guidelines</th>\n",
       "      <th>disclosure_of_suppliers_audited</th>\n",
       "      <th>disclosure_of_supplier_evaluation_procedures</th>\n",
       "      <th>supplier_environmental_assessment</th>\n",
       "      <th>energy_consump_bool</th>\n",
       "      <th>water_withdraw_bool</th>\n",
       "      <th>ghg_emis_bool</th>\n",
       "      <th>transport_emis_bool</th>\n",
       "      <th>metrics_reported</th>\n",
       "      <th>metrics_change_from_prev_year</th>\n",
       "      <th>metrics_change_from_base_year</th>\n",
       "    </tr>\n",
       "  </thead>\n",
       "  <tbody>\n",
       "    <tr>\n",
       "      <th>0</th>\n",
       "      <td>Archer Ltd.</td>\n",
       "      <td>ARCHO</td>\n",
       "      <td>2020</td>\n",
       "      <td>Mid</td>\n",
       "      <td>Energy</td>\n",
       "      <td>Norway</td>\n",
       "      <td>1</td>\n",
       "      <td>1</td>\n",
       "      <td>2020</td>\n",
       "      <td>1</td>\n",
       "      <td>1</td>\n",
       "      <td>1</td>\n",
       "      <td>1</td>\n",
       "      <td>0</td>\n",
       "      <td>0</td>\n",
       "      <td>1</td>\n",
       "      <td>0</td>\n",
       "      <td>1</td>\n",
       "      <td>1</td>\n",
       "      <td>0</td>\n",
       "      <td>0</td>\n",
       "      <td>1</td>\n",
       "      <td>0</td>\n",
       "      <td>0</td>\n",
       "      <td>0</td>\n",
       "      <td>9</td>\n",
       "      <td>NaN</td>\n",
       "      <td>NaN</td>\n",
       "    </tr>\n",
       "    <tr>\n",
       "      <th>1</th>\n",
       "      <td>AutoStore Holdings Ltd.</td>\n",
       "      <td>AUTO</td>\n",
       "      <td>2021</td>\n",
       "      <td>Large</td>\n",
       "      <td>Industrial Goods and Services</td>\n",
       "      <td>Other</td>\n",
       "      <td>0</td>\n",
       "      <td>1</td>\n",
       "      <td>2021</td>\n",
       "      <td>1</td>\n",
       "      <td>1</td>\n",
       "      <td>0</td>\n",
       "      <td>1</td>\n",
       "      <td>0</td>\n",
       "      <td>1</td>\n",
       "      <td>0</td>\n",
       "      <td>0</td>\n",
       "      <td>1</td>\n",
       "      <td>0</td>\n",
       "      <td>1</td>\n",
       "      <td>0</td>\n",
       "      <td>0</td>\n",
       "      <td>0</td>\n",
       "      <td>1</td>\n",
       "      <td>1</td>\n",
       "      <td>8</td>\n",
       "      <td>NaN</td>\n",
       "      <td>NaN</td>\n",
       "    </tr>\n",
       "    <tr>\n",
       "      <th>2</th>\n",
       "      <td>Avance Gas Holding ltd</td>\n",
       "      <td>AGAS</td>\n",
       "      <td>2019</td>\n",
       "      <td>Mid</td>\n",
       "      <td>Energy</td>\n",
       "      <td>Norway</td>\n",
       "      <td>0</td>\n",
       "      <td>2</td>\n",
       "      <td>2019</td>\n",
       "      <td>1</td>\n",
       "      <td>1</td>\n",
       "      <td>1</td>\n",
       "      <td>1</td>\n",
       "      <td>0</td>\n",
       "      <td>0</td>\n",
       "      <td>0</td>\n",
       "      <td>0</td>\n",
       "      <td>0</td>\n",
       "      <td>0</td>\n",
       "      <td>0</td>\n",
       "      <td>0</td>\n",
       "      <td>0</td>\n",
       "      <td>0</td>\n",
       "      <td>0</td>\n",
       "      <td>0</td>\n",
       "      <td>4</td>\n",
       "      <td>NaN</td>\n",
       "      <td>NaN</td>\n",
       "    </tr>\n",
       "    <tr>\n",
       "      <th>3</th>\n",
       "      <td>Avance Gas Holding ltd</td>\n",
       "      <td>AGAS</td>\n",
       "      <td>2020</td>\n",
       "      <td>Mid</td>\n",
       "      <td>Energy</td>\n",
       "      <td>Norway</td>\n",
       "      <td>1</td>\n",
       "      <td>2</td>\n",
       "      <td>2019</td>\n",
       "      <td>1</td>\n",
       "      <td>1</td>\n",
       "      <td>1</td>\n",
       "      <td>1</td>\n",
       "      <td>0</td>\n",
       "      <td>0</td>\n",
       "      <td>1</td>\n",
       "      <td>0</td>\n",
       "      <td>1</td>\n",
       "      <td>0</td>\n",
       "      <td>0</td>\n",
       "      <td>0</td>\n",
       "      <td>1</td>\n",
       "      <td>0</td>\n",
       "      <td>0</td>\n",
       "      <td>0</td>\n",
       "      <td>8</td>\n",
       "      <td>NaN</td>\n",
       "      <td>4.00</td>\n",
       "    </tr>\n",
       "    <tr>\n",
       "      <th>4</th>\n",
       "      <td>Borr Drilling Ltd</td>\n",
       "      <td>BDRILL</td>\n",
       "      <td>2019</td>\n",
       "      <td>Mid</td>\n",
       "      <td>Energy</td>\n",
       "      <td>Other</td>\n",
       "      <td>0</td>\n",
       "      <td>4</td>\n",
       "      <td>2019</td>\n",
       "      <td>0</td>\n",
       "      <td>1</td>\n",
       "      <td>0</td>\n",
       "      <td>1</td>\n",
       "      <td>0</td>\n",
       "      <td>0</td>\n",
       "      <td>1</td>\n",
       "      <td>0</td>\n",
       "      <td>1</td>\n",
       "      <td>0</td>\n",
       "      <td>0</td>\n",
       "      <td>0</td>\n",
       "      <td>1</td>\n",
       "      <td>0</td>\n",
       "      <td>1</td>\n",
       "      <td>1</td>\n",
       "      <td>7</td>\n",
       "      <td>NaN</td>\n",
       "      <td>NaN</td>\n",
       "    </tr>\n",
       "  </tbody>\n",
       "</table>\n",
       "</div>"
      ],
      "text/plain": [
       "                   company  ticker  year segment  \\\n",
       "0              Archer Ltd.   ARCHO  2020     Mid   \n",
       "1  AutoStore Holdings Ltd.    AUTO  2021   Large   \n",
       "2   Avance Gas Holding ltd    AGAS  2019     Mid   \n",
       "3   Avance Gas Holding ltd    AGAS  2020     Mid   \n",
       "4        Borr Drilling Ltd  BDRILL  2019     Mid   \n",
       "\n",
       "                        industry hq_country  external_audit_of_ESG_report  \\\n",
       "0                         Energy     Norway                             1   \n",
       "1  Industrial Goods and Services      Other                             0   \n",
       "2                         Energy     Norway                             0   \n",
       "3                         Energy     Norway                             1   \n",
       "4                         Energy      Other                             0   \n",
       "\n",
       "   years_esg_data  base_year  ceo_sust_statem  \\\n",
       "0               1       2020                1   \n",
       "1               1       2021                1   \n",
       "2               2       2019                1   \n",
       "3               2       2019                1   \n",
       "4               4       2019                0   \n",
       "\n",
       "   environmental_policy_and_assessment  environmental_performance_targets  \\\n",
       "0                                    1                                  1   \n",
       "1                                    1                                  0   \n",
       "2                                    1                                  1   \n",
       "3                                    1                                  1   \n",
       "4                                    1                                  0   \n",
       "\n",
       "   reduced_environmental_impact  increased_renewable_energy  \\\n",
       "0                             1                           0   \n",
       "1                             1                           0   \n",
       "2                             1                           0   \n",
       "3                             1                           0   \n",
       "4                             1                           0   \n",
       "\n",
       "   disclosure_of_raw_material_use  resource_efficiency_target  \\\n",
       "0                               0                           1   \n",
       "1                               1                           0   \n",
       "2                               0                           0   \n",
       "3                               0                           1   \n",
       "4                               0                           1   \n",
       "\n",
       "   disclosure_of_water_discharges  supplier_guidelines  \\\n",
       "0                               0                    1   \n",
       "1                               0                    1   \n",
       "2                               0                    0   \n",
       "3                               0                    1   \n",
       "4                               0                    1   \n",
       "\n",
       "   disclosure_of_suppliers_audited  \\\n",
       "0                                1   \n",
       "1                                0   \n",
       "2                                0   \n",
       "3                                0   \n",
       "4                                0   \n",
       "\n",
       "   disclosure_of_supplier_evaluation_procedures  \\\n",
       "0                                             0   \n",
       "1                                             1   \n",
       "2                                             0   \n",
       "3                                             0   \n",
       "4                                             0   \n",
       "\n",
       "   supplier_environmental_assessment  energy_consump_bool  \\\n",
       "0                                  0                    1   \n",
       "1                                  0                    0   \n",
       "2                                  0                    0   \n",
       "3                                  0                    1   \n",
       "4                                  0                    1   \n",
       "\n",
       "   water_withdraw_bool  ghg_emis_bool  transport_emis_bool  metrics_reported  \\\n",
       "0                    0              0                    0                 9   \n",
       "1                    0              1                    1                 8   \n",
       "2                    0              0                    0                 4   \n",
       "3                    0              0                    0                 8   \n",
       "4                    0              1                    1                 7   \n",
       "\n",
       "   metrics_change_from_prev_year  metrics_change_from_base_year  \n",
       "0                            NaN                            NaN  \n",
       "1                            NaN                            NaN  \n",
       "2                            NaN                            NaN  \n",
       "3                            NaN                           4.00  \n",
       "4                            NaN                            NaN  "
      ]
     },
     "execution_count": 365,
     "metadata": {},
     "output_type": "execute_result"
    }
   ],
   "source": [
    "reporting_df.head(5)"
   ]
  },
  {
   "cell_type": "markdown",
   "metadata": {},
   "source": [
    "# Then calculate relative change vs. previous year--ie. rating change (whether it has migrated up or not)"
   ]
  },
  {
   "cell_type": "markdown",
   "metadata": {},
   "source": [
    "# Now consider how I am going to calculate my percentiles and rankings..."
   ]
  },
  {
   "cell_type": "code",
   "execution_count": 366,
   "metadata": {},
   "outputs": [
    {
     "data": {
      "text/html": [
       "<div>\n",
       "<style scoped>\n",
       "    .dataframe tbody tr th:only-of-type {\n",
       "        vertical-align: middle;\n",
       "    }\n",
       "\n",
       "    .dataframe tbody tr th {\n",
       "        vertical-align: top;\n",
       "    }\n",
       "\n",
       "    .dataframe thead th {\n",
       "        text-align: right;\n",
       "    }\n",
       "</style>\n",
       "<table border=\"1\" class=\"dataframe\">\n",
       "  <thead>\n",
       "    <tr style=\"text-align: right;\">\n",
       "      <th></th>\n",
       "      <th>company</th>\n",
       "      <th>year</th>\n",
       "      <th>industry</th>\n",
       "      <th>metrics_reported</th>\n",
       "      <th>industry_percentile</th>\n",
       "      <th>industry_rating</th>\n",
       "      <th>overall_percentile</th>\n",
       "      <th>overall_rating</th>\n",
       "    </tr>\n",
       "  </thead>\n",
       "  <tbody>\n",
       "    <tr>\n",
       "      <th>475</th>\n",
       "      <td>Afarak Group Plc</td>\n",
       "      <td>2019</td>\n",
       "      <td>Basic Materials</td>\n",
       "      <td>1</td>\n",
       "      <td>0.04</td>\n",
       "      <td>F</td>\n",
       "      <td>0.04</td>\n",
       "      <td>F</td>\n",
       "    </tr>\n",
       "    <tr>\n",
       "      <th>52</th>\n",
       "      <td>Josemaria Resources Inc.</td>\n",
       "      <td>2019</td>\n",
       "      <td>Basic Materials</td>\n",
       "      <td>2</td>\n",
       "      <td>0.08</td>\n",
       "      <td>F</td>\n",
       "      <td>0.07</td>\n",
       "      <td>F</td>\n",
       "    </tr>\n",
       "    <tr>\n",
       "      <th>56</th>\n",
       "      <td>Lundin Gold Inc.</td>\n",
       "      <td>2019</td>\n",
       "      <td>Basic Materials</td>\n",
       "      <td>5</td>\n",
       "      <td>0.12</td>\n",
       "      <td>F</td>\n",
       "      <td>0.23</td>\n",
       "      <td>E</td>\n",
       "    </tr>\n",
       "    <tr>\n",
       "      <th>160</th>\n",
       "      <td>H+H International A/S</td>\n",
       "      <td>2019</td>\n",
       "      <td>Basic Materials</td>\n",
       "      <td>7</td>\n",
       "      <td>0.16</td>\n",
       "      <td>F</td>\n",
       "      <td>0.37</td>\n",
       "      <td>D</td>\n",
       "    </tr>\n",
       "    <tr>\n",
       "      <th>54</th>\n",
       "      <td>Lucara Diamond Corp.</td>\n",
       "      <td>2019</td>\n",
       "      <td>Basic Materials</td>\n",
       "      <td>8</td>\n",
       "      <td>0.20</td>\n",
       "      <td>E</td>\n",
       "      <td>0.46</td>\n",
       "      <td>D</td>\n",
       "    </tr>\n",
       "    <tr>\n",
       "      <th>...</th>\n",
       "      <td>...</td>\n",
       "      <td>...</td>\n",
       "      <td>...</td>\n",
       "      <td>...</td>\n",
       "      <td>...</td>\n",
       "      <td>...</td>\n",
       "      <td>...</td>\n",
       "      <td>...</td>\n",
       "    </tr>\n",
       "    <tr>\n",
       "      <th>269</th>\n",
       "      <td>GreenMobility A/S</td>\n",
       "      <td>2022</td>\n",
       "      <td>Unknown</td>\n",
       "      <td>8</td>\n",
       "      <td>1.00</td>\n",
       "      <td>A</td>\n",
       "      <td>0.35</td>\n",
       "      <td>D</td>\n",
       "    </tr>\n",
       "    <tr>\n",
       "      <th>725</th>\n",
       "      <td>Arendals Fossekompani ASA</td>\n",
       "      <td>2022</td>\n",
       "      <td>Utilities</td>\n",
       "      <td>8</td>\n",
       "      <td>0.25</td>\n",
       "      <td>E</td>\n",
       "      <td>0.35</td>\n",
       "      <td>D</td>\n",
       "    </tr>\n",
       "    <tr>\n",
       "      <th>1796</th>\n",
       "      <td>OX2 AB</td>\n",
       "      <td>2022</td>\n",
       "      <td>Utilities</td>\n",
       "      <td>9</td>\n",
       "      <td>0.50</td>\n",
       "      <td>C</td>\n",
       "      <td>0.44</td>\n",
       "      <td>D</td>\n",
       "    </tr>\n",
       "    <tr>\n",
       "      <th>190</th>\n",
       "      <td>Ørsted A/S</td>\n",
       "      <td>2022</td>\n",
       "      <td>Utilities</td>\n",
       "      <td>13</td>\n",
       "      <td>0.75</td>\n",
       "      <td>B</td>\n",
       "      <td>0.88</td>\n",
       "      <td>A</td>\n",
       "    </tr>\n",
       "    <tr>\n",
       "      <th>397</th>\n",
       "      <td>Fortum Oyj</td>\n",
       "      <td>2022</td>\n",
       "      <td>Utilities</td>\n",
       "      <td>15</td>\n",
       "      <td>1.00</td>\n",
       "      <td>A</td>\n",
       "      <td>0.98</td>\n",
       "      <td>A</td>\n",
       "    </tr>\n",
       "  </tbody>\n",
       "</table>\n",
       "<p>1837 rows × 8 columns</p>\n",
       "</div>"
      ],
      "text/plain": [
       "                        company  year         industry  metrics_reported  \\\n",
       "475            Afarak Group Plc  2019  Basic Materials                 1   \n",
       "52     Josemaria Resources Inc.  2019  Basic Materials                 2   \n",
       "56             Lundin Gold Inc.  2019  Basic Materials                 5   \n",
       "160       H+H International A/S  2019  Basic Materials                 7   \n",
       "54         Lucara Diamond Corp.  2019  Basic Materials                 8   \n",
       "...                         ...   ...              ...               ...   \n",
       "269           GreenMobility A/S  2022          Unknown                 8   \n",
       "725   Arendals Fossekompani ASA  2022        Utilities                 8   \n",
       "1796                     OX2 AB  2022        Utilities                 9   \n",
       "190                  Ørsted A/S  2022        Utilities                13   \n",
       "397                  Fortum Oyj  2022        Utilities                15   \n",
       "\n",
       "      industry_percentile industry_rating  overall_percentile overall_rating  \n",
       "475                  0.04               F                0.04              F  \n",
       "52                   0.08               F                0.07              F  \n",
       "56                   0.12               F                0.23              E  \n",
       "160                  0.16               F                0.37              D  \n",
       "54                   0.20               E                0.46              D  \n",
       "...                   ...             ...                 ...            ...  \n",
       "269                  1.00               A                0.35              D  \n",
       "725                  0.25               E                0.35              D  \n",
       "1796                 0.50               C                0.44              D  \n",
       "190                  0.75               B                0.88              A  \n",
       "397                  1.00               A                0.98              A  \n",
       "\n",
       "[1837 rows x 8 columns]"
      ]
     },
     "execution_count": 366,
     "metadata": {},
     "output_type": "execute_result"
    }
   ],
   "source": [
    "from typing import Union\n",
    "\n",
    "\n",
    "def assign_rating(percentile: float) -> str:\n",
    "    \"\"\"\n",
    "    Assigns a rating (A-F) based on the given percentile.\n",
    "\n",
    "    Parameters:\n",
    "    percentile (float): The percentile value (0 to 1).\n",
    "\n",
    "    Returns:\n",
    "    str: The corresponding rating (\"A\", \"B\", \"C\", \"D\", \"E\", or \"F\").\n",
    "    \"\"\"\n",
    "    if percentile >= 0.83:\n",
    "        return \"A\"\n",
    "    elif percentile >= 0.67:\n",
    "        return \"B\"\n",
    "    elif percentile >= 0.50:\n",
    "        return \"C\"\n",
    "    elif percentile >= 0.33:\n",
    "        return \"D\"\n",
    "    elif percentile >= 0.17:\n",
    "        return \"E\"\n",
    "    else:\n",
    "        return \"F\"\n",
    "\n",
    "\n",
    "\n",
    "# Ensure DataFrame is sorted\n",
    "\n",
    "\n",
    "\n",
    "reporting_df = reporting_df.sort_values(by=[\"year\", \"industry\", \"metrics_reported\"])\n",
    "\n",
    "\n",
    "\n",
    "# Compute industry percentile (within each year & industry)\n",
    "\n",
    "\n",
    "\n",
    "reporting_df[\"industry_percentile\"] = reporting_df.groupby([\"year\", \"industry\"])[\n",
    "    \"metrics_reported\"\n",
    "].rank(pct=True)\n",
    "\n",
    "\n",
    "\n",
    "# Compute overall percentile (within each year)\n",
    "\n",
    "\n",
    "reporting_df[\"overall_percentile\"] = reporting_df.groupby(\"year\")[\n",
    "    \"metrics_reported\"\n",
    "].rank(pct=True)\n",
    "\n",
    "\n",
    "\n",
    "# Assign ratings based on the defined scale\n",
    "\n",
    "\n",
    "\n",
    "reporting_df[\"industry_rating\"] = reporting_df[\"industry_percentile\"].apply(\n",
    "    assign_rating\n",
    "\n",
    ")\n",
    "\n",
    "\n",
    "\n",
    "reporting_df[\"overall_rating\"] = reporting_df[\"overall_percentile\"].apply(assign_rating)\n",
    "\n",
    "\n",
    "\n",
    "# Display relevant columns\n",
    "\n",
    "\n",
    "reporting_df[\n",
    "    [\n",
    "        \"company\",\n",
    "        \"year\",\n",
    "        \"industry\",\n",
    "        \"metrics_reported\",\n",
    "        \"industry_percentile\",\n",
    "        \"industry_rating\",\n",
    "        \"overall_percentile\",\n",
    "        \"overall_rating\",\n",
    "    ]\n",
    "]"
   ]
  },
  {
   "cell_type": "code",
   "execution_count": 367,
   "metadata": {},
   "outputs": [],
   "source": [
    "import pandas as pd\n",
    "from typing import Optional\n",
    "\n",
    "\n",
    "def top_n_companies(\n",
    "    df: pd.DataFrame,\n",
    "    n_companies: int = 20,\n",
    "    industry: Optional[str] = None,\n",
    "    year: Optional[int] = None,\n",
    "    hq_country: Optional[str] = None,\n",
    "    segment: Optional[str] = None,\n",
    ") -> pd.DataFrame:\n",
    "    \"\"\"\n",
    "    Returns the top N companies based on metrics_reported.\n",
    "\n",
    "    Parameters:\n",
    "    df (pd.DataFrame): The reporting DataFrame.\n",
    "    n_companies (int): Number of top companies to return (default = 20).\n",
    "    industry (Optional[str]): Industry to filter by (default = None, includes all industries).\n",
    "    year (Optional[int]): Year to filter by (default = None, includes all years).\n",
    "    hq_country (Optional[str]): HQ country to filter by (default = None, includes all countries).\n",
    "    segment (Optional[str]): Segment to filter by (default = None, includes all segments).\n",
    "\n",
    "    Returns:\n",
    "    pd.DataFrame: Top N companies sorted by metrics_reported.\n",
    "    \"\"\"\n",
    "\n",
    "    # Create a filtered DataFrame based on user input\n",
    "    filtered_df = df.copy()\n",
    "\n",
    "    if industry is not None:\n",
    "        filtered_df = filtered_df[filtered_df[\"industry\"] == industry]\n",
    "\n",
    "    if year is not None:\n",
    "        filtered_df = filtered_df[filtered_df[\"year\"] == year]\n",
    "\n",
    "    if hq_country is not None:\n",
    "        filtered_df = filtered_df[filtered_df[\"hq_country\"] == hq_country]\n",
    "\n",
    "    if segment is not None:\n",
    "        filtered_df = filtered_df[filtered_df[\"segment\"] == segment]\n",
    "\n",
    "    # Sort by metrics_reported in descending order\n",
    "    top_companies = filtered_df.sort_values(\n",
    "        by=\"metrics_reported\", ascending=False\n",
    "    ).head(n_companies)\n",
    "\n",
    "    return top_companies"
   ]
  },
  {
   "cell_type": "code",
   "execution_count": 368,
   "metadata": {},
   "outputs": [
    {
     "data": {
      "text/plain": [
       "array(['Basic Materials', 'Biotechnology', 'Consumer Goods and Services',\n",
       "       'Energy', 'Finance', 'Health Care',\n",
       "       'Industrial Goods and Services', 'Leisure', 'Media', 'Real Estate',\n",
       "       'Retail', 'Technology', 'Telecommunications', 'Travel and Leisure',\n",
       "       'Utilities', 'Unknown'], dtype=object)"
      ]
     },
     "execution_count": 368,
     "metadata": {},
     "output_type": "execute_result"
    }
   ],
   "source": [
    "reporting_df[\"industry\"].unique()"
   ]
  },
  {
   "cell_type": "code",
   "execution_count": 369,
   "metadata": {},
   "outputs": [],
   "source": [
    "desired_columns = [\n",
    "    \"company\",\n",
    "    \"year\",\n",
    "    \"industry\",\n",
    "    \"metrics_reported\",  # Move this near the beginning\n",
    "    \"industry_rating\",  # Move this near the beginning\n",
    "    \"overall_rating\",  # Move this near the beginning\n",
    "    \"industry_percentile\",\n",
    "    \"overall_percentile\",\n",
    "]\n",
    "\n",
    "# Ensure all other columns are preserved in the order\n",
    "remaining_columns = [col for col in reporting_df.columns if col not in desired_columns]\n",
    "\n",
    "# Reorder the DataFrame columns\n",
    "reporting_df = reporting_df[desired_columns + remaining_columns]"
   ]
  },
  {
   "cell_type": "markdown",
   "metadata": {},
   "source": [
    "# Fix this duplicated year at source"
   ]
  },
  {
   "cell_type": "code",
   "execution_count": 372,
   "metadata": {},
   "outputs": [
    {
     "data": {
      "text/html": [
       "<div>\n",
       "<style scoped>\n",
       "    .dataframe tbody tr th:only-of-type {\n",
       "        vertical-align: middle;\n",
       "    }\n",
       "\n",
       "    .dataframe tbody tr th {\n",
       "        vertical-align: top;\n",
       "    }\n",
       "\n",
       "    .dataframe thead th {\n",
       "        text-align: right;\n",
       "    }\n",
       "</style>\n",
       "<table border=\"1\" class=\"dataframe\">\n",
       "  <thead>\n",
       "    <tr style=\"text-align: right;\">\n",
       "      <th></th>\n",
       "      <th>company</th>\n",
       "      <th>year</th>\n",
       "      <th>industry</th>\n",
       "      <th>metrics_reported</th>\n",
       "      <th>industry_rating</th>\n",
       "      <th>overall_rating</th>\n",
       "      <th>industry_percentile</th>\n",
       "      <th>overall_percentile</th>\n",
       "      <th>ticker</th>\n",
       "      <th>segment</th>\n",
       "      <th>hq_country</th>\n",
       "      <th>external_audit_of_ESG_report</th>\n",
       "      <th>years_esg_data</th>\n",
       "      <th>base_year</th>\n",
       "      <th>ceo_sust_statem</th>\n",
       "      <th>environmental_policy_and_assessment</th>\n",
       "      <th>environmental_performance_targets</th>\n",
       "      <th>reduced_environmental_impact</th>\n",
       "      <th>increased_renewable_energy</th>\n",
       "      <th>disclosure_of_raw_material_use</th>\n",
       "      <th>resource_efficiency_target</th>\n",
       "      <th>disclosure_of_water_discharges</th>\n",
       "      <th>supplier_guidelines</th>\n",
       "      <th>disclosure_of_suppliers_audited</th>\n",
       "      <th>disclosure_of_supplier_evaluation_procedures</th>\n",
       "      <th>supplier_environmental_assessment</th>\n",
       "      <th>energy_consump_bool</th>\n",
       "      <th>water_withdraw_bool</th>\n",
       "      <th>ghg_emis_bool</th>\n",
       "      <th>transport_emis_bool</th>\n",
       "      <th>metrics_change_from_prev_year</th>\n",
       "      <th>metrics_change_from_base_year</th>\n",
       "    </tr>\n",
       "  </thead>\n",
       "  <tbody>\n",
       "  </tbody>\n",
       "</table>\n",
       "</div>"
      ],
      "text/plain": [
       "Empty DataFrame\n",
       "Columns: [company, year, industry, metrics_reported, industry_rating, overall_rating, industry_percentile, overall_percentile, ticker, segment, hq_country, external_audit_of_ESG_report, years_esg_data, base_year, ceo_sust_statem, environmental_policy_and_assessment, environmental_performance_targets, reduced_environmental_impact, increased_renewable_energy, disclosure_of_raw_material_use, resource_efficiency_target, disclosure_of_water_discharges, supplier_guidelines, disclosure_of_suppliers_audited, disclosure_of_supplier_evaluation_procedures, supplier_environmental_assessment, energy_consump_bool, water_withdraw_bool, ghg_emis_bool, transport_emis_bool, metrics_change_from_prev_year, metrics_change_from_base_year]\n",
       "Index: []"
      ]
     },
     "execution_count": 372,
     "metadata": {},
     "output_type": "execute_result"
    }
   ],
   "source": [
    "reporting_df[reporting_df[\"years_esg_data\"] == 5]"
   ]
  },
  {
   "cell_type": "code",
   "execution_count": 373,
   "metadata": {},
   "outputs": [
    {
     "data": {
      "text/html": [
       "<div>\n",
       "<style scoped>\n",
       "    .dataframe tbody tr th:only-of-type {\n",
       "        vertical-align: middle;\n",
       "    }\n",
       "\n",
       "    .dataframe tbody tr th {\n",
       "        vertical-align: top;\n",
       "    }\n",
       "\n",
       "    .dataframe thead th {\n",
       "        text-align: right;\n",
       "    }\n",
       "</style>\n",
       "<table border=\"1\" class=\"dataframe\">\n",
       "  <thead>\n",
       "    <tr style=\"text-align: right;\">\n",
       "      <th></th>\n",
       "      <th>unique_values</th>\n",
       "    </tr>\n",
       "    <tr>\n",
       "      <th>columns</th>\n",
       "      <th></th>\n",
       "    </tr>\n",
       "  </thead>\n",
       "  <tbody>\n",
       "    <tr>\n",
       "      <th>company</th>\n",
       "      <td>[Afarak Group Plc, Josemaria Resources Inc., Lundin Gold Inc., H+H International A/S, Lucara Dia...</td>\n",
       "    </tr>\n",
       "    <tr>\n",
       "      <th>year</th>\n",
       "      <td>[2019, 2020, 2021, 2022]</td>\n",
       "    </tr>\n",
       "    <tr>\n",
       "      <th>industry</th>\n",
       "      <td>[Basic Materials, Biotechnology, Consumer Goods and Services, Energy, Finance, Health Care, Indu...</td>\n",
       "    </tr>\n",
       "    <tr>\n",
       "      <th>metrics_reported</th>\n",
       "      <td>[1, 2, 5, 7, 8, 9, 10, 11, 12, 13, 14, 15, 16, 3, 4, 6, 0, 17]</td>\n",
       "    </tr>\n",
       "    <tr>\n",
       "      <th>industry_rating</th>\n",
       "      <td>[F, E, D, C, B, A]</td>\n",
       "    </tr>\n",
       "    <tr>\n",
       "      <th>overall_rating</th>\n",
       "      <td>[F, E, D, C, B, A]</td>\n",
       "    </tr>\n",
       "    <tr>\n",
       "      <th>industry_percentile</th>\n",
       "      <td>[0.04, 0.08, 0.12, 0.16, 0.2, 0.26, 0.34, 0.4, 0.46, 0.58, 0.68, 0.76, 0.92, 0.5, 1.0, 0.0235294...</td>\n",
       "    </tr>\n",
       "    <tr>\n",
       "      <th>overall_percentile</th>\n",
       "      <td>[0.0411522633744856, 0.06995884773662552, 0.2294238683127572, 0.3734567901234568, 0.460905349794...</td>\n",
       "    </tr>\n",
       "    <tr>\n",
       "      <th>ticker</th>\n",
       "      <td>[AFAGR, JOSE, LUG, HH, LUC, SPG, BOL, AM1, ELK, NSKOG, LUMI, HPOL, STERV, BRG, HOLM, BEIA, UPM, ...</td>\n",
       "    </tr>\n",
       "    <tr>\n",
       "      <th>segment</th>\n",
       "      <td>[Mid, Large, Small]</td>\n",
       "    </tr>\n",
       "    <tr>\n",
       "      <th>hq_country</th>\n",
       "      <td>[Finland, Other, Denmark, Sweden, Norway]</td>\n",
       "    </tr>\n",
       "    <tr>\n",
       "      <th>external_audit_of_ESG_report</th>\n",
       "      <td>[0, 1]</td>\n",
       "    </tr>\n",
       "    <tr>\n",
       "      <th>years_esg_data</th>\n",
       "      <td>[2, 4, 3, 1]</td>\n",
       "    </tr>\n",
       "    <tr>\n",
       "      <th>base_year</th>\n",
       "      <td>[2019, 2020, 2021, 2022]</td>\n",
       "    </tr>\n",
       "    <tr>\n",
       "      <th>ceo_sust_statem</th>\n",
       "      <td>[0, 1]</td>\n",
       "    </tr>\n",
       "    <tr>\n",
       "      <th>environmental_policy_and_assessment</th>\n",
       "      <td>[1, 0]</td>\n",
       "    </tr>\n",
       "    <tr>\n",
       "      <th>environmental_performance_targets</th>\n",
       "      <td>[0, 1]</td>\n",
       "    </tr>\n",
       "    <tr>\n",
       "      <th>reduced_environmental_impact</th>\n",
       "      <td>[0, 1]</td>\n",
       "    </tr>\n",
       "    <tr>\n",
       "      <th>increased_renewable_energy</th>\n",
       "      <td>[0, 1]</td>\n",
       "    </tr>\n",
       "    <tr>\n",
       "      <th>disclosure_of_raw_material_use</th>\n",
       "      <td>[0, 1]</td>\n",
       "    </tr>\n",
       "    <tr>\n",
       "      <th>resource_efficiency_target</th>\n",
       "      <td>[0, 1]</td>\n",
       "    </tr>\n",
       "    <tr>\n",
       "      <th>disclosure_of_water_discharges</th>\n",
       "      <td>[0, 1]</td>\n",
       "    </tr>\n",
       "    <tr>\n",
       "      <th>supplier_guidelines</th>\n",
       "      <td>[0, 1]</td>\n",
       "    </tr>\n",
       "    <tr>\n",
       "      <th>disclosure_of_suppliers_audited</th>\n",
       "      <td>[0, 1]</td>\n",
       "    </tr>\n",
       "    <tr>\n",
       "      <th>disclosure_of_supplier_evaluation_procedures</th>\n",
       "      <td>[0, 1]</td>\n",
       "    </tr>\n",
       "    <tr>\n",
       "      <th>supplier_environmental_assessment</th>\n",
       "      <td>[0, 1]</td>\n",
       "    </tr>\n",
       "    <tr>\n",
       "      <th>energy_consump_bool</th>\n",
       "      <td>[0, 1]</td>\n",
       "    </tr>\n",
       "    <tr>\n",
       "      <th>water_withdraw_bool</th>\n",
       "      <td>[0, 1]</td>\n",
       "    </tr>\n",
       "    <tr>\n",
       "      <th>ghg_emis_bool</th>\n",
       "      <td>[0, 1]</td>\n",
       "    </tr>\n",
       "    <tr>\n",
       "      <th>transport_emis_bool</th>\n",
       "      <td>[0, 1]</td>\n",
       "    </tr>\n",
       "    <tr>\n",
       "      <th>metrics_change_from_prev_year</th>\n",
       "      <td>[nan]</td>\n",
       "    </tr>\n",
       "    <tr>\n",
       "      <th>metrics_change_from_base_year</th>\n",
       "      <td>[nan, 0.0, 2.0, 1.0, 3.0, -2.0, -3.0, 4.0, -1.0, -5.0, -6.0, 8.0, 7.0, 5.0, 6.0, -7.0, -4.0, -11...</td>\n",
       "    </tr>\n",
       "  </tbody>\n",
       "</table>\n",
       "</div>"
      ],
      "text/plain": [
       "                                                                                                                                    unique_values\n",
       "columns                                                                                                                                          \n",
       "company                                       [Afarak Group Plc, Josemaria Resources Inc., Lundin Gold Inc., H+H International A/S, Lucara Dia...\n",
       "year                                                                                                                     [2019, 2020, 2021, 2022]\n",
       "industry                                      [Basic Materials, Biotechnology, Consumer Goods and Services, Energy, Finance, Health Care, Indu...\n",
       "metrics_reported                                                                   [1, 2, 5, 7, 8, 9, 10, 11, 12, 13, 14, 15, 16, 3, 4, 6, 0, 17]\n",
       "industry_rating                                                                                                                [F, E, D, C, B, A]\n",
       "overall_rating                                                                                                                 [F, E, D, C, B, A]\n",
       "industry_percentile                           [0.04, 0.08, 0.12, 0.16, 0.2, 0.26, 0.34, 0.4, 0.46, 0.58, 0.68, 0.76, 0.92, 0.5, 1.0, 0.0235294...\n",
       "overall_percentile                            [0.0411522633744856, 0.06995884773662552, 0.2294238683127572, 0.3734567901234568, 0.460905349794...\n",
       "ticker                                        [AFAGR, JOSE, LUG, HH, LUC, SPG, BOL, AM1, ELK, NSKOG, LUMI, HPOL, STERV, BRG, HOLM, BEIA, UPM, ...\n",
       "segment                                                                                                                       [Mid, Large, Small]\n",
       "hq_country                                                                                              [Finland, Other, Denmark, Sweden, Norway]\n",
       "external_audit_of_ESG_report                                                                                                               [0, 1]\n",
       "years_esg_data                                                                                                                       [2, 4, 3, 1]\n",
       "base_year                                                                                                                [2019, 2020, 2021, 2022]\n",
       "ceo_sust_statem                                                                                                                            [0, 1]\n",
       "environmental_policy_and_assessment                                                                                                        [1, 0]\n",
       "environmental_performance_targets                                                                                                          [0, 1]\n",
       "reduced_environmental_impact                                                                                                               [0, 1]\n",
       "increased_renewable_energy                                                                                                                 [0, 1]\n",
       "disclosure_of_raw_material_use                                                                                                             [0, 1]\n",
       "resource_efficiency_target                                                                                                                 [0, 1]\n",
       "disclosure_of_water_discharges                                                                                                             [0, 1]\n",
       "supplier_guidelines                                                                                                                        [0, 1]\n",
       "disclosure_of_suppliers_audited                                                                                                            [0, 1]\n",
       "disclosure_of_supplier_evaluation_procedures                                                                                               [0, 1]\n",
       "supplier_environmental_assessment                                                                                                          [0, 1]\n",
       "energy_consump_bool                                                                                                                        [0, 1]\n",
       "water_withdraw_bool                                                                                                                        [0, 1]\n",
       "ghg_emis_bool                                                                                                                              [0, 1]\n",
       "transport_emis_bool                                                                                                                        [0, 1]\n",
       "metrics_change_from_prev_year                                                                                                               [nan]\n",
       "metrics_change_from_base_year                 [nan, 0.0, 2.0, 1.0, 3.0, -2.0, -3.0, 4.0, -1.0, -5.0, -6.0, 8.0, 7.0, 5.0, 6.0, -7.0, -4.0, -11..."
      ]
     },
     "execution_count": 373,
     "metadata": {},
     "output_type": "execute_result"
    }
   ],
   "source": [
    "pd.set_option(\"display.max_colwidth\", 100)\n",
    "\n",
    "# Create a DataFrame with unique values for each column\n",
    "unique_values_df = pd.DataFrame(\n",
    "    {\n",
    "        \"columns\": reporting_df.columns,\n",
    "        \"unique_values\": [\n",
    "            reporting_df[col].unique().tolist() for col in reporting_df.columns\n",
    "        ],\n",
    "    }\n",
    ").set_index(\"columns\")\n",
    "\n",
    "unique_values_df"
   ]
  },
  {
   "cell_type": "code",
   "execution_count": 374,
   "metadata": {},
   "outputs": [
    {
     "data": {
      "text/html": [
       "<div>\n",
       "<style scoped>\n",
       "    .dataframe tbody tr th:only-of-type {\n",
       "        vertical-align: middle;\n",
       "    }\n",
       "\n",
       "    .dataframe tbody tr th {\n",
       "        vertical-align: top;\n",
       "    }\n",
       "\n",
       "    .dataframe thead th {\n",
       "        text-align: right;\n",
       "    }\n",
       "</style>\n",
       "<table border=\"1\" class=\"dataframe\">\n",
       "  <thead>\n",
       "    <tr style=\"text-align: right;\">\n",
       "      <th></th>\n",
       "      <th>company</th>\n",
       "      <th>year</th>\n",
       "      <th>industry</th>\n",
       "      <th>metrics_reported</th>\n",
       "      <th>industry_rating</th>\n",
       "      <th>overall_rating</th>\n",
       "      <th>industry_percentile</th>\n",
       "      <th>overall_percentile</th>\n",
       "      <th>ticker</th>\n",
       "      <th>segment</th>\n",
       "      <th>hq_country</th>\n",
       "      <th>external_audit_of_ESG_report</th>\n",
       "      <th>years_esg_data</th>\n",
       "      <th>base_year</th>\n",
       "      <th>ceo_sust_statem</th>\n",
       "      <th>environmental_policy_and_assessment</th>\n",
       "      <th>environmental_performance_targets</th>\n",
       "      <th>reduced_environmental_impact</th>\n",
       "      <th>increased_renewable_energy</th>\n",
       "      <th>disclosure_of_raw_material_use</th>\n",
       "      <th>resource_efficiency_target</th>\n",
       "      <th>disclosure_of_water_discharges</th>\n",
       "      <th>supplier_guidelines</th>\n",
       "      <th>disclosure_of_suppliers_audited</th>\n",
       "      <th>disclosure_of_supplier_evaluation_procedures</th>\n",
       "      <th>supplier_environmental_assessment</th>\n",
       "      <th>energy_consump_bool</th>\n",
       "      <th>water_withdraw_bool</th>\n",
       "      <th>ghg_emis_bool</th>\n",
       "      <th>transport_emis_bool</th>\n",
       "      <th>metrics_change_from_prev_year</th>\n",
       "      <th>metrics_change_from_base_year</th>\n",
       "    </tr>\n",
       "  </thead>\n",
       "  <tbody>\n",
       "    <tr>\n",
       "      <th>452</th>\n",
       "      <td>Neste Oyj</td>\n",
       "      <td>2021</td>\n",
       "      <td>Energy</td>\n",
       "      <td>17</td>\n",
       "      <td>A</td>\n",
       "      <td>A</td>\n",
       "      <td>1.00</td>\n",
       "      <td>1.00</td>\n",
       "      <td>NESTE</td>\n",
       "      <td>Large</td>\n",
       "      <td>Finland</td>\n",
       "      <td>1</td>\n",
       "      <td>4</td>\n",
       "      <td>2019</td>\n",
       "      <td>1</td>\n",
       "      <td>1</td>\n",
       "      <td>1</td>\n",
       "      <td>1</td>\n",
       "      <td>1</td>\n",
       "      <td>1</td>\n",
       "      <td>1</td>\n",
       "      <td>1</td>\n",
       "      <td>1</td>\n",
       "      <td>1</td>\n",
       "      <td>1</td>\n",
       "      <td>1</td>\n",
       "      <td>1</td>\n",
       "      <td>1</td>\n",
       "      <td>1</td>\n",
       "      <td>1</td>\n",
       "      <td>NaN</td>\n",
       "      <td>2.00</td>\n",
       "    </tr>\n",
       "    <tr>\n",
       "      <th>306</th>\n",
       "      <td>Vestas Wind Systems A/S</td>\n",
       "      <td>2021</td>\n",
       "      <td>Energy</td>\n",
       "      <td>15</td>\n",
       "      <td>A</td>\n",
       "      <td>A</td>\n",
       "      <td>0.96</td>\n",
       "      <td>0.94</td>\n",
       "      <td>VWS</td>\n",
       "      <td>Large</td>\n",
       "      <td>Denmark</td>\n",
       "      <td>0</td>\n",
       "      <td>4</td>\n",
       "      <td>2019</td>\n",
       "      <td>1</td>\n",
       "      <td>1</td>\n",
       "      <td>1</td>\n",
       "      <td>1</td>\n",
       "      <td>1</td>\n",
       "      <td>0</td>\n",
       "      <td>1</td>\n",
       "      <td>1</td>\n",
       "      <td>1</td>\n",
       "      <td>1</td>\n",
       "      <td>1</td>\n",
       "      <td>1</td>\n",
       "      <td>1</td>\n",
       "      <td>1</td>\n",
       "      <td>1</td>\n",
       "      <td>1</td>\n",
       "      <td>NaN</td>\n",
       "      <td>4.00</td>\n",
       "    </tr>\n",
       "    <tr>\n",
       "      <th>856</th>\n",
       "      <td>Aker BP ASA</td>\n",
       "      <td>2021</td>\n",
       "      <td>Energy</td>\n",
       "      <td>14</td>\n",
       "      <td>A</td>\n",
       "      <td>A</td>\n",
       "      <td>0.92</td>\n",
       "      <td>0.87</td>\n",
       "      <td>AKRBP</td>\n",
       "      <td>Large</td>\n",
       "      <td>Norway</td>\n",
       "      <td>1</td>\n",
       "      <td>4</td>\n",
       "      <td>2019</td>\n",
       "      <td>1</td>\n",
       "      <td>1</td>\n",
       "      <td>1</td>\n",
       "      <td>1</td>\n",
       "      <td>0</td>\n",
       "      <td>0</td>\n",
       "      <td>0</td>\n",
       "      <td>1</td>\n",
       "      <td>1</td>\n",
       "      <td>1</td>\n",
       "      <td>1</td>\n",
       "      <td>1</td>\n",
       "      <td>1</td>\n",
       "      <td>1</td>\n",
       "      <td>1</td>\n",
       "      <td>1</td>\n",
       "      <td>NaN</td>\n",
       "      <td>1.00</td>\n",
       "    </tr>\n",
       "    <tr>\n",
       "      <th>1225</th>\n",
       "      <td>Lundin Energy AB</td>\n",
       "      <td>2021</td>\n",
       "      <td>Energy</td>\n",
       "      <td>13</td>\n",
       "      <td>B</td>\n",
       "      <td>B</td>\n",
       "      <td>0.81</td>\n",
       "      <td>0.77</td>\n",
       "      <td>LUNE</td>\n",
       "      <td>Large</td>\n",
       "      <td>Sweden</td>\n",
       "      <td>1</td>\n",
       "      <td>4</td>\n",
       "      <td>2019</td>\n",
       "      <td>1</td>\n",
       "      <td>1</td>\n",
       "      <td>1</td>\n",
       "      <td>1</td>\n",
       "      <td>1</td>\n",
       "      <td>0</td>\n",
       "      <td>0</td>\n",
       "      <td>1</td>\n",
       "      <td>1</td>\n",
       "      <td>0</td>\n",
       "      <td>0</td>\n",
       "      <td>1</td>\n",
       "      <td>1</td>\n",
       "      <td>1</td>\n",
       "      <td>1</td>\n",
       "      <td>1</td>\n",
       "      <td>NaN</td>\n",
       "      <td>-1.00</td>\n",
       "    </tr>\n",
       "    <tr>\n",
       "      <th>931</th>\n",
       "      <td>Aker Solutions ASA</td>\n",
       "      <td>2021</td>\n",
       "      <td>Energy</td>\n",
       "      <td>13</td>\n",
       "      <td>B</td>\n",
       "      <td>B</td>\n",
       "      <td>0.81</td>\n",
       "      <td>0.77</td>\n",
       "      <td>AKSO</td>\n",
       "      <td>Large</td>\n",
       "      <td>Norway</td>\n",
       "      <td>0</td>\n",
       "      <td>4</td>\n",
       "      <td>2019</td>\n",
       "      <td>1</td>\n",
       "      <td>1</td>\n",
       "      <td>1</td>\n",
       "      <td>1</td>\n",
       "      <td>1</td>\n",
       "      <td>0</td>\n",
       "      <td>1</td>\n",
       "      <td>0</td>\n",
       "      <td>1</td>\n",
       "      <td>1</td>\n",
       "      <td>1</td>\n",
       "      <td>1</td>\n",
       "      <td>1</td>\n",
       "      <td>0</td>\n",
       "      <td>1</td>\n",
       "      <td>1</td>\n",
       "      <td>NaN</td>\n",
       "      <td>1.00</td>\n",
       "    </tr>\n",
       "    <tr>\n",
       "      <th>810</th>\n",
       "      <td>Equinor ASA (formerly Statoil ASA)</td>\n",
       "      <td>2021</td>\n",
       "      <td>Energy</td>\n",
       "      <td>13</td>\n",
       "      <td>B</td>\n",
       "      <td>B</td>\n",
       "      <td>0.81</td>\n",
       "      <td>0.77</td>\n",
       "      <td>EQNR</td>\n",
       "      <td>Large</td>\n",
       "      <td>Norway</td>\n",
       "      <td>1</td>\n",
       "      <td>4</td>\n",
       "      <td>2019</td>\n",
       "      <td>1</td>\n",
       "      <td>1</td>\n",
       "      <td>1</td>\n",
       "      <td>1</td>\n",
       "      <td>0</td>\n",
       "      <td>0</td>\n",
       "      <td>1</td>\n",
       "      <td>1</td>\n",
       "      <td>1</td>\n",
       "      <td>0</td>\n",
       "      <td>0</td>\n",
       "      <td>1</td>\n",
       "      <td>1</td>\n",
       "      <td>1</td>\n",
       "      <td>1</td>\n",
       "      <td>1</td>\n",
       "      <td>NaN</td>\n",
       "      <td>-1.00</td>\n",
       "    </tr>\n",
       "    <tr>\n",
       "      <th>297</th>\n",
       "      <td>The Drilling Company of 1972 A/S</td>\n",
       "      <td>2021</td>\n",
       "      <td>Energy</td>\n",
       "      <td>13</td>\n",
       "      <td>B</td>\n",
       "      <td>B</td>\n",
       "      <td>0.81</td>\n",
       "      <td>0.77</td>\n",
       "      <td>DRLCO</td>\n",
       "      <td>Large</td>\n",
       "      <td>Denmark</td>\n",
       "      <td>1</td>\n",
       "      <td>4</td>\n",
       "      <td>2019</td>\n",
       "      <td>1</td>\n",
       "      <td>1</td>\n",
       "      <td>1</td>\n",
       "      <td>1</td>\n",
       "      <td>0</td>\n",
       "      <td>0</td>\n",
       "      <td>1</td>\n",
       "      <td>0</td>\n",
       "      <td>0</td>\n",
       "      <td>1</td>\n",
       "      <td>1</td>\n",
       "      <td>1</td>\n",
       "      <td>1</td>\n",
       "      <td>1</td>\n",
       "      <td>1</td>\n",
       "      <td>1</td>\n",
       "      <td>NaN</td>\n",
       "      <td>1.00</td>\n",
       "    </tr>\n",
       "    <tr>\n",
       "      <th>13</th>\n",
       "      <td>BW Offshore Limited</td>\n",
       "      <td>2021</td>\n",
       "      <td>Energy</td>\n",
       "      <td>12</td>\n",
       "      <td>C</td>\n",
       "      <td>C</td>\n",
       "      <td>0.65</td>\n",
       "      <td>0.67</td>\n",
       "      <td>BWO</td>\n",
       "      <td>Large</td>\n",
       "      <td>Other</td>\n",
       "      <td>0</td>\n",
       "      <td>4</td>\n",
       "      <td>2019</td>\n",
       "      <td>1</td>\n",
       "      <td>1</td>\n",
       "      <td>1</td>\n",
       "      <td>1</td>\n",
       "      <td>0</td>\n",
       "      <td>0</td>\n",
       "      <td>1</td>\n",
       "      <td>0</td>\n",
       "      <td>1</td>\n",
       "      <td>1</td>\n",
       "      <td>1</td>\n",
       "      <td>1</td>\n",
       "      <td>1</td>\n",
       "      <td>0</td>\n",
       "      <td>1</td>\n",
       "      <td>1</td>\n",
       "      <td>NaN</td>\n",
       "      <td>6.00</td>\n",
       "    </tr>\n",
       "    <tr>\n",
       "      <th>997</th>\n",
       "      <td>Aker Carbon Capture AS</td>\n",
       "      <td>2021</td>\n",
       "      <td>Energy</td>\n",
       "      <td>12</td>\n",
       "      <td>C</td>\n",
       "      <td>C</td>\n",
       "      <td>0.65</td>\n",
       "      <td>0.67</td>\n",
       "      <td>ACC</td>\n",
       "      <td>Large</td>\n",
       "      <td>Norway</td>\n",
       "      <td>0</td>\n",
       "      <td>1</td>\n",
       "      <td>2021</td>\n",
       "      <td>1</td>\n",
       "      <td>1</td>\n",
       "      <td>1</td>\n",
       "      <td>1</td>\n",
       "      <td>0</td>\n",
       "      <td>0</td>\n",
       "      <td>1</td>\n",
       "      <td>0</td>\n",
       "      <td>1</td>\n",
       "      <td>0</td>\n",
       "      <td>1</td>\n",
       "      <td>1</td>\n",
       "      <td>1</td>\n",
       "      <td>1</td>\n",
       "      <td>1</td>\n",
       "      <td>1</td>\n",
       "      <td>NaN</td>\n",
       "      <td>NaN</td>\n",
       "    </tr>\n",
       "    <tr>\n",
       "      <th>991</th>\n",
       "      <td>Prosafe SE</td>\n",
       "      <td>2021</td>\n",
       "      <td>Energy</td>\n",
       "      <td>12</td>\n",
       "      <td>C</td>\n",
       "      <td>C</td>\n",
       "      <td>0.65</td>\n",
       "      <td>0.67</td>\n",
       "      <td>PRS</td>\n",
       "      <td>Large</td>\n",
       "      <td>Other</td>\n",
       "      <td>0</td>\n",
       "      <td>4</td>\n",
       "      <td>2019</td>\n",
       "      <td>1</td>\n",
       "      <td>1</td>\n",
       "      <td>1</td>\n",
       "      <td>1</td>\n",
       "      <td>0</td>\n",
       "      <td>0</td>\n",
       "      <td>0</td>\n",
       "      <td>0</td>\n",
       "      <td>1</td>\n",
       "      <td>1</td>\n",
       "      <td>1</td>\n",
       "      <td>1</td>\n",
       "      <td>1</td>\n",
       "      <td>1</td>\n",
       "      <td>1</td>\n",
       "      <td>1</td>\n",
       "      <td>NaN</td>\n",
       "      <td>2.00</td>\n",
       "    </tr>\n",
       "    <tr>\n",
       "      <th>33</th>\n",
       "      <td>Odfjell Drilling Ltd</td>\n",
       "      <td>2021</td>\n",
       "      <td>Energy</td>\n",
       "      <td>12</td>\n",
       "      <td>C</td>\n",
       "      <td>C</td>\n",
       "      <td>0.65</td>\n",
       "      <td>0.67</td>\n",
       "      <td>ODL</td>\n",
       "      <td>Mid</td>\n",
       "      <td>Other</td>\n",
       "      <td>0</td>\n",
       "      <td>4</td>\n",
       "      <td>2019</td>\n",
       "      <td>1</td>\n",
       "      <td>1</td>\n",
       "      <td>1</td>\n",
       "      <td>1</td>\n",
       "      <td>0</td>\n",
       "      <td>0</td>\n",
       "      <td>1</td>\n",
       "      <td>0</td>\n",
       "      <td>1</td>\n",
       "      <td>1</td>\n",
       "      <td>1</td>\n",
       "      <td>1</td>\n",
       "      <td>1</td>\n",
       "      <td>0</td>\n",
       "      <td>1</td>\n",
       "      <td>1</td>\n",
       "      <td>NaN</td>\n",
       "      <td>2.00</td>\n",
       "    </tr>\n",
       "    <tr>\n",
       "      <th>695</th>\n",
       "      <td>TGS-NOPEC Geophysical Company ASA</td>\n",
       "      <td>2021</td>\n",
       "      <td>Energy</td>\n",
       "      <td>10</td>\n",
       "      <td>D</td>\n",
       "      <td>D</td>\n",
       "      <td>0.48</td>\n",
       "      <td>0.47</td>\n",
       "      <td>TGS</td>\n",
       "      <td>Mid</td>\n",
       "      <td>Norway</td>\n",
       "      <td>1</td>\n",
       "      <td>4</td>\n",
       "      <td>2019</td>\n",
       "      <td>1</td>\n",
       "      <td>1</td>\n",
       "      <td>1</td>\n",
       "      <td>1</td>\n",
       "      <td>0</td>\n",
       "      <td>0</td>\n",
       "      <td>0</td>\n",
       "      <td>0</td>\n",
       "      <td>1</td>\n",
       "      <td>0</td>\n",
       "      <td>1</td>\n",
       "      <td>1</td>\n",
       "      <td>0</td>\n",
       "      <td>0</td>\n",
       "      <td>1</td>\n",
       "      <td>1</td>\n",
       "      <td>NaN</td>\n",
       "      <td>2.00</td>\n",
       "    </tr>\n",
       "    <tr>\n",
       "      <th>645</th>\n",
       "      <td>Subsea 7 S.A.</td>\n",
       "      <td>2021</td>\n",
       "      <td>Energy</td>\n",
       "      <td>10</td>\n",
       "      <td>D</td>\n",
       "      <td>D</td>\n",
       "      <td>0.48</td>\n",
       "      <td>0.47</td>\n",
       "      <td>SUBC</td>\n",
       "      <td>Large</td>\n",
       "      <td>Other</td>\n",
       "      <td>0</td>\n",
       "      <td>4</td>\n",
       "      <td>2019</td>\n",
       "      <td>1</td>\n",
       "      <td>1</td>\n",
       "      <td>1</td>\n",
       "      <td>1</td>\n",
       "      <td>0</td>\n",
       "      <td>0</td>\n",
       "      <td>0</td>\n",
       "      <td>0</td>\n",
       "      <td>1</td>\n",
       "      <td>0</td>\n",
       "      <td>1</td>\n",
       "      <td>1</td>\n",
       "      <td>1</td>\n",
       "      <td>0</td>\n",
       "      <td>1</td>\n",
       "      <td>1</td>\n",
       "      <td>NaN</td>\n",
       "      <td>2.00</td>\n",
       "    </tr>\n",
       "    <tr>\n",
       "      <th>598</th>\n",
       "      <td>EnQuest plc</td>\n",
       "      <td>2021</td>\n",
       "      <td>Energy</td>\n",
       "      <td>10</td>\n",
       "      <td>D</td>\n",
       "      <td>D</td>\n",
       "      <td>0.48</td>\n",
       "      <td>0.47</td>\n",
       "      <td>ENQ</td>\n",
       "      <td>Mid</td>\n",
       "      <td>Other</td>\n",
       "      <td>0</td>\n",
       "      <td>4</td>\n",
       "      <td>2019</td>\n",
       "      <td>1</td>\n",
       "      <td>1</td>\n",
       "      <td>1</td>\n",
       "      <td>1</td>\n",
       "      <td>0</td>\n",
       "      <td>0</td>\n",
       "      <td>1</td>\n",
       "      <td>0</td>\n",
       "      <td>1</td>\n",
       "      <td>0</td>\n",
       "      <td>1</td>\n",
       "      <td>1</td>\n",
       "      <td>1</td>\n",
       "      <td>0</td>\n",
       "      <td>1</td>\n",
       "      <td>0</td>\n",
       "      <td>NaN</td>\n",
       "      <td>1.00</td>\n",
       "    </tr>\n",
       "    <tr>\n",
       "      <th>8</th>\n",
       "      <td>BW LPG</td>\n",
       "      <td>2021</td>\n",
       "      <td>Energy</td>\n",
       "      <td>10</td>\n",
       "      <td>D</td>\n",
       "      <td>D</td>\n",
       "      <td>0.48</td>\n",
       "      <td>0.47</td>\n",
       "      <td>BWLPG</td>\n",
       "      <td>Large</td>\n",
       "      <td>Other</td>\n",
       "      <td>0</td>\n",
       "      <td>4</td>\n",
       "      <td>2019</td>\n",
       "      <td>1</td>\n",
       "      <td>1</td>\n",
       "      <td>1</td>\n",
       "      <td>1</td>\n",
       "      <td>0</td>\n",
       "      <td>0</td>\n",
       "      <td>0</td>\n",
       "      <td>0</td>\n",
       "      <td>1</td>\n",
       "      <td>1</td>\n",
       "      <td>1</td>\n",
       "      <td>1</td>\n",
       "      <td>1</td>\n",
       "      <td>0</td>\n",
       "      <td>1</td>\n",
       "      <td>0</td>\n",
       "      <td>NaN</td>\n",
       "      <td>7.00</td>\n",
       "    </tr>\n",
       "    <tr>\n",
       "      <th>1773</th>\n",
       "      <td>Tethys Oil AB</td>\n",
       "      <td>2021</td>\n",
       "      <td>Energy</td>\n",
       "      <td>9</td>\n",
       "      <td>D</td>\n",
       "      <td>D</td>\n",
       "      <td>0.33</td>\n",
       "      <td>0.40</td>\n",
       "      <td>TETY</td>\n",
       "      <td>Mid</td>\n",
       "      <td>Sweden</td>\n",
       "      <td>1</td>\n",
       "      <td>4</td>\n",
       "      <td>2019</td>\n",
       "      <td>1</td>\n",
       "      <td>1</td>\n",
       "      <td>1</td>\n",
       "      <td>1</td>\n",
       "      <td>0</td>\n",
       "      <td>0</td>\n",
       "      <td>0</td>\n",
       "      <td>1</td>\n",
       "      <td>0</td>\n",
       "      <td>0</td>\n",
       "      <td>0</td>\n",
       "      <td>0</td>\n",
       "      <td>0</td>\n",
       "      <td>1</td>\n",
       "      <td>1</td>\n",
       "      <td>1</td>\n",
       "      <td>NaN</td>\n",
       "      <td>3.00</td>\n",
       "    </tr>\n",
       "    <tr>\n",
       "      <th>22</th>\n",
       "      <td>Frontline Ltd</td>\n",
       "      <td>2021</td>\n",
       "      <td>Energy</td>\n",
       "      <td>9</td>\n",
       "      <td>D</td>\n",
       "      <td>D</td>\n",
       "      <td>0.33</td>\n",
       "      <td>0.40</td>\n",
       "      <td>FRO</td>\n",
       "      <td>Large</td>\n",
       "      <td>Other</td>\n",
       "      <td>0</td>\n",
       "      <td>4</td>\n",
       "      <td>2019</td>\n",
       "      <td>1</td>\n",
       "      <td>1</td>\n",
       "      <td>1</td>\n",
       "      <td>1</td>\n",
       "      <td>0</td>\n",
       "      <td>0</td>\n",
       "      <td>1</td>\n",
       "      <td>0</td>\n",
       "      <td>1</td>\n",
       "      <td>0</td>\n",
       "      <td>0</td>\n",
       "      <td>0</td>\n",
       "      <td>1</td>\n",
       "      <td>0</td>\n",
       "      <td>1</td>\n",
       "      <td>1</td>\n",
       "      <td>NaN</td>\n",
       "      <td>3.00</td>\n",
       "    </tr>\n",
       "    <tr>\n",
       "      <th>16</th>\n",
       "      <td>FLEX LNG Ltd</td>\n",
       "      <td>2021</td>\n",
       "      <td>Energy</td>\n",
       "      <td>9</td>\n",
       "      <td>D</td>\n",
       "      <td>D</td>\n",
       "      <td>0.33</td>\n",
       "      <td>0.40</td>\n",
       "      <td>FLNG</td>\n",
       "      <td>Large</td>\n",
       "      <td>Other</td>\n",
       "      <td>0</td>\n",
       "      <td>4</td>\n",
       "      <td>2019</td>\n",
       "      <td>1</td>\n",
       "      <td>1</td>\n",
       "      <td>1</td>\n",
       "      <td>1</td>\n",
       "      <td>0</td>\n",
       "      <td>0</td>\n",
       "      <td>1</td>\n",
       "      <td>0</td>\n",
       "      <td>1</td>\n",
       "      <td>0</td>\n",
       "      <td>0</td>\n",
       "      <td>0</td>\n",
       "      <td>1</td>\n",
       "      <td>0</td>\n",
       "      <td>1</td>\n",
       "      <td>1</td>\n",
       "      <td>NaN</td>\n",
       "      <td>2.00</td>\n",
       "    </tr>\n",
       "    <tr>\n",
       "      <th>47</th>\n",
       "      <td>Africa Oil Corp.</td>\n",
       "      <td>2021</td>\n",
       "      <td>Energy</td>\n",
       "      <td>8</td>\n",
       "      <td>E</td>\n",
       "      <td>E</td>\n",
       "      <td>0.25</td>\n",
       "      <td>0.32</td>\n",
       "      <td>AOI</td>\n",
       "      <td>Mid</td>\n",
       "      <td>Other</td>\n",
       "      <td>0</td>\n",
       "      <td>3</td>\n",
       "      <td>2019</td>\n",
       "      <td>1</td>\n",
       "      <td>1</td>\n",
       "      <td>1</td>\n",
       "      <td>0</td>\n",
       "      <td>0</td>\n",
       "      <td>0</td>\n",
       "      <td>0</td>\n",
       "      <td>1</td>\n",
       "      <td>0</td>\n",
       "      <td>0</td>\n",
       "      <td>1</td>\n",
       "      <td>0</td>\n",
       "      <td>0</td>\n",
       "      <td>1</td>\n",
       "      <td>1</td>\n",
       "      <td>1</td>\n",
       "      <td>NaN</td>\n",
       "      <td>7.00</td>\n",
       "    </tr>\n",
       "    <tr>\n",
       "      <th>866</th>\n",
       "      <td>Norwegian Energy Company ASA</td>\n",
       "      <td>2021</td>\n",
       "      <td>Energy</td>\n",
       "      <td>4</td>\n",
       "      <td>E</td>\n",
       "      <td>F</td>\n",
       "      <td>0.21</td>\n",
       "      <td>0.12</td>\n",
       "      <td>NOR</td>\n",
       "      <td>Mid</td>\n",
       "      <td>Norway</td>\n",
       "      <td>0</td>\n",
       "      <td>4</td>\n",
       "      <td>2019</td>\n",
       "      <td>0</td>\n",
       "      <td>1</td>\n",
       "      <td>1</td>\n",
       "      <td>1</td>\n",
       "      <td>0</td>\n",
       "      <td>0</td>\n",
       "      <td>1</td>\n",
       "      <td>0</td>\n",
       "      <td>0</td>\n",
       "      <td>0</td>\n",
       "      <td>0</td>\n",
       "      <td>0</td>\n",
       "      <td>0</td>\n",
       "      <td>0</td>\n",
       "      <td>0</td>\n",
       "      <td>0</td>\n",
       "      <td>NaN</td>\n",
       "      <td>0.00</td>\n",
       "    </tr>\n",
       "    <tr>\n",
       "      <th>736</th>\n",
       "      <td>DNO ASA</td>\n",
       "      <td>2021</td>\n",
       "      <td>Energy</td>\n",
       "      <td>3</td>\n",
       "      <td>F</td>\n",
       "      <td>F</td>\n",
       "      <td>0.15</td>\n",
       "      <td>0.08</td>\n",
       "      <td>DNO</td>\n",
       "      <td>Mid</td>\n",
       "      <td>Norway</td>\n",
       "      <td>0</td>\n",
       "      <td>4</td>\n",
       "      <td>2019</td>\n",
       "      <td>0</td>\n",
       "      <td>1</td>\n",
       "      <td>0</td>\n",
       "      <td>0</td>\n",
       "      <td>0</td>\n",
       "      <td>0</td>\n",
       "      <td>0</td>\n",
       "      <td>0</td>\n",
       "      <td>0</td>\n",
       "      <td>0</td>\n",
       "      <td>0</td>\n",
       "      <td>0</td>\n",
       "      <td>0</td>\n",
       "      <td>0</td>\n",
       "      <td>1</td>\n",
       "      <td>1</td>\n",
       "      <td>NaN</td>\n",
       "      <td>2.00</td>\n",
       "    </tr>\n",
       "    <tr>\n",
       "      <th>602</th>\n",
       "      <td>RAK Petroleum plc</td>\n",
       "      <td>2021</td>\n",
       "      <td>Energy</td>\n",
       "      <td>3</td>\n",
       "      <td>F</td>\n",
       "      <td>F</td>\n",
       "      <td>0.15</td>\n",
       "      <td>0.08</td>\n",
       "      <td>RAKP</td>\n",
       "      <td>Mid</td>\n",
       "      <td>Other</td>\n",
       "      <td>0</td>\n",
       "      <td>4</td>\n",
       "      <td>2019</td>\n",
       "      <td>0</td>\n",
       "      <td>1</td>\n",
       "      <td>1</td>\n",
       "      <td>1</td>\n",
       "      <td>0</td>\n",
       "      <td>0</td>\n",
       "      <td>0</td>\n",
       "      <td>0</td>\n",
       "      <td>0</td>\n",
       "      <td>0</td>\n",
       "      <td>0</td>\n",
       "      <td>0</td>\n",
       "      <td>0</td>\n",
       "      <td>0</td>\n",
       "      <td>0</td>\n",
       "      <td>0</td>\n",
       "      <td>NaN</td>\n",
       "      <td>2.00</td>\n",
       "    </tr>\n",
       "    <tr>\n",
       "      <th>50</th>\n",
       "      <td>International Petroleum Corp.</td>\n",
       "      <td>2021</td>\n",
       "      <td>Energy</td>\n",
       "      <td>0</td>\n",
       "      <td>F</td>\n",
       "      <td>F</td>\n",
       "      <td>0.06</td>\n",
       "      <td>0.02</td>\n",
       "      <td>IPCO</td>\n",
       "      <td>Mid</td>\n",
       "      <td>Other</td>\n",
       "      <td>0</td>\n",
       "      <td>4</td>\n",
       "      <td>2019</td>\n",
       "      <td>0</td>\n",
       "      <td>0</td>\n",
       "      <td>0</td>\n",
       "      <td>0</td>\n",
       "      <td>0</td>\n",
       "      <td>0</td>\n",
       "      <td>0</td>\n",
       "      <td>0</td>\n",
       "      <td>0</td>\n",
       "      <td>0</td>\n",
       "      <td>0</td>\n",
       "      <td>0</td>\n",
       "      <td>0</td>\n",
       "      <td>0</td>\n",
       "      <td>0</td>\n",
       "      <td>0</td>\n",
       "      <td>NaN</td>\n",
       "      <td>-4.00</td>\n",
       "    </tr>\n",
       "    <tr>\n",
       "      <th>5</th>\n",
       "      <td>Borr Drilling Ltd</td>\n",
       "      <td>2021</td>\n",
       "      <td>Energy</td>\n",
       "      <td>0</td>\n",
       "      <td>F</td>\n",
       "      <td>F</td>\n",
       "      <td>0.06</td>\n",
       "      <td>0.02</td>\n",
       "      <td>BDRILL</td>\n",
       "      <td>Mid</td>\n",
       "      <td>Other</td>\n",
       "      <td>0</td>\n",
       "      <td>4</td>\n",
       "      <td>2019</td>\n",
       "      <td>0</td>\n",
       "      <td>0</td>\n",
       "      <td>0</td>\n",
       "      <td>0</td>\n",
       "      <td>0</td>\n",
       "      <td>0</td>\n",
       "      <td>0</td>\n",
       "      <td>0</td>\n",
       "      <td>0</td>\n",
       "      <td>0</td>\n",
       "      <td>0</td>\n",
       "      <td>0</td>\n",
       "      <td>0</td>\n",
       "      <td>0</td>\n",
       "      <td>0</td>\n",
       "      <td>0</td>\n",
       "      <td>NaN</td>\n",
       "      <td>-7.00</td>\n",
       "    </tr>\n",
       "  </tbody>\n",
       "</table>\n",
       "</div>"
      ],
      "text/plain": [
       "                                 company  year industry  metrics_reported  \\\n",
       "452                            Neste Oyj  2021   Energy                17   \n",
       "306              Vestas Wind Systems A/S  2021   Energy                15   \n",
       "856                          Aker BP ASA  2021   Energy                14   \n",
       "1225                    Lundin Energy AB  2021   Energy                13   \n",
       "931                   Aker Solutions ASA  2021   Energy                13   \n",
       "810   Equinor ASA (formerly Statoil ASA)  2021   Energy                13   \n",
       "297     The Drilling Company of 1972 A/S  2021   Energy                13   \n",
       "13                   BW Offshore Limited  2021   Energy                12   \n",
       "997               Aker Carbon Capture AS  2021   Energy                12   \n",
       "991                           Prosafe SE  2021   Energy                12   \n",
       "33                  Odfjell Drilling Ltd  2021   Energy                12   \n",
       "695    TGS-NOPEC Geophysical Company ASA  2021   Energy                10   \n",
       "645                        Subsea 7 S.A.  2021   Energy                10   \n",
       "598                          EnQuest plc  2021   Energy                10   \n",
       "8                                 BW LPG  2021   Energy                10   \n",
       "1773                       Tethys Oil AB  2021   Energy                 9   \n",
       "22                         Frontline Ltd  2021   Energy                 9   \n",
       "16                          FLEX LNG Ltd  2021   Energy                 9   \n",
       "47                      Africa Oil Corp.  2021   Energy                 8   \n",
       "866         Norwegian Energy Company ASA  2021   Energy                 4   \n",
       "736                              DNO ASA  2021   Energy                 3   \n",
       "602                    RAK Petroleum plc  2021   Energy                 3   \n",
       "50         International Petroleum Corp.  2021   Energy                 0   \n",
       "5                      Borr Drilling Ltd  2021   Energy                 0   \n",
       "\n",
       "     industry_rating overall_rating  industry_percentile  overall_percentile  \\\n",
       "452                A              A                 1.00                1.00   \n",
       "306                A              A                 0.96                0.94   \n",
       "856                A              A                 0.92                0.87   \n",
       "1225               B              B                 0.81                0.77   \n",
       "931                B              B                 0.81                0.77   \n",
       "810                B              B                 0.81                0.77   \n",
       "297                B              B                 0.81                0.77   \n",
       "13                 C              C                 0.65                0.67   \n",
       "997                C              C                 0.65                0.67   \n",
       "991                C              C                 0.65                0.67   \n",
       "33                 C              C                 0.65                0.67   \n",
       "695                D              D                 0.48                0.47   \n",
       "645                D              D                 0.48                0.47   \n",
       "598                D              D                 0.48                0.47   \n",
       "8                  D              D                 0.48                0.47   \n",
       "1773               D              D                 0.33                0.40   \n",
       "22                 D              D                 0.33                0.40   \n",
       "16                 D              D                 0.33                0.40   \n",
       "47                 E              E                 0.25                0.32   \n",
       "866                E              F                 0.21                0.12   \n",
       "736                F              F                 0.15                0.08   \n",
       "602                F              F                 0.15                0.08   \n",
       "50                 F              F                 0.06                0.02   \n",
       "5                  F              F                 0.06                0.02   \n",
       "\n",
       "      ticker segment hq_country  external_audit_of_ESG_report  years_esg_data  \\\n",
       "452    NESTE   Large    Finland                             1               4   \n",
       "306      VWS   Large    Denmark                             0               4   \n",
       "856    AKRBP   Large     Norway                             1               4   \n",
       "1225    LUNE   Large     Sweden                             1               4   \n",
       "931     AKSO   Large     Norway                             0               4   \n",
       "810     EQNR   Large     Norway                             1               4   \n",
       "297    DRLCO   Large    Denmark                             1               4   \n",
       "13       BWO   Large      Other                             0               4   \n",
       "997      ACC   Large     Norway                             0               1   \n",
       "991      PRS   Large      Other                             0               4   \n",
       "33       ODL     Mid      Other                             0               4   \n",
       "695      TGS     Mid     Norway                             1               4   \n",
       "645     SUBC   Large      Other                             0               4   \n",
       "598      ENQ     Mid      Other                             0               4   \n",
       "8      BWLPG   Large      Other                             0               4   \n",
       "1773    TETY     Mid     Sweden                             1               4   \n",
       "22       FRO   Large      Other                             0               4   \n",
       "16      FLNG   Large      Other                             0               4   \n",
       "47       AOI     Mid      Other                             0               3   \n",
       "866      NOR     Mid     Norway                             0               4   \n",
       "736      DNO     Mid     Norway                             0               4   \n",
       "602     RAKP     Mid      Other                             0               4   \n",
       "50      IPCO     Mid      Other                             0               4   \n",
       "5     BDRILL     Mid      Other                             0               4   \n",
       "\n",
       "      base_year  ceo_sust_statem  environmental_policy_and_assessment  \\\n",
       "452        2019                1                                    1   \n",
       "306        2019                1                                    1   \n",
       "856        2019                1                                    1   \n",
       "1225       2019                1                                    1   \n",
       "931        2019                1                                    1   \n",
       "810        2019                1                                    1   \n",
       "297        2019                1                                    1   \n",
       "13         2019                1                                    1   \n",
       "997        2021                1                                    1   \n",
       "991        2019                1                                    1   \n",
       "33         2019                1                                    1   \n",
       "695        2019                1                                    1   \n",
       "645        2019                1                                    1   \n",
       "598        2019                1                                    1   \n",
       "8          2019                1                                    1   \n",
       "1773       2019                1                                    1   \n",
       "22         2019                1                                    1   \n",
       "16         2019                1                                    1   \n",
       "47         2019                1                                    1   \n",
       "866        2019                0                                    1   \n",
       "736        2019                0                                    1   \n",
       "602        2019                0                                    1   \n",
       "50         2019                0                                    0   \n",
       "5          2019                0                                    0   \n",
       "\n",
       "      environmental_performance_targets  reduced_environmental_impact  \\\n",
       "452                                   1                             1   \n",
       "306                                   1                             1   \n",
       "856                                   1                             1   \n",
       "1225                                  1                             1   \n",
       "931                                   1                             1   \n",
       "810                                   1                             1   \n",
       "297                                   1                             1   \n",
       "13                                    1                             1   \n",
       "997                                   1                             1   \n",
       "991                                   1                             1   \n",
       "33                                    1                             1   \n",
       "695                                   1                             1   \n",
       "645                                   1                             1   \n",
       "598                                   1                             1   \n",
       "8                                     1                             1   \n",
       "1773                                  1                             1   \n",
       "22                                    1                             1   \n",
       "16                                    1                             1   \n",
       "47                                    1                             0   \n",
       "866                                   1                             1   \n",
       "736                                   0                             0   \n",
       "602                                   1                             1   \n",
       "50                                    0                             0   \n",
       "5                                     0                             0   \n",
       "\n",
       "      increased_renewable_energy  disclosure_of_raw_material_use  \\\n",
       "452                            1                               1   \n",
       "306                            1                               0   \n",
       "856                            0                               0   \n",
       "1225                           1                               0   \n",
       "931                            1                               0   \n",
       "810                            0                               0   \n",
       "297                            0                               0   \n",
       "13                             0                               0   \n",
       "997                            0                               0   \n",
       "991                            0                               0   \n",
       "33                             0                               0   \n",
       "695                            0                               0   \n",
       "645                            0                               0   \n",
       "598                            0                               0   \n",
       "8                              0                               0   \n",
       "1773                           0                               0   \n",
       "22                             0                               0   \n",
       "16                             0                               0   \n",
       "47                             0                               0   \n",
       "866                            0                               0   \n",
       "736                            0                               0   \n",
       "602                            0                               0   \n",
       "50                             0                               0   \n",
       "5                              0                               0   \n",
       "\n",
       "      resource_efficiency_target  disclosure_of_water_discharges  \\\n",
       "452                            1                               1   \n",
       "306                            1                               1   \n",
       "856                            0                               1   \n",
       "1225                           0                               1   \n",
       "931                            1                               0   \n",
       "810                            1                               1   \n",
       "297                            1                               0   \n",
       "13                             1                               0   \n",
       "997                            1                               0   \n",
       "991                            0                               0   \n",
       "33                             1                               0   \n",
       "695                            0                               0   \n",
       "645                            0                               0   \n",
       "598                            1                               0   \n",
       "8                              0                               0   \n",
       "1773                           0                               1   \n",
       "22                             1                               0   \n",
       "16                             1                               0   \n",
       "47                             0                               1   \n",
       "866                            1                               0   \n",
       "736                            0                               0   \n",
       "602                            0                               0   \n",
       "50                             0                               0   \n",
       "5                              0                               0   \n",
       "\n",
       "      supplier_guidelines  disclosure_of_suppliers_audited  \\\n",
       "452                     1                                1   \n",
       "306                     1                                1   \n",
       "856                     1                                1   \n",
       "1225                    1                                0   \n",
       "931                     1                                1   \n",
       "810                     1                                0   \n",
       "297                     0                                1   \n",
       "13                      1                                1   \n",
       "997                     1                                0   \n",
       "991                     1                                1   \n",
       "33                      1                                1   \n",
       "695                     1                                0   \n",
       "645                     1                                0   \n",
       "598                     1                                0   \n",
       "8                       1                                1   \n",
       "1773                    0                                0   \n",
       "22                      1                                0   \n",
       "16                      1                                0   \n",
       "47                      0                                0   \n",
       "866                     0                                0   \n",
       "736                     0                                0   \n",
       "602                     0                                0   \n",
       "50                      0                                0   \n",
       "5                       0                                0   \n",
       "\n",
       "      disclosure_of_supplier_evaluation_procedures  \\\n",
       "452                                              1   \n",
       "306                                              1   \n",
       "856                                              1   \n",
       "1225                                             0   \n",
       "931                                              1   \n",
       "810                                              0   \n",
       "297                                              1   \n",
       "13                                               1   \n",
       "997                                              1   \n",
       "991                                              1   \n",
       "33                                               1   \n",
       "695                                              1   \n",
       "645                                              1   \n",
       "598                                              1   \n",
       "8                                                1   \n",
       "1773                                             0   \n",
       "22                                               0   \n",
       "16                                               0   \n",
       "47                                               1   \n",
       "866                                              0   \n",
       "736                                              0   \n",
       "602                                              0   \n",
       "50                                               0   \n",
       "5                                                0   \n",
       "\n",
       "      supplier_environmental_assessment  energy_consump_bool  \\\n",
       "452                                   1                    1   \n",
       "306                                   1                    1   \n",
       "856                                   1                    1   \n",
       "1225                                  1                    1   \n",
       "931                                   1                    1   \n",
       "810                                   1                    1   \n",
       "297                                   1                    1   \n",
       "13                                    1                    1   \n",
       "997                                   1                    1   \n",
       "991                                   1                    1   \n",
       "33                                    1                    1   \n",
       "695                                   1                    0   \n",
       "645                                   1                    1   \n",
       "598                                   1                    1   \n",
       "8                                     1                    1   \n",
       "1773                                  0                    0   \n",
       "22                                    0                    1   \n",
       "16                                    0                    1   \n",
       "47                                    0                    0   \n",
       "866                                   0                    0   \n",
       "736                                   0                    0   \n",
       "602                                   0                    0   \n",
       "50                                    0                    0   \n",
       "5                                     0                    0   \n",
       "\n",
       "      water_withdraw_bool  ghg_emis_bool  transport_emis_bool  \\\n",
       "452                     1              1                    1   \n",
       "306                     1              1                    1   \n",
       "856                     1              1                    1   \n",
       "1225                    1              1                    1   \n",
       "931                     0              1                    1   \n",
       "810                     1              1                    1   \n",
       "297                     1              1                    1   \n",
       "13                      0              1                    1   \n",
       "997                     1              1                    1   \n",
       "991                     1              1                    1   \n",
       "33                      0              1                    1   \n",
       "695                     0              1                    1   \n",
       "645                     0              1                    1   \n",
       "598                     0              1                    0   \n",
       "8                       0              1                    0   \n",
       "1773                    1              1                    1   \n",
       "22                      0              1                    1   \n",
       "16                      0              1                    1   \n",
       "47                      1              1                    1   \n",
       "866                     0              0                    0   \n",
       "736                     0              1                    1   \n",
       "602                     0              0                    0   \n",
       "50                      0              0                    0   \n",
       "5                       0              0                    0   \n",
       "\n",
       "      metrics_change_from_prev_year  metrics_change_from_base_year  \n",
       "452                             NaN                           2.00  \n",
       "306                             NaN                           4.00  \n",
       "856                             NaN                           1.00  \n",
       "1225                            NaN                          -1.00  \n",
       "931                             NaN                           1.00  \n",
       "810                             NaN                          -1.00  \n",
       "297                             NaN                           1.00  \n",
       "13                              NaN                           6.00  \n",
       "997                             NaN                            NaN  \n",
       "991                             NaN                           2.00  \n",
       "33                              NaN                           2.00  \n",
       "695                             NaN                           2.00  \n",
       "645                             NaN                           2.00  \n",
       "598                             NaN                           1.00  \n",
       "8                               NaN                           7.00  \n",
       "1773                            NaN                           3.00  \n",
       "22                              NaN                           3.00  \n",
       "16                              NaN                           2.00  \n",
       "47                              NaN                           7.00  \n",
       "866                             NaN                           0.00  \n",
       "736                             NaN                           2.00  \n",
       "602                             NaN                           2.00  \n",
       "50                              NaN                          -4.00  \n",
       "5                               NaN                          -7.00  "
      ]
     },
     "execution_count": 374,
     "metadata": {},
     "output_type": "execute_result"
    }
   ],
   "source": [
    "top_n_companies(reporting_df, n_companies=None, industry=\"Energy\", year=2021)"
   ]
  },
  {
   "cell_type": "markdown",
   "metadata": {},
   "source": [
    "# Create a summary_df to make it easier to query individual companies"
   ]
  },
  {
   "cell_type": "markdown",
   "metadata": {},
   "source": [
    "# To do:\n",
    "\n",
    "Create 'gap analysis: total missing metrics (coverage of metrics)'\n",
    "\n",
    "#### New columns (emissions)\n",
    "\n",
    "\n",
    "Create a column: 'GHG per EUR revenue_ranking_all_companies' - This is binned from 1 to 10 (using quartiles and calculated using only values \n",
    "from the same year)\n",
    "\n",
    "Create a column: 'GHG per EUR revenue_ranking_sector' - This is also binned from 1 to 10 (and calculated using only values from the same year)\n",
    "\n",
    "Calculate the average GHG per EUR revenue as well as IQR--apply the outlier transformation and put all outliers in the '0' bin\n",
    "\n",
    "Create a column: 'GHG per EUR revenue_ranking_all_PY' -- This is to compare to the values from the previous year\n",
    "\n",
    "Create a column: 'GHG per EUR revenue_ranking_sector_PY' -- This is to compare to the values from the previous year\n",
    "\n",
    "Create a column: '% change in GHG per EUR revenue vs PY'\n",
    "\n",
    "Create a column: '% change in GHG emissions vs PY'\n",
    "\n",
    "Create a column: 'transport emissions as a % of total emissions'\n",
    "\n",
    "Create a column: '% change in transport emissions vs PY'\n",
    "\n",
    "Create a column: 'Transport emissions as % of total emissions' (compare to sector)\n",
    "\n",
    "\n",
    "Use the bins only for GHG emissions/EUR--compare values in each bin for all columns...\n",
    "\n",
    "See how bin values vary from year to year\n",
    "\n",
    "Calculate the number of companies that have migrated from bin to bin\n",
    "\n",
    "\n",
    "\n",
    "\n",
    "\n",
    "#### Bonus columns\n",
    "\n",
    "'GHG intensity reduction % vs sector-specific targets'--normalise so make it a % above or below target\n",
    "\n",
    "'GHG intensity reduction % vs others in the sector_CY'--also normalise (and consider whether positive is good or bad)\n",
    "\n",
    "\n",
    "\n",
    "#### Summary columns\n",
    "\n",
    "Summarise results by:\n",
    "\n",
    "- Segment/Industry\n",
    "\n",
    "- HQ country\n",
    "\n",
    "Declarations per year\n",
    "\n",
    "--check which industry has the highest % of missing values\n",
    "\n",
    "Percentage of companies in each industry that have their sustainability work audited"
   ]
  },
  {
   "cell_type": "markdown",
   "metadata": {},
   "source": [
    "## Appendix"
   ]
  },
  {
   "cell_type": "code",
   "execution_count": 375,
   "metadata": {},
   "outputs": [],
   "source": [
    "# # 2. Create 'consecutive_years_esg_data' by checking consecutive years starting from 2022\n",
    "# def calculate_consecutive_years(group):\n",
    "#     # Create a set of years for the current 'comp_name'\n",
    "#     years = set(group[\"year\"])\n",
    "#     # Start from 2022 and count consecutive years backwards\n",
    "#     count = 0\n",
    "#     for year in range(2022, 2019, -1):  # Checking years 2022, 2021, 2020, ...\n",
    "#         if year in years:\n",
    "#             count += 1\n",
    "#         else:\n",
    "#             break  # Stop if any year is missing in the consecutive sequence\n",
    "\n",
    "#     return count\n",
    "\n",
    "\n",
    "# # Apply the function to each group of 'comp_name'\n",
    "# df[\"consecutive_years_esg_data\"] = (\n",
    "#     df.groupby(\"comp_name\")\n",
    "#     .apply(calculate_consecutive_years)\n",
    "#     .reset_index(level=0, drop=True)\n",
    "# )"
   ]
  }
 ],
 "metadata": {
  "kernelspec": {
   "display_name": "Python 3",
   "language": "python",
   "name": "python3"
  },
  "language_info": {
   "codemirror_mode": {
    "name": "ipython",
    "version": 3
   },
   "file_extension": ".py",
   "mimetype": "text/x-python",
   "name": "python",
   "nbconvert_exporter": "python",
   "pygments_lexer": "ipython3",
   "version": "3.12.9"
  }
 },
 "nbformat": 4,
 "nbformat_minor": 2
}
