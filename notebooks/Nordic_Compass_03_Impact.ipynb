{
 "cells": [
  {
   "cell_type": "markdown",
   "metadata": {},
   "source": [
    "Create category weights for each. Points distribution from 1 to 10. Use industry group data point median as 5.\n",
    "\n",
    "\"The question of materiality, or in other words, the relative weight, is determined by the relative median value for\n",
    "a company in that industry group. The relative median values for each industry group to which the data point is\n",
    "material are compared, and decile ranks are assigned. The decile rank determines the relative weight\n",
    "assigned to that data point in determining the industry weight – from 1 to 10\""
   ]
  },
  {
   "cell_type": "markdown",
   "metadata": {},
   "source": [
    "<center><span style=\"font-size:30px; font-weight: bold;\">Nordic Compass Database</span></center>\n",
    "<center><span style=\"font-size:24px;\">Analysis of Environmental Performance and CSRD Compliance</span></center>"
   ]
  },
  {
   "cell_type": "markdown",
   "metadata": {},
   "source": [
    "<center><span style=\"font-size:22px;\"><b>Section 3:</b> Impact analysis </span></center>"
   ]
  },
  {
   "cell_type": "markdown",
   "metadata": {},
   "source": [
    "## Introduction to this section"
   ]
  },
  {
   "cell_type": "markdown",
   "metadata": {},
   "source": [
    "## Imports"
   ]
  },
  {
   "cell_type": "code",
   "execution_count": 2,
   "metadata": {},
   "outputs": [],
   "source": [
    "import pandas as pd\n",
    "import numpy as np\n",
    "import sys\n",
    "import os\n",
    "\n",
    "pd.set_option(\"display.max_columns\", None)\n",
    "sys.path.append(os.path.abspath(\"..\"))\n",
    "# import random\n",
    "\n",
    "from functions import test_company, show_missing_values\n",
    "from IPython.display import display\n",
    "\n",
    "pd.options.display.float_format = \"{:,.2f}\".format"
   ]
  },
  {
   "cell_type": "markdown",
   "metadata": {},
   "source": [
    "## Impact (materiality)"
   ]
  },
  {
   "cell_type": "code",
   "execution_count": 3,
   "metadata": {},
   "outputs": [],
   "source": [
    "impact_df = pd.read_csv(\"../datasets/impact_df_original.csv\")"
   ]
  },
  {
   "cell_type": "code",
   "execution_count": 4,
   "metadata": {},
   "outputs": [
    {
     "data": {
      "text/html": [
       "<div>\n",
       "<style scoped>\n",
       "    .dataframe tbody tr th:only-of-type {\n",
       "        vertical-align: middle;\n",
       "    }\n",
       "\n",
       "    .dataframe tbody tr th {\n",
       "        vertical-align: top;\n",
       "    }\n",
       "\n",
       "    .dataframe thead th {\n",
       "        text-align: right;\n",
       "    }\n",
       "</style>\n",
       "<table border=\"1\" class=\"dataframe\">\n",
       "  <thead>\n",
       "    <tr style=\"text-align: right;\">\n",
       "      <th></th>\n",
       "      <th>year</th>\n",
       "      <th>csrd_2025</th>\n",
       "      <th>csrd_2027</th>\n",
       "      <th>base_year</th>\n",
       "      <th>external_audit_of_ESG_report</th>\n",
       "      <th>revenue_MEUR</th>\n",
       "      <th>energy_consump_GJ</th>\n",
       "      <th>water_withdraw_thm3</th>\n",
       "      <th>ghg_emis_kt</th>\n",
       "      <th>transport_emis_kt</th>\n",
       "      <th>ghg_emis_per_MEUR_revenue</th>\n",
       "      <th>water_withdraw_per_MEUR_revenue</th>\n",
       "    </tr>\n",
       "  </thead>\n",
       "  <tbody>\n",
       "    <tr>\n",
       "      <th>count</th>\n",
       "      <td>1,837.00</td>\n",
       "      <td>1,837.00</td>\n",
       "      <td>1,837.00</td>\n",
       "      <td>1,837.00</td>\n",
       "      <td>1,837.00</td>\n",
       "      <td>1,802.00</td>\n",
       "      <td>1,109.00</td>\n",
       "      <td>648.00</td>\n",
       "      <td>1,232.00</td>\n",
       "      <td>946.00</td>\n",
       "      <td>1,228.00</td>\n",
       "      <td>646.00</td>\n",
       "    </tr>\n",
       "    <tr>\n",
       "      <th>mean</th>\n",
       "      <td>2,020.43</td>\n",
       "      <td>0.61</td>\n",
       "      <td>0.33</td>\n",
       "      <td>2,019.13</td>\n",
       "      <td>0.40</td>\n",
       "      <td>2,476.33</td>\n",
       "      <td>11,051,733.20</td>\n",
       "      <td>259,321.08</td>\n",
       "      <td>6,633,063.26</td>\n",
       "      <td>1,290,251.09</td>\n",
       "      <td>2,396.50</td>\n",
       "      <td>614.96</td>\n",
       "    </tr>\n",
       "    <tr>\n",
       "      <th>std</th>\n",
       "      <td>1.11</td>\n",
       "      <td>0.49</td>\n",
       "      <td>0.47</td>\n",
       "      <td>0.51</td>\n",
       "      <td>0.49</td>\n",
       "      <td>7,014.54</td>\n",
       "      <td>48,349,169.42</td>\n",
       "      <td>2,979,205.87</td>\n",
       "      <td>152,416,032.97</td>\n",
       "      <td>39,340,312.81</td>\n",
       "      <td>53,105.08</td>\n",
       "      <td>12,379.17</td>\n",
       "    </tr>\n",
       "    <tr>\n",
       "      <th>min</th>\n",
       "      <td>2,019.00</td>\n",
       "      <td>0.00</td>\n",
       "      <td>0.00</td>\n",
       "      <td>2,019.00</td>\n",
       "      <td>0.00</td>\n",
       "      <td>0.03</td>\n",
       "      <td>0.05</td>\n",
       "      <td>0.00</td>\n",
       "      <td>0.00</td>\n",
       "      <td>0.00</td>\n",
       "      <td>0.00</td>\n",
       "      <td>0.00</td>\n",
       "    </tr>\n",
       "    <tr>\n",
       "      <th>25%</th>\n",
       "      <td>2,019.00</td>\n",
       "      <td>0.00</td>\n",
       "      <td>0.00</td>\n",
       "      <td>2,019.00</td>\n",
       "      <td>0.00</td>\n",
       "      <td>217.10</td>\n",
       "      <td>60,449.40</td>\n",
       "      <td>100.89</td>\n",
       "      <td>1.89</td>\n",
       "      <td>2.62</td>\n",
       "      <td>0.00</td>\n",
       "      <td>0.07</td>\n",
       "    </tr>\n",
       "    <tr>\n",
       "      <th>50%</th>\n",
       "      <td>2,020.00</td>\n",
       "      <td>1.00</td>\n",
       "      <td>0.00</td>\n",
       "      <td>2,019.00</td>\n",
       "      <td>0.00</td>\n",
       "      <td>601.58</td>\n",
       "      <td>423,277.92</td>\n",
       "      <td>562.18</td>\n",
       "      <td>16.37</td>\n",
       "      <td>25.03</td>\n",
       "      <td>0.01</td>\n",
       "      <td>0.41</td>\n",
       "    </tr>\n",
       "    <tr>\n",
       "      <th>75%</th>\n",
       "      <td>2,021.00</td>\n",
       "      <td>1.00</td>\n",
       "      <td>1.00</td>\n",
       "      <td>2,019.00</td>\n",
       "      <td>1.00</td>\n",
       "      <td>1,912.40</td>\n",
       "      <td>2,420,142.00</td>\n",
       "      <td>5,754.50</td>\n",
       "      <td>137.67</td>\n",
       "      <td>389.67</td>\n",
       "      <td>0.07</td>\n",
       "      <td>4.27</td>\n",
       "    </tr>\n",
       "    <tr>\n",
       "      <th>max</th>\n",
       "      <td>2,022.00</td>\n",
       "      <td>1.00</td>\n",
       "      <td>1.00</td>\n",
       "      <td>2,022.00</td>\n",
       "      <td>1.00</td>\n",
       "      <td>143,208.96</td>\n",
       "      <td>489,600,000.00</td>\n",
       "      <td>63,372,912.00</td>\n",
       "      <td>4,834,768,000.00</td>\n",
       "      <td>1,210,000,000.00</td>\n",
       "      <td>1,653,973.29</td>\n",
       "      <td>312,843.68</td>\n",
       "    </tr>\n",
       "  </tbody>\n",
       "</table>\n",
       "</div>"
      ],
      "text/plain": [
       "          year  csrd_2025  csrd_2027  base_year  external_audit_of_ESG_report  \\\n",
       "count 1,837.00   1,837.00   1,837.00   1,837.00                      1,837.00   \n",
       "mean  2,020.43       0.61       0.33   2,019.13                          0.40   \n",
       "std       1.11       0.49       0.47       0.51                          0.49   \n",
       "min   2,019.00       0.00       0.00   2,019.00                          0.00   \n",
       "25%   2,019.00       0.00       0.00   2,019.00                          0.00   \n",
       "50%   2,020.00       1.00       0.00   2,019.00                          0.00   \n",
       "75%   2,021.00       1.00       1.00   2,019.00                          1.00   \n",
       "max   2,022.00       1.00       1.00   2,022.00                          1.00   \n",
       "\n",
       "       revenue_MEUR  energy_consump_GJ  water_withdraw_thm3      ghg_emis_kt  \\\n",
       "count      1,802.00           1,109.00               648.00         1,232.00   \n",
       "mean       2,476.33      11,051,733.20           259,321.08     6,633,063.26   \n",
       "std        7,014.54      48,349,169.42         2,979,205.87   152,416,032.97   \n",
       "min            0.03               0.05                 0.00             0.00   \n",
       "25%          217.10          60,449.40               100.89             1.89   \n",
       "50%          601.58         423,277.92               562.18            16.37   \n",
       "75%        1,912.40       2,420,142.00             5,754.50           137.67   \n",
       "max      143,208.96     489,600,000.00        63,372,912.00 4,834,768,000.00   \n",
       "\n",
       "       transport_emis_kt  ghg_emis_per_MEUR_revenue  \\\n",
       "count             946.00                   1,228.00   \n",
       "mean        1,290,251.09                   2,396.50   \n",
       "std        39,340,312.81                  53,105.08   \n",
       "min                 0.00                       0.00   \n",
       "25%                 2.62                       0.00   \n",
       "50%                25.03                       0.01   \n",
       "75%               389.67                       0.07   \n",
       "max     1,210,000,000.00               1,653,973.29   \n",
       "\n",
       "       water_withdraw_per_MEUR_revenue  \n",
       "count                           646.00  \n",
       "mean                            614.96  \n",
       "std                          12,379.17  \n",
       "min                               0.00  \n",
       "25%                               0.07  \n",
       "50%                               0.41  \n",
       "75%                               4.27  \n",
       "max                         312,843.68  "
      ]
     },
     "execution_count": 4,
     "metadata": {},
     "output_type": "execute_result"
    }
   ],
   "source": [
    "impact_df.describe()"
   ]
  },
  {
   "cell_type": "code",
   "execution_count": 5,
   "metadata": {},
   "outputs": [
    {
     "data": {
      "text/html": [
       "<div>\n",
       "<style scoped>\n",
       "    .dataframe tbody tr th:only-of-type {\n",
       "        vertical-align: middle;\n",
       "    }\n",
       "\n",
       "    .dataframe tbody tr th {\n",
       "        vertical-align: top;\n",
       "    }\n",
       "\n",
       "    .dataframe thead th {\n",
       "        text-align: right;\n",
       "    }\n",
       "</style>\n",
       "<table border=\"1\" class=\"dataframe\">\n",
       "  <thead>\n",
       "    <tr style=\"text-align: right;\">\n",
       "      <th></th>\n",
       "      <th>company</th>\n",
       "      <th>ticker</th>\n",
       "      <th>year</th>\n",
       "      <th>csrd_2025</th>\n",
       "      <th>csrd_2027</th>\n",
       "      <th>segment</th>\n",
       "      <th>industry</th>\n",
       "      <th>hq_country</th>\n",
       "      <th>base_year</th>\n",
       "      <th>external_audit_of_ESG_report</th>\n",
       "      <th>revenue_MEUR</th>\n",
       "      <th>energy_consump_GJ</th>\n",
       "      <th>water_withdraw_thm3</th>\n",
       "      <th>ghg_emis_kt</th>\n",
       "      <th>transport_emis_kt</th>\n",
       "      <th>ghg_emis_per_MEUR_revenue</th>\n",
       "      <th>water_withdraw_per_MEUR_revenue</th>\n",
       "    </tr>\n",
       "  </thead>\n",
       "  <tbody>\n",
       "    <tr>\n",
       "      <th>0</th>\n",
       "      <td>Archer Ltd.</td>\n",
       "      <td>ARCHO</td>\n",
       "      <td>2020</td>\n",
       "      <td>1</td>\n",
       "      <td>0</td>\n",
       "      <td>Mid</td>\n",
       "      <td>Energy</td>\n",
       "      <td>Norway</td>\n",
       "      <td>2020</td>\n",
       "      <td>1</td>\n",
       "      <td>735.71</td>\n",
       "      <td>459,927.00</td>\n",
       "      <td>NaN</td>\n",
       "      <td>NaN</td>\n",
       "      <td>NaN</td>\n",
       "      <td>NaN</td>\n",
       "      <td>NaN</td>\n",
       "    </tr>\n",
       "    <tr>\n",
       "      <th>1</th>\n",
       "      <td>AutoStore Holdings Ltd.</td>\n",
       "      <td>AUTO</td>\n",
       "      <td>2021</td>\n",
       "      <td>0</td>\n",
       "      <td>1</td>\n",
       "      <td>Large</td>\n",
       "      <td>Industrial Goods and Services</td>\n",
       "      <td>Bermuda</td>\n",
       "      <td>2021</td>\n",
       "      <td>0</td>\n",
       "      <td>292.50</td>\n",
       "      <td>NaN</td>\n",
       "      <td>NaN</td>\n",
       "      <td>0.74</td>\n",
       "      <td>371.92</td>\n",
       "      <td>0.00</td>\n",
       "      <td>NaN</td>\n",
       "    </tr>\n",
       "    <tr>\n",
       "      <th>2</th>\n",
       "      <td>Avance Gas Holding ltd</td>\n",
       "      <td>AGAS</td>\n",
       "      <td>2019</td>\n",
       "      <td>0</td>\n",
       "      <td>1</td>\n",
       "      <td>Mid</td>\n",
       "      <td>Energy</td>\n",
       "      <td>Norway</td>\n",
       "      <td>2019</td>\n",
       "      <td>0</td>\n",
       "      <td>223.59</td>\n",
       "      <td>NaN</td>\n",
       "      <td>NaN</td>\n",
       "      <td>NaN</td>\n",
       "      <td>NaN</td>\n",
       "      <td>NaN</td>\n",
       "      <td>NaN</td>\n",
       "    </tr>\n",
       "    <tr>\n",
       "      <th>3</th>\n",
       "      <td>Avance Gas Holding ltd</td>\n",
       "      <td>AGAS</td>\n",
       "      <td>2020</td>\n",
       "      <td>0</td>\n",
       "      <td>0</td>\n",
       "      <td>Mid</td>\n",
       "      <td>Energy</td>\n",
       "      <td>Norway</td>\n",
       "      <td>2019</td>\n",
       "      <td>1</td>\n",
       "      <td>183.68</td>\n",
       "      <td>5,934,145.00</td>\n",
       "      <td>NaN</td>\n",
       "      <td>NaN</td>\n",
       "      <td>NaN</td>\n",
       "      <td>NaN</td>\n",
       "      <td>NaN</td>\n",
       "    </tr>\n",
       "    <tr>\n",
       "      <th>4</th>\n",
       "      <td>Borr Drilling Ltd</td>\n",
       "      <td>BDRILL</td>\n",
       "      <td>2019</td>\n",
       "      <td>1</td>\n",
       "      <td>0</td>\n",
       "      <td>Mid</td>\n",
       "      <td>Energy</td>\n",
       "      <td>Bermuda</td>\n",
       "      <td>2019</td>\n",
       "      <td>0</td>\n",
       "      <td>291.85</td>\n",
       "      <td>1,980,428.40</td>\n",
       "      <td>NaN</td>\n",
       "      <td>150.78</td>\n",
       "      <td>43.67</td>\n",
       "      <td>0.52</td>\n",
       "      <td>NaN</td>\n",
       "    </tr>\n",
       "  </tbody>\n",
       "</table>\n",
       "</div>"
      ],
      "text/plain": [
       "                   company  ticker  year  csrd_2025  csrd_2027 segment  \\\n",
       "0              Archer Ltd.   ARCHO  2020          1          0     Mid   \n",
       "1  AutoStore Holdings Ltd.    AUTO  2021          0          1   Large   \n",
       "2   Avance Gas Holding ltd    AGAS  2019          0          1     Mid   \n",
       "3   Avance Gas Holding ltd    AGAS  2020          0          0     Mid   \n",
       "4        Borr Drilling Ltd  BDRILL  2019          1          0     Mid   \n",
       "\n",
       "                        industry hq_country  base_year  \\\n",
       "0                         Energy     Norway       2020   \n",
       "1  Industrial Goods and Services    Bermuda       2021   \n",
       "2                         Energy     Norway       2019   \n",
       "3                         Energy     Norway       2019   \n",
       "4                         Energy    Bermuda       2019   \n",
       "\n",
       "   external_audit_of_ESG_report  revenue_MEUR  energy_consump_GJ  \\\n",
       "0                             1        735.71         459,927.00   \n",
       "1                             0        292.50                NaN   \n",
       "2                             0        223.59                NaN   \n",
       "3                             1        183.68       5,934,145.00   \n",
       "4                             0        291.85       1,980,428.40   \n",
       "\n",
       "   water_withdraw_thm3  ghg_emis_kt  transport_emis_kt  \\\n",
       "0                  NaN          NaN                NaN   \n",
       "1                  NaN         0.74             371.92   \n",
       "2                  NaN          NaN                NaN   \n",
       "3                  NaN          NaN                NaN   \n",
       "4                  NaN       150.78              43.67   \n",
       "\n",
       "   ghg_emis_per_MEUR_revenue  water_withdraw_per_MEUR_revenue  \n",
       "0                        NaN                              NaN  \n",
       "1                       0.00                              NaN  \n",
       "2                        NaN                              NaN  \n",
       "3                        NaN                              NaN  \n",
       "4                       0.52                              NaN  "
      ]
     },
     "execution_count": 5,
     "metadata": {},
     "output_type": "execute_result"
    }
   ],
   "source": [
    "impact_df.head()"
   ]
  },
  {
   "cell_type": "markdown",
   "metadata": {},
   "source": [
    "## Further cleaning"
   ]
  },
  {
   "cell_type": "code",
   "execution_count": 6,
   "metadata": {},
   "outputs": [
    {
     "data": {
      "text/html": [
       "<div>\n",
       "<style scoped>\n",
       "    .dataframe tbody tr th:only-of-type {\n",
       "        vertical-align: middle;\n",
       "    }\n",
       "\n",
       "    .dataframe tbody tr th {\n",
       "        vertical-align: top;\n",
       "    }\n",
       "\n",
       "    .dataframe thead th {\n",
       "        text-align: right;\n",
       "    }\n",
       "</style>\n",
       "<table border=\"1\" class=\"dataframe\">\n",
       "  <thead>\n",
       "    <tr style=\"text-align: right;\">\n",
       "      <th></th>\n",
       "      <th>count</th>\n",
       "      <th>mean</th>\n",
       "      <th>std</th>\n",
       "      <th>min</th>\n",
       "      <th>25%</th>\n",
       "      <th>50%</th>\n",
       "      <th>75%</th>\n",
       "      <th>max</th>\n",
       "    </tr>\n",
       "    <tr>\n",
       "      <th>segment</th>\n",
       "      <th></th>\n",
       "      <th></th>\n",
       "      <th></th>\n",
       "      <th></th>\n",
       "      <th></th>\n",
       "      <th></th>\n",
       "      <th></th>\n",
       "      <th></th>\n",
       "    </tr>\n",
       "  </thead>\n",
       "  <tbody>\n",
       "    <tr>\n",
       "      <th>Large</th>\n",
       "      <td>1,015.00</td>\n",
       "      <td>3,987.52</td>\n",
       "      <td>9,022.35</td>\n",
       "      <td>1.95</td>\n",
       "      <td>409.41</td>\n",
       "      <td>1,313.80</td>\n",
       "      <td>3,726.17</td>\n",
       "      <td>143,208.96</td>\n",
       "    </tr>\n",
       "    <tr>\n",
       "      <th>Mid</th>\n",
       "      <td>777.00</td>\n",
       "      <td>527.22</td>\n",
       "      <td>992.48</td>\n",
       "      <td>0.03</td>\n",
       "      <td>102.82</td>\n",
       "      <td>304.23</td>\n",
       "      <td>649.11</td>\n",
       "      <td>20,718.00</td>\n",
       "    </tr>\n",
       "    <tr>\n",
       "      <th>Small</th>\n",
       "      <td>10.00</td>\n",
       "      <td>537.90</td>\n",
       "      <td>428.82</td>\n",
       "      <td>12.28</td>\n",
       "      <td>108.39</td>\n",
       "      <td>602.97</td>\n",
       "      <td>823.31</td>\n",
       "      <td>1,194.64</td>\n",
       "    </tr>\n",
       "  </tbody>\n",
       "</table>\n",
       "</div>"
      ],
      "text/plain": [
       "           count     mean      std   min    25%      50%      75%        max\n",
       "segment                                                                     \n",
       "Large   1,015.00 3,987.52 9,022.35  1.95 409.41 1,313.80 3,726.17 143,208.96\n",
       "Mid       777.00   527.22   992.48  0.03 102.82   304.23   649.11  20,718.00\n",
       "Small      10.00   537.90   428.82 12.28 108.39   602.97   823.31   1,194.64"
      ]
     },
     "execution_count": 6,
     "metadata": {},
     "output_type": "execute_result"
    }
   ],
   "source": [
    "impact_df.groupby(\"segment\")[\"revenue_MEUR\"].describe()"
   ]
  },
  {
   "cell_type": "markdown",
   "metadata": {},
   "source": [
    "# First, visualise..."
   ]
  },
  {
   "cell_type": "code",
   "execution_count": 7,
   "metadata": {},
   "outputs": [],
   "source": [
    "from typing import Tuple, Union, Optional, List, Dict\n",
    "\n",
    "\n",
    "def calculate_bins_for_eda(\n",
    "    data: pd.Series,\n",
    ") -> Tuple[Union[float, int], Union[float, int], Union[float, int], int]:\n",
    "    \"\"\"\n",
    "    Calculates bin parameters for numeric and categorical data.\n",
    "\n",
    "    Parameters:\n",
    "        data (pd.Series): A Pandas Series (column) to calculate bins for.\n",
    "\n",
    "    Returns:\n",
    "        Tuple[Union[float, int], Union[float, int], Union[float, int], int]:\n",
    "            - bin_start (float or int): The start of the bins (always 0 for numeric data).\n",
    "            - bin_end (float or int): The end of the bins.\n",
    "            - bin_size (float or int): The size of each bin (always 1 for categorical data).\n",
    "            - n_bins (int): The number of bins.\n",
    "    \"\"\"\n",
    "    if isinstance(data.dtype, pd.CategoricalDtype) or pd.api.types.is_object_dtype(\n",
    "        data\n",
    "    ):\n",
    "        unique_values: int = len(data.unique())\n",
    "        bin_start: int = 0\n",
    "        bin_end: int = unique_values\n",
    "        bin_size: int = 1\n",
    "        n_bins: int = unique_values\n",
    "    else:\n",
    "        data = data.dropna()\n",
    "        if data.empty:\n",
    "            return 0, 1, 1, 1\n",
    "\n",
    "        data_min: float = max(0, data.min())\n",
    "        data_max: float = data.max()\n",
    "        data_range: float = data_max - data_min\n",
    "\n",
    "        n_bins: int = min(50, len(data.unique()))  # maximum of 20 bins\n",
    "        bin_size: float = max(1, round(data_range / n_bins))  # avoid zero-sized bins\n",
    "\n",
    "        # Adjust bin size to a more rounded number (e.g., 1, 2, 5, 10, etc.)\n",
    "        if bin_size >= 10:\n",
    "            scale = 10 ** (len(str(int(bin_size))) - 1)\n",
    "            bin_size = round(bin_size / scale) * scale\n",
    "\n",
    "        bin_start: float = 0\n",
    "        bin_end: float = np.ceil(data_max / bin_size) * bin_size\n",
    "\n",
    "    return bin_start, bin_end, bin_size, n_bins"
   ]
  },
  {
   "cell_type": "code",
   "execution_count": 8,
   "metadata": {},
   "outputs": [],
   "source": [
    "import pandas as pd\n",
    "import numpy as np\n",
    "import plotly.graph_objects as go\n",
    "from plotly.subplots import make_subplots\n",
    "\n",
    "# Define discrete columns outside the function for flexibility\n",
    "columns_to_include = [\n",
    "    # \"year\",\n",
    "    # \"segment\",\n",
    "    # \"industry\",\n",
    "    # \"hq_country\",\n",
    "    # \"external_audit_of_ESG_report\",\n",
    "    # \"base_year\",\n",
    "    \"revenue_MEUR\",\n",
    "    \"energy_consump_GJ\",\n",
    "    \"water_withdraw_thm3\",\n",
    "    \"ghg_emis_kt\",\n",
    "    \"transport_emis_kt\",\n",
    "    \"ghg_emis_per_MEUR_revenue\",\n",
    "    \"water_withdraw_per_MEUR_revenue\",\n",
    "]\n",
    "\n",
    "\n",
    "def chart_visualisations(\n",
    "    df: pd.DataFrame,\n",
    "    columns_to_include: list,\n",
    "    legend_column: str = None,\n",
    "    n_cols: int = 3,\n",
    ") -> go.Figure:\n",
    "    \"\"\"\n",
    "    Creates a 3-column subplot visualization for the provided DataFrame columns,\n",
    "    displaying a histogram (with quantile-defined bins) for each column.\n",
    "\n",
    "    Parameters:\n",
    "    ----------\n",
    "    df : pd.DataFrame\n",
    "        The input DataFrame containing the data to visualize.\n",
    "\n",
    "    columns_to_include : list\n",
    "        A list of columns to visualize.\n",
    "\n",
    "    legend_column : str, optional\n",
    "        The name of the column that differentiates the data groups. If None, no grouping is applied.\n",
    "\n",
    "    n_cols : int, optional\n",
    "        The number of columns in the subplot layout.\n",
    "\n",
    "    Returns:\n",
    "    -------\n",
    "    go.Figure\n",
    "        The Plotly figure object containing the histograms.\n",
    "    \"\"\"\n",
    "    relevant_columns = [col for col in columns_to_include if col in df.columns]\n",
    "    n_rows = -(-len(relevant_columns) // n_cols)\n",
    "    subplot_titles = [f\"{col}\" for col in relevant_columns]\n",
    "\n",
    "    fig = make_subplots(\n",
    "        rows=n_rows,\n",
    "        cols=n_cols,\n",
    "        subplot_titles=subplot_titles,\n",
    "    )\n",
    "\n",
    "    for idx, col in enumerate(relevant_columns):\n",
    "        row_num = (idx // n_cols) + 1\n",
    "        col_num = (idx % n_cols) + 1\n",
    "\n",
    "        data = pd.to_numeric(df[col], errors=\"coerce\").dropna()\n",
    "        if data.empty:\n",
    "            continue\n",
    "\n",
    "        bin_start, bin_end, bin_size, n_bins = calculate_bins_for_eda(data)\n",
    "        bins = np.arange(bin_start, bin_end + bin_size, bin_size)\n",
    "\n",
    "        # Fix: np.histogram should count occurrences, not sum values\n",
    "        counts, _ = np.histogram(data, bins=bins)\n",
    "\n",
    "        bin_centers = (bins[:-1] + bins[1:]) / 2\n",
    "        widths = bins[1:] - bins[:-1]\n",
    "\n",
    "        fig.add_trace(\n",
    "            go.Bar(\n",
    "                x=bin_centers,\n",
    "                y=counts,  # Ensure we're plotting counts, not sums\n",
    "                width=widths,\n",
    "                name=f\"{col} Distribution\",\n",
    "                showlegend=False,\n",
    "            ),\n",
    "            row=row_num,\n",
    "            col=col_num,\n",
    "        )\n",
    "\n",
    "        fig.update_yaxes(title_text=\"Count\", row=row_num, col=col_num, showgrid=False)\n",
    "\n",
    "    fig.update_layout(\n",
    "        bargap=0,\n",
    "        showlegend=False,\n",
    "        legend_title_text=legend_column,\n",
    "        height=400 * n_rows,\n",
    "        width=1600,\n",
    "        template=\"plotly_white\",\n",
    "    )\n",
    "\n",
    "    return fig"
   ]
  },
  {
   "cell_type": "code",
   "execution_count": 9,
   "metadata": {},
   "outputs": [
    {
     "data": {
      "application/vnd.plotly.v1+json": {
       "config": {
        "plotlyServerURL": "https://plot.ly"
       },
       "data": [
        {
         "name": "revenue_MEUR Distribution",
         "showlegend": false,
         "type": "bar",
         "width": [
          3000,
          3000,
          3000,
          3000,
          3000,
          3000,
          3000,
          3000,
          3000,
          3000,
          3000,
          3000,
          3000,
          3000,
          3000,
          3000,
          3000,
          3000,
          3000,
          3000,
          3000,
          3000,
          3000,
          3000,
          3000,
          3000,
          3000,
          3000,
          3000,
          3000,
          3000,
          3000,
          3000,
          3000,
          3000,
          3000,
          3000,
          3000,
          3000,
          3000,
          3000,
          3000,
          3000,
          3000,
          3000,
          3000,
          3000,
          3000
         ],
         "x": [
          1500,
          4500,
          7500,
          10500,
          13500,
          16500,
          19500,
          22500,
          25500,
          28500,
          31500,
          34500,
          37500,
          40500,
          43500,
          46500,
          49500,
          52500,
          55500,
          58500,
          61500,
          64500,
          67500,
          70500,
          73500,
          76500,
          79500,
          82500,
          85500,
          88500,
          91500,
          94500,
          97500,
          100500,
          103500,
          106500,
          109500,
          112500,
          115500,
          118500,
          121500,
          124500,
          127500,
          130500,
          133500,
          136500,
          139500,
          142500
         ],
         "xaxis": "x",
         "y": [
          1492,
          146,
          37,
          52,
          19,
          13,
          5,
          13,
          6,
          1,
          4,
          4,
          0,
          2,
          1,
          0,
          1,
          0,
          2,
          0,
          0,
          0,
          0,
          0,
          0,
          1,
          1,
          0,
          0,
          0,
          0,
          0,
          0,
          0,
          0,
          0,
          0,
          1,
          0,
          0,
          0,
          0,
          0,
          0,
          0,
          0,
          0,
          1
         ],
         "yaxis": "y"
        },
        {
         "name": "energy_consump_GJ Distribution",
         "showlegend": false,
         "type": "bar",
         "width": [
          10000000,
          10000000,
          10000000,
          10000000,
          10000000,
          10000000,
          10000000,
          10000000,
          10000000,
          10000000,
          10000000,
          10000000,
          10000000,
          10000000,
          10000000,
          10000000,
          10000000,
          10000000,
          10000000,
          10000000,
          10000000,
          10000000,
          10000000,
          10000000,
          10000000,
          10000000,
          10000000,
          10000000,
          10000000,
          10000000,
          10000000,
          10000000,
          10000000,
          10000000,
          10000000,
          10000000,
          10000000,
          10000000,
          10000000,
          10000000,
          10000000,
          10000000,
          10000000,
          10000000,
          10000000,
          10000000,
          10000000,
          10000000,
          10000000
         ],
         "x": [
          5000000,
          15000000,
          25000000,
          35000000,
          45000000,
          55000000,
          65000000,
          75000000,
          85000000,
          95000000,
          105000000,
          115000000,
          125000000,
          135000000,
          145000000,
          155000000,
          165000000,
          175000000,
          185000000,
          195000000,
          205000000,
          215000000,
          225000000,
          235000000,
          245000000,
          255000000,
          265000000,
          275000000,
          285000000,
          295000000,
          305000000,
          315000000,
          325000000,
          335000000,
          345000000,
          355000000,
          365000000,
          375000000,
          385000000,
          395000000,
          405000000,
          415000000,
          425000000,
          435000000,
          445000000,
          455000000,
          465000000,
          475000000,
          485000000
         ],
         "xaxis": "x2",
         "y": [
          971,
          36,
          31,
          15,
          11,
          9,
          3,
          1,
          0,
          0,
          2,
          1,
          2,
          2,
          0,
          1,
          0,
          4,
          4,
          0,
          0,
          1,
          0,
          1,
          1,
          1,
          0,
          2,
          1,
          0,
          0,
          0,
          0,
          0,
          0,
          0,
          0,
          0,
          1,
          1,
          0,
          1,
          0,
          1,
          1,
          0,
          1,
          2,
          1
         ],
         "yaxis": "y2"
        },
        {
         "name": "water_withdraw_thm3 Distribution",
         "showlegend": false,
         "type": "bar",
         "width": [
          1000000,
          1000000,
          1000000,
          1000000,
          1000000,
          1000000,
          1000000,
          1000000,
          1000000,
          1000000,
          1000000,
          1000000,
          1000000,
          1000000,
          1000000,
          1000000,
          1000000,
          1000000,
          1000000,
          1000000,
          1000000,
          1000000,
          1000000,
          1000000,
          1000000,
          1000000,
          1000000,
          1000000,
          1000000,
          1000000,
          1000000,
          1000000,
          1000000,
          1000000,
          1000000,
          1000000,
          1000000,
          1000000,
          1000000,
          1000000,
          1000000,
          1000000,
          1000000,
          1000000,
          1000000,
          1000000,
          1000000,
          1000000,
          1000000,
          1000000,
          1000000,
          1000000,
          1000000,
          1000000,
          1000000,
          1000000,
          1000000,
          1000000,
          1000000,
          1000000,
          1000000,
          1000000,
          1000000,
          1000000
         ],
         "x": [
          500000,
          1500000,
          2500000,
          3500000,
          4500000,
          5500000,
          6500000,
          7500000,
          8500000,
          9500000,
          10500000,
          11500000,
          12500000,
          13500000,
          14500000,
          15500000,
          16500000,
          17500000,
          18500000,
          19500000,
          20500000,
          21500000,
          22500000,
          23500000,
          24500000,
          25500000,
          26500000,
          27500000,
          28500000,
          29500000,
          30500000,
          31500000,
          32500000,
          33500000,
          34500000,
          35500000,
          36500000,
          37500000,
          38500000,
          39500000,
          40500000,
          41500000,
          42500000,
          43500000,
          44500000,
          45500000,
          46500000,
          47500000,
          48500000,
          49500000,
          50500000,
          51500000,
          52500000,
          53500000,
          54500000,
          55500000,
          56500000,
          57500000,
          58500000,
          59500000,
          60500000,
          61500000,
          62500000,
          63500000
         ],
         "xaxis": "x3",
         "y": [
          633,
          5,
          1,
          5,
          1,
          0,
          0,
          0,
          0,
          0,
          0,
          0,
          1,
          0,
          0,
          0,
          0,
          0,
          0,
          0,
          0,
          0,
          0,
          0,
          0,
          0,
          0,
          0,
          0,
          0,
          0,
          0,
          0,
          0,
          0,
          0,
          0,
          0,
          1,
          0,
          0,
          0,
          0,
          0,
          0,
          0,
          0,
          0,
          0,
          0,
          0,
          0,
          0,
          0,
          0,
          0,
          0,
          0,
          0,
          0,
          0,
          0,
          0,
          1
         ],
         "yaxis": "y3"
        },
        {
         "name": "ghg_emis_kt Distribution",
         "showlegend": false,
         "type": "bar",
         "width": [
          100000000,
          100000000,
          100000000,
          100000000,
          100000000,
          100000000,
          100000000,
          100000000,
          100000000,
          100000000,
          100000000,
          100000000,
          100000000,
          100000000,
          100000000,
          100000000,
          100000000,
          100000000,
          100000000,
          100000000,
          100000000,
          100000000,
          100000000,
          100000000,
          100000000,
          100000000,
          100000000,
          100000000,
          100000000,
          100000000,
          100000000,
          100000000,
          100000000,
          100000000,
          100000000,
          100000000,
          100000000,
          100000000,
          100000000,
          100000000,
          100000000,
          100000000,
          100000000,
          100000000,
          100000000,
          100000000,
          100000000,
          100000000,
          100000000
         ],
         "x": [
          50000000,
          150000000,
          250000000,
          350000000,
          450000000,
          550000000,
          650000000,
          750000000,
          850000000,
          950000000,
          1050000000,
          1150000000,
          1250000000,
          1350000000,
          1450000000,
          1550000000,
          1650000000,
          1750000000,
          1850000000,
          1950000000,
          2050000000,
          2150000000,
          2250000000,
          2350000000,
          2450000000,
          2550000000,
          2650000000,
          2750000000,
          2850000000,
          2950000000,
          3050000000,
          3150000000,
          3250000000,
          3350000000,
          3450000000,
          3550000000,
          3650000000,
          3750000000,
          3850000000,
          3950000000,
          4050000000,
          4150000000,
          4250000000,
          4350000000,
          4450000000,
          4550000000,
          4650000000,
          4750000000,
          4850000000
         ],
         "xaxis": "x4",
         "y": [
          1228,
          1,
          0,
          0,
          0,
          0,
          0,
          0,
          0,
          0,
          0,
          0,
          0,
          1,
          0,
          0,
          0,
          0,
          1,
          0,
          0,
          0,
          0,
          0,
          0,
          0,
          0,
          0,
          0,
          0,
          0,
          0,
          0,
          0,
          0,
          0,
          0,
          0,
          0,
          0,
          0,
          0,
          0,
          0,
          0,
          0,
          0,
          0,
          1
         ],
         "yaxis": "y4"
        },
        {
         "name": "transport_emis_kt Distribution",
         "showlegend": false,
         "type": "bar",
         "width": [
          20000000,
          20000000,
          20000000,
          20000000,
          20000000,
          20000000,
          20000000,
          20000000,
          20000000,
          20000000,
          20000000,
          20000000,
          20000000,
          20000000,
          20000000,
          20000000,
          20000000,
          20000000,
          20000000,
          20000000,
          20000000,
          20000000,
          20000000,
          20000000,
          20000000,
          20000000,
          20000000,
          20000000,
          20000000,
          20000000,
          20000000,
          20000000,
          20000000,
          20000000,
          20000000,
          20000000,
          20000000,
          20000000,
          20000000,
          20000000,
          20000000,
          20000000,
          20000000,
          20000000,
          20000000,
          20000000,
          20000000,
          20000000,
          20000000,
          20000000,
          20000000,
          20000000,
          20000000,
          20000000,
          20000000,
          20000000,
          20000000,
          20000000,
          20000000,
          20000000,
          20000000
         ],
         "x": [
          10000000,
          30000000,
          50000000,
          70000000,
          90000000,
          110000000,
          130000000,
          150000000,
          170000000,
          190000000,
          210000000,
          230000000,
          250000000,
          270000000,
          290000000,
          310000000,
          330000000,
          350000000,
          370000000,
          390000000,
          410000000,
          430000000,
          450000000,
          470000000,
          490000000,
          510000000,
          530000000,
          550000000,
          570000000,
          590000000,
          610000000,
          630000000,
          650000000,
          670000000,
          690000000,
          710000000,
          730000000,
          750000000,
          770000000,
          790000000,
          810000000,
          830000000,
          850000000,
          870000000,
          890000000,
          910000000,
          930000000,
          950000000,
          970000000,
          990000000,
          1010000000,
          1030000000,
          1050000000,
          1070000000,
          1090000000,
          1110000000,
          1130000000,
          1150000000,
          1170000000,
          1190000000,
          1210000000
         ],
         "xaxis": "x5",
         "y": [
          945,
          0,
          0,
          0,
          0,
          0,
          0,
          0,
          0,
          0,
          0,
          0,
          0,
          0,
          0,
          0,
          0,
          0,
          0,
          0,
          0,
          0,
          0,
          0,
          0,
          0,
          0,
          0,
          0,
          0,
          0,
          0,
          0,
          0,
          0,
          0,
          0,
          0,
          0,
          0,
          0,
          0,
          0,
          0,
          0,
          0,
          0,
          0,
          0,
          0,
          0,
          0,
          0,
          0,
          0,
          0,
          0,
          0,
          0,
          0,
          1
         ],
         "yaxis": "y5"
        },
        {
         "name": "ghg_emis_per_MEUR_revenue Distribution",
         "showlegend": false,
         "type": "bar",
         "width": [
          30000,
          30000,
          30000,
          30000,
          30000,
          30000,
          30000,
          30000,
          30000,
          30000,
          30000,
          30000,
          30000,
          30000,
          30000,
          30000,
          30000,
          30000,
          30000,
          30000,
          30000,
          30000,
          30000,
          30000,
          30000,
          30000,
          30000,
          30000,
          30000,
          30000,
          30000,
          30000,
          30000,
          30000,
          30000,
          30000,
          30000,
          30000,
          30000,
          30000,
          30000,
          30000,
          30000,
          30000,
          30000,
          30000,
          30000,
          30000,
          30000,
          30000,
          30000,
          30000,
          30000,
          30000,
          30000,
          30000
         ],
         "x": [
          15000,
          45000,
          75000,
          105000,
          135000,
          165000,
          195000,
          225000,
          255000,
          285000,
          315000,
          345000,
          375000,
          405000,
          435000,
          465000,
          495000,
          525000,
          555000,
          585000,
          615000,
          645000,
          675000,
          705000,
          735000,
          765000,
          795000,
          825000,
          855000,
          885000,
          915000,
          945000,
          975000,
          1005000,
          1035000,
          1065000,
          1095000,
          1125000,
          1155000,
          1185000,
          1215000,
          1245000,
          1275000,
          1305000,
          1335000,
          1365000,
          1395000,
          1425000,
          1455000,
          1485000,
          1515000,
          1545000,
          1575000,
          1605000,
          1635000,
          1665000
         ],
         "xaxis": "x6",
         "y": [
          1223,
          2,
          0,
          0,
          0,
          0,
          0,
          0,
          0,
          0,
          0,
          0,
          0,
          0,
          0,
          0,
          1,
          0,
          0,
          0,
          0,
          0,
          0,
          1,
          0,
          0,
          0,
          0,
          0,
          0,
          0,
          0,
          0,
          0,
          0,
          0,
          0,
          0,
          0,
          0,
          0,
          0,
          0,
          0,
          0,
          0,
          0,
          0,
          0,
          0,
          0,
          0,
          0,
          0,
          0,
          1
         ],
         "yaxis": "y6"
        },
        {
         "name": "water_withdraw_per_MEUR_revenue Distribution",
         "showlegend": false,
         "type": "bar",
         "width": [
          6000,
          6000,
          6000,
          6000,
          6000,
          6000,
          6000,
          6000,
          6000,
          6000,
          6000,
          6000,
          6000,
          6000,
          6000,
          6000,
          6000,
          6000,
          6000,
          6000,
          6000,
          6000,
          6000,
          6000,
          6000,
          6000,
          6000,
          6000,
          6000,
          6000,
          6000,
          6000,
          6000,
          6000,
          6000,
          6000,
          6000,
          6000,
          6000,
          6000,
          6000,
          6000,
          6000,
          6000,
          6000,
          6000,
          6000,
          6000,
          6000,
          6000,
          6000,
          6000,
          6000
         ],
         "x": [
          3000,
          9000,
          15000,
          21000,
          27000,
          33000,
          39000,
          45000,
          51000,
          57000,
          63000,
          69000,
          75000,
          81000,
          87000,
          93000,
          99000,
          105000,
          111000,
          117000,
          123000,
          129000,
          135000,
          141000,
          147000,
          153000,
          159000,
          165000,
          171000,
          177000,
          183000,
          189000,
          195000,
          201000,
          207000,
          213000,
          219000,
          225000,
          231000,
          237000,
          243000,
          249000,
          255000,
          261000,
          267000,
          273000,
          279000,
          285000,
          291000,
          297000,
          303000,
          309000,
          315000
         ],
         "xaxis": "x7",
         "y": [
          642,
          0,
          1,
          2,
          0,
          0,
          0,
          0,
          0,
          0,
          0,
          0,
          0,
          0,
          0,
          0,
          0,
          0,
          0,
          0,
          0,
          0,
          0,
          0,
          0,
          0,
          0,
          0,
          0,
          0,
          0,
          0,
          0,
          0,
          0,
          0,
          0,
          0,
          0,
          0,
          0,
          0,
          0,
          0,
          0,
          0,
          0,
          0,
          0,
          0,
          0,
          0,
          1
         ],
         "yaxis": "y7"
        }
       ],
       "layout": {
        "annotations": [
         {
          "font": {
           "size": 16
          },
          "showarrow": false,
          "text": "revenue_MEUR",
          "x": 0.14444444444444446,
          "xanchor": "center",
          "xref": "paper",
          "y": 1,
          "yanchor": "bottom",
          "yref": "paper"
         },
         {
          "font": {
           "size": 16
          },
          "showarrow": false,
          "text": "energy_consump_GJ",
          "x": 0.5,
          "xanchor": "center",
          "xref": "paper",
          "y": 1,
          "yanchor": "bottom",
          "yref": "paper"
         },
         {
          "font": {
           "size": 16
          },
          "showarrow": false,
          "text": "water_withdraw_thm3",
          "x": 0.8555555555555556,
          "xanchor": "center",
          "xref": "paper",
          "y": 1,
          "yanchor": "bottom",
          "yref": "paper"
         },
         {
          "font": {
           "size": 16
          },
          "showarrow": false,
          "text": "ghg_emis_kt",
          "x": 0.14444444444444446,
          "xanchor": "center",
          "xref": "paper",
          "y": 0.6111111111111112,
          "yanchor": "bottom",
          "yref": "paper"
         },
         {
          "font": {
           "size": 16
          },
          "showarrow": false,
          "text": "transport_emis_kt",
          "x": 0.5,
          "xanchor": "center",
          "xref": "paper",
          "y": 0.6111111111111112,
          "yanchor": "bottom",
          "yref": "paper"
         },
         {
          "font": {
           "size": 16
          },
          "showarrow": false,
          "text": "ghg_emis_per_MEUR_revenue",
          "x": 0.8555555555555556,
          "xanchor": "center",
          "xref": "paper",
          "y": 0.6111111111111112,
          "yanchor": "bottom",
          "yref": "paper"
         },
         {
          "font": {
           "size": 16
          },
          "showarrow": false,
          "text": "water_withdraw_per_MEUR_revenue",
          "x": 0.14444444444444446,
          "xanchor": "center",
          "xref": "paper",
          "y": 0.22222222222222224,
          "yanchor": "bottom",
          "yref": "paper"
         }
        ],
        "bargap": 0,
        "height": 1200,
        "showlegend": false,
        "template": {
         "data": {
          "bar": [
           {
            "error_x": {
             "color": "#2a3f5f"
            },
            "error_y": {
             "color": "#2a3f5f"
            },
            "marker": {
             "line": {
              "color": "white",
              "width": 0.5
             },
             "pattern": {
              "fillmode": "overlay",
              "size": 10,
              "solidity": 0.2
             }
            },
            "type": "bar"
           }
          ],
          "barpolar": [
           {
            "marker": {
             "line": {
              "color": "white",
              "width": 0.5
             },
             "pattern": {
              "fillmode": "overlay",
              "size": 10,
              "solidity": 0.2
             }
            },
            "type": "barpolar"
           }
          ],
          "carpet": [
           {
            "aaxis": {
             "endlinecolor": "#2a3f5f",
             "gridcolor": "#C8D4E3",
             "linecolor": "#C8D4E3",
             "minorgridcolor": "#C8D4E3",
             "startlinecolor": "#2a3f5f"
            },
            "baxis": {
             "endlinecolor": "#2a3f5f",
             "gridcolor": "#C8D4E3",
             "linecolor": "#C8D4E3",
             "minorgridcolor": "#C8D4E3",
             "startlinecolor": "#2a3f5f"
            },
            "type": "carpet"
           }
          ],
          "choropleth": [
           {
            "colorbar": {
             "outlinewidth": 0,
             "ticks": ""
            },
            "type": "choropleth"
           }
          ],
          "contour": [
           {
            "colorbar": {
             "outlinewidth": 0,
             "ticks": ""
            },
            "colorscale": [
             [
              0,
              "#0d0887"
             ],
             [
              0.1111111111111111,
              "#46039f"
             ],
             [
              0.2222222222222222,
              "#7201a8"
             ],
             [
              0.3333333333333333,
              "#9c179e"
             ],
             [
              0.4444444444444444,
              "#bd3786"
             ],
             [
              0.5555555555555556,
              "#d8576b"
             ],
             [
              0.6666666666666666,
              "#ed7953"
             ],
             [
              0.7777777777777778,
              "#fb9f3a"
             ],
             [
              0.8888888888888888,
              "#fdca26"
             ],
             [
              1,
              "#f0f921"
             ]
            ],
            "type": "contour"
           }
          ],
          "contourcarpet": [
           {
            "colorbar": {
             "outlinewidth": 0,
             "ticks": ""
            },
            "type": "contourcarpet"
           }
          ],
          "heatmap": [
           {
            "colorbar": {
             "outlinewidth": 0,
             "ticks": ""
            },
            "colorscale": [
             [
              0,
              "#0d0887"
             ],
             [
              0.1111111111111111,
              "#46039f"
             ],
             [
              0.2222222222222222,
              "#7201a8"
             ],
             [
              0.3333333333333333,
              "#9c179e"
             ],
             [
              0.4444444444444444,
              "#bd3786"
             ],
             [
              0.5555555555555556,
              "#d8576b"
             ],
             [
              0.6666666666666666,
              "#ed7953"
             ],
             [
              0.7777777777777778,
              "#fb9f3a"
             ],
             [
              0.8888888888888888,
              "#fdca26"
             ],
             [
              1,
              "#f0f921"
             ]
            ],
            "type": "heatmap"
           }
          ],
          "heatmapgl": [
           {
            "colorbar": {
             "outlinewidth": 0,
             "ticks": ""
            },
            "colorscale": [
             [
              0,
              "#0d0887"
             ],
             [
              0.1111111111111111,
              "#46039f"
             ],
             [
              0.2222222222222222,
              "#7201a8"
             ],
             [
              0.3333333333333333,
              "#9c179e"
             ],
             [
              0.4444444444444444,
              "#bd3786"
             ],
             [
              0.5555555555555556,
              "#d8576b"
             ],
             [
              0.6666666666666666,
              "#ed7953"
             ],
             [
              0.7777777777777778,
              "#fb9f3a"
             ],
             [
              0.8888888888888888,
              "#fdca26"
             ],
             [
              1,
              "#f0f921"
             ]
            ],
            "type": "heatmapgl"
           }
          ],
          "histogram": [
           {
            "marker": {
             "pattern": {
              "fillmode": "overlay",
              "size": 10,
              "solidity": 0.2
             }
            },
            "type": "histogram"
           }
          ],
          "histogram2d": [
           {
            "colorbar": {
             "outlinewidth": 0,
             "ticks": ""
            },
            "colorscale": [
             [
              0,
              "#0d0887"
             ],
             [
              0.1111111111111111,
              "#46039f"
             ],
             [
              0.2222222222222222,
              "#7201a8"
             ],
             [
              0.3333333333333333,
              "#9c179e"
             ],
             [
              0.4444444444444444,
              "#bd3786"
             ],
             [
              0.5555555555555556,
              "#d8576b"
             ],
             [
              0.6666666666666666,
              "#ed7953"
             ],
             [
              0.7777777777777778,
              "#fb9f3a"
             ],
             [
              0.8888888888888888,
              "#fdca26"
             ],
             [
              1,
              "#f0f921"
             ]
            ],
            "type": "histogram2d"
           }
          ],
          "histogram2dcontour": [
           {
            "colorbar": {
             "outlinewidth": 0,
             "ticks": ""
            },
            "colorscale": [
             [
              0,
              "#0d0887"
             ],
             [
              0.1111111111111111,
              "#46039f"
             ],
             [
              0.2222222222222222,
              "#7201a8"
             ],
             [
              0.3333333333333333,
              "#9c179e"
             ],
             [
              0.4444444444444444,
              "#bd3786"
             ],
             [
              0.5555555555555556,
              "#d8576b"
             ],
             [
              0.6666666666666666,
              "#ed7953"
             ],
             [
              0.7777777777777778,
              "#fb9f3a"
             ],
             [
              0.8888888888888888,
              "#fdca26"
             ],
             [
              1,
              "#f0f921"
             ]
            ],
            "type": "histogram2dcontour"
           }
          ],
          "mesh3d": [
           {
            "colorbar": {
             "outlinewidth": 0,
             "ticks": ""
            },
            "type": "mesh3d"
           }
          ],
          "parcoords": [
           {
            "line": {
             "colorbar": {
              "outlinewidth": 0,
              "ticks": ""
             }
            },
            "type": "parcoords"
           }
          ],
          "pie": [
           {
            "automargin": true,
            "type": "pie"
           }
          ],
          "scatter": [
           {
            "fillpattern": {
             "fillmode": "overlay",
             "size": 10,
             "solidity": 0.2
            },
            "type": "scatter"
           }
          ],
          "scatter3d": [
           {
            "line": {
             "colorbar": {
              "outlinewidth": 0,
              "ticks": ""
             }
            },
            "marker": {
             "colorbar": {
              "outlinewidth": 0,
              "ticks": ""
             }
            },
            "type": "scatter3d"
           }
          ],
          "scattercarpet": [
           {
            "marker": {
             "colorbar": {
              "outlinewidth": 0,
              "ticks": ""
             }
            },
            "type": "scattercarpet"
           }
          ],
          "scattergeo": [
           {
            "marker": {
             "colorbar": {
              "outlinewidth": 0,
              "ticks": ""
             }
            },
            "type": "scattergeo"
           }
          ],
          "scattergl": [
           {
            "marker": {
             "colorbar": {
              "outlinewidth": 0,
              "ticks": ""
             }
            },
            "type": "scattergl"
           }
          ],
          "scattermapbox": [
           {
            "marker": {
             "colorbar": {
              "outlinewidth": 0,
              "ticks": ""
             }
            },
            "type": "scattermapbox"
           }
          ],
          "scatterpolar": [
           {
            "marker": {
             "colorbar": {
              "outlinewidth": 0,
              "ticks": ""
             }
            },
            "type": "scatterpolar"
           }
          ],
          "scatterpolargl": [
           {
            "marker": {
             "colorbar": {
              "outlinewidth": 0,
              "ticks": ""
             }
            },
            "type": "scatterpolargl"
           }
          ],
          "scatterternary": [
           {
            "marker": {
             "colorbar": {
              "outlinewidth": 0,
              "ticks": ""
             }
            },
            "type": "scatterternary"
           }
          ],
          "surface": [
           {
            "colorbar": {
             "outlinewidth": 0,
             "ticks": ""
            },
            "colorscale": [
             [
              0,
              "#0d0887"
             ],
             [
              0.1111111111111111,
              "#46039f"
             ],
             [
              0.2222222222222222,
              "#7201a8"
             ],
             [
              0.3333333333333333,
              "#9c179e"
             ],
             [
              0.4444444444444444,
              "#bd3786"
             ],
             [
              0.5555555555555556,
              "#d8576b"
             ],
             [
              0.6666666666666666,
              "#ed7953"
             ],
             [
              0.7777777777777778,
              "#fb9f3a"
             ],
             [
              0.8888888888888888,
              "#fdca26"
             ],
             [
              1,
              "#f0f921"
             ]
            ],
            "type": "surface"
           }
          ],
          "table": [
           {
            "cells": {
             "fill": {
              "color": "#EBF0F8"
             },
             "line": {
              "color": "white"
             }
            },
            "header": {
             "fill": {
              "color": "#C8D4E3"
             },
             "line": {
              "color": "white"
             }
            },
            "type": "table"
           }
          ]
         },
         "layout": {
          "annotationdefaults": {
           "arrowcolor": "#2a3f5f",
           "arrowhead": 0,
           "arrowwidth": 1
          },
          "autotypenumbers": "strict",
          "coloraxis": {
           "colorbar": {
            "outlinewidth": 0,
            "ticks": ""
           }
          },
          "colorscale": {
           "diverging": [
            [
             0,
             "#8e0152"
            ],
            [
             0.1,
             "#c51b7d"
            ],
            [
             0.2,
             "#de77ae"
            ],
            [
             0.3,
             "#f1b6da"
            ],
            [
             0.4,
             "#fde0ef"
            ],
            [
             0.5,
             "#f7f7f7"
            ],
            [
             0.6,
             "#e6f5d0"
            ],
            [
             0.7,
             "#b8e186"
            ],
            [
             0.8,
             "#7fbc41"
            ],
            [
             0.9,
             "#4d9221"
            ],
            [
             1,
             "#276419"
            ]
           ],
           "sequential": [
            [
             0,
             "#0d0887"
            ],
            [
             0.1111111111111111,
             "#46039f"
            ],
            [
             0.2222222222222222,
             "#7201a8"
            ],
            [
             0.3333333333333333,
             "#9c179e"
            ],
            [
             0.4444444444444444,
             "#bd3786"
            ],
            [
             0.5555555555555556,
             "#d8576b"
            ],
            [
             0.6666666666666666,
             "#ed7953"
            ],
            [
             0.7777777777777778,
             "#fb9f3a"
            ],
            [
             0.8888888888888888,
             "#fdca26"
            ],
            [
             1,
             "#f0f921"
            ]
           ],
           "sequentialminus": [
            [
             0,
             "#0d0887"
            ],
            [
             0.1111111111111111,
             "#46039f"
            ],
            [
             0.2222222222222222,
             "#7201a8"
            ],
            [
             0.3333333333333333,
             "#9c179e"
            ],
            [
             0.4444444444444444,
             "#bd3786"
            ],
            [
             0.5555555555555556,
             "#d8576b"
            ],
            [
             0.6666666666666666,
             "#ed7953"
            ],
            [
             0.7777777777777778,
             "#fb9f3a"
            ],
            [
             0.8888888888888888,
             "#fdca26"
            ],
            [
             1,
             "#f0f921"
            ]
           ]
          },
          "colorway": [
           "#636efa",
           "#EF553B",
           "#00cc96",
           "#ab63fa",
           "#FFA15A",
           "#19d3f3",
           "#FF6692",
           "#B6E880",
           "#FF97FF",
           "#FECB52"
          ],
          "font": {
           "color": "#2a3f5f"
          },
          "geo": {
           "bgcolor": "white",
           "lakecolor": "white",
           "landcolor": "white",
           "showlakes": true,
           "showland": true,
           "subunitcolor": "#C8D4E3"
          },
          "hoverlabel": {
           "align": "left"
          },
          "hovermode": "closest",
          "mapbox": {
           "style": "light"
          },
          "paper_bgcolor": "white",
          "plot_bgcolor": "white",
          "polar": {
           "angularaxis": {
            "gridcolor": "#EBF0F8",
            "linecolor": "#EBF0F8",
            "ticks": ""
           },
           "bgcolor": "white",
           "radialaxis": {
            "gridcolor": "#EBF0F8",
            "linecolor": "#EBF0F8",
            "ticks": ""
           }
          },
          "scene": {
           "xaxis": {
            "backgroundcolor": "white",
            "gridcolor": "#DFE8F3",
            "gridwidth": 2,
            "linecolor": "#EBF0F8",
            "showbackground": true,
            "ticks": "",
            "zerolinecolor": "#EBF0F8"
           },
           "yaxis": {
            "backgroundcolor": "white",
            "gridcolor": "#DFE8F3",
            "gridwidth": 2,
            "linecolor": "#EBF0F8",
            "showbackground": true,
            "ticks": "",
            "zerolinecolor": "#EBF0F8"
           },
           "zaxis": {
            "backgroundcolor": "white",
            "gridcolor": "#DFE8F3",
            "gridwidth": 2,
            "linecolor": "#EBF0F8",
            "showbackground": true,
            "ticks": "",
            "zerolinecolor": "#EBF0F8"
           }
          },
          "shapedefaults": {
           "line": {
            "color": "#2a3f5f"
           }
          },
          "ternary": {
           "aaxis": {
            "gridcolor": "#DFE8F3",
            "linecolor": "#A2B1C6",
            "ticks": ""
           },
           "baxis": {
            "gridcolor": "#DFE8F3",
            "linecolor": "#A2B1C6",
            "ticks": ""
           },
           "bgcolor": "white",
           "caxis": {
            "gridcolor": "#DFE8F3",
            "linecolor": "#A2B1C6",
            "ticks": ""
           }
          },
          "title": {
           "x": 0.05
          },
          "xaxis": {
           "automargin": true,
           "gridcolor": "#EBF0F8",
           "linecolor": "#EBF0F8",
           "ticks": "",
           "title": {
            "standoff": 15
           },
           "zerolinecolor": "#EBF0F8",
           "zerolinewidth": 2
          },
          "yaxis": {
           "automargin": true,
           "gridcolor": "#EBF0F8",
           "linecolor": "#EBF0F8",
           "ticks": "",
           "title": {
            "standoff": 15
           },
           "zerolinecolor": "#EBF0F8",
           "zerolinewidth": 2
          }
         }
        },
        "width": 1600,
        "xaxis": {
         "anchor": "y",
         "domain": [
          0,
          0.2888888888888889
         ]
        },
        "xaxis2": {
         "anchor": "y2",
         "domain": [
          0.35555555555555557,
          0.6444444444444445
         ]
        },
        "xaxis3": {
         "anchor": "y3",
         "domain": [
          0.7111111111111111,
          1
         ]
        },
        "xaxis4": {
         "anchor": "y4",
         "domain": [
          0,
          0.2888888888888889
         ]
        },
        "xaxis5": {
         "anchor": "y5",
         "domain": [
          0.35555555555555557,
          0.6444444444444445
         ]
        },
        "xaxis6": {
         "anchor": "y6",
         "domain": [
          0.7111111111111111,
          1
         ]
        },
        "xaxis7": {
         "anchor": "y7",
         "domain": [
          0,
          0.2888888888888889
         ]
        },
        "xaxis8": {
         "anchor": "y8",
         "domain": [
          0.35555555555555557,
          0.6444444444444445
         ]
        },
        "xaxis9": {
         "anchor": "y9",
         "domain": [
          0.7111111111111111,
          1
         ]
        },
        "yaxis": {
         "anchor": "x",
         "domain": [
          0.7777777777777778,
          1
         ],
         "showgrid": false,
         "title": {
          "text": "Count"
         }
        },
        "yaxis2": {
         "anchor": "x2",
         "domain": [
          0.7777777777777778,
          1
         ],
         "showgrid": false,
         "title": {
          "text": "Count"
         }
        },
        "yaxis3": {
         "anchor": "x3",
         "domain": [
          0.7777777777777778,
          1
         ],
         "showgrid": false,
         "title": {
          "text": "Count"
         }
        },
        "yaxis4": {
         "anchor": "x4",
         "domain": [
          0.3888888888888889,
          0.6111111111111112
         ],
         "showgrid": false,
         "title": {
          "text": "Count"
         }
        },
        "yaxis5": {
         "anchor": "x5",
         "domain": [
          0.3888888888888889,
          0.6111111111111112
         ],
         "showgrid": false,
         "title": {
          "text": "Count"
         }
        },
        "yaxis6": {
         "anchor": "x6",
         "domain": [
          0.3888888888888889,
          0.6111111111111112
         ],
         "showgrid": false,
         "title": {
          "text": "Count"
         }
        },
        "yaxis7": {
         "anchor": "x7",
         "domain": [
          0,
          0.22222222222222224
         ],
         "showgrid": false,
         "title": {
          "text": "Count"
         }
        },
        "yaxis8": {
         "anchor": "x8",
         "domain": [
          0,
          0.22222222222222224
         ]
        },
        "yaxis9": {
         "anchor": "x9",
         "domain": [
          0,
          0.22222222222222224
         ]
        }
       }
      }
     },
     "metadata": {},
     "output_type": "display_data"
    }
   ],
   "source": [
    "chart_visualisations(impact_df, columns_to_include=columns_to_include)"
   ]
  },
  {
   "cell_type": "markdown",
   "metadata": {},
   "source": [
    "Star Bulk Carriers - Rev. --> 821.365M, not 821,000\n",
    "Telenor - 9,799M\n",
    "Cloetta - 649.106"
   ]
  },
  {
   "cell_type": "code",
   "execution_count": 10,
   "metadata": {},
   "outputs": [
    {
     "data": {
      "text/html": [
       "<div>\n",
       "<style scoped>\n",
       "    .dataframe tbody tr th:only-of-type {\n",
       "        vertical-align: middle;\n",
       "    }\n",
       "\n",
       "    .dataframe tbody tr th {\n",
       "        vertical-align: top;\n",
       "    }\n",
       "\n",
       "    .dataframe thead th {\n",
       "        text-align: right;\n",
       "    }\n",
       "</style>\n",
       "<table border=\"1\" class=\"dataframe\">\n",
       "  <thead>\n",
       "    <tr style=\"text-align: right;\">\n",
       "      <th></th>\n",
       "      <th>company</th>\n",
       "      <th>ticker</th>\n",
       "      <th>year</th>\n",
       "      <th>csrd_2025</th>\n",
       "      <th>csrd_2027</th>\n",
       "      <th>segment</th>\n",
       "      <th>industry</th>\n",
       "      <th>hq_country</th>\n",
       "      <th>base_year</th>\n",
       "      <th>external_audit_of_ESG_report</th>\n",
       "      <th>revenue_MEUR</th>\n",
       "      <th>energy_consump_GJ</th>\n",
       "      <th>water_withdraw_thm3</th>\n",
       "      <th>ghg_emis_kt</th>\n",
       "      <th>transport_emis_kt</th>\n",
       "      <th>ghg_emis_per_MEUR_revenue</th>\n",
       "      <th>water_withdraw_per_MEUR_revenue</th>\n",
       "    </tr>\n",
       "  </thead>\n",
       "  <tbody>\n",
       "    <tr>\n",
       "      <th>811</th>\n",
       "      <td>Equinor ASA (formerly Statoil ASA)</td>\n",
       "      <td>EQNR</td>\n",
       "      <td>2022</td>\n",
       "      <td>1</td>\n",
       "      <td>0</td>\n",
       "      <td>Large</td>\n",
       "      <td>Energy</td>\n",
       "      <td>Norway</td>\n",
       "      <td>2019</td>\n",
       "      <td>1</td>\n",
       "      <td>143,208.96</td>\n",
       "      <td>NaN</td>\n",
       "      <td>6,000.00</td>\n",
       "      <td>11,400.00</td>\n",
       "      <td>243,000.00</td>\n",
       "      <td>0.08</td>\n",
       "      <td>0.04</td>\n",
       "    </tr>\n",
       "    <tr>\n",
       "      <th>396</th>\n",
       "      <td>Fortum Oyj</td>\n",
       "      <td>FORTUM</td>\n",
       "      <td>2021</td>\n",
       "      <td>1</td>\n",
       "      <td>0</td>\n",
       "      <td>Large</td>\n",
       "      <td>Utilities</td>\n",
       "      <td>Finland</td>\n",
       "      <td>2019</td>\n",
       "      <td>1</td>\n",
       "      <td>112,400.00</td>\n",
       "      <td>399,600,000.00</td>\n",
       "      <td>12,359,000.00</td>\n",
       "      <td>69,750.70</td>\n",
       "      <td>120,228.00</td>\n",
       "      <td>0.62</td>\n",
       "      <td>109.96</td>\n",
       "    </tr>\n",
       "    <tr>\n",
       "      <th>810</th>\n",
       "      <td>Equinor ASA (formerly Statoil ASA)</td>\n",
       "      <td>EQNR</td>\n",
       "      <td>2021</td>\n",
       "      <td>1</td>\n",
       "      <td>0</td>\n",
       "      <td>Large</td>\n",
       "      <td>Energy</td>\n",
       "      <td>Norway</td>\n",
       "      <td>2019</td>\n",
       "      <td>1</td>\n",
       "      <td>79,235.71</td>\n",
       "      <td>212,400,000.00</td>\n",
       "      <td>8,000.00</td>\n",
       "      <td>12,100.00</td>\n",
       "      <td>249,000.00</td>\n",
       "      <td>0.15</td>\n",
       "      <td>0.10</td>\n",
       "    </tr>\n",
       "    <tr>\n",
       "      <th>103</th>\n",
       "      <td>A.P. Møller -Maersk A/S</td>\n",
       "      <td>MAERSK</td>\n",
       "      <td>2022</td>\n",
       "      <td>1</td>\n",
       "      <td>0</td>\n",
       "      <td>Large</td>\n",
       "      <td>Industrial Goods and Services</td>\n",
       "      <td>Denmark</td>\n",
       "      <td>2019</td>\n",
       "      <td>0</td>\n",
       "      <td>77,425.45</td>\n",
       "      <td>447,345,000.00</td>\n",
       "      <td>916.00</td>\n",
       "      <td>34,506.00</td>\n",
       "      <td>43,451.00</td>\n",
       "      <td>0.45</td>\n",
       "      <td>0.01</td>\n",
       "    </tr>\n",
       "    <tr>\n",
       "      <th>808</th>\n",
       "      <td>Equinor ASA (formerly Statoil ASA)</td>\n",
       "      <td>EQNR</td>\n",
       "      <td>2019</td>\n",
       "      <td>1</td>\n",
       "      <td>0</td>\n",
       "      <td>Large</td>\n",
       "      <td>Energy</td>\n",
       "      <td>Norway</td>\n",
       "      <td>2019</td>\n",
       "      <td>1</td>\n",
       "      <td>56,170.54</td>\n",
       "      <td>252,000,000.00</td>\n",
       "      <td>12,000.00</td>\n",
       "      <td>14,900.00</td>\n",
       "      <td>247,000.00</td>\n",
       "      <td>0.27</td>\n",
       "      <td>0.21</td>\n",
       "    </tr>\n",
       "    <tr>\n",
       "      <th>102</th>\n",
       "      <td>A.P. Møller -Maersk A/S</td>\n",
       "      <td>MAERSK</td>\n",
       "      <td>2021</td>\n",
       "      <td>1</td>\n",
       "      <td>0</td>\n",
       "      <td>Large</td>\n",
       "      <td>Industrial Goods and Services</td>\n",
       "      <td>Denmark</td>\n",
       "      <td>2019</td>\n",
       "      <td>1</td>\n",
       "      <td>55,166.96</td>\n",
       "      <td>473,188,000.00</td>\n",
       "      <td>1,834.00</td>\n",
       "      <td>37,173.00</td>\n",
       "      <td>28,952.00</td>\n",
       "      <td>0.67</td>\n",
       "      <td>0.03</td>\n",
       "    </tr>\n",
       "    <tr>\n",
       "      <th>395</th>\n",
       "      <td>Fortum Oyj</td>\n",
       "      <td>FORTUM</td>\n",
       "      <td>2020</td>\n",
       "      <td>1</td>\n",
       "      <td>0</td>\n",
       "      <td>Large</td>\n",
       "      <td>Utilities</td>\n",
       "      <td>Finland</td>\n",
       "      <td>2019</td>\n",
       "      <td>1</td>\n",
       "      <td>49,015.00</td>\n",
       "      <td>489,600,000.00</td>\n",
       "      <td>4,967,000.00</td>\n",
       "      <td>49,632.00</td>\n",
       "      <td>27,836.40</td>\n",
       "      <td>1.01</td>\n",
       "      <td>101.34</td>\n",
       "    </tr>\n",
       "    <tr>\n",
       "      <th>593</th>\n",
       "      <td>AstraZeneca PLC</td>\n",
       "      <td>AZN</td>\n",
       "      <td>2022</td>\n",
       "      <td>1</td>\n",
       "      <td>0</td>\n",
       "      <td>Large</td>\n",
       "      <td>Health Care</td>\n",
       "      <td>United Kingdom</td>\n",
       "      <td>2019</td>\n",
       "      <td>0</td>\n",
       "      <td>42,118.71</td>\n",
       "      <td>588,963.60</td>\n",
       "      <td>3,750.00</td>\n",
       "      <td>440.24</td>\n",
       "      <td>5,884.00</td>\n",
       "      <td>0.01</td>\n",
       "      <td>0.09</td>\n",
       "    </tr>\n",
       "    <tr>\n",
       "      <th>1062</th>\n",
       "      <td>Volvo AB</td>\n",
       "      <td>VOLV</td>\n",
       "      <td>2019</td>\n",
       "      <td>1</td>\n",
       "      <td>0</td>\n",
       "      <td>Large</td>\n",
       "      <td>Industrial Goods and Services</td>\n",
       "      <td>Sweden</td>\n",
       "      <td>2019</td>\n",
       "      <td>1</td>\n",
       "      <td>41,133.12</td>\n",
       "      <td>7,624,800.00</td>\n",
       "      <td>5,706.00</td>\n",
       "      <td>324.00</td>\n",
       "      <td>NaN</td>\n",
       "      <td>0.01</td>\n",
       "      <td>0.14</td>\n",
       "    </tr>\n",
       "    <tr>\n",
       "      <th>809</th>\n",
       "      <td>Equinor ASA (formerly Statoil ASA)</td>\n",
       "      <td>EQNR</td>\n",
       "      <td>2020</td>\n",
       "      <td>1</td>\n",
       "      <td>0</td>\n",
       "      <td>Large</td>\n",
       "      <td>Energy</td>\n",
       "      <td>Norway</td>\n",
       "      <td>2019</td>\n",
       "      <td>1</td>\n",
       "      <td>40,850.89</td>\n",
       "      <td>234,000,000.00</td>\n",
       "      <td>8,000.00</td>\n",
       "      <td>13,500.00</td>\n",
       "      <td>250,000.00</td>\n",
       "      <td>0.33</td>\n",
       "      <td>0.20</td>\n",
       "    </tr>\n",
       "  </tbody>\n",
       "</table>\n",
       "</div>"
      ],
      "text/plain": [
       "                                 company  ticker  year  csrd_2025  csrd_2027  \\\n",
       "811   Equinor ASA (formerly Statoil ASA)    EQNR  2022          1          0   \n",
       "396                           Fortum Oyj  FORTUM  2021          1          0   \n",
       "810   Equinor ASA (formerly Statoil ASA)    EQNR  2021          1          0   \n",
       "103              A.P. Møller -Maersk A/S  MAERSK  2022          1          0   \n",
       "808   Equinor ASA (formerly Statoil ASA)    EQNR  2019          1          0   \n",
       "102              A.P. Møller -Maersk A/S  MAERSK  2021          1          0   \n",
       "395                           Fortum Oyj  FORTUM  2020          1          0   \n",
       "593                      AstraZeneca PLC     AZN  2022          1          0   \n",
       "1062                            Volvo AB    VOLV  2019          1          0   \n",
       "809   Equinor ASA (formerly Statoil ASA)    EQNR  2020          1          0   \n",
       "\n",
       "     segment                       industry      hq_country  base_year  \\\n",
       "811    Large                         Energy          Norway       2019   \n",
       "396    Large                      Utilities         Finland       2019   \n",
       "810    Large                         Energy          Norway       2019   \n",
       "103    Large  Industrial Goods and Services         Denmark       2019   \n",
       "808    Large                         Energy          Norway       2019   \n",
       "102    Large  Industrial Goods and Services         Denmark       2019   \n",
       "395    Large                      Utilities         Finland       2019   \n",
       "593    Large                    Health Care  United Kingdom       2019   \n",
       "1062   Large  Industrial Goods and Services          Sweden       2019   \n",
       "809    Large                         Energy          Norway       2019   \n",
       "\n",
       "      external_audit_of_ESG_report  revenue_MEUR  energy_consump_GJ  \\\n",
       "811                              1    143,208.96                NaN   \n",
       "396                              1    112,400.00     399,600,000.00   \n",
       "810                              1     79,235.71     212,400,000.00   \n",
       "103                              0     77,425.45     447,345,000.00   \n",
       "808                              1     56,170.54     252,000,000.00   \n",
       "102                              1     55,166.96     473,188,000.00   \n",
       "395                              1     49,015.00     489,600,000.00   \n",
       "593                              0     42,118.71         588,963.60   \n",
       "1062                             1     41,133.12       7,624,800.00   \n",
       "809                              1     40,850.89     234,000,000.00   \n",
       "\n",
       "      water_withdraw_thm3  ghg_emis_kt  transport_emis_kt  \\\n",
       "811              6,000.00    11,400.00         243,000.00   \n",
       "396         12,359,000.00    69,750.70         120,228.00   \n",
       "810              8,000.00    12,100.00         249,000.00   \n",
       "103                916.00    34,506.00          43,451.00   \n",
       "808             12,000.00    14,900.00         247,000.00   \n",
       "102              1,834.00    37,173.00          28,952.00   \n",
       "395          4,967,000.00    49,632.00          27,836.40   \n",
       "593              3,750.00       440.24           5,884.00   \n",
       "1062             5,706.00       324.00                NaN   \n",
       "809              8,000.00    13,500.00         250,000.00   \n",
       "\n",
       "      ghg_emis_per_MEUR_revenue  water_withdraw_per_MEUR_revenue  \n",
       "811                        0.08                             0.04  \n",
       "396                        0.62                           109.96  \n",
       "810                        0.15                             0.10  \n",
       "103                        0.45                             0.01  \n",
       "808                        0.27                             0.21  \n",
       "102                        0.67                             0.03  \n",
       "395                        1.01                           101.34  \n",
       "593                        0.01                             0.09  \n",
       "1062                       0.01                             0.14  \n",
       "809                        0.33                             0.20  "
      ]
     },
     "execution_count": 10,
     "metadata": {},
     "output_type": "execute_result"
    }
   ],
   "source": [
    "impact_df[impact_df[\"revenue_MEUR\"] > 40000].sort_values(\n",
    "    by=\"revenue_MEUR\", ascending=False\n",
    ")"
   ]
  },
  {
   "cell_type": "markdown",
   "metadata": {},
   "source": [
    "Create a column: 'GHG per EUR revenue_ranking_all_companies' - This is binned from 1 to 10 (using quartiles and calculated using only values \n",
    "from the same year)\n",
    "\n",
    "Create a column: 'GHG per EUR revenue_ranking_sector' - This is also binned from 1 to 10 (and calculated using only values from the same year)\n",
    "\n",
    "Calculate the average GHG per EUR revenue as well as IQR--apply the outlier transformation and put all outliers in the '0' bin\n",
    "\n",
    "Create a column: 'GHG per EUR revenue_ranking_all_PY' -- This is to compare to the values from the previous year\n",
    "\n",
    "Create a column: 'GHG per EUR revenue_ranking_sector_PY' -- This is to compare to the values from the previous year\n",
    "\n",
    "Create a column: '% change in GHG per EUR revenue vs PY'\n",
    "\n",
    "Create a column: '% change in GHG emissions vs PY'\n",
    "\n",
    "Create a column: 'transport emissions as a % of total emissions'\n",
    "\n",
    "Create a column: '% change in transport emissions vs PY'\n",
    "\n",
    "Create a column: 'Transport emissions as % of total emissions' (compare to sector)\n",
    "\n",
    "\n",
    "Use the bins only for GHG emissions/EUR--compare values in each bin for all columns...\n",
    "\n",
    "See how bin values vary from year to year\n",
    "\n",
    "Calculate the number of companies that have migrated from bin to bin\n",
    "\n",
    "\n",
    "\n",
    "\n",
    "\n",
    "#### Bonus columns\n",
    "\n",
    "'GHG intensity reduction % vs sector-specific targets'--normalise so make it a % above or below target\n",
    "\n",
    "'GHG intensity reduction % vs others in the sector_CY'--also normalise (and consider whether positive is good or bad)\n",
    "\n",
    "\n"
   ]
  }
 ],
 "metadata": {
  "kernelspec": {
   "display_name": "Python 3",
   "language": "python",
   "name": "python3"
  },
  "language_info": {
   "codemirror_mode": {
    "name": "ipython",
    "version": 3
   },
   "file_extension": ".py",
   "mimetype": "text/x-python",
   "name": "python",
   "nbconvert_exporter": "python",
   "pygments_lexer": "ipython3",
   "version": "3.12.9"
  }
 },
 "nbformat": 4,
 "nbformat_minor": 2
}
