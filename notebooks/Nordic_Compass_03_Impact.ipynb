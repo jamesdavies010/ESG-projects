{
 "cells": [
  {
   "cell_type": "markdown",
   "metadata": {},
   "source": [
    "Create a column: 'GHG per EUR revenue_ranking_all_companies' - This is binned from 1 to 10 (using quartiles and calculated using only values \n",
    "from the same year)\n",
    "\n",
    "Create a column: 'GHG per EUR revenue_ranking_sector' - This is also binned from 1 to 10 (and calculated using only values from the same year)\n",
    "\n",
    "Calculate the average GHG per EUR revenue as well as IQR--apply the outlier transformation and put all outliers in the '0' bin\n",
    "\n",
    "Create a column: 'GHG per EUR revenue_ranking_all_PY' -- This is to compare to the values from the previous year\n",
    "\n",
    "Create a column: 'GHG per EUR revenue_ranking_sector_PY' -- This is to compare to the values from the previous year\n",
    "\n",
    "Create a column: '% change in GHG per EUR revenue vs PY'\n",
    "\n",
    "Create a column: '% change in GHG emissions vs PY'\n",
    "\n",
    "Create a column: 'transport emissions as a % of total emissions'\n",
    "\n",
    "Create a column: '% change in transport emissions vs PY'\n",
    "\n",
    "Create a column: 'Transport emissions as % of total emissions' (compare to sector)\n",
    "\n",
    "\n",
    "Use the bins only for GHG emissions/EUR--compare values in each bin for all columns...\n",
    "\n",
    "See how bin values vary from year to year\n",
    "\n",
    "Calculate the number of companies that have migrated from bin to bin\n",
    "\n",
    "\n",
    "\n",
    "\n",
    "\n",
    "#### Bonus columns\n",
    "\n",
    "'GHG intensity reduction % vs sector-specific targets'--normalise so make it a % above or below target\n",
    "\n",
    "'GHG intensity reduction % vs others in the sector_CY'--also normalise (and consider whether positive is good or bad)\n",
    "\n",
    "\n"
   ]
  },
  {
   "cell_type": "markdown",
   "metadata": {},
   "source": [
    "<center><span style=\"font-size:30px; font-weight: bold;\">Nordic Compass Database</span></center>\n",
    "<center><span style=\"font-size:24px;\">Analysis of ESG Performance and CSRD Compliance</span></center>"
   ]
  },
  {
   "cell_type": "markdown",
   "metadata": {},
   "source": [
    "<center><span style=\"font-size:22px;\"><b>Section 3:</b> Impact analysis </span></center>"
   ]
  },
  {
   "cell_type": "markdown",
   "metadata": {},
   "source": [
    "## Introduction to this section"
   ]
  },
  {
   "cell_type": "markdown",
   "metadata": {},
   "source": [
    "## Imports"
   ]
  },
  {
   "cell_type": "code",
   "execution_count": 2,
   "metadata": {},
   "outputs": [],
   "source": [
    "import pandas as pd\n",
    "import numpy as np\n",
    "import sys\n",
    "import os\n",
    "\n",
    "pd.set_option(\"display.max_columns\", None)\n",
    "sys.path.append(os.path.abspath(\"..\"))\n",
    "# import random\n",
    "\n",
    "from functions import test_company, show_missing_values\n",
    "from IPython.display import display\n",
    "\n",
    "pd.options.display.float_format = \"{:,.2f}\".format"
   ]
  },
  {
   "cell_type": "markdown",
   "metadata": {},
   "source": [
    "## Impact (materiality)"
   ]
  },
  {
   "cell_type": "code",
   "execution_count": 3,
   "metadata": {},
   "outputs": [],
   "source": [
    "impact_df = pd.read_csv(\"../datasets/impact_df_original.csv\")"
   ]
  }
 ],
 "metadata": {
  "kernelspec": {
   "display_name": "Python 3",
   "language": "python",
   "name": "python3"
  },
  "language_info": {
   "codemirror_mode": {
    "name": "ipython",
    "version": 3
   },
   "file_extension": ".py",
   "mimetype": "text/x-python",
   "name": "python",
   "nbconvert_exporter": "python",
   "pygments_lexer": "ipython3",
   "version": "3.12.9"
  }
 },
 "nbformat": 4,
 "nbformat_minor": 2
}
